{
 "cells": [
  {
   "cell_type": "code",
   "execution_count": 3,
   "metadata": {
    "tags": []
   },
   "outputs": [],
   "source": [
    "%reload_ext autoreload\n",
    "%autoreload 2"
   ]
  },
  {
   "cell_type": "code",
   "execution_count": 4,
   "metadata": {
    "tags": []
   },
   "outputs": [],
   "source": [
    "import os\n",
    "data_dir = '/Users/loren//data/nwb_builder_test_data'\n",
    "os.environ['NWB_DATAJOINT_BASE_DIR'] = data_dir\n",
    "os.environ['KACHERY_STORAGE_DIR'] = os.path.join(data_dir, 'kachery-storage')"
   ]
  },
  {
   "cell_type": "code",
   "execution_count": 5,
   "metadata": {
    "tags": []
   },
   "outputs": [
    {
     "output_type": "stream",
     "name": "stdout",
     "text": "Connecting root@localhost:3306\n18:59:04 [I] klustakwik KlustaKwik2 version 0.2.6\n"
    }
   ],
   "source": [
    "import nwb_datajoint as nd"
   ]
  },
  {
   "cell_type": "code",
   "execution_count": 6,
   "metadata": {
    "tags": []
   },
   "outputs": [
    {
     "output_type": "stream",
     "name": "stdout",
     "text": "Computing SHA-1 and storing in kachery...\nPopulate Session...\nPopulate ExperimenterList...\nPopulate ElectrodeGroup...\nPopulate Electrode...\nPopulate Raw...\nRawPosition...\nHeadDir...\nUnable to import HeadDir: no Behavior module found in beans20190718.nwb\nSpeed...\nUnable to import Speed: no Behavior module found in beans20190718.nwb\nLinPos...\nUnable to import LinPos: no Behavior module found in beans20190718.nwb\n"
    }
   ],
   "source": [
    "nd.insert_sessions(['beans20190718.nwb'])"
   ]
  },
  {
   "cell_type": "code",
   "execution_count": 1,
   "metadata": {
    "tags": []
   },
   "outputs": [
    {
     "output_type": "error",
     "ename": "NameError",
     "evalue": "name 'nd' is not defined",
     "traceback": [
      "\u001b[0;31m---------------------------------------------------------------------------\u001b[0m",
      "\u001b[0;31mNameError\u001b[0m                                 Traceback (most recent call last)",
      "\u001b[0;32m<ipython-input-1-31b829835a4a>\u001b[0m in \u001b[0;36m<module>\u001b[0;34m\u001b[0m\n\u001b[0;32m----> 1\u001b[0;31m \u001b[0mnd\u001b[0m\u001b[0;34m.\u001b[0m\u001b[0mcommon\u001b[0m\u001b[0;34m.\u001b[0m\u001b[0mSession\u001b[0m\u001b[0;34m(\u001b[0m\u001b[0;34m)\u001b[0m\u001b[0;34m.\u001b[0m\u001b[0mfetch\u001b[0m\u001b[0;34m(\u001b[0m\u001b[0;34m)\u001b[0m\u001b[0;34m\u001b[0m\u001b[0;34m\u001b[0m\u001b[0m\n\u001b[0m",
      "\u001b[0;31mNameError\u001b[0m: name 'nd' is not defined"
     ]
    }
   ],
   "source": [
    "nd.common.Session().fetch()"
   ]
  },
  {
   "cell_type": "code",
   "execution_count": 7,
   "metadata": {},
   "outputs": [
    {
     "output_type": "execute_result",
     "data": {
      "text/plain": "*probe_type    probe_descript num_shanks     contact_side_n\n+------------+ +------------+ +------------+ +------------+\n128c-4s8mm6cm- 128 channel po 4              True          \n (Total: 1)",
      "text/html": "\n        \n        <style type=\"text/css\">\n            .Relation{\n                border-collapse:collapse;\n            }\n            .Relation th{\n                background: #A0A0A0; color: #ffffff; padding:4px; border:#f0e0e0 1px solid;\n                font-weight: normal; font-family: monospace; font-size: 100%;\n            }\n            .Relation td{\n                padding:4px; border:#f0e0e0 1px solid; font-size:100%;\n            }\n            .Relation tr:nth-child(odd){\n                background: #ffffff;\n            }\n            .Relation tr:nth-child(even){\n                background: #f3f1ff;\n            }\n            /* Tooltip container */\n            .djtooltip {\n            }\n            /* Tooltip text */\n            .djtooltip .djtooltiptext {\n                visibility: hidden;\n                width: 120px;\n                background-color: black;\n                color: #fff;\n                text-align: center;\n                padding: 5px 0;\n                border-radius: 6px;\n                /* Position the tooltip text - see examples below! */\n                position: absolute;\n                z-index: 1;\n            }\n            #primary {\n                font-weight: bold;\n                color: black;\n            }\n\n            #nonprimary {\n                font-weight: normal;\n                color: white;\n            }\n\n            /* Show the tooltip text when you mouse over the tooltip container */\n            .djtooltip:hover .djtooltiptext {\n                visibility: visible;\n            }\n        </style>\n        \n        <b></b>\n            <div style=\"max-height:1000px;max-width:1500px;overflow:auto;\">\n            <table border=\"1\" class=\"Relation\">\n                <thead> <tr style=\"text-align: right;\"> <th> <div class=\"djtooltip\">\n                                <p id=\"primary\">probe_type</p>\n                                <span class=\"djtooltiptext\"></span>\n                            </div></th><th><div class=\"djtooltip\">\n                                <p id=\"nonprimary\">probe_description</p>\n                                <span class=\"djtooltiptext\">description of this probe</span>\n                            </div></th><th><div class=\"djtooltip\">\n                                <p id=\"nonprimary\">num_shanks</p>\n                                <span class=\"djtooltiptext\">number of shanks on this device</span>\n                            </div></th><th><div class=\"djtooltip\">\n                                <p id=\"nonprimary\">contact_side_numbering</p>\n                                <span class=\"djtooltiptext\">electrode numbers from contact side of the device</span>\n                            </div> </th> </tr> </thead>\n                <tbody> <tr> <td>128c-4s8mm6cm-20um-40um-sl</td>\n<td>128 channel polyimide probe</td>\n<td>4</td>\n<td>True</td> </tr> </tbody>\n            </table>\n            \n            <p>Total: 1</p></div>\n            "
     },
     "metadata": {},
     "execution_count": 7
    }
   ],
   "source": [
    "nd.common.Probe()"
   ]
  },
  {
   "cell_type": "code",
   "execution_count": 11,
   "metadata": {},
   "outputs": [
    {
     "output_type": "execute_result",
     "data": {
      "text/plain": "array([(1, 'mPFC', '', '')],\n      dtype=[('region_id', '<i8'), ('region_name', 'O'), ('subregion_name', 'O'), ('subsubregion_name', 'O')])"
     },
     "metadata": {},
     "execution_count": 11
    }
   ],
   "source": [
    "nd.common.BrainRegion().fetch()"
   ]
  },
  {
   "cell_type": "code",
   "execution_count": null,
   "metadata": {},
   "outputs": [],
   "source": []
  }
 ],
 "metadata": {
  "kernelspec": {
   "display_name": "Python 3",
   "language": "python",
   "name": "python3"
  },
  "language_info": {
   "codemirror_mode": {
    "name": "ipython",
    "version": 3
   },
   "file_extension": ".py",
   "mimetype": "text/x-python",
   "name": "python",
   "nbconvert_exporter": "python",
   "pygments_lexer": "ipython3",
   "version": "3.7.7-final"
  }
 },
 "nbformat": 4,
 "nbformat_minor": 4
}