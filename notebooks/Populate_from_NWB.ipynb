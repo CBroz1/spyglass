{
 "cells": [
  {
   "cell_type": "markdown",
   "metadata": {},
   "source": [
    "### Dropbox link for beans20190718.nwb: https://www.dropbox.com/s/srra33e0igaj5rm/beans20190718.nwb?dl=0"
   ]
  },
  {
   "cell_type": "code",
   "execution_count": 2,
   "metadata": {
    "tags": []
   },
   "outputs": [],
   "source": [
    "%reload_ext autoreload\n",
    "%autoreload 2"
   ]
  },
  {
   "cell_type": "code",
   "execution_count": 3,
   "metadata": {
    "tags": []
   },
   "outputs": [],
   "source": [
    "import os\n",
    "data_dir = '/Users/loren/data/nwb_builder_test_data'\n",
    "os.environ['NWB_DATAJOINT_BASE_DIR'] = data_dir\n",
    "os.environ['KACHERY_STORAGE_DIR'] = os.path.join(data_dir, 'kachery-storage')"
   ]
  },
  {
   "cell_type": "code",
   "execution_count": 4,
   "metadata": {
    "tags": []
   },
   "outputs": [
    {
     "name": "stdout",
     "output_type": "stream",
     "text": [
      "Connecting root@localhost:3306\n"
     ]
    }
   ],
   "source": [
    "import nwb_datajoint as nd\n",
    "import datajoint as dj"
   ]
  },
  {
   "cell_type": "code",
   "execution_count": 19,
   "metadata": {
    "tags": []
   },
   "outputs": [
    {
     "name": "stderr",
     "output_type": "stream",
     "text": [
      "/Users/loren/opt/anaconda3/envs/nwbdj/lib/python3.8/site-packages/ipykernel/ipkernel.py:287: DeprecationWarning: `should_run_async` will not call `transform_cell` automatically in the future. Please pass the result to `transformed_cell` argument and any exception that happen during thetransform in `preprocessing_exc_tuple` in IPython 7.17 and above.\n",
      "  and should_run_async(code)\n"
     ]
    },
    {
     "name": "stdout",
     "output_type": "stream",
     "text": [
      "Populate Session...\n",
      "Populate NwbfileKachery...\n",
      "Populate ExperimenterList...\n",
      "Populate ElectrodeGroup...\n",
      "Populate Electrode...\n",
      "Populate Raw...\n",
      "Populate SampleCount...\n",
      "Populate DIOEvants...\n",
      "Populate SensorData\n",
      "Populate TaskEpochs\n",
      "Populate StateScriptFile\n",
      "Populate VideoFile\n",
      "key = {'nwb_file_name': 'beans20190718.nwb', 'epoch': 1}\n",
      "01_s1\n",
      "key = {'nwb_file_name': 'beans20190718.nwb', 'epoch': 3}\n",
      "03_s2\n",
      "key = {'nwb_file_name': 'beans20190718.nwb', 'epoch': 2}\n",
      "02_r1\n",
      "key = {'nwb_file_name': 'beans20190718.nwb', 'epoch': 4}\n",
      "04_r2\n",
      "RawPosition...\n",
      "HeadDir...\n",
      "Unable to import HeadDir: no Behavior module found in beans20190718.nwb\n",
      "Speed...\n",
      "Unable to import Speed: no Behavior module found in beans20190718.nwb\n",
      "LinPos...\n",
      "Unable to import LinPos: no Behavior module found in beans20190718.nwb\n"
     ]
    }
   ],
   "source": [
    "nd.insert_sessions(['beans20190718.nwb'])"
   ]
  },
  {
   "cell_type": "code",
   "execution_count": 22,
   "metadata": {},
   "outputs": [
    {
     "data": {
      "text/plain": [
       "[{'nwb_file_name': 'beans20190718.nwb',\n",
       "  'epoch': 1,\n",
       "  'video_file_num': 0,\n",
       "  'video_file_object_id': '70f28d34-5fb8-4209-a7b5-6c72f9968b4e',\n",
       "  'video_file': 20190718_beans_01_s1.1.h264 ndx_franklab_novela.nwb_image_series.NwbImageSeries at 0x140437427072160\n",
       "  Fields:\n",
       "    comments: no comments\n",
       "    conversion: 1.0\n",
       "    data: None\n",
       "    description: video of animal behavior from epoch\n",
       "    devices: {\n",
       "      camera_device 0 <class 'ndx_franklab_novela.camera_device.CameraDevice'>\n",
       "    }\n",
       "    external_file: <HDF5 dataset \"external_file\": shape (1,), type \"|O\">\n",
       "    format: external\n",
       "    interval: 1\n",
       "    resolution: -1.0\n",
       "    starting_frame: [0]\n",
       "    timestamps: <HDF5 dataset \"timestamps\": shape (32743,), type \"<f8\">\n",
       "    timestamps_unit: seconds}]"
      ]
     },
     "execution_count": 22,
     "metadata": {},
     "output_type": "execute_result"
    }
   ],
   "source": [
    "(nd.common.VideoFile() & {'epoch': 1}).fetch_nwb()"
   ]
  },
  {
   "cell_type": "code",
   "execution_count": 12,
   "metadata": {},
   "outputs": [
    {
     "name": "stderr",
     "output_type": "stream",
     "text": [
      "/Users/loren/opt/anaconda3/envs/nwbdj/lib/python3.8/site-packages/ipykernel/ipkernel.py:287: DeprecationWarning: `should_run_async` will not call `transform_cell` automatically in the future. Please pass the result to `transformed_cell` argument and any exception that happen during thetransform in `preprocessing_exc_tuple` in IPython 7.17 and above.\n",
      "  and should_run_async(code)\n"
     ]
    },
    {
     "data": {
      "image/svg+xml": [
       "<svg xmlns=\"http://www.w3.org/2000/svg\" xmlns:xlink=\"http://www.w3.org/1999/xlink\" width=\"766pt\" height=\"256pt\" viewBox=\"0.00 0.00 766.06 256.00\">\n",
       "<g id=\"graph0\" class=\"graph\" transform=\"scale(1 1) rotate(0) translate(4 252)\">\n",
       "<title>%3</title>\n",
       "<polygon fill=\"white\" stroke=\"transparent\" points=\"-4,4 -4,-252 762.06,-252 762.06,4 -4,4\"/>\n",
       "<!-- nd.common.SpikeSortingParameters -->\n",
       "<g id=\"node1\" class=\"node\">\n",
       "<title>nd.common.SpikeSortingParameters</title>\n",
       "<g id=\"a_node1\"><a xlink:title=\"→ nd.common.SortGroup\r",
       "→ nd.common.SpikeSorterParameters\r",
       "→ nd.common.SortIntervalList\r",
       "------------------------------\r",
       "→ nd.common.IntervalList\r",
       "\">\n",
       "<polygon fill=\"#00ff00\" fill-opacity=\"0.188235\" stroke=\"#00ff00\" stroke-opacity=\"0.188235\" points=\"355.12,-35 142.94,-35 142.94,0 355.12,0 355.12,-35\"/>\n",
       "<text text-anchor=\"middle\" x=\"249.03\" y=\"-14.8\" font-family=\"arial\" font-size=\"12.00\" fill=\"darkgreen\">nd.common.SpikeSortingParameters</text>\n",
       "</a>\n",
       "</g>\n",
       "</g>\n",
       "<!-- nd.common.Session -->\n",
       "<g id=\"node2\" class=\"node\">\n",
       "<title>nd.common.Session</title>\n",
       "<g id=\"a_node2\"><a xlink:title=\"→ nd.common.Nwbfile\r",
       "------------------------------\r",
       "→ nd.common.Subject\r",
       "→ nd.common.Institution\r",
       "→ nd.common.Lab\r",
       "session_id           \r",
       "session_description  \r",
       "session_start_time   \r",
       "timestamps_reference_time \r",
       "experiment_description \r",
       "\">\n",
       "<ellipse fill=\"#00007f\" fill-opacity=\"0.250980\" stroke=\"#00007f\" stroke-opacity=\"0.250980\" cx=\"455.03\" cy=\"-159.5\" rx=\"79.92\" ry=\"17.5\"/>\n",
       "<text text-anchor=\"middle\" x=\"455.03\" y=\"-156.8\" font-family=\"arial\" font-size=\"12.00\" fill=\"#00007f\" fill-opacity=\"0.627451\">nd.common.Session</text>\n",
       "</a>\n",
       "</g>\n",
       "</g>\n",
       "<!-- nd.common.SortGroup -->\n",
       "<g id=\"node5\" class=\"node\">\n",
       "<title>nd.common.SortGroup</title>\n",
       "<g id=\"a_node5\"><a xlink:title=\"→ nd.common.Session\r",
       "sort_group_id        \r",
       "------------------------------\r",
       "sort_reference_electrode_id=-1 \r",
       "\">\n",
       "<polygon fill=\"#00ff00\" fill-opacity=\"0.188235\" stroke=\"#00ff00\" stroke-opacity=\"0.188235\" points=\"317.92,-106 180.14,-106 180.14,-71 317.92,-71 317.92,-106\"/>\n",
       "<text text-anchor=\"middle\" x=\"249.03\" y=\"-85.8\" font-family=\"arial\" font-size=\"12.00\" fill=\"darkgreen\">nd.common.SortGroup</text>\n",
       "</a>\n",
       "</g>\n",
       "</g>\n",
       "<!-- nd.common.Session&#45;&gt;nd.common.SortGroup -->\n",
       "<g id=\"edge1\" class=\"edge\">\n",
       "<title>nd.common.Session-&gt;nd.common.SortGroup</title>\n",
       "<path fill=\"none\" stroke=\"#000000\" stroke-width=\"0.75\" stroke-opacity=\"0.250980\" d=\"M413.34,-144.54C380.19,-133.43 333.71,-117.86 298.64,-106.12\"/>\n",
       "</g>\n",
       "<!-- nd.common.IntervalList -->\n",
       "<g id=\"node6\" class=\"node\">\n",
       "<title>nd.common.IntervalList</title>\n",
       "<g id=\"a_node6\"><a xlink:title=\"→ nd.common.Session\r",
       "interval_list_name   \r",
       "------------------------------\r",
       "valid_times          \r",
       "\">\n",
       "<polygon fill=\"#00ff00\" fill-opacity=\"0.188235\" stroke=\"#00ff00\" stroke-opacity=\"0.188235\" points=\"476.09,-106 335.98,-106 335.98,-71 476.09,-71 476.09,-106\"/>\n",
       "<text text-anchor=\"middle\" x=\"406.03\" y=\"-85.8\" font-family=\"arial\" font-size=\"12.00\" fill=\"darkgreen\">nd.common.IntervalList</text>\n",
       "</a>\n",
       "</g>\n",
       "</g>\n",
       "<!-- nd.common.Session&#45;&gt;nd.common.IntervalList -->\n",
       "<g id=\"edge2\" class=\"edge\">\n",
       "<title>nd.common.Session-&gt;nd.common.IntervalList</title>\n",
       "<path fill=\"none\" stroke=\"#000000\" stroke-width=\"0.75\" stroke-opacity=\"0.250980\" d=\"M443.42,-142.15C435.72,-131.31 425.65,-117.13 417.9,-106.21\"/>\n",
       "</g>\n",
       "<!-- nd.common.LFPSelection -->\n",
       "<g id=\"node8\" class=\"node\">\n",
       "<title>nd.common.LFPSelection</title>\n",
       "<g id=\"a_node8\"><a xlink:title=\"→ nd.common.Session\r",
       "\">\n",
       "<polygon fill=\"#00ff00\" fill-opacity=\"0.188235\" stroke=\"#00ff00\" stroke-opacity=\"0.188235\" points=\"685.93,-106 532.13,-106 532.13,-71 685.93,-71 685.93,-106\"/>\n",
       "<text text-anchor=\"middle\" x=\"609.03\" y=\"-85.8\" font-family=\"arial\" font-size=\"12.00\" fill=\"darkgreen\">nd.common.LFPSelection</text>\n",
       "</a>\n",
       "</g>\n",
       "</g>\n",
       "<!-- nd.common.Session&#45;&gt;nd.common.LFPSelection -->\n",
       "<g id=\"edge3\" class=\"edge\">\n",
       "<title>nd.common.Session-&gt;nd.common.LFPSelection</title>\n",
       "<path fill=\"none\" stroke=\"#000000\" stroke-width=\"2\" stroke-opacity=\"0.250980\" d=\"M488.45,-143.53C513.13,-132.47 546.72,-117.42 572.18,-106.01\"/>\n",
       "</g>\n",
       "<!-- nd.common.SortIntervalList -->\n",
       "<g id=\"node9\" class=\"node\">\n",
       "<title>nd.common.SortIntervalList</title>\n",
       "<g id=\"a_node9\"><a xlink:title=\"→ nd.common.Session\r",
       "sort_interval_list_name \r",
       "------------------------------\r",
       "sort_intervals       \r",
       "\">\n",
       "<polygon fill=\"#00ff00\" fill-opacity=\"0.188235\" stroke=\"#00ff00\" stroke-opacity=\"0.188235\" points=\"162.09,-106 -0.03,-106 -0.03,-71 162.09,-71 162.09,-106\"/>\n",
       "<text text-anchor=\"middle\" x=\"81.03\" y=\"-85.8\" font-family=\"arial\" font-size=\"12.00\" fill=\"darkgreen\">nd.common.SortIntervalList</text>\n",
       "</a>\n",
       "</g>\n",
       "</g>\n",
       "<!-- nd.common.Session&#45;&gt;nd.common.SortIntervalList -->\n",
       "<g id=\"edge4\" class=\"edge\">\n",
       "<title>nd.common.Session-&gt;nd.common.SortIntervalList</title>\n",
       "<path fill=\"none\" stroke=\"#000000\" stroke-width=\"0.75\" stroke-opacity=\"0.250980\" d=\"M396.18,-147.64C333.13,-136.01 232.63,-117.47 162.11,-104.46\"/>\n",
       "</g>\n",
       "<!-- nd.common.Raw -->\n",
       "<g id=\"node10\" class=\"node\">\n",
       "<title>nd.common.Raw</title>\n",
       "<g id=\"a_node10\"><a xlink:title=\"→ nd.common.Session\r",
       "------------------------------\r",
       "→ nd.common.IntervalList\r",
       "raw_object_id        \r",
       "sampling_rate        \r",
       "comments             \r",
       "description          \r",
       "\">\n",
       "<ellipse fill=\"#00007f\" fill-opacity=\"0.250980\" stroke=\"#00007f\" stroke-opacity=\"0.250980\" cx=\"449.03\" cy=\"-17.5\" rx=\"67.53\" ry=\"17.5\"/>\n",
       "<text text-anchor=\"middle\" x=\"449.03\" y=\"-14.8\" font-family=\"arial\" font-size=\"12.00\" fill=\"#00007f\" fill-opacity=\"0.627451\">nd.common.Raw</text>\n",
       "</a>\n",
       "</g>\n",
       "</g>\n",
       "<!-- nd.common.Session&#45;&gt;nd.common.Raw -->\n",
       "<g id=\"edge5\" class=\"edge\">\n",
       "<title>nd.common.Session-&gt;nd.common.Raw</title>\n",
       "<path fill=\"none\" stroke=\"#000000\" stroke-width=\"2\" stroke-opacity=\"0.250980\" d=\"M467.44,-141.99C474.08,-132.11 481.58,-118.99 485.03,-106 489.02,-90.97 489.64,-85.86 485.03,-71 480.84,-57.49 471.84,-44.36 463.89,-34.62\"/>\n",
       "</g>\n",
       "<!-- nd.common.LFP -->\n",
       "<g id=\"node3\" class=\"node\">\n",
       "<title>nd.common.LFP</title>\n",
       "<g id=\"a_node3\"><a xlink:title=\"→ nd.common.LFPSelection\r",
       "------------------------------\r",
       "→ nd.common.IntervalList\r",
       "→ nd.common.FirFilter\r",
       "→ nd.common.AnalysisNwbfile\r",
       "lfp_object_id        \r",
       "lfp_sampling_rate    \r",
       "\">\n",
       "<ellipse fill=\"#00007f\" fill-opacity=\"0.250980\" stroke=\"#00007f\" stroke-opacity=\"0.250980\" cx=\"609.03\" cy=\"-17.5\" rx=\"66.48\" ry=\"17.5\"/>\n",
       "<text text-anchor=\"middle\" x=\"609.03\" y=\"-14.8\" font-family=\"arial\" font-size=\"12.00\" fill=\"#00007f\" fill-opacity=\"0.627451\">nd.common.LFP</text>\n",
       "</a>\n",
       "</g>\n",
       "</g>\n",
       "<!-- nd.common.AnalysisNwbfile -->\n",
       "<g id=\"node4\" class=\"node\">\n",
       "<title>nd.common.AnalysisNwbfile</title>\n",
       "<g id=\"a_node4\"><a xlink:title=\"analysis_file_name   \r",
       "------------------------------\r",
       "→ nd.common.Nwbfile\r",
       "analysis_file_abs_path \r",
       "analysis_file_description=&quot;&quot; \r",
       "analysis_parameters=null \r",
       "\">\n",
       "<polygon fill=\"#00ff00\" fill-opacity=\"0.188235\" stroke=\"#00ff00\" stroke-opacity=\"0.188235\" points=\"758.09,-177 591.97,-177 591.97,-142 758.09,-142 758.09,-177\"/>\n",
       "<text text-anchor=\"middle\" x=\"675.03\" y=\"-156.8\" font-family=\"arial\" font-size=\"12.00\" fill=\"darkgreen\">nd.common.AnalysisNwbfile</text>\n",
       "</a>\n",
       "</g>\n",
       "</g>\n",
       "<!-- nd.common.AnalysisNwbfile&#45;&gt;nd.common.LFP -->\n",
       "<g id=\"edge6\" class=\"edge\">\n",
       "<title>nd.common.AnalysisNwbfile-&gt;nd.common.LFP</title>\n",
       "<path fill=\"none\" stroke=\"#000000\" stroke-width=\"0.75\" stroke-dasharray=\"5,2\" stroke-opacity=\"0.250980\" d=\"M685.59,-141.69C695.67,-123.29 707.61,-93.42 695.03,-71 684.84,-52.85 665.55,-40.23 647.81,-31.92\"/>\n",
       "</g>\n",
       "<!-- nd.common.SortGroup&#45;&gt;nd.common.SpikeSortingParameters -->\n",
       "<g id=\"edge7\" class=\"edge\">\n",
       "<title>nd.common.SortGroup-&gt;nd.common.SpikeSortingParameters</title>\n",
       "<path fill=\"none\" stroke=\"#000000\" stroke-width=\"0.75\" stroke-opacity=\"0.250980\" d=\"M249.03,-70.8C249.03,-59.95 249.03,-45.87 249.03,-35.05\"/>\n",
       "</g>\n",
       "<!-- nd.common.IntervalList&#45;&gt;nd.common.SpikeSortingParameters -->\n",
       "<g id=\"edge8\" class=\"edge\">\n",
       "<title>nd.common.IntervalList-&gt;nd.common.SpikeSortingParameters</title>\n",
       "<path fill=\"none\" stroke=\"#000000\" stroke-width=\"0.75\" stroke-dasharray=\"5,2\" stroke-opacity=\"0.250980\" d=\"M368.43,-70.97C343.66,-60.09 311.36,-45.89 286.6,-35.01\"/>\n",
       "</g>\n",
       "<!-- nd.common.IntervalList&#45;&gt;nd.common.LFP -->\n",
       "<g id=\"edge9\" class=\"edge\">\n",
       "<title>nd.common.IntervalList-&gt;nd.common.LFP</title>\n",
       "<path fill=\"none\" stroke=\"#000000\" stroke-width=\"0.75\" stroke-dasharray=\"5,2\" stroke-opacity=\"0.250980\" d=\"M454.65,-70.97C489.96,-58.97 537.11,-42.95 569.97,-31.78\"/>\n",
       "</g>\n",
       "<!-- nd.common.IntervalList&#45;&gt;nd.common.Raw -->\n",
       "<g id=\"edge10\" class=\"edge\">\n",
       "<title>nd.common.IntervalList-&gt;nd.common.Raw</title>\n",
       "<path fill=\"none\" stroke=\"#000000\" stroke-width=\"0.75\" stroke-dasharray=\"5,2\" stroke-opacity=\"0.250980\" d=\"M416.44,-70.8C423.2,-59.95 431.98,-45.87 438.72,-35.05\"/>\n",
       "</g>\n",
       "<!-- nd.common.Nwbfile -->\n",
       "<g id=\"node7\" class=\"node\">\n",
       "<title>nd.common.Nwbfile</title>\n",
       "<g id=\"a_node7\"><a xlink:title=\"nwb_file_name        \r",
       "------------------------------\r",
       "nwb_file_abs_path    \r",
       "\">\n",
       "<polygon fill=\"#00ff00\" fill-opacity=\"0.188235\" stroke=\"#00ff00\" stroke-opacity=\"0.188235\" points=\"605.91,-248 484.16,-248 484.16,-213 605.91,-213 605.91,-248\"/>\n",
       "<text text-anchor=\"start\" x=\"492.34\" y=\"-228.8\" font-family=\"arial\" text-decoration=\"underline\" font-size=\"12.00\" fill=\"darkgreen\">nd.common.Nwbfile</text>\n",
       "</a>\n",
       "</g>\n",
       "</g>\n",
       "<!-- nd.common.Nwbfile&#45;&gt;nd.common.Session -->\n",
       "<g id=\"edge11\" class=\"edge\">\n",
       "<title>nd.common.Nwbfile-&gt;nd.common.Session</title>\n",
       "<path fill=\"none\" stroke=\"#000000\" stroke-width=\"2\" stroke-opacity=\"0.250980\" d=\"M523.24,-212.8C508.89,-201.79 490.19,-187.45 476,-176.57\"/>\n",
       "</g>\n",
       "<!-- nd.common.Nwbfile&#45;&gt;nd.common.AnalysisNwbfile -->\n",
       "<g id=\"edge12\" class=\"edge\">\n",
       "<title>nd.common.Nwbfile-&gt;nd.common.AnalysisNwbfile</title>\n",
       "<path fill=\"none\" stroke=\"#000000\" stroke-width=\"0.75\" stroke-dasharray=\"5,2\" stroke-opacity=\"0.250980\" d=\"M576.17,-212.97C596.6,-202.13 623.23,-188 643.7,-177.13\"/>\n",
       "</g>\n",
       "<!-- nd.common.LFPSelection&#45;&gt;nd.common.LFP -->\n",
       "<g id=\"edge13\" class=\"edge\">\n",
       "<title>nd.common.LFPSelection-&gt;nd.common.LFP</title>\n",
       "<path fill=\"none\" stroke=\"#000000\" stroke-width=\"2\" stroke-opacity=\"0.250980\" d=\"M609.03,-70.8C609.03,-59.95 609.03,-45.87 609.03,-35.05\"/>\n",
       "</g>\n",
       "<!-- nd.common.SortIntervalList&#45;&gt;nd.common.SpikeSortingParameters -->\n",
       "<g id=\"edge14\" class=\"edge\">\n",
       "<title>nd.common.SortIntervalList-&gt;nd.common.SpikeSortingParameters</title>\n",
       "<path fill=\"none\" stroke=\"#000000\" stroke-width=\"0.75\" stroke-opacity=\"0.250980\" d=\"M121.27,-70.97C147.77,-60.09 182.34,-45.89 208.83,-35.01\"/>\n",
       "</g>\n",
       "</g>\n",
       "</svg>"
      ],
      "text/plain": [
       "<datajoint.diagram.Diagram at 0x7ff48370b970>"
      ]
     },
     "execution_count": 12,
     "metadata": {},
     "output_type": "execute_result"
    }
   ],
   "source": [
    "dj.Diagram(nd.common.Session())+dj.Diagram(nd.common.Nwbfile())+dj.Diagram(nd.common.Raw())+dj.Diagram(nd.common.LFP())+dj.Diagram(nd.common.SpikeSortingParameters())"
   ]
  },
  {
   "cell_type": "code",
   "execution_count": 5,
   "metadata": {
    "jupyter": {
     "source_hidden": true
    }
   },
   "outputs": [
    {
     "name": "stdout",
     "output_type": "stream",
     "text": [
      "[[1.56348899e+09 1.56349008e+09]\n",
      " [1.56349063e+09 1.56349084e+09]\n",
      " [1.56349084e+09 1.56349340e+09]\n",
      " [1.56349367e+09 1.56349502e+09]\n",
      " [1.56349543e+09 1.56349711e+09]]\n"
     ]
    },
    {
     "name": "stderr",
     "output_type": "stream",
     "text": [
      "/Users/loren/opt/anaconda3/envs/nwbdj/lib/python3.8/site-packages/ipykernel/ipkernel.py:287: DeprecationWarning: `should_run_async` will not call `transform_cell` automatically in the future. Please pass the result to `transformed_cell` argument and any exception that happen during thetransform in `preprocessing_exc_tuple` in IPython 7.17 and above.\n",
      "  and should_run_async(code)\n"
     ]
    }
   ],
   "source": [
    "a = (nd.common.IntervalList() & {'interval_list_name' : 'raw data valid times'}).fetch1('valid_times')\n",
    "print(a)\n"
   ]
  },
  {
   "cell_type": "code",
   "execution_count": 9,
   "metadata": {},
   "outputs": [
    {
     "name": "stderr",
     "output_type": "stream",
     "text": [
      "/Users/loren/opt/anaconda3/envs/nwbdj/lib/python3.8/site-packages/ipykernel/ipkernel.py:287: DeprecationWarning: `should_run_async` will not call `transform_cell` automatically in the future. Please pass the result to `transformed_cell` argument and any exception that happen during thetransform in `preprocessing_exc_tuple` in IPython 7.17 and above.\n",
      "  and should_run_async(code)\n"
     ]
    },
    {
     "data": {
      "text/html": [
       "\n",
       "        \n",
       "        <style type=\"text/css\">\n",
       "            .Relation{\n",
       "                border-collapse:collapse;\n",
       "            }\n",
       "            .Relation th{\n",
       "                background: #A0A0A0; color: #ffffff; padding:4px; border:#f0e0e0 1px solid;\n",
       "                font-weight: normal; font-family: monospace; font-size: 100%;\n",
       "            }\n",
       "            .Relation td{\n",
       "                padding:4px; border:#f0e0e0 1px solid; font-size:100%;\n",
       "            }\n",
       "            .Relation tr:nth-child(odd){\n",
       "                background: #ffffff;\n",
       "            }\n",
       "            .Relation tr:nth-child(even){\n",
       "                background: #f3f1ff;\n",
       "            }\n",
       "            /* Tooltip container */\n",
       "            .djtooltip {\n",
       "            }\n",
       "            /* Tooltip text */\n",
       "            .djtooltip .djtooltiptext {\n",
       "                visibility: hidden;\n",
       "                width: 120px;\n",
       "                background-color: black;\n",
       "                color: #fff;\n",
       "                text-align: center;\n",
       "                padding: 5px 0;\n",
       "                border-radius: 6px;\n",
       "                /* Position the tooltip text - see examples below! */\n",
       "                position: absolute;\n",
       "                z-index: 1;\n",
       "            }\n",
       "            #primary {\n",
       "                font-weight: bold;\n",
       "                color: black;\n",
       "            }\n",
       "\n",
       "            #nonprimary {\n",
       "                font-weight: normal;\n",
       "                color: white;\n",
       "            }\n",
       "\n",
       "            /* Show the tooltip text when you mouse over the tooltip container */\n",
       "            .djtooltip:hover .djtooltiptext {\n",
       "                visibility: visible;\n",
       "            }\n",
       "        </style>\n",
       "        \n",
       "        <b></b>\n",
       "            <div style=\"max-height:1000px;max-width:1500px;overflow:auto;\">\n",
       "            <table border=\"1\" class=\"Relation\">\n",
       "                <thead> <tr style=\"text-align: right;\"> <th> <div class=\"djtooltip\">\n",
       "                                <p id=\"primary\">nwb_file_name</p>\n",
       "                                <span class=\"djtooltiptext\">the name of the NWB file</span>\n",
       "                            </div></th><th><div class=\"djtooltip\">\n",
       "                                <p id=\"primary\">epoch</p>\n",
       "                                <span class=\"djtooltiptext\">the session epoch for this task and apparatus(1 based)</span>\n",
       "                            </div></th><th><div class=\"djtooltip\">\n",
       "                                <p id=\"primary\">video_file_num</p>\n",
       "                                <span class=\"djtooltiptext\"></span>\n",
       "                            </div></th><th><div class=\"djtooltip\">\n",
       "                                <p id=\"nonprimary\">video_file_object_id</p>\n",
       "                                <span class=\"djtooltiptext\">the object id of the file object</span>\n",
       "                            </div> </th> </tr> </thead>\n",
       "                <tbody> <tr>  </tr> </tbody>\n",
       "            </table>\n",
       "            \n",
       "            <p>Total: 0</p></div>\n",
       "            "
      ],
      "text/plain": [
       "*nwb_file_name *epoch    *video_file_nu video_file_obj\n",
       "+------------+ +-------+ +------------+ +------------+\n",
       "\n",
       " (Total: 0)"
      ]
     },
     "execution_count": 9,
     "metadata": {},
     "output_type": "execute_result"
    }
   ],
   "source": [
    "nd.common.VideoFile()"
   ]
  },
  {
   "cell_type": "code",
   "execution_count": 16,
   "metadata": {},
   "outputs": [],
   "source": [
    "data = (nd.common.Raw() & {'nwb_file_name' : 'beans20190718.nwb'}).fetch_nwb()"
   ]
  },
  {
   "cell_type": "code",
   "execution_count": 17,
   "metadata": {},
   "outputs": [
    {
     "data": {
      "text/plain": [
       "[{'nwb_file_name': 'beans20190718.nwb',\n",
       "  'interval_list_name': 'raw data valid times',\n",
       "  'raw_object_id': '83660030-6339-43ee-8bc8-69e81d4905f4',\n",
       "  'sampling_rate': 20000.0,\n",
       "  'comments': 'sample comment',\n",
       "  'description': 'Electrical series registered on electrode',\n",
       "  'raw': e-series pynwb.ecephys.ElectricalSeries at 0x140416502675728\n",
       "  Fields:\n",
       "    comments: sample comment\n",
       "    conversion: 1.0\n",
       "    data: <HDF5 dataset \"data\": shape (138007758, 256), type \"<i2\">\n",
       "    description: Electrical series registered on electrode\n",
       "    electrodes: electrodes <class 'hdmf.common.table.DynamicTableRegion'>\n",
       "    interval: 1\n",
       "    resolution: -1.0\n",
       "    timestamps: <HDF5 dataset \"timestamps\": shape (138007758,), type \"<f8\">\n",
       "    timestamps_unit: seconds\n",
       "    unit: volts}]"
      ]
     },
     "execution_count": 17,
     "metadata": {},
     "output_type": "execute_result"
    }
   ],
   "source": [
    "data"
   ]
  },
  {
   "cell_type": "code",
   "execution_count": 5,
   "metadata": {
    "collapsed": true,
    "jupyter": {
     "outputs_hidden": true,
     "source_hidden": true
    }
   },
   "outputs": [
    {
     "name": "stderr",
     "output_type": "stream",
     "text": [
      "[autoreload of nwb_datajoint.common.common_ephys failed: Traceback (most recent call last):\n",
      "  File \"/Users/loren/opt/anaconda3/envs/nwb_datajoint/lib/python3.7/site-packages/datajoint/declare.py\", line 142, in compile_foreign_key\n",
      "    ref = eval(result.ref_table, context)\n",
      "  File \"<string>\", line 1\n",
      "    units_object_id: varchar(40) # the object ID for the units for this sort group\n",
      "                   ^\n",
      "SyntaxError: invalid syntax\n",
      "\n",
      "During handling of the above exception, another exception occurred:\n",
      "\n",
      "Traceback (most recent call last):\n",
      "  File \"/Users/loren/opt/anaconda3/envs/nwb_datajoint/lib/python3.7/site-packages/IPython/extensions/autoreload.py\", line 245, in check\n",
      "    superreload(m, reload, self.old_objects)\n",
      "  File \"/Users/loren/opt/anaconda3/envs/nwb_datajoint/lib/python3.7/site-packages/IPython/extensions/autoreload.py\", line 394, in superreload\n",
      "    module = reload(module)\n",
      "  File \"/Users/loren/opt/anaconda3/envs/nwb_datajoint/lib/python3.7/imp.py\", line 314, in reload\n",
      "    return importlib.reload(module)\n",
      "  File \"/Users/loren/opt/anaconda3/envs/nwb_datajoint/lib/python3.7/importlib/__init__.py\", line 169, in reload\n",
      "    _bootstrap._exec(spec, module)\n",
      "  File \"<frozen importlib._bootstrap>\", line 630, in _exec\n",
      "  File \"<frozen importlib._bootstrap_external>\", line 728, in exec_module\n",
      "  File \"<frozen importlib._bootstrap>\", line 219, in _call_with_frames_removed\n",
      "  File \"/Users/loren/Src/NWB/nwb_datajoint/nwb_datajoint/common/common_ephys.py\", line 358, in <module>\n",
      "    class SpikeSorting(dj.Computed):\n",
      "  File \"/Users/loren/opt/anaconda3/envs/nwb_datajoint/lib/python3.7/site-packages/datajoint/schemas.py\", line 228, in __call__\n",
      "    context, master=cls, self=part, **{cls.__name__: cls}))\n",
      "  File \"/Users/loren/opt/anaconda3/envs/nwb_datajoint/lib/python3.7/site-packages/datajoint/schemas.py\", line 191, in process_table_class\n",
      "    instance.declare(context)\n",
      "datajoint.errors.DataJointError: Foreign key reference units_object_id: varchar(40) # the object ID for the units for this sort group could not be resolved\n",
      "]\n"
     ]
    },
    {
     "name": "stdout",
     "output_type": "stream",
     "text": [
      "`common_ephys`.`__spike_sorting` (0 tuples)\n"
     ]
    },
    {
     "name": "stdin",
     "output_type": "stream",
     "text": [
      "Proceed? [yes, No]:  yes\n"
     ]
    },
    {
     "name": "stdout",
     "output_type": "stream",
     "text": [
      "Tables dropped.  Restart kernel.\n"
     ]
    }
   ],
   "source": [
    "nd.common.SpikeSorting().drop()"
   ]
  },
  {
   "cell_type": "code",
   "execution_count": 8,
   "metadata": {
    "collapsed": true,
    "jupyter": {
     "outputs_hidden": true,
     "source_hidden": true
    },
    "tags": []
   },
   "outputs": [
    {
     "name": "stdout",
     "output_type": "stream",
     "text": [
      "About to delete:\n",
      "`common_ephys`.`l_f_p_selection__l_f_p_electrode`: 16 items\n",
      "`common_ephys`.`sort_group__sort_group_electrode`: 256 items\n",
      "`common_ephys`.`_electrode`: 256 items\n",
      "`common_ephys`.`_electrode_group`: 2 items\n",
      "`common_ephys`.`l_f_p_selection`: 1 items\n",
      "`common_ephys`.`__spike_sorting`: 1 items\n",
      "`common_ephys`.`spike_sorting_parameters`: 1 items\n",
      "`common_ephys`.`sort_group`: 8 items\n",
      "`common_behav`.`_raw_position`: 1 items\n",
      "`common_dio`.`_d_i_o_events`: 19 items\n",
      "`common_ephys`.`_raw`: 1 items\n",
      "`common_sensors`.`_sensor_data`: 1 items\n",
      "`common_task`.`_task_epoch`: 4 items\n",
      "`common_interval`.`interval_list`: 9 items\n",
      "`common_interval`.`sort_interval_list`: 1 items\n",
      "`common_session`.`_experimenter_list__experimenter`: 1 items\n",
      "`common_session`.`_experimenter_list`: 1 items\n",
      "`common_session`.`_session`: 1 items\n"
     ]
    },
    {
     "name": "stdin",
     "output_type": "stream",
     "text": [
      "Proceed? [yes, No]:  yes\n"
     ]
    },
    {
     "name": "stdout",
     "output_type": "stream",
     "text": [
      "Committed.\n",
      "`common_lab`.`nwbfile` (1 tuples)\n",
      "`common_session`.`_session` (0 tuples)\n",
      "`common_session`.`_experimenter_list` (0 tuples)\n",
      "`common_session`.`_experimenter_list__experimenter` (0 tuples)\n",
      "`common_interval`.`sort_interval_list` (0 tuples)\n",
      "`common_interval`.`interval_list` (0 tuples)\n",
      "`common_task`.`_task_epoch` (0 tuples)\n",
      "`common_sensors`.`_sensor_data` (0 tuples)\n",
      "`common_ephys`.`_raw` (0 tuples)\n",
      "`common_dio`.`_d_i_o_events` (0 tuples)\n",
      "`common_behav`.`_speed` (0 tuples)\n",
      "`common_behav`.`_raw_position` (0 tuples)\n",
      "`common_behav`.`_lin_pos` (0 tuples)\n",
      "`common_behav`.`_head_dir` (0 tuples)\n",
      "`common_ephys`.`sort_group` (0 tuples)\n",
      "`common_ephys`.`spike_sorting_parameters` (0 tuples)\n",
      "`common_ephys`.`l_f_p_selection` (0 tuples)\n",
      "`common_ephys`.`_electrode_group` (0 tuples)\n",
      "`common_ephys`.`_electrode` (0 tuples)\n",
      "`common_ephys`.`sort_group__sort_group_electrode` (0 tuples)\n",
      "`common_ephys`.`l_f_p_selection__l_f_p_electrode` (0 tuples)\n",
      "`common_lab`.`analysis_nwbfile` (1 tuples)\n",
      "`common_ephys`.`_l_f_p` (0 tuples)\n",
      "`common_ephys`.`l_f_p_band_selection` (0 tuples)\n",
      "`common_ephys`.`l_f_p_band_selection__l_f_p_band_electrode` (0 tuples)\n",
      "`common_ephys`.`__l_f_p_band` (0 tuples)\n",
      "`common_ephys`.`__spike_sorting` (0 tuples)\n"
     ]
    },
    {
     "name": "stdin",
     "output_type": "stream",
     "text": [
      "Proceed? [yes, No]:  no\n"
     ]
    }
   ],
   "source": [
    "nd.common.Session().delete()\n",
    "nd.common.Nwbfile().drop()"
   ]
  },
  {
   "cell_type": "code",
   "execution_count": 5,
   "metadata": {},
   "outputs": [
    {
     "name": "stderr",
     "output_type": "stream",
     "text": [
      "/Users/loren/opt/anaconda3/envs/nwbdj/lib/python3.8/site-packages/ipykernel/ipkernel.py:287: DeprecationWarning: `should_run_async` will not call `transform_cell` automatically in the future. Please pass the result to `transformed_cell` argument and any exception that happen during thetransform in `preprocessing_exc_tuple` in IPython 7.17 and above.\n",
      "  and should_run_async(code)\n"
     ]
    },
    {
     "name": "stdout",
     "output_type": "stream",
     "text": [
      "About to delete:\n",
      "`common_lab`.`__nwbfile_kachery`: 1 items\n",
      "`common_ephys`.`sort_group__sort_group_electrode`: 192 items\n",
      "`common_ephys`.`_electrode`: 192 items\n",
      "`common_ephys`.`_electrode_group`: 2 items\n",
      "`common_ephys`.`spike_sorting_parameters`: 2 items\n",
      "`common_ephys`.`sort_group`: 8 items\n",
      "`common_behav`.`_raw_position`: 1 items\n",
      "`common_dio`.`_d_i_o_events`: 19 items\n",
      "`common_ephys`.`_raw`: 1 items\n",
      "`common_sensors`.`_sensor_data`: 1 items\n",
      "`common_task`.`_task_epoch`: 4 items\n",
      "`common_interval`.`interval_list`: 9 items\n",
      "`common_interval`.`sort_interval_list`: 1 items\n",
      "`common_session`.`_experimenter_list__experimenter`: 1 items\n",
      "`common_session`.`_experimenter_list`: 1 items\n",
      "`common_session`.`_session`: 1 items\n",
      "`common_lab`.`nwbfile`: 1 items\n"
     ]
    },
    {
     "name": "stdin",
     "output_type": "stream",
     "text": [
      "Proceed? [yes, No]:  yes\n"
     ]
    },
    {
     "name": "stdout",
     "output_type": "stream",
     "text": [
      "Committed.\n"
     ]
    }
   ],
   "source": [
    "nd.common.Nwbfile().delete()"
   ]
  },
  {
   "cell_type": "code",
   "execution_count": 5,
   "metadata": {},
   "outputs": [
    {
     "data": {
      "text/plain": [
       "'raw data valid times'"
      ]
     },
     "execution_count": 5,
     "metadata": {},
     "output_type": "execute_result"
    }
   ],
   "source": [
    "(nd.common.Raw() & {'nwb_file_name' : 'beans20190718.nwb'}).fetch1('interval_list_name')"
   ]
  },
  {
   "cell_type": "code",
   "execution_count": 6,
   "metadata": {},
   "outputs": [
    {
     "data": {
      "text/html": [
       "\n",
       "        \n",
       "        <style type=\"text/css\">\n",
       "            .Relation{\n",
       "                border-collapse:collapse;\n",
       "            }\n",
       "            .Relation th{\n",
       "                background: #A0A0A0; color: #ffffff; padding:4px; border:#f0e0e0 1px solid;\n",
       "                font-weight: normal; font-family: monospace; font-size: 100%;\n",
       "            }\n",
       "            .Relation td{\n",
       "                padding:4px; border:#f0e0e0 1px solid; font-size:100%;\n",
       "            }\n",
       "            .Relation tr:nth-child(odd){\n",
       "                background: #ffffff;\n",
       "            }\n",
       "            .Relation tr:nth-child(even){\n",
       "                background: #f3f1ff;\n",
       "            }\n",
       "            /* Tooltip container */\n",
       "            .djtooltip {\n",
       "            }\n",
       "            /* Tooltip text */\n",
       "            .djtooltip .djtooltiptext {\n",
       "                visibility: hidden;\n",
       "                width: 120px;\n",
       "                background-color: black;\n",
       "                color: #fff;\n",
       "                text-align: center;\n",
       "                padding: 5px 0;\n",
       "                border-radius: 6px;\n",
       "                /* Position the tooltip text - see examples below! */\n",
       "                position: absolute;\n",
       "                z-index: 1;\n",
       "            }\n",
       "            #primary {\n",
       "                font-weight: bold;\n",
       "                color: black;\n",
       "            }\n",
       "\n",
       "            #nonprimary {\n",
       "                font-weight: normal;\n",
       "                color: white;\n",
       "            }\n",
       "\n",
       "            /* Show the tooltip text when you mouse over the tooltip container */\n",
       "            .djtooltip:hover .djtooltiptext {\n",
       "                visibility: visible;\n",
       "            }\n",
       "        </style>\n",
       "        \n",
       "        <b>Raw voltage timeseries data, electricalSeries in NWB</b>\n",
       "            <div style=\"max-height:1000px;max-width:1500px;overflow:auto;\">\n",
       "            <table border=\"1\" class=\"Relation\">\n",
       "                <thead> <tr style=\"text-align: right;\"> <th> <div class=\"djtooltip\">\n",
       "                                <p id=\"primary\">nwb_file_name</p>\n",
       "                                <span class=\"djtooltiptext\">the name of the NWB file</span>\n",
       "                            </div></th><th><div class=\"djtooltip\">\n",
       "                                <p id=\"nonprimary\">interval_list_name</p>\n",
       "                                <span class=\"djtooltiptext\">descriptive name of this interval list</span>\n",
       "                            </div></th><th><div class=\"djtooltip\">\n",
       "                                <p id=\"nonprimary\">raw_object_id</p>\n",
       "                                <span class=\"djtooltiptext\">the NWB object ID for loading this object from the file</span>\n",
       "                            </div></th><th><div class=\"djtooltip\">\n",
       "                                <p id=\"nonprimary\">sampling_rate</p>\n",
       "                                <span class=\"djtooltiptext\">Sampling rate calculated from data, in Hz</span>\n",
       "                            </div></th><th><div class=\"djtooltip\">\n",
       "                                <p id=\"nonprimary\">comments</p>\n",
       "                                <span class=\"djtooltiptext\"></span>\n",
       "                            </div></th><th><div class=\"djtooltip\">\n",
       "                                <p id=\"nonprimary\">description</p>\n",
       "                                <span class=\"djtooltiptext\"></span>\n",
       "                            </div> </th> </tr> </thead>\n",
       "                <tbody> <tr>  </tr> </tbody>\n",
       "            </table>\n",
       "            \n",
       "            <p>Total: 0</p></div>\n",
       "            "
      ],
      "text/plain": [
       "*nwb_file_name interval_list_ raw_object_id  sampling_rate  comments     description   \n",
       "+------------+ +------------+ +------------+ +------------+ +----------+ +------------+\n",
       "\n",
       " (Total: 0)"
      ]
     },
     "execution_count": 6,
     "metadata": {},
     "output_type": "execute_result"
    }
   ],
   "source": [
    "nd.common.Raw()"
   ]
  },
  {
   "cell_type": "code",
   "execution_count": 6,
   "metadata": {},
   "outputs": [],
   "source": [
    "s1 = (nd.common.IntervalList() & {'interval_list_name': '01_s1'}).fetch1()\n",
    "s2 = (nd.common.IntervalList() & {'interval_list_name': '03_s2'}).fetch1()\n",
    "r1 = (nd.common.IntervalList() & {'interval_list_name': '02_r1'}).fetch1()\n",
    "\n",
    "r2 = (nd.common.IntervalList() & {'interval_list_name': '04_r2'}).fetch1()"
   ]
  },
  {
   "cell_type": "code",
   "execution_count": 8,
   "metadata": {},
   "outputs": [],
   "source": [
    "nd.common.IntervalList()\n",
    "s1 = (nd.common.IntervalList() & {'interval_list_name' : '01_s1'}).fetch1('valid_times')"
   ]
  },
  {
   "cell_type": "code",
   "execution_count": 9,
   "metadata": {},
   "outputs": [
    {
     "data": {
      "text/plain": [
       "array([[1.56348899e+09, 1.56349008e+09]])"
      ]
     },
     "execution_count": 9,
     "metadata": {},
     "output_type": "execute_result"
    }
   ],
   "source": [
    "s1"
   ]
  },
  {
   "cell_type": "code",
   "execution_count": 24,
   "metadata": {},
   "outputs": [],
   "source": [
    "t[0][1] = t[0][0] + 100"
   ]
  },
  {
   "cell_type": "code",
   "execution_count": 22,
   "metadata": {},
   "outputs": [],
   "source": [
    "t = s1.copy()"
   ]
  },
  {
   "cell_type": "code",
   "execution_count": 27,
   "metadata": {},
   "outputs": [],
   "source": [
    "nd.common.IntervalList.insert1({'nwb_file_name' : 'beans20190718.nwb', 'interval_list_name' : 'test', 'valid_times' : t})"
   ]
  },
  {
   "cell_type": "code",
   "execution_count": 17,
   "metadata": {},
   "outputs": [
    {
     "data": {
      "text/html": [
       "\n",
       "        \n",
       "        <style type=\"text/css\">\n",
       "            .Relation{\n",
       "                border-collapse:collapse;\n",
       "            }\n",
       "            .Relation th{\n",
       "                background: #A0A0A0; color: #ffffff; padding:4px; border:#f0e0e0 1px solid;\n",
       "                font-weight: normal; font-family: monospace; font-size: 100%;\n",
       "            }\n",
       "            .Relation td{\n",
       "                padding:4px; border:#f0e0e0 1px solid; font-size:100%;\n",
       "            }\n",
       "            .Relation tr:nth-child(odd){\n",
       "                background: #ffffff;\n",
       "            }\n",
       "            .Relation tr:nth-child(even){\n",
       "                background: #f3f1ff;\n",
       "            }\n",
       "            /* Tooltip container */\n",
       "            .djtooltip {\n",
       "            }\n",
       "            /* Tooltip text */\n",
       "            .djtooltip .djtooltiptext {\n",
       "                visibility: hidden;\n",
       "                width: 120px;\n",
       "                background-color: black;\n",
       "                color: #fff;\n",
       "                text-align: center;\n",
       "                padding: 5px 0;\n",
       "                border-radius: 6px;\n",
       "                /* Position the tooltip text - see examples below! */\n",
       "                position: absolute;\n",
       "                z-index: 1;\n",
       "            }\n",
       "            #primary {\n",
       "                font-weight: bold;\n",
       "                color: black;\n",
       "            }\n",
       "\n",
       "            #nonprimary {\n",
       "                font-weight: normal;\n",
       "                color: white;\n",
       "            }\n",
       "\n",
       "            /* Show the tooltip text when you mouse over the tooltip container */\n",
       "            .djtooltip:hover .djtooltiptext {\n",
       "                visibility: visible;\n",
       "            }\n",
       "        </style>\n",
       "        \n",
       "        <b></b>\n",
       "            <div style=\"max-height:1000px;max-width:1500px;overflow:auto;\">\n",
       "            <table border=\"1\" class=\"Relation\">\n",
       "                <thead> <tr style=\"text-align: right;\"> <th> <div class=\"djtooltip\">\n",
       "                                <p id=\"primary\">nwb_file_name</p>\n",
       "                                <span class=\"djtooltiptext\">the name of the NWB file</span>\n",
       "                            </div></th><th><div class=\"djtooltip\">\n",
       "                                <p id=\"primary\">interval_list_name</p>\n",
       "                                <span class=\"djtooltiptext\">descriptive name of this interval list</span>\n",
       "                            </div></th><th><div class=\"djtooltip\">\n",
       "                                <p id=\"nonprimary\">valid_times</p>\n",
       "                                <span class=\"djtooltiptext\">2D numpy array with start and end times for each interval</span>\n",
       "                            </div> </th> </tr> </thead>\n",
       "                <tbody> <tr> <td>beans20190718.nwb</td>\n",
       "<td>01_s1</td>\n",
       "<td>=BLOB=</td></tr><tr><td>beans20190718.nwb</td>\n",
       "<td>02_r1</td>\n",
       "<td>=BLOB=</td></tr><tr><td>beans20190718.nwb</td>\n",
       "<td>03_s2</td>\n",
       "<td>=BLOB=</td></tr><tr><td>beans20190718.nwb</td>\n",
       "<td>04_r2</td>\n",
       "<td>=BLOB=</td></tr><tr><td>beans20190718.nwb</td>\n",
       "<td>pos 0 valid times</td>\n",
       "<td>=BLOB=</td></tr><tr><td>beans20190718.nwb</td>\n",
       "<td>pos 1 valid times</td>\n",
       "<td>=BLOB=</td></tr><tr><td>beans20190718.nwb</td>\n",
       "<td>pos 2 valid times</td>\n",
       "<td>=BLOB=</td></tr><tr><td>beans20190718.nwb</td>\n",
       "<td>pos 3 valid times</td>\n",
       "<td>=BLOB=</td></tr><tr><td>beans20190718.nwb</td>\n",
       "<td>raw data valid times</td>\n",
       "<td>=BLOB=</td></tr><tr><td>beans20190718.nwb</td>\n",
       "<td>test</td>\n",
       "<td>=BLOB=</td> </tr> </tbody>\n",
       "            </table>\n",
       "            \n",
       "            <p>Total: 10</p></div>\n",
       "            "
      ],
      "text/plain": [
       "*nwb_file_name *interval_list valid_time\n",
       "+------------+ +------------+ +--------+\n",
       "beans20190718. 01_s1          =BLOB=    \n",
       "beans20190718. 02_r1          =BLOB=    \n",
       "beans20190718. 03_s2          =BLOB=    \n",
       "beans20190718. 04_r2          =BLOB=    \n",
       "beans20190718. pos 0 valid ti =BLOB=    \n",
       "beans20190718. pos 1 valid ti =BLOB=    \n",
       "beans20190718. pos 2 valid ti =BLOB=    \n",
       "beans20190718. pos 3 valid ti =BLOB=    \n",
       "beans20190718. raw data valid =BLOB=    \n",
       "beans20190718. test           =BLOB=    \n",
       " (Total: 10)"
      ]
     },
     "execution_count": 17,
     "metadata": {},
     "output_type": "execute_result"
    }
   ],
   "source": [
    "nd.common.IntervalList()"
   ]
  },
  {
   "cell_type": "code",
   "execution_count": 12,
   "metadata": {},
   "outputs": [],
   "source": [
    "a = (nd.common.IntervalList() & {'interval_list_name' : '01_s1'}).fetch1()"
   ]
  },
  {
   "cell_type": "code",
   "execution_count": 13,
   "metadata": {},
   "outputs": [
    {
     "data": {
      "text/plain": [
       "{'nwb_file_name': 'beans20190718.nwb',\n",
       " 'interval_list_name': '01_s1',\n",
       " 'valid_times': array([[1.56348899e+09, 1.56349008e+09]])}"
      ]
     },
     "execution_count": 13,
     "metadata": {},
     "output_type": "execute_result"
    }
   ],
   "source": [
    "a"
   ]
  },
  {
   "cell_type": "code",
   "execution_count": 14,
   "metadata": {},
   "outputs": [],
   "source": [
    "b = a.copy()"
   ]
  },
  {
   "cell_type": "code",
   "execution_count": 15,
   "metadata": {},
   "outputs": [],
   "source": [
    "b['interval_list_name'] = 'test'"
   ]
  },
  {
   "cell_type": "code",
   "execution_count": 18,
   "metadata": {},
   "outputs": [
    {
     "name": "stdout",
     "output_type": "stream",
     "text": [
      "About to delete:\n",
      "`common_interval`.`interval_list`: 1 items\n"
     ]
    },
    {
     "name": "stdin",
     "output_type": "stream",
     "text": [
      "Proceed? [yes, No]:  yes\n"
     ]
    },
    {
     "name": "stdout",
     "output_type": "stream",
     "text": [
      "Committed.\n"
     ]
    }
   ],
   "source": [
    "(nd.common.IntervalList & {'interval_list_name' : 'test'}).delete()"
   ]
  },
  {
   "cell_type": "code",
   "execution_count": null,
   "metadata": {},
   "outputs": [],
   "source": []
  }
 ],
 "metadata": {
  "kernelspec": {
   "display_name": "Python 3",
   "language": "python",
   "name": "python3"
  },
  "language_info": {
   "codemirror_mode": {
    "name": "ipython",
    "version": 3
   },
   "file_extension": ".py",
   "mimetype": "text/x-python",
   "name": "python",
   "nbconvert_exporter": "python",
   "pygments_lexer": "ipython3",
   "version": "3.8.5"
  }
 },
 "nbformat": 4,
 "nbformat_minor": 4
}
