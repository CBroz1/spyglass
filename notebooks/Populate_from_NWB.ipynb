{
 "cells": [
  {
   "cell_type": "code",
   "execution_count": 1,
   "metadata": {
    "tags": []
   },
   "outputs": [],
   "source": [
    "%reload_ext autoreload\n",
    "%autoreload 2"
   ]
  },
  {
   "cell_type": "code",
   "execution_count": 2,
   "metadata": {
    "tags": []
   },
   "outputs": [],
   "source": [
    "import os\n",
    "data_dir = '/Users/loren/data/nwb_builder_test_data'\n",
    "os.environ['NWB_DATAJOINT_BASE_DIR'] = data_dir\n",
    "os.environ['KACHERY_STORAGE_DIR'] = os.path.join(data_dir, 'kachery-storage')"
   ]
  },
  {
   "cell_type": "code",
   "execution_count": 3,
   "metadata": {
    "tags": []
   },
   "outputs": [
    {
     "name": "stdin",
     "output_type": "stream",
     "text": [
      "Please enter DataJoint username:  root\n",
      "Please enter DataJoint password:  ········\n"
     ]
    },
    {
     "name": "stdout",
     "output_type": "stream",
     "text": [
      "Connecting root@localhost:3306\n"
     ]
    },
    {
     "name": "stderr",
     "output_type": "stream",
     "text": [
      "21:07:22 [I] klustakwik KlustaKwik2 version 0.2.6\n"
     ]
    }
   ],
   "source": [
    "import nwb_datajoint as nd"
   ]
  },
  {
   "cell_type": "code",
   "execution_count": 6,
   "metadata": {
    "tags": []
   },
   "outputs": [
    {
     "name": "stdout",
     "output_type": "stream",
     "text": [
      "Computing SHA-1 and storing in kachery...\n",
      "Populate Session...\n",
      "Populate ExperimenterList...\n",
      "Populate ElectrodeGroup...\n",
      "Populate Electrode...\n",
      "Populate Raw...\n",
      "Populate DIOEvants...\n",
      "RawPosition...\n",
      "HeadDir...\n",
      "Unable to import HeadDir: no Behavior module found in beans20190718.nwb\n",
      "Speed...\n",
      "Unable to import Speed: no Behavior module found in beans20190718.nwb\n",
      "LinPos...\n",
      "Unable to import LinPos: no Behavior module found in beans20190718.nwb\n"
     ]
    }
   ],
   "source": [
    "nd.insert_sessions(['beans20190718.nwb'])"
   ]
  },
  {
   "cell_type": "code",
   "execution_count": 12,
   "metadata": {
    "tags": []
   },
   "outputs": [
    {
     "name": "stdout",
     "output_type": "stream",
     "text": [
      "About to delete:\n",
      "`common_ephys`.`_electrode`: 256 items\n",
      "`common_ephys`.`_electrode_group`: 2 items\n",
      "`common_behav`.`_raw_position`: 1 items\n",
      "`common_ephys`.`_raw`: 1 items\n",
      "`common_interval`.`interval_list`: 9 items\n",
      "`common_session`.`_experimenter_list__experimenter`: 1 items\n",
      "`common_session`.`_experimenter_list`: 1 items\n",
      "`common_session`.`_session`: 1 items\n"
     ]
    },
    {
     "name": "stdin",
     "output_type": "stream",
     "text": [
      "Proceed? [yes, No]:  no\n"
     ]
    },
    {
     "name": "stdout",
     "output_type": "stream",
     "text": [
      "Cancelled deletes.\n"
     ]
    }
   ],
   "source": [
    "nd.common.Session.delete()"
   ]
  },
  {
   "cell_type": "code",
   "execution_count": 7,
   "metadata": {},
   "outputs": [
    {
     "data": {
      "text/html": [
       "\n",
       "        \n",
       "        <style type=\"text/css\">\n",
       "            .Relation{\n",
       "                border-collapse:collapse;\n",
       "            }\n",
       "            .Relation th{\n",
       "                background: #A0A0A0; color: #ffffff; padding:4px; border:#f0e0e0 1px solid;\n",
       "                font-weight: normal; font-family: monospace; font-size: 100%;\n",
       "            }\n",
       "            .Relation td{\n",
       "                padding:4px; border:#f0e0e0 1px solid; font-size:100%;\n",
       "            }\n",
       "            .Relation tr:nth-child(odd){\n",
       "                background: #ffffff;\n",
       "            }\n",
       "            .Relation tr:nth-child(even){\n",
       "                background: #f3f1ff;\n",
       "            }\n",
       "            /* Tooltip container */\n",
       "            .djtooltip {\n",
       "            }\n",
       "            /* Tooltip text */\n",
       "            .djtooltip .djtooltiptext {\n",
       "                visibility: hidden;\n",
       "                width: 120px;\n",
       "                background-color: black;\n",
       "                color: #fff;\n",
       "                text-align: center;\n",
       "                padding: 5px 0;\n",
       "                border-radius: 6px;\n",
       "                /* Position the tooltip text - see examples below! */\n",
       "                position: absolute;\n",
       "                z-index: 1;\n",
       "            }\n",
       "            #primary {\n",
       "                font-weight: bold;\n",
       "                color: black;\n",
       "            }\n",
       "\n",
       "            #nonprimary {\n",
       "                font-weight: normal;\n",
       "                color: white;\n",
       "            }\n",
       "\n",
       "            /* Show the tooltip text when you mouse over the tooltip container */\n",
       "            .djtooltip:hover .djtooltiptext {\n",
       "                visibility: visible;\n",
       "            }\n",
       "        </style>\n",
       "        \n",
       "        <b></b>\n",
       "            <div style=\"max-height:1000px;max-width:1500px;overflow:auto;\">\n",
       "            <table border=\"1\" class=\"Relation\">\n",
       "                <thead> <tr style=\"text-align: right;\"> <th> <div class=\"djtooltip\">\n",
       "                                <p id=\"primary\">nwb_file_name</p>\n",
       "                                <span class=\"djtooltiptext\"></span>\n",
       "                            </div></th><th><div class=\"djtooltip\">\n",
       "                                <p id=\"primary\">dio_event_name</p>\n",
       "                                <span class=\"djtooltiptext\">the name assigned to this DIO event</span>\n",
       "                            </div></th><th><div class=\"djtooltip\">\n",
       "                                <p id=\"nonprimary\">nwb_object_id</p>\n",
       "                                <span class=\"djtooltiptext\">the object id of the data in the NWB file</span>\n",
       "                            </div></th><th><div class=\"djtooltip\">\n",
       "                                <p id=\"nonprimary\">interval_list_name</p>\n",
       "                                <span class=\"djtooltiptext\">descriptive name of this interval list</span>\n",
       "                            </div> </th> </tr> </thead>\n",
       "                <tbody> <tr> <td>beans20190718.nwb</td>\n",
       "<td>Camera_Ticks</td>\n",
       "<td>cb7a5e42-fdfe-4374-b695-e3f16460493b</td>\n",
       "<td>raw data valid times</td></tr><tr><td>beans20190718.nwb</td>\n",
       "<td>Light1</td>\n",
       "<td>96499bd6-226f-4632-8a85-2b2b791d1bab</td>\n",
       "<td>raw data valid times</td></tr><tr><td>beans20190718.nwb</td>\n",
       "<td>Light2</td>\n",
       "<td>12fe7cdb-81d4-4a22-b9fa-ae8f71a331f8</td>\n",
       "<td>raw data valid times</td></tr><tr><td>beans20190718.nwb</td>\n",
       "<td>Light3</td>\n",
       "<td>af1eea91-c323-4168-8a8d-5c0c8d5a0309</td>\n",
       "<td>raw data valid times</td></tr><tr><td>beans20190718.nwb</td>\n",
       "<td>Light4</td>\n",
       "<td>d984c1b0-0b5d-45ba-9197-e8302bb3a0c9</td>\n",
       "<td>raw data valid times</td></tr><tr><td>beans20190718.nwb</td>\n",
       "<td>Light5</td>\n",
       "<td>9db950c8-1533-417b-9be5-e5ca9c681014</td>\n",
       "<td>raw data valid times</td></tr><tr><td>beans20190718.nwb</td>\n",
       "<td>Light6</td>\n",
       "<td>15dd8cea-cae8-4c2c-b3ee-8f90ea7bc756</td>\n",
       "<td>raw data valid times</td></tr><tr><td>beans20190718.nwb</td>\n",
       "<td>Poke1</td>\n",
       "<td>29f14e00-c992-4a6c-9e8d-f3df3f83d675</td>\n",
       "<td>raw data valid times</td></tr><tr><td>beans20190718.nwb</td>\n",
       "<td>Poke2</td>\n",
       "<td>2b31e787-2a59-4c48-afd3-8a3bbc8f31d0</td>\n",
       "<td>raw data valid times</td></tr><tr><td>beans20190718.nwb</td>\n",
       "<td>Poke3</td>\n",
       "<td>52ef4322-c23e-43b8-b679-e91215204fc9</td>\n",
       "<td>raw data valid times</td></tr><tr><td>beans20190718.nwb</td>\n",
       "<td>Poke4</td>\n",
       "<td>ead296e7-af39-41a8-83f7-2351807bed40</td>\n",
       "<td>raw data valid times</td></tr><tr><td>beans20190718.nwb</td>\n",
       "<td>Poke5</td>\n",
       "<td>87177f4d-d5e3-4a76-9d68-2c3a8293ea2e</td>\n",
       "<td>raw data valid times</td> </tr> </tbody>\n",
       "            </table>\n",
       "            <p>...</p>\n",
       "            <p>Total: 19</p></div>\n",
       "            "
      ],
      "text/plain": [
       "*nwb_file_name *dio_event_nam nwb_object_id  interval_list_\n",
       "+------------+ +------------+ +------------+ +------------+\n",
       "beans20190718. Camera_Ticks   cb7a5e42-fdfe- raw data valid\n",
       "beans20190718. Light1         96499bd6-226f- raw data valid\n",
       "beans20190718. Light2         12fe7cdb-81d4- raw data valid\n",
       "beans20190718. Light3         af1eea91-c323- raw data valid\n",
       "beans20190718. Light4         d984c1b0-0b5d- raw data valid\n",
       "beans20190718. Light5         9db950c8-1533- raw data valid\n",
       "beans20190718. Light6         15dd8cea-cae8- raw data valid\n",
       "beans20190718. Poke1          29f14e00-c992- raw data valid\n",
       "beans20190718. Poke2          2b31e787-2a59- raw data valid\n",
       "beans20190718. Poke3          52ef4322-c23e- raw data valid\n",
       "beans20190718. Poke4          ead296e7-af39- raw data valid\n",
       "beans20190718. Poke5          87177f4d-d5e3- raw data valid\n",
       "   ...\n",
       " (Total: 19)"
      ]
     },
     "execution_count": 7,
     "metadata": {},
     "output_type": "execute_result"
    }
   ],
   "source": [
    "nd.common.DIOEvents()"
   ]
  },
  {
   "cell_type": "code",
   "execution_count": 18,
   "metadata": {},
   "outputs": [
    {
     "data": {
      "text/plain": [
       "'raw data valid times'"
      ]
     },
     "execution_count": 18,
     "metadata": {},
     "output_type": "execute_result"
    }
   ],
   "source": [
    "(nd.common.Raw() & {'nwb_file_name' : 'beans20190718.nwb'}).fetch1('interval_list_name')"
   ]
  },
  {
   "cell_type": "code",
   "execution_count": 19,
   "metadata": {},
   "outputs": [
    {
     "ename": "AttributeError",
     "evalue": "module 'nwb_datajoint' has no attribute 'common'",
     "output_type": "error",
     "traceback": [
      "\u001b[0;31m---------------------------------------------------------------------------\u001b[0m",
      "\u001b[0;31mAttributeError\u001b[0m                            Traceback (most recent call last)",
      "\u001b[0;32m<ipython-input-19-ef1345cebe55>\u001b[0m in \u001b[0;36m<module>\u001b[0;34m\u001b[0m\n\u001b[0;32m----> 1\u001b[0;31m \u001b[0mnd\u001b[0m\u001b[0;34m.\u001b[0m\u001b[0mcommon\u001b[0m\u001b[0;34m.\u001b[0m\u001b[0mRaw\u001b[0m\u001b[0;34m\u001b[0m\u001b[0;34m\u001b[0m\u001b[0m\n\u001b[0m",
      "\u001b[0;31mAttributeError\u001b[0m: module 'nwb_datajoint' has no attribute 'common'"
     ]
    }
   ],
   "source": [
    "nd.e"
   ]
  },
  {
   "cell_type": "code",
   "execution_count": null,
   "metadata": {},
   "outputs": [],
   "source": []
  }
 ],
 "metadata": {
  "kernelspec": {
   "display_name": "Python 3",
   "language": "python",
   "name": "python3"
  },
  "language_info": {
   "codemirror_mode": {
    "name": "ipython",
    "version": 3
   },
   "file_extension": ".py",
   "mimetype": "text/x-python",
   "name": "python",
   "nbconvert_exporter": "python",
   "pygments_lexer": "ipython3",
   "version": "3.7.7"
  }
 },
 "nbformat": 4,
 "nbformat_minor": 4
}
