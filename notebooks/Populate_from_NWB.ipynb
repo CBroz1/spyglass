{
 "cells": [
  {
   "cell_type": "code",
   "execution_count": 1,
   "metadata": {
    "tags": []
   },
   "outputs": [],
   "source": [
    "%reload_ext autoreload\n",
    "%autoreload 2"
   ]
  },
  {
   "cell_type": "code",
   "execution_count": 2,
   "metadata": {
    "tags": []
   },
   "outputs": [],
   "source": [
    "import os\n",
    "data_dir = '/Users/loren/data/nwb_builder_test_data'\n",
    "os.environ['NWB_DATAJOINT_BASE_DIR'] = data_dir\n",
    "os.environ['KACHERY_STORAGE_DIR'] = os.path.join(data_dir, 'kachery-storage')"
   ]
  },
  {
   "cell_type": "code",
   "execution_count": 3,
   "metadata": {
    "tags": []
   },
   "outputs": [
    {
     "name": "stdin",
     "output_type": "stream",
     "text": [
      "Please enter DataJoint username:  root\n",
      "Please enter DataJoint password:  ········\n"
     ]
    },
    {
     "name": "stdout",
     "output_type": "stream",
     "text": [
      "Connecting root@localhost:3306\n"
     ]
    },
    {
     "name": "stderr",
     "output_type": "stream",
     "text": [
      "20:00:46 [I] klustakwik KlustaKwik2 version 0.2.6\n"
     ]
    }
   ],
   "source": [
    "import nwb_datajoint as nd\n",
    "import datajoint as dj"
   ]
  },
  {
   "cell_type": "code",
   "execution_count": 7,
   "metadata": {
    "tags": []
   },
   "outputs": [
    {
     "name": "stdout",
     "output_type": "stream",
     "text": [
      "Computing SHA-1 and storing in kachery...\n",
      "Computing sha1 of /Users/loren/data/nwb_builder_test_data/beans20190718.nwb\n",
      "Populate Session...\n",
      "Institution...\n",
      "Lab...\n",
      "LabMember...\n",
      "Subject...\n",
      "DataAcquisitionDevice...\n",
      "CameraDevice...\n",
      "Inserted ['beans sleep camera', 'beans run camera']\n",
      "Probe...\n",
      "Skipping Apparatus for now...\n",
      "IntervalList...\n",
      "Unit...\n",
      "Unable to import units: No units found in beans20190718.nwb\n",
      "Populate ExperimenterList...\n",
      "Populate ElectrodeGroup...\n",
      "Populate Electrode...\n",
      "Populate Raw...\n",
      "Estimating sampling rate...\n",
      "Estimated sampling rate: 20000.0\n",
      "Importing raw data: Estimated sampling rate:\t20000.0 Hz\n",
      "                    Number of valid intervals:\t5\n",
      "Populate DIOEvants...\n",
      "Populate SensorData\n",
      "Populate TaskEpochs\n",
      "RawPosition...\n",
      "Processing raw position data. Estimated sampling rate: 30.0 Hz\n",
      "Processing raw position data. Estimated sampling rate: 30.0 Hz\n",
      "Processing raw position data. Estimated sampling rate: 30.0 Hz\n",
      "Processing raw position data. Estimated sampling rate: 30.0 Hz\n",
      "HeadDir...\n",
      "Unable to import HeadDir: no Behavior module found in beans20190718.nwb\n",
      "Speed...\n",
      "Unable to import Speed: no Behavior module found in beans20190718.nwb\n",
      "LinPos...\n",
      "Unable to import LinPos: no Behavior module found in beans20190718.nwb\n"
     ]
    }
   ],
   "source": [
    "nd.insert_sessions(['beans20190718.nwb'])"
   ]
  },
  {
   "cell_type": "code",
   "execution_count": 5,
   "metadata": {
    "tags": []
   },
   "outputs": [
    {
     "name": "stdout",
     "output_type": "stream",
     "text": [
      "About to delete:\n",
      "Nothing to delete\n",
      "About to delete:\n",
      "Nothing to delete\n"
     ]
    }
   ],
   "source": [
    "nd.common.Session().delete()\n",
    "nd.common.Nwbfile()\n",
    "nd.common.SensorData.delete()"
   ]
  },
  {
   "cell_type": "code",
   "execution_count": 12,
   "metadata": {},
   "outputs": [
    {
     "name": "stdout",
     "output_type": "stream",
     "text": [
      "`common_ephys`.`_l_f_p` (0 tuples)\n"
     ]
    },
    {
     "name": "stdin",
     "output_type": "stream",
     "text": [
      "Proceed? [yes, No]:  yes\n"
     ]
    },
    {
     "name": "stdout",
     "output_type": "stream",
     "text": [
      "Tables dropped.  Restart kernel.\n"
     ]
    }
   ],
   "source": [
    "nd.common.LFP().drop()"
   ]
  },
  {
   "cell_type": "code",
   "execution_count": 5,
   "metadata": {},
   "outputs": [
    {
     "data": {
      "text/plain": [
       "'raw data valid times'"
      ]
     },
     "execution_count": 5,
     "metadata": {},
     "output_type": "execute_result"
    }
   ],
   "source": [
    "(nd.common.Raw() & {'nwb_file_name' : 'beans20190718.nwb'}).fetch1('interval_list_name')"
   ]
  },
  {
   "cell_type": "code",
   "execution_count": 5,
   "metadata": {},
   "outputs": [
    {
     "name": "stdout",
     "output_type": "stream",
     "text": [
      "('connect_timeout', '10')\n",
      "('delayed_insert_timeout', '300')\n",
      "('have_statement_timeout', 'YES')\n",
      "('innodb_flush_log_at_timeout', '1')\n",
      "('innodb_lock_wait_timeout', '600')\n",
      "('innodb_rollback_on_timeout', 'OFF')\n",
      "('interactive_timeout', '864000')\n",
      "('lock_wait_timeout', '600')\n",
      "('net_read_timeout', '360000')\n",
      "('net_write_timeout', '360000')\n",
      "('rpl_stop_slave_timeout', '31536000')\n",
      "('slave_net_timeout', '60')\n",
      "('wait_timeout', '600')\n"
     ]
    }
   ],
   "source": [
    "for x in dj.conn().query(\"show variables like '%%timeout%%';\").fetchall(): print(x)"
   ]
  },
  {
   "cell_type": "code",
   "execution_count": 6,
   "metadata": {},
   "outputs": [],
   "source": [
    "s1 = (nd.common.IntervalList() & {'interval_list_name': '01_s1'}).fetch1()\n",
    "s2 = (nd.common.IntervalList() & {'interval_list_name': '03_s2'}).fetch1()\n",
    "r1 = (nd.common.IntervalList() & {'interval_list_name': '02_r1'}).fetch1()\n",
    "\n",
    "r2 = (nd.common.IntervalList() & {'interval_list_name': '04_r2'}).fetch1()"
   ]
  },
  {
   "cell_type": "code",
   "execution_count": 8,
   "metadata": {},
   "outputs": [],
   "source": [
    "nd.common.IntervalList()\n",
    "s1 = (nd.common.IntervalList() & {'interval_list_name' : '01_s1'}).fetch1('valid_times')"
   ]
  },
  {
   "cell_type": "code",
   "execution_count": 9,
   "metadata": {},
   "outputs": [
    {
     "data": {
      "text/plain": [
       "array([[1.56348899e+09, 1.56349008e+09]])"
      ]
     },
     "execution_count": 9,
     "metadata": {},
     "output_type": "execute_result"
    }
   ],
   "source": [
    "s1"
   ]
  },
  {
   "cell_type": "code",
   "execution_count": 24,
   "metadata": {},
   "outputs": [],
   "source": [
    "t[0][1] = t[0][0] + 100"
   ]
  },
  {
   "cell_type": "code",
   "execution_count": 22,
   "metadata": {},
   "outputs": [],
   "source": [
    "t = s1.copy()"
   ]
  },
  {
   "cell_type": "code",
   "execution_count": 27,
   "metadata": {},
   "outputs": [],
   "source": [
    "nd.common.IntervalList.insert1({'nwb_file_name' : 'beans20190718.nwb', 'interval_list_name' : 'test', 'valid_times' : t})"
   ]
  },
  {
   "cell_type": "code",
   "execution_count": 30,
   "metadata": {},
   "outputs": [
    {
     "data": {
      "text/html": [
       "\n",
       "        \n",
       "        <style type=\"text/css\">\n",
       "            .Relation{\n",
       "                border-collapse:collapse;\n",
       "            }\n",
       "            .Relation th{\n",
       "                background: #A0A0A0; color: #ffffff; padding:4px; border:#f0e0e0 1px solid;\n",
       "                font-weight: normal; font-family: monospace; font-size: 100%;\n",
       "            }\n",
       "            .Relation td{\n",
       "                padding:4px; border:#f0e0e0 1px solid; font-size:100%;\n",
       "            }\n",
       "            .Relation tr:nth-child(odd){\n",
       "                background: #ffffff;\n",
       "            }\n",
       "            .Relation tr:nth-child(even){\n",
       "                background: #f3f1ff;\n",
       "            }\n",
       "            /* Tooltip container */\n",
       "            .djtooltip {\n",
       "            }\n",
       "            /* Tooltip text */\n",
       "            .djtooltip .djtooltiptext {\n",
       "                visibility: hidden;\n",
       "                width: 120px;\n",
       "                background-color: black;\n",
       "                color: #fff;\n",
       "                text-align: center;\n",
       "                padding: 5px 0;\n",
       "                border-radius: 6px;\n",
       "                /* Position the tooltip text - see examples below! */\n",
       "                position: absolute;\n",
       "                z-index: 1;\n",
       "            }\n",
       "            #primary {\n",
       "                font-weight: bold;\n",
       "                color: black;\n",
       "            }\n",
       "\n",
       "            #nonprimary {\n",
       "                font-weight: normal;\n",
       "                color: white;\n",
       "            }\n",
       "\n",
       "            /* Show the tooltip text when you mouse over the tooltip container */\n",
       "            .djtooltip:hover .djtooltiptext {\n",
       "                visibility: visible;\n",
       "            }\n",
       "        </style>\n",
       "        \n",
       "        <b></b>\n",
       "            <div style=\"max-height:1000px;max-width:1500px;overflow:auto;\">\n",
       "            <table border=\"1\" class=\"Relation\">\n",
       "                <thead> <tr style=\"text-align: right;\"> <th> <div class=\"djtooltip\">\n",
       "                                <p id=\"primary\">nwb_file_name</p>\n",
       "                                <span class=\"djtooltiptext\">the name of the NWB file</span>\n",
       "                            </div></th><th><div class=\"djtooltip\">\n",
       "                                <p id=\"primary\">interval_list_name</p>\n",
       "                                <span class=\"djtooltiptext\">descriptive name of this interval list</span>\n",
       "                            </div></th><th><div class=\"djtooltip\">\n",
       "                                <p id=\"nonprimary\">valid_times</p>\n",
       "                                <span class=\"djtooltiptext\">2D numpy array with start and end times for each interval</span>\n",
       "                            </div> </th> </tr> </thead>\n",
       "                <tbody> <tr> <td>beans20190718.nwb</td>\n",
       "<td>01_s1</td>\n",
       "<td>=BLOB=</td></tr><tr><td>beans20190718.nwb</td>\n",
       "<td>02_r1</td>\n",
       "<td>=BLOB=</td></tr><tr><td>beans20190718.nwb</td>\n",
       "<td>03_s2</td>\n",
       "<td>=BLOB=</td></tr><tr><td>beans20190718.nwb</td>\n",
       "<td>04_r2</td>\n",
       "<td>=BLOB=</td></tr><tr><td>beans20190718.nwb</td>\n",
       "<td>pos 0 valid times</td>\n",
       "<td>=BLOB=</td></tr><tr><td>beans20190718.nwb</td>\n",
       "<td>pos 1 valid times</td>\n",
       "<td>=BLOB=</td></tr><tr><td>beans20190718.nwb</td>\n",
       "<td>pos 2 valid times</td>\n",
       "<td>=BLOB=</td></tr><tr><td>beans20190718.nwb</td>\n",
       "<td>pos 3 valid times</td>\n",
       "<td>=BLOB=</td></tr><tr><td>beans20190718.nwb</td>\n",
       "<td>raw data valid times</td>\n",
       "<td>=BLOB=</td></tr><tr><td>beans20190718.nwb</td>\n",
       "<td>test</td>\n",
       "<td>=BLOB=</td> </tr> </tbody>\n",
       "            </table>\n",
       "            \n",
       "            <p>Total: 10</p></div>\n",
       "            "
      ],
      "text/plain": [
       "*nwb_file_name *interval_list valid_time\n",
       "+------------+ +------------+ +--------+\n",
       "beans20190718. 01_s1          =BLOB=    \n",
       "beans20190718. 02_r1          =BLOB=    \n",
       "beans20190718. 03_s2          =BLOB=    \n",
       "beans20190718. 04_r2          =BLOB=    \n",
       "beans20190718. pos 0 valid ti =BLOB=    \n",
       "beans20190718. pos 1 valid ti =BLOB=    \n",
       "beans20190718. pos 2 valid ti =BLOB=    \n",
       "beans20190718. pos 3 valid ti =BLOB=    \n",
       "beans20190718. raw data valid =BLOB=    \n",
       "beans20190718. test           =BLOB=    \n",
       " (Total: 10)"
      ]
     },
     "execution_count": 30,
     "metadata": {},
     "output_type": "execute_result"
    }
   ],
   "source": [
    "nd.common.IntervalList()"
   ]
  },
  {
   "cell_type": "code",
   "execution_count": 15,
   "metadata": {},
   "outputs": [
    {
     "data": {
      "text/plain": [
       "1563488988.8777807"
      ]
     },
     "execution_count": 15,
     "metadata": {},
     "output_type": "execute_result"
    }
   ],
   "source": [
    "s1[0][0]"
   ]
  },
  {
   "cell_type": "code",
   "execution_count": null,
   "metadata": {},
   "outputs": [],
   "source": []
  }
 ],
 "metadata": {
  "kernelspec": {
   "display_name": "Python 3",
   "language": "python",
   "name": "python3"
  },
  "language_info": {
   "codemirror_mode": {
    "name": "ipython",
    "version": 3
   },
   "file_extension": ".py",
   "mimetype": "text/x-python",
   "name": "python",
   "nbconvert_exporter": "python",
   "pygments_lexer": "ipython3",
   "version": "3.7.7"
  }
 },
 "nbformat": 4,
 "nbformat_minor": 4
}
