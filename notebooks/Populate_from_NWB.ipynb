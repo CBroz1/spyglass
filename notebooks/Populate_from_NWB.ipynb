{
 "cells": [
  {
   "cell_type": "code",
   "execution_count": 1,
   "metadata": {
    "tags": []
   },
   "outputs": [],
   "source": [
    "%reload_ext autoreload\n",
    "%autoreload 2"
   ]
  },
  {
   "cell_type": "code",
   "execution_count": 2,
   "metadata": {
    "tags": []
   },
   "outputs": [],
   "source": [
    "import os\n",
    "data_dir = '/Users/loren//data/nwb_builder_test_data'\n",
    "os.environ['NWB_DATAJOINT_BASE_DIR'] = data_dir\n",
    "os.environ['KACHERY_STORAGE_DIR'] = os.path.join(data_dir, 'kachery-storage')"
   ]
  },
  {
   "cell_type": "code",
   "execution_count": 5,
   "metadata": {
    "tags": []
   },
   "outputs": [
    {
     "output_type": "stream",
     "name": "stdout",
     "text": "Connecting root@localhost:3306\n18:42:30 [I] klustakwik KlustaKwik2 version 0.2.6\n"
    }
   ],
   "source": [
    "import nwb_datajoint as nd"
   ]
  },
  {
   "cell_type": "code",
   "execution_count": 8,
   "metadata": {
    "tags": []
   },
   "outputs": [
    {
     "output_type": "stream",
     "name": "stdout",
     "text": "Computing SHA-1 and storing in kachery...\nPopulate Session...\nPopulate ExperimenterList...\nPopulate ElectrodeGroup...\nPopulate Electrode...\nPopulate Raw...\nRawPosition...\n/Users/loren/opt/anaconda3/envs/nwbdj/lib/python3.7/site-packages/pynwb/file.py:404: DeprecationWarning: replaced by NWBFile.processing\n  warn(\"replaced by NWBFile.processing\", DeprecationWarning)\n/Users/loren/opt/anaconda3/envs/nwbdj/lib/python3.7/site-packages/pynwb/base.py:75: PendingDeprecationWarning: get_data_interface will be replaced by get\n  warn(PendingDeprecationWarning('get_data_interface will be replaced by get'))\nProcessing raw position data. Estimated sampling rate: 30.0 Hz\nProcessing raw position data. Estimated sampling rate: 30.0 Hz\nProcessing raw position data. Estimated sampling rate: 30.0 Hz\nProcessing raw position data. Estimated sampling rate: 30.0 Hz\nHeadDir...\nUnable to import HeadDir: no Behavior module found in beans20190718.nwb\nSpeed...\nUnable to import Speed: no Behavior module found in beans20190718.nwb\nLinPos...\nUnable to import LinPos: no Behavior module found in beans20190718.nwb\n"
    }
   ],
   "source": [
    "nd.insert_sessions(['beans20190718.nwb'])"
   ]
  },
  {
   "cell_type": "code",
   "execution_count": 9,
   "metadata": {
    "tags": []
   },
   "outputs": [
    {
     "output_type": "execute_result",
     "data": {
      "text/plain": "array([('beans20190718.nwb', 'Beans', 'University of California, San Francisco', 'Loren Frank', 'beans_01', 'Reinforcement leaarning', datetime.datetime(2019, 7, 18, 15, 29, 47), datetime.datetime(1970, 1, 1, 0, 0), 'Reinforcement learning')],\n      dtype=[('nwb_file_name', 'O'), ('subject_id', 'O'), ('institution_name', 'O'), ('lab_name', 'O'), ('session_id', 'O'), ('session_description', 'O'), ('session_start_time', 'O'), ('timestamps_reference_time', 'O'), ('experiment_description', 'O')])"
     },
     "metadata": {},
     "execution_count": 9
    }
   ],
   "source": [
    "nd.common.Session().fetch()"
   ]
  },
  {
   "cell_type": "code",
   "execution_count": null,
   "metadata": {},
   "outputs": [],
   "source": [
    "nd.common.Session.drop()"
   ]
  },
  {
   "cell_type": "code",
   "execution_count": 11,
   "metadata": {},
   "outputs": [
    {
     "output_type": "execute_result",
     "data": {
      "text/plain": "array([(1, 'mPFC', '', '')],\n      dtype=[('region_id', '<i8'), ('region_name', 'O'), ('subregion_name', 'O'), ('subsubregion_name', 'O')])"
     },
     "metadata": {},
     "execution_count": 11
    }
   ],
   "source": [
    "nd.common.BrainRegion().fetch()"
   ]
  },
  {
   "cell_type": "code",
   "execution_count": null,
   "metadata": {},
   "outputs": [],
   "source": []
  }
 ],
 "metadata": {
  "kernelspec": {
   "display_name": "Python 3",
   "language": "python",
   "name": "python3"
  },
  "language_info": {
   "codemirror_mode": {
    "name": "ipython",
    "version": 3
   },
   "file_extension": ".py",
   "mimetype": "text/x-python",
   "name": "python",
   "nbconvert_exporter": "python",
   "pygments_lexer": "ipython3",
   "version": "3.7.7-final"
  }
 },
 "nbformat": 4,
 "nbformat_minor": 4
}