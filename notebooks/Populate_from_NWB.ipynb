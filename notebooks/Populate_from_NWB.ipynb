{
 "cells": [
  {
   "cell_type": "markdown",
   "metadata": {},
   "source": [
    "### Dropbox link for beans20190718.nwb: https://www.dropbox.com/s/srra33e0igaj5rm/beans20190718.nwb?dl=0"
   ]
  },
  {
   "cell_type": "code",
   "execution_count": 1,
   "metadata": {
    "tags": []
   },
   "outputs": [],
   "source": [
    "%reload_ext autoreload\n",
    "%autoreload 2"
   ]
  },
  {
   "cell_type": "code",
   "execution_count": 2,
   "metadata": {
    "tags": []
   },
   "outputs": [],
   "source": [
    "import os\n",
    "data_dir = '/Users/loren/data/nwb_builder_test_data'\n",
    "os.environ['NWB_DATAJOINT_BASE_DIR'] = data_dir\n",
    "os.environ['KACHERY_STORAGE_DIR'] = os.path.join(data_dir, 'kachery-storage')"
   ]
  },
  {
   "cell_type": "code",
   "execution_count": 3,
   "metadata": {
    "tags": []
   },
   "outputs": [
    {
     "name": "stdout",
     "output_type": "stream",
     "text": [
      "Connecting root@localhost:3306\n"
     ]
    },
    {
     "ename": "ModuleNotFoundError",
     "evalue": "No module named 'nwb_datajoint.common.common_start_endssion'",
     "output_type": "error",
     "traceback": [
      "\u001b[0;31m---------------------------------------------------------------------------\u001b[0m",
      "\u001b[0;31mModuleNotFoundError\u001b[0m                       Traceback (most recent call last)",
      "\u001b[0;32m<ipython-input-3-1c2d96659191>\u001b[0m in \u001b[0;36m<module>\u001b[0;34m\u001b[0m\n\u001b[0;32m----> 1\u001b[0;31m \u001b[0;32mimport\u001b[0m \u001b[0mnwb_datajoint\u001b[0m \u001b[0;32mas\u001b[0m \u001b[0mnd\u001b[0m\u001b[0;34m\u001b[0m\u001b[0;34m\u001b[0m\u001b[0m\n\u001b[0m\u001b[1;32m      2\u001b[0m \u001b[0;32mimport\u001b[0m \u001b[0mdatajoint\u001b[0m \u001b[0;32mas\u001b[0m \u001b[0mdj\u001b[0m\u001b[0;34m\u001b[0m\u001b[0;34m\u001b[0m\u001b[0m\n",
      "\u001b[0;32m~/Src/NWB/nwb_datajoint/nwb_datajoint/__init__.py\u001b[0m in \u001b[0;36m<module>\u001b[0;34m\u001b[0m\n\u001b[1;32m     15\u001b[0m \u001b[0;32mfrom\u001b[0m \u001b[0mndx_franklab_novela\u001b[0m \u001b[0;32mimport\u001b[0m \u001b[0mprobe\u001b[0m\u001b[0;34m\u001b[0m\u001b[0;34m\u001b[0m\u001b[0m\n\u001b[1;32m     16\u001b[0m \u001b[0;34m\u001b[0m\u001b[0m\n\u001b[0;32m---> 17\u001b[0;31m \u001b[0;32mfrom\u001b[0m \u001b[0;34m.\u001b[0m\u001b[0mdata_import\u001b[0m\u001b[0;34m.\u001b[0m\u001b[0mstorage_dirs\u001b[0m \u001b[0;32mimport\u001b[0m \u001b[0mcheck_env\u001b[0m\u001b[0;34m,\u001b[0m \u001b[0mkachery_storage_dir\u001b[0m\u001b[0;34m,\u001b[0m \u001b[0mbase_dir\u001b[0m\u001b[0;34m\u001b[0m\u001b[0;34m\u001b[0m\u001b[0m\n\u001b[0m\u001b[1;32m     18\u001b[0m \u001b[0;32mfrom\u001b[0m \u001b[0;34m.\u001b[0m\u001b[0mdata_import\u001b[0m\u001b[0;34m.\u001b[0m\u001b[0minsert_sessions\u001b[0m \u001b[0;32mimport\u001b[0m \u001b[0minsert_sessions\u001b[0m\u001b[0;34m\u001b[0m\u001b[0;34m\u001b[0m\u001b[0m\n\u001b[1;32m     19\u001b[0m \u001b[0;34m\u001b[0m\u001b[0m\n",
      "\u001b[0;32m~/Src/NWB/nwb_datajoint/nwb_datajoint/data_import/__init__.py\u001b[0m in \u001b[0;36m<module>\u001b[0;34m\u001b[0m\n\u001b[1;32m      1\u001b[0m \u001b[0;32mfrom\u001b[0m \u001b[0;34m.\u001b[0m\u001b[0mstorage_dirs\u001b[0m \u001b[0;32mimport\u001b[0m \u001b[0mcheck_env\u001b[0m\u001b[0;34m,\u001b[0m \u001b[0mkachery_storage_dir\u001b[0m\u001b[0;34m,\u001b[0m \u001b[0mbase_dir\u001b[0m\u001b[0;34m\u001b[0m\u001b[0;34m\u001b[0m\u001b[0m\n\u001b[0;32m----> 2\u001b[0;31m \u001b[0;32mfrom\u001b[0m \u001b[0;34m.\u001b[0m\u001b[0minsert_sessions\u001b[0m \u001b[0;32mimport\u001b[0m \u001b[0minsert_sessions\u001b[0m\u001b[0;34m\u001b[0m\u001b[0;34m\u001b[0m\u001b[0m\n\u001b[0m",
      "\u001b[0;32m~/Src/NWB/nwb_datajoint/nwb_datajoint/data_import/insert_sessions.py\u001b[0m in \u001b[0;36m<module>\u001b[0;34m\u001b[0m\n\u001b[0;32m----> 1\u001b[0;31m \u001b[0;32mfrom\u001b[0m \u001b[0;34m.\u001b[0m\u001b[0;34m.\u001b[0m\u001b[0mcommon\u001b[0m\u001b[0;34m.\u001b[0m\u001b[0mcommon_nwbfile\u001b[0m \u001b[0;32mimport\u001b[0m \u001b[0mNwbfile\u001b[0m\u001b[0;34m\u001b[0m\u001b[0;34m\u001b[0m\u001b[0m\n\u001b[0m\u001b[1;32m      2\u001b[0m \u001b[0;32mfrom\u001b[0m \u001b[0;34m.\u001b[0m\u001b[0;34m.\u001b[0m\u001b[0mcommon\u001b[0m \u001b[0;32mimport\u001b[0m \u001b[0mpopulate_all_common\u001b[0m\u001b[0;34m\u001b[0m\u001b[0;34m\u001b[0m\u001b[0m\n\u001b[1;32m      3\u001b[0m \u001b[0;32mfrom\u001b[0m \u001b[0;34m.\u001b[0m\u001b[0mstorage_dirs\u001b[0m \u001b[0;32mimport\u001b[0m \u001b[0mcheck_env\u001b[0m\u001b[0;34m\u001b[0m\u001b[0;34m\u001b[0m\u001b[0m\n\u001b[1;32m      4\u001b[0m \u001b[0;32mimport\u001b[0m \u001b[0mdatajoint\u001b[0m \u001b[0;32mas\u001b[0m \u001b[0mdj\u001b[0m\u001b[0;34m\u001b[0m\u001b[0;34m\u001b[0m\u001b[0m\n\u001b[1;32m      5\u001b[0m \u001b[0;34m\u001b[0m\u001b[0m\n",
      "\u001b[0;32m~/Src/NWB/nwb_datajoint/nwb_datajoint/common/__init__.py\u001b[0m in \u001b[0;36m<module>\u001b[0;34m\u001b[0m\n\u001b[1;32m      1\u001b[0m \u001b[0;31m# Reorganize this into hierarchy\u001b[0m\u001b[0;34m\u001b[0m\u001b[0;34m\u001b[0m\u001b[0;34m\u001b[0m\u001b[0m\n\u001b[1;32m      2\u001b[0m \u001b[0;31m# Note: users will have their own tables... permission system\u001b[0m\u001b[0;34m\u001b[0m\u001b[0;34m\u001b[0m\u001b[0;34m\u001b[0m\u001b[0m\n\u001b[0;32m----> 3\u001b[0;31m \u001b[0;32mfrom\u001b[0m \u001b[0;34m.\u001b[0m\u001b[0mcommon_behav\u001b[0m \u001b[0;32mimport\u001b[0m \u001b[0mRawPosition\u001b[0m\u001b[0;34m,\u001b[0m \u001b[0mHeadDir\u001b[0m\u001b[0;34m,\u001b[0m \u001b[0mSpeed\u001b[0m\u001b[0;34m,\u001b[0m \u001b[0mLinPos\u001b[0m\u001b[0;34m\u001b[0m\u001b[0;34m\u001b[0m\u001b[0m\n\u001b[0m\u001b[1;32m      4\u001b[0m \u001b[0;32mfrom\u001b[0m \u001b[0;34m.\u001b[0m\u001b[0mcommon_device\u001b[0m \u001b[0;32mimport\u001b[0m  \u001b[0mDataAcquisitionDevice\u001b[0m\u001b[0;34m,\u001b[0m \u001b[0mCameraDevice\u001b[0m\u001b[0;34m,\u001b[0m \u001b[0mProbe\u001b[0m\u001b[0;34m\u001b[0m\u001b[0;34m\u001b[0m\u001b[0m\n\u001b[1;32m      5\u001b[0m \u001b[0;32mfrom\u001b[0m \u001b[0;34m.\u001b[0m\u001b[0mcommon_dio\u001b[0m \u001b[0;32mimport\u001b[0m \u001b[0mDIOEvents\u001b[0m\u001b[0;34m\u001b[0m\u001b[0;34m\u001b[0m\u001b[0m\n",
      "\u001b[0;32m~/Src/NWB/nwb_datajoint/nwb_datajoint/common/common_behav.py\u001b[0m in \u001b[0;36m<module>\u001b[0;34m\u001b[0m\n\u001b[1;32m      4\u001b[0m \u001b[0;34m\u001b[0m\u001b[0m\n\u001b[1;32m      5\u001b[0m \u001b[0;32mfrom\u001b[0m \u001b[0;34m.\u001b[0m\u001b[0mcommon_session\u001b[0m \u001b[0;32mimport\u001b[0m \u001b[0mSession\u001b[0m\u001b[0;34m\u001b[0m\u001b[0;34m\u001b[0m\u001b[0m\n\u001b[0;32m----> 6\u001b[0;31m \u001b[0;32mfrom\u001b[0m \u001b[0;34m.\u001b[0m\u001b[0mcommon_interval\u001b[0m \u001b[0;32mimport\u001b[0m \u001b[0mIntervalList\u001b[0m\u001b[0;34m\u001b[0m\u001b[0;34m\u001b[0m\u001b[0m\n\u001b[0m\u001b[1;32m      7\u001b[0m \u001b[0;32mfrom\u001b[0m \u001b[0;34m.\u001b[0m\u001b[0mcommon_nwbfile\u001b[0m \u001b[0;32mimport\u001b[0m \u001b[0mNwbfile\u001b[0m\u001b[0;34m\u001b[0m\u001b[0;34m\u001b[0m\u001b[0m\n\u001b[1;32m      8\u001b[0m \u001b[0;32mfrom\u001b[0m \u001b[0;34m.\u001b[0m\u001b[0mcommon_ephys\u001b[0m \u001b[0;32mimport\u001b[0m \u001b[0mRaw\u001b[0m\u001b[0;34m\u001b[0m\u001b[0;34m\u001b[0m\u001b[0m\n",
      "\u001b[0;32m~/Src/NWB/nwb_datajoint/nwb_datajoint/common/common_interval.py\u001b[0m in \u001b[0;36m<module>\u001b[0;34m\u001b[0m\n\u001b[0;32m----> 1\u001b[0;31m \u001b[0;32mfrom\u001b[0m \u001b[0;34m.\u001b[0m\u001b[0mcommon_start_endssion\u001b[0m \u001b[0;32mimport\u001b[0m \u001b[0mSession\u001b[0m\u001b[0;34m\u001b[0m\u001b[0;34m\u001b[0m\u001b[0m\n\u001b[0m\u001b[1;32m      2\u001b[0m \u001b[0;32mimport\u001b[0m \u001b[0mdatajoint\u001b[0m \u001b[0;32mas\u001b[0m \u001b[0mdj\u001b[0m\u001b[0;34m\u001b[0m\u001b[0;34m\u001b[0m\u001b[0m\n\u001b[1;32m      3\u001b[0m \u001b[0;32mimport\u001b[0m \u001b[0mnumpy\u001b[0m \u001b[0;32mas\u001b[0m \u001b[0mnp\u001b[0m\u001b[0;34m\u001b[0m\u001b[0;34m\u001b[0m\u001b[0m\n\u001b[1;32m      4\u001b[0m \u001b[0;34m\u001b[0m\u001b[0m\n\u001b[1;32m      5\u001b[0m \u001b[0mused\u001b[0m \u001b[0;34m=\u001b[0m \u001b[0;34m[\u001b[0m\u001b[0mSession\u001b[0m\u001b[0;34m]\u001b[0m\u001b[0;34m\u001b[0m\u001b[0;34m\u001b[0m\u001b[0m\n",
      "\u001b[0;31mModuleNotFoundError\u001b[0m: No module named 'nwb_datajoint.common.common_start_endssion'"
     ]
    }
   ],
   "source": [
    "import nwb_datajoint as nd\n",
    "import datajoint as dj"
   ]
  },
  {
   "cell_type": "code",
   "execution_count": null,
   "metadata": {
    "tags": []
   },
   "outputs": [],
   "source": [
    "nd.insert_sessions(['beans20190718.nwb'])"
   ]
  },
  {
   "cell_type": "code",
   "execution_count": 11,
   "metadata": {},
   "outputs": [
    {
     "data": {
      "text/plain": [
       "array([[1.56348899e+09, 1.56349008e+09],\n",
       "       [1.56349063e+09, 1.56349084e+09],\n",
       "       [1.56349084e+09, 1.56349340e+09],\n",
       "       [1.56349367e+09, 1.56349502e+09],\n",
       "       [1.56349543e+09, 1.56349711e+09]])"
      ]
     },
     "execution_count": 11,
     "metadata": {},
     "output_type": "execute_result"
    }
   ],
   "source": [
    "a = (nd.common.IntervalList() & {'interval_list_name' : 'raw data valid times'}).fetch1('valid_times')\n",
    "b = (nd.common.IntervalList() & {'interval_list_name' : '01_s1'}).fetch1('valid_times')\n",
    "b\n",
    "a"
   ]
  },
  {
   "cell_type": "code",
   "execution_count": 8,
   "metadata": {},
   "outputs": [],
   "source": [
    "data = (nd.common.Raw() & {'nwb_file_name' : 'beans20190718.nwb'}).fetch_nwb()"
   ]
  },
  {
   "cell_type": "code",
   "execution_count": 8,
   "metadata": {},
   "outputs": [
    {
     "name": "stderr",
     "output_type": "stream",
     "text": [
      "[autoreload of nwb_datajoint.common.common_ephys failed: Traceback (most recent call last):\n",
      "  File \"/Users/loren/opt/anaconda3/envs/nwbdj/lib/python3.7/site-packages/IPython/extensions/autoreload.py\", line 245, in check\n",
      "    superreload(m, reload, self.old_objects)\n",
      "  File \"/Users/loren/opt/anaconda3/envs/nwbdj/lib/python3.7/site-packages/IPython/extensions/autoreload.py\", line 410, in superreload\n",
      "    update_generic(old_obj, new_obj)\n",
      "  File \"/Users/loren/opt/anaconda3/envs/nwbdj/lib/python3.7/site-packages/IPython/extensions/autoreload.py\", line 347, in update_generic\n",
      "    update(a, b)\n",
      "  File \"/Users/loren/opt/anaconda3/envs/nwbdj/lib/python3.7/site-packages/IPython/extensions/autoreload.py\", line 302, in update_class\n",
      "    if update_generic(old_obj, new_obj): continue\n",
      "  File \"/Users/loren/opt/anaconda3/envs/nwbdj/lib/python3.7/site-packages/IPython/extensions/autoreload.py\", line 347, in update_generic\n",
      "    update(a, b)\n",
      "  File \"/Users/loren/opt/anaconda3/envs/nwbdj/lib/python3.7/site-packages/IPython/extensions/autoreload.py\", line 302, in update_class\n",
      "    if update_generic(old_obj, new_obj): continue\n",
      "  File \"/Users/loren/opt/anaconda3/envs/nwbdj/lib/python3.7/site-packages/IPython/extensions/autoreload.py\", line 347, in update_generic\n",
      "    update(a, b)\n",
      "  File \"/Users/loren/opt/anaconda3/envs/nwbdj/lib/python3.7/site-packages/IPython/extensions/autoreload.py\", line 302, in update_class\n",
      "    if update_generic(old_obj, new_obj): continue\n",
      "  File \"/Users/loren/opt/anaconda3/envs/nwbdj/lib/python3.7/site-packages/IPython/extensions/autoreload.py\", line 347, in update_generic\n",
      "    update(a, b)\n",
      "  File \"/Users/loren/opt/anaconda3/envs/nwbdj/lib/python3.7/site-packages/IPython/extensions/autoreload.py\", line 302, in update_class\n",
      "    if update_generic(old_obj, new_obj): continue\n",
      "RecursionError: maximum recursion depth exceeded while calling a Python object\n",
      "]\n"
     ]
    }
   ],
   "source": []
  },
  {
   "cell_type": "code",
   "execution_count": 5,
   "metadata": {},
   "outputs": [
    {
     "name": "stderr",
     "output_type": "stream",
     "text": [
      "[autoreload of nwb_datajoint.common.common_ephys failed: Traceback (most recent call last):\n",
      "  File \"/Users/loren/opt/anaconda3/envs/nwb_datajoint/lib/python3.7/site-packages/datajoint/declare.py\", line 142, in compile_foreign_key\n",
      "    ref = eval(result.ref_table, context)\n",
      "  File \"<string>\", line 1\n",
      "    units_object_id: varchar(40) # the object ID for the units for this sort group\n",
      "                   ^\n",
      "SyntaxError: invalid syntax\n",
      "\n",
      "During handling of the above exception, another exception occurred:\n",
      "\n",
      "Traceback (most recent call last):\n",
      "  File \"/Users/loren/opt/anaconda3/envs/nwb_datajoint/lib/python3.7/site-packages/IPython/extensions/autoreload.py\", line 245, in check\n",
      "    superreload(m, reload, self.old_objects)\n",
      "  File \"/Users/loren/opt/anaconda3/envs/nwb_datajoint/lib/python3.7/site-packages/IPython/extensions/autoreload.py\", line 394, in superreload\n",
      "    module = reload(module)\n",
      "  File \"/Users/loren/opt/anaconda3/envs/nwb_datajoint/lib/python3.7/imp.py\", line 314, in reload\n",
      "    return importlib.reload(module)\n",
      "  File \"/Users/loren/opt/anaconda3/envs/nwb_datajoint/lib/python3.7/importlib/__init__.py\", line 169, in reload\n",
      "    _bootstrap._exec(spec, module)\n",
      "  File \"<frozen importlib._bootstrap>\", line 630, in _exec\n",
      "  File \"<frozen importlib._bootstrap_external>\", line 728, in exec_module\n",
      "  File \"<frozen importlib._bootstrap>\", line 219, in _call_with_frames_removed\n",
      "  File \"/Users/loren/Src/NWB/nwb_datajoint/nwb_datajoint/common/common_ephys.py\", line 358, in <module>\n",
      "    class SpikeSorting(dj.Computed):\n",
      "  File \"/Users/loren/opt/anaconda3/envs/nwb_datajoint/lib/python3.7/site-packages/datajoint/schemas.py\", line 228, in __call__\n",
      "    context, master=cls, self=part, **{cls.__name__: cls}))\n",
      "  File \"/Users/loren/opt/anaconda3/envs/nwb_datajoint/lib/python3.7/site-packages/datajoint/schemas.py\", line 191, in process_table_class\n",
      "    instance.declare(context)\n",
      "datajoint.errors.DataJointError: Foreign key reference units_object_id: varchar(40) # the object ID for the units for this sort group could not be resolved\n",
      "]\n"
     ]
    },
    {
     "name": "stdout",
     "output_type": "stream",
     "text": [
      "`common_ephys`.`__spike_sorting` (0 tuples)\n"
     ]
    },
    {
     "name": "stdin",
     "output_type": "stream",
     "text": [
      "Proceed? [yes, No]:  yes\n"
     ]
    },
    {
     "name": "stdout",
     "output_type": "stream",
     "text": [
      "Tables dropped.  Restart kernel.\n"
     ]
    }
   ],
   "source": [
    "nd.common.SpikeSorting().drop()"
   ]
  },
  {
   "cell_type": "code",
   "execution_count": 6,
   "metadata": {
    "tags": []
   },
   "outputs": [
    {
     "name": "stdout",
     "output_type": "stream",
     "text": [
      "`common_session`.`_session` (1 tuples)\n",
      "`common_session`.`_experimenter_list` (1 tuples)\n",
      "`common_session`.`_experimenter_list__experimenter` (1 tuples)\n",
      "`common_interval`.`sort_interval_list` (1 tuples)\n",
      "`common_interval`.`interval_list` (10 tuples)\n",
      "`common_task`.`_task_epoch` (4 tuples)\n",
      "`common_sensors`.`_sensor_data` (1 tuples)\n",
      "`common_ephys`.`_raw` (1 tuples)\n",
      "`common_dio`.`_d_i_o_events` (19 tuples)\n",
      "`common_behav`.`_speed` (0 tuples)\n",
      "`common_behav`.`_raw_position` (1 tuples)\n",
      "`common_behav`.`_lin_pos` (0 tuples)\n",
      "`common_behav`.`_head_dir` (0 tuples)\n",
      "`common_ephys`.`sort_group` (8 tuples)\n",
      "`common_ephys`.`spike_sorting_parameters` (1 tuples)\n",
      "`common_ephys`.`__spike_sorting` (1 tuples)\n",
      "`common_ephys`.`l_f_p_selection` (0 tuples)\n",
      "`common_ephys`.`_l_f_p` (0 tuples)\n",
      "`common_ephys`.`l_f_p_band_selection` (0 tuples)\n",
      "`common_ephys`.`__l_f_p_band` (0 tuples)\n",
      "`common_ephys`.`_electrode_group` (2 tuples)\n",
      "`common_ephys`.`_electrode` (256 tuples)\n",
      "`common_ephys`.`sort_group__sort_group_electrode` (256 tuples)\n",
      "`common_ephys`.`l_f_p_selection__l_f_p_electrode` (0 tuples)\n",
      "`common_ephys`.`l_f_p_band_selection__l_f_p_band_electrode` (0 tuples)\n"
     ]
    },
    {
     "name": "stdin",
     "output_type": "stream",
     "text": [
      "Proceed? [yes, No]:  yes\n"
     ]
    },
    {
     "name": "stdout",
     "output_type": "stream",
     "text": [
      "Tables dropped.  Restart kernel.\n",
      "`common_lab`.`nwbfile` (1 tuples)\n",
      "`common_lab`.`analysis_nwbfile` (3 tuples)\n"
     ]
    },
    {
     "name": "stdin",
     "output_type": "stream",
     "text": [
      "Proceed? [yes, No]:  yes\n"
     ]
    },
    {
     "name": "stdout",
     "output_type": "stream",
     "text": [
      "Tables dropped.  Restart kernel.\n"
     ]
    }
   ],
   "source": [
    "nd.common.Session().drop()\n",
    "nd.common.Nwbfile().drop()"
   ]
  },
  {
   "cell_type": "code",
   "execution_count": 5,
   "metadata": {},
   "outputs": [
    {
     "name": "stdout",
     "output_type": "stream",
     "text": [
      "`common_ephys`.`electrode_sorting_info` (0 tuples)\n"
     ]
    },
    {
     "name": "stdin",
     "output_type": "stream",
     "text": [
      "Proceed? [yes, No]:  yes\n"
     ]
    },
    {
     "name": "stdout",
     "output_type": "stream",
     "text": [
      "Tables dropped.  Restart kernel.\n"
     ]
    }
   ],
   "source": [
    "nd.common.ElectrodeSortingInfo().drop()"
   ]
  },
  {
   "cell_type": "code",
   "execution_count": 5,
   "metadata": {},
   "outputs": [
    {
     "data": {
      "text/plain": [
       "'raw data valid times'"
      ]
     },
     "execution_count": 5,
     "metadata": {},
     "output_type": "execute_result"
    }
   ],
   "source": [
    "(nd.common.Raw() & {'nwb_file_name' : 'beans20190718.nwb'}).fetch1('interval_list_name')"
   ]
  },
  {
   "cell_type": "code",
   "execution_count": 6,
   "metadata": {},
   "outputs": [
    {
     "data": {
      "text/html": [
       "\n",
       "        \n",
       "        <style type=\"text/css\">\n",
       "            .Relation{\n",
       "                border-collapse:collapse;\n",
       "            }\n",
       "            .Relation th{\n",
       "                background: #A0A0A0; color: #ffffff; padding:4px; border:#f0e0e0 1px solid;\n",
       "                font-weight: normal; font-family: monospace; font-size: 100%;\n",
       "            }\n",
       "            .Relation td{\n",
       "                padding:4px; border:#f0e0e0 1px solid; font-size:100%;\n",
       "            }\n",
       "            .Relation tr:nth-child(odd){\n",
       "                background: #ffffff;\n",
       "            }\n",
       "            .Relation tr:nth-child(even){\n",
       "                background: #f3f1ff;\n",
       "            }\n",
       "            /* Tooltip container */\n",
       "            .djtooltip {\n",
       "            }\n",
       "            /* Tooltip text */\n",
       "            .djtooltip .djtooltiptext {\n",
       "                visibility: hidden;\n",
       "                width: 120px;\n",
       "                background-color: black;\n",
       "                color: #fff;\n",
       "                text-align: center;\n",
       "                padding: 5px 0;\n",
       "                border-radius: 6px;\n",
       "                /* Position the tooltip text - see examples below! */\n",
       "                position: absolute;\n",
       "                z-index: 1;\n",
       "            }\n",
       "            #primary {\n",
       "                font-weight: bold;\n",
       "                color: black;\n",
       "            }\n",
       "\n",
       "            #nonprimary {\n",
       "                font-weight: normal;\n",
       "                color: white;\n",
       "            }\n",
       "\n",
       "            /* Show the tooltip text when you mouse over the tooltip container */\n",
       "            .djtooltip:hover .djtooltiptext {\n",
       "                visibility: visible;\n",
       "            }\n",
       "        </style>\n",
       "        \n",
       "        <b>Raw voltage timeseries data, electricalSeries in NWB</b>\n",
       "            <div style=\"max-height:1000px;max-width:1500px;overflow:auto;\">\n",
       "            <table border=\"1\" class=\"Relation\">\n",
       "                <thead> <tr style=\"text-align: right;\"> <th> <div class=\"djtooltip\">\n",
       "                                <p id=\"primary\">nwb_file_name</p>\n",
       "                                <span class=\"djtooltiptext\">the name of the NWB file</span>\n",
       "                            </div></th><th><div class=\"djtooltip\">\n",
       "                                <p id=\"nonprimary\">interval_list_name</p>\n",
       "                                <span class=\"djtooltiptext\">descriptive name of this interval list</span>\n",
       "                            </div></th><th><div class=\"djtooltip\">\n",
       "                                <p id=\"nonprimary\">raw_object_id</p>\n",
       "                                <span class=\"djtooltiptext\">the NWB object ID for loading this object from the file</span>\n",
       "                            </div></th><th><div class=\"djtooltip\">\n",
       "                                <p id=\"nonprimary\">sampling_rate</p>\n",
       "                                <span class=\"djtooltiptext\">Sampling rate calculated from data, in Hz</span>\n",
       "                            </div></th><th><div class=\"djtooltip\">\n",
       "                                <p id=\"nonprimary\">comments</p>\n",
       "                                <span class=\"djtooltiptext\"></span>\n",
       "                            </div></th><th><div class=\"djtooltip\">\n",
       "                                <p id=\"nonprimary\">description</p>\n",
       "                                <span class=\"djtooltiptext\"></span>\n",
       "                            </div> </th> </tr> </thead>\n",
       "                <tbody> <tr>  </tr> </tbody>\n",
       "            </table>\n",
       "            \n",
       "            <p>Total: 0</p></div>\n",
       "            "
      ],
      "text/plain": [
       "*nwb_file_name interval_list_ raw_object_id  sampling_rate  comments     description   \n",
       "+------------+ +------------+ +------------+ +------------+ +----------+ +------------+\n",
       "\n",
       " (Total: 0)"
      ]
     },
     "execution_count": 6,
     "metadata": {},
     "output_type": "execute_result"
    }
   ],
   "source": [
    "nd.common.Raw()"
   ]
  },
  {
   "cell_type": "code",
   "execution_count": 6,
   "metadata": {},
   "outputs": [],
   "source": [
    "s1 = (nd.common.IntervalList() & {'interval_list_name': '01_s1'}).fetch1()\n",
    "s2 = (nd.common.IntervalList() & {'interval_list_name': '03_s2'}).fetch1()\n",
    "r1 = (nd.common.IntervalList() & {'interval_list_name': '02_r1'}).fetch1()\n",
    "\n",
    "r2 = (nd.common.IntervalList() & {'interval_list_name': '04_r2'}).fetch1()"
   ]
  },
  {
   "cell_type": "code",
   "execution_count": 8,
   "metadata": {},
   "outputs": [],
   "source": [
    "nd.common.IntervalList()\n",
    "s1 = (nd.common.IntervalList() & {'interval_list_name' : '01_s1'}).fetch1('valid_times')"
   ]
  },
  {
   "cell_type": "code",
   "execution_count": 9,
   "metadata": {},
   "outputs": [
    {
     "data": {
      "text/plain": [
       "array([[1.56348899e+09, 1.56349008e+09]])"
      ]
     },
     "execution_count": 9,
     "metadata": {},
     "output_type": "execute_result"
    }
   ],
   "source": [
    "s1"
   ]
  },
  {
   "cell_type": "code",
   "execution_count": 24,
   "metadata": {},
   "outputs": [],
   "source": [
    "t[0][1] = t[0][0] + 100"
   ]
  },
  {
   "cell_type": "code",
   "execution_count": 22,
   "metadata": {},
   "outputs": [],
   "source": [
    "t = s1.copy()"
   ]
  },
  {
   "cell_type": "code",
   "execution_count": 27,
   "metadata": {},
   "outputs": [],
   "source": [
    "nd.common.IntervalList.insert1({'nwb_file_name' : 'beans20190718.nwb', 'interval_list_name' : 'test', 'valid_times' : t})"
   ]
  },
  {
   "cell_type": "code",
   "execution_count": 17,
   "metadata": {},
   "outputs": [
    {
     "data": {
      "text/html": [
       "\n",
       "        \n",
       "        <style type=\"text/css\">\n",
       "            .Relation{\n",
       "                border-collapse:collapse;\n",
       "            }\n",
       "            .Relation th{\n",
       "                background: #A0A0A0; color: #ffffff; padding:4px; border:#f0e0e0 1px solid;\n",
       "                font-weight: normal; font-family: monospace; font-size: 100%;\n",
       "            }\n",
       "            .Relation td{\n",
       "                padding:4px; border:#f0e0e0 1px solid; font-size:100%;\n",
       "            }\n",
       "            .Relation tr:nth-child(odd){\n",
       "                background: #ffffff;\n",
       "            }\n",
       "            .Relation tr:nth-child(even){\n",
       "                background: #f3f1ff;\n",
       "            }\n",
       "            /* Tooltip container */\n",
       "            .djtooltip {\n",
       "            }\n",
       "            /* Tooltip text */\n",
       "            .djtooltip .djtooltiptext {\n",
       "                visibility: hidden;\n",
       "                width: 120px;\n",
       "                background-color: black;\n",
       "                color: #fff;\n",
       "                text-align: center;\n",
       "                padding: 5px 0;\n",
       "                border-radius: 6px;\n",
       "                /* Position the tooltip text - see examples below! */\n",
       "                position: absolute;\n",
       "                z-index: 1;\n",
       "            }\n",
       "            #primary {\n",
       "                font-weight: bold;\n",
       "                color: black;\n",
       "            }\n",
       "\n",
       "            #nonprimary {\n",
       "                font-weight: normal;\n",
       "                color: white;\n",
       "            }\n",
       "\n",
       "            /* Show the tooltip text when you mouse over the tooltip container */\n",
       "            .djtooltip:hover .djtooltiptext {\n",
       "                visibility: visible;\n",
       "            }\n",
       "        </style>\n",
       "        \n",
       "        <b></b>\n",
       "            <div style=\"max-height:1000px;max-width:1500px;overflow:auto;\">\n",
       "            <table border=\"1\" class=\"Relation\">\n",
       "                <thead> <tr style=\"text-align: right;\"> <th> <div class=\"djtooltip\">\n",
       "                                <p id=\"primary\">nwb_file_name</p>\n",
       "                                <span class=\"djtooltiptext\">the name of the NWB file</span>\n",
       "                            </div></th><th><div class=\"djtooltip\">\n",
       "                                <p id=\"primary\">interval_list_name</p>\n",
       "                                <span class=\"djtooltiptext\">descriptive name of this interval list</span>\n",
       "                            </div></th><th><div class=\"djtooltip\">\n",
       "                                <p id=\"nonprimary\">valid_times</p>\n",
       "                                <span class=\"djtooltiptext\">2D numpy array with start and end times for each interval</span>\n",
       "                            </div> </th> </tr> </thead>\n",
       "                <tbody> <tr> <td>beans20190718.nwb</td>\n",
       "<td>01_s1</td>\n",
       "<td>=BLOB=</td></tr><tr><td>beans20190718.nwb</td>\n",
       "<td>02_r1</td>\n",
       "<td>=BLOB=</td></tr><tr><td>beans20190718.nwb</td>\n",
       "<td>03_s2</td>\n",
       "<td>=BLOB=</td></tr><tr><td>beans20190718.nwb</td>\n",
       "<td>04_r2</td>\n",
       "<td>=BLOB=</td></tr><tr><td>beans20190718.nwb</td>\n",
       "<td>pos 0 valid times</td>\n",
       "<td>=BLOB=</td></tr><tr><td>beans20190718.nwb</td>\n",
       "<td>pos 1 valid times</td>\n",
       "<td>=BLOB=</td></tr><tr><td>beans20190718.nwb</td>\n",
       "<td>pos 2 valid times</td>\n",
       "<td>=BLOB=</td></tr><tr><td>beans20190718.nwb</td>\n",
       "<td>pos 3 valid times</td>\n",
       "<td>=BLOB=</td></tr><tr><td>beans20190718.nwb</td>\n",
       "<td>raw data valid times</td>\n",
       "<td>=BLOB=</td></tr><tr><td>beans20190718.nwb</td>\n",
       "<td>test</td>\n",
       "<td>=BLOB=</td> </tr> </tbody>\n",
       "            </table>\n",
       "            \n",
       "            <p>Total: 10</p></div>\n",
       "            "
      ],
      "text/plain": [
       "*nwb_file_name *interval_list valid_time\n",
       "+------------+ +------------+ +--------+\n",
       "beans20190718. 01_s1          =BLOB=    \n",
       "beans20190718. 02_r1          =BLOB=    \n",
       "beans20190718. 03_s2          =BLOB=    \n",
       "beans20190718. 04_r2          =BLOB=    \n",
       "beans20190718. pos 0 valid ti =BLOB=    \n",
       "beans20190718. pos 1 valid ti =BLOB=    \n",
       "beans20190718. pos 2 valid ti =BLOB=    \n",
       "beans20190718. pos 3 valid ti =BLOB=    \n",
       "beans20190718. raw data valid =BLOB=    \n",
       "beans20190718. test           =BLOB=    \n",
       " (Total: 10)"
      ]
     },
     "execution_count": 17,
     "metadata": {},
     "output_type": "execute_result"
    }
   ],
   "source": [
    "nd.common.IntervalList()"
   ]
  },
  {
   "cell_type": "code",
   "execution_count": 12,
   "metadata": {},
   "outputs": [],
   "source": [
    "a = (nd.common.IntervalList() & {'interval_list_name' : '01_s1'}).fetch1()"
   ]
  },
  {
   "cell_type": "code",
   "execution_count": 13,
   "metadata": {},
   "outputs": [
    {
     "data": {
      "text/plain": [
       "{'nwb_file_name': 'beans20190718.nwb',\n",
       " 'interval_list_name': '01_s1',\n",
       " 'valid_times': array([[1.56348899e+09, 1.56349008e+09]])}"
      ]
     },
     "execution_count": 13,
     "metadata": {},
     "output_type": "execute_result"
    }
   ],
   "source": [
    "a"
   ]
  },
  {
   "cell_type": "code",
   "execution_count": 14,
   "metadata": {},
   "outputs": [],
   "source": [
    "b = a.copy()"
   ]
  },
  {
   "cell_type": "code",
   "execution_count": 15,
   "metadata": {},
   "outputs": [],
   "source": [
    "b['interval_list_name'] = 'test'"
   ]
  },
  {
   "cell_type": "code",
   "execution_count": 18,
   "metadata": {},
   "outputs": [
    {
     "name": "stdout",
     "output_type": "stream",
     "text": [
      "About to delete:\n",
      "`common_interval`.`interval_list`: 1 items\n"
     ]
    },
    {
     "name": "stdin",
     "output_type": "stream",
     "text": [
      "Proceed? [yes, No]:  yes\n"
     ]
    },
    {
     "name": "stdout",
     "output_type": "stream",
     "text": [
      "Committed.\n"
     ]
    }
   ],
   "source": [
    "(nd.common.IntervalList & {'interval_list_name' : 'test'}).delete()"
   ]
  },
  {
   "cell_type": "code",
   "execution_count": null,
   "metadata": {},
   "outputs": [],
   "source": []
  }
 ],
 "metadata": {
  "kernelspec": {
   "display_name": "Python 3",
   "language": "python",
   "name": "python3"
  },
  "language_info": {
   "codemirror_mode": {
    "name": "ipython",
    "version": 3
   },
   "file_extension": ".py",
   "mimetype": "text/x-python",
   "name": "python",
   "nbconvert_exporter": "python",
   "pygments_lexer": "ipython3",
   "version": "3.7.7"
  }
 },
 "nbformat": 4,
 "nbformat_minor": 4
}
