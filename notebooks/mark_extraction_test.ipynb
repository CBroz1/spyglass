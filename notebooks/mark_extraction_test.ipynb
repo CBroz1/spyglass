{
 "cells": [
  {
   "cell_type": "markdown",
   "metadata": {},
   "source": [
    "## NWB-Datajoint tutorial 2\n",
    "\n",
    "**Note: make a copy of this notebook and run the copy to avoid git conflicts in the future**\n",
    "\n",
    "This is the second in a multi-part tutorial on the NWB-Datajoint pipeline used in Loren Frank's lab, UCSF. It demonstrates how to curate the results of spike sorting.\n",
    "\n",
    "Finish [tutorial 0](0_intro.ipynb) and [tutorial 1](1_spikesorting.ipynb) before proceeding.\n",
    "\n",
    "Let's start by importing the `nwb_datajoint` package, along with a few others. "
   ]
  },
  {
   "cell_type": "code",
   "execution_count": 7,
   "metadata": {
    "tags": []
   },
   "outputs": [],
   "source": [
    "import os\n",
    "import numpy as np\n",
    "\n",
    "import spyglass as nd\n",
    "\n",
    "import warnings\n",
    "warnings.simplefilter('ignore', category=DeprecationWarning)\n",
    "warnings.simplefilter('ignore', category=ResourceWarning)"
   ]
  },
  {
   "cell_type": "code",
   "execution_count": 8,
   "metadata": {},
   "outputs": [
    {
     "name": "stderr",
     "output_type": "stream",
     "text": [
      "Cupy is not installed or GPU is not detected. Ignore this message if not using GPU\n"
     ]
    }
   ],
   "source": [
    "# We also import a bunch of tables so that we can call them easily\n",
    "from spyglass.common import (PositionSource, RawPosition, HeadDir, Speed, LinPos, StateScriptFile, VideoFile,\n",
    "                                  DataAcquisitionDevice, CameraDevice, Probe,\n",
    "                                  DIOEvents,\n",
    "                                  ElectrodeGroup, Electrode, Raw, SampleCount,\n",
    "                                  LFPSelection, LFP, LFPBandSelection, LFPBand,\n",
    "                                  FirFilter,\n",
    "                                  IntervalList,\n",
    "                                  Lab, LabMember, Institution,\n",
    "                                  BrainRegion,\n",
    "                                  SensorData,\n",
    "                                  Session, ExperimenterList,\n",
    "                                  Subject,\n",
    "                                  Task, TaskEpoch,\n",
    "                                  Nwbfile, AnalysisNwbfile, NwbfileKachery, AnalysisNwbfileKachery)\n",
    "\n",
    "from spyglass.spikesorting import (\n",
    "    ArtifactDetection, ArtifactDetectionParameters, ArtifactDetectionSelection, ArtifactRemovedIntervalList,\n",
    "    SortGroup, SortInterval, SpikeSortingPreprocessingParameters, SpikeSortingRecording, SpikeSortingRecordingSelection,\n",
    "    SpikeSorterParameters, SpikeSorting, SpikeSortingSelection,\n",
    "    AutomaticCuration, AutomaticCurationParameters,AutomaticCurationSelection,\n",
    "    CuratedSpikeSorting, CuratedSpikeSortingSelection, Curation, MetricParameters, MetricSelection,\n",
    "    QualityMetrics, UnitInclusionParameters, WaveformParameters, Waveforms, WaveformSelection,\n",
    ")\n",
    "\n",
    "from spyglass.decoding import MarkParameters, UnitMarkParameters, UnitMarks"
   ]
  },
  {
   "cell_type": "code",
   "execution_count": 9,
   "metadata": {
    "tags": []
   },
   "outputs": [],
   "source": [
    "# Define the name of the file that you copied and renamed; make sure it's something unique. \n",
    "nwb_file_name = 'despereaux20191125.nwb'\n",
    "filename, file_extension = os.path.splitext(nwb_file_name)\n",
    "# This is a copy of the original nwb file, except it doesn't contain the raw data (for storage reasons)\n",
    "nwb_file_name2 = filename + '_' + file_extension"
   ]
  },
  {
   "cell_type": "markdown",
   "metadata": {},
   "source": [
    "First, make sure that our results are stored in `SpikeSorting` table."
   ]
  },
  {
   "cell_type": "code",
   "execution_count": 11,
   "metadata": {},
   "outputs": [
    {
     "name": "stdout",
     "output_type": "stream",
     "text": [
      "`spikesorting_curation`.`unit_inclusion_parameters` (0 tuples)\n"
     ]
    },
    {
     "name": "stdin",
     "output_type": "stream",
     "text": [
      "Proceed? [yes, No]:  no\n"
     ]
    }
   ],
   "source": [
    "UnitInclusionParameters.drop()"
   ]
  },
  {
   "cell_type": "code",
   "execution_count": null,
   "metadata": {
    "tags": []
   },
   "outputs": [],
   "source": [
    "MarkParameters().insert_default_param()\n",
    "mark_key = MarkParameters.fetch('KEY')[0]\n",
    "\n",
    "unit_key = (UnitInclusionParameters & {'unit_inclusion_param_name': 'all'}).fetch(\"KEY\")[0]\n",
    "\n",
    "nwb_file_name = 'despereaux20191125_.nwb'\n",
    "sort_group_id=1\n",
    "sort_interval_name = '02_r1'\n",
    "tmp_key = {'nwb_file_name' : nwb_file_name, 'sort_group_id':sort_group_id, 'sort_interval_name':sort_interval_name}\n",
    "curated_key = (CuratedSpikeSorting & tmp_key).fetch(\"KEY\")[0]\n",
    "\n",
    "# combine the keys:\n",
    "key = dict(curated_key.items() + unit_key.items() + mark_key.items())"
   ]
  },
  {
   "cell_type": "code",
   "execution_count": null,
   "metadata": {},
   "outputs": [],
   "source": [
    "m= UnitMarks().fetch_nwb()[0]"
   ]
  },
  {
   "cell_type": "code",
   "execution_count": null,
   "metadata": {
    "tags": []
   },
   "outputs": [],
   "source": [
    "t = m['marks'].timestamps\n",
    "d = m['marks'].data"
   ]
  },
  {
   "cell_type": "code",
   "execution_count": null,
   "metadata": {},
   "outputs": [],
   "source": [
    "d[2,:]"
   ]
  },
  {
   "cell_type": "code",
   "execution_count": null,
   "metadata": {
    "tags": []
   },
   "outputs": [],
   "source": [
    "from matplotlib import pyplot as plt\n",
    "plt.plot(t-t[0], np.amin(d, axis=1), '.')\n"
   ]
  },
  {
   "cell_type": "markdown",
   "metadata": {},
   "source": [
    "AnalysisNwbFile"
   ]
  },
  {
   "cell_type": "code",
   "execution_count": null,
   "metadata": {},
   "outputs": [],
   "source": [
    "import matplotlib.pyplot as plt"
   ]
  },
  {
   "cell_type": "code",
   "execution_count": null,
   "metadata": {},
   "outputs": [],
   "source": [
    "plt.plot(timestamps[include] - timestamps[0], marks[include,:], 'b.')"
   ]
  },
  {
   "cell_type": "code",
   "execution_count": null,
   "metadata": {},
   "outputs": [],
   "source": [
    "curation_key = CuratedSpikeSorting().fetch1(\"KEY\")"
   ]
  },
  {
   "cell_type": "code",
   "execution_count": null,
   "metadata": {
    "tags": []
   },
   "outputs": [],
   "source": [
    "SpikeSorting()"
   ]
  },
  {
   "cell_type": "markdown",
   "metadata": {
    "tags": []
   },
   "source": [
    "### Web app"
   ]
  },
  {
   "cell_type": "markdown",
   "metadata": {},
   "source": [
    "In addition to this Jupyter widget, one can access it via a web application as well. The same recording and sorting pairs can be accessed via both methods."
   ]
  },
  {
   "cell_type": "code",
   "execution_count": null,
   "metadata": {},
   "outputs": [],
   "source": [
    "(SpikeSorting() & {'sort_group_id' : 11}).delete()"
   ]
  },
  {
   "cell_type": "code",
   "execution_count": null,
   "metadata": {},
   "outputs": [],
   "source": [
    "AnalysisNwbfile().cleanup(delete_files=True)"
   ]
  },
  {
   "cell_type": "code",
   "execution_count": null,
   "metadata": {},
   "outputs": [],
   "source": [
    "RawPosition()"
   ]
  },
  {
   "cell_type": "code",
   "execution_count": 8,
   "metadata": {},
   "outputs": [
    {
     "name": "stdout",
     "output_type": "stream",
     "text": [
      "Deleting 1 rows from `common_behav`.`_raw_position`\n"
     ]
    },
    {
     "name": "stdin",
     "output_type": "stream",
     "text": [
      "Commit deletes? [yes, No]:  yes\n"
     ]
    },
    {
     "name": "stdout",
     "output_type": "stream",
     "text": [
      "Deletes committed.\n"
     ]
    },
    {
     "data": {
      "text/plain": [
       "1"
      ]
     },
     "execution_count": 8,
     "metadata": {},
     "output_type": "execute_result"
    }
   ],
   "source": [
    "(RawPosition() & {'nwb_file_name': 'despereaux20191125_.nwb'}).delete()"
   ]
  },
  {
   "cell_type": "code",
   "execution_count": null,
   "metadata": {},
   "outputs": [],
   "source": [
    "\n",
    "PositionSource().get_nwbf_position_data('despereaux20191125_.nwb')"
   ]
  },
  {
   "cell_type": "code",
   "execution_count": null,
   "metadata": {},
   "outputs": [],
   "source": [
    "RawPosition.populate()"
   ]
  },
  {
   "cell_type": "code",
   "execution_count": 5,
   "metadata": {},
   "outputs": [
    {
     "data": {
      "text/html": [
       "\n",
       "    \n",
       "    <style type=\"text/css\">\n",
       "        .Relation{\n",
       "            border-collapse:collapse;\n",
       "        }\n",
       "        .Relation th{\n",
       "            background: #A0A0A0; color: #ffffff; padding:4px; border:#f0e0e0 1px solid;\n",
       "            font-weight: normal; font-family: monospace; font-size: 100%;\n",
       "        }\n",
       "        .Relation td{\n",
       "            padding:4px; border:#f0e0e0 1px solid; font-size:100%;\n",
       "        }\n",
       "        .Relation tr:nth-child(odd){\n",
       "            background: #ffffff;\n",
       "        }\n",
       "        .Relation tr:nth-child(even){\n",
       "            background: #f3f1ff;\n",
       "        }\n",
       "        /* Tooltip container */\n",
       "        .djtooltip {\n",
       "        }\n",
       "        /* Tooltip text */\n",
       "        .djtooltip .djtooltiptext {\n",
       "            visibility: hidden;\n",
       "            width: 120px;\n",
       "            background-color: black;\n",
       "            color: #fff;\n",
       "            text-align: center;\n",
       "            padding: 5px 0;\n",
       "            border-radius: 6px;\n",
       "            /* Position the tooltip text - see examples below! */\n",
       "            position: absolute;\n",
       "            z-index: 1;\n",
       "        }\n",
       "        #primary {\n",
       "            font-weight: bold;\n",
       "            color: black;\n",
       "        }\n",
       "        #nonprimary {\n",
       "            font-weight: normal;\n",
       "            color: white;\n",
       "        }\n",
       "\n",
       "        /* Show the tooltip text when you mouse over the tooltip container */\n",
       "        .djtooltip:hover .djtooltiptext {\n",
       "            visibility: visible;\n",
       "        }\n",
       "    </style>\n",
       "    \n",
       "    <b></b>\n",
       "        <div style=\"max-height:1000px;max-width:1500px;overflow:auto;\">\n",
       "        <table border=\"1\" class=\"Relation\">\n",
       "            <thead> <tr style=\"text-align: right;\"> <th> <div class=\"djtooltip\">\n",
       "                            <p id=\"primary\">nwb_file_name</p>\n",
       "                            <span class=\"djtooltiptext\">name of the NWB file</span>\n",
       "                        </div></th><th><div class=\"djtooltip\">\n",
       "                            <p id=\"primary\">interval_list_name</p>\n",
       "                            <span class=\"djtooltiptext\">descriptive name of this interval list</span>\n",
       "                        </div></th><th><div class=\"djtooltip\">\n",
       "                            <p id=\"nonprimary\">source</p>\n",
       "                            <span class=\"djtooltiptext\">source of data; current options are \"trodes\" and \"dlc\" (deep lab cut</span>\n",
       "                        </div></th><th><div class=\"djtooltip\">\n",
       "                            <p id=\"nonprimary\">import_file_name</p>\n",
       "                            <span class=\"djtooltiptext\">path to import file if importing position data</span>\n",
       "                        </div> </th> </tr> </thead>\n",
       "            <tbody> <tr> <td>despereaux20191125_.nwb</td>\n",
       "<td>pos 0 valid times</td>\n",
       "<td>trodes</td>\n",
       "<td></td></tr><tr><td>despereaux20191125_.nwb</td>\n",
       "<td>pos 1 valid times</td>\n",
       "<td>trodes</td>\n",
       "<td></td></tr><tr><td>despereaux20191125_.nwb</td>\n",
       "<td>pos 2 valid times</td>\n",
       "<td>trodes</td>\n",
       "<td></td></tr><tr><td>despereaux20191125_.nwb</td>\n",
       "<td>pos 3 valid times</td>\n",
       "<td>trodes</td>\n",
       "<td></td></tr><tr><td>despereaux20191125_.nwb</td>\n",
       "<td>pos 4 valid times</td>\n",
       "<td>trodes</td>\n",
       "<td></td></tr><tr><td>despereaux20191125_.nwb</td>\n",
       "<td>pos 5 valid times</td>\n",
       "<td>trodes</td>\n",
       "<td></td></tr><tr><td>despereaux20191125_.nwb</td>\n",
       "<td>pos 6 valid times</td>\n",
       "<td>trodes</td>\n",
       "<td></td> </tr> </tbody>\n",
       "        </table>\n",
       "        \n",
       "        <p>Total: 7</p></div>\n",
       "        "
      ],
      "text/plain": [
       "*nwb_file_name *interval_list source     import_file_na\n",
       "+------------+ +------------+ +--------+ +------------+\n",
       "despereaux2019 pos 0 valid ti trodes                   \n",
       "despereaux2019 pos 1 valid ti trodes                   \n",
       "despereaux2019 pos 2 valid ti trodes                   \n",
       "despereaux2019 pos 3 valid ti trodes                   \n",
       "despereaux2019 pos 4 valid ti trodes                   \n",
       "despereaux2019 pos 5 valid ti trodes                   \n",
       "despereaux2019 pos 6 valid ti trodes                   \n",
       " (Total: 7)"
      ]
     },
     "execution_count": 5,
     "metadata": {},
     "output_type": "execute_result"
    }
   ],
   "source": [
    "PositionSource()"
   ]
  },
  {
   "cell_type": "code",
   "execution_count": null,
   "metadata": {},
   "outputs": [],
   "source": []
  }
 ],
 "metadata": {
  "kernelspec": {
   "display_name": "Python [conda env:spyglass] *",
   "language": "python",
   "name": "conda-env-spyglass-py"
  },
  "language_info": {
   "codemirror_mode": {
    "name": "ipython",
    "version": 3
   },
   "file_extension": ".py",
   "mimetype": "text/x-python",
   "name": "python",
   "nbconvert_exporter": "python",
   "pygments_lexer": "ipython3",
   "version": "3.9.13"
  }
 },
 "nbformat": 4,
 "nbformat_minor": 4
}
