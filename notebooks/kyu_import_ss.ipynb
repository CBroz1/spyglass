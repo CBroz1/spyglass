{
 "cells": [
  {
   "cell_type": "markdown",
   "metadata": {},
   "source": [
    "Load things"
   ]
  },
  {
   "cell_type": "code",
   "execution_count": 1,
   "metadata": {},
   "outputs": [
    {
     "name": "stdout",
     "output_type": "stream",
     "text": [
      "Connecting kyu@lmf-db.cin.ucsf.edu:3306\n"
     ]
    }
   ],
   "source": [
    "from pathlib import Path\n",
    "import os\n",
    "\n",
    "import numpy as np\n",
    "import pynwb\n",
    "import datajoint as dj\n",
    "import nwb_datajoint as nd\n",
    "from ndx_franklab_novela import Probe\n",
    "\n",
    "import spiketoolkit as st\n",
    "\n",
    "import warnings\n",
    "warnings.simplefilter('ignore')\n",
    "\n",
    "data_dir = Path('/stelmo/nwb') # CHANGE ME TO THE BASE DIRECTORY FOR DATA STORAGE ON YOUR SYSTEM\n",
    "\n",
    "os.environ['NWB_DATAJOINT_BASE_DIR'] = str(data_dir)\n",
    "os.environ['KACHERY_STORAGE_DIR'] = str(data_dir / 'kachery-storage')\n",
    "os.environ['SPIKE_SORTING_STORAGE_DIR'] = str(data_dir / 'spikesorting')"
   ]
  },
  {
   "cell_type": "markdown",
   "metadata": {},
   "source": [
    "Insert data"
   ]
  },
  {
   "cell_type": "code",
   "execution_count": 3,
   "metadata": {},
   "outputs": [],
   "source": [
    "nwb_file_name = 'Jaq20190826.nwb'\n",
    "nwb_file_name2 = 'Jaq20190826_.nwb'"
   ]
  },
  {
   "cell_type": "code",
   "execution_count": 14,
   "metadata": {
    "scrolled": true,
    "tags": []
   },
   "outputs": [
    {
     "name": "stdout",
     "output_type": "stream",
     "text": [
      "Creating a copy of NWB file Jaq20190826.nwb with link to raw ephys data: Jaq20190826_.nwb\n",
      "Populate Session...\n",
      "Institution...\n",
      "Lab...\n",
      "LabMember...\n",
      "Subject...\n",
      "DataAcquisitionDevice...\n",
      "CameraDevice...\n",
      "Inserted ['jaq sleep camera', 'jaq run camera']\n",
      "Probe...\n",
      "Skipping Apparatus for now...\n",
      "IntervalList...\n",
      "Populate ExperimenterList...\n",
      "Populate ElectrodeGroup...\n",
      "Populate Electrode...\n",
      "Populate Raw...\n",
      "Estimating sampling rate...\n",
      "Estimated sampling rate: 30000.0\n",
      "Importing raw data: Estimated sampling rate:\t30000.0 Hz\n",
      "                    Number of valid intervals:\t17\n",
      "Populate SampleCount...\n",
      "WARNING: Unable to get sample count object in: /stelmo/nwb/beans20190718-trim_.nwb\n",
      "WARNING: Unable to get sample count object in: /stelmo/nwb/despereaux20191125_.nwb\n",
      "Populate DIOEvants...\n",
      "Populate SensorData\n",
      "Populate TaskEpochs\n",
      "Populate StateScriptFile\n",
      "Populate VideoFile\n",
      "RawPosition...\n",
      "Processing raw position data. Estimated sampling rate: 30.0 Hz\n",
      "Processing raw position data. Estimated sampling rate: 30.0 Hz\n",
      "Processing raw position data. Estimated sampling rate: 30.0 Hz\n",
      "Processing raw position data. Estimated sampling rate: 30.0 Hz\n",
      "Processing raw position data. Estimated sampling rate: 125.0 Hz\n",
      "Processing raw position data. Estimated sampling rate: 125.0 Hz\n",
      "Processing raw position data. Estimated sampling rate: 125.0 Hz\n",
      "HeadDir...\n",
      "Unable to import HeadDir: no Behavior module found in beans20190718-trim_.nwb\n",
      "Unable to import HeadDir: no Behavior module found in beans20190718_.nwb\n",
      "Unable to import HeadDir: no Behavior module found in despereaux20191125_.nwb\n",
      "Unable to import HeadDir: no Behavior module found in Jaq20190826_.nwb\n",
      "Speed...\n",
      "Unable to import Speed: no Behavior module found in beans20190718-trim_.nwb\n",
      "Unable to import Speed: no Behavior module found in beans20190718_.nwb\n",
      "Unable to import Speed: no Behavior module found in despereaux20191125_.nwb\n",
      "Unable to import Speed: no Behavior module found in Jaq20190826_.nwb\n",
      "LinPos...\n",
      "Unable to import LinPos: no Behavior module found in beans20190718-trim_.nwb\n",
      "Unable to import LinPos: no Behavior module found in beans20190718_.nwb\n",
      "Unable to import LinPos: no Behavior module found in despereaux20191125_.nwb\n",
      "Unable to import LinPos: no Behavior module found in Jaq20190826_.nwb\n"
     ]
    }
   ],
   "source": [
    "nd.insert_sessions(nwb_file_name)"
   ]
  },
  {
   "cell_type": "markdown",
   "metadata": {},
   "source": [
    "Check tables"
   ]
  },
  {
   "cell_type": "code",
   "execution_count": 16,
   "metadata": {},
   "outputs": [
    {
     "data": {
      "text/html": [
       "\n",
       "        \n",
       "        <style type=\"text/css\">\n",
       "            .Relation{\n",
       "                border-collapse:collapse;\n",
       "            }\n",
       "            .Relation th{\n",
       "                background: #A0A0A0; color: #ffffff; padding:4px; border:#f0e0e0 1px solid;\n",
       "                font-weight: normal; font-family: monospace; font-size: 100%;\n",
       "            }\n",
       "            .Relation td{\n",
       "                padding:4px; border:#f0e0e0 1px solid; font-size:100%;\n",
       "            }\n",
       "            .Relation tr:nth-child(odd){\n",
       "                background: #ffffff;\n",
       "            }\n",
       "            .Relation tr:nth-child(even){\n",
       "                background: #f3f1ff;\n",
       "            }\n",
       "            /* Tooltip container */\n",
       "            .djtooltip {\n",
       "            }\n",
       "            /* Tooltip text */\n",
       "            .djtooltip .djtooltiptext {\n",
       "                visibility: hidden;\n",
       "                width: 120px;\n",
       "                background-color: black;\n",
       "                color: #fff;\n",
       "                text-align: center;\n",
       "                padding: 5px 0;\n",
       "                border-radius: 6px;\n",
       "                /* Position the tooltip text - see examples below! */\n",
       "                position: absolute;\n",
       "                z-index: 1;\n",
       "            }\n",
       "            #primary {\n",
       "                font-weight: bold;\n",
       "                color: black;\n",
       "            }\n",
       "\n",
       "            #nonprimary {\n",
       "                font-weight: normal;\n",
       "                color: white;\n",
       "            }\n",
       "\n",
       "            /* Show the tooltip text when you mouse over the tooltip container */\n",
       "            .djtooltip:hover .djtooltiptext {\n",
       "                visibility: visible;\n",
       "            }\n",
       "        </style>\n",
       "        \n",
       "        <b></b>\n",
       "            <div style=\"max-height:1000px;max-width:1500px;overflow:auto;\">\n",
       "            <table border=\"1\" class=\"Relation\">\n",
       "                <thead> <tr style=\"text-align: right;\"> <th> <div class=\"djtooltip\">\n",
       "                                <p id=\"primary\">nwb_file_name</p>\n",
       "                                <span class=\"djtooltiptext\">the name of the NWB file</span>\n",
       "                            </div></th><th><div class=\"djtooltip\">\n",
       "                                <p id=\"nonprimary\">subject_id</p>\n",
       "                                <span class=\"djtooltiptext\"></span>\n",
       "                            </div></th><th><div class=\"djtooltip\">\n",
       "                                <p id=\"nonprimary\">institution_name</p>\n",
       "                                <span class=\"djtooltiptext\"></span>\n",
       "                            </div></th><th><div class=\"djtooltip\">\n",
       "                                <p id=\"nonprimary\">lab_name</p>\n",
       "                                <span class=\"djtooltiptext\"></span>\n",
       "                            </div></th><th><div class=\"djtooltip\">\n",
       "                                <p id=\"nonprimary\">session_id</p>\n",
       "                                <span class=\"djtooltiptext\"></span>\n",
       "                            </div></th><th><div class=\"djtooltip\">\n",
       "                                <p id=\"nonprimary\">session_description</p>\n",
       "                                <span class=\"djtooltiptext\"></span>\n",
       "                            </div></th><th><div class=\"djtooltip\">\n",
       "                                <p id=\"nonprimary\">session_start_time</p>\n",
       "                                <span class=\"djtooltiptext\"></span>\n",
       "                            </div></th><th><div class=\"djtooltip\">\n",
       "                                <p id=\"nonprimary\">timestamps_reference_time</p>\n",
       "                                <span class=\"djtooltiptext\"></span>\n",
       "                            </div></th><th><div class=\"djtooltip\">\n",
       "                                <p id=\"nonprimary\">experiment_description</p>\n",
       "                                <span class=\"djtooltiptext\"></span>\n",
       "                            </div> </th> </tr> </thead>\n",
       "                <tbody> <tr> <td>Jaq20190826_.nwb</td>\n",
       "<td>Jaq</td>\n",
       "<td>University of California, San Francisco</td>\n",
       "<td>Loren Frank</td>\n",
       "<td>jaq_01</td>\n",
       "<td>Theta and gait</td>\n",
       "<td>2019-08-26 16:53:47</td>\n",
       "<td>1970-01-01 00:00:00</td>\n",
       "<td>Theta and gait</td> </tr> </tbody>\n",
       "            </table>\n",
       "            \n",
       "            <p>Total: 1</p></div>\n",
       "            "
      ],
      "text/plain": [
       "*nwb_file_name subject_id     institution_na lab_name       session_id     session_descri session_start_ timestamps_ref experiment_des\n",
       "+------------+ +------------+ +------------+ +------------+ +------------+ +------------+ +------------+ +------------+ +------------+\n",
       "Jaq20190826_.n Jaq            University of  Loren Frank    jaq_01         Theta and gait 2019-08-26 16: 1970-01-01 00: Theta and gait\n",
       " (Total: 1)"
      ]
     },
     "execution_count": 16,
     "metadata": {},
     "output_type": "execute_result"
    }
   ],
   "source": [
    "nd.common.Session() & {'nwb_file_name':nwb_file_name2}"
   ]
  },
  {
   "cell_type": "code",
   "execution_count": 17,
   "metadata": {},
   "outputs": [
    {
     "data": {
      "text/html": [
       "\n",
       "        \n",
       "        <style type=\"text/css\">\n",
       "            .Relation{\n",
       "                border-collapse:collapse;\n",
       "            }\n",
       "            .Relation th{\n",
       "                background: #A0A0A0; color: #ffffff; padding:4px; border:#f0e0e0 1px solid;\n",
       "                font-weight: normal; font-family: monospace; font-size: 100%;\n",
       "            }\n",
       "            .Relation td{\n",
       "                padding:4px; border:#f0e0e0 1px solid; font-size:100%;\n",
       "            }\n",
       "            .Relation tr:nth-child(odd){\n",
       "                background: #ffffff;\n",
       "            }\n",
       "            .Relation tr:nth-child(even){\n",
       "                background: #f3f1ff;\n",
       "            }\n",
       "            /* Tooltip container */\n",
       "            .djtooltip {\n",
       "            }\n",
       "            /* Tooltip text */\n",
       "            .djtooltip .djtooltiptext {\n",
       "                visibility: hidden;\n",
       "                width: 120px;\n",
       "                background-color: black;\n",
       "                color: #fff;\n",
       "                text-align: center;\n",
       "                padding: 5px 0;\n",
       "                border-radius: 6px;\n",
       "                /* Position the tooltip text - see examples below! */\n",
       "                position: absolute;\n",
       "                z-index: 1;\n",
       "            }\n",
       "            #primary {\n",
       "                font-weight: bold;\n",
       "                color: black;\n",
       "            }\n",
       "\n",
       "            #nonprimary {\n",
       "                font-weight: normal;\n",
       "                color: white;\n",
       "            }\n",
       "\n",
       "            /* Show the tooltip text when you mouse over the tooltip container */\n",
       "            .djtooltip:hover .djtooltiptext {\n",
       "                visibility: visible;\n",
       "            }\n",
       "        </style>\n",
       "        \n",
       "        <b></b>\n",
       "            <div style=\"max-height:1000px;max-width:1500px;overflow:auto;\">\n",
       "            <table border=\"1\" class=\"Relation\">\n",
       "                <thead> <tr style=\"text-align: right;\"> <th> <div class=\"djtooltip\">\n",
       "                                <p id=\"primary\">nwb_file_name</p>\n",
       "                                <span class=\"djtooltiptext\">the name of the NWB file</span>\n",
       "                            </div></th><th><div class=\"djtooltip\">\n",
       "                                <p id=\"primary\">interval_list_name</p>\n",
       "                                <span class=\"djtooltiptext\">descriptive name of this interval list</span>\n",
       "                            </div></th><th><div class=\"djtooltip\">\n",
       "                                <p id=\"nonprimary\">valid_times</p>\n",
       "                                <span class=\"djtooltiptext\">numpy array with start and end times for each interval</span>\n",
       "                            </div> </th> </tr> </thead>\n",
       "                <tbody> <tr> <td>Jaq20190826_.nwb</td>\n",
       "<td>01_sleep</td>\n",
       "<td>=BLOB=</td></tr><tr><td>Jaq20190826_.nwb</td>\n",
       "<td>02_lineartrack</td>\n",
       "<td>=BLOB=</td></tr><tr><td>Jaq20190826_.nwb</td>\n",
       "<td>03_sleep</td>\n",
       "<td>=BLOB=</td></tr><tr><td>Jaq20190826_.nwb</td>\n",
       "<td>04_lineartrack</td>\n",
       "<td>=BLOB=</td></tr><tr><td>Jaq20190826_.nwb</td>\n",
       "<td>05_sleep</td>\n",
       "<td>=BLOB=</td></tr><tr><td>Jaq20190826_.nwb</td>\n",
       "<td>06_lineartrack</td>\n",
       "<td>=BLOB=</td></tr><tr><td>Jaq20190826_.nwb</td>\n",
       "<td>07_sleep</td>\n",
       "<td>=BLOB=</td></tr><tr><td>Jaq20190826_.nwb</td>\n",
       "<td>pos 0 valid times</td>\n",
       "<td>=BLOB=</td></tr><tr><td>Jaq20190826_.nwb</td>\n",
       "<td>pos 1 valid times</td>\n",
       "<td>=BLOB=</td></tr><tr><td>Jaq20190826_.nwb</td>\n",
       "<td>pos 2 valid times</td>\n",
       "<td>=BLOB=</td></tr><tr><td>Jaq20190826_.nwb</td>\n",
       "<td>pos 3 valid times</td>\n",
       "<td>=BLOB=</td></tr><tr><td>Jaq20190826_.nwb</td>\n",
       "<td>pos 4 valid times</td>\n",
       "<td>=BLOB=</td> </tr> </tbody>\n",
       "            </table>\n",
       "            <p>...</p>\n",
       "            <p>Total: 15</p></div>\n",
       "            "
      ],
      "text/plain": [
       "*nwb_file_name *interval_list valid_time\n",
       "+------------+ +------------+ +--------+\n",
       "Jaq20190826_.n 01_sleep       =BLOB=    \n",
       "Jaq20190826_.n 02_lineartrack =BLOB=    \n",
       "Jaq20190826_.n 03_sleep       =BLOB=    \n",
       "Jaq20190826_.n 04_lineartrack =BLOB=    \n",
       "Jaq20190826_.n 05_sleep       =BLOB=    \n",
       "Jaq20190826_.n 06_lineartrack =BLOB=    \n",
       "Jaq20190826_.n 07_sleep       =BLOB=    \n",
       "Jaq20190826_.n pos 0 valid ti =BLOB=    \n",
       "Jaq20190826_.n pos 1 valid ti =BLOB=    \n",
       "Jaq20190826_.n pos 2 valid ti =BLOB=    \n",
       "Jaq20190826_.n pos 3 valid ti =BLOB=    \n",
       "Jaq20190826_.n pos 4 valid ti =BLOB=    \n",
       "   ...\n",
       " (Total: 15)"
      ]
     },
     "execution_count": 17,
     "metadata": {},
     "output_type": "execute_result"
    }
   ],
   "source": [
    "nd.common.IntervalList() & {'nwb_file_name':nwb_file_name2}"
   ]
  },
  {
   "cell_type": "code",
   "execution_count": 9,
   "metadata": {},
   "outputs": [
    {
     "data": {
      "text/plain": [
       "[{'nwb_file_name': 'Jaq20190826_.nwb', 'electrode_group_name': '0'},\n",
       " {'nwb_file_name': 'Jaq20190826_.nwb', 'electrode_group_name': '1'},\n",
       " {'nwb_file_name': 'Jaq20190826_.nwb', 'electrode_group_name': '10'},\n",
       " {'nwb_file_name': 'Jaq20190826_.nwb', 'electrode_group_name': '11'},\n",
       " {'nwb_file_name': 'Jaq20190826_.nwb', 'electrode_group_name': '12'},\n",
       " {'nwb_file_name': 'Jaq20190826_.nwb', 'electrode_group_name': '13'},\n",
       " {'nwb_file_name': 'Jaq20190826_.nwb', 'electrode_group_name': '14'},\n",
       " {'nwb_file_name': 'Jaq20190826_.nwb', 'electrode_group_name': '15'},\n",
       " {'nwb_file_name': 'Jaq20190826_.nwb', 'electrode_group_name': '16'},\n",
       " {'nwb_file_name': 'Jaq20190826_.nwb', 'electrode_group_name': '17'},\n",
       " {'nwb_file_name': 'Jaq20190826_.nwb', 'electrode_group_name': '18'},\n",
       " {'nwb_file_name': 'Jaq20190826_.nwb', 'electrode_group_name': '19'},\n",
       " {'nwb_file_name': 'Jaq20190826_.nwb', 'electrode_group_name': '2'},\n",
       " {'nwb_file_name': 'Jaq20190826_.nwb', 'electrode_group_name': '20'},\n",
       " {'nwb_file_name': 'Jaq20190826_.nwb', 'electrode_group_name': '21'},\n",
       " {'nwb_file_name': 'Jaq20190826_.nwb', 'electrode_group_name': '22'},\n",
       " {'nwb_file_name': 'Jaq20190826_.nwb', 'electrode_group_name': '23'},\n",
       " {'nwb_file_name': 'Jaq20190826_.nwb', 'electrode_group_name': '24'},\n",
       " {'nwb_file_name': 'Jaq20190826_.nwb', 'electrode_group_name': '25'},\n",
       " {'nwb_file_name': 'Jaq20190826_.nwb', 'electrode_group_name': '26'},\n",
       " {'nwb_file_name': 'Jaq20190826_.nwb', 'electrode_group_name': '27'},\n",
       " {'nwb_file_name': 'Jaq20190826_.nwb', 'electrode_group_name': '28'},\n",
       " {'nwb_file_name': 'Jaq20190826_.nwb', 'electrode_group_name': '29'},\n",
       " {'nwb_file_name': 'Jaq20190826_.nwb', 'electrode_group_name': '3'},\n",
       " {'nwb_file_name': 'Jaq20190826_.nwb', 'electrode_group_name': '4'},\n",
       " {'nwb_file_name': 'Jaq20190826_.nwb', 'electrode_group_name': '5'},\n",
       " {'nwb_file_name': 'Jaq20190826_.nwb', 'electrode_group_name': '6'},\n",
       " {'nwb_file_name': 'Jaq20190826_.nwb', 'electrode_group_name': '7'},\n",
       " {'nwb_file_name': 'Jaq20190826_.nwb', 'electrode_group_name': '8'},\n",
       " {'nwb_file_name': 'Jaq20190826_.nwb', 'electrode_group_name': '9'}]"
      ]
     },
     "execution_count": 9,
     "metadata": {},
     "output_type": "execute_result"
    }
   ],
   "source": [
    "(nd.common.ElectrodeGroup & {'nwb_file_name':nwb_file_name2}).fetch(\"KEY\")"
   ]
  },
  {
   "cell_type": "code",
   "execution_count": 19,
   "metadata": {
    "scrolled": true
   },
   "outputs": [
    {
     "data": {
      "text/html": [
       "\n",
       "        \n",
       "        <style type=\"text/css\">\n",
       "            .Relation{\n",
       "                border-collapse:collapse;\n",
       "            }\n",
       "            .Relation th{\n",
       "                background: #A0A0A0; color: #ffffff; padding:4px; border:#f0e0e0 1px solid;\n",
       "                font-weight: normal; font-family: monospace; font-size: 100%;\n",
       "            }\n",
       "            .Relation td{\n",
       "                padding:4px; border:#f0e0e0 1px solid; font-size:100%;\n",
       "            }\n",
       "            .Relation tr:nth-child(odd){\n",
       "                background: #ffffff;\n",
       "            }\n",
       "            .Relation tr:nth-child(even){\n",
       "                background: #f3f1ff;\n",
       "            }\n",
       "            /* Tooltip container */\n",
       "            .djtooltip {\n",
       "            }\n",
       "            /* Tooltip text */\n",
       "            .djtooltip .djtooltiptext {\n",
       "                visibility: hidden;\n",
       "                width: 120px;\n",
       "                background-color: black;\n",
       "                color: #fff;\n",
       "                text-align: center;\n",
       "                padding: 5px 0;\n",
       "                border-radius: 6px;\n",
       "                /* Position the tooltip text - see examples below! */\n",
       "                position: absolute;\n",
       "                z-index: 1;\n",
       "            }\n",
       "            #primary {\n",
       "                font-weight: bold;\n",
       "                color: black;\n",
       "            }\n",
       "\n",
       "            #nonprimary {\n",
       "                font-weight: normal;\n",
       "                color: white;\n",
       "            }\n",
       "\n",
       "            /* Show the tooltip text when you mouse over the tooltip container */\n",
       "            .djtooltip:hover .djtooltiptext {\n",
       "                visibility: visible;\n",
       "            }\n",
       "        </style>\n",
       "        \n",
       "        <b>Raw voltage timeseries data, electricalSeries in NWB</b>\n",
       "            <div style=\"max-height:1000px;max-width:1500px;overflow:auto;\">\n",
       "            <table border=\"1\" class=\"Relation\">\n",
       "                <thead> <tr style=\"text-align: right;\"> <th> <div class=\"djtooltip\">\n",
       "                                <p id=\"primary\">nwb_file_name</p>\n",
       "                                <span class=\"djtooltiptext\">the name of the NWB file</span>\n",
       "                            </div></th><th><div class=\"djtooltip\">\n",
       "                                <p id=\"nonprimary\">interval_list_name</p>\n",
       "                                <span class=\"djtooltiptext\">descriptive name of this interval list</span>\n",
       "                            </div></th><th><div class=\"djtooltip\">\n",
       "                                <p id=\"nonprimary\">raw_object_id</p>\n",
       "                                <span class=\"djtooltiptext\">the NWB object ID for loading this object from the file</span>\n",
       "                            </div></th><th><div class=\"djtooltip\">\n",
       "                                <p id=\"nonprimary\">sampling_rate</p>\n",
       "                                <span class=\"djtooltiptext\">Sampling rate calculated from data, in Hz</span>\n",
       "                            </div></th><th><div class=\"djtooltip\">\n",
       "                                <p id=\"nonprimary\">comments</p>\n",
       "                                <span class=\"djtooltiptext\"></span>\n",
       "                            </div></th><th><div class=\"djtooltip\">\n",
       "                                <p id=\"nonprimary\">description</p>\n",
       "                                <span class=\"djtooltiptext\"></span>\n",
       "                            </div> </th> </tr> </thead>\n",
       "                <tbody> <tr> <td>Jaq20190826_.nwb</td>\n",
       "<td>raw data valid times</td>\n",
       "<td>a59662aa-ebc2-463a-9c2d-68358f6359d6</td>\n",
       "<td>30000.0</td>\n",
       "<td>sample comment</td>\n",
       "<td>Electrical series registered on electrode</td> </tr> </tbody>\n",
       "            </table>\n",
       "            \n",
       "            <p>Total: 1</p></div>\n",
       "            "
      ],
      "text/plain": [
       "*nwb_file_name interval_list_ raw_object_id  sampling_rate  comments       description   \n",
       "+------------+ +------------+ +------------+ +------------+ +------------+ +------------+\n",
       "Jaq20190826_.n raw data valid a59662aa-ebc2- 30000.0        sample comment Electrical ser\n",
       " (Total: 1)"
      ]
     },
     "execution_count": 19,
     "metadata": {},
     "output_type": "execute_result"
    }
   ],
   "source": [
    "nd.common.Raw() & {'nwb_file_name':nwb_file_name2}"
   ]
  },
  {
   "cell_type": "markdown",
   "metadata": {},
   "source": [
    "Populate SortGroup"
   ]
  },
  {
   "cell_type": "code",
   "execution_count": 21,
   "metadata": {},
   "outputs": [
    {
     "name": "stdout",
     "output_type": "stream",
     "text": [
      "About to delete:\n",
      "Nothing to delete\n"
     ]
    }
   ],
   "source": [
    "nd.common.SortGroup().set_group_by_shank(nwb_file_name2)"
   ]
  },
  {
   "cell_type": "code",
   "execution_count": 22,
   "metadata": {},
   "outputs": [
    {
     "data": {
      "text/html": [
       "\n",
       "        \n",
       "        <style type=\"text/css\">\n",
       "            .Relation{\n",
       "                border-collapse:collapse;\n",
       "            }\n",
       "            .Relation th{\n",
       "                background: #A0A0A0; color: #ffffff; padding:4px; border:#f0e0e0 1px solid;\n",
       "                font-weight: normal; font-family: monospace; font-size: 100%;\n",
       "            }\n",
       "            .Relation td{\n",
       "                padding:4px; border:#f0e0e0 1px solid; font-size:100%;\n",
       "            }\n",
       "            .Relation tr:nth-child(odd){\n",
       "                background: #ffffff;\n",
       "            }\n",
       "            .Relation tr:nth-child(even){\n",
       "                background: #f3f1ff;\n",
       "            }\n",
       "            /* Tooltip container */\n",
       "            .djtooltip {\n",
       "            }\n",
       "            /* Tooltip text */\n",
       "            .djtooltip .djtooltiptext {\n",
       "                visibility: hidden;\n",
       "                width: 120px;\n",
       "                background-color: black;\n",
       "                color: #fff;\n",
       "                text-align: center;\n",
       "                padding: 5px 0;\n",
       "                border-radius: 6px;\n",
       "                /* Position the tooltip text - see examples below! */\n",
       "                position: absolute;\n",
       "                z-index: 1;\n",
       "            }\n",
       "            #primary {\n",
       "                font-weight: bold;\n",
       "                color: black;\n",
       "            }\n",
       "\n",
       "            #nonprimary {\n",
       "                font-weight: normal;\n",
       "                color: white;\n",
       "            }\n",
       "\n",
       "            /* Show the tooltip text when you mouse over the tooltip container */\n",
       "            .djtooltip:hover .djtooltiptext {\n",
       "                visibility: visible;\n",
       "            }\n",
       "        </style>\n",
       "        \n",
       "        <b></b>\n",
       "            <div style=\"max-height:1000px;max-width:1500px;overflow:auto;\">\n",
       "            <table border=\"1\" class=\"Relation\">\n",
       "                <thead> <tr style=\"text-align: right;\"> <th> <div class=\"djtooltip\">\n",
       "                                <p id=\"primary\">nwb_file_name</p>\n",
       "                                <span class=\"djtooltiptext\">the name of the NWB file</span>\n",
       "                            </div></th><th><div class=\"djtooltip\">\n",
       "                                <p id=\"primary\">sort_group_id</p>\n",
       "                                <span class=\"djtooltiptext\">identifier for a group of electrodes</span>\n",
       "                            </div></th><th><div class=\"djtooltip\">\n",
       "                                <p id=\"nonprimary\">sort_reference_electrode_id</p>\n",
       "                                <span class=\"djtooltiptext\">the electrode to use for reference. -1: no reference, -2: common median</span>\n",
       "                            </div> </th> </tr> </thead>\n",
       "                <tbody> <tr> <td>Jaq20190826_.nwb</td>\n",
       "<td>0</td>\n",
       "<td>-1</td></tr><tr><td>Jaq20190826_.nwb</td>\n",
       "<td>1</td>\n",
       "<td>-1</td></tr><tr><td>Jaq20190826_.nwb</td>\n",
       "<td>2</td>\n",
       "<td>-1</td></tr><tr><td>Jaq20190826_.nwb</td>\n",
       "<td>3</td>\n",
       "<td>-1</td></tr><tr><td>Jaq20190826_.nwb</td>\n",
       "<td>4</td>\n",
       "<td>-1</td></tr><tr><td>Jaq20190826_.nwb</td>\n",
       "<td>5</td>\n",
       "<td>-1</td></tr><tr><td>Jaq20190826_.nwb</td>\n",
       "<td>6</td>\n",
       "<td>-1</td></tr><tr><td>Jaq20190826_.nwb</td>\n",
       "<td>7</td>\n",
       "<td>-1</td></tr><tr><td>Jaq20190826_.nwb</td>\n",
       "<td>8</td>\n",
       "<td>-1</td></tr><tr><td>Jaq20190826_.nwb</td>\n",
       "<td>9</td>\n",
       "<td>-1</td></tr><tr><td>Jaq20190826_.nwb</td>\n",
       "<td>10</td>\n",
       "<td>-1</td></tr><tr><td>Jaq20190826_.nwb</td>\n",
       "<td>11</td>\n",
       "<td>-1</td> </tr> </tbody>\n",
       "            </table>\n",
       "            <p>...</p>\n",
       "            <p>Total: 30</p></div>\n",
       "            "
      ],
      "text/plain": [
       "*nwb_file_name *sort_group_id sort_reference\n",
       "+------------+ +------------+ +------------+\n",
       "Jaq20190826_.n 0              -1            \n",
       "Jaq20190826_.n 1              -1            \n",
       "Jaq20190826_.n 2              -1            \n",
       "Jaq20190826_.n 3              -1            \n",
       "Jaq20190826_.n 4              -1            \n",
       "Jaq20190826_.n 5              -1            \n",
       "Jaq20190826_.n 6              -1            \n",
       "Jaq20190826_.n 7              -1            \n",
       "Jaq20190826_.n 8              -1            \n",
       "Jaq20190826_.n 9              -1            \n",
       "Jaq20190826_.n 10             -1            \n",
       "Jaq20190826_.n 11             -1            \n",
       "   ...\n",
       " (Total: 30)"
      ]
     },
     "execution_count": 22,
     "metadata": {},
     "output_type": "execute_result"
    }
   ],
   "source": [
    "nd.common.SortGroup() & {'nwb_file_name':nwb_file_name2}"
   ]
  },
  {
   "cell_type": "markdown",
   "metadata": {},
   "source": [
    "Load spike sorters and parameters"
   ]
  },
  {
   "cell_type": "code",
   "execution_count": 23,
   "metadata": {},
   "outputs": [],
   "source": [
    "nd.common.SpikeSorter().insert_from_spikeinterface()\n",
    "nd.common.SpikeSorterParameters().insert_from_spikeinterface()"
   ]
  },
  {
   "cell_type": "code",
   "execution_count": 26,
   "metadata": {},
   "outputs": [
    {
     "data": {
      "text/html": [
       "\n",
       "        \n",
       "        <style type=\"text/css\">\n",
       "            .Relation{\n",
       "                border-collapse:collapse;\n",
       "            }\n",
       "            .Relation th{\n",
       "                background: #A0A0A0; color: #ffffff; padding:4px; border:#f0e0e0 1px solid;\n",
       "                font-weight: normal; font-family: monospace; font-size: 100%;\n",
       "            }\n",
       "            .Relation td{\n",
       "                padding:4px; border:#f0e0e0 1px solid; font-size:100%;\n",
       "            }\n",
       "            .Relation tr:nth-child(odd){\n",
       "                background: #ffffff;\n",
       "            }\n",
       "            .Relation tr:nth-child(even){\n",
       "                background: #f3f1ff;\n",
       "            }\n",
       "            /* Tooltip container */\n",
       "            .djtooltip {\n",
       "            }\n",
       "            /* Tooltip text */\n",
       "            .djtooltip .djtooltiptext {\n",
       "                visibility: hidden;\n",
       "                width: 120px;\n",
       "                background-color: black;\n",
       "                color: #fff;\n",
       "                text-align: center;\n",
       "                padding: 5px 0;\n",
       "                border-radius: 6px;\n",
       "                /* Position the tooltip text - see examples below! */\n",
       "                position: absolute;\n",
       "                z-index: 1;\n",
       "            }\n",
       "            #primary {\n",
       "                font-weight: bold;\n",
       "                color: black;\n",
       "            }\n",
       "\n",
       "            #nonprimary {\n",
       "                font-weight: normal;\n",
       "                color: white;\n",
       "            }\n",
       "\n",
       "            /* Show the tooltip text when you mouse over the tooltip container */\n",
       "            .djtooltip:hover .djtooltiptext {\n",
       "                visibility: visible;\n",
       "            }\n",
       "        </style>\n",
       "        \n",
       "        <b></b>\n",
       "            <div style=\"max-height:1000px;max-width:1500px;overflow:auto;\">\n",
       "            <table border=\"1\" class=\"Relation\">\n",
       "                <thead> <tr style=\"text-align: right;\"> <th> <div class=\"djtooltip\">\n",
       "                                <p id=\"primary\">sorter_name</p>\n",
       "                                <span class=\"djtooltiptext\">the name of the spike sorting algorithm</span>\n",
       "                            </div></th><th><div class=\"djtooltip\">\n",
       "                                <p id=\"primary\">parameter_set_name</p>\n",
       "                                <span class=\"djtooltiptext\">label for this set of parameters</span>\n",
       "                            </div></th><th><div class=\"djtooltip\">\n",
       "                                <p id=\"nonprimary\">parameter_dict</p>\n",
       "                                <span class=\"djtooltiptext\">dictionary of parameter names and values</span>\n",
       "                            </div> </th> </tr> </thead>\n",
       "                <tbody> <tr> <td>hdsort</td>\n",
       "<td>default</td>\n",
       "<td>=BLOB=</td></tr><tr><td>herdingspikes</td>\n",
       "<td>default</td>\n",
       "<td>=BLOB=</td></tr><tr><td>ironclust</td>\n",
       "<td>default</td>\n",
       "<td>=BLOB=</td></tr><tr><td>kilosort</td>\n",
       "<td>default</td>\n",
       "<td>=BLOB=</td></tr><tr><td>kilosort2</td>\n",
       "<td>default</td>\n",
       "<td>=BLOB=</td></tr><tr><td>klusta</td>\n",
       "<td>default</td>\n",
       "<td>=BLOB=</td></tr><tr><td>mountainsort4</td>\n",
       "<td>default</td>\n",
       "<td>=BLOB=</td></tr><tr><td>mountainsort4</td>\n",
       "<td>franklab_mountainsort_20KHz</td>\n",
       "<td>=BLOB=</td></tr><tr><td>spykingcircus</td>\n",
       "<td>default</td>\n",
       "<td>=BLOB=</td></tr><tr><td>tridesclous</td>\n",
       "<td>default</td>\n",
       "<td>=BLOB=</td></tr><tr><td>waveclus</td>\n",
       "<td>default</td>\n",
       "<td>=BLOB=</td> </tr> </tbody>\n",
       "            </table>\n",
       "            \n",
       "            <p>Total: 11</p></div>\n",
       "            "
      ],
      "text/plain": [
       "*sorter_name   *parameter_set parameter_\n",
       "+------------+ +------------+ +--------+\n",
       "hdsort         default        =BLOB=    \n",
       "herdingspikes  default        =BLOB=    \n",
       "ironclust      default        =BLOB=    \n",
       "kilosort       default        =BLOB=    \n",
       "kilosort2      default        =BLOB=    \n",
       "klusta         default        =BLOB=    \n",
       "mountainsort4  default        =BLOB=    \n",
       "mountainsort4  franklab_mount =BLOB=    \n",
       "spykingcircus  default        =BLOB=    \n",
       "tridesclous    default        =BLOB=    \n",
       "waveclus       default        =BLOB=    \n",
       " (Total: 11)"
      ]
     },
     "execution_count": 26,
     "metadata": {},
     "output_type": "execute_result"
    }
   ],
   "source": [
    "nd.common.SpikeSorterParameters()"
   ]
  },
  {
   "cell_type": "markdown",
   "metadata": {},
   "source": [
    "Define spike sorter parameters from default"
   ]
  },
  {
   "cell_type": "code",
   "execution_count": 27,
   "metadata": {},
   "outputs": [],
   "source": [
    "p = (nd.common.SpikeSorterParameters() & {'sorter_name': 'mountainsort4', 'parameter_set_name' : 'default'}).fetch1()\n",
    "\n",
    "param = p['parameter_dict']\n",
    "param['adjacency_radius'] = 100\n",
    "param['curation'] = False\n",
    "param['num_workers'] = 4\n",
    "param['verbose'] = True\n",
    "param['clip_size'] = 50\n",
    "param['noise_overlap_threshold'] = 0\n",
    "\n",
    "nd.common.SpikeSorterParameters().insert1({'sorter_name': 'mountainsort4', \\\n",
    "                                           'parameter_set_name' : 'franklab_mountainsort_30KHz', \\\n",
    "                                           'parameter_dict' : param}, skip_duplicates='True')\n"
   ]
  },
  {
   "cell_type": "code",
   "execution_count": 28,
   "metadata": {},
   "outputs": [
    {
     "data": {
      "text/html": [
       "\n",
       "        \n",
       "        <style type=\"text/css\">\n",
       "            .Relation{\n",
       "                border-collapse:collapse;\n",
       "            }\n",
       "            .Relation th{\n",
       "                background: #A0A0A0; color: #ffffff; padding:4px; border:#f0e0e0 1px solid;\n",
       "                font-weight: normal; font-family: monospace; font-size: 100%;\n",
       "            }\n",
       "            .Relation td{\n",
       "                padding:4px; border:#f0e0e0 1px solid; font-size:100%;\n",
       "            }\n",
       "            .Relation tr:nth-child(odd){\n",
       "                background: #ffffff;\n",
       "            }\n",
       "            .Relation tr:nth-child(even){\n",
       "                background: #f3f1ff;\n",
       "            }\n",
       "            /* Tooltip container */\n",
       "            .djtooltip {\n",
       "            }\n",
       "            /* Tooltip text */\n",
       "            .djtooltip .djtooltiptext {\n",
       "                visibility: hidden;\n",
       "                width: 120px;\n",
       "                background-color: black;\n",
       "                color: #fff;\n",
       "                text-align: center;\n",
       "                padding: 5px 0;\n",
       "                border-radius: 6px;\n",
       "                /* Position the tooltip text - see examples below! */\n",
       "                position: absolute;\n",
       "                z-index: 1;\n",
       "            }\n",
       "            #primary {\n",
       "                font-weight: bold;\n",
       "                color: black;\n",
       "            }\n",
       "\n",
       "            #nonprimary {\n",
       "                font-weight: normal;\n",
       "                color: white;\n",
       "            }\n",
       "\n",
       "            /* Show the tooltip text when you mouse over the tooltip container */\n",
       "            .djtooltip:hover .djtooltiptext {\n",
       "                visibility: visible;\n",
       "            }\n",
       "        </style>\n",
       "        \n",
       "        <b></b>\n",
       "            <div style=\"max-height:1000px;max-width:1500px;overflow:auto;\">\n",
       "            <table border=\"1\" class=\"Relation\">\n",
       "                <thead> <tr style=\"text-align: right;\"> <th> <div class=\"djtooltip\">\n",
       "                                <p id=\"primary\">sorter_name</p>\n",
       "                                <span class=\"djtooltiptext\">the name of the spike sorting algorithm</span>\n",
       "                            </div></th><th><div class=\"djtooltip\">\n",
       "                                <p id=\"primary\">parameter_set_name</p>\n",
       "                                <span class=\"djtooltiptext\">label for this set of parameters</span>\n",
       "                            </div></th><th><div class=\"djtooltip\">\n",
       "                                <p id=\"nonprimary\">parameter_dict</p>\n",
       "                                <span class=\"djtooltiptext\">dictionary of parameter names and values</span>\n",
       "                            </div> </th> </tr> </thead>\n",
       "                <tbody> <tr> <td>hdsort</td>\n",
       "<td>default</td>\n",
       "<td>=BLOB=</td></tr><tr><td>herdingspikes</td>\n",
       "<td>default</td>\n",
       "<td>=BLOB=</td></tr><tr><td>ironclust</td>\n",
       "<td>default</td>\n",
       "<td>=BLOB=</td></tr><tr><td>kilosort</td>\n",
       "<td>default</td>\n",
       "<td>=BLOB=</td></tr><tr><td>kilosort2</td>\n",
       "<td>default</td>\n",
       "<td>=BLOB=</td></tr><tr><td>klusta</td>\n",
       "<td>default</td>\n",
       "<td>=BLOB=</td></tr><tr><td>mountainsort4</td>\n",
       "<td>default</td>\n",
       "<td>=BLOB=</td></tr><tr><td>mountainsort4</td>\n",
       "<td>franklab_mountainsort_20KHz</td>\n",
       "<td>=BLOB=</td></tr><tr><td>mountainsort4</td>\n",
       "<td>franklab_mountainsort_30KHz</td>\n",
       "<td>=BLOB=</td></tr><tr><td>spykingcircus</td>\n",
       "<td>default</td>\n",
       "<td>=BLOB=</td></tr><tr><td>tridesclous</td>\n",
       "<td>default</td>\n",
       "<td>=BLOB=</td></tr><tr><td>waveclus</td>\n",
       "<td>default</td>\n",
       "<td>=BLOB=</td> </tr> </tbody>\n",
       "            </table>\n",
       "            \n",
       "            <p>Total: 12</p></div>\n",
       "            "
      ],
      "text/plain": [
       "*sorter_name   *parameter_set parameter_\n",
       "+------------+ +------------+ +--------+\n",
       "hdsort         default        =BLOB=    \n",
       "herdingspikes  default        =BLOB=    \n",
       "ironclust      default        =BLOB=    \n",
       "kilosort       default        =BLOB=    \n",
       "kilosort2      default        =BLOB=    \n",
       "klusta         default        =BLOB=    \n",
       "mountainsort4  default        =BLOB=    \n",
       "mountainsort4  franklab_mount =BLOB=    \n",
       "mountainsort4  franklab_mount =BLOB=    \n",
       "spykingcircus  default        =BLOB=    \n",
       "tridesclous    default        =BLOB=    \n",
       "waveclus       default        =BLOB=    \n",
       " (Total: 12)"
      ]
     },
     "execution_count": 28,
     "metadata": {},
     "output_type": "execute_result"
    }
   ],
   "source": [
    "nd.common.SpikeSorterParameters()"
   ]
  },
  {
   "cell_type": "markdown",
   "metadata": {},
   "source": [
    "Define a sort interval"
   ]
  },
  {
   "cell_type": "code",
   "execution_count": 29,
   "metadata": {},
   "outputs": [],
   "source": [
    "interval = (nd.common.IntervalList() & {'nwb_file_name' : nwb_file_name2,\\\n",
    "                                  'interval_list_name':'04_lineartrack'†}).fetch1('valid_times')"
   ]
  },
  {
   "cell_type": "code",
   "execution_count": 32,
   "metadata": {},
   "outputs": [],
   "source": [
    "sort_interval = np.asarray([interval[0][0], interval[0][0]+10])"
   ]
  },
  {
   "cell_type": "code",
   "execution_count": 35,
   "metadata": {},
   "outputs": [],
   "source": [
    "nd.common.SortInterval().insert1({'nwb_file_name' : nwb_file_name2, 'sort_interval_name' : 'test',\\\n",
    "                                  'sort_interval' : sort_interval},\\\n",
    "                                 skip_duplicates=True)"
   ]
  },
  {
   "cell_type": "markdown",
   "metadata": {},
   "source": [
    "Define waveform parameters"
   ]
  },
  {
   "cell_type": "code",
   "execution_count": 38,
   "metadata": {},
   "outputs": [],
   "source": [
    "# create the sorting waveform parameters table\n",
    "n_noise_waveforms = 1000 # the number of random noise waveforms to save\n",
    "waveform_param_dict = st.postprocessing.get_waveforms_params()\n",
    "waveform_param_dict['grouping_property'] = 'group'\n",
    "# set the window to half of the clip size before and half after\n",
    "waveform_param_dict['ms_before'] = .75\n",
    "waveform_param_dict['ms_after'] = .75\n",
    "waveform_param_dict['dtype'] = 'i2'\n",
    "waveform_param_dict['verbose'] = False\n",
    "waveform_param_dict['max_spikes_per_unit'] = 1000\n",
    "nd.common.SpikeSortingWaveformParameters.insert1({'waveform_parameters_name' : 'franklab default', \\\n",
    "                                                  'n_noise_waveforms' : n_noise_waveforms,\\\n",
    "                                                  'waveform_parameter_dict' : waveform_param_dict}, replace='True')"
   ]
  },
  {
   "cell_type": "markdown",
   "metadata": {},
   "source": [
    "Define spike sorting parameters (note: this is different from spike sor _ter_ parameters defined above)"
   ]
  },
  {
   "cell_type": "code",
   "execution_count": 68,
   "metadata": {},
   "outputs": [],
   "source": [
    "key = dict()\n",
    "key['nwb_file_name'] = nwb_file_name2\n",
    "key['sort_group_id'] = 3\n",
    "key['sorter_name'] = 'mountainsort4'\n",
    "key['parameter_set_name'] = 'franklab_mountainsort_30KHz'\n",
    "key['sort_interval_name'] = 'test'\n",
    "key['waveform_parameters_name'] = 'franklab default'\n",
    "key['interval_list_name'] = '04_lineartrack'\n",
    "\n",
    "nd.common.SpikeSortingParameters().insert1(key, skip_duplicates='True')"
   ]
  },
  {
   "cell_type": "markdown",
   "metadata": {},
   "source": [
    "Run spike sorting"
   ]
  },
  {
   "cell_type": "code",
   "execution_count": 69,
   "metadata": {
    "scrolled": true
   },
   "outputs": [
    {
     "name": "stdout",
     "output_type": "stream",
     "text": [
      "in spike sorting\n",
      "writing new NWB file Jaq20190826_000000.nwb\n",
      "'end_frame' set to 0\n"
     ]
    },
    {
     "ename": "AssertionError",
     "evalue": "'start_frame' must be less than 'end_frame'!",
     "output_type": "error",
     "traceback": [
      "\u001b[0;31m---------------------------------------------------------------------------\u001b[0m",
      "\u001b[0;31mAssertionError\u001b[0m                            Traceback (most recent call last)",
      "\u001b[0;32m<ipython-input-69-94a533a6265b>\u001b[0m in \u001b[0;36m<module>\u001b[0;34m\u001b[0m\n\u001b[0;32m----> 1\u001b[0;31m \u001b[0mnd\u001b[0m\u001b[0;34m.\u001b[0m\u001b[0mcommon\u001b[0m\u001b[0;34m.\u001b[0m\u001b[0mSpikeSorting\u001b[0m\u001b[0;34m(\u001b[0m\u001b[0;34m)\u001b[0m\u001b[0;34m.\u001b[0m\u001b[0mpopulate\u001b[0m\u001b[0;34m(\u001b[0m\u001b[0;34m)\u001b[0m\u001b[0;34m\u001b[0m\u001b[0;34m\u001b[0m\u001b[0m\n\u001b[0m",
      "\u001b[0;32m~/miniconda3/envs/nwb_datajoint/lib/python3.8/site-packages/datajoint/autopopulate.py\u001b[0m in \u001b[0;36mpopulate\u001b[0;34m(self, suppress_errors, return_exception_objects, reserve_jobs, order, limit, max_calls, display_progress, *restrictions)\u001b[0m\n\u001b[1;32m    157\u001b[0m                     \u001b[0mself\u001b[0m\u001b[0;34m.\u001b[0m\u001b[0m__class__\u001b[0m\u001b[0;34m.\u001b[0m\u001b[0m_allow_insert\u001b[0m \u001b[0;34m=\u001b[0m \u001b[0;32mTrue\u001b[0m\u001b[0;34m\u001b[0m\u001b[0;34m\u001b[0m\u001b[0m\n\u001b[1;32m    158\u001b[0m                     \u001b[0;32mtry\u001b[0m\u001b[0;34m:\u001b[0m\u001b[0;34m\u001b[0m\u001b[0;34m\u001b[0m\u001b[0m\n\u001b[0;32m--> 159\u001b[0;31m                         \u001b[0mmake\u001b[0m\u001b[0;34m(\u001b[0m\u001b[0mdict\u001b[0m\u001b[0;34m(\u001b[0m\u001b[0mkey\u001b[0m\u001b[0;34m)\u001b[0m\u001b[0;34m)\u001b[0m\u001b[0;34m\u001b[0m\u001b[0;34m\u001b[0m\u001b[0m\n\u001b[0m\u001b[1;32m    160\u001b[0m                     \u001b[0;32mexcept\u001b[0m \u001b[0;34m(\u001b[0m\u001b[0mKeyboardInterrupt\u001b[0m\u001b[0;34m,\u001b[0m \u001b[0mSystemExit\u001b[0m\u001b[0;34m,\u001b[0m \u001b[0mException\u001b[0m\u001b[0;34m)\u001b[0m \u001b[0;32mas\u001b[0m \u001b[0merror\u001b[0m\u001b[0;34m:\u001b[0m\u001b[0;34m\u001b[0m\u001b[0;34m\u001b[0m\u001b[0m\n\u001b[1;32m    161\u001b[0m                         \u001b[0;32mtry\u001b[0m\u001b[0;34m:\u001b[0m\u001b[0;34m\u001b[0m\u001b[0;34m\u001b[0m\u001b[0m\n",
      "\u001b[0;32m~/repos/nwb_datajoint/nwb_datajoint/common/common_spikesorting.py\u001b[0m in \u001b[0;36mmake\u001b[0;34m(self, key)\u001b[0m\n\u001b[1;32m    297\u001b[0m         recording_extractor_path = os.path.join(os.environ['SPIKE_SORTING_STORAGE_DIR'], \n\u001b[1;32m    298\u001b[0m                                                 key['analysis_file_name'], np.array2string(sort_interval))\n\u001b[0;32m--> 299\u001b[0;31m         \u001b[0mrecording_extractor_cached\u001b[0m \u001b[0;34m=\u001b[0m \u001b[0mse\u001b[0m\u001b[0;34m.\u001b[0m\u001b[0mCacheRecordingExtractor\u001b[0m\u001b[0;34m(\u001b[0m\u001b[0mrecording_extractor\u001b[0m\u001b[0;34m,\u001b[0m \u001b[0msave_path\u001b[0m\u001b[0;34m=\u001b[0m\u001b[0mrecording_extractor_path\u001b[0m\u001b[0;34m)\u001b[0m\u001b[0;34m\u001b[0m\u001b[0;34m\u001b[0m\u001b[0m\n\u001b[0m\u001b[1;32m    300\u001b[0m         \u001b[0mprint\u001b[0m\u001b[0;34m(\u001b[0m\u001b[0;34mf'Sorting {key}...'\u001b[0m\u001b[0;34m)\u001b[0m\u001b[0;34m\u001b[0m\u001b[0;34m\u001b[0m\u001b[0m\n\u001b[1;32m    301\u001b[0m         sort = si.sorters.run_mountainsort4(recording=recording_extractor_cached, \n",
      "\u001b[0;32m~/miniconda3/envs/nwb_datajoint/lib/python3.8/site-packages/spikeextractors/cacheextractors.py\u001b[0m in \u001b[0;36m__init__\u001b[0;34m(self, recording, chunk_size, chunk_mb, save_path, verbose)\u001b[0m\n\u001b[1;32m     26\u001b[0m             \u001b[0mself\u001b[0m\u001b[0;34m.\u001b[0m\u001b[0m_is_tmp\u001b[0m \u001b[0;34m=\u001b[0m \u001b[0;32mFalse\u001b[0m\u001b[0;34m\u001b[0m\u001b[0;34m\u001b[0m\u001b[0m\n\u001b[1;32m     27\u001b[0m             \u001b[0mself\u001b[0m\u001b[0;34m.\u001b[0m\u001b[0m_tmp_file\u001b[0m \u001b[0;34m=\u001b[0m \u001b[0msave_path\u001b[0m\u001b[0;34m\u001b[0m\u001b[0;34m\u001b[0m\u001b[0m\n\u001b[0;32m---> 28\u001b[0;31m         \u001b[0mself\u001b[0m\u001b[0;34m.\u001b[0m\u001b[0m_dtype\u001b[0m \u001b[0;34m=\u001b[0m \u001b[0mrecording\u001b[0m\u001b[0;34m.\u001b[0m\u001b[0mget_dtype\u001b[0m\u001b[0;34m(\u001b[0m\u001b[0;34m)\u001b[0m\u001b[0;34m\u001b[0m\u001b[0;34m\u001b[0m\u001b[0m\n\u001b[0m\u001b[1;32m     29\u001b[0m         recording.write_to_binary_dat_format(save_path=self._tmp_file, dtype=self._dtype, chunk_size=chunk_size,\n\u001b[1;32m     30\u001b[0m                                              chunk_mb=chunk_mb, verbose=verbose)\n",
      "\u001b[0;32m~/miniconda3/envs/nwb_datajoint/lib/python3.8/site-packages/spikeextractors/recordingextractor.py\u001b[0m in \u001b[0;36mget_dtype\u001b[0;34m(self)\u001b[0m\n\u001b[1;32m    102\u001b[0m \u001b[0;34m\u001b[0m\u001b[0m\n\u001b[1;32m    103\u001b[0m     \u001b[0;32mdef\u001b[0m \u001b[0mget_dtype\u001b[0m\u001b[0;34m(\u001b[0m\u001b[0mself\u001b[0m\u001b[0;34m)\u001b[0m\u001b[0;34m:\u001b[0m\u001b[0;34m\u001b[0m\u001b[0;34m\u001b[0m\u001b[0m\n\u001b[0;32m--> 104\u001b[0;31m         \u001b[0;32mreturn\u001b[0m \u001b[0mself\u001b[0m\u001b[0;34m.\u001b[0m\u001b[0mget_traces\u001b[0m\u001b[0;34m(\u001b[0m\u001b[0mchannel_ids\u001b[0m\u001b[0;34m=\u001b[0m\u001b[0;34m[\u001b[0m\u001b[0mself\u001b[0m\u001b[0;34m.\u001b[0m\u001b[0mget_channel_ids\u001b[0m\u001b[0;34m(\u001b[0m\u001b[0;34m)\u001b[0m\u001b[0;34m[\u001b[0m\u001b[0;36m0\u001b[0m\u001b[0;34m]\u001b[0m\u001b[0;34m]\u001b[0m\u001b[0;34m,\u001b[0m \u001b[0mstart_frame\u001b[0m\u001b[0;34m=\u001b[0m\u001b[0;36m0\u001b[0m\u001b[0;34m,\u001b[0m \u001b[0mend_frame\u001b[0m\u001b[0;34m=\u001b[0m\u001b[0;36m1\u001b[0m\u001b[0;34m)\u001b[0m\u001b[0;34m.\u001b[0m\u001b[0mdtype\u001b[0m\u001b[0;34m\u001b[0m\u001b[0;34m\u001b[0m\u001b[0m\n\u001b[0m\u001b[1;32m    105\u001b[0m \u001b[0;34m\u001b[0m\u001b[0m\n\u001b[1;32m    106\u001b[0m     \u001b[0;32mdef\u001b[0m \u001b[0mframe_to_time\u001b[0m\u001b[0;34m(\u001b[0m\u001b[0mself\u001b[0m\u001b[0;34m,\u001b[0m \u001b[0mframe\u001b[0m\u001b[0;34m)\u001b[0m\u001b[0;34m:\u001b[0m\u001b[0;34m\u001b[0m\u001b[0;34m\u001b[0m\u001b[0m\n",
      "\u001b[0;32m~/miniconda3/envs/nwb_datajoint/lib/python3.8/site-packages/spikeextractors/extraction_tools.py\u001b[0m in \u001b[0;36mcorrected_args\u001b[0;34m(*args, **kwargs)\u001b[0m\n\u001b[1;32m    765\u001b[0m         \u001b[0;32melse\u001b[0m\u001b[0;34m:\u001b[0m\u001b[0;34m\u001b[0m\u001b[0;34m\u001b[0m\u001b[0m\n\u001b[1;32m    766\u001b[0m             \u001b[0mend_frame\u001b[0m \u001b[0;34m=\u001b[0m \u001b[0mrecording\u001b[0m\u001b[0;34m.\u001b[0m\u001b[0mget_num_frames\u001b[0m\u001b[0;34m(\u001b[0m\u001b[0;34m)\u001b[0m\u001b[0;34m\u001b[0m\u001b[0;34m\u001b[0m\u001b[0m\n\u001b[0;32m--> 767\u001b[0;31m         \u001b[0;32massert\u001b[0m \u001b[0mend_frame\u001b[0m \u001b[0;34m-\u001b[0m \u001b[0mstart_frame\u001b[0m \u001b[0;34m>\u001b[0m \u001b[0;36m0\u001b[0m\u001b[0;34m,\u001b[0m \u001b[0;34m\"'start_frame' must be less than 'end_frame'!\"\u001b[0m\u001b[0;34m\u001b[0m\u001b[0;34m\u001b[0m\u001b[0m\n\u001b[0m\u001b[1;32m    768\u001b[0m         \u001b[0mstart_frame\u001b[0m\u001b[0;34m,\u001b[0m \u001b[0mend_frame\u001b[0m \u001b[0;34m=\u001b[0m \u001b[0mcast_start_end_frame\u001b[0m\u001b[0;34m(\u001b[0m\u001b[0mstart_frame\u001b[0m\u001b[0;34m,\u001b[0m \u001b[0mend_frame\u001b[0m\u001b[0;34m)\u001b[0m\u001b[0;34m\u001b[0m\u001b[0;34m\u001b[0m\u001b[0m\n\u001b[1;32m    769\u001b[0m         \u001b[0mkwargs\u001b[0m\u001b[0;34m[\u001b[0m\u001b[0;34m'channel_ids'\u001b[0m\u001b[0;34m]\u001b[0m \u001b[0;34m=\u001b[0m \u001b[0mchannel_ids\u001b[0m\u001b[0;34m\u001b[0m\u001b[0;34m\u001b[0m\u001b[0m\n",
      "\u001b[0;31mAssertionError\u001b[0m: 'start_frame' must be less than 'end_frame'!"
     ]
    }
   ],
   "source": [
    "nd.common.SpikeSorting().populate()"
   ]
  },
  {
   "cell_type": "markdown",
   "metadata": {},
   "source": [
    "Troubleshooting"
   ]
  },
  {
   "cell_type": "code",
   "execution_count": 70,
   "metadata": {},
   "outputs": [],
   "source": [
    "raw_data_obj = (nd.common.Raw() & {'nwb_file_name' : nwb_file_name2}).fetch_nwb()[0]['raw']\n",
    "timestamps = np.asarray(raw_data_obj.timestamps)"
   ]
  },
  {
   "cell_type": "code",
   "execution_count": 71,
   "metadata": {},
   "outputs": [
    {
     "data": {
      "text/plain": [
       "array([[1.56686824e+09, 1.56686914e+09]])"
      ]
     },
     "execution_count": 71,
     "metadata": {},
     "output_type": "execute_result"
    }
   ],
   "source": [
    "interval"
   ]
  },
  {
   "cell_type": "code",
   "execution_count": 77,
   "metadata": {},
   "outputs": [
    {
     "data": {
      "text/plain": [
       "array([75488847, 75488847])"
      ]
     },
     "execution_count": 77,
     "metadata": {},
     "output_type": "execute_result"
    }
   ],
   "source": [
    "np.searchsorted(timestamps, np.ravel(interval))"
   ]
  },
  {
   "cell_type": "code",
   "execution_count": 86,
   "metadata": {},
   "outputs": [
    {
     "data": {
      "text/plain": [
       "1669.8751361370087"
      ]
     },
     "execution_count": 86,
     "metadata": {},
     "output_type": "execute_result"
    }
   ],
   "source": [
    "timestamps[75488847] - timestamps[75488847-1]"
   ]
  },
  {
   "cell_type": "code",
   "execution_count": 87,
   "metadata": {},
   "outputs": [
    {
     "data": {
      "text/plain": [
       "903.6806597709656"
      ]
     },
     "execution_count": 87,
     "metadata": {},
     "output_type": "execute_result"
    }
   ],
   "source": [
    "interval[0][1]-interval[0][0]"
   ]
  },
  {
   "cell_type": "code",
   "execution_count": 135,
   "metadata": {},
   "outputs": [
    {
     "data": {
      "text/plain": [
       "<matplotlib.collections.LineCollection at 0x7f6151289ee0>"
      ]
     },
     "execution_count": 135,
     "metadata": {},
     "output_type": "execute_result"
    },
    {
     "data": {
      "image/png": "[encoded data removed]",
      "text/plain": [
       "<Figure size 432x288 with 1 Axes>"
      ]
     },
     "metadata": {
      "needs_background": "light"
     },
     "output_type": "display_data"
    }
   ],
   "source": [
    "import matplotlib.pyplot as plt\n",
    "\n",
    "plt.plot(timestamps[75488847-10:75488847+10],'k.')\n",
    "plt.hlines(interval,xmin=0,xmax=17,color='r')"
   ]
  },
  {
   "cell_type": "code",
   "execution_count": 136,
   "metadata": {},
   "outputs": [],
   "source": [
    "with pynwb.NWBHDF5IO(path='/stelmo/nwb/Jaq20190826.nwb', mode='r') as io:\n",
    "    nwbf = io.read()\n",
    "    samepochs = nwbf.epochs.to_dataframe()\n",
    "#     epoch_dict = dict()\n",
    "#     epoch_dict['nwb_file_name'] = nwb_file_name\n",
    "#     for e in epochs.iterrows():\n",
    "#         epoch_dict['interval_list_name'] = e[1].tags[0]\n",
    "#         epoch_dict['valid_times'] = np.asarray([[e[1].start_time, e[1].stop_time]])\n",
    "#         self.insert1(epoch_dict, skip_duplicates=True)ple_count = nd.common.get_data_interface(nwbf, 'sample_count')\n"
   ]
  },
  {
   "cell_type": "code",
   "execution_count": 148,
   "metadata": {},
   "outputs": [],
   "source": [
    "io = pynwb.NWBHDF5IO(path='/stelmo/nwb/Jaq20190826.nwb', mode='r')\n",
    "nwbf = io.read()"
   ]
  },
  {
   "cell_type": "code",
   "execution_count": 191,
   "metadata": {},
   "outputs": [
    {
     "data": {
      "text/html": [
       "<div>\n",
       "<style scoped>\n",
       "    .dataframe tbody tr th:only-of-type {\n",
       "        vertical-align: middle;\n",
       "    }\n",
       "\n",
       "    .dataframe tbody tr th {\n",
       "        vertical-align: top;\n",
       "    }\n",
       "\n",
       "    .dataframe thead th {\n",
       "        text-align: right;\n",
       "    }\n",
       "</style>\n",
       "<table border=\"1\" class=\"dataframe\">\n",
       "  <thead>\n",
       "    <tr style=\"text-align: right;\">\n",
       "      <th></th>\n",
       "      <th>start_time</th>\n",
       "      <th>stop_time</th>\n",
       "    </tr>\n",
       "    <tr>\n",
       "      <th>id</th>\n",
       "      <th></th>\n",
       "      <th></th>\n",
       "    </tr>\n",
       "  </thead>\n",
       "  <tbody>\n",
       "    <tr>\n",
       "      <th>0</th>\n",
       "      <td>1.566864e+09</td>\n",
       "      <td>1.566864e+09</td>\n",
       "    </tr>\n",
       "    <tr>\n",
       "      <th>1</th>\n",
       "      <td>1.566864e+09</td>\n",
       "      <td>1.566865e+09</td>\n",
       "    </tr>\n",
       "    <tr>\n",
       "      <th>2</th>\n",
       "      <td>1.566865e+09</td>\n",
       "      <td>1.566865e+09</td>\n",
       "    </tr>\n",
       "    <tr>\n",
       "      <th>3</th>\n",
       "      <td>1.566866e+09</td>\n",
       "      <td>1.566866e+09</td>\n",
       "    </tr>\n",
       "    <tr>\n",
       "      <th>4</th>\n",
       "      <td>1.566866e+09</td>\n",
       "      <td>1.566867e+09</td>\n",
       "    </tr>\n",
       "    <tr>\n",
       "      <th>5</th>\n",
       "      <td>1.566867e+09</td>\n",
       "      <td>1.566867e+09</td>\n",
       "    </tr>\n",
       "    <tr>\n",
       "      <th>6</th>\n",
       "      <td>1.566867e+09</td>\n",
       "      <td>1.566868e+09</td>\n",
       "    </tr>\n",
       "    <tr>\n",
       "      <th>7</th>\n",
       "      <td>1.566868e+09</td>\n",
       "      <td>1.566868e+09</td>\n",
       "    </tr>\n",
       "    <tr>\n",
       "      <th>8</th>\n",
       "      <td>1.566868e+09</td>\n",
       "      <td>1.566868e+09</td>\n",
       "    </tr>\n",
       "    <tr>\n",
       "      <th>9</th>\n",
       "      <td>1.566869e+09</td>\n",
       "      <td>1.566870e+09</td>\n",
       "    </tr>\n",
       "    <tr>\n",
       "      <th>10</th>\n",
       "      <td>1.566870e+09</td>\n",
       "      <td>1.566871e+09</td>\n",
       "    </tr>\n",
       "    <tr>\n",
       "      <th>11</th>\n",
       "      <td>1.566868e+09</td>\n",
       "      <td>1.566868e+09</td>\n",
       "    </tr>\n",
       "    <tr>\n",
       "      <th>12</th>\n",
       "      <td>1.566868e+09</td>\n",
       "      <td>1.566869e+09</td>\n",
       "    </tr>\n",
       "    <tr>\n",
       "      <th>13</th>\n",
       "      <td>1.566869e+09</td>\n",
       "      <td>1.566869e+09</td>\n",
       "    </tr>\n",
       "    <tr>\n",
       "      <th>14</th>\n",
       "      <td>1.566869e+09</td>\n",
       "      <td>1.566869e+09</td>\n",
       "    </tr>\n",
       "    <tr>\n",
       "      <th>15</th>\n",
       "      <td>1.566871e+09</td>\n",
       "      <td>1.566871e+09</td>\n",
       "    </tr>\n",
       "    <tr>\n",
       "      <th>16</th>\n",
       "      <td>1.566871e+09</td>\n",
       "      <td>1.566872e+09</td>\n",
       "    </tr>\n",
       "  </tbody>\n",
       "</table>\n",
       "</div>"
      ],
      "text/plain": [
       "      start_time     stop_time\n",
       "id                            \n",
       "0   1.566864e+09  1.566864e+09\n",
       "1   1.566864e+09  1.566865e+09\n",
       "2   1.566865e+09  1.566865e+09\n",
       "3   1.566866e+09  1.566866e+09\n",
       "4   1.566866e+09  1.566867e+09\n",
       "5   1.566867e+09  1.566867e+09\n",
       "6   1.566867e+09  1.566868e+09\n",
       "7   1.566868e+09  1.566868e+09\n",
       "8   1.566868e+09  1.566868e+09\n",
       "9   1.566869e+09  1.566870e+09\n",
       "10  1.566870e+09  1.566871e+09\n",
       "11  1.566868e+09  1.566868e+09\n",
       "12  1.566868e+09  1.566869e+09\n",
       "13  1.566869e+09  1.566869e+09\n",
       "14  1.566869e+09  1.566869e+09\n",
       "15  1.566871e+09  1.566871e+09\n",
       "16  1.566871e+09  1.566872e+09"
      ]
     },
     "execution_count": 191,
     "metadata": {},
     "output_type": "execute_result"
    }
   ],
   "source": [
    "nwbf.intervals['mda_valid_times'].to_dataframe()"
   ]
  },
  {
   "cell_type": "code",
   "execution_count": 179,
   "metadata": {},
   "outputs": [],
   "source": [
    "a = nwbf.intervals['epochs'].to_dataframe()['start_time'][5]"
   ]
  },
  {
   "cell_type": "code",
   "execution_count": 182,
   "metadata": {},
   "outputs": [
    {
     "data": {
      "text/plain": [
       "75488847"
      ]
     },
     "execution_count": 182,
     "metadata": {},
     "output_type": "execute_result"
    }
   ],
   "source": [
    "np.searchsorted(timestamps)"
   ]
  },
  {
   "cell_type": "code",
   "execution_count": 145,
   "metadata": {},
   "outputs": [
    {
     "data": {
      "text/html": [
       "<div>\n",
       "<style scoped>\n",
       "    .dataframe tbody tr th:only-of-type {\n",
       "        vertical-align: middle;\n",
       "    }\n",
       "\n",
       "    .dataframe tbody tr th {\n",
       "        vertical-align: top;\n",
       "    }\n",
       "\n",
       "    .dataframe thead th {\n",
       "        text-align: right;\n",
       "    }\n",
       "</style>\n",
       "<table border=\"1\" class=\"dataframe\">\n",
       "  <thead>\n",
       "    <tr style=\"text-align: right;\">\n",
       "      <th></th>\n",
       "      <th>start_time</th>\n",
       "      <th>stop_time</th>\n",
       "      <th>tags</th>\n",
       "    </tr>\n",
       "    <tr>\n",
       "      <th>id</th>\n",
       "      <th></th>\n",
       "      <th></th>\n",
       "      <th></th>\n",
       "    </tr>\n",
       "  </thead>\n",
       "  <tbody>\n",
       "    <tr>\n",
       "      <th>0</th>\n",
       "      <td>1.566864e+09</td>\n",
       "      <td>1.566865e+09</td>\n",
       "      <td>[01_sleep]</td>\n",
       "    </tr>\n",
       "    <tr>\n",
       "      <th>1</th>\n",
       "      <td>1.566866e+09</td>\n",
       "      <td>1.566868e+09</td>\n",
       "      <td>[03_sleep]</td>\n",
       "    </tr>\n",
       "    <tr>\n",
       "      <th>2</th>\n",
       "      <td>1.566869e+09</td>\n",
       "      <td>1.566871e+09</td>\n",
       "      <td>[05_sleep]</td>\n",
       "    </tr>\n",
       "    <tr>\n",
       "      <th>3</th>\n",
       "      <td>1.566872e+09</td>\n",
       "      <td>1.566874e+09</td>\n",
       "      <td>[07_sleep]</td>\n",
       "    </tr>\n",
       "    <tr>\n",
       "      <th>4</th>\n",
       "      <td>1.566865e+09</td>\n",
       "      <td>1.566866e+09</td>\n",
       "      <td>[02_lineartrack]</td>\n",
       "    </tr>\n",
       "    <tr>\n",
       "      <th>5</th>\n",
       "      <td>1.566868e+09</td>\n",
       "      <td>1.566869e+09</td>\n",
       "      <td>[04_lineartrack]</td>\n",
       "    </tr>\n",
       "    <tr>\n",
       "      <th>6</th>\n",
       "      <td>1.566871e+09</td>\n",
       "      <td>1.566872e+09</td>\n",
       "      <td>[06_lineartrack]</td>\n",
       "    </tr>\n",
       "  </tbody>\n",
       "</table>\n",
       "</div>"
      ],
      "text/plain": [
       "      start_time     stop_time              tags\n",
       "id                                              \n",
       "0   1.566864e+09  1.566865e+09        [01_sleep]\n",
       "1   1.566866e+09  1.566868e+09        [03_sleep]\n",
       "2   1.566869e+09  1.566871e+09        [05_sleep]\n",
       "3   1.566872e+09  1.566874e+09        [07_sleep]\n",
       "4   1.566865e+09  1.566866e+09  [02_lineartrack]\n",
       "5   1.566868e+09  1.566869e+09  [04_lineartrack]\n",
       "6   1.566871e+09  1.566872e+09  [06_lineartrack]"
      ]
     },
     "execution_count": 145,
     "metadata": {},
     "output_type": "execute_result"
    }
   ],
   "source": [
    "samepochs"
   ]
  }
 ],
 "metadata": {
  "kernelspec": {
   "display_name": "Python [conda env:nwb_datajoint] *",
   "language": "python",
   "name": "conda-env-nwb_datajoint-py"
  },
  "language_info": {
   "codemirror_mode": {
    "name": "ipython",
    "version": 3
   },
   "file_extension": ".py",
   "mimetype": "text/x-python",
   "name": "python",
   "nbconvert_exporter": "python",
   "pygments_lexer": "ipython3",
   "version": "3.8.0"
  }
 },
 "nbformat": 4,
 "nbformat_minor": 4
}
