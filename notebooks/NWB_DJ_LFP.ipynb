{
 "cells": [
  {
   "cell_type": "markdown",
   "metadata": {},
   "source": [
    "# This notebook shows an example where a set of electrodes are selected from a dataset and then LFP is extracted from those electrodes and then written to a new NWB file\n"
   ]
  },
  {
   "cell_type": "markdown",
   "metadata": {},
   "source": [
    "## The following steps must be completed before running this notebook:\n",
    "### 1) Set up access to a DataJoint database. See https://tutorials.datajoint.io/\n",
    "### 2) Install pynwb. \n",
    "    See https://pynwb.readthedocs.io/en/stable/getting_started.html#installation\n",
    "    Note: currently this requires pynwb 1.3.3 or above and hdmf 2.0.1 or above, so use the latest development versions, not the conda versions\n",
    "### 3) Install the ndx-fl-novela package. \n",
    "     conda install -c novelakrk ndx-fl-novela\n",
    "### 4) Download the example franklab NWB file from DropBox. \n",
    "    https://www.dropbox.com/to_be_updated"
   ]
  },
  {
   "cell_type": "markdown",
   "metadata": {},
   "source": [
    "#### Make sure we're in the franklabnwb/franklabnwb directory. \n",
    "#### Eventually this will be unnecessary because the package will properly installed"
   ]
  },
  {
   "cell_type": "markdown",
   "metadata": {},
   "source": [
    "#### Load all of the relevant modules and set the environment variables. \n",
    "Note that the datadir and datadir/analysis must exist"
   ]
  },
  {
   "cell_type": "code",
   "execution_count": 1,
   "metadata": {},
   "outputs": [
    {
     "name": "stdout",
     "output_type": "stream",
     "text": [
      "env: DJ_SUPPORT_FILEPATH_MANAGEMENT=TRUE\n",
      "Connecting root@localhost:3306\n"
     ]
    },
    {
     "name": "stderr",
     "output_type": "stream",
     "text": [
      "18:29:35 [I] klustakwik KlustaKwik2 version 0.2.6\n"
     ]
    }
   ],
   "source": [
    "%env DJ_SUPPORT_FILEPATH_MANAGEMENT=TRUE\n",
    "%load_ext autoreload\n",
    "%autoreload 2\n",
    "\n",
    "\n",
    "import pynwb\n",
    "import os\n",
    "\n",
    "#DataJoint and DataJoint schema\n",
    "import datajoint as dj\n",
    "\n",
    "# the commands below can be run once to update your global configuration\n",
    "\n",
    "dj.config[\"enable_python_native_blobs\"] = True\n",
    "dj.config[\"database.user\"] = 'root'\n",
    "dj.config[\"databasse.password\"] = 'tutorial'\n",
    "dj.config.save_global()\n",
    "\n",
    "import nwb_datajoint as nd\n",
    "import ndx_franklab_novela.probe\n",
    "\n",
    "data_dir = '/Users/loren/data/nwb_builder_test_data'\n",
    "os.environ['NWB_DATAJOINT_BASE_DIR'] = data_dir\n",
    "os.environ['KACHERY_STORAGE_DIR'] = os.path.join(data_dir, 'kachery-storage')\n",
    "\n"
   ]
  },
  {
   "cell_type": "markdown",
   "metadata": {},
   "source": [
    "#### Next we select the NWB file, which corresponds to the dataset we want to extract LFP from"
   ]
  },
  {
   "cell_type": "code",
   "execution_count": 2,
   "metadata": {},
   "outputs": [
    {
     "name": "stdout",
     "output_type": "stream",
     "text": [
      "beans20190718.nwb\n"
     ]
    }
   ],
   "source": [
    "nwb_file_names = nd.common.Nwbfile().fetch('nwb_file_name')\n",
    "# take the first one for this demonstration\n",
    "nwb_file_name = nwb_file_names[0]\n",
    "print(nwb_file_name)"
   ]
  },
  {
   "cell_type": "markdown",
   "metadata": {},
   "source": [
    "#### Create the standard LFP Filters. This only needs to be done once."
   ]
  },
  {
   "cell_type": "code",
   "execution_count": 3,
   "metadata": {},
   "outputs": [],
   "source": [
    "nd.common.FirFilter().create_standard_filters()"
   ]
  },
  {
   "cell_type": "markdown",
   "metadata": {},
   "source": [
    "### Select every fourth electrode for LFP"
   ]
  },
  {
   "cell_type": "code",
   "execution_count": 4,
   "metadata": {},
   "outputs": [
    {
     "name": "stdout",
     "output_type": "stream",
     "text": [
      "About to delete:\n",
      "`common_ephys`.`l_f_p_band_selection__l_f_p_band_electrode`: 3 items\n",
      "`common_ephys`.`l_f_p_band_selection`: 1 items\n",
      "`common_ephys`.`_l_f_p`: 1 items\n",
      "`common_ephys`.`l_f_p_selection__l_f_p_electrode`: 64 items\n",
      "`common_ephys`.`l_f_p_selection`: 1 items\n"
     ]
    },
    {
     "name": "stdin",
     "output_type": "stream",
     "text": [
      "Proceed? [yes, No]:  no\n"
     ]
    },
    {
     "name": "stdout",
     "output_type": "stream",
     "text": [
      "Cancelled deletes.\n"
     ]
    }
   ],
   "source": [
    "electrode_ids = nd.common.Electrode.fetch('electrode_id')\n",
    "lfp_electrode_ids = electrode_ids[range(0, len(electrode_ids), 4)]\n",
    "nd.common.LFPSelection().set_lfp_electrodes(nwb_file_name, lfp_electrode_ids.tolist())\n"
   ]
  },
  {
   "cell_type": "markdown",
   "metadata": {},
   "source": [
    "### Or select one electrode for LFP\n"
   ]
  },
  {
   "cell_type": "code",
   "execution_count": 3,
   "metadata": {},
   "outputs": [
    {
     "name": "stdout",
     "output_type": "stream",
     "text": [
      "About to delete:\n",
      "`common_ephys`.`l_f_p_selection__l_f_p_electrode`: 128 items\n",
      "`common_ephys`.`l_f_p_selection`: 1 items\n"
     ]
    },
    {
     "name": "stdin",
     "output_type": "stream",
     "text": [
      "Proceed? [yes, No]:  yes\n"
     ]
    },
    {
     "name": "stdout",
     "output_type": "stream",
     "text": [
      "Committed.\n"
     ]
    }
   ],
   "source": [
    "nd.common.LFPSelection().set_lfp_electrodes(nwb_file_name, [2])"
   ]
  },
  {
   "cell_type": "markdown",
   "metadata": {},
   "source": [
    "### Populate the LFP table. Note that this takes 2 hours or so on a laptop if you use all electrodes"
   ]
  },
  {
   "cell_type": "code",
   "execution_count": 4,
   "metadata": {},
   "outputs": [
    {
     "name": "stdout",
     "output_type": "stream",
     "text": [
      "writing new NWB file beans20190718_00000001.nwb\n",
      "Output array should have shape (1091950, 64) and dtype <f8\n",
      "Output array should have shape (212812, 64) and dtype <f8\n",
      "Output array should have shape (2557744, 64) and dtype <f8\n",
      "Output array should have shape (1356939, 64) and dtype <f8\n",
      "Output array should have shape (1680945, 64) and dtype <f8\n",
      "Checking output array shape is disabled, make sure portion of output array has shape (1091950, 64)\n",
      "Checking output array shape is disabled, make sure portion of output array has shape (212812, 64)\n",
      "Checking output array shape is disabled, make sure portion of output array has shape (2557744, 64)\n",
      "Checking output array shape is disabled, make sure portion of output array has shape (1356939, 64)\n",
      "Checking output array shape is disabled, make sure portion of output array has shape (1680945, 64)\n"
     ]
    },
    {
     "data": {
      "text/plain": [
       "8340.460124849"
      ]
     },
     "execution_count": 4,
     "metadata": {},
     "output_type": "execute_result"
    }
   ],
   "source": [
    "import time\n",
    "tic = time.perf_counter()\n",
    "nd.common.LFP().populate()\n",
    "toc = time.perf_counter()\n",
    "toc - tic"
   ]
  },
  {
   "cell_type": "markdown",
   "metadata": {},
   "source": [
    "### Now that we've created the LFP object we can perform a second level of filtering for a band of interest, in this case the theta band\n",
    "We first need to create the filter"
   ]
  },
  {
   "cell_type": "code",
   "execution_count": 9,
   "metadata": {},
   "outputs": [],
   "source": [
    "lfp_sampling_rate = (nd.common.LFP() & {'nwb_file_name' : nwb_file_name}).fetch1('lfp_sampling_rate')\n",
    "filter_name = 'Theta 5-11 Hz'\n",
    "nd.common.FirFilter().add_filter(filter_name, lfp_sampling_rate, 'bandpass', [4, 5, 11, 12], 'theta filter for 1 Khz data')"
   ]
  },
  {
   "cell_type": "markdown",
   "metadata": {},
   "source": [
    "Next we add an entry for the LFP Band and the electrodes we want to filter"
   ]
  },
  {
   "cell_type": "code",
   "execution_count": 10,
   "metadata": {},
   "outputs": [],
   "source": [
    "# assume that we've filtered all the electrodes; change this if not\n",
    "lfp_band_electrode_ids = [0, 4, 8]\n",
    "\n",
    "# set the interval list name corresponding to the second epoch (a run session)\n",
    "interval_list_name = '02_r1'\n",
    "\n",
    "# set the reference to -1 to indicate no reference for all channels\n",
    "ref_elect = [-1]\n",
    "\n",
    "# desired sampling rate\n",
    "lfp_band_sampling_rate = lfp_sampling_rate // 10"
   ]
  },
  {
   "cell_type": "code",
   "execution_count": 91,
   "metadata": {},
   "outputs": [],
   "source": [
    "nd.common.LFPBandSelection().set_lfp_band_electrodes(nwb_file_name, lfp_band_electrode_ids, filter_name, interval_list_name, ref_elect, lfp_band_sampling_rate)"
   ]
  },
  {
   "cell_type": "markdown",
   "metadata": {},
   "source": [
    "Check to make sure it worked"
   ]
  },
  {
   "cell_type": "code",
   "execution_count": 92,
   "metadata": {},
   "outputs": [
    {
     "data": {
      "text/html": [
       "\n",
       "        \n",
       "        <style type=\"text/css\">\n",
       "            .Relation{\n",
       "                border-collapse:collapse;\n",
       "            }\n",
       "            .Relation th{\n",
       "                background: #A0A0A0; color: #ffffff; padding:4px; border:#f0e0e0 1px solid;\n",
       "                font-weight: normal; font-family: monospace; font-size: 100%;\n",
       "            }\n",
       "            .Relation td{\n",
       "                padding:4px; border:#f0e0e0 1px solid; font-size:100%;\n",
       "            }\n",
       "            .Relation tr:nth-child(odd){\n",
       "                background: #ffffff;\n",
       "            }\n",
       "            .Relation tr:nth-child(even){\n",
       "                background: #f3f1ff;\n",
       "            }\n",
       "            /* Tooltip container */\n",
       "            .djtooltip {\n",
       "            }\n",
       "            /* Tooltip text */\n",
       "            .djtooltip .djtooltiptext {\n",
       "                visibility: hidden;\n",
       "                width: 120px;\n",
       "                background-color: black;\n",
       "                color: #fff;\n",
       "                text-align: center;\n",
       "                padding: 5px 0;\n",
       "                border-radius: 6px;\n",
       "                /* Position the tooltip text - see examples below! */\n",
       "                position: absolute;\n",
       "                z-index: 1;\n",
       "            }\n",
       "            #primary {\n",
       "                font-weight: bold;\n",
       "                color: black;\n",
       "            }\n",
       "\n",
       "            #nonprimary {\n",
       "                font-weight: normal;\n",
       "                color: white;\n",
       "            }\n",
       "\n",
       "            /* Show the tooltip text when you mouse over the tooltip container */\n",
       "            .djtooltip:hover .djtooltiptext {\n",
       "                visibility: visible;\n",
       "            }\n",
       "        </style>\n",
       "        \n",
       "        <b></b>\n",
       "            <div style=\"max-height:1000px;max-width:1500px;overflow:auto;\">\n",
       "            <table border=\"1\" class=\"Relation\">\n",
       "                <thead> <tr style=\"text-align: right;\"> <th> <div class=\"djtooltip\">\n",
       "                                <p id=\"primary\">nwb_file_name</p>\n",
       "                                <span class=\"djtooltiptext\">the name of the NWB file</span>\n",
       "                            </div></th><th><div class=\"djtooltip\">\n",
       "                                <p id=\"primary\">filter_name</p>\n",
       "                                <span class=\"djtooltiptext\">descriptive name of this filter</span>\n",
       "                            </div></th><th><div class=\"djtooltip\">\n",
       "                                <p id=\"primary\">filter_sampling_rate</p>\n",
       "                                <span class=\"djtooltiptext\">sampling rate for this filter</span>\n",
       "                            </div></th><th><div class=\"djtooltip\">\n",
       "                                <p id=\"primary\">electrode_group_name</p>\n",
       "                                <span class=\"djtooltiptext\">electrode group name from NWBFile</span>\n",
       "                            </div></th><th><div class=\"djtooltip\">\n",
       "                                <p id=\"primary\">electrode_id</p>\n",
       "                                <span class=\"djtooltiptext\">the unique number for this electrode</span>\n",
       "                            </div></th><th><div class=\"djtooltip\">\n",
       "                                <p id=\"primary\">reference_elect_id</p>\n",
       "                                <span class=\"djtooltiptext\">the reference electrode to use; -1 for no reference</span>\n",
       "                            </div> </th> </tr> </thead>\n",
       "                <tbody> <tr> <td>beans20190718.nwb</td>\n",
       "<td>Theta 5-11 Hz</td>\n",
       "<td>1000</td>\n",
       "<td>0</td>\n",
       "<td>0</td>\n",
       "<td>-1</td></tr><tr><td>beans20190718.nwb</td>\n",
       "<td>Theta 5-11 Hz</td>\n",
       "<td>1000</td>\n",
       "<td>0</td>\n",
       "<td>4</td>\n",
       "<td>-1</td></tr><tr><td>beans20190718.nwb</td>\n",
       "<td>Theta 5-11 Hz</td>\n",
       "<td>1000</td>\n",
       "<td>0</td>\n",
       "<td>8</td>\n",
       "<td>-1</td> </tr> </tbody>\n",
       "            </table>\n",
       "            \n",
       "            <p>Total: 3</p></div>\n",
       "            "
      ],
      "text/plain": [
       "*nwb_file_name *filter_name   *filter_sampli *electrode_gro *electrode_id  *reference_ele\n",
       "+------------+ +------------+ +------------+ +------------+ +------------+ +------------+\n",
       "beans20190718. Theta 5-11 Hz  1000           0              0              -1            \n",
       "beans20190718. Theta 5-11 Hz  1000           0              4              -1            \n",
       "beans20190718. Theta 5-11 Hz  1000           0              8              -1            \n",
       " (Total: 3)"
      ]
     },
     "execution_count": 92,
     "metadata": {},
     "output_type": "execute_result"
    }
   ],
   "source": [
    "nd.common.LFPBandSelection().LFPBandElectrode()"
   ]
  },
  {
   "cell_type": "code",
   "execution_count": 93,
   "metadata": {},
   "outputs": [
    {
     "data": {
      "text/plain": [
       "filtered data pynwb.ecephys.ElectricalSeries at 0x140228951750352\n",
       "Fields:\n",
       "  comments: no comments\n",
       "  conversion: 1.0\n",
       "  data: <HDF5 dataset \"data\": shape (6900390, 64), type \"<i2\">\n",
       "  description: no description\n",
       "  electrodes: electrodes <class 'hdmf.common.table.DynamicTableRegion'>\n",
       "  interval: 1\n",
       "  resolution: -1.0\n",
       "  timestamps: <HDF5 dataset \"timestamps\": shape (6900390,), type \"<f8\">\n",
       "  timestamps_unit: seconds\n",
       "  unit: volts"
      ]
     },
     "execution_count": 93,
     "metadata": {},
     "output_type": "execute_result"
    }
   ],
   "source": [
    "(nd.common.LFP() & {'nwb_file_name' : nwb_file_name}).fetch_nwb(limit=1)[0]['lfp']"
   ]
  },
  {
   "cell_type": "code",
   "execution_count": 5,
   "metadata": {},
   "outputs": [
    {
     "name": "stdout",
     "output_type": "stream",
     "text": [
      "Theta 5-11 Hz 100\n",
      "writing new NWB file beans20190718_00000006.nwb\n",
      "Output array should have shape (277056, 3) and dtype <f8\n",
      "[0, 4, 8] [0 4 8]\n",
      "Checking output array shape is disabled, make sure portion of output array has shape (277056, 3)\n"
     ]
    }
   ],
   "source": [
    "nd.common.LFPBand().populate()"
   ]
  },
  {
   "cell_type": "code",
   "execution_count": 97,
   "metadata": {},
   "outputs": [
    {
     "name": "stderr",
     "output_type": "stream",
     "text": [
      "[autoreload of nwb_datajoint.common.common_ephys failed: Traceback (most recent call last):\n",
      "  File \"/Users/loren/opt/anaconda3/envs/nwbdj/lib/python3.7/site-packages/IPython/extensions/autoreload.py\", line 245, in check\n",
      "    superreload(m, reload, self.old_objects)\n",
      "  File \"/Users/loren/opt/anaconda3/envs/nwbdj/lib/python3.7/site-packages/IPython/extensions/autoreload.py\", line 410, in superreload\n",
      "    update_generic(old_obj, new_obj)\n",
      "  File \"/Users/loren/opt/anaconda3/envs/nwbdj/lib/python3.7/site-packages/IPython/extensions/autoreload.py\", line 347, in update_generic\n",
      "    update(a, b)\n",
      "  File \"/Users/loren/opt/anaconda3/envs/nwbdj/lib/python3.7/site-packages/IPython/extensions/autoreload.py\", line 302, in update_class\n",
      "    if update_generic(old_obj, new_obj): continue\n",
      "  File \"/Users/loren/opt/anaconda3/envs/nwbdj/lib/python3.7/site-packages/IPython/extensions/autoreload.py\", line 347, in update_generic\n",
      "    update(a, b)\n",
      "  File \"/Users/loren/opt/anaconda3/envs/nwbdj/lib/python3.7/site-packages/IPython/extensions/autoreload.py\", line 302, in update_class\n",
      "    if update_generic(old_obj, new_obj): continue\n",
      "  File \"/Users/loren/opt/anaconda3/envs/nwbdj/lib/python3.7/site-packages/IPython/extensions/autoreload.py\", line 347, in update_generic\n",
      "    update(a, b)\n",
      "  File \"/Users/loren/opt/anaconda3/envs/nwbdj/lib/python3.7/site-packages/IPython/extensions/autoreload.py\", line 302, in update_class\n",
      "    if update_generic(old_obj, new_obj): continue\n",
      "  File \"/Users/loren/opt/anaconda3/envs/nwbdj/lib/python3.7/site-packages/IPython/extensions/autoreload.py\", line 347, in update_generic\n",
      "    update(a, b)\n",
      "  File \"/Users/loren/opt/anaconda3/envs/nwbdj/lib/python3.7/site-packages/IPython/extensions/autoreload.py\", line 302, in update_class\n",
      "    if update_generic(old_obj, new_obj): continue\n",
      "RecursionError: maximum recursion depth exceeded while calling a Python object\n",
      "]\n"
     ]
    },
    {
     "name": "stdout",
     "output_type": "stream",
     "text": [
      "About to delete:\n",
      "`common_ephys`.`__l_f_p_band`: 1 items\n"
     ]
    },
    {
     "name": "stdin",
     "output_type": "stream",
     "text": [
      "Proceed? [yes, No]:  yes\n"
     ]
    },
    {
     "name": "stdout",
     "output_type": "stream",
     "text": [
      "Committed.\n"
     ]
    }
   ],
   "source": [
    "nd.common.LFPBand().delete()"
   ]
  },
  {
   "cell_type": "markdown",
   "metadata": {},
   "source": [
    "### Now we can plot the original signal, the LFP filtered trace, and the theta filtered trace together.\n",
    "Much of the code below could be replaced by a function calls that would return the data from each electrical series"
   ]
  },
  {
   "cell_type": "code",
   "execution_count": 6,
   "metadata": {},
   "outputs": [],
   "source": [
    "import matplotlib.pyplot as plt\n",
    "import numpy as np"
   ]
  },
  {
   "cell_type": "code",
   "execution_count": 11,
   "metadata": {},
   "outputs": [],
   "source": [
    "#get the three electrical series objects and the indeces of the electrodes we band pass filtered\n",
    "orig_eseries = (nd.common.Raw() & {'nwb_file_name' : nwb_file_name}).fetch_nwb()[0]['nwb']\n",
    "orig_elect_indeces = nd.common.get_electrode_indeces(orig_eseries, lfp_band_electrode_ids)\n",
    "\n",
    "lfp_eseries = (nd.common.LFP() & {'nwb_file_name' : nwb_file_name}).fetch_nwb()[0]['lfp']\n",
    "lfp_elect_indeces = nd.common.get_electrode_indeces(lfp_eseries, lfp_band_electrode_ids)\n",
    "\n",
    "lfp_band_eseries = (nd.common.LFPBand() & {'nwb_file_name' : nwb_file_name}).fetch_nwb()[0]['filtered_data']\n",
    "lfp_band_elect_indeces = nd.common.get_electrode_indeces(lfp_band_eseries, lfp_band_electrode_ids)\n"
   ]
  },
  {
   "cell_type": "code",
   "execution_count": 23,
   "metadata": {},
   "outputs": [],
   "source": [
    "# get a list of times for the first run epoch and then select a 2 second interval 100 seconds from the beginning\n",
    "run1times = (nd.common.IntervalList & {'interval_list_name' : '02_r1'}).fetch1('valid_times')\n",
    "plottimes = [run1times[0][0] + 101, run1times[0][0] + 102]"
   ]
  },
  {
   "cell_type": "code",
   "execution_count": 24,
   "metadata": {},
   "outputs": [],
   "source": [
    "# get the time indeces for each dataset\n",
    "orig_time_ind = np.argwhere(np.logical_and(orig_eseries.timestamps > plottimes[0], orig_eseries.timestamps < plottimes[1]))\n",
    "lfp_time_ind = np.argwhere(np.logical_and(lfp_eseries.timestamps > plottimes[0], lfp_eseries.timestamps < plottimes[1]))\n",
    "lfp_band_time_ind = np.argwhere(np.logical_and(lfp_band_eseries.timestamps > plottimes[0], lfp_band_eseries.timestamps < plottimes[1]))"
   ]
  },
  {
   "cell_type": "code",
   "execution_count": 25,
   "metadata": {},
   "outputs": [
    {
     "data": {
      "image/png": "[encoded data removed]",
      "text/plain": [
       "<Figure size 432x288 with 1 Axes>"
      ]
     },
     "metadata": {
      "needs_background": "light"
     },
     "output_type": "display_data"
    }
   ],
   "source": [
    "plt.plot(orig_eseries.timestamps[orig_time_ind], orig_eseries.data[orig_time_ind,orig_elect_indeces[1]], 'k-')\n",
    "plt.plot(lfp_eseries.timestamps[lfp_time_ind], lfp_eseries.data[lfp_time_ind,lfp_elect_indeces[1]], 'b-')\n",
    "plt.plot(lfp_band_eseries.timestamps[lfp_band_time_ind], lfp_band_eseries.data[lfp_band_time_ind,lfp_band_elect_indeces[1]], 'r-')\n",
    "plt.xlabel('Time (sec)')\n",
    "plt.ylabel('Amplitude (AD units)')\n",
    "\n",
    "plt.show()"
   ]
  }
 ],
 "metadata": {
  "kernelspec": {
   "display_name": "Python 3",
   "language": "python",
   "name": "python3"
  },
  "language_info": {
   "codemirror_mode": {
    "name": "ipython",
    "version": 3
   },
   "file_extension": ".py",
   "mimetype": "text/x-python",
   "name": "python",
   "nbconvert_exporter": "python",
   "pygments_lexer": "ipython3",
   "version": "3.7.7"
  }
 },
 "nbformat": 4,
 "nbformat_minor": 4
}
