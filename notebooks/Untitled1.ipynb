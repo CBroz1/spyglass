{
 "cells": [
  {
   "cell_type": "code",
   "execution_count": 2,
   "id": "202b0da7-0159-41ea-b2d7-5e2a59688bc6",
   "metadata": {},
   "outputs": [],
   "source": [
    "import os\n",
    "os.environ['KACHERY_TEMP_DIR'] = '/tmp/kachery-tmp'"
   ]
  },
  {
   "cell_type": "code",
   "execution_count": 3,
   "id": "78ee8464-3268-408a-8112-db6048de896d",
   "metadata": {},
   "outputs": [],
   "source": [
    "import nwb_datajoint.common as ndc"
   ]
  },
  {
   "cell_type": "code",
   "execution_count": 11,
   "id": "83f59b44-39db-4c0a-a1ce-00adebe9c9f5",
   "metadata": {},
   "outputs": [
    {
     "data": {
      "text/plain": [
       "{'nwb_file_name': 'RN2_20191110_.nwb',\n",
       " 'sort_group_id': 1,\n",
       " 'sort_interval_name': '01_r1_first180',\n",
       " 'preproc_params_name': 'default',\n",
       " 'recording_id': 'R_f5d769e8'}"
      ]
     },
     "execution_count": 11,
     "metadata": {},
     "output_type": "execute_result"
    }
   ],
   "source": [
    "(ndc.SpikeSortingRecording & {'nwb_file_name': 'RN2_20191110_.nwb'}).proj().fetch1()"
   ]
  },
  {
   "cell_type": "code",
   "execution_count": 8,
   "id": "0a54e995-48a6-4208-9f44-6de18656135f",
   "metadata": {},
   "outputs": [
    {
     "data": {
      "text/plain": [
       "dict"
      ]
     },
     "execution_count": 8,
     "metadata": {},
     "output_type": "execute_result"
    }
   ],
   "source": [
    "type(a)"
   ]
  },
  {
   "cell_type": "code",
   "execution_count": null,
   "id": "6fb150f1-17eb-481c-85d4-2fb9af2f4a19",
   "metadata": {},
   "outputs": [],
   "source": []
  }
 ],
 "metadata": {
  "kernelspec": {
   "display_name": "Python 3 (ipykernel)",
   "language": "python",
   "name": "python3"
  },
  "language_info": {
   "codemirror_mode": {
    "name": "ipython",
    "version": 3
   },
   "file_extension": ".py",
   "mimetype": "text/x-python",
   "name": "python",
   "nbconvert_exporter": "python",
   "pygments_lexer": "ipython3",
   "version": "3.8.12"
  }
 },
 "nbformat": 4,
 "nbformat_minor": 5
}
