{
 "cells": [
  {
   "cell_type": "markdown",
   "metadata": {},
   "source": [
    "# This notebook assumes that you've imported one or more NWB files into DataJoint \n",
    "# It allows you to run spikesorters on those data using the SpikeInterface package"
   ]
  },
  {
   "cell_type": "markdown",
   "metadata": {},
   "source": [
    "#### Load all of the relevant modules"
   ]
  },
  {
   "cell_type": "code",
   "execution_count": 69,
   "metadata": {},
   "outputs": [
    {
     "name": "stdout",
     "output_type": "stream",
     "text": [
      "env: DJ_SUPPORT_FILEPATH_MANAGEMENT=TRUE\n",
      "The autoreload extension is already loaded. To reload it, use:\n",
      "  %reload_ext autoreload\n"
     ]
    }
   ],
   "source": [
    "%env DJ_SUPPORT_FILEPATH_MANAGEMENT=TRUE\n",
    "%load_ext autoreload\n",
    "%autoreload 2\n",
    "\n",
    "import os\n",
    "data_dir = '/Users/loren/data/nwb_builder_test_data'\n",
    "os.environ['NWB_DATAJOINT_BASE_DIR'] = data_dir\n",
    "\n",
    "os.environ['KACHERY_STORAGE_DIR'] = os.path.join(data_dir, 'kachery-storage')\n",
    "os.environ['SORTING_TEMP_DIR'] = os.path.join(data_dir, 'sort_tmp')\n",
    "\n",
    "import numpy as np\n",
    "import pynwb\n",
    "import os\n",
    "\n",
    "#DataJoint and DataJoint schema\n",
    "import nwb_datajoint as nd\n",
    "import datajoint as dj\n",
    "import nelpy \n"
   ]
  },
  {
   "cell_type": "markdown",
   "metadata": {},
   "source": [
    "### Set the nwb file name and the name of the probe file to create from DataJoint"
   ]
  },
  {
   "cell_type": "code",
   "execution_count": 70,
   "metadata": {},
   "outputs": [],
   "source": [
    "nwb_file_name = (nd.common.Session() & {'session_id': 'beans_01'}).fetch1('nwb_file_name')"
   ]
  },
  {
   "cell_type": "markdown",
   "metadata": {},
   "source": [
    "### Set the sort grouping by shank"
   ]
  },
  {
   "cell_type": "code",
   "execution_count": 72,
   "metadata": {},
   "outputs": [
    {
     "name": "stdout",
     "output_type": "stream",
     "text": [
      "About to delete:\n",
      "`common_ephys`.`sort_group__sort_group_electrode`: 256 items\n",
      "`common_ephys`.`sort_group`: 8 items\n"
     ]
    },
    {
     "name": "stdin",
     "output_type": "stream",
     "text": [
      "Proceed? [yes, No]:  yes\n"
     ]
    },
    {
     "name": "stdout",
     "output_type": "stream",
     "text": [
      "Committed.\n"
     ]
    },
    {
     "data": {
      "text/html": [
       "\n",
       "        \n",
       "        <style type=\"text/css\">\n",
       "            .Relation{\n",
       "                border-collapse:collapse;\n",
       "            }\n",
       "            .Relation th{\n",
       "                background: #A0A0A0; color: #ffffff; padding:4px; border:#f0e0e0 1px solid;\n",
       "                font-weight: normal; font-family: monospace; font-size: 100%;\n",
       "            }\n",
       "            .Relation td{\n",
       "                padding:4px; border:#f0e0e0 1px solid; font-size:100%;\n",
       "            }\n",
       "            .Relation tr:nth-child(odd){\n",
       "                background: #ffffff;\n",
       "            }\n",
       "            .Relation tr:nth-child(even){\n",
       "                background: #f3f1ff;\n",
       "            }\n",
       "            /* Tooltip container */\n",
       "            .djtooltip {\n",
       "            }\n",
       "            /* Tooltip text */\n",
       "            .djtooltip .djtooltiptext {\n",
       "                visibility: hidden;\n",
       "                width: 120px;\n",
       "                background-color: black;\n",
       "                color: #fff;\n",
       "                text-align: center;\n",
       "                padding: 5px 0;\n",
       "                border-radius: 6px;\n",
       "                /* Position the tooltip text - see examples below! */\n",
       "                position: absolute;\n",
       "                z-index: 1;\n",
       "            }\n",
       "            #primary {\n",
       "                font-weight: bold;\n",
       "                color: black;\n",
       "            }\n",
       "\n",
       "            #nonprimary {\n",
       "                font-weight: normal;\n",
       "                color: white;\n",
       "            }\n",
       "\n",
       "            /* Show the tooltip text when you mouse over the tooltip container */\n",
       "            .djtooltip:hover .djtooltiptext {\n",
       "                visibility: visible;\n",
       "            }\n",
       "        </style>\n",
       "        \n",
       "        <b></b>\n",
       "            <div style=\"max-height:1000px;max-width:1500px;overflow:auto;\">\n",
       "            <table border=\"1\" class=\"Relation\">\n",
       "                <thead> <tr style=\"text-align: right;\"> <th> <div class=\"djtooltip\">\n",
       "                                <p id=\"primary\">nwb_file_name</p>\n",
       "                                <span class=\"djtooltiptext\">the name of the NWB file</span>\n",
       "                            </div></th><th><div class=\"djtooltip\">\n",
       "                                <p id=\"primary\">sort_group_id</p>\n",
       "                                <span class=\"djtooltiptext\">identifier for a group of electrodes</span>\n",
       "                            </div></th><th><div class=\"djtooltip\">\n",
       "                                <p id=\"nonprimary\">sort_reference_electrode_id</p>\n",
       "                                <span class=\"djtooltiptext\">the electrode to use for reference. -1: no reference, -2: common median</span>\n",
       "                            </div> </th> </tr> </thead>\n",
       "                <tbody> <tr> <td>beans20190718.nwb</td>\n",
       "<td>0</td>\n",
       "<td>-1</td></tr><tr><td>beans20190718.nwb</td>\n",
       "<td>1</td>\n",
       "<td>-1</td></tr><tr><td>beans20190718.nwb</td>\n",
       "<td>2</td>\n",
       "<td>-1</td></tr><tr><td>beans20190718.nwb</td>\n",
       "<td>3</td>\n",
       "<td>-1</td></tr><tr><td>beans20190718.nwb</td>\n",
       "<td>4</td>\n",
       "<td>-1</td></tr><tr><td>beans20190718.nwb</td>\n",
       "<td>5</td>\n",
       "<td>-1</td></tr><tr><td>beans20190718.nwb</td>\n",
       "<td>6</td>\n",
       "<td>-1</td></tr><tr><td>beans20190718.nwb</td>\n",
       "<td>7</td>\n",
       "<td>-1</td> </tr> </tbody>\n",
       "            </table>\n",
       "            \n",
       "            <p>Total: 8</p></div>\n",
       "            "
      ],
      "text/plain": [
       "*nwb_file_name *sort_group_id sort_reference\n",
       "+------------+ +------------+ +------------+\n",
       "beans20190718. 0              -1            \n",
       "beans20190718. 1              -1            \n",
       "beans20190718. 2              -1            \n",
       "beans20190718. 3              -1            \n",
       "beans20190718. 4              -1            \n",
       "beans20190718. 5              -1            \n",
       "beans20190718. 6              -1            \n",
       "beans20190718. 7              -1            \n",
       " (Total: 8)"
      ]
     },
     "execution_count": 72,
     "metadata": {},
     "output_type": "execute_result"
    }
   ],
   "source": [
    "nd.common.SortGroup().set_group_by_shank(nwb_file_name)\n",
    "nd.common.SortGroup()"
   ]
  },
  {
   "cell_type": "code",
   "execution_count": 84,
   "metadata": {},
   "outputs": [
    {
     "data": {
      "text/plain": [
       "array([('beans20190718.nwb', 0, '0',   0),\n",
       "       ('beans20190718.nwb', 0, '0',   1),\n",
       "       ('beans20190718.nwb', 0, '0',   2),\n",
       "       ('beans20190718.nwb', 0, '0',   3),\n",
       "       ('beans20190718.nwb', 0, '0',   4),\n",
       "       ('beans20190718.nwb', 0, '0',   5),\n",
       "       ('beans20190718.nwb', 0, '0',   6),\n",
       "       ('beans20190718.nwb', 0, '0',   7),\n",
       "       ('beans20190718.nwb', 0, '0',   8),\n",
       "       ('beans20190718.nwb', 0, '0',   9),\n",
       "       ('beans20190718.nwb', 0, '0',  10),\n",
       "       ('beans20190718.nwb', 0, '0',  11),\n",
       "       ('beans20190718.nwb', 0, '0',  12),\n",
       "       ('beans20190718.nwb', 0, '0',  13),\n",
       "       ('beans20190718.nwb', 0, '0',  14),\n",
       "       ('beans20190718.nwb', 0, '0',  15),\n",
       "       ('beans20190718.nwb', 0, '0',  16),\n",
       "       ('beans20190718.nwb', 0, '0',  17),\n",
       "       ('beans20190718.nwb', 0, '0',  18),\n",
       "       ('beans20190718.nwb', 0, '0',  19),\n",
       "       ('beans20190718.nwb', 0, '0',  20),\n",
       "       ('beans20190718.nwb', 0, '0',  21),\n",
       "       ('beans20190718.nwb', 0, '0',  22),\n",
       "       ('beans20190718.nwb', 0, '0',  23),\n",
       "       ('beans20190718.nwb', 0, '0',  24),\n",
       "       ('beans20190718.nwb', 0, '0',  25),\n",
       "       ('beans20190718.nwb', 0, '0',  26),\n",
       "       ('beans20190718.nwb', 0, '0',  27),\n",
       "       ('beans20190718.nwb', 0, '0',  28),\n",
       "       ('beans20190718.nwb', 0, '0',  29),\n",
       "       ('beans20190718.nwb', 0, '0',  30),\n",
       "       ('beans20190718.nwb', 0, '0',  31),\n",
       "       ('beans20190718.nwb', 1, '0',  32),\n",
       "       ('beans20190718.nwb', 1, '0',  33),\n",
       "       ('beans20190718.nwb', 1, '0',  34),\n",
       "       ('beans20190718.nwb', 1, '0',  35),\n",
       "       ('beans20190718.nwb', 1, '0',  36),\n",
       "       ('beans20190718.nwb', 1, '0',  37),\n",
       "       ('beans20190718.nwb', 1, '0',  38),\n",
       "       ('beans20190718.nwb', 1, '0',  39),\n",
       "       ('beans20190718.nwb', 1, '0',  40),\n",
       "       ('beans20190718.nwb', 1, '0',  41),\n",
       "       ('beans20190718.nwb', 1, '0',  42),\n",
       "       ('beans20190718.nwb', 1, '0',  43),\n",
       "       ('beans20190718.nwb', 1, '0',  44),\n",
       "       ('beans20190718.nwb', 1, '0',  45),\n",
       "       ('beans20190718.nwb', 1, '0',  46),\n",
       "       ('beans20190718.nwb', 1, '0',  47),\n",
       "       ('beans20190718.nwb', 1, '0',  48),\n",
       "       ('beans20190718.nwb', 1, '0',  49),\n",
       "       ('beans20190718.nwb', 1, '0',  50),\n",
       "       ('beans20190718.nwb', 1, '0',  51),\n",
       "       ('beans20190718.nwb', 1, '0',  52),\n",
       "       ('beans20190718.nwb', 1, '0',  53),\n",
       "       ('beans20190718.nwb', 1, '0',  54),\n",
       "       ('beans20190718.nwb', 1, '0',  55),\n",
       "       ('beans20190718.nwb', 1, '0',  56),\n",
       "       ('beans20190718.nwb', 1, '0',  57),\n",
       "       ('beans20190718.nwb', 1, '0',  58),\n",
       "       ('beans20190718.nwb', 1, '0',  59),\n",
       "       ('beans20190718.nwb', 1, '0',  60),\n",
       "       ('beans20190718.nwb', 1, '0',  61),\n",
       "       ('beans20190718.nwb', 1, '0',  62),\n",
       "       ('beans20190718.nwb', 1, '0',  63),\n",
       "       ('beans20190718.nwb', 2, '0',  64),\n",
       "       ('beans20190718.nwb', 2, '0',  65),\n",
       "       ('beans20190718.nwb', 2, '0',  66),\n",
       "       ('beans20190718.nwb', 2, '0',  67),\n",
       "       ('beans20190718.nwb', 2, '0',  68),\n",
       "       ('beans20190718.nwb', 2, '0',  69),\n",
       "       ('beans20190718.nwb', 2, '0',  70),\n",
       "       ('beans20190718.nwb', 2, '0',  71),\n",
       "       ('beans20190718.nwb', 2, '0',  72),\n",
       "       ('beans20190718.nwb', 2, '0',  73),\n",
       "       ('beans20190718.nwb', 2, '0',  74),\n",
       "       ('beans20190718.nwb', 2, '0',  75),\n",
       "       ('beans20190718.nwb', 2, '0',  76),\n",
       "       ('beans20190718.nwb', 2, '0',  77),\n",
       "       ('beans20190718.nwb', 2, '0',  78),\n",
       "       ('beans20190718.nwb', 2, '0',  79),\n",
       "       ('beans20190718.nwb', 2, '0',  80),\n",
       "       ('beans20190718.nwb', 2, '0',  81),\n",
       "       ('beans20190718.nwb', 2, '0',  82),\n",
       "       ('beans20190718.nwb', 2, '0',  83),\n",
       "       ('beans20190718.nwb', 2, '0',  84),\n",
       "       ('beans20190718.nwb', 2, '0',  85),\n",
       "       ('beans20190718.nwb', 2, '0',  86),\n",
       "       ('beans20190718.nwb', 2, '0',  87),\n",
       "       ('beans20190718.nwb', 2, '0',  88),\n",
       "       ('beans20190718.nwb', 2, '0',  89),\n",
       "       ('beans20190718.nwb', 2, '0',  90),\n",
       "       ('beans20190718.nwb', 2, '0',  91),\n",
       "       ('beans20190718.nwb', 2, '0',  92),\n",
       "       ('beans20190718.nwb', 2, '0',  93),\n",
       "       ('beans20190718.nwb', 2, '0',  94),\n",
       "       ('beans20190718.nwb', 2, '0',  95),\n",
       "       ('beans20190718.nwb', 3, '0',  96),\n",
       "       ('beans20190718.nwb', 3, '0',  97),\n",
       "       ('beans20190718.nwb', 3, '0',  98),\n",
       "       ('beans20190718.nwb', 3, '0',  99),\n",
       "       ('beans20190718.nwb', 3, '0', 100),\n",
       "       ('beans20190718.nwb', 3, '0', 101),\n",
       "       ('beans20190718.nwb', 3, '0', 102),\n",
       "       ('beans20190718.nwb', 3, '0', 103),\n",
       "       ('beans20190718.nwb', 3, '0', 104),\n",
       "       ('beans20190718.nwb', 3, '0', 105),\n",
       "       ('beans20190718.nwb', 3, '0', 106),\n",
       "       ('beans20190718.nwb', 3, '0', 107),\n",
       "       ('beans20190718.nwb', 3, '0', 108),\n",
       "       ('beans20190718.nwb', 3, '0', 109),\n",
       "       ('beans20190718.nwb', 3, '0', 110),\n",
       "       ('beans20190718.nwb', 3, '0', 111),\n",
       "       ('beans20190718.nwb', 3, '0', 112),\n",
       "       ('beans20190718.nwb', 3, '0', 113),\n",
       "       ('beans20190718.nwb', 3, '0', 114),\n",
       "       ('beans20190718.nwb', 3, '0', 115),\n",
       "       ('beans20190718.nwb', 3, '0', 116),\n",
       "       ('beans20190718.nwb', 3, '0', 117),\n",
       "       ('beans20190718.nwb', 3, '0', 118),\n",
       "       ('beans20190718.nwb', 3, '0', 119),\n",
       "       ('beans20190718.nwb', 3, '0', 120),\n",
       "       ('beans20190718.nwb', 3, '0', 121),\n",
       "       ('beans20190718.nwb', 3, '0', 122),\n",
       "       ('beans20190718.nwb', 3, '0', 123),\n",
       "       ('beans20190718.nwb', 3, '0', 124),\n",
       "       ('beans20190718.nwb', 3, '0', 125),\n",
       "       ('beans20190718.nwb', 3, '0', 126),\n",
       "       ('beans20190718.nwb', 3, '0', 127),\n",
       "       ('beans20190718.nwb', 4, '1', 128),\n",
       "       ('beans20190718.nwb', 4, '1', 129),\n",
       "       ('beans20190718.nwb', 4, '1', 130),\n",
       "       ('beans20190718.nwb', 4, '1', 131),\n",
       "       ('beans20190718.nwb', 4, '1', 132),\n",
       "       ('beans20190718.nwb', 4, '1', 133),\n",
       "       ('beans20190718.nwb', 4, '1', 134),\n",
       "       ('beans20190718.nwb', 4, '1', 135),\n",
       "       ('beans20190718.nwb', 4, '1', 136),\n",
       "       ('beans20190718.nwb', 4, '1', 137),\n",
       "       ('beans20190718.nwb', 4, '1', 138),\n",
       "       ('beans20190718.nwb', 4, '1', 139),\n",
       "       ('beans20190718.nwb', 4, '1', 140),\n",
       "       ('beans20190718.nwb', 4, '1', 141),\n",
       "       ('beans20190718.nwb', 4, '1', 142),\n",
       "       ('beans20190718.nwb', 4, '1', 143),\n",
       "       ('beans20190718.nwb', 4, '1', 144),\n",
       "       ('beans20190718.nwb', 4, '1', 145),\n",
       "       ('beans20190718.nwb', 4, '1', 146),\n",
       "       ('beans20190718.nwb', 4, '1', 147),\n",
       "       ('beans20190718.nwb', 4, '1', 148),\n",
       "       ('beans20190718.nwb', 4, '1', 149),\n",
       "       ('beans20190718.nwb', 4, '1', 150),\n",
       "       ('beans20190718.nwb', 4, '1', 151),\n",
       "       ('beans20190718.nwb', 4, '1', 152),\n",
       "       ('beans20190718.nwb', 4, '1', 153),\n",
       "       ('beans20190718.nwb', 4, '1', 154),\n",
       "       ('beans20190718.nwb', 4, '1', 155),\n",
       "       ('beans20190718.nwb', 4, '1', 156),\n",
       "       ('beans20190718.nwb', 4, '1', 157),\n",
       "       ('beans20190718.nwb', 4, '1', 158),\n",
       "       ('beans20190718.nwb', 4, '1', 159),\n",
       "       ('beans20190718.nwb', 5, '1', 160),\n",
       "       ('beans20190718.nwb', 5, '1', 161),\n",
       "       ('beans20190718.nwb', 5, '1', 162),\n",
       "       ('beans20190718.nwb', 5, '1', 163),\n",
       "       ('beans20190718.nwb', 5, '1', 164),\n",
       "       ('beans20190718.nwb', 5, '1', 165),\n",
       "       ('beans20190718.nwb', 5, '1', 166),\n",
       "       ('beans20190718.nwb', 5, '1', 167),\n",
       "       ('beans20190718.nwb', 5, '1', 168),\n",
       "       ('beans20190718.nwb', 5, '1', 169),\n",
       "       ('beans20190718.nwb', 5, '1', 170),\n",
       "       ('beans20190718.nwb', 5, '1', 171),\n",
       "       ('beans20190718.nwb', 5, '1', 172),\n",
       "       ('beans20190718.nwb', 5, '1', 173),\n",
       "       ('beans20190718.nwb', 5, '1', 174),\n",
       "       ('beans20190718.nwb', 5, '1', 175),\n",
       "       ('beans20190718.nwb', 5, '1', 176),\n",
       "       ('beans20190718.nwb', 5, '1', 177),\n",
       "       ('beans20190718.nwb', 5, '1', 178),\n",
       "       ('beans20190718.nwb', 5, '1', 179),\n",
       "       ('beans20190718.nwb', 5, '1', 180),\n",
       "       ('beans20190718.nwb', 5, '1', 181),\n",
       "       ('beans20190718.nwb', 5, '1', 182),\n",
       "       ('beans20190718.nwb', 5, '1', 183),\n",
       "       ('beans20190718.nwb', 5, '1', 184),\n",
       "       ('beans20190718.nwb', 5, '1', 185),\n",
       "       ('beans20190718.nwb', 5, '1', 186),\n",
       "       ('beans20190718.nwb', 5, '1', 187),\n",
       "       ('beans20190718.nwb', 5, '1', 188),\n",
       "       ('beans20190718.nwb', 5, '1', 189),\n",
       "       ('beans20190718.nwb', 5, '1', 190),\n",
       "       ('beans20190718.nwb', 5, '1', 191),\n",
       "       ('beans20190718.nwb', 6, '1', 192),\n",
       "       ('beans20190718.nwb', 6, '1', 193),\n",
       "       ('beans20190718.nwb', 6, '1', 194),\n",
       "       ('beans20190718.nwb', 6, '1', 195),\n",
       "       ('beans20190718.nwb', 6, '1', 196),\n",
       "       ('beans20190718.nwb', 6, '1', 197),\n",
       "       ('beans20190718.nwb', 6, '1', 198),\n",
       "       ('beans20190718.nwb', 6, '1', 199),\n",
       "       ('beans20190718.nwb', 6, '1', 200),\n",
       "       ('beans20190718.nwb', 6, '1', 201),\n",
       "       ('beans20190718.nwb', 6, '1', 202),\n",
       "       ('beans20190718.nwb', 6, '1', 203),\n",
       "       ('beans20190718.nwb', 6, '1', 204),\n",
       "       ('beans20190718.nwb', 6, '1', 205),\n",
       "       ('beans20190718.nwb', 6, '1', 206),\n",
       "       ('beans20190718.nwb', 6, '1', 207),\n",
       "       ('beans20190718.nwb', 6, '1', 208),\n",
       "       ('beans20190718.nwb', 6, '1', 209),\n",
       "       ('beans20190718.nwb', 6, '1', 210),\n",
       "       ('beans20190718.nwb', 6, '1', 211),\n",
       "       ('beans20190718.nwb', 6, '1', 212),\n",
       "       ('beans20190718.nwb', 6, '1', 213),\n",
       "       ('beans20190718.nwb', 6, '1', 214),\n",
       "       ('beans20190718.nwb', 6, '1', 215),\n",
       "       ('beans20190718.nwb', 6, '1', 216),\n",
       "       ('beans20190718.nwb', 6, '1', 217),\n",
       "       ('beans20190718.nwb', 6, '1', 218),\n",
       "       ('beans20190718.nwb', 6, '1', 219),\n",
       "       ('beans20190718.nwb', 6, '1', 220),\n",
       "       ('beans20190718.nwb', 6, '1', 221),\n",
       "       ('beans20190718.nwb', 6, '1', 222),\n",
       "       ('beans20190718.nwb', 6, '1', 223),\n",
       "       ('beans20190718.nwb', 7, '1', 224),\n",
       "       ('beans20190718.nwb', 7, '1', 225),\n",
       "       ('beans20190718.nwb', 7, '1', 226),\n",
       "       ('beans20190718.nwb', 7, '1', 227),\n",
       "       ('beans20190718.nwb', 7, '1', 228),\n",
       "       ('beans20190718.nwb', 7, '1', 229),\n",
       "       ('beans20190718.nwb', 7, '1', 230),\n",
       "       ('beans20190718.nwb', 7, '1', 231),\n",
       "       ('beans20190718.nwb', 7, '1', 232),\n",
       "       ('beans20190718.nwb', 7, '1', 233),\n",
       "       ('beans20190718.nwb', 7, '1', 234),\n",
       "       ('beans20190718.nwb', 7, '1', 235),\n",
       "       ('beans20190718.nwb', 7, '1', 236),\n",
       "       ('beans20190718.nwb', 7, '1', 237),\n",
       "       ('beans20190718.nwb', 7, '1', 238),\n",
       "       ('beans20190718.nwb', 7, '1', 239),\n",
       "       ('beans20190718.nwb', 7, '1', 240),\n",
       "       ('beans20190718.nwb', 7, '1', 241),\n",
       "       ('beans20190718.nwb', 7, '1', 242),\n",
       "       ('beans20190718.nwb', 7, '1', 243),\n",
       "       ('beans20190718.nwb', 7, '1', 244),\n",
       "       ('beans20190718.nwb', 7, '1', 245),\n",
       "       ('beans20190718.nwb', 7, '1', 246),\n",
       "       ('beans20190718.nwb', 7, '1', 247),\n",
       "       ('beans20190718.nwb', 7, '1', 248),\n",
       "       ('beans20190718.nwb', 7, '1', 249),\n",
       "       ('beans20190718.nwb', 7, '1', 250),\n",
       "       ('beans20190718.nwb', 7, '1', 251),\n",
       "       ('beans20190718.nwb', 7, '1', 252),\n",
       "       ('beans20190718.nwb', 7, '1', 253),\n",
       "       ('beans20190718.nwb', 7, '1', 254),\n",
       "       ('beans20190718.nwb', 7, '1', 255)],\n",
       "      dtype=[('nwb_file_name', 'O'), ('sort_group_id', '<i8'), ('electrode_group_name', 'O'), ('electrode_id', '<i8')])"
      ]
     },
     "execution_count": 84,
     "metadata": {},
     "output_type": "execute_result"
    }
   ],
   "source": [
    "nd.common.SortGroup.SortGroupElectrode().fetch()"
   ]
  },
  {
   "cell_type": "markdown",
   "metadata": {},
   "source": [
    "### create the spike sorter and parameter lists "
   ]
  },
  {
   "cell_type": "code",
   "execution_count": 73,
   "metadata": {
    "collapsed": true,
    "jupyter": {
     "outputs_hidden": true
    }
   },
   "outputs": [
    {
     "name": "stdout",
     "output_type": "stream",
     "text": [
      "About to delete:\n",
      "`common_ephys`.`spike_sorter_parameters`: 11 items\n",
      "`common_ephys`.`spike_sorter`: 10 items\n"
     ]
    },
    {
     "name": "stdin",
     "output_type": "stream",
     "text": [
      "Proceed? [yes, No]:  yes\n"
     ]
    },
    {
     "name": "stdout",
     "output_type": "stream",
     "text": [
      "Committed.\n"
     ]
    },
    {
     "name": "stderr",
     "output_type": "stream",
     "text": [
      "/Users/loren/opt/anaconda3/envs/nwb_datajoint/lib/python3.7/site-packages/datajoint/blob.py:180: DeprecationWarning: Using or importing the ABCs from 'collections' instead of from 'collections.abc' is deprecated since Python 3.3,and in 3.9 it will stop working\n",
      "/Users/loren/opt/anaconda3/envs/nwb_datajoint/lib/python3.7/site-packages/datajoint/blob.py:182: DeprecationWarning: Using or importing the ABCs from 'collections' instead of from 'collections.abc' is deprecated since Python 3.3,and in 3.9 it will stop working\n",
      "/Users/loren/opt/anaconda3/envs/nwb_datajoint/lib/python3.7/site-packages/datajoint/blob.py:184: DeprecationWarning: Using or importing the ABCs from 'collections' instead of from 'collections.abc' is deprecated since Python 3.3,and in 3.9 it will stop working\n",
      "/Users/loren/opt/anaconda3/envs/nwb_datajoint/lib/python3.7/site-packages/datajoint/blob.py:186: DeprecationWarning: Using or importing the ABCs from 'collections' instead of from 'collections.abc' is deprecated since Python 3.3,and in 3.9 it will stop working\n"
     ]
    }
   ],
   "source": [
    "nd.common.SpikeSorter().delete()\n",
    "nd.common.SpikeSorter().insert_from_spikeinterface()\n",
    "nd.common.SpikeSorterParameters().insert_from_spikeinterface()"
   ]
  },
  {
   "cell_type": "markdown",
   "metadata": {},
   "source": [
    "### create a 'franklab_mountainsort' parameter set"
   ]
  },
  {
   "cell_type": "code",
   "execution_count": 74,
   "metadata": {},
   "outputs": [],
   "source": [
    "p = (nd.common.SpikeSorterParameters() & {'sorter_name': 'mountainsort4', 'parameter_set_name' : 'default'}).fetch1()\n",
    "param = p['parameter_dict']\n",
    "param['adjacency_radius'] = 100\n",
    "param['curation'] = False\n",
    "param['num_workers'] = 7\n",
    "param['verbose'] = True\n",
    "param['clip_size'] = 30\n",
    "param['noise_overlap_threshold'] = 0\n",
    "\n",
    "nd.common.SpikeSorterParameters().insert1({'sorter_name': 'mountainsort4', 'parameter_set_name' : 'franklab_mountainsort_20KHz', 'parameter_dict' : param}, skip_duplicates='True')"
   ]
  },
  {
   "cell_type": "code",
   "execution_count": 81,
   "metadata": {},
   "outputs": [
    {
     "data": {
      "text/plain": [
       "{'sorter_name': 'mountainsort4',\n",
       " 'parameter_set_name': 'franklab_mountainsort_20KHz',\n",
       " 'parameter_dict': {'detect_sign': -1,\n",
       "  'adjacency_radius': 100,\n",
       "  'freq_min': 300,\n",
       "  'freq_max': 6000,\n",
       "  'filter': True,\n",
       "  'whiten': True,\n",
       "  'curation': False,\n",
       "  'num_workers': 7,\n",
       "  'clip_size': 30,\n",
       "  'detect_threshold': 3,\n",
       "  'detect_interval': 10,\n",
       "  'noise_overlap_threshold': 0,\n",
       "  'verbose': True}}"
      ]
     },
     "execution_count": 81,
     "metadata": {},
     "output_type": "execute_result"
    }
   ],
   "source": [
    "p = (nd.common.SpikeSorterParameters() & {'sorter_name': 'mountainsort4', 'parameter_set_name' : 'franklab_mountainsort_20KHz'}).fetch1()\n",
    "p"
   ]
  },
  {
   "cell_type": "code",
   "execution_count": null,
   "metadata": {},
   "outputs": [],
   "source": [
    "param = p['parameter_dict']\n",
    "param"
   ]
  },
  {
   "cell_type": "markdown",
   "metadata": {},
   "source": [
    "### Create a set of spike sorting parameters for sorting group 4"
   ]
  },
  {
   "cell_type": "code",
   "execution_count": 76,
   "metadata": {},
   "outputs": [],
   "source": [
    "sort_group_id = 4"
   ]
  },
  {
   "cell_type": "code",
   "execution_count": 77,
   "metadata": {},
   "outputs": [],
   "source": [
    "# create two 60 second test intervals for debugging\n",
    "t = (nd.common.IntervalList() & {'interval_list_name' : '01_s1'}).fetch1('valid_times')\n",
    "a = t[0]\n",
    "b = a + 60\n",
    "t = np.asarray([[a,b]])\n",
    "t = np.vstack((t, np.asarray([[a+120,b+120]])))\n",
    "nd.common.SortIntervalList().insert1({'nwb_file_name' : nwb_file_name, 'sort_interval_list_name' : 'test', 'sort_intervals' : t}, replace='True')"
   ]
  },
  {
   "cell_type": "code",
   "execution_count": 78,
   "metadata": {},
   "outputs": [],
   "source": [
    "key = dict()\n",
    "key['nwb_file_name'] = nwb_file_name\n",
    "key['sort_group_id'] = sort_group_id\n",
    "key['sorter_name'] = 'mountainsort4'\n",
    "key['parameter_set_name'] = 'franklab_mountainsort_20KHz'\n",
    "key['interval_list_name'] = '01_s1'\n",
    "key['sort_interval_list_name'] = 'test'\n",
    "nd.common.SpikeSortingParameters().insert1(key, skip_duplicates='True')"
   ]
  },
  {
   "cell_type": "code",
   "execution_count": 80,
   "metadata": {},
   "outputs": [
    {
     "data": {
      "text/html": [
       "\n",
       "        \n",
       "        <style type=\"text/css\">\n",
       "            .Relation{\n",
       "                border-collapse:collapse;\n",
       "            }\n",
       "            .Relation th{\n",
       "                background: #A0A0A0; color: #ffffff; padding:4px; border:#f0e0e0 1px solid;\n",
       "                font-weight: normal; font-family: monospace; font-size: 100%;\n",
       "            }\n",
       "            .Relation td{\n",
       "                padding:4px; border:#f0e0e0 1px solid; font-size:100%;\n",
       "            }\n",
       "            .Relation tr:nth-child(odd){\n",
       "                background: #ffffff;\n",
       "            }\n",
       "            .Relation tr:nth-child(even){\n",
       "                background: #f3f1ff;\n",
       "            }\n",
       "            /* Tooltip container */\n",
       "            .djtooltip {\n",
       "            }\n",
       "            /* Tooltip text */\n",
       "            .djtooltip .djtooltiptext {\n",
       "                visibility: hidden;\n",
       "                width: 120px;\n",
       "                background-color: black;\n",
       "                color: #fff;\n",
       "                text-align: center;\n",
       "                padding: 5px 0;\n",
       "                border-radius: 6px;\n",
       "                /* Position the tooltip text - see examples below! */\n",
       "                position: absolute;\n",
       "                z-index: 1;\n",
       "            }\n",
       "            #primary {\n",
       "                font-weight: bold;\n",
       "                color: black;\n",
       "            }\n",
       "\n",
       "            #nonprimary {\n",
       "                font-weight: normal;\n",
       "                color: white;\n",
       "            }\n",
       "\n",
       "            /* Show the tooltip text when you mouse over the tooltip container */\n",
       "            .djtooltip:hover .djtooltiptext {\n",
       "                visibility: visible;\n",
       "            }\n",
       "        </style>\n",
       "        \n",
       "        <b></b>\n",
       "            <div style=\"max-height:1000px;max-width:1500px;overflow:auto;\">\n",
       "            <table border=\"1\" class=\"Relation\">\n",
       "                <thead> <tr style=\"text-align: right;\"> <th> <div class=\"djtooltip\">\n",
       "                                <p id=\"primary\">nwb_file_name</p>\n",
       "                                <span class=\"djtooltiptext\">the name of the NWB file</span>\n",
       "                            </div></th><th><div class=\"djtooltip\">\n",
       "                                <p id=\"primary\">sort_group_id</p>\n",
       "                                <span class=\"djtooltiptext\">identifier for a group of electrodes</span>\n",
       "                            </div></th><th><div class=\"djtooltip\">\n",
       "                                <p id=\"primary\">sorter_name</p>\n",
       "                                <span class=\"djtooltiptext\">the name of the spike sorting algorithm</span>\n",
       "                            </div></th><th><div class=\"djtooltip\">\n",
       "                                <p id=\"primary\">parameter_set_name</p>\n",
       "                                <span class=\"djtooltiptext\">label for this set of parameters</span>\n",
       "                            </div></th><th><div class=\"djtooltip\">\n",
       "                                <p id=\"primary\">sort_interval_list_name</p>\n",
       "                                <span class=\"djtooltiptext\">descriptive name of this interval list</span>\n",
       "                            </div></th><th><div class=\"djtooltip\">\n",
       "                                <p id=\"primary\">interval_list_name</p>\n",
       "                                <span class=\"djtooltiptext\">descriptive name of this interval list</span>\n",
       "                            </div> </th> </tr> </thead>\n",
       "                <tbody> <tr> <td>beans20190718.nwb</td>\n",
       "<td>4</td>\n",
       "<td>mountainsort4</td>\n",
       "<td>franklab_mountainsort_20KHz</td>\n",
       "<td>test</td>\n",
       "<td>01_s1</td> </tr> </tbody>\n",
       "            </table>\n",
       "            \n",
       "            <p>Total: 1</p></div>\n",
       "            "
      ],
      "text/plain": [
       "*nwb_file_name *sort_group_id *sorter_name   *parameter_set *sort_interval *interval_list\n",
       "+------------+ +------------+ +------------+ +------------+ +------------+ +------------+\n",
       "beans20190718. 4              mountainsort4  franklab_mount test           01_s1         \n",
       " (Total: 1)"
      ]
     },
     "execution_count": 80,
     "metadata": {},
     "output_type": "execute_result"
    }
   ],
   "source": [
    "nd.common.SpikeSortingParameters()"
   ]
  },
  {
   "cell_type": "markdown",
   "metadata": {},
   "source": [
    "### run the sort"
   ]
  },
  {
   "cell_type": "code",
   "execution_count": 3,
   "metadata": {
    "collapsed": true,
    "jupyter": {
     "outputs_hidden": true,
     "source_hidden": true
    }
   },
   "outputs": [
    {
     "name": "stdout",
     "output_type": "stream",
     "text": [
      "About to delete:\n",
      "Nothing to delete\n"
     ]
    }
   ],
   "source": [
    "nd.common.SpikeSorting().delete()"
   ]
  },
  {
   "cell_type": "code",
   "execution_count": 79,
   "metadata": {},
   "outputs": [
    {
     "name": "stdout",
     "output_type": "stream",
     "text": [
      "writing new NWB file beans20190718_00000000.nwb\n",
      "sample indeces: [     19 1200012]\n",
      "Sorting {'nwb_file_name': 'beans20190718.nwb', 'sort_group_id': 4, 'sorter_name': 'mountainsort4', 'parameter_set_name': 'franklab_mountainsort_20KHz', 'sort_interval_list_name': 'test', 'interval_list_name': '01_s1', 'analysis_file_name': 'beans20190718_00000000.nwb'}...\n",
      "Using 7 workers.\n",
      "Using tmpdir: /tmp/tmp63s192dy\n",
      "Num. workers = 7\n",
      "Preparing /tmp/tmp63s192dy/timeseries.hdf5...\n",
      "'end_frame' set to 1199993\n",
      "Preparing neighborhood sorters (M=32, N=1199993)...\n",
      "Preparing output...\n",
      "Done with ms4alg.\n",
      "Cleaning tmpdir::::: /tmp/tmp63s192dy\n",
      "mountainsort4 run time 143.28s\n",
      "sample indeces: [2400004 3599996]\n",
      "Sorting {'nwb_file_name': 'beans20190718.nwb', 'sort_group_id': 4, 'sorter_name': 'mountainsort4', 'parameter_set_name': 'franklab_mountainsort_20KHz', 'sort_interval_list_name': 'test', 'interval_list_name': '01_s1', 'analysis_file_name': 'beans20190718_00000000.nwb'}...\n",
      "Using 7 workers.\n",
      "Using tmpdir: /tmp/tmpxz1thyzf\n",
      "Num. workers = 7\n",
      "Preparing /tmp/tmpxz1thyzf/timeseries.hdf5...\n",
      "'end_frame' set to 1199992\n",
      "Preparing neighborhood sorters (M=32, N=1199992)...\n",
      "Preparing output...\n",
      "Done with ms4alg.\n",
      "Cleaning tmpdir::::: /tmp/tmpxz1thyzf\n",
      "mountainsort4 run time 145.74s\n"
     ]
    }
   ],
   "source": [
    "nd.common.SpikeSorting().populate()"
   ]
  },
  {
   "cell_type": "markdown",
   "metadata": {},
   "source": [
    "### Example: Retrieve the spike trains:"
   ]
  },
  {
   "cell_type": "code",
   "execution_count": 82,
   "metadata": {},
   "outputs": [
    {
     "data": {
      "text/html": [
       "<div>\n",
       "<style scoped>\n",
       "    .dataframe tbody tr th:only-of-type {\n",
       "        vertical-align: middle;\n",
       "    }\n",
       "\n",
       "    .dataframe tbody tr th {\n",
       "        vertical-align: top;\n",
       "    }\n",
       "\n",
       "    .dataframe thead th {\n",
       "        text-align: right;\n",
       "    }\n",
       "</style>\n",
       "<table border=\"1\" class=\"dataframe\">\n",
       "  <thead>\n",
       "    <tr style=\"text-align: right;\">\n",
       "      <th></th>\n",
       "      <th>spike_times</th>\n",
       "    </tr>\n",
       "    <tr>\n",
       "      <th>id</th>\n",
       "      <th></th>\n",
       "    </tr>\n",
       "  </thead>\n",
       "  <tbody>\n",
       "    <tr>\n",
       "      <th>1</th>\n",
       "      <td>[1563488988.8826828, 1563488988.9594333, 15634...</td>\n",
       "    </tr>\n",
       "    <tr>\n",
       "      <th>2</th>\n",
       "      <td>[1563488989.0944343, 1563488989.1491346, 15634...</td>\n",
       "    </tr>\n",
       "    <tr>\n",
       "      <th>3</th>\n",
       "      <td>[1563488988.8936327, 1563488989.0692837, 15634...</td>\n",
       "    </tr>\n",
       "    <tr>\n",
       "      <th>4</th>\n",
       "      <td>[1563488988.884683, 1563488989.0539339, 156348...</td>\n",
       "    </tr>\n",
       "    <tr>\n",
       "      <th>5</th>\n",
       "      <td>[1563488988.9498332, 1563488988.9755335, 15634...</td>\n",
       "    </tr>\n",
       "    <tr>\n",
       "      <th>...</th>\n",
       "      <td>...</td>\n",
       "    </tr>\n",
       "    <tr>\n",
       "      <th>118</th>\n",
       "      <td>[1563488988.920283, 1563488989.0027835, 156348...</td>\n",
       "    </tr>\n",
       "    <tr>\n",
       "      <th>119</th>\n",
       "      <td>[1563488988.9888334, 1563488989.2898355, 15634...</td>\n",
       "    </tr>\n",
       "    <tr>\n",
       "      <th>120</th>\n",
       "      <td>[1563488988.9386835, 1563488989.1438847, 15634...</td>\n",
       "    </tr>\n",
       "    <tr>\n",
       "      <th>121</th>\n",
       "      <td>[1563488988.8953328, 1563488989.0155838, 15634...</td>\n",
       "    </tr>\n",
       "    <tr>\n",
       "      <th>122</th>\n",
       "      <td>[1563488988.932383, 1563488988.9566836, 156348...</td>\n",
       "    </tr>\n",
       "  </tbody>\n",
       "</table>\n",
       "<p>121 rows × 1 columns</p>\n",
       "</div>"
      ],
      "text/plain": [
       "                                           spike_times\n",
       "id                                                    \n",
       "1    [1563488988.8826828, 1563488988.9594333, 15634...\n",
       "2    [1563488989.0944343, 1563488989.1491346, 15634...\n",
       "3    [1563488988.8936327, 1563488989.0692837, 15634...\n",
       "4    [1563488988.884683, 1563488989.0539339, 156348...\n",
       "5    [1563488988.9498332, 1563488988.9755335, 15634...\n",
       "..                                                 ...\n",
       "118  [1563488988.920283, 1563488989.0027835, 156348...\n",
       "119  [1563488988.9888334, 1563488989.2898355, 15634...\n",
       "120  [1563488988.9386835, 1563488989.1438847, 15634...\n",
       "121  [1563488988.8953328, 1563488989.0155838, 15634...\n",
       "122  [1563488988.932383, 1563488988.9566836, 156348...\n",
       "\n",
       "[121 rows x 1 columns]"
      ]
     },
     "execution_count": 82,
     "metadata": {},
     "output_type": "execute_result"
    }
   ],
   "source": [
    "sorting = (nd.common.SpikeSorting & {'nwb_file_name' : nwb_file_name, 'sort_group_id' : sort_group_id}).fetch_nwb()\n",
    "sorting[0]['units'].to_dataframe()"
   ]
  },
  {
   "cell_type": "code",
   "execution_count": null,
   "metadata": {},
   "outputs": [],
   "source": []
  }
 ],
 "metadata": {
  "kernelspec": {
   "display_name": "Python [conda env:nwb_datajoint] *",
   "language": "python",
   "name": "conda-env-nwb_datajoint-py"
  },
  "language_info": {
   "codemirror_mode": {
    "name": "ipython",
    "version": 3
   },
   "file_extension": ".py",
   "mimetype": "text/x-python",
   "name": "python",
   "nbconvert_exporter": "python",
   "pygments_lexer": "ipython3",
   "version": "3.7.7"
  }
 },
 "nbformat": 4,
 "nbformat_minor": 4
}
