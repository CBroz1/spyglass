{
 "cells": [
  {
   "cell_type": "markdown",
   "metadata": {},
   "source": [
    "# This notebook provides the commands needed to read in an NWB file with raw data taken from a trodes .rec file and to copy the relevant metadata into a DataJoint Schema designed to mimic NWB structure"
   ]
  },
  {
   "cell_type": "markdown",
   "metadata": {},
   "source": [
    "## The following steps must be completed before running this notebook:\n",
    "### 1) Set up access to a DataJoint database. See https://tutorials.datajoint.io/\n",
    "### 2) Install pynwb. \n",
    "    See https://pynwb.readthedocs.io/en/stable/getting_started.html#installation\n",
    "### 3) Install the ndx-fl-novela package. \n",
    "     conda install -c novelakrk ndx-fl-novela\n",
    "### 4) Download the example franklab NWB file from DropBox. \n",
    "    https://www.dropbox.com/to_be_updated"
   ]
  },
  {
   "cell_type": "markdown",
   "metadata": {},
   "source": [
    "#### Make sure we're in the franklabnwb/franklabnwb directory. \n",
    "#### Eventually this will be unnecessary because the package will properly installed"
   ]
  },
  {
   "cell_type": "code",
   "execution_count": 1,
   "metadata": {},
   "outputs": [
    {
     "name": "stdout",
     "output_type": "stream",
     "text": [
      "/Users/loren/Src/NWB/nwb_datajoint/schema\n"
     ]
    }
   ],
   "source": [
    "cd ../schema"
   ]
  },
  {
   "cell_type": "markdown",
   "metadata": {},
   "source": [
    "#### Load all of the relevant modules"
   ]
  },
  {
   "cell_type": "code",
   "execution_count": 2,
   "metadata": {},
   "outputs": [
    {
     "name": "stdin",
     "output_type": "stream",
     "text": [
      "Please enter DataJoint username:  root\n",
      "Please enter DataJoint password:  ········\n"
     ]
    },
    {
     "name": "stdout",
     "output_type": "stream",
     "text": [
      "Connecting root@localhost:3306\n"
     ]
    }
   ],
   "source": [
    "%load_ext autoreload\n",
    "%autoreload 2\n",
    "\n",
    "\n",
    "import pynwb\n",
    "import os\n",
    "\n",
    "#DataJoint and DataJoint schema\n",
    "import datajoint as dj\n",
    "import nwb_dj\n",
    "import common_session\n",
    "import common_ephys\n",
    "import common_device\n",
    "import common_lab\n",
    "import common_task\n",
    "import common_behav\n",
    "import common_interval\n",
    "import common_region\n",
    "import common_filter\n",
    "\n",
    "#franklabnwb functions\n",
    "#from franklabnwb import fl_ns_path\n",
    "#import franklabnwb.nspike_helpers as ns\n",
    "#import franklabnwb.query_helpers as qu\n",
    "#import franklabnwb.fl_extension as fle\n",
    "#import franklabnwb.fl_extension as flh"
   ]
  },
  {
   "cell_type": "markdown",
   "metadata": {},
   "source": [
    "#### Populate the probe schema and check that it worked. You should see entries in the probe table corresponding to different probe types"
   ]
  },
  {
   "cell_type": "markdown",
   "metadata": {},
   "source": [
    "#### Next we specify the NWB file name and populate the rest of the schema\n",
    "#### Replace the code below with the text for the path to the NWB file"
   ]
  },
  {
   "cell_type": "code",
   "execution_count": 3,
   "metadata": {},
   "outputs": [],
   "source": [
    "nwb_file_name = '/data/nwb_builder_test_data/beans20190718s1.nwb'"
   ]
  },
  {
   "cell_type": "code",
   "execution_count": 4,
   "metadata": {},
   "outputs": [
    {
     "name": "stdout",
     "output_type": "stream",
     "text": [
      "Importing NWB file /data/nwb_builder_test_data/beans20190718s1.nwb\n",
      "No Apparatus module found in /data/nwb_builder_test_data/beans20190718s1_pp.nwb\n",
      "\n",
      "Processing raw position data. Estimated sampling rate: 30.0 Hz\n"
     ]
    }
   ],
   "source": [
    "nwb_dj.NWBPopulate([nwb_file_name]) \n"
   ]
  },
  {
   "cell_type": "markdown",
   "metadata": {},
   "source": [
    "#### The code below creates a diagram of the various schema and their relationships"
   ]
  },
  {
   "cell_type": "code",
   "execution_count": 5,
   "metadata": {},
   "outputs": [],
   "source": [
    "common_filter.create_standard_filters()\n",
    "common_ephys.LFPElectrode().set_lfp_elect([1, 2, 3])\n",
    "common_ephys.LFP.populate()"
   ]
  },
  {
   "cell_type": "code",
   "execution_count": 34,
   "metadata": {},
   "outputs": [
    {
     "name": "stderr",
     "output_type": "stream",
     "text": [
      "[autoreload of common_ephys failed: Traceback (most recent call last):\n",
      "  File \"/Users/loren/opt/anaconda3/envs/nwbdj/lib/python3.7/site-packages/IPython/extensions/autoreload.py\", line 245, in check\n",
      "    superreload(m, reload, self.old_objects)\n",
      "  File \"/Users/loren/opt/anaconda3/envs/nwbdj/lib/python3.7/site-packages/IPython/extensions/autoreload.py\", line 410, in superreload\n",
      "    update_generic(old_obj, new_obj)\n",
      "  File \"/Users/loren/opt/anaconda3/envs/nwbdj/lib/python3.7/site-packages/IPython/extensions/autoreload.py\", line 347, in update_generic\n",
      "    update(a, b)\n",
      "  File \"/Users/loren/opt/anaconda3/envs/nwbdj/lib/python3.7/site-packages/IPython/extensions/autoreload.py\", line 302, in update_class\n",
      "    if update_generic(old_obj, new_obj): continue\n",
      "  File \"/Users/loren/opt/anaconda3/envs/nwbdj/lib/python3.7/site-packages/IPython/extensions/autoreload.py\", line 347, in update_generic\n",
      "    update(a, b)\n",
      "  File \"/Users/loren/opt/anaconda3/envs/nwbdj/lib/python3.7/site-packages/IPython/extensions/autoreload.py\", line 302, in update_class\n",
      "    if update_generic(old_obj, new_obj): continue\n",
      "  File \"/Users/loren/opt/anaconda3/envs/nwbdj/lib/python3.7/site-packages/IPython/extensions/autoreload.py\", line 347, in update_generic\n",
      "    update(a, b)\n",
      "  File \"/Users/loren/opt/anaconda3/envs/nwbdj/lib/python3.7/site-packages/IPython/extensions/autoreload.py\", line 302, in update_class\n",
      "    if update_generic(old_obj, new_obj): continue\n",
      "  File \"/Users/loren/opt/anaconda3/envs/nwbdj/lib/python3.7/site-packages/IPython/extensions/autoreload.py\", line 347, in update_generic\n",
      "    update(a, b)\n",
      "  File \"/Users/loren/opt/anaconda3/envs/nwbdj/lib/python3.7/site-packages/IPython/extensions/autoreload.py\", line 302, in update_class\n",
      "    if update_generic(old_obj, new_obj): continue\n",
      "RecursionError: maximum recursion depth exceeded while calling a Python object\n",
      "]\n"
     ]
    },
    {
     "name": "stdout",
     "output_type": "stream",
     "text": [
      "`common_filter`.`filter` (2 tuples)\n",
      "`common_ephys`.`__l_f_p` (0 tuples)\n",
      "`common_ephys`.`l_f_p_band_parameters` (0 tuples)\n",
      "`common_ephys`.`__l_f_p_band` (0 tuples)\n",
      "`common_ephys`.`__decomp_series` (0 tuples)\n"
     ]
    },
    {
     "name": "stdin",
     "output_type": "stream",
     "text": [
      "Proceed? [yes, No]:  yes\n"
     ]
    },
    {
     "name": "stdout",
     "output_type": "stream",
     "text": [
      "Tables dropped.  Restart kernel.\n"
     ]
    }
   ],
   "source": [
    "common_filter.Filter.drop()"
   ]
  },
  {
   "cell_type": "code",
   "execution_count": 6,
   "metadata": {},
   "outputs": [
    {
     "data": {
      "text/html": [
       "\n",
       "        \n",
       "        <style type=\"text/css\">\n",
       "            .Relation{\n",
       "                border-collapse:collapse;\n",
       "            }\n",
       "            .Relation th{\n",
       "                background: #A0A0A0; color: #ffffff; padding:4px; border:#f0e0e0 1px solid;\n",
       "                font-weight: normal; font-family: monospace; font-size: 100%;\n",
       "            }\n",
       "            .Relation td{\n",
       "                padding:4px; border:#f0e0e0 1px solid; font-size:100%;\n",
       "            }\n",
       "            .Relation tr:nth-child(odd){\n",
       "                background: #ffffff;\n",
       "            }\n",
       "            .Relation tr:nth-child(even){\n",
       "                background: #f3f1ff;\n",
       "            }\n",
       "            /* Tooltip container */\n",
       "            .djtooltip {\n",
       "            }\n",
       "            /* Tooltip text */\n",
       "            .djtooltip .djtooltiptext {\n",
       "                visibility: hidden;\n",
       "                width: 120px;\n",
       "                background-color: black;\n",
       "                color: #fff;\n",
       "                text-align: center;\n",
       "                padding: 5px 0;\n",
       "                border-radius: 6px;\n",
       "                /* Position the tooltip text - see examples below! */\n",
       "                position: absolute;\n",
       "                z-index: 1;\n",
       "            }\n",
       "            #primary {\n",
       "                font-weight: bold;\n",
       "                color: black;\n",
       "            }\n",
       "\n",
       "            #nonprimary {\n",
       "                font-weight: normal;\n",
       "                color: white;\n",
       "            }\n",
       "\n",
       "            /* Show the tooltip text when you mouse over the tooltip container */\n",
       "            .djtooltip:hover .djtooltiptext {\n",
       "                visibility: visible;\n",
       "            }\n",
       "        </style>\n",
       "        \n",
       "        <b></b>\n",
       "            <div style=\"max-height:1000px;max-width:1500px;overflow:auto;\">\n",
       "            <table border=\"1\" class=\"Relation\">\n",
       "                <thead> <tr style=\"text-align: right;\"> <th> <div class=\"djtooltip\">\n",
       "                                <p id=\"primary\">nwb_file_name</p>\n",
       "                                <span class=\"djtooltiptext\"></span>\n",
       "                            </div></th><th><div class=\"djtooltip\">\n",
       "                                <p id=\"nonprimary\">subject_id</p>\n",
       "                                <span class=\"djtooltiptext\"></span>\n",
       "                            </div></th><th><div class=\"djtooltip\">\n",
       "                                <p id=\"nonprimary\">institution_name</p>\n",
       "                                <span class=\"djtooltiptext\"></span>\n",
       "                            </div></th><th><div class=\"djtooltip\">\n",
       "                                <p id=\"nonprimary\">lab_name</p>\n",
       "                                <span class=\"djtooltiptext\"></span>\n",
       "                            </div></th><th><div class=\"djtooltip\">\n",
       "                                <p id=\"nonprimary\">nwb_raw_file_name</p>\n",
       "                                <span class=\"djtooltiptext\">the name of the file containing all of the raw ephys data</span>\n",
       "                            </div></th><th><div class=\"djtooltip\">\n",
       "                                <p id=\"nonprimary\">session_id</p>\n",
       "                                <span class=\"djtooltiptext\"></span>\n",
       "                            </div></th><th><div class=\"djtooltip\">\n",
       "                                <p id=\"nonprimary\">session_description</p>\n",
       "                                <span class=\"djtooltiptext\"></span>\n",
       "                            </div></th><th><div class=\"djtooltip\">\n",
       "                                <p id=\"nonprimary\">session_start_time</p>\n",
       "                                <span class=\"djtooltiptext\"></span>\n",
       "                            </div></th><th><div class=\"djtooltip\">\n",
       "                                <p id=\"nonprimary\">timestamps_reference_time</p>\n",
       "                                <span class=\"djtooltiptext\"></span>\n",
       "                            </div></th><th><div class=\"djtooltip\">\n",
       "                                <p id=\"nonprimary\">experiment_description</p>\n",
       "                                <span class=\"djtooltiptext\"></span>\n",
       "                            </div> </th> </tr> </thead>\n",
       "                <tbody> <tr>  </tr> </tbody>\n",
       "            </table>\n",
       "            \n",
       "            <p>Total: 0</p></div>\n",
       "            "
      ],
      "text/plain": [
       "*nwb_file_name subject_id     institution_na lab_name     nwb_raw_file_n session_id     session_descri session_start_ timestamps_ref experiment_des\n",
       "+------------+ +------------+ +------------+ +----------+ +------------+ +------------+ +------------+ +------------+ +------------+ +------------+\n",
       "\n",
       " (Total: 0)"
      ]
     },
     "execution_count": 6,
     "metadata": {},
     "output_type": "execute_result"
    }
   ],
   "source": [
    "common_session.Session()"
   ]
  },
  {
   "cell_type": "code",
   "execution_count": 6,
   "metadata": {},
   "outputs": [
    {
     "data": {
      "text/plain": [
       "array([('test', 30000, 'lowpass', -1., -1., 400., 450., '', array([400, 450]), array([-7.36452636e-06, -6.94935802e-06, -6.48006791e-06, ...,\n",
       "       -6.48006791e-06, -6.94935802e-06, -7.36452636e-06]), array([1]))],\n",
       "      dtype=[('filter_name', 'O'), ('filter_samp_freq', '<i8'), ('filter_type', 'O'), ('filter_low_stop', '<f8'), ('filter_low_pass', '<f8'), ('filter_high_pass', '<f8'), ('filter_high_stop', '<f8'), ('filter_comments', 'O'), ('filter_band_edges', 'O'), ('filter_b', 'O'), ('filter_a', 'O')])"
      ]
     },
     "execution_count": 6,
     "metadata": {},
     "output_type": "execute_result"
    }
   ],
   "source": [
    "(common_filter.Filter() & {'filter_name': 'test'} & {'filter_samp_freq': 30000}).fetch()"
   ]
  },
  {
   "cell_type": "code",
   "execution_count": 22,
   "metadata": {},
   "outputs": [],
   "source": []
  },
  {
   "cell_type": "code",
   "execution_count": 5,
   "metadata": {},
   "outputs": [
    {
     "data": {
      "image/svg+xml": [
       "<svg height=\"522pt\" viewBox=\"0.00 0.00 1740.10 522.00\" width=\"1740pt\" xmlns=\"http://www.w3.org/2000/svg\" xmlns:xlink=\"http://www.w3.org/1999/xlink\">\n",
       "<g class=\"graph\" id=\"graph0\" transform=\"scale(1 1) rotate(0) translate(4 518)\">\n",
       "<title>%3</title>\n",
       "<polygon fill=\"white\" points=\"-4,4 -4,-518 1736.1,-518 1736.1,4 -4,4\" stroke=\"transparent\"/>\n",
       "<!-- common_session.Session.DataAcqDevice -->\n",
       "<g class=\"node\" id=\"node1\">\n",
       "<title>common_session.Session.DataAcqDevice</title>\n",
       "<g id=\"a_node1\"><a xlink:title=\"→ common_session.Session\r",
       "→ common_device.Device\r",
       "\">\n",
       "<polygon fill=\"transparent\" points=\"1732.03,-364.51 1528.3,-364.51 1528.3,-344.49 1732.03,-344.49 1732.03,-364.51\" stroke=\"transparent\"/>\n",
       "<text font-family=\"arial\" font-size=\"10.00\" text-anchor=\"middle\" x=\"1630.17\" y=\"-352.25\">common_session.Session.DataAcqDevice</text>\n",
       "</a>\n",
       "</g>\n",
       "</g>\n",
       "<!-- common_behav.Speed -->\n",
       "<g class=\"node\" id=\"node2\">\n",
       "<title>common_behav.Speed</title>\n",
       "<g id=\"a_node2\"><a xlink:title=\"→ common_session.Session\r",
       "------------------------------\r",
       "nwb_object_id        \r",
       "→ common_interval.IntervalList\r",
       "\">\n",
       "<ellipse cx=\"449.17\" cy=\"-283.5\" fill=\"#00007f\" fill-opacity=\"0.250980\" rx=\"88.56\" ry=\"17.5\" stroke=\"#00007f\" stroke-opacity=\"0.250980\"/>\n",
       "<text fill=\"#00007f\" fill-opacity=\"0.627451\" font-family=\"arial\" font-size=\"12.00\" text-anchor=\"middle\" x=\"449.17\" y=\"-280.8\">common_behav.Speed</text>\n",
       "</a>\n",
       "</g>\n",
       "</g>\n",
       "<!-- common_ephys.Raw -->\n",
       "<g class=\"node\" id=\"node3\">\n",
       "<title>common_ephys.Raw</title>\n",
       "<g id=\"a_node3\"><a xlink:title=\"→ common_session.Session\r",
       "→ common_ephys.ElectrodeConfig.Electrode\r",
       "------------------------------\r",
       "→ common_interval.IntervalList\r",
       "nwb_object_id        \r",
       "sampling_rate        \r",
       "comments             \r",
       "description          \r",
       "\">\n",
       "<ellipse cx=\"307.17\" cy=\"-141.5\" fill=\"#00007f\" fill-opacity=\"0.250980\" rx=\"81.67\" ry=\"17.5\" stroke=\"#00007f\" stroke-opacity=\"0.250980\"/>\n",
       "<text fill=\"#00007f\" fill-opacity=\"0.627451\" font-family=\"arial\" font-size=\"12.00\" text-anchor=\"middle\" x=\"307.17\" y=\"-138.8\">common_ephys.Raw</text>\n",
       "</a>\n",
       "</g>\n",
       "</g>\n",
       "<!-- common_ephys.LFP -->\n",
       "<g class=\"node\" id=\"node21\">\n",
       "<title>common_ephys.LFP</title>\n",
       "<g id=\"a_node21\"><a xlink:title=\"→ common_ephys.Raw\r",
       "ref_elect            \r",
       "------------------------------\r",
       "→ common_interval.IntervalList\r",
       "→ common_ephys.common_filter.Filter\r",
       "nwb_object_id        \r",
       "sampling_rate        \r",
       "\">\n",
       "<ellipse cx=\"627.17\" cy=\"-75\" fill=\"#ff0000\" fill-opacity=\"0.125490\" rx=\"13.01\" ry=\"13\" stroke=\"#ff0000\" stroke-opacity=\"0.125490\"/>\n",
       "<text fill=\"#7f0000\" fill-opacity=\"0.627451\" font-family=\"arial\" font-size=\"12.00\" text-anchor=\"start\" text-decoration=\"underline\" x=\"572.14\" y=\"-73.3\">common_ephys.LFP</text>\n",
       "</a>\n",
       "</g>\n",
       "</g>\n",
       "<!-- common_ephys.Raw&#45;&gt;common_ephys.LFP -->\n",
       "<g class=\"edge\" id=\"edge1\">\n",
       "<title>common_ephys.Raw-&gt;common_ephys.LFP</title>\n",
       "<path d=\"M364.38,-128.97C441.32,-113.46 573.26,-86.87 614.48,-78.56\" fill=\"none\" stroke=\"#000000\" stroke-opacity=\"0.250980\" stroke-width=\"0.75\"/>\n",
       "</g>\n",
       "<!-- common_session.Session -->\n",
       "<g class=\"node\" id=\"node4\">\n",
       "<title>common_session.Session</title>\n",
       "<g id=\"a_node4\"><a xlink:title=\"→ common_session.Nwbfile\r",
       "------------------------------\r",
       "→ nwb_dj.common_subject.Subject\r",
       "→ common_lab.Institution\r",
       "→ common_lab.Lab\r",
       "session_id           \r",
       "session_description  \r",
       "session_start_time   \r",
       "timestamps_reference_time \r",
       "experiment_description \r",
       "\">\n",
       "<ellipse cx=\"836.17\" cy=\"-425.5\" fill=\"#00007f\" fill-opacity=\"0.250980\" rx=\"99.13\" ry=\"17.5\" stroke=\"#00007f\" stroke-opacity=\"0.250980\"/>\n",
       "<text fill=\"#00007f\" fill-opacity=\"0.627451\" font-family=\"arial\" font-size=\"12.00\" text-anchor=\"middle\" x=\"836.17\" y=\"-422.8\">common_session.Session</text>\n",
       "</a>\n",
       "</g>\n",
       "</g>\n",
       "<!-- common_session.Session&#45;&gt;common_session.Session.DataAcqDevice -->\n",
       "<g class=\"edge\" id=\"edge2\">\n",
       "<title>common_session.Session-&gt;common_session.Session.DataAcqDevice</title>\n",
       "<path d=\"M929.44,-419.43C1061.12,-411.79 1308.95,-395.67 1519.17,-372 1537.85,-369.9 1558.22,-367.03 1576.35,-364.28\" fill=\"none\" stroke=\"#000000\" stroke-opacity=\"0.250980\" stroke-width=\"0.75\"/>\n",
       "</g>\n",
       "<!-- common_session.Session&#45;&gt;common_behav.Speed -->\n",
       "<g class=\"edge\" id=\"edge3\">\n",
       "<title>common_session.Session-&gt;common_behav.Speed</title>\n",
       "<path d=\"M763.9,-413.45C717.79,-405.08 657.31,-391.63 606.17,-372 556.2,-352.83 502.72,-320.07 472.86,-300.54\" fill=\"none\" stroke=\"#000000\" stroke-opacity=\"0.250980\" stroke-width=\"2\"/>\n",
       "</g>\n",
       "<!-- common_session.Session&#45;&gt;common_ephys.Raw -->\n",
       "<g class=\"edge\" id=\"edge4\">\n",
       "<title>common_session.Session-&gt;common_ephys.Raw</title>\n",
       "<path d=\"M736.85,-425.19C537.27,-425.54 102.64,-420.64 57.17,-372 3.17,-314.24 20.04,-251.69 75.17,-195 97.23,-172.32 176.02,-157.98 235.71,-150.12\" fill=\"none\" stroke=\"#000000\" stroke-opacity=\"0.250980\" stroke-width=\"0.75\"/>\n",
       "</g>\n",
       "<!-- common_interval.IntervalList -->\n",
       "<g class=\"node\" id=\"node6\">\n",
       "<title>common_interval.IntervalList</title>\n",
       "<g id=\"a_node6\"><a xlink:title=\"→ common_session.Session\r",
       "interval_name        \r",
       "------------------------------\r",
       "valid_times          \r",
       "\">\n",
       "<polygon fill=\"#00ff00\" fill-opacity=\"0.188235\" points=\"783.4,-372 614.94,-372 614.94,-337 783.4,-337 783.4,-372\" stroke=\"#00ff00\" stroke-opacity=\"0.188235\"/>\n",
       "<text fill=\"darkgreen\" font-family=\"arial\" font-size=\"12.00\" text-anchor=\"start\" text-decoration=\"underline\" x=\"622.8\" y=\"-352.8\">common_interval.IntervalList</text>\n",
       "</a>\n",
       "</g>\n",
       "</g>\n",
       "<!-- common_session.Session&#45;&gt;common_interval.IntervalList -->\n",
       "<g class=\"edge\" id=\"edge5\">\n",
       "<title>common_session.Session-&gt;common_interval.IntervalList</title>\n",
       "<path d=\"M805.08,-408.84C783.29,-397.87 754.21,-383.23 732.04,-372.06\" fill=\"none\" stroke=\"#000000\" stroke-opacity=\"0.250980\" stroke-width=\"0.75\"/>\n",
       "</g>\n",
       "<!-- common_ephys.Units -->\n",
       "<g class=\"node\" id=\"node8\">\n",
       "<title>common_ephys.Units</title>\n",
       "<g id=\"a_node8\"><a xlink:title=\"→ common_session.Session\r",
       "unit_id              \r",
       "------------------------------\r",
       "→ common_ephys.ElectrodeConfig.ElectrodeGroup\r",
       "→ common_interval.IntervalList\r",
       "cluster_name         \r",
       "nwb_object_id        \r",
       "\">\n",
       "<ellipse cx=\"392.17\" cy=\"-212.5\" fill=\"#00007f\" fill-opacity=\"0.250980\" rx=\"83.93\" ry=\"17.5\" stroke=\"#00007f\" stroke-opacity=\"0.250980\"/>\n",
       "<text fill=\"#00007f\" fill-opacity=\"0.627451\" font-family=\"arial\" font-size=\"12.00\" text-anchor=\"start\" text-decoration=\"underline\" x=\"334.47\" y=\"-210.8\">common_ephys.Units</text>\n",
       "</a>\n",
       "</g>\n",
       "</g>\n",
       "<!-- common_session.Session&#45;&gt;common_ephys.Units -->\n",
       "<g class=\"edge\" id=\"edge6\">\n",
       "<title>common_session.Session-&gt;common_ephys.Units</title>\n",
       "<path d=\"M751.78,-416.19C625.14,-401.69 395.96,-366.82 351.17,-301 335.5,-277.98 357.39,-248.02 374.72,-229.8\" fill=\"none\" stroke=\"#000000\" stroke-opacity=\"0.250980\" stroke-width=\"0.75\"/>\n",
       "</g>\n",
       "<!-- common_behav.LinPos -->\n",
       "<g class=\"node\" id=\"node9\">\n",
       "<title>common_behav.LinPos</title>\n",
       "<g id=\"a_node9\"><a xlink:title=\"→ common_session.Session\r",
       "------------------------------\r",
       "nwb_object_id        \r",
       "→ common_interval.IntervalList\r",
       "\">\n",
       "<ellipse cx=\"836.17\" cy=\"-283.5\" fill=\"#00007f\" fill-opacity=\"0.250980\" rx=\"89.61\" ry=\"17.5\" stroke=\"#00007f\" stroke-opacity=\"0.250980\"/>\n",
       "<text fill=\"#00007f\" fill-opacity=\"0.627451\" font-family=\"arial\" font-size=\"12.00\" text-anchor=\"middle\" x=\"836.17\" y=\"-280.8\">common_behav.LinPos</text>\n",
       "</a>\n",
       "</g>\n",
       "</g>\n",
       "<!-- common_session.Session&#45;&gt;common_behav.LinPos -->\n",
       "<g class=\"edge\" id=\"edge7\">\n",
       "<title>common_session.Session-&gt;common_behav.LinPos</title>\n",
       "<path d=\"M836.17,-407.89C836.17,-380.95 836.17,-328.02 836.17,-301.09\" fill=\"none\" stroke=\"#000000\" stroke-opacity=\"0.250980\" stroke-width=\"2\"/>\n",
       "</g>\n",
       "<!-- common_behav.HeadDir -->\n",
       "<g class=\"node\" id=\"node12\">\n",
       "<title>common_behav.HeadDir</title>\n",
       "<g id=\"a_node12\"><a xlink:title=\"→ common_session.Session\r",
       "------------------------------\r",
       "nwb_object_id        \r",
       "→ common_interval.IntervalList\r",
       "\">\n",
       "<ellipse cx=\"1038.17\" cy=\"-283.5\" fill=\"#00007f\" fill-opacity=\"0.250980\" rx=\"94.47\" ry=\"17.5\" stroke=\"#00007f\" stroke-opacity=\"0.250980\"/>\n",
       "<text fill=\"#00007f\" fill-opacity=\"0.627451\" font-family=\"arial\" font-size=\"12.00\" text-anchor=\"middle\" x=\"1038.17\" y=\"-280.8\">common_behav.HeadDir</text>\n",
       "</a>\n",
       "</g>\n",
       "</g>\n",
       "<!-- common_session.Session&#45;&gt;common_behav.HeadDir -->\n",
       "<g class=\"edge\" id=\"edge8\">\n",
       "<title>common_session.Session-&gt;common_behav.HeadDir</title>\n",
       "<path d=\"M859.34,-408.44C898.2,-381.51 976.07,-327.54 1014.95,-300.59\" fill=\"none\" stroke=\"#000000\" stroke-opacity=\"0.250980\" stroke-width=\"2\"/>\n",
       "</g>\n",
       "<!-- common_ephys.DecompSeries -->\n",
       "<g class=\"node\" id=\"node13\">\n",
       "<title>common_ephys.DecompSeries</title>\n",
       "<g id=\"a_node13\"><a xlink:title=\"→ common_session.Session\r",
       "→ common_ephys.LFP\r",
       "------------------------------\r",
       "→ common_interval.IntervalList\r",
       "nwb_object_id        \r",
       "sampling_rate        \r",
       "metric               \r",
       "comments             \r",
       "description          \r",
       "\">\n",
       "<ellipse cx=\"532.17\" cy=\"-13\" fill=\"#ff0000\" fill-opacity=\"0.125490\" rx=\"12.98\" ry=\"13\" stroke=\"#ff0000\" stroke-opacity=\"0.125490\"/>\n",
       "<text fill=\"#7f0000\" fill-opacity=\"0.627451\" font-family=\"arial\" font-size=\"12.00\" text-anchor=\"middle\" x=\"532.17\" y=\"-10.3\">common_ephys.DecompSeries</text>\n",
       "</a>\n",
       "</g>\n",
       "</g>\n",
       "<!-- common_session.Session&#45;&gt;common_ephys.DecompSeries -->\n",
       "<g class=\"edge\" id=\"edge9\">\n",
       "<title>common_session.Session-&gt;common_ephys.DecompSeries</title>\n",
       "<path d=\"M736.98,-424.11C533.89,-422.45 85.1,-414 30.17,-372 -2.49,-347.03 0.17,-325.61 0.17,-284.5 0.17,-284.5 0.17,-284.5 0.17,-140.5 0.17,-30.37 437.09,-15.96 519.02,-14.22\" fill=\"none\" stroke=\"#000000\" stroke-opacity=\"0.250980\" stroke-width=\"0.75\"/>\n",
       "</g>\n",
       "<!-- common_ephys.ElectrodeConfig -->\n",
       "<g class=\"node\" id=\"node16\">\n",
       "<title>common_ephys.ElectrodeConfig</title>\n",
       "<g id=\"a_node16\"><a xlink:title=\"→ common_session.Session\r",
       "\">\n",
       "<ellipse cx=\"187.17\" cy=\"-354.5\" fill=\"#00007f\" fill-opacity=\"0.250980\" rx=\"121.12\" ry=\"17.5\" stroke=\"#00007f\" stroke-opacity=\"0.250980\"/>\n",
       "<text fill=\"#00007f\" fill-opacity=\"0.627451\" font-family=\"arial\" font-size=\"12.00\" text-anchor=\"middle\" x=\"187.17\" y=\"-351.8\">common_ephys.ElectrodeConfig</text>\n",
       "</a>\n",
       "</g>\n",
       "</g>\n",
       "<!-- common_session.Session&#45;&gt;common_ephys.ElectrodeConfig -->\n",
       "<g class=\"edge\" id=\"edge10\">\n",
       "<title>common_session.Session-&gt;common_ephys.ElectrodeConfig</title>\n",
       "<path d=\"M751.07,-416.33C649.08,-406.42 473.04,-388.92 322.17,-372 307.03,-370.3 290.95,-368.41 275.37,-366.54\" fill=\"none\" stroke=\"#000000\" stroke-opacity=\"0.250980\" stroke-width=\"2\"/>\n",
       "</g>\n",
       "<!-- common_session.ExperimenterList -->\n",
       "<g class=\"node\" id=\"node17\">\n",
       "<title>common_session.ExperimenterList</title>\n",
       "<g id=\"a_node17\"><a xlink:title=\"→ common_session.Session\r",
       "\">\n",
       "<ellipse cx=\"1233.17\" cy=\"-354.5\" fill=\"#00007f\" fill-opacity=\"0.250980\" rx=\"129.64\" ry=\"17.5\" stroke=\"#00007f\" stroke-opacity=\"0.250980\"/>\n",
       "<text fill=\"#00007f\" fill-opacity=\"0.627451\" font-family=\"arial\" font-size=\"12.00\" text-anchor=\"middle\" x=\"1233.17\" y=\"-351.8\">common_session.ExperimenterList</text>\n",
       "</a>\n",
       "</g>\n",
       "</g>\n",
       "<!-- common_session.Session&#45;&gt;common_session.ExperimenterList -->\n",
       "<g class=\"edge\" id=\"edge11\">\n",
       "<title>common_session.Session-&gt;common_session.ExperimenterList</title>\n",
       "<path d=\"M904.41,-412.64C974.69,-400.42 1083.97,-381.43 1157.01,-368.74\" fill=\"none\" stroke=\"#000000\" stroke-opacity=\"0.250980\" stroke-width=\"2\"/>\n",
       "</g>\n",
       "<!-- common_behav.Position -->\n",
       "<g class=\"node\" id=\"node19\">\n",
       "<title>common_behav.Position</title>\n",
       "<g id=\"a_node19\"><a xlink:title=\"→ common_session.Session\r",
       "------------------------------\r",
       "nwb_object_id        \r",
       "→ common_interval.IntervalList\r",
       "\">\n",
       "<ellipse cx=\"1244.17\" cy=\"-283.5\" fill=\"#00007f\" fill-opacity=\"0.250980\" rx=\"93.78\" ry=\"17.5\" stroke=\"#00007f\" stroke-opacity=\"0.250980\"/>\n",
       "<text fill=\"#00007f\" fill-opacity=\"0.627451\" font-family=\"arial\" font-size=\"12.00\" text-anchor=\"middle\" x=\"1244.17\" y=\"-280.8\">common_behav.Position</text>\n",
       "</a>\n",
       "</g>\n",
       "</g>\n",
       "<!-- common_session.Session&#45;&gt;common_behav.Position -->\n",
       "<g class=\"edge\" id=\"edge12\">\n",
       "<title>common_session.Session-&gt;common_behav.Position</title>\n",
       "<path d=\"M879.44,-409.65C958.09,-382.66 1123.54,-325.89 1201.64,-299.09\" fill=\"none\" stroke=\"#000000\" stroke-opacity=\"0.250980\" stroke-width=\"2\"/>\n",
       "</g>\n",
       "<!-- common_lab.Lab -->\n",
       "<g class=\"node\" id=\"node5\">\n",
       "<title>common_lab.Lab</title>\n",
       "<g id=\"a_node5\"><a xlink:title=\"lab_name             \r",
       "\">\n",
       "<polygon fill=\"#00ff00\" fill-opacity=\"0.188235\" points=\"742.22,-514 634.11,-514 634.11,-479 742.22,-479 742.22,-514\" stroke=\"#00ff00\" stroke-opacity=\"0.188235\"/>\n",
       "<text fill=\"darkgreen\" font-family=\"arial\" font-size=\"12.00\" text-anchor=\"start\" text-decoration=\"underline\" x=\"642.14\" y=\"-494.8\">common_lab.Lab</text>\n",
       "</a>\n",
       "</g>\n",
       "</g>\n",
       "<!-- common_lab.Lab&#45;&gt;common_session.Session -->\n",
       "<g class=\"edge\" id=\"edge13\">\n",
       "<title>common_lab.Lab-&gt;common_session.Session</title>\n",
       "<path d=\"M723.62,-478.97C747.65,-467.77 779.2,-453.06 802.78,-442.06\" fill=\"none\" stroke=\"#000000\" stroke-dasharray=\"5,2\" stroke-opacity=\"0.250980\" stroke-width=\"0.75\"/>\n",
       "</g>\n",
       "<!-- common_interval.IntervalList&#45;&gt;common_behav.Speed -->\n",
       "<g class=\"edge\" id=\"edge14\">\n",
       "<title>common_interval.IntervalList-&gt;common_behav.Speed</title>\n",
       "<path d=\"M639.28,-336.97C596.24,-325.09 538.9,-309.27 498.48,-298.11\" fill=\"none\" stroke=\"#000000\" stroke-dasharray=\"5,2\" stroke-opacity=\"0.250980\" stroke-width=\"0.75\"/>\n",
       "</g>\n",
       "<!-- common_interval.IntervalList&#45;&gt;common_ephys.Raw -->\n",
       "<g class=\"edge\" id=\"edge15\">\n",
       "<title>common_interval.IntervalList-&gt;common_ephys.Raw</title>\n",
       "<path d=\"M676.36,-336.85C662.38,-326.6 644.17,-313.14 628.17,-301 565.13,-253.19 556.16,-229.9 485.17,-195 446.71,-176.1 400.17,-162.66 364.32,-154.12\" fill=\"none\" stroke=\"#000000\" stroke-dasharray=\"5,2\" stroke-opacity=\"0.250980\" stroke-width=\"0.75\"/>\n",
       "</g>\n",
       "<!-- common_interval.IntervalList&#45;&gt;common_ephys.Units -->\n",
       "<g class=\"edge\" id=\"edge16\">\n",
       "<title>common_interval.IntervalList-&gt;common_ephys.Units</title>\n",
       "<path d=\"M659.13,-336.93C637.99,-327.52 611.97,-314.85 590.17,-301 569.37,-287.79 568.73,-277.92 547.17,-266 514.96,-248.2 475.68,-234.98 444.72,-226.25\" fill=\"none\" stroke=\"#000000\" stroke-dasharray=\"5,2\" stroke-opacity=\"0.250980\" stroke-width=\"0.75\"/>\n",
       "</g>\n",
       "<!-- common_interval.IntervalList&#45;&gt;common_behav.LinPos -->\n",
       "<g class=\"edge\" id=\"edge17\">\n",
       "<title>common_interval.IntervalList-&gt;common_behav.LinPos</title>\n",
       "<path d=\"M731.98,-336.97C754.15,-325.81 783.23,-311.16 805.03,-300.18\" fill=\"none\" stroke=\"#000000\" stroke-dasharray=\"5,2\" stroke-opacity=\"0.250980\" stroke-width=\"0.75\"/>\n",
       "</g>\n",
       "<!-- common_ephys.LFPBand -->\n",
       "<g class=\"node\" id=\"node10\">\n",
       "<title>common_ephys.LFPBand</title>\n",
       "<g id=\"a_node10\"><a xlink:title=\"→ common_ephys.LFP\r",
       "freq_min             \r",
       "freq_max             \r",
       "------------------------------\r",
       "→ common_interval.IntervalList\r",
       "→ common_ephys.common_filter.Filter\r",
       "\">\n",
       "<ellipse cx=\"718.17\" cy=\"-13\" fill=\"#ff0000\" fill-opacity=\"0.125490\" rx=\"13.01\" ry=\"13\" stroke=\"#ff0000\" stroke-opacity=\"0.125490\"/>\n",
       "<text fill=\"#7f0000\" fill-opacity=\"0.627451\" font-family=\"arial\" font-size=\"12.00\" text-anchor=\"start\" text-decoration=\"underline\" x=\"649.13\" y=\"-11.3\">common_ephys.LFPBand</text>\n",
       "</a>\n",
       "</g>\n",
       "</g>\n",
       "<!-- common_interval.IntervalList&#45;&gt;common_ephys.LFPBand -->\n",
       "<g class=\"edge\" id=\"edge18\">\n",
       "<title>common_interval.IntervalList-&gt;common_ephys.LFPBand</title>\n",
       "<path d=\"M702.92,-336.79C708.46,-310.64 718.17,-258.39 718.17,-213.5 718.17,-213.5 718.17,-213.5 718.17,-140.5 718.17,-98.55 718.17,-48.78 718.17,-26.21\" fill=\"none\" stroke=\"#000000\" stroke-dasharray=\"5,2\" stroke-opacity=\"0.250980\" stroke-width=\"0.75\"/>\n",
       "</g>\n",
       "<!-- common_interval.IntervalList&#45;&gt;common_behav.HeadDir -->\n",
       "<g class=\"edge\" id=\"edge19\">\n",
       "<title>common_interval.IntervalList-&gt;common_behav.HeadDir</title>\n",
       "<path d=\"M780.37,-336.97C840.89,-324.65 922.26,-308.09 977.27,-296.9\" fill=\"none\" stroke=\"#000000\" stroke-dasharray=\"5,2\" stroke-opacity=\"0.250980\" stroke-width=\"0.75\"/>\n",
       "</g>\n",
       "<!-- common_interval.IntervalList&#45;&gt;common_ephys.DecompSeries -->\n",
       "<g class=\"edge\" id=\"edge20\">\n",
       "<title>common_interval.IntervalList-&gt;common_ephys.DecompSeries</title>\n",
       "<path d=\"M688.71,-336.99C663.17,-296.1 596.64,-186.32 555.17,-88 546.17,-66.68 538.88,-40.6 535.07,-25.79\" fill=\"none\" stroke=\"#000000\" stroke-dasharray=\"5,2\" stroke-opacity=\"0.250980\" stroke-width=\"0.75\"/>\n",
       "</g>\n",
       "<!-- common_interval.IntervalList&#45;&gt;common_behav.Position -->\n",
       "<g class=\"edge\" id=\"edge21\">\n",
       "<title>common_interval.IntervalList-&gt;common_behav.Position</title>\n",
       "<path d=\"M783.62,-344.5C872.67,-334.77 1016.99,-318.31 1141.17,-301 1152.74,-299.39 1165.01,-297.54 1176.91,-295.68\" fill=\"none\" stroke=\"#000000\" stroke-dasharray=\"5,2\" stroke-opacity=\"0.250980\" stroke-width=\"0.75\"/>\n",
       "</g>\n",
       "<!-- common_interval.IntervalList&#45;&gt;common_ephys.LFP -->\n",
       "<g class=\"edge\" id=\"edge22\">\n",
       "<title>common_interval.IntervalList-&gt;common_ephys.LFP</title>\n",
       "<path d=\"M694.88,-336.97C681.65,-285.98 641.67,-131.92 630.25,-87.88\" fill=\"none\" stroke=\"#000000\" stroke-dasharray=\"5,2\" stroke-opacity=\"0.250980\" stroke-width=\"0.75\"/>\n",
       "</g>\n",
       "<!-- common_session.ExperimenterList.Experimenter -->\n",
       "<g class=\"node\" id=\"node7\">\n",
       "<title>common_session.ExperimenterList.Experimenter</title>\n",
       "<g id=\"a_node7\"><a xlink:title=\"→ common_session.ExperimenterList\r",
       "→ common_lab.LabMember\r",
       "\">\n",
       "<polygon fill=\"transparent\" points=\"1590.03,-293.51 1356.3,-293.51 1356.3,-273.49 1590.03,-273.49 1590.03,-293.51\" stroke=\"transparent\"/>\n",
       "<text font-family=\"arial\" font-size=\"10.00\" text-anchor=\"middle\" x=\"1473.17\" y=\"-281.25\">common_session.ExperimenterList.Experimenter</text>\n",
       "</a>\n",
       "</g>\n",
       "</g>\n",
       "<!-- common_lab.LabMember -->\n",
       "<g class=\"node\" id=\"node11\">\n",
       "<title>common_lab.LabMember</title>\n",
       "<g id=\"a_node11\"><a xlink:title=\"lab_member_name      \r",
       "------------------------------\r",
       "first_name           \r",
       "last_name            \r",
       "\">\n",
       "<polygon fill=\"#000000\" fill-opacity=\"0.125490\" points=\"1510.06,-372 1380.28,-372 1380.28,-337 1510.06,-337 1510.06,-372\" stroke=\"transparent\"/>\n",
       "<text font-family=\"arial\" font-size=\"10.00\" text-anchor=\"start\" text-decoration=\"underline\" x=\"1388.47\" y=\"-353.25\">common_lab.LabMember</text>\n",
       "</a>\n",
       "</g>\n",
       "</g>\n",
       "<!-- common_lab.LabMember&#45;&gt;common_session.ExperimenterList.Experimenter -->\n",
       "<g class=\"edge\" id=\"edge23\">\n",
       "<title>common_lab.LabMember-&gt;common_session.ExperimenterList.Experimenter</title>\n",
       "<path d=\"M1451.94,-336.8C1457.51,-323.08 1465.18,-304.19 1469.61,-293.27\" fill=\"none\" stroke=\"#000000\" stroke-opacity=\"0.250980\" stroke-width=\"0.75\"/>\n",
       "</g>\n",
       "<!-- common_session.Nwbfile -->\n",
       "<g class=\"node\" id=\"node14\">\n",
       "<title>common_session.Nwbfile</title>\n",
       "<g id=\"a_node14\"><a xlink:title=\"nwb_file_name        \r",
       "\">\n",
       "<polygon fill=\"#00ff00\" fill-opacity=\"0.188235\" points=\"912.22,-514 760.11,-514 760.11,-479 912.22,-479 912.22,-514\" stroke=\"#00ff00\" stroke-opacity=\"0.188235\"/>\n",
       "<text fill=\"darkgreen\" font-family=\"arial\" font-size=\"12.00\" text-anchor=\"start\" text-decoration=\"underline\" x=\"768.14\" y=\"-494.8\">common_session.Nwbfile</text>\n",
       "</a>\n",
       "</g>\n",
       "</g>\n",
       "<!-- common_session.Nwbfile&#45;&gt;common_session.Session -->\n",
       "<g class=\"edge\" id=\"edge24\">\n",
       "<title>common_session.Nwbfile-&gt;common_session.Session</title>\n",
       "<path d=\"M836.17,-478.8C836.17,-467.95 836.17,-453.87 836.17,-443.05\" fill=\"none\" stroke=\"#000000\" stroke-opacity=\"0.250980\" stroke-width=\"2\"/>\n",
       "</g>\n",
       "<!-- common_ephys.ElectrodeConfig.ElectrodeGroup -->\n",
       "<g class=\"node\" id=\"node15\">\n",
       "<title>common_ephys.ElectrodeConfig.ElectrodeGroup</title>\n",
       "<g id=\"a_node15\"><a xlink:title=\"→ common_ephys.ElectrodeConfig\r",
       "electrode_group_name \r",
       "------------------------------\r",
       "→ common_region.BrainRegion\r",
       "→ common_device.Probe\r",
       "description          \r",
       "target_hemisphere    \r",
       "\">\n",
       "<polygon fill=\"transparent\" points=\"304.01,-293.51 70.33,-293.51 70.33,-273.49 304.01,-273.49 304.01,-293.51\" stroke=\"transparent\"/>\n",
       "<text font-family=\"arial\" font-size=\"10.00\" text-anchor=\"start\" text-decoration=\"underline\" x=\"78.5\" y=\"-282.25\">common_ephys.ElectrodeConfig.ElectrodeGroup</text>\n",
       "</a>\n",
       "</g>\n",
       "</g>\n",
       "<!-- common_ephys.ElectrodeConfig.ElectrodeGroup&#45;&gt;common_ephys.Units -->\n",
       "<g class=\"edge\" id=\"edge25\">\n",
       "<title>common_ephys.ElectrodeConfig.ElectrodeGroup-&gt;common_ephys.Units</title>\n",
       "<path d=\"M213.55,-273.62C248.04,-262.01 308.89,-241.53 349.86,-227.74\" fill=\"none\" stroke=\"#000000\" stroke-dasharray=\"5,2\" stroke-opacity=\"0.250980\" stroke-width=\"0.75\"/>\n",
       "</g>\n",
       "<!-- common_ephys.ElectrodeConfig.Electrode -->\n",
       "<g class=\"node\" id=\"node18\">\n",
       "<title>common_ephys.ElectrodeConfig.Electrode</title>\n",
       "<g id=\"a_node18\"><a xlink:title=\"→ common_ephys.ElectrodeConfig.ElectrodeGroup\r",
       "electrode_id         \r",
       "name=&quot;&quot;              \r",
       "------------------------------\r",
       "→ common_device.Probe.Electrode\r",
       "→ common_region.BrainRegion\r",
       "x=null               \r",
       "y=null               \r",
       "z=null               \r",
       "filtering            \r",
       "impedance=null       \r",
       "bad_channel          \r",
       "x_warped=null        \r",
       "y_warped=null        \r",
       "z_warped=null        \r",
       "contacts             \r",
       "\">\n",
       "<polygon fill=\"transparent\" points=\"289.71,-222.51 84.62,-222.51 84.62,-202.49 289.71,-202.49 289.71,-222.51\" stroke=\"transparent\"/>\n",
       "<text font-family=\"arial\" font-size=\"10.00\" text-anchor=\"start\" text-decoration=\"underline\" x=\"92.39\" y=\"-211.25\">common_ephys.ElectrodeConfig.Electrode</text>\n",
       "</a>\n",
       "</g>\n",
       "</g>\n",
       "<!-- common_ephys.ElectrodeConfig.ElectrodeGroup&#45;&gt;common_ephys.ElectrodeConfig.Electrode -->\n",
       "<g class=\"edge\" id=\"edge26\">\n",
       "<title>common_ephys.ElectrodeConfig.ElectrodeGroup-&gt;common_ephys.ElectrodeConfig.Electrode</title>\n",
       "<path d=\"M187.17,-273.48C187.17,-260.18 187.17,-235.48 187.17,-222.3\" fill=\"none\" stroke=\"#000000\" stroke-opacity=\"0.250980\" stroke-width=\"0.75\"/>\n",
       "</g>\n",
       "<!-- common_ephys.ElectrodeConfig&#45;&gt;common_ephys.ElectrodeConfig.ElectrodeGroup -->\n",
       "<g class=\"edge\" id=\"edge27\">\n",
       "<title>common_ephys.ElectrodeConfig-&gt;common_ephys.ElectrodeConfig.ElectrodeGroup</title>\n",
       "<path d=\"M187.17,-336.8C187.17,-323.08 187.17,-304.19 187.17,-293.27\" fill=\"none\" stroke=\"#000000\" stroke-opacity=\"0.250980\" stroke-width=\"0.75\"/>\n",
       "</g>\n",
       "<!-- common_session.ExperimenterList&#45;&gt;common_session.ExperimenterList.Experimenter -->\n",
       "<g class=\"edge\" id=\"edge28\">\n",
       "<title>common_session.ExperimenterList-&gt;common_session.ExperimenterList.Experimenter</title>\n",
       "<path d=\"M1285.54,-338.44C1333.54,-324.64 1402.97,-304.68 1442.52,-293.31\" fill=\"none\" stroke=\"#000000\" stroke-opacity=\"0.250980\" stroke-width=\"0.75\"/>\n",
       "</g>\n",
       "<!-- common_ephys.ElectrodeConfig.Electrode&#45;&gt;common_ephys.Raw -->\n",
       "<g class=\"edge\" id=\"edge29\">\n",
       "<title>common_ephys.ElectrodeConfig.Electrode-&gt;common_ephys.Raw</title>\n",
       "<path d=\"M202.85,-202.48C222.42,-191.23 256.19,-171.81 280,-158.12\" fill=\"none\" stroke=\"#000000\" stroke-opacity=\"0.250980\" stroke-width=\"2\"/>\n",
       "</g>\n",
       "<!-- common_lab.Institution -->\n",
       "<g class=\"node\" id=\"node20\">\n",
       "<title>common_lab.Institution</title>\n",
       "<g id=\"a_node20\"><a xlink:title=\"institution_name     \r",
       "\">\n",
       "<polygon fill=\"#00ff00\" fill-opacity=\"0.188235\" points=\"1070.07,-514 930.27,-514 930.27,-479 1070.07,-479 1070.07,-514\" stroke=\"#00ff00\" stroke-opacity=\"0.188235\"/>\n",
       "<text fill=\"darkgreen\" font-family=\"arial\" font-size=\"12.00\" text-anchor=\"start\" text-decoration=\"underline\" x=\"938.47\" y=\"-494.8\">common_lab.Institution</text>\n",
       "</a>\n",
       "</g>\n",
       "</g>\n",
       "<!-- common_lab.Institution&#45;&gt;common_session.Session -->\n",
       "<g class=\"edge\" id=\"edge30\">\n",
       "<title>common_lab.Institution-&gt;common_session.Session</title>\n",
       "<path d=\"M960.88,-478.97C934.07,-467.69 898.79,-452.85 872.6,-441.83\" fill=\"none\" stroke=\"#000000\" stroke-dasharray=\"5,2\" stroke-opacity=\"0.250980\" stroke-width=\"0.75\"/>\n",
       "</g>\n",
       "<!-- common_ephys.LFP&#45;&gt;common_ephys.LFPBand -->\n",
       "<g class=\"edge\" id=\"edge31\">\n",
       "<title>common_ephys.LFP-&gt;common_ephys.LFPBand</title>\n",
       "<path d=\"M637.61,-67.12C655.07,-55.61 690,-32.57 707.57,-20.99\" fill=\"none\" stroke=\"#000000\" stroke-opacity=\"0.250980\" stroke-width=\"0.75\"/>\n",
       "</g>\n",
       "<!-- common_ephys.LFP&#45;&gt;common_ephys.DecompSeries -->\n",
       "<g class=\"edge\" id=\"edge32\">\n",
       "<title>common_ephys.LFP-&gt;common_ephys.DecompSeries</title>\n",
       "<path d=\"M616.64,-67.35C598.38,-55.82 561.04,-32.23 542.74,-20.68\" fill=\"none\" stroke=\"#000000\" stroke-opacity=\"0.250980\" stroke-width=\"2\"/>\n",
       "</g>\n",
       "</g>\n",
       "</svg>"
      ],
      "text/plain": [
       "<datajoint.diagram.Diagram at 0x110504210>"
      ]
     },
     "execution_count": 5,
     "metadata": {},
     "output_type": "execute_result"
    }
   ],
   "source": [
    "dj.Diagram(common_ephys)+dj.Diagram(common_session)+dj.Diagram(common_lab)+dj.Diagram(common_interval)+dj.Diagram(common_behav)"
   ]
  },
  {
   "cell_type": "code",
   "execution_count": 6,
   "metadata": {},
   "outputs": [],
   "source": [
    "#### And now that we have the data in DataJoint, we can do queries to find time intervals we might be interested in\n",
    "#### In the example below, we get all of the intervals where the task_name was sleep."
   ]
  },
  {
   "cell_type": "code",
   "execution_count": 7,
   "metadata": {},
   "outputs": [
    {
     "data": {
      "text/plain": [
       "array([],\n",
       "      dtype=[('nwb_file_name', 'O'), ('interval_name', 'O'), ('valid_times', 'O')])"
      ]
     },
     "execution_count": 7,
     "metadata": {},
     "output_type": "execute_result"
    }
   ],
   "source": [
    "sleep_intervals = (common_interval.IntervalList() & (common_task.TaskEpoch() & 'task_name = \"Sleep\"')).fetch()\n",
    "sleep_intervals"
   ]
  },
  {
   "cell_type": "code",
   "execution_count": 26,
   "metadata": {},
   "outputs": [
    {
     "data": {
      "text/plain": [
       "array([array([1.13614661e+09, 1.13614794e+09]),\n",
       "       array([1.13614908e+09, 1.13615003e+09]),\n",
       "       array([1.13615118e+09, 1.13615241e+09]),\n",
       "       array([1.13615411e+09, 1.13615495e+09])], dtype=object)"
      ]
     },
     "execution_count": 26,
     "metadata": {},
     "output_type": "execute_result"
    }
   ],
   "source": [
    "sleep_intervals['valid_times']"
   ]
  },
  {
   "cell_type": "code",
   "execution_count": 3,
   "metadata": {},
   "outputs": [
    {
     "ename": "NameError",
     "evalue": "name 'common_ephys' is not defined",
     "output_type": "error",
     "traceback": [
      "\u001b[0;31m---------------------------------------------------------------------------\u001b[0m",
      "\u001b[0;31mNameError\u001b[0m                                 Traceback (most recent call last)",
      "\u001b[0;32m<ipython-input-3-712b94a867c6>\u001b[0m in \u001b[0;36m<module>\u001b[0;34m\u001b[0m\n\u001b[0;32m----> 1\u001b[0;31m \u001b[0mcommon_ephys\u001b[0m\u001b[0;34m\u001b[0m\u001b[0;34m\u001b[0m\u001b[0m\n\u001b[0m",
      "\u001b[0;31mNameError\u001b[0m: name 'common_ephys' is not defined"
     ]
    }
   ],
   "source": [
    "common_ephys"
   ]
  },
  {
   "cell_type": "code",
   "execution_count": 11,
   "metadata": {},
   "outputs": [
    {
     "data": {
      "text/plain": [
       "DataJoint connection (connected) root@localhost:3306"
      ]
     },
     "execution_count": 11,
     "metadata": {},
     "output_type": "execute_result"
    }
   ],
   "source": [
    "conn.connection"
   ]
  },
  {
   "cell_type": "code",
   "execution_count": 7,
   "metadata": {},
   "outputs": [
    {
     "name": "stderr",
     "output_type": "stream",
     "text": [
      "[autoreload of common_session failed: Traceback (most recent call last):\n",
      "  File \"/Users/loren/opt/anaconda3/envs/nwbdj/lib/python3.7/site-packages/IPython/extensions/autoreload.py\", line 245, in check\n",
      "    superreload(m, reload, self.old_objects)\n",
      "  File \"/Users/loren/opt/anaconda3/envs/nwbdj/lib/python3.7/site-packages/IPython/extensions/autoreload.py\", line 410, in superreload\n",
      "    update_generic(old_obj, new_obj)\n",
      "  File \"/Users/loren/opt/anaconda3/envs/nwbdj/lib/python3.7/site-packages/IPython/extensions/autoreload.py\", line 347, in update_generic\n",
      "    update(a, b)\n",
      "  File \"/Users/loren/opt/anaconda3/envs/nwbdj/lib/python3.7/site-packages/IPython/extensions/autoreload.py\", line 302, in update_class\n",
      "    if update_generic(old_obj, new_obj): continue\n",
      "  File \"/Users/loren/opt/anaconda3/envs/nwbdj/lib/python3.7/site-packages/IPython/extensions/autoreload.py\", line 347, in update_generic\n",
      "    update(a, b)\n",
      "  File \"/Users/loren/opt/anaconda3/envs/nwbdj/lib/python3.7/site-packages/IPython/extensions/autoreload.py\", line 302, in update_class\n",
      "    if update_generic(old_obj, new_obj): continue\n",
      "  File \"/Users/loren/opt/anaconda3/envs/nwbdj/lib/python3.7/site-packages/IPython/extensions/autoreload.py\", line 347, in update_generic\n",
      "    update(a, b)\n",
      "  File \"/Users/loren/opt/anaconda3/envs/nwbdj/lib/python3.7/site-packages/IPython/extensions/autoreload.py\", line 302, in update_class\n",
      "    if update_generic(old_obj, new_obj): continue\n",
      "  File \"/Users/loren/opt/anaconda3/envs/nwbdj/lib/python3.7/site-packages/IPython/extensions/autoreload.py\", line 347, in update_generic\n",
      "    update(a, b)\n",
      "  File \"/Users/loren/opt/anaconda3/envs/nwbdj/lib/python3.7/site-packages/IPython/extensions/autoreload.py\", line 302, in update_class\n",
      "    if update_generic(old_obj, new_obj): continue\n",
      "RecursionError: maximum recursion depth exceeded while calling a Python object\n",
      "]\n"
     ]
    },
    {
     "name": "stdout",
     "output_type": "stream",
     "text": [
      "`common_session`.`nwbfile` (1 tuples)\n",
      "`common_session`.`_session` (0 tuples)\n",
      "`common_session`.`_session__data_acq_device` (0 tuples)\n",
      "`common_session`.`_experimenter_list` (0 tuples)\n",
      "`common_session`.`_experimenter_list__experimenter` (0 tuples)\n",
      "`common_interval`.`interval_list` (0 tuples)\n",
      "`common_task`.`_task_epoch` (0 tuples)\n",
      "`common_ephys`.`_raw` (0 tuples)\n",
      "`common_behav`.`_speed` (0 tuples)\n",
      "`common_behav`.`_raw_position` (0 tuples)\n",
      "`common_behav`.`_lin_pos` (0 tuples)\n",
      "`common_behav`.`_head_dir` (0 tuples)\n",
      "`common_ephys`.`_electrode_config` (0 tuples)\n",
      "`common_ephys`.`_electrode_config__electrode_group` (0 tuples)\n",
      "`common_ephys`.`_units` (0 tuples)\n",
      "`common_ephys`.`_electrode_config__electrode` (0 tuples)\n",
      "`common_ephys`.`l_f_p_electrode` (0 tuples)\n",
      "`common_ephys`.`__l_f_p` (0 tuples)\n",
      "`common_ephys`.`l_f_p_band_parameters` (0 tuples)\n",
      "`common_ephys`.`__l_f_p_band` (0 tuples)\n",
      "`common_ephys`.`__decomp_series` (0 tuples)\n"
     ]
    },
    {
     "name": "stdin",
     "output_type": "stream",
     "text": [
      "Proceed? [yes, No]:  yes\n"
     ]
    },
    {
     "name": "stdout",
     "output_type": "stream",
     "text": [
      "Tables dropped.  Restart kernel.\n"
     ]
    }
   ],
   "source": [
    "common_session.Nwbfile.drop()"
   ]
  },
  {
   "cell_type": "code",
   "execution_count": null,
   "metadata": {},
   "outputs": [],
   "source": []
  }
 ],
 "metadata": {
  "kernelspec": {
   "display_name": "Python 3",
   "language": "python",
   "name": "python3"
  },
  "language_info": {
   "codemirror_mode": {
    "name": "ipython",
    "version": 3
   },
   "file_extension": ".py",
   "mimetype": "text/x-python",
   "name": "python",
   "nbconvert_exporter": "python",
   "pygments_lexer": "ipython3",
   "version": "3.7.4"
  }
 },
 "nbformat": 4,
 "nbformat_minor": 4
}
