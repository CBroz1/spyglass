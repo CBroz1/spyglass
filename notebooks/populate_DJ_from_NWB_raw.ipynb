{
 "cells": [
  {
   "cell_type": "markdown",
   "metadata": {},
   "source": [
    "# This notebook provides the commands needed to read in an NWB file with raw data taken from a trodes .rec file and to copy the relevant metadata into a DataJoint Schema designed to mimic NWB structure"
   ]
  },
  {
   "cell_type": "markdown",
   "metadata": {},
   "source": [
    "## The following steps must be completed before running this notebook:\n",
    "### 1) Set up access to a DataJoint database. See https://tutorials.datajoint.io/\n",
    "### 2) Install pynwb. \n",
    "    See https://pynwb.readthedocs.io/en/stable/getting_started.html#installation\n",
    "### 3) Install the ndx-fl-novela package. \n",
    "     conda install -c novelakrk ndx-fl-novela\n",
    "### 4) Download the example franklab NWB file from DropBox. \n",
    "    https://www.dropbox.com/to_be_updated"
   ]
  },
  {
   "cell_type": "markdown",
   "metadata": {},
   "source": [
    "#### Make sure we're in the franklabnwb/franklabnwb directory. \n",
    "#### Eventually this will be unnecessary because the package will properly installed"
   ]
  },
  {
   "cell_type": "code",
   "execution_count": 1,
   "metadata": {},
   "outputs": [
    {
     "name": "stdout",
     "output_type": "stream",
     "text": [
      "/Users/loren/Src/NWB/nwb_datajoint/schema\n"
     ]
    }
   ],
   "source": [
    "cd ../schema"
   ]
  },
  {
   "cell_type": "markdown",
   "metadata": {},
   "source": [
    "#### Load all of the relevant modules"
   ]
  },
  {
   "cell_type": "code",
   "execution_count": 2,
   "metadata": {},
   "outputs": [
    {
     "name": "stdin",
     "output_type": "stream",
     "text": [
      "Please enter DataJoint username:  root\n",
      "Please enter DataJoint password:  ········\n"
     ]
    },
    {
     "name": "stdout",
     "output_type": "stream",
     "text": [
      "Connecting root@localhost:3306\n"
     ]
    }
   ],
   "source": [
    "%load_ext autoreload\n",
    "%autoreload 2\n",
    "\n",
    "\n",
    "import pynwb\n",
    "import os\n",
    "\n",
    "#DataJoint and DataJoint schema\n",
    "import datajoint as dj\n",
    "import common_session\n",
    "import common_ephys\n",
    "import common_device\n",
    "import common_lab\n",
    "import common_task\n",
    "import common_behav\n",
    "import common_interval\n",
    "import common_region\n",
    "import common_filter\n",
    "import nwb_dj\n",
    "\n",
    "#franklabnwb functions\n",
    "#from franklabnwb import fl_ns_path\n",
    "#import franklabnwb.nspike_helpers as ns\n",
    "#import franklabnwb.query_helpers as qu\n",
    "#import franklabnwb.fl_extension as fle\n",
    "#import franklabnwb.fl_extension as flh"
   ]
  },
  {
   "cell_type": "markdown",
   "metadata": {},
   "source": [
    "#### Next we specify the NWB file name and populate the rest of the schema\n",
    "#### Replace the code below with the text for the path to the NWB file"
   ]
  },
  {
   "cell_type": "code",
   "execution_count": 3,
   "metadata": {},
   "outputs": [],
   "source": [
    "nwb_raw_file_name = '/data/nwb_builder_test_data/beans20190718.nwb'"
   ]
  },
  {
   "cell_type": "markdown",
   "metadata": {},
   "source": [
    "### temporary temporary file; FIX when NWB file handing sorted out"
   ]
  },
  {
   "cell_type": "code",
   "execution_count": 4,
   "metadata": {},
   "outputs": [],
   "source": [
    "nwb_file_name = '/data/nwb_builder_test_data/beans20190718_pp.nwb'"
   ]
  },
  {
   "cell_type": "code",
   "execution_count": 15,
   "metadata": {},
   "outputs": [
    {
     "name": "stdout",
     "output_type": "stream",
     "text": [
      "Importing NWB file /data/nwb_builder_test_data/beans20190718.nwb\n",
      "No Apparatus module found in /data/nwb_builder_test_data/beans20190718_pp.nwb\n",
      "\n",
      "Importing raw data: Estimated sampling rate:\t20000.0 Hz\n",
      "                    Number of valid intervals:\t5\n",
      "Processing raw position data. Estimated sampling rate: 30.0 Hz\n"
     ]
    }
   ],
   "source": [
    "nwb_dj.NWBPopulate([nwb_raw_file_name]) "
   ]
  },
  {
   "cell_type": "markdown",
   "metadata": {},
   "source": [
    "#### The code below creates a diagram of the various schema and their relationships"
   ]
  },
  {
   "cell_type": "code",
   "execution_count": 17,
   "metadata": {},
   "outputs": [
    {
     "name": "stdout",
     "output_type": "stream",
     "text": [
      "writing new NWB file /data/nwb_builder_test_data/beans20190718_pp00000000.nwb\n",
      "inserted file\n"
     ]
    }
   ],
   "source": [
    "a = common_session.LinkedNwbfile().create(nwb_file_name)"
   ]
  },
  {
   "cell_type": "code",
   "execution_count": 18,
   "metadata": {
    "collapsed": true,
    "jupyter": {
     "outputs_hidden": true
    }
   },
   "outputs": [
    {
     "name": "stderr",
     "output_type": "stream",
     "text": [
      "/Users/loren/opt/anaconda3/envs/nwbdj/lib/python3.7/site-packages/hdmf/backends/hdf5/h5tools.py:436: BrokenLinkWarning: /acquisition/e-series\n",
      "  warnings.warn(os.path.join(h5obj.name, k), BrokenLinkWarning)\n",
      "/Users/loren/opt/anaconda3/envs/nwbdj/lib/python3.7/site-packages/hdmf/backends/hdf5/h5tools.py:436: BrokenLinkWarning: /general/devices/header_device\n",
      "  warnings.warn(os.path.join(h5obj.name, k), BrokenLinkWarning)\n",
      "/Users/loren/opt/anaconda3/envs/nwbdj/lib/python3.7/site-packages/hdmf/backends/hdf5/h5tools.py:436: BrokenLinkWarning: /general/devices/probe 0\n",
      "  warnings.warn(os.path.join(h5obj.name, k), BrokenLinkWarning)\n",
      "/Users/loren/opt/anaconda3/envs/nwbdj/lib/python3.7/site-packages/hdmf/backends/hdf5/h5tools.py:436: BrokenLinkWarning: /general/extracellular_ephys/0\n",
      "  warnings.warn(os.path.join(h5obj.name, k), BrokenLinkWarning)\n",
      "/Users/loren/opt/anaconda3/envs/nwbdj/lib/python3.7/site-packages/hdmf/backends/hdf5/h5tools.py:436: BrokenLinkWarning: /general/extracellular_ephys/1\n",
      "  warnings.warn(os.path.join(h5obj.name, k), BrokenLinkWarning)\n",
      "/Users/loren/opt/anaconda3/envs/nwbdj/lib/python3.7/site-packages/hdmf/backends/hdf5/h5tools.py:436: BrokenLinkWarning: /general/extracellular_ephys/electrodes/bad_channel\n",
      "  warnings.warn(os.path.join(h5obj.name, k), BrokenLinkWarning)\n",
      "/Users/loren/opt/anaconda3/envs/nwbdj/lib/python3.7/site-packages/hdmf/backends/hdf5/h5tools.py:436: BrokenLinkWarning: /general/extracellular_ephys/electrodes/channel_id\n",
      "  warnings.warn(os.path.join(h5obj.name, k), BrokenLinkWarning)\n",
      "/Users/loren/opt/anaconda3/envs/nwbdj/lib/python3.7/site-packages/hdmf/backends/hdf5/h5tools.py:436: BrokenLinkWarning: /general/extracellular_ephys/electrodes/filtering\n",
      "  warnings.warn(os.path.join(h5obj.name, k), BrokenLinkWarning)\n",
      "/Users/loren/opt/anaconda3/envs/nwbdj/lib/python3.7/site-packages/hdmf/backends/hdf5/h5tools.py:436: BrokenLinkWarning: /general/extracellular_ephys/electrodes/group\n",
      "  warnings.warn(os.path.join(h5obj.name, k), BrokenLinkWarning)\n",
      "/Users/loren/opt/anaconda3/envs/nwbdj/lib/python3.7/site-packages/hdmf/backends/hdf5/h5tools.py:436: BrokenLinkWarning: /general/extracellular_ephys/electrodes/group_name\n",
      "  warnings.warn(os.path.join(h5obj.name, k), BrokenLinkWarning)\n",
      "/Users/loren/opt/anaconda3/envs/nwbdj/lib/python3.7/site-packages/hdmf/backends/hdf5/h5tools.py:436: BrokenLinkWarning: /general/extracellular_ephys/electrodes/hwChan\n",
      "  warnings.warn(os.path.join(h5obj.name, k), BrokenLinkWarning)\n",
      "/Users/loren/opt/anaconda3/envs/nwbdj/lib/python3.7/site-packages/hdmf/backends/hdf5/h5tools.py:436: BrokenLinkWarning: /general/extracellular_ephys/electrodes/id\n",
      "  warnings.warn(os.path.join(h5obj.name, k), BrokenLinkWarning)\n",
      "/Users/loren/opt/anaconda3/envs/nwbdj/lib/python3.7/site-packages/hdmf/backends/hdf5/h5tools.py:436: BrokenLinkWarning: /general/extracellular_ephys/electrodes/imp\n",
      "  warnings.warn(os.path.join(h5obj.name, k), BrokenLinkWarning)\n",
      "/Users/loren/opt/anaconda3/envs/nwbdj/lib/python3.7/site-packages/hdmf/backends/hdf5/h5tools.py:436: BrokenLinkWarning: /general/extracellular_ephys/electrodes/location\n",
      "  warnings.warn(os.path.join(h5obj.name, k), BrokenLinkWarning)\n",
      "/Users/loren/opt/anaconda3/envs/nwbdj/lib/python3.7/site-packages/hdmf/backends/hdf5/h5tools.py:436: BrokenLinkWarning: /general/extracellular_ephys/electrodes/ntrode_id\n",
      "  warnings.warn(os.path.join(h5obj.name, k), BrokenLinkWarning)\n",
      "/Users/loren/opt/anaconda3/envs/nwbdj/lib/python3.7/site-packages/hdmf/backends/hdf5/h5tools.py:436: BrokenLinkWarning: /general/extracellular_ephys/electrodes/probe_electrode\n",
      "  warnings.warn(os.path.join(h5obj.name, k), BrokenLinkWarning)\n",
      "/Users/loren/opt/anaconda3/envs/nwbdj/lib/python3.7/site-packages/hdmf/backends/hdf5/h5tools.py:436: BrokenLinkWarning: /general/extracellular_ephys/electrodes/probe_shank\n",
      "  warnings.warn(os.path.join(h5obj.name, k), BrokenLinkWarning)\n",
      "/Users/loren/opt/anaconda3/envs/nwbdj/lib/python3.7/site-packages/hdmf/backends/hdf5/h5tools.py:436: BrokenLinkWarning: /general/extracellular_ephys/electrodes/rel_x\n",
      "  warnings.warn(os.path.join(h5obj.name, k), BrokenLinkWarning)\n",
      "/Users/loren/opt/anaconda3/envs/nwbdj/lib/python3.7/site-packages/hdmf/backends/hdf5/h5tools.py:436: BrokenLinkWarning: /general/extracellular_ephys/electrodes/rel_y\n",
      "  warnings.warn(os.path.join(h5obj.name, k), BrokenLinkWarning)\n",
      "/Users/loren/opt/anaconda3/envs/nwbdj/lib/python3.7/site-packages/hdmf/backends/hdf5/h5tools.py:436: BrokenLinkWarning: /general/extracellular_ephys/electrodes/rel_z\n",
      "  warnings.warn(os.path.join(h5obj.name, k), BrokenLinkWarning)\n",
      "/Users/loren/opt/anaconda3/envs/nwbdj/lib/python3.7/site-packages/hdmf/backends/hdf5/h5tools.py:436: BrokenLinkWarning: /general/extracellular_ephys/electrodes/x\n",
      "  warnings.warn(os.path.join(h5obj.name, k), BrokenLinkWarning)\n",
      "/Users/loren/opt/anaconda3/envs/nwbdj/lib/python3.7/site-packages/hdmf/backends/hdf5/h5tools.py:436: BrokenLinkWarning: /general/extracellular_ephys/electrodes/y\n",
      "  warnings.warn(os.path.join(h5obj.name, k), BrokenLinkWarning)\n",
      "/Users/loren/opt/anaconda3/envs/nwbdj/lib/python3.7/site-packages/hdmf/backends/hdf5/h5tools.py:436: BrokenLinkWarning: /general/extracellular_ephys/electrodes/z\n",
      "  warnings.warn(os.path.join(h5obj.name, k), BrokenLinkWarning)\n",
      "/Users/loren/opt/anaconda3/envs/nwbdj/lib/python3.7/site-packages/hdmf/backends/hdf5/h5tools.py:436: BrokenLinkWarning: /general/subject\n",
      "  warnings.warn(os.path.join(h5obj.name, k), BrokenLinkWarning)\n",
      "/Users/loren/opt/anaconda3/envs/nwbdj/lib/python3.7/site-packages/hdmf/backends/hdf5/h5tools.py:436: BrokenLinkWarning: /intervals/epochs/id\n",
      "  warnings.warn(os.path.join(h5obj.name, k), BrokenLinkWarning)\n",
      "/Users/loren/opt/anaconda3/envs/nwbdj/lib/python3.7/site-packages/hdmf/backends/hdf5/h5tools.py:436: BrokenLinkWarning: /intervals/epochs/start_time\n",
      "  warnings.warn(os.path.join(h5obj.name, k), BrokenLinkWarning)\n",
      "/Users/loren/opt/anaconda3/envs/nwbdj/lib/python3.7/site-packages/hdmf/backends/hdf5/h5tools.py:436: BrokenLinkWarning: /intervals/epochs/stop_time\n",
      "  warnings.warn(os.path.join(h5obj.name, k), BrokenLinkWarning)\n",
      "/Users/loren/opt/anaconda3/envs/nwbdj/lib/python3.7/site-packages/hdmf/backends/hdf5/h5tools.py:436: BrokenLinkWarning: /intervals/epochs/tags\n",
      "  warnings.warn(os.path.join(h5obj.name, k), BrokenLinkWarning)\n",
      "/Users/loren/opt/anaconda3/envs/nwbdj/lib/python3.7/site-packages/hdmf/backends/hdf5/h5tools.py:436: BrokenLinkWarning: /intervals/epochs/tags_index\n",
      "  warnings.warn(os.path.join(h5obj.name, k), BrokenLinkWarning)\n",
      "/Users/loren/opt/anaconda3/envs/nwbdj/lib/python3.7/site-packages/hdmf/backends/hdf5/h5tools.py:436: BrokenLinkWarning: /processing/behavior\n",
      "  warnings.warn(os.path.join(h5obj.name, k), BrokenLinkWarning)\n"
     ]
    },
    {
     "ename": "Exception",
     "evalue": "Could not construct DynamicTable object due to: 'x'",
     "output_type": "error",
     "traceback": [
      "\u001b[0;31m---------------------------------------------------------------------------\u001b[0m",
      "\u001b[0;31mKeyError\u001b[0m                                  Traceback (most recent call last)",
      "\u001b[0;32m~/opt/anaconda3/envs/nwbdj/lib/python3.7/site-packages/hdmf/build/objectmapper.py\u001b[0m in \u001b[0;36mconstruct\u001b[0;34m(self, **kwargs)\u001b[0m\n\u001b[1;32m   1000\u001b[0m                               object_id=builder.attributes.get(self.__spec.id_key()))\n\u001b[0;32m-> 1001\u001b[0;31m             \u001b[0mobj\u001b[0m\u001b[0;34m.\u001b[0m\u001b[0m__init__\u001b[0m\u001b[0;34m(\u001b[0m\u001b[0;34m**\u001b[0m\u001b[0mkwargs\u001b[0m\u001b[0;34m)\u001b[0m\u001b[0;34m\u001b[0m\u001b[0;34m\u001b[0m\u001b[0m\n\u001b[0m\u001b[1;32m   1002\u001b[0m         \u001b[0;32mexcept\u001b[0m \u001b[0mException\u001b[0m \u001b[0;32mas\u001b[0m \u001b[0mex\u001b[0m\u001b[0;34m:\u001b[0m\u001b[0;34m\u001b[0m\u001b[0;34m\u001b[0m\u001b[0m\n",
      "\u001b[0;32m~/opt/anaconda3/envs/nwbdj/lib/python3.7/site-packages/hdmf/utils.py\u001b[0m in \u001b[0;36mfunc_call\u001b[0;34m(*args, **kwargs)\u001b[0m\n\u001b[1;32m    482\u001b[0m             \u001b[0;32mif\u001b[0m \u001b[0mis_method\u001b[0m\u001b[0;34m:\u001b[0m\u001b[0;34m\u001b[0m\u001b[0;34m\u001b[0m\u001b[0m\n\u001b[0;32m--> 483\u001b[0;31m                 \u001b[0;32mreturn\u001b[0m \u001b[0mfunc\u001b[0m\u001b[0;34m(\u001b[0m\u001b[0margs\u001b[0m\u001b[0;34m[\u001b[0m\u001b[0;36m0\u001b[0m\u001b[0;34m]\u001b[0m\u001b[0;34m,\u001b[0m \u001b[0;34m**\u001b[0m\u001b[0mparsed\u001b[0m\u001b[0;34m[\u001b[0m\u001b[0;34m'args'\u001b[0m\u001b[0;34m]\u001b[0m\u001b[0;34m)\u001b[0m\u001b[0;34m\u001b[0m\u001b[0;34m\u001b[0m\u001b[0m\n\u001b[0m\u001b[1;32m    484\u001b[0m             \u001b[0;32melse\u001b[0m\u001b[0;34m:\u001b[0m\u001b[0;34m\u001b[0m\u001b[0;34m\u001b[0m\u001b[0m\n",
      "\u001b[0;32m~/opt/anaconda3/envs/nwbdj/lib/python3.7/site-packages/hdmf/common/table.py\u001b[0m in \u001b[0;36m__init__\u001b[0;34m(self, **kwargs)\u001b[0m\n\u001b[1;32m    250\u001b[0m                 \u001b[0;32mfor\u001b[0m \u001b[0mname\u001b[0m \u001b[0;32min\u001b[0m \u001b[0mself\u001b[0m\u001b[0;34m.\u001b[0m\u001b[0mcolnames\u001b[0m\u001b[0;34m:\u001b[0m\u001b[0;34m\u001b[0m\u001b[0;34m\u001b[0m\u001b[0m\n\u001b[0;32m--> 251\u001b[0;31m                     \u001b[0mcol\u001b[0m \u001b[0;34m=\u001b[0m \u001b[0mcol_dict\u001b[0m\u001b[0;34m[\u001b[0m\u001b[0mname\u001b[0m\u001b[0;34m]\u001b[0m\u001b[0;34m\u001b[0m\u001b[0;34m\u001b[0m\u001b[0m\n\u001b[0m\u001b[1;32m    252\u001b[0m                     \u001b[0morder\u001b[0m\u001b[0;34m[\u001b[0m\u001b[0mcol\u001b[0m\u001b[0;34m.\u001b[0m\u001b[0mname\u001b[0m\u001b[0;34m]\u001b[0m \u001b[0;34m=\u001b[0m \u001b[0mi\u001b[0m\u001b[0;34m\u001b[0m\u001b[0;34m\u001b[0m\u001b[0m\n",
      "\u001b[0;31mKeyError\u001b[0m: 'x'",
      "\nThe above exception was the direct cause of the following exception:\n",
      "\u001b[0;31mException\u001b[0m                                 Traceback (most recent call last)",
      "\u001b[0;32m<ipython-input-18-5eaf97798c26>\u001b[0m in \u001b[0;36m<module>\u001b[0;34m\u001b[0m\n\u001b[1;32m      1\u001b[0m \u001b[0;32mimport\u001b[0m \u001b[0mnumpy\u001b[0m \u001b[0;32mas\u001b[0m \u001b[0mnp\u001b[0m\u001b[0;34m\u001b[0m\u001b[0;34m\u001b[0m\u001b[0m\n\u001b[1;32m      2\u001b[0m \u001b[0;32mwith\u001b[0m \u001b[0mpynwb\u001b[0m\u001b[0;34m.\u001b[0m\u001b[0mNWBHDF5IO\u001b[0m\u001b[0;34m(\u001b[0m\u001b[0ma\u001b[0m\u001b[0;34m,\u001b[0m \u001b[0;34m\"a\"\u001b[0m\u001b[0;34m)\u001b[0m \u001b[0;32mas\u001b[0m \u001b[0mio\u001b[0m\u001b[0;34m:\u001b[0m\u001b[0;34m\u001b[0m\u001b[0;34m\u001b[0m\u001b[0m\n\u001b[0;32m----> 3\u001b[0;31m     \u001b[0mnwbf\u001b[0m\u001b[0;34m=\u001b[0m \u001b[0mio\u001b[0m\u001b[0;34m.\u001b[0m\u001b[0mread\u001b[0m\u001b[0;34m(\u001b[0m\u001b[0;34m)\u001b[0m\u001b[0;34m\u001b[0m\u001b[0;34m\u001b[0m\u001b[0m\n\u001b[0m\u001b[1;32m      4\u001b[0m \u001b[0mnwbf\u001b[0m\u001b[0;34m\u001b[0m\u001b[0;34m\u001b[0m\u001b[0m\n\u001b[1;32m      5\u001b[0m \u001b[0melectrode_table_region\u001b[0m \u001b[0;34m=\u001b[0m \u001b[0mnwbf\u001b[0m\u001b[0;34m.\u001b[0m\u001b[0mcreate_electrode_table_region\u001b[0m\u001b[0;34m(\u001b[0m\u001b[0;34m[\u001b[0m\u001b[0;36m0\u001b[0m\u001b[0;34m,\u001b[0m\u001b[0;36m2\u001b[0m\u001b[0;34m]\u001b[0m\u001b[0;34m,\u001b[0m \u001b[0;34m'filtered electrode table'\u001b[0m\u001b[0;34m)\u001b[0m\u001b[0;34m\u001b[0m\u001b[0;34m\u001b[0m\u001b[0m\n",
      "\u001b[0;32m~/opt/anaconda3/envs/nwbdj/lib/python3.7/site-packages/hdmf/backends/hdf5/h5tools.py\u001b[0m in \u001b[0;36mread\u001b[0;34m(self, **kwargs)\u001b[0m\n\u001b[1;32m    302\u001b[0m                                        % (self.__path, self.__mode))\n\u001b[1;32m    303\u001b[0m         \u001b[0;32mtry\u001b[0m\u001b[0;34m:\u001b[0m\u001b[0;34m\u001b[0m\u001b[0;34m\u001b[0m\u001b[0m\n\u001b[0;32m--> 304\u001b[0;31m             \u001b[0;32mreturn\u001b[0m \u001b[0mcall_docval_func\u001b[0m\u001b[0;34m(\u001b[0m\u001b[0msuper\u001b[0m\u001b[0;34m(\u001b[0m\u001b[0;34m)\u001b[0m\u001b[0;34m.\u001b[0m\u001b[0mread\u001b[0m\u001b[0;34m,\u001b[0m \u001b[0mkwargs\u001b[0m\u001b[0;34m)\u001b[0m\u001b[0;34m\u001b[0m\u001b[0;34m\u001b[0m\u001b[0m\n\u001b[0m\u001b[1;32m    305\u001b[0m         \u001b[0;32mexcept\u001b[0m \u001b[0mUnsupportedOperation\u001b[0m \u001b[0;32mas\u001b[0m \u001b[0me\u001b[0m\u001b[0;34m:\u001b[0m\u001b[0;34m\u001b[0m\u001b[0;34m\u001b[0m\u001b[0m\n\u001b[1;32m    306\u001b[0m             \u001b[0;32mif\u001b[0m \u001b[0mstr\u001b[0m\u001b[0;34m(\u001b[0m\u001b[0me\u001b[0m\u001b[0;34m)\u001b[0m \u001b[0;34m==\u001b[0m \u001b[0;34m'Cannot build data. There are no values.'\u001b[0m\u001b[0;34m:\u001b[0m\u001b[0;34m\u001b[0m\u001b[0;34m\u001b[0m\u001b[0m\n",
      "\u001b[0;32m~/opt/anaconda3/envs/nwbdj/lib/python3.7/site-packages/hdmf/utils.py\u001b[0m in \u001b[0;36mcall_docval_func\u001b[0;34m(func, kwargs)\u001b[0m\n\u001b[1;32m    362\u001b[0m \u001b[0;32mdef\u001b[0m \u001b[0mcall_docval_func\u001b[0m\u001b[0;34m(\u001b[0m\u001b[0mfunc\u001b[0m\u001b[0;34m,\u001b[0m \u001b[0mkwargs\u001b[0m\u001b[0;34m)\u001b[0m\u001b[0;34m:\u001b[0m\u001b[0;34m\u001b[0m\u001b[0;34m\u001b[0m\u001b[0m\n\u001b[1;32m    363\u001b[0m     \u001b[0mfargs\u001b[0m\u001b[0;34m,\u001b[0m \u001b[0mfkwargs\u001b[0m \u001b[0;34m=\u001b[0m \u001b[0mfmt_docval_args\u001b[0m\u001b[0;34m(\u001b[0m\u001b[0mfunc\u001b[0m\u001b[0;34m,\u001b[0m \u001b[0mkwargs\u001b[0m\u001b[0;34m)\u001b[0m\u001b[0;34m\u001b[0m\u001b[0;34m\u001b[0m\u001b[0m\n\u001b[0;32m--> 364\u001b[0;31m     \u001b[0;32mreturn\u001b[0m \u001b[0mfunc\u001b[0m\u001b[0;34m(\u001b[0m\u001b[0;34m*\u001b[0m\u001b[0mfargs\u001b[0m\u001b[0;34m,\u001b[0m \u001b[0;34m**\u001b[0m\u001b[0mfkwargs\u001b[0m\u001b[0;34m)\u001b[0m\u001b[0;34m\u001b[0m\u001b[0;34m\u001b[0m\u001b[0m\n\u001b[0m\u001b[1;32m    365\u001b[0m \u001b[0;34m\u001b[0m\u001b[0m\n\u001b[1;32m    366\u001b[0m \u001b[0;34m\u001b[0m\u001b[0m\n",
      "\u001b[0;32m~/opt/anaconda3/envs/nwbdj/lib/python3.7/site-packages/hdmf/utils.py\u001b[0m in \u001b[0;36mfunc_call\u001b[0;34m(*args, **kwargs)\u001b[0m\n\u001b[1;32m    481\u001b[0m \u001b[0;34m\u001b[0m\u001b[0m\n\u001b[1;32m    482\u001b[0m             \u001b[0;32mif\u001b[0m \u001b[0mis_method\u001b[0m\u001b[0;34m:\u001b[0m\u001b[0;34m\u001b[0m\u001b[0;34m\u001b[0m\u001b[0m\n\u001b[0;32m--> 483\u001b[0;31m                 \u001b[0;32mreturn\u001b[0m \u001b[0mfunc\u001b[0m\u001b[0;34m(\u001b[0m\u001b[0margs\u001b[0m\u001b[0;34m[\u001b[0m\u001b[0;36m0\u001b[0m\u001b[0;34m]\u001b[0m\u001b[0;34m,\u001b[0m \u001b[0;34m**\u001b[0m\u001b[0mparsed\u001b[0m\u001b[0;34m[\u001b[0m\u001b[0;34m'args'\u001b[0m\u001b[0;34m]\u001b[0m\u001b[0;34m)\u001b[0m\u001b[0;34m\u001b[0m\u001b[0;34m\u001b[0m\u001b[0m\n\u001b[0m\u001b[1;32m    484\u001b[0m             \u001b[0;32melse\u001b[0m\u001b[0;34m:\u001b[0m\u001b[0;34m\u001b[0m\u001b[0;34m\u001b[0m\u001b[0m\n\u001b[1;32m    485\u001b[0m                 \u001b[0;32mreturn\u001b[0m \u001b[0mfunc\u001b[0m\u001b[0;34m(\u001b[0m\u001b[0;34m**\u001b[0m\u001b[0mparsed\u001b[0m\u001b[0;34m[\u001b[0m\u001b[0;34m'args'\u001b[0m\u001b[0;34m]\u001b[0m\u001b[0;34m)\u001b[0m\u001b[0;34m\u001b[0m\u001b[0;34m\u001b[0m\u001b[0m\n",
      "\u001b[0;32m~/opt/anaconda3/envs/nwbdj/lib/python3.7/site-packages/hdmf/backends/io.py\u001b[0m in \u001b[0;36mread\u001b[0;34m(self, **kwargs)\u001b[0m\n\u001b[1;32m     33\u001b[0m             \u001b[0;31m# TODO also check that the keys are appropriate. print a better error message\u001b[0m\u001b[0;34m\u001b[0m\u001b[0;34m\u001b[0m\u001b[0;34m\u001b[0m\u001b[0m\n\u001b[1;32m     34\u001b[0m             \u001b[0;32mraise\u001b[0m \u001b[0mUnsupportedOperation\u001b[0m\u001b[0;34m(\u001b[0m\u001b[0;34m'Cannot build data. There are no values.'\u001b[0m\u001b[0;34m)\u001b[0m\u001b[0;34m\u001b[0m\u001b[0;34m\u001b[0m\u001b[0m\n\u001b[0;32m---> 35\u001b[0;31m         \u001b[0mcontainer\u001b[0m \u001b[0;34m=\u001b[0m \u001b[0mself\u001b[0m\u001b[0;34m.\u001b[0m\u001b[0m__manager\u001b[0m\u001b[0;34m.\u001b[0m\u001b[0mconstruct\u001b[0m\u001b[0;34m(\u001b[0m\u001b[0mf_builder\u001b[0m\u001b[0;34m)\u001b[0m\u001b[0;34m\u001b[0m\u001b[0;34m\u001b[0m\u001b[0m\n\u001b[0m\u001b[1;32m     36\u001b[0m         \u001b[0;32mreturn\u001b[0m \u001b[0mcontainer\u001b[0m\u001b[0;34m\u001b[0m\u001b[0;34m\u001b[0m\u001b[0m\n\u001b[1;32m     37\u001b[0m \u001b[0;34m\u001b[0m\u001b[0m\n",
      "\u001b[0;32m~/opt/anaconda3/envs/nwbdj/lib/python3.7/site-packages/hdmf/utils.py\u001b[0m in \u001b[0;36mfunc_call\u001b[0;34m(*args, **kwargs)\u001b[0m\n\u001b[1;32m    481\u001b[0m \u001b[0;34m\u001b[0m\u001b[0m\n\u001b[1;32m    482\u001b[0m             \u001b[0;32mif\u001b[0m \u001b[0mis_method\u001b[0m\u001b[0;34m:\u001b[0m\u001b[0;34m\u001b[0m\u001b[0;34m\u001b[0m\u001b[0m\n\u001b[0;32m--> 483\u001b[0;31m                 \u001b[0;32mreturn\u001b[0m \u001b[0mfunc\u001b[0m\u001b[0;34m(\u001b[0m\u001b[0margs\u001b[0m\u001b[0;34m[\u001b[0m\u001b[0;36m0\u001b[0m\u001b[0;34m]\u001b[0m\u001b[0;34m,\u001b[0m \u001b[0;34m**\u001b[0m\u001b[0mparsed\u001b[0m\u001b[0;34m[\u001b[0m\u001b[0;34m'args'\u001b[0m\u001b[0;34m]\u001b[0m\u001b[0;34m)\u001b[0m\u001b[0;34m\u001b[0m\u001b[0;34m\u001b[0m\u001b[0m\n\u001b[0m\u001b[1;32m    484\u001b[0m             \u001b[0;32melse\u001b[0m\u001b[0;34m:\u001b[0m\u001b[0;34m\u001b[0m\u001b[0;34m\u001b[0m\u001b[0m\n\u001b[1;32m    485\u001b[0m                 \u001b[0;32mreturn\u001b[0m \u001b[0mfunc\u001b[0m\u001b[0;34m(\u001b[0m\u001b[0;34m**\u001b[0m\u001b[0mparsed\u001b[0m\u001b[0;34m[\u001b[0m\u001b[0;34m'args'\u001b[0m\u001b[0;34m]\u001b[0m\u001b[0;34m)\u001b[0m\u001b[0;34m\u001b[0m\u001b[0;34m\u001b[0m\u001b[0m\n",
      "\u001b[0;32m~/opt/anaconda3/envs/nwbdj/lib/python3.7/site-packages/hdmf/build/manager.py\u001b[0m in \u001b[0;36mconstruct\u001b[0;34m(self, **kwargs)\u001b[0m\n\u001b[1;32m    197\u001b[0m                 \u001b[0;31m# we are at the top of the hierarchy,\u001b[0m\u001b[0;34m\u001b[0m\u001b[0;34m\u001b[0m\u001b[0;34m\u001b[0m\u001b[0m\n\u001b[1;32m    198\u001b[0m                 \u001b[0;31m# so it must be time to resolve parents\u001b[0m\u001b[0;34m\u001b[0m\u001b[0;34m\u001b[0m\u001b[0;34m\u001b[0m\u001b[0m\n\u001b[0;32m--> 199\u001b[0;31m                 \u001b[0mresult\u001b[0m \u001b[0;34m=\u001b[0m \u001b[0mself\u001b[0m\u001b[0;34m.\u001b[0m\u001b[0m__type_map\u001b[0m\u001b[0;34m.\u001b[0m\u001b[0mconstruct\u001b[0m\u001b[0;34m(\u001b[0m\u001b[0mbuilder\u001b[0m\u001b[0;34m,\u001b[0m \u001b[0mself\u001b[0m\u001b[0;34m,\u001b[0m \u001b[0;32mNone\u001b[0m\u001b[0;34m)\u001b[0m\u001b[0;34m\u001b[0m\u001b[0;34m\u001b[0m\u001b[0m\n\u001b[0m\u001b[1;32m    200\u001b[0m                 \u001b[0mself\u001b[0m\u001b[0;34m.\u001b[0m\u001b[0m__resolve_parents\u001b[0m\u001b[0;34m(\u001b[0m\u001b[0mresult\u001b[0m\u001b[0;34m)\u001b[0m\u001b[0;34m\u001b[0m\u001b[0;34m\u001b[0m\u001b[0m\n\u001b[1;32m    201\u001b[0m             \u001b[0mself\u001b[0m\u001b[0;34m.\u001b[0m\u001b[0mprebuilt\u001b[0m\u001b[0;34m(\u001b[0m\u001b[0mresult\u001b[0m\u001b[0;34m,\u001b[0m \u001b[0mbuilder\u001b[0m\u001b[0;34m)\u001b[0m\u001b[0;34m\u001b[0m\u001b[0;34m\u001b[0m\u001b[0m\n",
      "\u001b[0;32m~/opt/anaconda3/envs/nwbdj/lib/python3.7/site-packages/hdmf/utils.py\u001b[0m in \u001b[0;36mfunc_call\u001b[0;34m(*args, **kwargs)\u001b[0m\n\u001b[1;32m    481\u001b[0m \u001b[0;34m\u001b[0m\u001b[0m\n\u001b[1;32m    482\u001b[0m             \u001b[0;32mif\u001b[0m \u001b[0mis_method\u001b[0m\u001b[0;34m:\u001b[0m\u001b[0;34m\u001b[0m\u001b[0;34m\u001b[0m\u001b[0m\n\u001b[0;32m--> 483\u001b[0;31m                 \u001b[0;32mreturn\u001b[0m \u001b[0mfunc\u001b[0m\u001b[0;34m(\u001b[0m\u001b[0margs\u001b[0m\u001b[0;34m[\u001b[0m\u001b[0;36m0\u001b[0m\u001b[0;34m]\u001b[0m\u001b[0;34m,\u001b[0m \u001b[0;34m**\u001b[0m\u001b[0mparsed\u001b[0m\u001b[0;34m[\u001b[0m\u001b[0;34m'args'\u001b[0m\u001b[0;34m]\u001b[0m\u001b[0;34m)\u001b[0m\u001b[0;34m\u001b[0m\u001b[0;34m\u001b[0m\u001b[0m\n\u001b[0m\u001b[1;32m    484\u001b[0m             \u001b[0;32melse\u001b[0m\u001b[0;34m:\u001b[0m\u001b[0;34m\u001b[0m\u001b[0;34m\u001b[0m\u001b[0m\n\u001b[1;32m    485\u001b[0m                 \u001b[0;32mreturn\u001b[0m \u001b[0mfunc\u001b[0m\u001b[0;34m(\u001b[0m\u001b[0;34m**\u001b[0m\u001b[0mparsed\u001b[0m\u001b[0;34m[\u001b[0m\u001b[0;34m'args'\u001b[0m\u001b[0;34m]\u001b[0m\u001b[0;34m)\u001b[0m\u001b[0;34m\u001b[0m\u001b[0;34m\u001b[0m\u001b[0m\n",
      "\u001b[0;32m~/opt/anaconda3/envs/nwbdj/lib/python3.7/site-packages/hdmf/build/manager.py\u001b[0m in \u001b[0;36mconstruct\u001b[0;34m(self, **kwargs)\u001b[0m\n\u001b[1;32m    768\u001b[0m             \u001b[0;32mraise\u001b[0m \u001b[0mValueError\u001b[0m\u001b[0;34m(\u001b[0m\u001b[0;34m'No ObjectMapper found for builder of type %s'\u001b[0m \u001b[0;34m%\u001b[0m \u001b[0mdt\u001b[0m\u001b[0;34m)\u001b[0m\u001b[0;34m\u001b[0m\u001b[0;34m\u001b[0m\u001b[0m\n\u001b[1;32m    769\u001b[0m         \u001b[0;32melse\u001b[0m\u001b[0;34m:\u001b[0m\u001b[0;34m\u001b[0m\u001b[0;34m\u001b[0m\u001b[0m\n\u001b[0;32m--> 770\u001b[0;31m             \u001b[0;32mreturn\u001b[0m \u001b[0mobj_mapper\u001b[0m\u001b[0;34m.\u001b[0m\u001b[0mconstruct\u001b[0m\u001b[0;34m(\u001b[0m\u001b[0mbuilder\u001b[0m\u001b[0;34m,\u001b[0m \u001b[0mbuild_manager\u001b[0m\u001b[0;34m,\u001b[0m \u001b[0mparent\u001b[0m\u001b[0;34m)\u001b[0m\u001b[0;34m\u001b[0m\u001b[0;34m\u001b[0m\u001b[0m\n\u001b[0m\u001b[1;32m    771\u001b[0m \u001b[0;34m\u001b[0m\u001b[0m\n\u001b[1;32m    772\u001b[0m     @docval({\"name\": \"container\", \"type\": AbstractContainer, \"doc\": \"the container to convert to a Builder\"},\n",
      "\u001b[0;32m~/opt/anaconda3/envs/nwbdj/lib/python3.7/site-packages/hdmf/utils.py\u001b[0m in \u001b[0;36mfunc_call\u001b[0;34m(*args, **kwargs)\u001b[0m\n\u001b[1;32m    481\u001b[0m \u001b[0;34m\u001b[0m\u001b[0m\n\u001b[1;32m    482\u001b[0m             \u001b[0;32mif\u001b[0m \u001b[0mis_method\u001b[0m\u001b[0;34m:\u001b[0m\u001b[0;34m\u001b[0m\u001b[0;34m\u001b[0m\u001b[0m\n\u001b[0;32m--> 483\u001b[0;31m                 \u001b[0;32mreturn\u001b[0m \u001b[0mfunc\u001b[0m\u001b[0;34m(\u001b[0m\u001b[0margs\u001b[0m\u001b[0;34m[\u001b[0m\u001b[0;36m0\u001b[0m\u001b[0;34m]\u001b[0m\u001b[0;34m,\u001b[0m \u001b[0;34m**\u001b[0m\u001b[0mparsed\u001b[0m\u001b[0;34m[\u001b[0m\u001b[0;34m'args'\u001b[0m\u001b[0;34m]\u001b[0m\u001b[0;34m)\u001b[0m\u001b[0;34m\u001b[0m\u001b[0;34m\u001b[0m\u001b[0m\n\u001b[0m\u001b[1;32m    484\u001b[0m             \u001b[0;32melse\u001b[0m\u001b[0;34m:\u001b[0m\u001b[0;34m\u001b[0m\u001b[0;34m\u001b[0m\u001b[0m\n\u001b[1;32m    485\u001b[0m                 \u001b[0;32mreturn\u001b[0m \u001b[0mfunc\u001b[0m\u001b[0;34m(\u001b[0m\u001b[0;34m**\u001b[0m\u001b[0mparsed\u001b[0m\u001b[0;34m[\u001b[0m\u001b[0;34m'args'\u001b[0m\u001b[0;34m]\u001b[0m\u001b[0;34m)\u001b[0m\u001b[0;34m\u001b[0m\u001b[0;34m\u001b[0m\u001b[0m\n",
      "\u001b[0;32m~/opt/anaconda3/envs/nwbdj/lib/python3.7/site-packages/hdmf/build/objectmapper.py\u001b[0m in \u001b[0;36mconstruct\u001b[0;34m(self, **kwargs)\u001b[0m\n\u001b[1;32m    967\u001b[0m         \u001b[0mcls\u001b[0m \u001b[0;34m=\u001b[0m \u001b[0mmanager\u001b[0m\u001b[0;34m.\u001b[0m\u001b[0mget_cls\u001b[0m\u001b[0;34m(\u001b[0m\u001b[0mbuilder\u001b[0m\u001b[0;34m)\u001b[0m\u001b[0;34m\u001b[0m\u001b[0;34m\u001b[0m\u001b[0m\n\u001b[1;32m    968\u001b[0m         \u001b[0;31m# gather all subspecs\u001b[0m\u001b[0;34m\u001b[0m\u001b[0;34m\u001b[0m\u001b[0;34m\u001b[0m\u001b[0m\n\u001b[0;32m--> 969\u001b[0;31m         \u001b[0msubspecs\u001b[0m \u001b[0;34m=\u001b[0m \u001b[0mself\u001b[0m\u001b[0;34m.\u001b[0m\u001b[0m__get_subspec_values\u001b[0m\u001b[0;34m(\u001b[0m\u001b[0mbuilder\u001b[0m\u001b[0;34m,\u001b[0m \u001b[0mself\u001b[0m\u001b[0;34m.\u001b[0m\u001b[0mspec\u001b[0m\u001b[0;34m,\u001b[0m \u001b[0mmanager\u001b[0m\u001b[0;34m)\u001b[0m\u001b[0;34m\u001b[0m\u001b[0;34m\u001b[0m\u001b[0m\n\u001b[0m\u001b[1;32m    970\u001b[0m         \u001b[0;31m# get the constructor argument that each specification corresponds to\u001b[0m\u001b[0;34m\u001b[0m\u001b[0;34m\u001b[0m\u001b[0;34m\u001b[0m\u001b[0m\n\u001b[1;32m    971\u001b[0m         \u001b[0mconst_args\u001b[0m \u001b[0;34m=\u001b[0m \u001b[0mdict\u001b[0m\u001b[0;34m(\u001b[0m\u001b[0;34m)\u001b[0m\u001b[0;34m\u001b[0m\u001b[0;34m\u001b[0m\u001b[0m\n",
      "\u001b[0;32m~/opt/anaconda3/envs/nwbdj/lib/python3.7/site-packages/hdmf/build/objectmapper.py\u001b[0m in \u001b[0;36m__get_subspec_values\u001b[0;34m(self, builder, spec, manager)\u001b[0m\n\u001b[1;32m    897\u001b[0m                         \u001b[0mret\u001b[0m\u001b[0;34m[\u001b[0m\u001b[0msubspec\u001b[0m\u001b[0;34m]\u001b[0m \u001b[0;34m=\u001b[0m \u001b[0mself\u001b[0m\u001b[0;34m.\u001b[0m\u001b[0m__flatten\u001b[0m\u001b[0;34m(\u001b[0m\u001b[0msub_builder\u001b[0m\u001b[0;34m,\u001b[0m \u001b[0msubspec\u001b[0m\u001b[0;34m,\u001b[0m \u001b[0mmanager\u001b[0m\u001b[0;34m)\u001b[0m\u001b[0;34m\u001b[0m\u001b[0;34m\u001b[0m\u001b[0m\n\u001b[1;32m    898\u001b[0m             \u001b[0;31m# now process groups and datasets\u001b[0m\u001b[0;34m\u001b[0m\u001b[0;34m\u001b[0m\u001b[0;34m\u001b[0m\u001b[0m\n\u001b[0;32m--> 899\u001b[0;31m             \u001b[0mself\u001b[0m\u001b[0;34m.\u001b[0m\u001b[0m__get_sub_builders\u001b[0m\u001b[0;34m(\u001b[0m\u001b[0mgroups\u001b[0m\u001b[0;34m,\u001b[0m \u001b[0mspec\u001b[0m\u001b[0;34m.\u001b[0m\u001b[0mgroups\u001b[0m\u001b[0;34m,\u001b[0m \u001b[0mmanager\u001b[0m\u001b[0;34m,\u001b[0m \u001b[0mret\u001b[0m\u001b[0;34m)\u001b[0m\u001b[0;34m\u001b[0m\u001b[0;34m\u001b[0m\u001b[0m\n\u001b[0m\u001b[1;32m    900\u001b[0m             \u001b[0mself\u001b[0m\u001b[0;34m.\u001b[0m\u001b[0m__get_sub_builders\u001b[0m\u001b[0;34m(\u001b[0m\u001b[0mdatasets\u001b[0m\u001b[0;34m,\u001b[0m \u001b[0mspec\u001b[0m\u001b[0;34m.\u001b[0m\u001b[0mdatasets\u001b[0m\u001b[0;34m,\u001b[0m \u001b[0mmanager\u001b[0m\u001b[0;34m,\u001b[0m \u001b[0mret\u001b[0m\u001b[0;34m)\u001b[0m\u001b[0;34m\u001b[0m\u001b[0;34m\u001b[0m\u001b[0m\n\u001b[1;32m    901\u001b[0m         \u001b[0;32melif\u001b[0m \u001b[0misinstance\u001b[0m\u001b[0;34m(\u001b[0m\u001b[0mspec\u001b[0m\u001b[0;34m,\u001b[0m \u001b[0mDatasetSpec\u001b[0m\u001b[0;34m)\u001b[0m\u001b[0;34m:\u001b[0m\u001b[0;34m\u001b[0m\u001b[0;34m\u001b[0m\u001b[0m\n",
      "\u001b[0;32m~/opt/anaconda3/envs/nwbdj/lib/python3.7/site-packages/hdmf/build/objectmapper.py\u001b[0m in \u001b[0;36m__get_sub_builders\u001b[0;34m(self, sub_builders, subspecs, manager, ret)\u001b[0m\n\u001b[1;32m    947\u001b[0m                 \u001b[0;32mif\u001b[0m \u001b[0mdt\u001b[0m \u001b[0;32mis\u001b[0m \u001b[0;32mNone\u001b[0m\u001b[0;34m:\u001b[0m\u001b[0;34m\u001b[0m\u001b[0;34m\u001b[0m\u001b[0m\n\u001b[1;32m    948\u001b[0m                     \u001b[0;31m# recurse\u001b[0m\u001b[0;34m\u001b[0m\u001b[0;34m\u001b[0m\u001b[0;34m\u001b[0m\u001b[0m\n\u001b[0;32m--> 949\u001b[0;31m                     \u001b[0mret\u001b[0m\u001b[0;34m.\u001b[0m\u001b[0mupdate\u001b[0m\u001b[0;34m(\u001b[0m\u001b[0mself\u001b[0m\u001b[0;34m.\u001b[0m\u001b[0m__get_subspec_values\u001b[0m\u001b[0;34m(\u001b[0m\u001b[0msub_builder\u001b[0m\u001b[0;34m,\u001b[0m \u001b[0msubspec\u001b[0m\u001b[0;34m,\u001b[0m \u001b[0mmanager\u001b[0m\u001b[0;34m)\u001b[0m\u001b[0;34m)\u001b[0m\u001b[0;34m\u001b[0m\u001b[0;34m\u001b[0m\u001b[0m\n\u001b[0m\u001b[1;32m    950\u001b[0m                 \u001b[0;32melse\u001b[0m\u001b[0;34m:\u001b[0m\u001b[0;34m\u001b[0m\u001b[0;34m\u001b[0m\u001b[0m\n\u001b[1;32m    951\u001b[0m                     \u001b[0mret\u001b[0m\u001b[0;34m[\u001b[0m\u001b[0msubspec\u001b[0m\u001b[0;34m]\u001b[0m \u001b[0;34m=\u001b[0m \u001b[0mmanager\u001b[0m\u001b[0;34m.\u001b[0m\u001b[0mconstruct\u001b[0m\u001b[0;34m(\u001b[0m\u001b[0msub_builder\u001b[0m\u001b[0;34m)\u001b[0m\u001b[0;34m\u001b[0m\u001b[0;34m\u001b[0m\u001b[0m\n",
      "\u001b[0;32m~/opt/anaconda3/envs/nwbdj/lib/python3.7/site-packages/hdmf/build/objectmapper.py\u001b[0m in \u001b[0;36m__get_subspec_values\u001b[0;34m(self, builder, spec, manager)\u001b[0m\n\u001b[1;32m    897\u001b[0m                         \u001b[0mret\u001b[0m\u001b[0;34m[\u001b[0m\u001b[0msubspec\u001b[0m\u001b[0;34m]\u001b[0m \u001b[0;34m=\u001b[0m \u001b[0mself\u001b[0m\u001b[0;34m.\u001b[0m\u001b[0m__flatten\u001b[0m\u001b[0;34m(\u001b[0m\u001b[0msub_builder\u001b[0m\u001b[0;34m,\u001b[0m \u001b[0msubspec\u001b[0m\u001b[0;34m,\u001b[0m \u001b[0mmanager\u001b[0m\u001b[0;34m)\u001b[0m\u001b[0;34m\u001b[0m\u001b[0;34m\u001b[0m\u001b[0m\n\u001b[1;32m    898\u001b[0m             \u001b[0;31m# now process groups and datasets\u001b[0m\u001b[0;34m\u001b[0m\u001b[0;34m\u001b[0m\u001b[0;34m\u001b[0m\u001b[0m\n\u001b[0;32m--> 899\u001b[0;31m             \u001b[0mself\u001b[0m\u001b[0;34m.\u001b[0m\u001b[0m__get_sub_builders\u001b[0m\u001b[0;34m(\u001b[0m\u001b[0mgroups\u001b[0m\u001b[0;34m,\u001b[0m \u001b[0mspec\u001b[0m\u001b[0;34m.\u001b[0m\u001b[0mgroups\u001b[0m\u001b[0;34m,\u001b[0m \u001b[0mmanager\u001b[0m\u001b[0;34m,\u001b[0m \u001b[0mret\u001b[0m\u001b[0;34m)\u001b[0m\u001b[0;34m\u001b[0m\u001b[0;34m\u001b[0m\u001b[0m\n\u001b[0m\u001b[1;32m    900\u001b[0m             \u001b[0mself\u001b[0m\u001b[0;34m.\u001b[0m\u001b[0m__get_sub_builders\u001b[0m\u001b[0;34m(\u001b[0m\u001b[0mdatasets\u001b[0m\u001b[0;34m,\u001b[0m \u001b[0mspec\u001b[0m\u001b[0;34m.\u001b[0m\u001b[0mdatasets\u001b[0m\u001b[0;34m,\u001b[0m \u001b[0mmanager\u001b[0m\u001b[0;34m,\u001b[0m \u001b[0mret\u001b[0m\u001b[0;34m)\u001b[0m\u001b[0;34m\u001b[0m\u001b[0;34m\u001b[0m\u001b[0m\n\u001b[1;32m    901\u001b[0m         \u001b[0;32melif\u001b[0m \u001b[0misinstance\u001b[0m\u001b[0;34m(\u001b[0m\u001b[0mspec\u001b[0m\u001b[0;34m,\u001b[0m \u001b[0mDatasetSpec\u001b[0m\u001b[0;34m)\u001b[0m\u001b[0;34m:\u001b[0m\u001b[0;34m\u001b[0m\u001b[0;34m\u001b[0m\u001b[0m\n",
      "\u001b[0;32m~/opt/anaconda3/envs/nwbdj/lib/python3.7/site-packages/hdmf/build/objectmapper.py\u001b[0m in \u001b[0;36m__get_sub_builders\u001b[0;34m(self, sub_builders, subspecs, manager, ret)\u001b[0m\n\u001b[1;32m    947\u001b[0m                 \u001b[0;32mif\u001b[0m \u001b[0mdt\u001b[0m \u001b[0;32mis\u001b[0m \u001b[0;32mNone\u001b[0m\u001b[0;34m:\u001b[0m\u001b[0;34m\u001b[0m\u001b[0;34m\u001b[0m\u001b[0m\n\u001b[1;32m    948\u001b[0m                     \u001b[0;31m# recurse\u001b[0m\u001b[0;34m\u001b[0m\u001b[0;34m\u001b[0m\u001b[0;34m\u001b[0m\u001b[0m\n\u001b[0;32m--> 949\u001b[0;31m                     \u001b[0mret\u001b[0m\u001b[0;34m.\u001b[0m\u001b[0mupdate\u001b[0m\u001b[0;34m(\u001b[0m\u001b[0mself\u001b[0m\u001b[0;34m.\u001b[0m\u001b[0m__get_subspec_values\u001b[0m\u001b[0;34m(\u001b[0m\u001b[0msub_builder\u001b[0m\u001b[0;34m,\u001b[0m \u001b[0msubspec\u001b[0m\u001b[0;34m,\u001b[0m \u001b[0mmanager\u001b[0m\u001b[0;34m)\u001b[0m\u001b[0;34m)\u001b[0m\u001b[0;34m\u001b[0m\u001b[0;34m\u001b[0m\u001b[0m\n\u001b[0m\u001b[1;32m    950\u001b[0m                 \u001b[0;32melse\u001b[0m\u001b[0;34m:\u001b[0m\u001b[0;34m\u001b[0m\u001b[0;34m\u001b[0m\u001b[0m\n\u001b[1;32m    951\u001b[0m                     \u001b[0mret\u001b[0m\u001b[0;34m[\u001b[0m\u001b[0msubspec\u001b[0m\u001b[0;34m]\u001b[0m \u001b[0;34m=\u001b[0m \u001b[0mmanager\u001b[0m\u001b[0;34m.\u001b[0m\u001b[0mconstruct\u001b[0m\u001b[0;34m(\u001b[0m\u001b[0msub_builder\u001b[0m\u001b[0;34m)\u001b[0m\u001b[0;34m\u001b[0m\u001b[0;34m\u001b[0m\u001b[0m\n",
      "\u001b[0;32m~/opt/anaconda3/envs/nwbdj/lib/python3.7/site-packages/hdmf/build/objectmapper.py\u001b[0m in \u001b[0;36m__get_subspec_values\u001b[0;34m(self, builder, spec, manager)\u001b[0m\n\u001b[1;32m    897\u001b[0m                         \u001b[0mret\u001b[0m\u001b[0;34m[\u001b[0m\u001b[0msubspec\u001b[0m\u001b[0;34m]\u001b[0m \u001b[0;34m=\u001b[0m \u001b[0mself\u001b[0m\u001b[0;34m.\u001b[0m\u001b[0m__flatten\u001b[0m\u001b[0;34m(\u001b[0m\u001b[0msub_builder\u001b[0m\u001b[0;34m,\u001b[0m \u001b[0msubspec\u001b[0m\u001b[0;34m,\u001b[0m \u001b[0mmanager\u001b[0m\u001b[0;34m)\u001b[0m\u001b[0;34m\u001b[0m\u001b[0;34m\u001b[0m\u001b[0m\n\u001b[1;32m    898\u001b[0m             \u001b[0;31m# now process groups and datasets\u001b[0m\u001b[0;34m\u001b[0m\u001b[0;34m\u001b[0m\u001b[0;34m\u001b[0m\u001b[0m\n\u001b[0;32m--> 899\u001b[0;31m             \u001b[0mself\u001b[0m\u001b[0;34m.\u001b[0m\u001b[0m__get_sub_builders\u001b[0m\u001b[0;34m(\u001b[0m\u001b[0mgroups\u001b[0m\u001b[0;34m,\u001b[0m \u001b[0mspec\u001b[0m\u001b[0;34m.\u001b[0m\u001b[0mgroups\u001b[0m\u001b[0;34m,\u001b[0m \u001b[0mmanager\u001b[0m\u001b[0;34m,\u001b[0m \u001b[0mret\u001b[0m\u001b[0;34m)\u001b[0m\u001b[0;34m\u001b[0m\u001b[0;34m\u001b[0m\u001b[0m\n\u001b[0m\u001b[1;32m    900\u001b[0m             \u001b[0mself\u001b[0m\u001b[0;34m.\u001b[0m\u001b[0m__get_sub_builders\u001b[0m\u001b[0;34m(\u001b[0m\u001b[0mdatasets\u001b[0m\u001b[0;34m,\u001b[0m \u001b[0mspec\u001b[0m\u001b[0;34m.\u001b[0m\u001b[0mdatasets\u001b[0m\u001b[0;34m,\u001b[0m \u001b[0mmanager\u001b[0m\u001b[0;34m,\u001b[0m \u001b[0mret\u001b[0m\u001b[0;34m)\u001b[0m\u001b[0;34m\u001b[0m\u001b[0;34m\u001b[0m\u001b[0m\n\u001b[1;32m    901\u001b[0m         \u001b[0;32melif\u001b[0m \u001b[0misinstance\u001b[0m\u001b[0;34m(\u001b[0m\u001b[0mspec\u001b[0m\u001b[0;34m,\u001b[0m \u001b[0mDatasetSpec\u001b[0m\u001b[0;34m)\u001b[0m\u001b[0;34m:\u001b[0m\u001b[0;34m\u001b[0m\u001b[0;34m\u001b[0m\u001b[0m\n",
      "\u001b[0;32m~/opt/anaconda3/envs/nwbdj/lib/python3.7/site-packages/hdmf/build/objectmapper.py\u001b[0m in \u001b[0;36m__get_sub_builders\u001b[0;34m(self, sub_builders, subspecs, manager, ret)\u001b[0m\n\u001b[1;32m    949\u001b[0m                     \u001b[0mret\u001b[0m\u001b[0;34m.\u001b[0m\u001b[0mupdate\u001b[0m\u001b[0;34m(\u001b[0m\u001b[0mself\u001b[0m\u001b[0;34m.\u001b[0m\u001b[0m__get_subspec_values\u001b[0m\u001b[0;34m(\u001b[0m\u001b[0msub_builder\u001b[0m\u001b[0;34m,\u001b[0m \u001b[0msubspec\u001b[0m\u001b[0;34m,\u001b[0m \u001b[0mmanager\u001b[0m\u001b[0;34m)\u001b[0m\u001b[0;34m)\u001b[0m\u001b[0;34m\u001b[0m\u001b[0;34m\u001b[0m\u001b[0m\n\u001b[1;32m    950\u001b[0m                 \u001b[0;32melse\u001b[0m\u001b[0;34m:\u001b[0m\u001b[0;34m\u001b[0m\u001b[0;34m\u001b[0m\u001b[0m\n\u001b[0;32m--> 951\u001b[0;31m                     \u001b[0mret\u001b[0m\u001b[0;34m[\u001b[0m\u001b[0msubspec\u001b[0m\u001b[0;34m]\u001b[0m \u001b[0;34m=\u001b[0m \u001b[0mmanager\u001b[0m\u001b[0;34m.\u001b[0m\u001b[0mconstruct\u001b[0m\u001b[0;34m(\u001b[0m\u001b[0msub_builder\u001b[0m\u001b[0;34m)\u001b[0m\u001b[0;34m\u001b[0m\u001b[0;34m\u001b[0m\u001b[0m\n\u001b[0m\u001b[1;32m    952\u001b[0m \u001b[0;34m\u001b[0m\u001b[0m\n\u001b[1;32m    953\u001b[0m     \u001b[0;32mdef\u001b[0m \u001b[0m__flatten\u001b[0m\u001b[0;34m(\u001b[0m\u001b[0mself\u001b[0m\u001b[0;34m,\u001b[0m \u001b[0msub_builder\u001b[0m\u001b[0;34m,\u001b[0m \u001b[0msubspec\u001b[0m\u001b[0;34m,\u001b[0m \u001b[0mmanager\u001b[0m\u001b[0;34m)\u001b[0m\u001b[0;34m:\u001b[0m\u001b[0;34m\u001b[0m\u001b[0;34m\u001b[0m\u001b[0m\n",
      "\u001b[0;32m~/opt/anaconda3/envs/nwbdj/lib/python3.7/site-packages/hdmf/utils.py\u001b[0m in \u001b[0;36mfunc_call\u001b[0;34m(*args, **kwargs)\u001b[0m\n\u001b[1;32m    481\u001b[0m \u001b[0;34m\u001b[0m\u001b[0m\n\u001b[1;32m    482\u001b[0m             \u001b[0;32mif\u001b[0m \u001b[0mis_method\u001b[0m\u001b[0;34m:\u001b[0m\u001b[0;34m\u001b[0m\u001b[0;34m\u001b[0m\u001b[0m\n\u001b[0;32m--> 483\u001b[0;31m                 \u001b[0;32mreturn\u001b[0m \u001b[0mfunc\u001b[0m\u001b[0;34m(\u001b[0m\u001b[0margs\u001b[0m\u001b[0;34m[\u001b[0m\u001b[0;36m0\u001b[0m\u001b[0;34m]\u001b[0m\u001b[0;34m,\u001b[0m \u001b[0;34m**\u001b[0m\u001b[0mparsed\u001b[0m\u001b[0;34m[\u001b[0m\u001b[0;34m'args'\u001b[0m\u001b[0;34m]\u001b[0m\u001b[0;34m)\u001b[0m\u001b[0;34m\u001b[0m\u001b[0;34m\u001b[0m\u001b[0m\n\u001b[0m\u001b[1;32m    484\u001b[0m             \u001b[0;32melse\u001b[0m\u001b[0;34m:\u001b[0m\u001b[0;34m\u001b[0m\u001b[0;34m\u001b[0m\u001b[0m\n\u001b[1;32m    485\u001b[0m                 \u001b[0;32mreturn\u001b[0m \u001b[0mfunc\u001b[0m\u001b[0;34m(\u001b[0m\u001b[0;34m**\u001b[0m\u001b[0mparsed\u001b[0m\u001b[0;34m[\u001b[0m\u001b[0;34m'args'\u001b[0m\u001b[0;34m]\u001b[0m\u001b[0;34m)\u001b[0m\u001b[0;34m\u001b[0m\u001b[0;34m\u001b[0m\u001b[0m\n",
      "\u001b[0;32m~/opt/anaconda3/envs/nwbdj/lib/python3.7/site-packages/hdmf/build/manager.py\u001b[0m in \u001b[0;36mconstruct\u001b[0;34m(self, **kwargs)\u001b[0m\n\u001b[1;32m    193\u001b[0m             \u001b[0;32mif\u001b[0m \u001b[0mparent_builder\u001b[0m \u001b[0;32mis\u001b[0m \u001b[0;32mnot\u001b[0m \u001b[0;32mNone\u001b[0m\u001b[0;34m:\u001b[0m\u001b[0;34m\u001b[0m\u001b[0;34m\u001b[0m\u001b[0m\n\u001b[1;32m    194\u001b[0m                 \u001b[0mparent\u001b[0m \u001b[0;34m=\u001b[0m \u001b[0mself\u001b[0m\u001b[0;34m.\u001b[0m\u001b[0m__get_proxy_builder\u001b[0m\u001b[0;34m(\u001b[0m\u001b[0mparent_builder\u001b[0m\u001b[0;34m)\u001b[0m\u001b[0;34m\u001b[0m\u001b[0;34m\u001b[0m\u001b[0m\n\u001b[0;32m--> 195\u001b[0;31m                 \u001b[0mresult\u001b[0m \u001b[0;34m=\u001b[0m \u001b[0mself\u001b[0m\u001b[0;34m.\u001b[0m\u001b[0m__type_map\u001b[0m\u001b[0;34m.\u001b[0m\u001b[0mconstruct\u001b[0m\u001b[0;34m(\u001b[0m\u001b[0mbuilder\u001b[0m\u001b[0;34m,\u001b[0m \u001b[0mself\u001b[0m\u001b[0;34m,\u001b[0m \u001b[0mparent\u001b[0m\u001b[0;34m)\u001b[0m\u001b[0;34m\u001b[0m\u001b[0;34m\u001b[0m\u001b[0m\n\u001b[0m\u001b[1;32m    196\u001b[0m             \u001b[0;32melse\u001b[0m\u001b[0;34m:\u001b[0m\u001b[0;34m\u001b[0m\u001b[0;34m\u001b[0m\u001b[0m\n\u001b[1;32m    197\u001b[0m                 \u001b[0;31m# we are at the top of the hierarchy,\u001b[0m\u001b[0;34m\u001b[0m\u001b[0;34m\u001b[0m\u001b[0;34m\u001b[0m\u001b[0m\n",
      "\u001b[0;32m~/opt/anaconda3/envs/nwbdj/lib/python3.7/site-packages/hdmf/utils.py\u001b[0m in \u001b[0;36mfunc_call\u001b[0;34m(*args, **kwargs)\u001b[0m\n\u001b[1;32m    481\u001b[0m \u001b[0;34m\u001b[0m\u001b[0m\n\u001b[1;32m    482\u001b[0m             \u001b[0;32mif\u001b[0m \u001b[0mis_method\u001b[0m\u001b[0;34m:\u001b[0m\u001b[0;34m\u001b[0m\u001b[0;34m\u001b[0m\u001b[0m\n\u001b[0;32m--> 483\u001b[0;31m                 \u001b[0;32mreturn\u001b[0m \u001b[0mfunc\u001b[0m\u001b[0;34m(\u001b[0m\u001b[0margs\u001b[0m\u001b[0;34m[\u001b[0m\u001b[0;36m0\u001b[0m\u001b[0;34m]\u001b[0m\u001b[0;34m,\u001b[0m \u001b[0;34m**\u001b[0m\u001b[0mparsed\u001b[0m\u001b[0;34m[\u001b[0m\u001b[0;34m'args'\u001b[0m\u001b[0;34m]\u001b[0m\u001b[0;34m)\u001b[0m\u001b[0;34m\u001b[0m\u001b[0;34m\u001b[0m\u001b[0m\n\u001b[0m\u001b[1;32m    484\u001b[0m             \u001b[0;32melse\u001b[0m\u001b[0;34m:\u001b[0m\u001b[0;34m\u001b[0m\u001b[0;34m\u001b[0m\u001b[0m\n\u001b[1;32m    485\u001b[0m                 \u001b[0;32mreturn\u001b[0m \u001b[0mfunc\u001b[0m\u001b[0;34m(\u001b[0m\u001b[0;34m**\u001b[0m\u001b[0mparsed\u001b[0m\u001b[0;34m[\u001b[0m\u001b[0;34m'args'\u001b[0m\u001b[0;34m]\u001b[0m\u001b[0;34m)\u001b[0m\u001b[0;34m\u001b[0m\u001b[0;34m\u001b[0m\u001b[0m\n",
      "\u001b[0;32m~/opt/anaconda3/envs/nwbdj/lib/python3.7/site-packages/hdmf/build/manager.py\u001b[0m in \u001b[0;36mconstruct\u001b[0;34m(self, **kwargs)\u001b[0m\n\u001b[1;32m    768\u001b[0m             \u001b[0;32mraise\u001b[0m \u001b[0mValueError\u001b[0m\u001b[0;34m(\u001b[0m\u001b[0;34m'No ObjectMapper found for builder of type %s'\u001b[0m \u001b[0;34m%\u001b[0m \u001b[0mdt\u001b[0m\u001b[0;34m)\u001b[0m\u001b[0;34m\u001b[0m\u001b[0;34m\u001b[0m\u001b[0m\n\u001b[1;32m    769\u001b[0m         \u001b[0;32melse\u001b[0m\u001b[0;34m:\u001b[0m\u001b[0;34m\u001b[0m\u001b[0;34m\u001b[0m\u001b[0m\n\u001b[0;32m--> 770\u001b[0;31m             \u001b[0;32mreturn\u001b[0m \u001b[0mobj_mapper\u001b[0m\u001b[0;34m.\u001b[0m\u001b[0mconstruct\u001b[0m\u001b[0;34m(\u001b[0m\u001b[0mbuilder\u001b[0m\u001b[0;34m,\u001b[0m \u001b[0mbuild_manager\u001b[0m\u001b[0;34m,\u001b[0m \u001b[0mparent\u001b[0m\u001b[0;34m)\u001b[0m\u001b[0;34m\u001b[0m\u001b[0;34m\u001b[0m\u001b[0m\n\u001b[0m\u001b[1;32m    771\u001b[0m \u001b[0;34m\u001b[0m\u001b[0m\n\u001b[1;32m    772\u001b[0m     @docval({\"name\": \"container\", \"type\": AbstractContainer, \"doc\": \"the container to convert to a Builder\"},\n",
      "\u001b[0;32m~/opt/anaconda3/envs/nwbdj/lib/python3.7/site-packages/hdmf/utils.py\u001b[0m in \u001b[0;36mfunc_call\u001b[0;34m(*args, **kwargs)\u001b[0m\n\u001b[1;32m    481\u001b[0m \u001b[0;34m\u001b[0m\u001b[0m\n\u001b[1;32m    482\u001b[0m             \u001b[0;32mif\u001b[0m \u001b[0mis_method\u001b[0m\u001b[0;34m:\u001b[0m\u001b[0;34m\u001b[0m\u001b[0;34m\u001b[0m\u001b[0m\n\u001b[0;32m--> 483\u001b[0;31m                 \u001b[0;32mreturn\u001b[0m \u001b[0mfunc\u001b[0m\u001b[0;34m(\u001b[0m\u001b[0margs\u001b[0m\u001b[0;34m[\u001b[0m\u001b[0;36m0\u001b[0m\u001b[0;34m]\u001b[0m\u001b[0;34m,\u001b[0m \u001b[0;34m**\u001b[0m\u001b[0mparsed\u001b[0m\u001b[0;34m[\u001b[0m\u001b[0;34m'args'\u001b[0m\u001b[0;34m]\u001b[0m\u001b[0;34m)\u001b[0m\u001b[0;34m\u001b[0m\u001b[0;34m\u001b[0m\u001b[0m\n\u001b[0m\u001b[1;32m    484\u001b[0m             \u001b[0;32melse\u001b[0m\u001b[0;34m:\u001b[0m\u001b[0;34m\u001b[0m\u001b[0;34m\u001b[0m\u001b[0m\n\u001b[1;32m    485\u001b[0m                 \u001b[0;32mreturn\u001b[0m \u001b[0mfunc\u001b[0m\u001b[0;34m(\u001b[0m\u001b[0;34m**\u001b[0m\u001b[0mparsed\u001b[0m\u001b[0;34m[\u001b[0m\u001b[0;34m'args'\u001b[0m\u001b[0;34m]\u001b[0m\u001b[0;34m)\u001b[0m\u001b[0;34m\u001b[0m\u001b[0;34m\u001b[0m\u001b[0m\n",
      "\u001b[0;32m~/opt/anaconda3/envs/nwbdj/lib/python3.7/site-packages/hdmf/build/objectmapper.py\u001b[0m in \u001b[0;36mconstruct\u001b[0;34m(self, **kwargs)\u001b[0m\n\u001b[1;32m   1002\u001b[0m         \u001b[0;32mexcept\u001b[0m \u001b[0mException\u001b[0m \u001b[0;32mas\u001b[0m \u001b[0mex\u001b[0m\u001b[0;34m:\u001b[0m\u001b[0;34m\u001b[0m\u001b[0;34m\u001b[0m\u001b[0m\n\u001b[1;32m   1003\u001b[0m             \u001b[0mmsg\u001b[0m \u001b[0;34m=\u001b[0m \u001b[0;34m'Could not construct %s object due to: %s'\u001b[0m \u001b[0;34m%\u001b[0m \u001b[0;34m(\u001b[0m\u001b[0mcls\u001b[0m\u001b[0;34m.\u001b[0m\u001b[0m__name__\u001b[0m\u001b[0;34m,\u001b[0m \u001b[0mex\u001b[0m\u001b[0;34m)\u001b[0m\u001b[0;34m\u001b[0m\u001b[0;34m\u001b[0m\u001b[0m\n\u001b[0;32m-> 1004\u001b[0;31m             \u001b[0;32mraise\u001b[0m \u001b[0mException\u001b[0m\u001b[0;34m(\u001b[0m\u001b[0mmsg\u001b[0m\u001b[0;34m)\u001b[0m \u001b[0;32mfrom\u001b[0m \u001b[0mex\u001b[0m\u001b[0;34m\u001b[0m\u001b[0;34m\u001b[0m\u001b[0m\n\u001b[0m\u001b[1;32m   1005\u001b[0m         \u001b[0;32mreturn\u001b[0m \u001b[0mobj\u001b[0m\u001b[0;34m\u001b[0m\u001b[0;34m\u001b[0m\u001b[0m\n\u001b[1;32m   1006\u001b[0m \u001b[0;34m\u001b[0m\u001b[0m\n",
      "\u001b[0;31mException\u001b[0m: Could not construct DynamicTable object due to: 'x'"
     ]
    }
   ],
   "source": [
    "import numpy as np\n",
    "with pynwb.NWBHDF5IO(a, \"a\") as io:\n",
    "    nwbf= io.read()\n",
    "nwbf\n",
    "electrode_table_region = nwbf.create_electrode_table_region([0,2], 'filtered electrode table')\n",
    "es = pynwb.ecephys.ElectricalSeries(name='filt test', data=np.empty((2,2), dtype='i2'),\n",
    "                                    electrodes=electrode_table_region, timestamps= np.empty(0))\n",
    "test = np.ones((10,1))\n",
    "nwbf.add_scratch(test, \"test data\", notes=\"test\")\n",
    "#nwbf.add_analysis(es)\n",
    "with pynwb.NWBHDF5IO(nwb_file_name, \"a\") as io:\n",
    "    io.write(nwbf)\n",
    "\n",
    "io.close()"
   ]
  },
  {
   "cell_type": "code",
   "execution_count": 15,
   "metadata": {
    "collapsed": true,
    "jupyter": {
     "outputs_hidden": true
    }
   },
   "outputs": [
    {
     "name": "stdout",
     "output_type": "stream",
     "text": [
      "writing new NWB file /data/nwb_builder_test_data/beans20190718_pp00000000.nwb\n",
      "inserted file\n",
      "*nwb_file_name *linked_file_n\n",
      "+------------+ +------------+\n",
      "/data/nwb_buil /data/nwb_buil\n",
      " (Total: 1)\n",
      "\n",
      "output file name /data/nwb_builder_test_data/beans20190718_pp00000000.nwb\n",
      "First ind 2133, last ind 21841133, diff 21839000, total size 21843266\n",
      "Output array should have shape (1091950, 3) and dtype <f8\n",
      "dtype = <f8, <HDF5 dataset \"data\": shape (138007758, 256), type \"<i2\">\n",
      "First ind 2133, last ind 4258364, diff 4256231, total size 4260497\n",
      "Output array should have shape (212812, 3) and dtype <f8\n",
      "dtype = <f8, <HDF5 dataset \"data\": shape (138007758, 256), type \"<i2\">\n",
      "First ind 2133, last ind 51156998, diff 51154865, total size 51159131\n",
      "Output array should have shape (2557744, 3) and dtype <f8\n",
      "dtype = <f8, <HDF5 dataset \"data\": shape (138007758, 256), type \"<i2\">\n",
      "First ind 2133, last ind 27140904, diff 27138771, total size 27143037\n",
      "Output array should have shape (1356939, 3) and dtype <f8\n",
      "dtype = <f8, <HDF5 dataset \"data\": shape (138007758, 256), type \"<i2\">\n",
      "First ind 2133, last ind 33621019, diff 33618886, total size 33623152\n",
      "Output array should have shape (1680945, 3) and dtype <f8\n",
      "dtype = <f8, <HDF5 dataset \"data\": shape (138007758, 256), type \"<i2\">\n"
     ]
    },
    {
     "name": "stderr",
     "output_type": "stream",
     "text": [
      "/Users/loren/opt/anaconda3/envs/nwbdj/lib/python3.7/site-packages/hdmf/backends/hdf5/h5tools.py:436: BrokenLinkWarning: /acquisition/e-series\n",
      "  warnings.warn(os.path.join(h5obj.name, k), BrokenLinkWarning)\n",
      "/Users/loren/opt/anaconda3/envs/nwbdj/lib/python3.7/site-packages/hdmf/backends/hdf5/h5tools.py:436: BrokenLinkWarning: /general/devices/header_device\n",
      "  warnings.warn(os.path.join(h5obj.name, k), BrokenLinkWarning)\n",
      "/Users/loren/opt/anaconda3/envs/nwbdj/lib/python3.7/site-packages/hdmf/backends/hdf5/h5tools.py:436: BrokenLinkWarning: /general/devices/probe 0\n",
      "  warnings.warn(os.path.join(h5obj.name, k), BrokenLinkWarning)\n",
      "/Users/loren/opt/anaconda3/envs/nwbdj/lib/python3.7/site-packages/hdmf/backends/hdf5/h5tools.py:436: BrokenLinkWarning: /general/extracellular_ephys/0\n",
      "  warnings.warn(os.path.join(h5obj.name, k), BrokenLinkWarning)\n",
      "/Users/loren/opt/anaconda3/envs/nwbdj/lib/python3.7/site-packages/hdmf/backends/hdf5/h5tools.py:436: BrokenLinkWarning: /general/extracellular_ephys/1\n",
      "  warnings.warn(os.path.join(h5obj.name, k), BrokenLinkWarning)\n",
      "/Users/loren/opt/anaconda3/envs/nwbdj/lib/python3.7/site-packages/hdmf/backends/hdf5/h5tools.py:436: BrokenLinkWarning: /general/extracellular_ephys/electrodes/bad_channel\n",
      "  warnings.warn(os.path.join(h5obj.name, k), BrokenLinkWarning)\n",
      "/Users/loren/opt/anaconda3/envs/nwbdj/lib/python3.7/site-packages/hdmf/backends/hdf5/h5tools.py:436: BrokenLinkWarning: /general/extracellular_ephys/electrodes/channel_id\n",
      "  warnings.warn(os.path.join(h5obj.name, k), BrokenLinkWarning)\n",
      "/Users/loren/opt/anaconda3/envs/nwbdj/lib/python3.7/site-packages/hdmf/backends/hdf5/h5tools.py:436: BrokenLinkWarning: /general/extracellular_ephys/electrodes/filtering\n",
      "  warnings.warn(os.path.join(h5obj.name, k), BrokenLinkWarning)\n",
      "/Users/loren/opt/anaconda3/envs/nwbdj/lib/python3.7/site-packages/hdmf/backends/hdf5/h5tools.py:436: BrokenLinkWarning: /general/extracellular_ephys/electrodes/group\n",
      "  warnings.warn(os.path.join(h5obj.name, k), BrokenLinkWarning)\n",
      "/Users/loren/opt/anaconda3/envs/nwbdj/lib/python3.7/site-packages/hdmf/backends/hdf5/h5tools.py:436: BrokenLinkWarning: /general/extracellular_ephys/electrodes/group_name\n",
      "  warnings.warn(os.path.join(h5obj.name, k), BrokenLinkWarning)\n",
      "/Users/loren/opt/anaconda3/envs/nwbdj/lib/python3.7/site-packages/hdmf/backends/hdf5/h5tools.py:436: BrokenLinkWarning: /general/extracellular_ephys/electrodes/hwChan\n",
      "  warnings.warn(os.path.join(h5obj.name, k), BrokenLinkWarning)\n",
      "/Users/loren/opt/anaconda3/envs/nwbdj/lib/python3.7/site-packages/hdmf/backends/hdf5/h5tools.py:436: BrokenLinkWarning: /general/extracellular_ephys/electrodes/id\n",
      "  warnings.warn(os.path.join(h5obj.name, k), BrokenLinkWarning)\n",
      "/Users/loren/opt/anaconda3/envs/nwbdj/lib/python3.7/site-packages/hdmf/backends/hdf5/h5tools.py:436: BrokenLinkWarning: /general/extracellular_ephys/electrodes/imp\n",
      "  warnings.warn(os.path.join(h5obj.name, k), BrokenLinkWarning)\n",
      "/Users/loren/opt/anaconda3/envs/nwbdj/lib/python3.7/site-packages/hdmf/backends/hdf5/h5tools.py:436: BrokenLinkWarning: /general/extracellular_ephys/electrodes/location\n",
      "  warnings.warn(os.path.join(h5obj.name, k), BrokenLinkWarning)\n",
      "/Users/loren/opt/anaconda3/envs/nwbdj/lib/python3.7/site-packages/hdmf/backends/hdf5/h5tools.py:436: BrokenLinkWarning: /general/extracellular_ephys/electrodes/ntrode_id\n",
      "  warnings.warn(os.path.join(h5obj.name, k), BrokenLinkWarning)\n",
      "/Users/loren/opt/anaconda3/envs/nwbdj/lib/python3.7/site-packages/hdmf/backends/hdf5/h5tools.py:436: BrokenLinkWarning: /general/extracellular_ephys/electrodes/probe_electrode\n",
      "  warnings.warn(os.path.join(h5obj.name, k), BrokenLinkWarning)\n",
      "/Users/loren/opt/anaconda3/envs/nwbdj/lib/python3.7/site-packages/hdmf/backends/hdf5/h5tools.py:436: BrokenLinkWarning: /general/extracellular_ephys/electrodes/probe_shank\n",
      "  warnings.warn(os.path.join(h5obj.name, k), BrokenLinkWarning)\n",
      "/Users/loren/opt/anaconda3/envs/nwbdj/lib/python3.7/site-packages/hdmf/backends/hdf5/h5tools.py:436: BrokenLinkWarning: /general/extracellular_ephys/electrodes/rel_x\n",
      "  warnings.warn(os.path.join(h5obj.name, k), BrokenLinkWarning)\n",
      "/Users/loren/opt/anaconda3/envs/nwbdj/lib/python3.7/site-packages/hdmf/backends/hdf5/h5tools.py:436: BrokenLinkWarning: /general/extracellular_ephys/electrodes/rel_y\n",
      "  warnings.warn(os.path.join(h5obj.name, k), BrokenLinkWarning)\n",
      "/Users/loren/opt/anaconda3/envs/nwbdj/lib/python3.7/site-packages/hdmf/backends/hdf5/h5tools.py:436: BrokenLinkWarning: /general/extracellular_ephys/electrodes/rel_z\n",
      "  warnings.warn(os.path.join(h5obj.name, k), BrokenLinkWarning)\n",
      "/Users/loren/opt/anaconda3/envs/nwbdj/lib/python3.7/site-packages/hdmf/backends/hdf5/h5tools.py:436: BrokenLinkWarning: /general/extracellular_ephys/electrodes/x\n",
      "  warnings.warn(os.path.join(h5obj.name, k), BrokenLinkWarning)\n",
      "/Users/loren/opt/anaconda3/envs/nwbdj/lib/python3.7/site-packages/hdmf/backends/hdf5/h5tools.py:436: BrokenLinkWarning: /general/extracellular_ephys/electrodes/y\n",
      "  warnings.warn(os.path.join(h5obj.name, k), BrokenLinkWarning)\n",
      "/Users/loren/opt/anaconda3/envs/nwbdj/lib/python3.7/site-packages/hdmf/backends/hdf5/h5tools.py:436: BrokenLinkWarning: /general/extracellular_ephys/electrodes/z\n",
      "  warnings.warn(os.path.join(h5obj.name, k), BrokenLinkWarning)\n",
      "/Users/loren/opt/anaconda3/envs/nwbdj/lib/python3.7/site-packages/hdmf/backends/hdf5/h5tools.py:436: BrokenLinkWarning: /general/subject\n",
      "  warnings.warn(os.path.join(h5obj.name, k), BrokenLinkWarning)\n",
      "/Users/loren/opt/anaconda3/envs/nwbdj/lib/python3.7/site-packages/hdmf/backends/hdf5/h5tools.py:436: BrokenLinkWarning: /intervals/epochs/id\n",
      "  warnings.warn(os.path.join(h5obj.name, k), BrokenLinkWarning)\n",
      "/Users/loren/opt/anaconda3/envs/nwbdj/lib/python3.7/site-packages/hdmf/backends/hdf5/h5tools.py:436: BrokenLinkWarning: /intervals/epochs/start_time\n",
      "  warnings.warn(os.path.join(h5obj.name, k), BrokenLinkWarning)\n",
      "/Users/loren/opt/anaconda3/envs/nwbdj/lib/python3.7/site-packages/hdmf/backends/hdf5/h5tools.py:436: BrokenLinkWarning: /intervals/epochs/stop_time\n",
      "  warnings.warn(os.path.join(h5obj.name, k), BrokenLinkWarning)\n",
      "/Users/loren/opt/anaconda3/envs/nwbdj/lib/python3.7/site-packages/hdmf/backends/hdf5/h5tools.py:436: BrokenLinkWarning: /intervals/epochs/tags\n",
      "  warnings.warn(os.path.join(h5obj.name, k), BrokenLinkWarning)\n",
      "/Users/loren/opt/anaconda3/envs/nwbdj/lib/python3.7/site-packages/hdmf/backends/hdf5/h5tools.py:436: BrokenLinkWarning: /intervals/epochs/tags_index\n",
      "  warnings.warn(os.path.join(h5obj.name, k), BrokenLinkWarning)\n",
      "/Users/loren/opt/anaconda3/envs/nwbdj/lib/python3.7/site-packages/hdmf/backends/hdf5/h5tools.py:436: BrokenLinkWarning: /processing/behavior\n",
      "  warnings.warn(os.path.join(h5obj.name, k), BrokenLinkWarning)\n"
     ]
    },
    {
     "ename": "Exception",
     "evalue": "Could not construct DynamicTable object due to: 'x'",
     "output_type": "error",
     "traceback": [
      "\u001b[0;31m---------------------------------------------------------------------------\u001b[0m",
      "\u001b[0;31mKeyError\u001b[0m                                  Traceback (most recent call last)",
      "\u001b[0;32m~/opt/anaconda3/envs/nwbdj/lib/python3.7/site-packages/hdmf/build/objectmapper.py\u001b[0m in \u001b[0;36mconstruct\u001b[0;34m(self, **kwargs)\u001b[0m\n\u001b[1;32m   1000\u001b[0m                               object_id=builder.attributes.get(self.__spec.id_key()))\n\u001b[0;32m-> 1001\u001b[0;31m             \u001b[0mobj\u001b[0m\u001b[0;34m.\u001b[0m\u001b[0m__init__\u001b[0m\u001b[0;34m(\u001b[0m\u001b[0;34m**\u001b[0m\u001b[0mkwargs\u001b[0m\u001b[0;34m)\u001b[0m\u001b[0;34m\u001b[0m\u001b[0;34m\u001b[0m\u001b[0m\n\u001b[0m\u001b[1;32m   1002\u001b[0m         \u001b[0;32mexcept\u001b[0m \u001b[0mException\u001b[0m \u001b[0;32mas\u001b[0m \u001b[0mex\u001b[0m\u001b[0;34m:\u001b[0m\u001b[0;34m\u001b[0m\u001b[0;34m\u001b[0m\u001b[0m\n",
      "\u001b[0;32m~/opt/anaconda3/envs/nwbdj/lib/python3.7/site-packages/hdmf/utils.py\u001b[0m in \u001b[0;36mfunc_call\u001b[0;34m(*args, **kwargs)\u001b[0m\n\u001b[1;32m    482\u001b[0m             \u001b[0;32mif\u001b[0m \u001b[0mis_method\u001b[0m\u001b[0;34m:\u001b[0m\u001b[0;34m\u001b[0m\u001b[0;34m\u001b[0m\u001b[0m\n\u001b[0;32m--> 483\u001b[0;31m                 \u001b[0;32mreturn\u001b[0m \u001b[0mfunc\u001b[0m\u001b[0;34m(\u001b[0m\u001b[0margs\u001b[0m\u001b[0;34m[\u001b[0m\u001b[0;36m0\u001b[0m\u001b[0;34m]\u001b[0m\u001b[0;34m,\u001b[0m \u001b[0;34m**\u001b[0m\u001b[0mparsed\u001b[0m\u001b[0;34m[\u001b[0m\u001b[0;34m'args'\u001b[0m\u001b[0;34m]\u001b[0m\u001b[0;34m)\u001b[0m\u001b[0;34m\u001b[0m\u001b[0;34m\u001b[0m\u001b[0m\n\u001b[0m\u001b[1;32m    484\u001b[0m             \u001b[0;32melse\u001b[0m\u001b[0;34m:\u001b[0m\u001b[0;34m\u001b[0m\u001b[0;34m\u001b[0m\u001b[0m\n",
      "\u001b[0;32m~/opt/anaconda3/envs/nwbdj/lib/python3.7/site-packages/hdmf/common/table.py\u001b[0m in \u001b[0;36m__init__\u001b[0;34m(self, **kwargs)\u001b[0m\n\u001b[1;32m    250\u001b[0m                 \u001b[0;32mfor\u001b[0m \u001b[0mname\u001b[0m \u001b[0;32min\u001b[0m \u001b[0mself\u001b[0m\u001b[0;34m.\u001b[0m\u001b[0mcolnames\u001b[0m\u001b[0;34m:\u001b[0m\u001b[0;34m\u001b[0m\u001b[0;34m\u001b[0m\u001b[0m\n\u001b[0;32m--> 251\u001b[0;31m                     \u001b[0mcol\u001b[0m \u001b[0;34m=\u001b[0m \u001b[0mcol_dict\u001b[0m\u001b[0;34m[\u001b[0m\u001b[0mname\u001b[0m\u001b[0;34m]\u001b[0m\u001b[0;34m\u001b[0m\u001b[0;34m\u001b[0m\u001b[0m\n\u001b[0m\u001b[1;32m    252\u001b[0m                     \u001b[0morder\u001b[0m\u001b[0;34m[\u001b[0m\u001b[0mcol\u001b[0m\u001b[0;34m.\u001b[0m\u001b[0mname\u001b[0m\u001b[0;34m]\u001b[0m \u001b[0;34m=\u001b[0m \u001b[0mi\u001b[0m\u001b[0;34m\u001b[0m\u001b[0;34m\u001b[0m\u001b[0m\n",
      "\u001b[0;31mKeyError\u001b[0m: 'x'",
      "\nThe above exception was the direct cause of the following exception:\n",
      "\u001b[0;31mException\u001b[0m                                 Traceback (most recent call last)",
      "\u001b[0;32m<ipython-input-15-1995312d525f>\u001b[0m in \u001b[0;36m<module>\u001b[0;34m\u001b[0m\n\u001b[1;32m      1\u001b[0m \u001b[0mcommon_filter\u001b[0m\u001b[0;34m.\u001b[0m\u001b[0mcreate_standard_filters\u001b[0m\u001b[0;34m(\u001b[0m\u001b[0;34m)\u001b[0m\u001b[0;34m\u001b[0m\u001b[0;34m\u001b[0m\u001b[0m\n\u001b[1;32m      2\u001b[0m \u001b[0mcommon_ephys\u001b[0m\u001b[0;34m.\u001b[0m\u001b[0mLFPElectrode\u001b[0m\u001b[0;34m(\u001b[0m\u001b[0;34m)\u001b[0m\u001b[0;34m.\u001b[0m\u001b[0mset_lfp_elect\u001b[0m\u001b[0;34m(\u001b[0m\u001b[0;34m[\u001b[0m\u001b[0;36m1\u001b[0m\u001b[0;34m,\u001b[0m \u001b[0;36m2\u001b[0m\u001b[0;34m,\u001b[0m \u001b[0;36m3\u001b[0m\u001b[0;34m]\u001b[0m\u001b[0;34m)\u001b[0m\u001b[0;34m\u001b[0m\u001b[0;34m\u001b[0m\u001b[0m\n\u001b[0;32m----> 3\u001b[0;31m \u001b[0mcommon_ephys\u001b[0m\u001b[0;34m.\u001b[0m\u001b[0mLFP\u001b[0m\u001b[0;34m.\u001b[0m\u001b[0mpopulate\u001b[0m\u001b[0;34m(\u001b[0m\u001b[0;34m)\u001b[0m\u001b[0;34m\u001b[0m\u001b[0;34m\u001b[0m\u001b[0m\n\u001b[0m",
      "\u001b[0;32m~/opt/anaconda3/envs/nwbdj/lib/python3.7/site-packages/datajoint/autopopulate.py\u001b[0m in \u001b[0;36mpopulate\u001b[0;34m(self, suppress_errors, return_exception_objects, reserve_jobs, order, limit, max_calls, display_progress, *restrictions)\u001b[0m\n\u001b[1;32m    157\u001b[0m                     \u001b[0mself\u001b[0m\u001b[0;34m.\u001b[0m\u001b[0m__class__\u001b[0m\u001b[0;34m.\u001b[0m\u001b[0m_allow_insert\u001b[0m \u001b[0;34m=\u001b[0m \u001b[0;32mTrue\u001b[0m\u001b[0;34m\u001b[0m\u001b[0;34m\u001b[0m\u001b[0m\n\u001b[1;32m    158\u001b[0m                     \u001b[0;32mtry\u001b[0m\u001b[0;34m:\u001b[0m\u001b[0;34m\u001b[0m\u001b[0;34m\u001b[0m\u001b[0m\n\u001b[0;32m--> 159\u001b[0;31m                         \u001b[0mmake\u001b[0m\u001b[0;34m(\u001b[0m\u001b[0mdict\u001b[0m\u001b[0;34m(\u001b[0m\u001b[0mkey\u001b[0m\u001b[0;34m)\u001b[0m\u001b[0;34m)\u001b[0m\u001b[0;34m\u001b[0m\u001b[0;34m\u001b[0m\u001b[0m\n\u001b[0m\u001b[1;32m    160\u001b[0m                     \u001b[0;32mexcept\u001b[0m \u001b[0;34m(\u001b[0m\u001b[0mKeyboardInterrupt\u001b[0m\u001b[0;34m,\u001b[0m \u001b[0mSystemExit\u001b[0m\u001b[0;34m,\u001b[0m \u001b[0mException\u001b[0m\u001b[0;34m)\u001b[0m \u001b[0;32mas\u001b[0m \u001b[0merror\u001b[0m\u001b[0;34m:\u001b[0m\u001b[0;34m\u001b[0m\u001b[0;34m\u001b[0m\u001b[0m\n\u001b[1;32m    161\u001b[0m                         \u001b[0;32mtry\u001b[0m\u001b[0;34m:\u001b[0m\u001b[0;34m\u001b[0m\u001b[0;34m\u001b[0m\u001b[0m\n",
      "\u001b[0;32m~/Src/NWB/nwb_datajoint/schema/common_ephys.py\u001b[0m in \u001b[0;36mmake\u001b[0;34m(self, key)\u001b[0m\n\u001b[1;32m    305\u001b[0m         \u001b[0mprint\u001b[0m\u001b[0;34m(\u001b[0m\u001b[0;34mf'output file name {nwb_out_file_name}'\u001b[0m\u001b[0;34m)\u001b[0m\u001b[0;34m\u001b[0m\u001b[0;34m\u001b[0m\u001b[0m\n\u001b[1;32m    306\u001b[0m         common_filter.FirFilter().filter_data_nwb(nwb_out_file_name, rawdata.timestamps, rawdata.data,\n\u001b[0;32m--> 307\u001b[0;31m                                                filter_coeff, valid_times, electrode_id_list, decimation)\n\u001b[0m\u001b[1;32m    308\u001b[0m \u001b[0;34m\u001b[0m\u001b[0m\n\u001b[1;32m    309\u001b[0m \u001b[0;34m\u001b[0m\u001b[0m\n",
      "\u001b[0;32m~/Src/NWB/nwb_datajoint/schema/common_filter.py\u001b[0m in \u001b[0;36mfilter_data_nwb\u001b[0;34m(self, nwb_file_name, timestamps, data, filter_coeff, valid_times, electrodes, decimation)\u001b[0m\n\u001b[1;32m    173\u001b[0m         \u001b[0;31m# open the nwb file to create the dynamic table region and electrode series, then write and close the file\u001b[0m\u001b[0;34m\u001b[0m\u001b[0;34m\u001b[0m\u001b[0;34m\u001b[0m\u001b[0m\n\u001b[1;32m    174\u001b[0m         \u001b[0;32mwith\u001b[0m \u001b[0mpynwb\u001b[0m\u001b[0;34m.\u001b[0m\u001b[0mNWBHDF5IO\u001b[0m\u001b[0;34m(\u001b[0m\u001b[0mnwb_file_name\u001b[0m\u001b[0;34m,\u001b[0m \u001b[0;34m\"a\"\u001b[0m\u001b[0;34m)\u001b[0m \u001b[0;32mas\u001b[0m \u001b[0mio\u001b[0m\u001b[0;34m:\u001b[0m\u001b[0;34m\u001b[0m\u001b[0;34m\u001b[0m\u001b[0m\n\u001b[0;32m--> 175\u001b[0;31m             \u001b[0mnwbf\u001b[0m\u001b[0;34m=\u001b[0m\u001b[0mio\u001b[0m\u001b[0;34m.\u001b[0m\u001b[0mread\u001b[0m\u001b[0;34m(\u001b[0m\u001b[0;34m)\u001b[0m\u001b[0;34m\u001b[0m\u001b[0;34m\u001b[0m\u001b[0m\n\u001b[0m\u001b[1;32m    176\u001b[0m \u001b[0;34m\u001b[0m\u001b[0m\n\u001b[1;32m    177\u001b[0m         \u001b[0melectrode_table_region\u001b[0m \u001b[0;34m=\u001b[0m \u001b[0mnwbf\u001b[0m\u001b[0;34m.\u001b[0m\u001b[0mcreate_electrode_table_region\u001b[0m\u001b[0;34m(\u001b[0m\u001b[0melectrodes\u001b[0m\u001b[0;34m,\u001b[0m \u001b[0;34m'filtered electrode table'\u001b[0m\u001b[0;34m)\u001b[0m\u001b[0;34m\u001b[0m\u001b[0;34m\u001b[0m\u001b[0m\n",
      "\u001b[0;32m~/opt/anaconda3/envs/nwbdj/lib/python3.7/site-packages/hdmf/backends/hdf5/h5tools.py\u001b[0m in \u001b[0;36mread\u001b[0;34m(self, **kwargs)\u001b[0m\n\u001b[1;32m    302\u001b[0m                                        % (self.__path, self.__mode))\n\u001b[1;32m    303\u001b[0m         \u001b[0;32mtry\u001b[0m\u001b[0;34m:\u001b[0m\u001b[0;34m\u001b[0m\u001b[0;34m\u001b[0m\u001b[0m\n\u001b[0;32m--> 304\u001b[0;31m             \u001b[0;32mreturn\u001b[0m \u001b[0mcall_docval_func\u001b[0m\u001b[0;34m(\u001b[0m\u001b[0msuper\u001b[0m\u001b[0;34m(\u001b[0m\u001b[0;34m)\u001b[0m\u001b[0;34m.\u001b[0m\u001b[0mread\u001b[0m\u001b[0;34m,\u001b[0m \u001b[0mkwargs\u001b[0m\u001b[0;34m)\u001b[0m\u001b[0;34m\u001b[0m\u001b[0;34m\u001b[0m\u001b[0m\n\u001b[0m\u001b[1;32m    305\u001b[0m         \u001b[0;32mexcept\u001b[0m \u001b[0mUnsupportedOperation\u001b[0m \u001b[0;32mas\u001b[0m \u001b[0me\u001b[0m\u001b[0;34m:\u001b[0m\u001b[0;34m\u001b[0m\u001b[0;34m\u001b[0m\u001b[0m\n\u001b[1;32m    306\u001b[0m             \u001b[0;32mif\u001b[0m \u001b[0mstr\u001b[0m\u001b[0;34m(\u001b[0m\u001b[0me\u001b[0m\u001b[0;34m)\u001b[0m \u001b[0;34m==\u001b[0m \u001b[0;34m'Cannot build data. There are no values.'\u001b[0m\u001b[0;34m:\u001b[0m\u001b[0;34m\u001b[0m\u001b[0;34m\u001b[0m\u001b[0m\n",
      "\u001b[0;32m~/opt/anaconda3/envs/nwbdj/lib/python3.7/site-packages/hdmf/utils.py\u001b[0m in \u001b[0;36mcall_docval_func\u001b[0;34m(func, kwargs)\u001b[0m\n\u001b[1;32m    362\u001b[0m \u001b[0;32mdef\u001b[0m \u001b[0mcall_docval_func\u001b[0m\u001b[0;34m(\u001b[0m\u001b[0mfunc\u001b[0m\u001b[0;34m,\u001b[0m \u001b[0mkwargs\u001b[0m\u001b[0;34m)\u001b[0m\u001b[0;34m:\u001b[0m\u001b[0;34m\u001b[0m\u001b[0;34m\u001b[0m\u001b[0m\n\u001b[1;32m    363\u001b[0m     \u001b[0mfargs\u001b[0m\u001b[0;34m,\u001b[0m \u001b[0mfkwargs\u001b[0m \u001b[0;34m=\u001b[0m \u001b[0mfmt_docval_args\u001b[0m\u001b[0;34m(\u001b[0m\u001b[0mfunc\u001b[0m\u001b[0;34m,\u001b[0m \u001b[0mkwargs\u001b[0m\u001b[0;34m)\u001b[0m\u001b[0;34m\u001b[0m\u001b[0;34m\u001b[0m\u001b[0m\n\u001b[0;32m--> 364\u001b[0;31m     \u001b[0;32mreturn\u001b[0m \u001b[0mfunc\u001b[0m\u001b[0;34m(\u001b[0m\u001b[0;34m*\u001b[0m\u001b[0mfargs\u001b[0m\u001b[0;34m,\u001b[0m \u001b[0;34m**\u001b[0m\u001b[0mfkwargs\u001b[0m\u001b[0;34m)\u001b[0m\u001b[0;34m\u001b[0m\u001b[0;34m\u001b[0m\u001b[0m\n\u001b[0m\u001b[1;32m    365\u001b[0m \u001b[0;34m\u001b[0m\u001b[0m\n\u001b[1;32m    366\u001b[0m \u001b[0;34m\u001b[0m\u001b[0m\n",
      "\u001b[0;32m~/opt/anaconda3/envs/nwbdj/lib/python3.7/site-packages/hdmf/utils.py\u001b[0m in \u001b[0;36mfunc_call\u001b[0;34m(*args, **kwargs)\u001b[0m\n\u001b[1;32m    481\u001b[0m \u001b[0;34m\u001b[0m\u001b[0m\n\u001b[1;32m    482\u001b[0m             \u001b[0;32mif\u001b[0m \u001b[0mis_method\u001b[0m\u001b[0;34m:\u001b[0m\u001b[0;34m\u001b[0m\u001b[0;34m\u001b[0m\u001b[0m\n\u001b[0;32m--> 483\u001b[0;31m                 \u001b[0;32mreturn\u001b[0m \u001b[0mfunc\u001b[0m\u001b[0;34m(\u001b[0m\u001b[0margs\u001b[0m\u001b[0;34m[\u001b[0m\u001b[0;36m0\u001b[0m\u001b[0;34m]\u001b[0m\u001b[0;34m,\u001b[0m \u001b[0;34m**\u001b[0m\u001b[0mparsed\u001b[0m\u001b[0;34m[\u001b[0m\u001b[0;34m'args'\u001b[0m\u001b[0;34m]\u001b[0m\u001b[0;34m)\u001b[0m\u001b[0;34m\u001b[0m\u001b[0;34m\u001b[0m\u001b[0m\n\u001b[0m\u001b[1;32m    484\u001b[0m             \u001b[0;32melse\u001b[0m\u001b[0;34m:\u001b[0m\u001b[0;34m\u001b[0m\u001b[0;34m\u001b[0m\u001b[0m\n\u001b[1;32m    485\u001b[0m                 \u001b[0;32mreturn\u001b[0m \u001b[0mfunc\u001b[0m\u001b[0;34m(\u001b[0m\u001b[0;34m**\u001b[0m\u001b[0mparsed\u001b[0m\u001b[0;34m[\u001b[0m\u001b[0;34m'args'\u001b[0m\u001b[0;34m]\u001b[0m\u001b[0;34m)\u001b[0m\u001b[0;34m\u001b[0m\u001b[0;34m\u001b[0m\u001b[0m\n",
      "\u001b[0;32m~/opt/anaconda3/envs/nwbdj/lib/python3.7/site-packages/hdmf/backends/io.py\u001b[0m in \u001b[0;36mread\u001b[0;34m(self, **kwargs)\u001b[0m\n\u001b[1;32m     33\u001b[0m             \u001b[0;31m# TODO also check that the keys are appropriate. print a better error message\u001b[0m\u001b[0;34m\u001b[0m\u001b[0;34m\u001b[0m\u001b[0;34m\u001b[0m\u001b[0m\n\u001b[1;32m     34\u001b[0m             \u001b[0;32mraise\u001b[0m \u001b[0mUnsupportedOperation\u001b[0m\u001b[0;34m(\u001b[0m\u001b[0;34m'Cannot build data. There are no values.'\u001b[0m\u001b[0;34m)\u001b[0m\u001b[0;34m\u001b[0m\u001b[0;34m\u001b[0m\u001b[0m\n\u001b[0;32m---> 35\u001b[0;31m         \u001b[0mcontainer\u001b[0m \u001b[0;34m=\u001b[0m \u001b[0mself\u001b[0m\u001b[0;34m.\u001b[0m\u001b[0m__manager\u001b[0m\u001b[0;34m.\u001b[0m\u001b[0mconstruct\u001b[0m\u001b[0;34m(\u001b[0m\u001b[0mf_builder\u001b[0m\u001b[0;34m)\u001b[0m\u001b[0;34m\u001b[0m\u001b[0;34m\u001b[0m\u001b[0m\n\u001b[0m\u001b[1;32m     36\u001b[0m         \u001b[0;32mreturn\u001b[0m \u001b[0mcontainer\u001b[0m\u001b[0;34m\u001b[0m\u001b[0;34m\u001b[0m\u001b[0m\n\u001b[1;32m     37\u001b[0m \u001b[0;34m\u001b[0m\u001b[0m\n",
      "\u001b[0;32m~/opt/anaconda3/envs/nwbdj/lib/python3.7/site-packages/hdmf/utils.py\u001b[0m in \u001b[0;36mfunc_call\u001b[0;34m(*args, **kwargs)\u001b[0m\n\u001b[1;32m    481\u001b[0m \u001b[0;34m\u001b[0m\u001b[0m\n\u001b[1;32m    482\u001b[0m             \u001b[0;32mif\u001b[0m \u001b[0mis_method\u001b[0m\u001b[0;34m:\u001b[0m\u001b[0;34m\u001b[0m\u001b[0;34m\u001b[0m\u001b[0m\n\u001b[0;32m--> 483\u001b[0;31m                 \u001b[0;32mreturn\u001b[0m \u001b[0mfunc\u001b[0m\u001b[0;34m(\u001b[0m\u001b[0margs\u001b[0m\u001b[0;34m[\u001b[0m\u001b[0;36m0\u001b[0m\u001b[0;34m]\u001b[0m\u001b[0;34m,\u001b[0m \u001b[0;34m**\u001b[0m\u001b[0mparsed\u001b[0m\u001b[0;34m[\u001b[0m\u001b[0;34m'args'\u001b[0m\u001b[0;34m]\u001b[0m\u001b[0;34m)\u001b[0m\u001b[0;34m\u001b[0m\u001b[0;34m\u001b[0m\u001b[0m\n\u001b[0m\u001b[1;32m    484\u001b[0m             \u001b[0;32melse\u001b[0m\u001b[0;34m:\u001b[0m\u001b[0;34m\u001b[0m\u001b[0;34m\u001b[0m\u001b[0m\n\u001b[1;32m    485\u001b[0m                 \u001b[0;32mreturn\u001b[0m \u001b[0mfunc\u001b[0m\u001b[0;34m(\u001b[0m\u001b[0;34m**\u001b[0m\u001b[0mparsed\u001b[0m\u001b[0;34m[\u001b[0m\u001b[0;34m'args'\u001b[0m\u001b[0;34m]\u001b[0m\u001b[0;34m)\u001b[0m\u001b[0;34m\u001b[0m\u001b[0;34m\u001b[0m\u001b[0m\n",
      "\u001b[0;32m~/opt/anaconda3/envs/nwbdj/lib/python3.7/site-packages/hdmf/build/manager.py\u001b[0m in \u001b[0;36mconstruct\u001b[0;34m(self, **kwargs)\u001b[0m\n\u001b[1;32m    197\u001b[0m                 \u001b[0;31m# we are at the top of the hierarchy,\u001b[0m\u001b[0;34m\u001b[0m\u001b[0;34m\u001b[0m\u001b[0;34m\u001b[0m\u001b[0m\n\u001b[1;32m    198\u001b[0m                 \u001b[0;31m# so it must be time to resolve parents\u001b[0m\u001b[0;34m\u001b[0m\u001b[0;34m\u001b[0m\u001b[0;34m\u001b[0m\u001b[0m\n\u001b[0;32m--> 199\u001b[0;31m                 \u001b[0mresult\u001b[0m \u001b[0;34m=\u001b[0m \u001b[0mself\u001b[0m\u001b[0;34m.\u001b[0m\u001b[0m__type_map\u001b[0m\u001b[0;34m.\u001b[0m\u001b[0mconstruct\u001b[0m\u001b[0;34m(\u001b[0m\u001b[0mbuilder\u001b[0m\u001b[0;34m,\u001b[0m \u001b[0mself\u001b[0m\u001b[0;34m,\u001b[0m \u001b[0;32mNone\u001b[0m\u001b[0;34m)\u001b[0m\u001b[0;34m\u001b[0m\u001b[0;34m\u001b[0m\u001b[0m\n\u001b[0m\u001b[1;32m    200\u001b[0m                 \u001b[0mself\u001b[0m\u001b[0;34m.\u001b[0m\u001b[0m__resolve_parents\u001b[0m\u001b[0;34m(\u001b[0m\u001b[0mresult\u001b[0m\u001b[0;34m)\u001b[0m\u001b[0;34m\u001b[0m\u001b[0;34m\u001b[0m\u001b[0m\n\u001b[1;32m    201\u001b[0m             \u001b[0mself\u001b[0m\u001b[0;34m.\u001b[0m\u001b[0mprebuilt\u001b[0m\u001b[0;34m(\u001b[0m\u001b[0mresult\u001b[0m\u001b[0;34m,\u001b[0m \u001b[0mbuilder\u001b[0m\u001b[0;34m)\u001b[0m\u001b[0;34m\u001b[0m\u001b[0;34m\u001b[0m\u001b[0m\n",
      "\u001b[0;32m~/opt/anaconda3/envs/nwbdj/lib/python3.7/site-packages/hdmf/utils.py\u001b[0m in \u001b[0;36mfunc_call\u001b[0;34m(*args, **kwargs)\u001b[0m\n\u001b[1;32m    481\u001b[0m \u001b[0;34m\u001b[0m\u001b[0m\n\u001b[1;32m    482\u001b[0m             \u001b[0;32mif\u001b[0m \u001b[0mis_method\u001b[0m\u001b[0;34m:\u001b[0m\u001b[0;34m\u001b[0m\u001b[0;34m\u001b[0m\u001b[0m\n\u001b[0;32m--> 483\u001b[0;31m                 \u001b[0;32mreturn\u001b[0m \u001b[0mfunc\u001b[0m\u001b[0;34m(\u001b[0m\u001b[0margs\u001b[0m\u001b[0;34m[\u001b[0m\u001b[0;36m0\u001b[0m\u001b[0;34m]\u001b[0m\u001b[0;34m,\u001b[0m \u001b[0;34m**\u001b[0m\u001b[0mparsed\u001b[0m\u001b[0;34m[\u001b[0m\u001b[0;34m'args'\u001b[0m\u001b[0;34m]\u001b[0m\u001b[0;34m)\u001b[0m\u001b[0;34m\u001b[0m\u001b[0;34m\u001b[0m\u001b[0m\n\u001b[0m\u001b[1;32m    484\u001b[0m             \u001b[0;32melse\u001b[0m\u001b[0;34m:\u001b[0m\u001b[0;34m\u001b[0m\u001b[0;34m\u001b[0m\u001b[0m\n\u001b[1;32m    485\u001b[0m                 \u001b[0;32mreturn\u001b[0m \u001b[0mfunc\u001b[0m\u001b[0;34m(\u001b[0m\u001b[0;34m**\u001b[0m\u001b[0mparsed\u001b[0m\u001b[0;34m[\u001b[0m\u001b[0;34m'args'\u001b[0m\u001b[0;34m]\u001b[0m\u001b[0;34m)\u001b[0m\u001b[0;34m\u001b[0m\u001b[0;34m\u001b[0m\u001b[0m\n",
      "\u001b[0;32m~/opt/anaconda3/envs/nwbdj/lib/python3.7/site-packages/hdmf/build/manager.py\u001b[0m in \u001b[0;36mconstruct\u001b[0;34m(self, **kwargs)\u001b[0m\n\u001b[1;32m    768\u001b[0m             \u001b[0;32mraise\u001b[0m \u001b[0mValueError\u001b[0m\u001b[0;34m(\u001b[0m\u001b[0;34m'No ObjectMapper found for builder of type %s'\u001b[0m \u001b[0;34m%\u001b[0m \u001b[0mdt\u001b[0m\u001b[0;34m)\u001b[0m\u001b[0;34m\u001b[0m\u001b[0;34m\u001b[0m\u001b[0m\n\u001b[1;32m    769\u001b[0m         \u001b[0;32melse\u001b[0m\u001b[0;34m:\u001b[0m\u001b[0;34m\u001b[0m\u001b[0;34m\u001b[0m\u001b[0m\n\u001b[0;32m--> 770\u001b[0;31m             \u001b[0;32mreturn\u001b[0m \u001b[0mobj_mapper\u001b[0m\u001b[0;34m.\u001b[0m\u001b[0mconstruct\u001b[0m\u001b[0;34m(\u001b[0m\u001b[0mbuilder\u001b[0m\u001b[0;34m,\u001b[0m \u001b[0mbuild_manager\u001b[0m\u001b[0;34m,\u001b[0m \u001b[0mparent\u001b[0m\u001b[0;34m)\u001b[0m\u001b[0;34m\u001b[0m\u001b[0;34m\u001b[0m\u001b[0m\n\u001b[0m\u001b[1;32m    771\u001b[0m \u001b[0;34m\u001b[0m\u001b[0m\n\u001b[1;32m    772\u001b[0m     @docval({\"name\": \"container\", \"type\": AbstractContainer, \"doc\": \"the container to convert to a Builder\"},\n",
      "\u001b[0;32m~/opt/anaconda3/envs/nwbdj/lib/python3.7/site-packages/hdmf/utils.py\u001b[0m in \u001b[0;36mfunc_call\u001b[0;34m(*args, **kwargs)\u001b[0m\n\u001b[1;32m    481\u001b[0m \u001b[0;34m\u001b[0m\u001b[0m\n\u001b[1;32m    482\u001b[0m             \u001b[0;32mif\u001b[0m \u001b[0mis_method\u001b[0m\u001b[0;34m:\u001b[0m\u001b[0;34m\u001b[0m\u001b[0;34m\u001b[0m\u001b[0m\n\u001b[0;32m--> 483\u001b[0;31m                 \u001b[0;32mreturn\u001b[0m \u001b[0mfunc\u001b[0m\u001b[0;34m(\u001b[0m\u001b[0margs\u001b[0m\u001b[0;34m[\u001b[0m\u001b[0;36m0\u001b[0m\u001b[0;34m]\u001b[0m\u001b[0;34m,\u001b[0m \u001b[0;34m**\u001b[0m\u001b[0mparsed\u001b[0m\u001b[0;34m[\u001b[0m\u001b[0;34m'args'\u001b[0m\u001b[0;34m]\u001b[0m\u001b[0;34m)\u001b[0m\u001b[0;34m\u001b[0m\u001b[0;34m\u001b[0m\u001b[0m\n\u001b[0m\u001b[1;32m    484\u001b[0m             \u001b[0;32melse\u001b[0m\u001b[0;34m:\u001b[0m\u001b[0;34m\u001b[0m\u001b[0;34m\u001b[0m\u001b[0m\n\u001b[1;32m    485\u001b[0m                 \u001b[0;32mreturn\u001b[0m \u001b[0mfunc\u001b[0m\u001b[0;34m(\u001b[0m\u001b[0;34m**\u001b[0m\u001b[0mparsed\u001b[0m\u001b[0;34m[\u001b[0m\u001b[0;34m'args'\u001b[0m\u001b[0;34m]\u001b[0m\u001b[0;34m)\u001b[0m\u001b[0;34m\u001b[0m\u001b[0;34m\u001b[0m\u001b[0m\n",
      "\u001b[0;32m~/opt/anaconda3/envs/nwbdj/lib/python3.7/site-packages/hdmf/build/objectmapper.py\u001b[0m in \u001b[0;36mconstruct\u001b[0;34m(self, **kwargs)\u001b[0m\n\u001b[1;32m    967\u001b[0m         \u001b[0mcls\u001b[0m \u001b[0;34m=\u001b[0m \u001b[0mmanager\u001b[0m\u001b[0;34m.\u001b[0m\u001b[0mget_cls\u001b[0m\u001b[0;34m(\u001b[0m\u001b[0mbuilder\u001b[0m\u001b[0;34m)\u001b[0m\u001b[0;34m\u001b[0m\u001b[0;34m\u001b[0m\u001b[0m\n\u001b[1;32m    968\u001b[0m         \u001b[0;31m# gather all subspecs\u001b[0m\u001b[0;34m\u001b[0m\u001b[0;34m\u001b[0m\u001b[0;34m\u001b[0m\u001b[0m\n\u001b[0;32m--> 969\u001b[0;31m         \u001b[0msubspecs\u001b[0m \u001b[0;34m=\u001b[0m \u001b[0mself\u001b[0m\u001b[0;34m.\u001b[0m\u001b[0m__get_subspec_values\u001b[0m\u001b[0;34m(\u001b[0m\u001b[0mbuilder\u001b[0m\u001b[0;34m,\u001b[0m \u001b[0mself\u001b[0m\u001b[0;34m.\u001b[0m\u001b[0mspec\u001b[0m\u001b[0;34m,\u001b[0m \u001b[0mmanager\u001b[0m\u001b[0;34m)\u001b[0m\u001b[0;34m\u001b[0m\u001b[0;34m\u001b[0m\u001b[0m\n\u001b[0m\u001b[1;32m    970\u001b[0m         \u001b[0;31m# get the constructor argument that each specification corresponds to\u001b[0m\u001b[0;34m\u001b[0m\u001b[0;34m\u001b[0m\u001b[0;34m\u001b[0m\u001b[0m\n\u001b[1;32m    971\u001b[0m         \u001b[0mconst_args\u001b[0m \u001b[0;34m=\u001b[0m \u001b[0mdict\u001b[0m\u001b[0;34m(\u001b[0m\u001b[0;34m)\u001b[0m\u001b[0;34m\u001b[0m\u001b[0;34m\u001b[0m\u001b[0m\n",
      "\u001b[0;32m~/opt/anaconda3/envs/nwbdj/lib/python3.7/site-packages/hdmf/build/objectmapper.py\u001b[0m in \u001b[0;36m__get_subspec_values\u001b[0;34m(self, builder, spec, manager)\u001b[0m\n\u001b[1;32m    897\u001b[0m                         \u001b[0mret\u001b[0m\u001b[0;34m[\u001b[0m\u001b[0msubspec\u001b[0m\u001b[0;34m]\u001b[0m \u001b[0;34m=\u001b[0m \u001b[0mself\u001b[0m\u001b[0;34m.\u001b[0m\u001b[0m__flatten\u001b[0m\u001b[0;34m(\u001b[0m\u001b[0msub_builder\u001b[0m\u001b[0;34m,\u001b[0m \u001b[0msubspec\u001b[0m\u001b[0;34m,\u001b[0m \u001b[0mmanager\u001b[0m\u001b[0;34m)\u001b[0m\u001b[0;34m\u001b[0m\u001b[0;34m\u001b[0m\u001b[0m\n\u001b[1;32m    898\u001b[0m             \u001b[0;31m# now process groups and datasets\u001b[0m\u001b[0;34m\u001b[0m\u001b[0;34m\u001b[0m\u001b[0;34m\u001b[0m\u001b[0m\n\u001b[0;32m--> 899\u001b[0;31m             \u001b[0mself\u001b[0m\u001b[0;34m.\u001b[0m\u001b[0m__get_sub_builders\u001b[0m\u001b[0;34m(\u001b[0m\u001b[0mgroups\u001b[0m\u001b[0;34m,\u001b[0m \u001b[0mspec\u001b[0m\u001b[0;34m.\u001b[0m\u001b[0mgroups\u001b[0m\u001b[0;34m,\u001b[0m \u001b[0mmanager\u001b[0m\u001b[0;34m,\u001b[0m \u001b[0mret\u001b[0m\u001b[0;34m)\u001b[0m\u001b[0;34m\u001b[0m\u001b[0;34m\u001b[0m\u001b[0m\n\u001b[0m\u001b[1;32m    900\u001b[0m             \u001b[0mself\u001b[0m\u001b[0;34m.\u001b[0m\u001b[0m__get_sub_builders\u001b[0m\u001b[0;34m(\u001b[0m\u001b[0mdatasets\u001b[0m\u001b[0;34m,\u001b[0m \u001b[0mspec\u001b[0m\u001b[0;34m.\u001b[0m\u001b[0mdatasets\u001b[0m\u001b[0;34m,\u001b[0m \u001b[0mmanager\u001b[0m\u001b[0;34m,\u001b[0m \u001b[0mret\u001b[0m\u001b[0;34m)\u001b[0m\u001b[0;34m\u001b[0m\u001b[0;34m\u001b[0m\u001b[0m\n\u001b[1;32m    901\u001b[0m         \u001b[0;32melif\u001b[0m \u001b[0misinstance\u001b[0m\u001b[0;34m(\u001b[0m\u001b[0mspec\u001b[0m\u001b[0;34m,\u001b[0m \u001b[0mDatasetSpec\u001b[0m\u001b[0;34m)\u001b[0m\u001b[0;34m:\u001b[0m\u001b[0;34m\u001b[0m\u001b[0;34m\u001b[0m\u001b[0m\n",
      "\u001b[0;32m~/opt/anaconda3/envs/nwbdj/lib/python3.7/site-packages/hdmf/build/objectmapper.py\u001b[0m in \u001b[0;36m__get_sub_builders\u001b[0;34m(self, sub_builders, subspecs, manager, ret)\u001b[0m\n\u001b[1;32m    947\u001b[0m                 \u001b[0;32mif\u001b[0m \u001b[0mdt\u001b[0m \u001b[0;32mis\u001b[0m \u001b[0;32mNone\u001b[0m\u001b[0;34m:\u001b[0m\u001b[0;34m\u001b[0m\u001b[0;34m\u001b[0m\u001b[0m\n\u001b[1;32m    948\u001b[0m                     \u001b[0;31m# recurse\u001b[0m\u001b[0;34m\u001b[0m\u001b[0;34m\u001b[0m\u001b[0;34m\u001b[0m\u001b[0m\n\u001b[0;32m--> 949\u001b[0;31m                     \u001b[0mret\u001b[0m\u001b[0;34m.\u001b[0m\u001b[0mupdate\u001b[0m\u001b[0;34m(\u001b[0m\u001b[0mself\u001b[0m\u001b[0;34m.\u001b[0m\u001b[0m__get_subspec_values\u001b[0m\u001b[0;34m(\u001b[0m\u001b[0msub_builder\u001b[0m\u001b[0;34m,\u001b[0m \u001b[0msubspec\u001b[0m\u001b[0;34m,\u001b[0m \u001b[0mmanager\u001b[0m\u001b[0;34m)\u001b[0m\u001b[0;34m)\u001b[0m\u001b[0;34m\u001b[0m\u001b[0;34m\u001b[0m\u001b[0m\n\u001b[0m\u001b[1;32m    950\u001b[0m                 \u001b[0;32melse\u001b[0m\u001b[0;34m:\u001b[0m\u001b[0;34m\u001b[0m\u001b[0;34m\u001b[0m\u001b[0m\n\u001b[1;32m    951\u001b[0m                     \u001b[0mret\u001b[0m\u001b[0;34m[\u001b[0m\u001b[0msubspec\u001b[0m\u001b[0;34m]\u001b[0m \u001b[0;34m=\u001b[0m \u001b[0mmanager\u001b[0m\u001b[0;34m.\u001b[0m\u001b[0mconstruct\u001b[0m\u001b[0;34m(\u001b[0m\u001b[0msub_builder\u001b[0m\u001b[0;34m)\u001b[0m\u001b[0;34m\u001b[0m\u001b[0;34m\u001b[0m\u001b[0m\n",
      "\u001b[0;32m~/opt/anaconda3/envs/nwbdj/lib/python3.7/site-packages/hdmf/build/objectmapper.py\u001b[0m in \u001b[0;36m__get_subspec_values\u001b[0;34m(self, builder, spec, manager)\u001b[0m\n\u001b[1;32m    897\u001b[0m                         \u001b[0mret\u001b[0m\u001b[0;34m[\u001b[0m\u001b[0msubspec\u001b[0m\u001b[0;34m]\u001b[0m \u001b[0;34m=\u001b[0m \u001b[0mself\u001b[0m\u001b[0;34m.\u001b[0m\u001b[0m__flatten\u001b[0m\u001b[0;34m(\u001b[0m\u001b[0msub_builder\u001b[0m\u001b[0;34m,\u001b[0m \u001b[0msubspec\u001b[0m\u001b[0;34m,\u001b[0m \u001b[0mmanager\u001b[0m\u001b[0;34m)\u001b[0m\u001b[0;34m\u001b[0m\u001b[0;34m\u001b[0m\u001b[0m\n\u001b[1;32m    898\u001b[0m             \u001b[0;31m# now process groups and datasets\u001b[0m\u001b[0;34m\u001b[0m\u001b[0;34m\u001b[0m\u001b[0;34m\u001b[0m\u001b[0m\n\u001b[0;32m--> 899\u001b[0;31m             \u001b[0mself\u001b[0m\u001b[0;34m.\u001b[0m\u001b[0m__get_sub_builders\u001b[0m\u001b[0;34m(\u001b[0m\u001b[0mgroups\u001b[0m\u001b[0;34m,\u001b[0m \u001b[0mspec\u001b[0m\u001b[0;34m.\u001b[0m\u001b[0mgroups\u001b[0m\u001b[0;34m,\u001b[0m \u001b[0mmanager\u001b[0m\u001b[0;34m,\u001b[0m \u001b[0mret\u001b[0m\u001b[0;34m)\u001b[0m\u001b[0;34m\u001b[0m\u001b[0;34m\u001b[0m\u001b[0m\n\u001b[0m\u001b[1;32m    900\u001b[0m             \u001b[0mself\u001b[0m\u001b[0;34m.\u001b[0m\u001b[0m__get_sub_builders\u001b[0m\u001b[0;34m(\u001b[0m\u001b[0mdatasets\u001b[0m\u001b[0;34m,\u001b[0m \u001b[0mspec\u001b[0m\u001b[0;34m.\u001b[0m\u001b[0mdatasets\u001b[0m\u001b[0;34m,\u001b[0m \u001b[0mmanager\u001b[0m\u001b[0;34m,\u001b[0m \u001b[0mret\u001b[0m\u001b[0;34m)\u001b[0m\u001b[0;34m\u001b[0m\u001b[0;34m\u001b[0m\u001b[0m\n\u001b[1;32m    901\u001b[0m         \u001b[0;32melif\u001b[0m \u001b[0misinstance\u001b[0m\u001b[0;34m(\u001b[0m\u001b[0mspec\u001b[0m\u001b[0;34m,\u001b[0m \u001b[0mDatasetSpec\u001b[0m\u001b[0;34m)\u001b[0m\u001b[0;34m:\u001b[0m\u001b[0;34m\u001b[0m\u001b[0;34m\u001b[0m\u001b[0m\n",
      "\u001b[0;32m~/opt/anaconda3/envs/nwbdj/lib/python3.7/site-packages/hdmf/build/objectmapper.py\u001b[0m in \u001b[0;36m__get_sub_builders\u001b[0;34m(self, sub_builders, subspecs, manager, ret)\u001b[0m\n\u001b[1;32m    947\u001b[0m                 \u001b[0;32mif\u001b[0m \u001b[0mdt\u001b[0m \u001b[0;32mis\u001b[0m \u001b[0;32mNone\u001b[0m\u001b[0;34m:\u001b[0m\u001b[0;34m\u001b[0m\u001b[0;34m\u001b[0m\u001b[0m\n\u001b[1;32m    948\u001b[0m                     \u001b[0;31m# recurse\u001b[0m\u001b[0;34m\u001b[0m\u001b[0;34m\u001b[0m\u001b[0;34m\u001b[0m\u001b[0m\n\u001b[0;32m--> 949\u001b[0;31m                     \u001b[0mret\u001b[0m\u001b[0;34m.\u001b[0m\u001b[0mupdate\u001b[0m\u001b[0;34m(\u001b[0m\u001b[0mself\u001b[0m\u001b[0;34m.\u001b[0m\u001b[0m__get_subspec_values\u001b[0m\u001b[0;34m(\u001b[0m\u001b[0msub_builder\u001b[0m\u001b[0;34m,\u001b[0m \u001b[0msubspec\u001b[0m\u001b[0;34m,\u001b[0m \u001b[0mmanager\u001b[0m\u001b[0;34m)\u001b[0m\u001b[0;34m)\u001b[0m\u001b[0;34m\u001b[0m\u001b[0;34m\u001b[0m\u001b[0m\n\u001b[0m\u001b[1;32m    950\u001b[0m                 \u001b[0;32melse\u001b[0m\u001b[0;34m:\u001b[0m\u001b[0;34m\u001b[0m\u001b[0;34m\u001b[0m\u001b[0m\n\u001b[1;32m    951\u001b[0m                     \u001b[0mret\u001b[0m\u001b[0;34m[\u001b[0m\u001b[0msubspec\u001b[0m\u001b[0;34m]\u001b[0m \u001b[0;34m=\u001b[0m \u001b[0mmanager\u001b[0m\u001b[0;34m.\u001b[0m\u001b[0mconstruct\u001b[0m\u001b[0;34m(\u001b[0m\u001b[0msub_builder\u001b[0m\u001b[0;34m)\u001b[0m\u001b[0;34m\u001b[0m\u001b[0;34m\u001b[0m\u001b[0m\n",
      "\u001b[0;32m~/opt/anaconda3/envs/nwbdj/lib/python3.7/site-packages/hdmf/build/objectmapper.py\u001b[0m in \u001b[0;36m__get_subspec_values\u001b[0;34m(self, builder, spec, manager)\u001b[0m\n\u001b[1;32m    897\u001b[0m                         \u001b[0mret\u001b[0m\u001b[0;34m[\u001b[0m\u001b[0msubspec\u001b[0m\u001b[0;34m]\u001b[0m \u001b[0;34m=\u001b[0m \u001b[0mself\u001b[0m\u001b[0;34m.\u001b[0m\u001b[0m__flatten\u001b[0m\u001b[0;34m(\u001b[0m\u001b[0msub_builder\u001b[0m\u001b[0;34m,\u001b[0m \u001b[0msubspec\u001b[0m\u001b[0;34m,\u001b[0m \u001b[0mmanager\u001b[0m\u001b[0;34m)\u001b[0m\u001b[0;34m\u001b[0m\u001b[0;34m\u001b[0m\u001b[0m\n\u001b[1;32m    898\u001b[0m             \u001b[0;31m# now process groups and datasets\u001b[0m\u001b[0;34m\u001b[0m\u001b[0;34m\u001b[0m\u001b[0;34m\u001b[0m\u001b[0m\n\u001b[0;32m--> 899\u001b[0;31m             \u001b[0mself\u001b[0m\u001b[0;34m.\u001b[0m\u001b[0m__get_sub_builders\u001b[0m\u001b[0;34m(\u001b[0m\u001b[0mgroups\u001b[0m\u001b[0;34m,\u001b[0m \u001b[0mspec\u001b[0m\u001b[0;34m.\u001b[0m\u001b[0mgroups\u001b[0m\u001b[0;34m,\u001b[0m \u001b[0mmanager\u001b[0m\u001b[0;34m,\u001b[0m \u001b[0mret\u001b[0m\u001b[0;34m)\u001b[0m\u001b[0;34m\u001b[0m\u001b[0;34m\u001b[0m\u001b[0m\n\u001b[0m\u001b[1;32m    900\u001b[0m             \u001b[0mself\u001b[0m\u001b[0;34m.\u001b[0m\u001b[0m__get_sub_builders\u001b[0m\u001b[0;34m(\u001b[0m\u001b[0mdatasets\u001b[0m\u001b[0;34m,\u001b[0m \u001b[0mspec\u001b[0m\u001b[0;34m.\u001b[0m\u001b[0mdatasets\u001b[0m\u001b[0;34m,\u001b[0m \u001b[0mmanager\u001b[0m\u001b[0;34m,\u001b[0m \u001b[0mret\u001b[0m\u001b[0;34m)\u001b[0m\u001b[0;34m\u001b[0m\u001b[0;34m\u001b[0m\u001b[0m\n\u001b[1;32m    901\u001b[0m         \u001b[0;32melif\u001b[0m \u001b[0misinstance\u001b[0m\u001b[0;34m(\u001b[0m\u001b[0mspec\u001b[0m\u001b[0;34m,\u001b[0m \u001b[0mDatasetSpec\u001b[0m\u001b[0;34m)\u001b[0m\u001b[0;34m:\u001b[0m\u001b[0;34m\u001b[0m\u001b[0;34m\u001b[0m\u001b[0m\n",
      "\u001b[0;32m~/opt/anaconda3/envs/nwbdj/lib/python3.7/site-packages/hdmf/build/objectmapper.py\u001b[0m in \u001b[0;36m__get_sub_builders\u001b[0;34m(self, sub_builders, subspecs, manager, ret)\u001b[0m\n\u001b[1;32m    949\u001b[0m                     \u001b[0mret\u001b[0m\u001b[0;34m.\u001b[0m\u001b[0mupdate\u001b[0m\u001b[0;34m(\u001b[0m\u001b[0mself\u001b[0m\u001b[0;34m.\u001b[0m\u001b[0m__get_subspec_values\u001b[0m\u001b[0;34m(\u001b[0m\u001b[0msub_builder\u001b[0m\u001b[0;34m,\u001b[0m \u001b[0msubspec\u001b[0m\u001b[0;34m,\u001b[0m \u001b[0mmanager\u001b[0m\u001b[0;34m)\u001b[0m\u001b[0;34m)\u001b[0m\u001b[0;34m\u001b[0m\u001b[0;34m\u001b[0m\u001b[0m\n\u001b[1;32m    950\u001b[0m                 \u001b[0;32melse\u001b[0m\u001b[0;34m:\u001b[0m\u001b[0;34m\u001b[0m\u001b[0;34m\u001b[0m\u001b[0m\n\u001b[0;32m--> 951\u001b[0;31m                     \u001b[0mret\u001b[0m\u001b[0;34m[\u001b[0m\u001b[0msubspec\u001b[0m\u001b[0;34m]\u001b[0m \u001b[0;34m=\u001b[0m \u001b[0mmanager\u001b[0m\u001b[0;34m.\u001b[0m\u001b[0mconstruct\u001b[0m\u001b[0;34m(\u001b[0m\u001b[0msub_builder\u001b[0m\u001b[0;34m)\u001b[0m\u001b[0;34m\u001b[0m\u001b[0;34m\u001b[0m\u001b[0m\n\u001b[0m\u001b[1;32m    952\u001b[0m \u001b[0;34m\u001b[0m\u001b[0m\n\u001b[1;32m    953\u001b[0m     \u001b[0;32mdef\u001b[0m \u001b[0m__flatten\u001b[0m\u001b[0;34m(\u001b[0m\u001b[0mself\u001b[0m\u001b[0;34m,\u001b[0m \u001b[0msub_builder\u001b[0m\u001b[0;34m,\u001b[0m \u001b[0msubspec\u001b[0m\u001b[0;34m,\u001b[0m \u001b[0mmanager\u001b[0m\u001b[0;34m)\u001b[0m\u001b[0;34m:\u001b[0m\u001b[0;34m\u001b[0m\u001b[0;34m\u001b[0m\u001b[0m\n",
      "\u001b[0;32m~/opt/anaconda3/envs/nwbdj/lib/python3.7/site-packages/hdmf/utils.py\u001b[0m in \u001b[0;36mfunc_call\u001b[0;34m(*args, **kwargs)\u001b[0m\n\u001b[1;32m    481\u001b[0m \u001b[0;34m\u001b[0m\u001b[0m\n\u001b[1;32m    482\u001b[0m             \u001b[0;32mif\u001b[0m \u001b[0mis_method\u001b[0m\u001b[0;34m:\u001b[0m\u001b[0;34m\u001b[0m\u001b[0;34m\u001b[0m\u001b[0m\n\u001b[0;32m--> 483\u001b[0;31m                 \u001b[0;32mreturn\u001b[0m \u001b[0mfunc\u001b[0m\u001b[0;34m(\u001b[0m\u001b[0margs\u001b[0m\u001b[0;34m[\u001b[0m\u001b[0;36m0\u001b[0m\u001b[0;34m]\u001b[0m\u001b[0;34m,\u001b[0m \u001b[0;34m**\u001b[0m\u001b[0mparsed\u001b[0m\u001b[0;34m[\u001b[0m\u001b[0;34m'args'\u001b[0m\u001b[0;34m]\u001b[0m\u001b[0;34m)\u001b[0m\u001b[0;34m\u001b[0m\u001b[0;34m\u001b[0m\u001b[0m\n\u001b[0m\u001b[1;32m    484\u001b[0m             \u001b[0;32melse\u001b[0m\u001b[0;34m:\u001b[0m\u001b[0;34m\u001b[0m\u001b[0;34m\u001b[0m\u001b[0m\n\u001b[1;32m    485\u001b[0m                 \u001b[0;32mreturn\u001b[0m \u001b[0mfunc\u001b[0m\u001b[0;34m(\u001b[0m\u001b[0;34m**\u001b[0m\u001b[0mparsed\u001b[0m\u001b[0;34m[\u001b[0m\u001b[0;34m'args'\u001b[0m\u001b[0;34m]\u001b[0m\u001b[0;34m)\u001b[0m\u001b[0;34m\u001b[0m\u001b[0;34m\u001b[0m\u001b[0m\n",
      "\u001b[0;32m~/opt/anaconda3/envs/nwbdj/lib/python3.7/site-packages/hdmf/build/manager.py\u001b[0m in \u001b[0;36mconstruct\u001b[0;34m(self, **kwargs)\u001b[0m\n\u001b[1;32m    193\u001b[0m             \u001b[0;32mif\u001b[0m \u001b[0mparent_builder\u001b[0m \u001b[0;32mis\u001b[0m \u001b[0;32mnot\u001b[0m \u001b[0;32mNone\u001b[0m\u001b[0;34m:\u001b[0m\u001b[0;34m\u001b[0m\u001b[0;34m\u001b[0m\u001b[0m\n\u001b[1;32m    194\u001b[0m                 \u001b[0mparent\u001b[0m \u001b[0;34m=\u001b[0m \u001b[0mself\u001b[0m\u001b[0;34m.\u001b[0m\u001b[0m__get_proxy_builder\u001b[0m\u001b[0;34m(\u001b[0m\u001b[0mparent_builder\u001b[0m\u001b[0;34m)\u001b[0m\u001b[0;34m\u001b[0m\u001b[0;34m\u001b[0m\u001b[0m\n\u001b[0;32m--> 195\u001b[0;31m                 \u001b[0mresult\u001b[0m \u001b[0;34m=\u001b[0m \u001b[0mself\u001b[0m\u001b[0;34m.\u001b[0m\u001b[0m__type_map\u001b[0m\u001b[0;34m.\u001b[0m\u001b[0mconstruct\u001b[0m\u001b[0;34m(\u001b[0m\u001b[0mbuilder\u001b[0m\u001b[0;34m,\u001b[0m \u001b[0mself\u001b[0m\u001b[0;34m,\u001b[0m \u001b[0mparent\u001b[0m\u001b[0;34m)\u001b[0m\u001b[0;34m\u001b[0m\u001b[0;34m\u001b[0m\u001b[0m\n\u001b[0m\u001b[1;32m    196\u001b[0m             \u001b[0;32melse\u001b[0m\u001b[0;34m:\u001b[0m\u001b[0;34m\u001b[0m\u001b[0;34m\u001b[0m\u001b[0m\n\u001b[1;32m    197\u001b[0m                 \u001b[0;31m# we are at the top of the hierarchy,\u001b[0m\u001b[0;34m\u001b[0m\u001b[0;34m\u001b[0m\u001b[0;34m\u001b[0m\u001b[0m\n",
      "\u001b[0;32m~/opt/anaconda3/envs/nwbdj/lib/python3.7/site-packages/hdmf/utils.py\u001b[0m in \u001b[0;36mfunc_call\u001b[0;34m(*args, **kwargs)\u001b[0m\n\u001b[1;32m    481\u001b[0m \u001b[0;34m\u001b[0m\u001b[0m\n\u001b[1;32m    482\u001b[0m             \u001b[0;32mif\u001b[0m \u001b[0mis_method\u001b[0m\u001b[0;34m:\u001b[0m\u001b[0;34m\u001b[0m\u001b[0;34m\u001b[0m\u001b[0m\n\u001b[0;32m--> 483\u001b[0;31m                 \u001b[0;32mreturn\u001b[0m \u001b[0mfunc\u001b[0m\u001b[0;34m(\u001b[0m\u001b[0margs\u001b[0m\u001b[0;34m[\u001b[0m\u001b[0;36m0\u001b[0m\u001b[0;34m]\u001b[0m\u001b[0;34m,\u001b[0m \u001b[0;34m**\u001b[0m\u001b[0mparsed\u001b[0m\u001b[0;34m[\u001b[0m\u001b[0;34m'args'\u001b[0m\u001b[0;34m]\u001b[0m\u001b[0;34m)\u001b[0m\u001b[0;34m\u001b[0m\u001b[0;34m\u001b[0m\u001b[0m\n\u001b[0m\u001b[1;32m    484\u001b[0m             \u001b[0;32melse\u001b[0m\u001b[0;34m:\u001b[0m\u001b[0;34m\u001b[0m\u001b[0;34m\u001b[0m\u001b[0m\n\u001b[1;32m    485\u001b[0m                 \u001b[0;32mreturn\u001b[0m \u001b[0mfunc\u001b[0m\u001b[0;34m(\u001b[0m\u001b[0;34m**\u001b[0m\u001b[0mparsed\u001b[0m\u001b[0;34m[\u001b[0m\u001b[0;34m'args'\u001b[0m\u001b[0;34m]\u001b[0m\u001b[0;34m)\u001b[0m\u001b[0;34m\u001b[0m\u001b[0;34m\u001b[0m\u001b[0m\n",
      "\u001b[0;32m~/opt/anaconda3/envs/nwbdj/lib/python3.7/site-packages/hdmf/build/manager.py\u001b[0m in \u001b[0;36mconstruct\u001b[0;34m(self, **kwargs)\u001b[0m\n\u001b[1;32m    768\u001b[0m             \u001b[0;32mraise\u001b[0m \u001b[0mValueError\u001b[0m\u001b[0;34m(\u001b[0m\u001b[0;34m'No ObjectMapper found for builder of type %s'\u001b[0m \u001b[0;34m%\u001b[0m \u001b[0mdt\u001b[0m\u001b[0;34m)\u001b[0m\u001b[0;34m\u001b[0m\u001b[0;34m\u001b[0m\u001b[0m\n\u001b[1;32m    769\u001b[0m         \u001b[0;32melse\u001b[0m\u001b[0;34m:\u001b[0m\u001b[0;34m\u001b[0m\u001b[0;34m\u001b[0m\u001b[0m\n\u001b[0;32m--> 770\u001b[0;31m             \u001b[0;32mreturn\u001b[0m \u001b[0mobj_mapper\u001b[0m\u001b[0;34m.\u001b[0m\u001b[0mconstruct\u001b[0m\u001b[0;34m(\u001b[0m\u001b[0mbuilder\u001b[0m\u001b[0;34m,\u001b[0m \u001b[0mbuild_manager\u001b[0m\u001b[0;34m,\u001b[0m \u001b[0mparent\u001b[0m\u001b[0;34m)\u001b[0m\u001b[0;34m\u001b[0m\u001b[0;34m\u001b[0m\u001b[0m\n\u001b[0m\u001b[1;32m    771\u001b[0m \u001b[0;34m\u001b[0m\u001b[0m\n\u001b[1;32m    772\u001b[0m     @docval({\"name\": \"container\", \"type\": AbstractContainer, \"doc\": \"the container to convert to a Builder\"},\n",
      "\u001b[0;32m~/opt/anaconda3/envs/nwbdj/lib/python3.7/site-packages/hdmf/utils.py\u001b[0m in \u001b[0;36mfunc_call\u001b[0;34m(*args, **kwargs)\u001b[0m\n\u001b[1;32m    481\u001b[0m \u001b[0;34m\u001b[0m\u001b[0m\n\u001b[1;32m    482\u001b[0m             \u001b[0;32mif\u001b[0m \u001b[0mis_method\u001b[0m\u001b[0;34m:\u001b[0m\u001b[0;34m\u001b[0m\u001b[0;34m\u001b[0m\u001b[0m\n\u001b[0;32m--> 483\u001b[0;31m                 \u001b[0;32mreturn\u001b[0m \u001b[0mfunc\u001b[0m\u001b[0;34m(\u001b[0m\u001b[0margs\u001b[0m\u001b[0;34m[\u001b[0m\u001b[0;36m0\u001b[0m\u001b[0;34m]\u001b[0m\u001b[0;34m,\u001b[0m \u001b[0;34m**\u001b[0m\u001b[0mparsed\u001b[0m\u001b[0;34m[\u001b[0m\u001b[0;34m'args'\u001b[0m\u001b[0;34m]\u001b[0m\u001b[0;34m)\u001b[0m\u001b[0;34m\u001b[0m\u001b[0;34m\u001b[0m\u001b[0m\n\u001b[0m\u001b[1;32m    484\u001b[0m             \u001b[0;32melse\u001b[0m\u001b[0;34m:\u001b[0m\u001b[0;34m\u001b[0m\u001b[0;34m\u001b[0m\u001b[0m\n\u001b[1;32m    485\u001b[0m                 \u001b[0;32mreturn\u001b[0m \u001b[0mfunc\u001b[0m\u001b[0;34m(\u001b[0m\u001b[0;34m**\u001b[0m\u001b[0mparsed\u001b[0m\u001b[0;34m[\u001b[0m\u001b[0;34m'args'\u001b[0m\u001b[0;34m]\u001b[0m\u001b[0;34m)\u001b[0m\u001b[0;34m\u001b[0m\u001b[0;34m\u001b[0m\u001b[0m\n",
      "\u001b[0;32m~/opt/anaconda3/envs/nwbdj/lib/python3.7/site-packages/hdmf/build/objectmapper.py\u001b[0m in \u001b[0;36mconstruct\u001b[0;34m(self, **kwargs)\u001b[0m\n\u001b[1;32m   1002\u001b[0m         \u001b[0;32mexcept\u001b[0m \u001b[0mException\u001b[0m \u001b[0;32mas\u001b[0m \u001b[0mex\u001b[0m\u001b[0;34m:\u001b[0m\u001b[0;34m\u001b[0m\u001b[0;34m\u001b[0m\u001b[0m\n\u001b[1;32m   1003\u001b[0m             \u001b[0mmsg\u001b[0m \u001b[0;34m=\u001b[0m \u001b[0;34m'Could not construct %s object due to: %s'\u001b[0m \u001b[0;34m%\u001b[0m \u001b[0;34m(\u001b[0m\u001b[0mcls\u001b[0m\u001b[0;34m.\u001b[0m\u001b[0m__name__\u001b[0m\u001b[0;34m,\u001b[0m \u001b[0mex\u001b[0m\u001b[0;34m)\u001b[0m\u001b[0;34m\u001b[0m\u001b[0;34m\u001b[0m\u001b[0m\n\u001b[0;32m-> 1004\u001b[0;31m             \u001b[0;32mraise\u001b[0m \u001b[0mException\u001b[0m\u001b[0;34m(\u001b[0m\u001b[0mmsg\u001b[0m\u001b[0;34m)\u001b[0m \u001b[0;32mfrom\u001b[0m \u001b[0mex\u001b[0m\u001b[0;34m\u001b[0m\u001b[0;34m\u001b[0m\u001b[0m\n\u001b[0m\u001b[1;32m   1005\u001b[0m         \u001b[0;32mreturn\u001b[0m \u001b[0mobj\u001b[0m\u001b[0;34m\u001b[0m\u001b[0;34m\u001b[0m\u001b[0m\n\u001b[1;32m   1006\u001b[0m \u001b[0;34m\u001b[0m\u001b[0m\n",
      "\u001b[0;31mException\u001b[0m: Could not construct DynamicTable object due to: 'x'"
     ]
    }
   ],
   "source": [
    "common_filter.create_standard_filters()\n",
    "common_ephys.LFPElectrode().set_lfp_elect([1, 2, 3])\n",
    "common_ephys.LFP.populate()"
   ]
  },
  {
   "cell_type": "code",
   "execution_count": 8,
   "metadata": {},
   "outputs": [
    {
     "name": "stderr",
     "output_type": "stream",
     "text": [
      "/Users/loren/opt/anaconda3/envs/nwbdj/lib/python3.7/site-packages/datajoint/connection.py:218: UserWarning: MySQL server has gone away. Reconnecting to the server.\n",
      "  warnings.warn(\"MySQL server has gone away. Reconnecting to the server.\")\n"
     ]
    },
    {
     "name": "stdout",
     "output_type": "stream",
     "text": [
      "About to delete:\n",
      "`common_ephys`.`_electrode_config__electrode`: 134 items\n",
      "`common_ephys`.`_electrode_config__electrode_group`: 2 items\n",
      "`common_ephys`.`_electrode_config`: 1 items\n",
      "`common_behav`.`_raw_position`: 1 items\n",
      "`common_ephys`.`_raw`: 1 items\n",
      "`common_interval`.`interval_list`: 2 items\n",
      "`common_session`.`_experimenter_list__experimenter`: 1 items\n",
      "`common_session`.`_experimenter_list`: 1 items\n",
      "`common_session`.`_session`: 1 items\n",
      "`common_session`.`nwbfile`: 1 items\n"
     ]
    },
    {
     "name": "stdin",
     "output_type": "stream",
     "text": [
      "Proceed? [yes, No]:  yes\n"
     ]
    },
    {
     "name": "stdout",
     "output_type": "stream",
     "text": [
      "Committed.\n"
     ]
    }
   ],
   "source": [
    "common_session.Nwbfile().delete()"
   ]
  },
  {
   "cell_type": "code",
   "execution_count": null,
   "metadata": {},
   "outputs": [],
   "source": [
    "common_session.LinkedNwbfile()"
   ]
  },
  {
   "cell_type": "code",
   "execution_count": null,
   "metadata": {},
   "outputs": [],
   "source": [
    "interval_list = (common_interval.IntervalList() & {'nwb_file_name': nwb_file_name ,\n",
    "                                                           'interval_name': 'raw data valid times'}).fetch1('valid_times')"
   ]
  },
  {
   "cell_type": "code",
   "execution_count": 10,
   "metadata": {},
   "outputs": [
    {
     "name": "stdout",
     "output_type": "stream",
     "text": [
      "About to delete:\n",
      "`common_session`.`nwbfile`: 1 items\n"
     ]
    },
    {
     "name": "stdin",
     "output_type": "stream",
     "text": [
      "Proceed? [yes, No]:  yes\n"
     ]
    },
    {
     "name": "stdout",
     "output_type": "stream",
     "text": [
      "Committed.\n"
     ]
    }
   ],
   "source": [
    "common_session.Nwbfile().delete()"
   ]
  },
  {
   "cell_type": "code",
   "execution_count": 22,
   "metadata": {
    "jupyter": {
     "source_hidden": true
    }
   },
   "outputs": [],
   "source": [
    "common_filter.filter_data_nwb(nwb_file_name, timestamps, data, fs_orig, filter_b, interval_list, electrodes, decimation):\n"
   ]
  },
  {
   "cell_type": "code",
   "execution_count": 6,
   "metadata": {},
   "outputs": [],
   "source": [
    "#### And now that we have the data in DataJoint, we can do queries to find time intervals we might be interested in\n",
    "#### In the example below, we get all of the intervals where the task_name was sleep."
   ]
  },
  {
   "cell_type": "code",
   "execution_count": 7,
   "metadata": {},
   "outputs": [
    {
     "name": "stdout",
     "output_type": "stream",
     "text": [
      "`common_device`.`probe` (0 tuples)\n",
      "`common_device`.`probe__shank` (0 tuples)\n",
      "`common_device`.`probe__electrode` (0 tuples)\n",
      "`common_ephys`.`_electrode_config__electrode_group` (0 tuples)\n",
      "`common_ephys`.`_units` (0 tuples)\n",
      "`common_ephys`.`_electrode_config__electrode` (0 tuples)\n",
      "`common_ephys`.`l_f_p_electrode` (0 tuples)\n",
      "`common_ephys`.`__l_f_p` (0 tuples)\n",
      "`common_ephys`.`l_f_p_band_parameters` (0 tuples)\n",
      "`common_ephys`.`__l_f_p_band` (0 tuples)\n",
      "`common_ephys`.`__decomp_series` (0 tuples)\n"
     ]
    },
    {
     "name": "stdin",
     "output_type": "stream",
     "text": [
      "Proceed? [yes, No]:  yes\n"
     ]
    },
    {
     "name": "stdout",
     "output_type": "stream",
     "text": [
      "Tables dropped.  Restart kernel.\n"
     ]
    }
   ],
   "source": [
    "common_device.Probe.drop()"
   ]
  },
  {
   "cell_type": "code",
   "execution_count": 26,
   "metadata": {},
   "outputs": [
    {
     "data": {
      "text/plain": [
       "array([array([1.13614661e+09, 1.13614794e+09]),\n",
       "       array([1.13614908e+09, 1.13615003e+09]),\n",
       "       array([1.13615118e+09, 1.13615241e+09]),\n",
       "       array([1.13615411e+09, 1.13615495e+09])], dtype=object)"
      ]
     },
     "execution_count": 26,
     "metadata": {},
     "output_type": "execute_result"
    }
   ],
   "source": [
    "sleep_intervals['valid_times']"
   ]
  },
  {
   "cell_type": "code",
   "execution_count": 3,
   "metadata": {},
   "outputs": [
    {
     "ename": "NameError",
     "evalue": "name 'common_ephys' is not defined",
     "output_type": "error",
     "traceback": [
      "\u001b[0;31m---------------------------------------------------------------------------\u001b[0m",
      "\u001b[0;31mNameError\u001b[0m                                 Traceback (most recent call last)",
      "\u001b[0;32m<ipython-input-3-712b94a867c6>\u001b[0m in \u001b[0;36m<module>\u001b[0;34m\u001b[0m\n\u001b[0;32m----> 1\u001b[0;31m \u001b[0mcommon_ephys\u001b[0m\u001b[0;34m\u001b[0m\u001b[0;34m\u001b[0m\u001b[0m\n\u001b[0m",
      "\u001b[0;31mNameError\u001b[0m: name 'common_ephys' is not defined"
     ]
    }
   ],
   "source": [
    "common_ephys"
   ]
  },
  {
   "cell_type": "code",
   "execution_count": 1,
   "metadata": {},
   "outputs": [
    {
     "ename": "NameError",
     "evalue": "name 'common_session' is not defined",
     "output_type": "error",
     "traceback": [
      "\u001b[0;31m---------------------------------------------------------------------------\u001b[0m",
      "\u001b[0;31mNameError\u001b[0m                                 Traceback (most recent call last)",
      "\u001b[0;32m<ipython-input-1-1abb77e97984>\u001b[0m in \u001b[0;36m<module>\u001b[0;34m\u001b[0m\n\u001b[0;32m----> 1\u001b[0;31m \u001b[0mcommon_session\u001b[0m\u001b[0;34m.\u001b[0m\u001b[0mNwbfile\u001b[0m\u001b[0;34m.\u001b[0m\u001b[0mdrop\u001b[0m\u001b[0;34m(\u001b[0m\u001b[0;34m)\u001b[0m\u001b[0;34m\u001b[0m\u001b[0;34m\u001b[0m\u001b[0m\n\u001b[0m",
      "\u001b[0;31mNameError\u001b[0m: name 'common_session' is not defined"
     ]
    }
   ],
   "source": [
    "common_session.Nwbfile.drop()"
   ]
  },
  {
   "cell_type": "code",
   "execution_count": 21,
   "metadata": {},
   "outputs": [
    {
     "data": {
      "text/html": [
       "\n",
       "        \n",
       "        <style type=\"text/css\">\n",
       "            .Relation{\n",
       "                border-collapse:collapse;\n",
       "            }\n",
       "            .Relation th{\n",
       "                background: #A0A0A0; color: #ffffff; padding:4px; border:#f0e0e0 1px solid;\n",
       "                font-weight: normal; font-family: monospace; font-size: 100%;\n",
       "            }\n",
       "            .Relation td{\n",
       "                padding:4px; border:#f0e0e0 1px solid; font-size:100%;\n",
       "            }\n",
       "            .Relation tr:nth-child(odd){\n",
       "                background: #ffffff;\n",
       "            }\n",
       "            .Relation tr:nth-child(even){\n",
       "                background: #f3f1ff;\n",
       "            }\n",
       "            /* Tooltip container */\n",
       "            .djtooltip {\n",
       "            }\n",
       "            /* Tooltip text */\n",
       "            .djtooltip .djtooltiptext {\n",
       "                visibility: hidden;\n",
       "                width: 120px;\n",
       "                background-color: black;\n",
       "                color: #fff;\n",
       "                text-align: center;\n",
       "                padding: 5px 0;\n",
       "                border-radius: 6px;\n",
       "                /* Position the tooltip text - see examples below! */\n",
       "                position: absolute;\n",
       "                z-index: 1;\n",
       "            }\n",
       "            #primary {\n",
       "                font-weight: bold;\n",
       "                color: black;\n",
       "            }\n",
       "\n",
       "            #nonprimary {\n",
       "                font-weight: normal;\n",
       "                color: white;\n",
       "            }\n",
       "\n",
       "            /* Show the tooltip text when you mouse over the tooltip container */\n",
       "            .djtooltip:hover .djtooltiptext {\n",
       "                visibility: visible;\n",
       "            }\n",
       "        </style>\n",
       "        \n",
       "        <b></b>\n",
       "            <div style=\"max-height:1000px;max-width:1500px;overflow:auto;\">\n",
       "            <table border=\"1\" class=\"Relation\">\n",
       "                <thead> <tr style=\"text-align: right;\"> <th> <div class=\"djtooltip\">\n",
       "                                <p id=\"primary\">probe_type</p>\n",
       "                                <span class=\"djtooltiptext\"></span>\n",
       "                            </div></th><th><div class=\"djtooltip\">\n",
       "                                <p id=\"primary\">probe_shank</p>\n",
       "                                <span class=\"djtooltiptext\">shank number within probe</span>\n",
       "                            </div></th><th><div class=\"djtooltip\">\n",
       "                                <p id=\"primary\">probe_electrode</p>\n",
       "                                <span class=\"djtooltiptext\">electrode</span>\n",
       "                            </div></th><th><div class=\"djtooltip\">\n",
       "                                <p id=\"nonprimary\">contact_size</p>\n",
       "                                <span class=\"djtooltiptext\">(um) contact size</span>\n",
       "                            </div></th><th><div class=\"djtooltip\">\n",
       "                                <p id=\"nonprimary\">rel_x</p>\n",
       "                                <span class=\"djtooltiptext\">(um) x coordinate of the electrode within the probe</span>\n",
       "                            </div></th><th><div class=\"djtooltip\">\n",
       "                                <p id=\"nonprimary\">rel_y</p>\n",
       "                                <span class=\"djtooltiptext\">(um) y coordinate of the electrode within the probe</span>\n",
       "                            </div></th><th><div class=\"djtooltip\">\n",
       "                                <p id=\"nonprimary\">rel_z</p>\n",
       "                                <span class=\"djtooltiptext\">(um) z coordinate of the electrode within the probe</span>\n",
       "                            </div> </th> </tr> </thead>\n",
       "                <tbody> <tr> <td>128c-4s8mm6cm-20um-40um-sl</td>\n",
       "<td>0</td>\n",
       "<td>0</td>\n",
       "<td>20.0</td>\n",
       "<td>0.0</td>\n",
       "<td>0.0</td>\n",
       "<td>0.0</td></tr><tr><td>128c-4s8mm6cm-20um-40um-sl</td>\n",
       "<td>0</td>\n",
       "<td>1</td>\n",
       "<td>20.0</td>\n",
       "<td>0.0</td>\n",
       "<td>-40.0</td>\n",
       "<td>0.0</td></tr><tr><td>128c-4s8mm6cm-20um-40um-sl</td>\n",
       "<td>0</td>\n",
       "<td>2</td>\n",
       "<td>20.0</td>\n",
       "<td>0.0</td>\n",
       "<td>-80.0</td>\n",
       "<td>0.0</td></tr><tr><td>128c-4s8mm6cm-20um-40um-sl</td>\n",
       "<td>0</td>\n",
       "<td>3</td>\n",
       "<td>20.0</td>\n",
       "<td>0.0</td>\n",
       "<td>-120.0</td>\n",
       "<td>0.0</td></tr><tr><td>128c-4s8mm6cm-20um-40um-sl</td>\n",
       "<td>0</td>\n",
       "<td>4</td>\n",
       "<td>20.0</td>\n",
       "<td>0.0</td>\n",
       "<td>-160.0</td>\n",
       "<td>0.0</td></tr><tr><td>128c-4s8mm6cm-20um-40um-sl</td>\n",
       "<td>0</td>\n",
       "<td>5</td>\n",
       "<td>20.0</td>\n",
       "<td>0.0</td>\n",
       "<td>-200.0</td>\n",
       "<td>0.0</td></tr><tr><td>128c-4s8mm6cm-20um-40um-sl</td>\n",
       "<td>0</td>\n",
       "<td>6</td>\n",
       "<td>20.0</td>\n",
       "<td>0.0</td>\n",
       "<td>-240.0</td>\n",
       "<td>0.0</td></tr><tr><td>128c-4s8mm6cm-20um-40um-sl</td>\n",
       "<td>0</td>\n",
       "<td>7</td>\n",
       "<td>20.0</td>\n",
       "<td>0.0</td>\n",
       "<td>-280.0</td>\n",
       "<td>0.0</td></tr><tr><td>128c-4s8mm6cm-20um-40um-sl</td>\n",
       "<td>0</td>\n",
       "<td>8</td>\n",
       "<td>20.0</td>\n",
       "<td>0.0</td>\n",
       "<td>-320.0</td>\n",
       "<td>0.0</td></tr><tr><td>128c-4s8mm6cm-20um-40um-sl</td>\n",
       "<td>0</td>\n",
       "<td>9</td>\n",
       "<td>20.0</td>\n",
       "<td>0.0</td>\n",
       "<td>-360.0</td>\n",
       "<td>0.0</td></tr><tr><td>128c-4s8mm6cm-20um-40um-sl</td>\n",
       "<td>0</td>\n",
       "<td>10</td>\n",
       "<td>20.0</td>\n",
       "<td>0.0</td>\n",
       "<td>-400.0</td>\n",
       "<td>0.0</td></tr><tr><td>128c-4s8mm6cm-20um-40um-sl</td>\n",
       "<td>0</td>\n",
       "<td>11</td>\n",
       "<td>20.0</td>\n",
       "<td>0.0</td>\n",
       "<td>-440.0</td>\n",
       "<td>0.0</td> </tr> </tbody>\n",
       "            </table>\n",
       "            <p>...</p>\n",
       "            <p>Total: 128</p></div>\n",
       "            "
      ],
      "text/plain": [
       "*probe_type    *probe_shank   *probe_electro contact_size   rel_x     rel_y      rel_z    \n",
       "+------------+ +------------+ +------------+ +------------+ +-------+ +--------+ +-------+\n",
       "128c-4s8mm6cm- 0              0              20.0           0.0       0.0        0.0      \n",
       "128c-4s8mm6cm- 0              1              20.0           0.0       -40.0      0.0      \n",
       "128c-4s8mm6cm- 0              2              20.0           0.0       -80.0      0.0      \n",
       "128c-4s8mm6cm- 0              3              20.0           0.0       -120.0     0.0      \n",
       "128c-4s8mm6cm- 0              4              20.0           0.0       -160.0     0.0      \n",
       "128c-4s8mm6cm- 0              5              20.0           0.0       -200.0     0.0      \n",
       "128c-4s8mm6cm- 0              6              20.0           0.0       -240.0     0.0      \n",
       "128c-4s8mm6cm- 0              7              20.0           0.0       -280.0     0.0      \n",
       "128c-4s8mm6cm- 0              8              20.0           0.0       -320.0     0.0      \n",
       "128c-4s8mm6cm- 0              9              20.0           0.0       -360.0     0.0      \n",
       "128c-4s8mm6cm- 0              10             20.0           0.0       -400.0     0.0      \n",
       "128c-4s8mm6cm- 0              11             20.0           0.0       -440.0     0.0      \n",
       "   ...\n",
       " (Total: 128)"
      ]
     },
     "execution_count": 21,
     "metadata": {},
     "output_type": "execute_result"
    }
   ],
   "source": [
    "common_device.Probe().Electrode()"
   ]
  },
  {
   "cell_type": "code",
   "execution_count": 10,
   "metadata": {},
   "outputs": [],
   "source": [
    "common_ephys"
   ]
  },
  {
   "cell_type": "code",
   "execution_count": 5,
   "metadata": {},
   "outputs": [],
   "source": [
    "a = common_ephys.SpikeSortingGroup().set_by_electrode_group(nwb_file_name)"
   ]
  },
  {
   "cell_type": "code",
   "execution_count": 12,
   "metadata": {},
   "outputs": [],
   "source": [
    "rx, ry = (common_device.Probe.Electrode() & {'probe_electrode' : 0}).fetch('rel_x','rel_y')"
   ]
  },
  {
   "cell_type": "code",
   "execution_count": 20,
   "metadata": {},
   "outputs": [
    {
     "name": "stderr",
     "output_type": "stream",
     "text": [
      "[autoreload of common_ephys failed: Traceback (most recent call last):\n",
      "  File \"/Users/loren/opt/anaconda3/envs/nwbdj/lib/python3.7/site-packages/IPython/extensions/autoreload.py\", line 245, in check\n",
      "    superreload(m, reload, self.old_objects)\n",
      "  File \"/Users/loren/opt/anaconda3/envs/nwbdj/lib/python3.7/site-packages/IPython/extensions/autoreload.py\", line 410, in superreload\n",
      "    update_generic(old_obj, new_obj)\n",
      "  File \"/Users/loren/opt/anaconda3/envs/nwbdj/lib/python3.7/site-packages/IPython/extensions/autoreload.py\", line 347, in update_generic\n",
      "    update(a, b)\n",
      "  File \"/Users/loren/opt/anaconda3/envs/nwbdj/lib/python3.7/site-packages/IPython/extensions/autoreload.py\", line 302, in update_class\n",
      "    if update_generic(old_obj, new_obj): continue\n",
      "  File \"/Users/loren/opt/anaconda3/envs/nwbdj/lib/python3.7/site-packages/IPython/extensions/autoreload.py\", line 347, in update_generic\n",
      "    update(a, b)\n",
      "  File \"/Users/loren/opt/anaconda3/envs/nwbdj/lib/python3.7/site-packages/IPython/extensions/autoreload.py\", line 302, in update_class\n",
      "    if update_generic(old_obj, new_obj): continue\n",
      "  File \"/Users/loren/opt/anaconda3/envs/nwbdj/lib/python3.7/site-packages/IPython/extensions/autoreload.py\", line 347, in update_generic\n",
      "    update(a, b)\n",
      "  File \"/Users/loren/opt/anaconda3/envs/nwbdj/lib/python3.7/site-packages/IPython/extensions/autoreload.py\", line 302, in update_class\n",
      "    if update_generic(old_obj, new_obj): continue\n",
      "  File \"/Users/loren/opt/anaconda3/envs/nwbdj/lib/python3.7/site-packages/IPython/extensions/autoreload.py\", line 347, in update_generic\n",
      "    update(a, b)\n",
      "  File \"/Users/loren/opt/anaconda3/envs/nwbdj/lib/python3.7/site-packages/IPython/extensions/autoreload.py\", line 302, in update_class\n",
      "    if update_generic(old_obj, new_obj): continue\n",
      "RecursionError: maximum recursion depth exceeded while calling a Python object\n",
      "]\n"
     ]
    },
    {
     "name": "stdout",
     "output_type": "stream",
     "text": [
      "{0: {'channels': [0, 1, 2, 3, 4, 5, 6, 7, 9, 11, 13, 15, 17, 19, 21, 23, 25, 27, 29, 31], 'geometry': [[0.0, 0.0], [0.0, -40.0], [0.0, -80.0], [0.0, -120.0], [0.0, -160.0], [0.0, -200.0], [0.0, -240.0], [0.0, -280.0], [0.0, -360.0], [0.0, -440.0], [0.0, -520.0], [0.0, -600.0], [0.0, -680.0], [0.0, -760.0], [0.0, -840.0], [0.0, -920.0], [0.0, -1000.0], [0.0, -1080.0], [0.0, -1160.0], [0.0, -1240.0]], 'label': ['0', '1', '2', '3', '4', '5', '6', '7', '9', '11', '13', '15', '17', '19', '21', '23', '25', '27', '29', '31']}, 1: {'channels': [33, 35, 37, 39, 41, 43, 45, 47, 49, 51, 53, 55, 57, 59, 61, 63], 'geometry': [[345.0, -40.0], [345.0, -120.0], [345.0, -200.0], [345.0, -280.0], [345.0, -360.0], [345.0, -440.0], [345.0, -520.0], [345.0, -600.0], [345.0, -680.0], [345.0, -760.0], [345.0, -840.0], [345.0, -920.0], [345.0, -1000.0], [345.0, -1080.0], [345.0, -1160.0], [345.0, -1240.0]], 'label': ['33', '35', '37', '39', '41', '43', '45', '47', '49', '51', '53', '55', '57', '59', '61', '63']}, 2: {'channels': [65, 67, 69, 71, 73, 75, 77, 79, 81, 83, 85, 87, 89, 91, 93, 95], 'geometry': [[744.0, -40.0], [744.0, -120.0], [744.0, -200.0], [744.0, -280.0], [744.0, -360.0], [744.0, -440.0], [744.0, -520.0], [744.0, -600.0], [744.0, -680.0], [744.0, -760.0], [744.0, -840.0], [744.0, -920.0], [744.0, -1000.0], [744.0, -1080.0], [744.0, -1160.0], [744.0, -1240.0]], 'label': ['65', '67', '69', '71', '73', '75', '77', '79', '81', '83', '85', '87', '89', '91', '93', '95']}, 3: {'channels': [97, 99, 101, 103, 105, 107, 109, 111, 113, 115, 117, 119, 121, 123, 125, 127], 'geometry': [[1089.0, -40.0], [1089.0, -120.0], [1089.0, -200.0], [1089.0, -280.0], [1089.0, -360.0], [1089.0, -440.0], [1089.0, -520.0], [1089.0, -600.0], [1089.0, -680.0], [1089.0, -760.0], [1089.0, -840.0], [1089.0, -920.0], [1089.0, -1000.0], [1089.0, -1080.0], [1089.0, -1160.0], [1089.0, -1240.0]], 'label': ['97', '99', '101', '103', '105', '107', '109', '111', '113', '115', '117', '119', '121', '123', '125', '127']}, 4: {'channels': [129, 131, 133, 135, 137, 139, 141, 143, 145, 147, 149, 151, 153, 155, 157, 159], 'geometry': [[4.0, -40.0], [4.0, -120.0], [4.0, -200.0], [4.0, -280.0], [4.0, -360.0], [4.0, -440.0], [4.0, -520.0], [4.0, -600.0], [4.0, -680.0], [4.0, -760.0], [4.0, -840.0], [4.0, -920.0], [4.0, -1000.0], [4.0, -1080.0], [4.0, -1160.0], [4.0, -1240.0]], 'label': ['129', '131', '133', '135', '137', '139', '141', '143', '145', '147', '149', '151', '153', '155', '157', '159']}, 5: {'channels': [161, 163, 165, 167, 169, 171, 173, 175, 177, 179, 181, 183, 185, 187, 189, 191], 'geometry': [[349.0, -40.0], [349.0, -120.0], [349.0, -200.0], [349.0, -280.0], [349.0, -360.0], [349.0, -440.0], [349.0, -520.0], [349.0, -600.0], [349.0, -680.0], [349.0, -760.0], [349.0, -840.0], [349.0, -920.0], [349.0, -1000.0], [349.0, -1080.0], [349.0, -1160.0], [349.0, -1240.0]], 'label': ['161', '163', '165', '167', '169', '171', '173', '175', '177', '179', '181', '183', '185', '187', '189', '191']}, 6: {'channels': [193, 195, 197, 199, 201, 203, 205, 207, 209, 211, 213, 215, 217, 219, 221, 223], 'geometry': [[748.0, -40.0], [748.0, -120.0], [748.0, -200.0], [748.0, -280.0], [748.0, -360.0], [748.0, -440.0], [748.0, -520.0], [748.0, -600.0], [748.0, -680.0], [748.0, -760.0], [748.0, -840.0], [748.0, -920.0], [748.0, -1000.0], [748.0, -1080.0], [748.0, -1160.0], [748.0, -1240.0]], 'label': ['193', '195', '197', '199', '201', '203', '205', '207', '209', '211', '213', '215', '217', '219', '221', '223']}, 7: {'channels': [225, 227, 229, 231, 233, 235, 237, 239, 241, 243, 245, 247, 249, 251, 252, 253, 254, 255], 'geometry': [[1093.0, -40.0], [1093.0, -120.0], [1093.0, -200.0], [1093.0, -280.0], [1093.0, -360.0], [1093.0, -440.0], [1093.0, -520.0], [1093.0, -600.0], [1093.0, -680.0], [1093.0, -760.0], [1093.0, -840.0], [1093.0, -920.0], [1093.0, -1000.0], [1093.0, -1080.0], [1093.0, -1120.0], [1093.0, -1160.0], [1093.0, -1200.0], [1093.0, -1240.0]], 'label': ['225', '227', '229', '231', '233', '235', '237', '239', '241', '243', '245', '247', '249', '251', '252', '253', '254', '255']}}\n"
     ]
    }
   ],
   "source": [
    "common_ephys.SpikeSortingGroup().write_prb(nwb_file_name, '/data/nwb_builder_test_data/test.prb')"
   ]
  },
  {
   "cell_type": "code",
   "execution_count": 16,
   "metadata": {},
   "outputs": [
    {
     "name": "stdout",
     "output_type": "stream",
     "text": [
      "writing new NWB file /data/nwb_builder_test_data/beans20190718s100004.nwb\n"
     ]
    },
    {
     "name": "stderr",
     "output_type": "stream",
     "text": [
      "/Users/loren/opt/anaconda3/envs/nwbdj/lib/python3.7/site-packages/hdmf/backends/hdf5/h5tools.py:436: BrokenLinkWarning: /general/devices/probe 0\n",
      "  warnings.warn(os.path.join(h5obj.name, k), BrokenLinkWarning)\n"
     ]
    },
    {
     "name": "stdout",
     "output_type": "stream",
     "text": [
      "test append to created file: root pynwb.file.NWBFile at 0x4944538192\n",
      "Fields:\n",
      "  acquisition: {\n",
      "    e-series <class 'pynwb.ecephys.ElectricalSeries'>\n",
      "  }\n",
      "  devices: {\n",
      "    header_device <class 'abc.HeaderDevice'>\n",
      "  }\n",
      "  electrode_groups: {\n",
      "    electrode group 0 <class 'abc.NwbElectrodeGroup'>,\n",
      "    electrode group 1 <class 'abc.NwbElectrodeGroup'>\n",
      "  }\n",
      "  electrodes: electrodes <class 'hdmf.common.table.DynamicTable'>\n",
      "  epochs: epochs <class 'pynwb.epoch.TimeIntervals'>\n",
      "  experiment_description: Reinforcement learning\n",
      "  experimenter: ['Alison Comrie']\n",
      "  file_create_date: [datetime.datetime(2020, 5, 8, 18, 48, 20, 634706, tzinfo=tzoffset(None, -25200))]\n",
      "  identifier: 293c8f78-9197-11ea-b128-88e9fe59b5c6\n",
      "  institution: University of California, San Francisco\n",
      "  intervals: {\n",
      "    epochs <class 'pynwb.epoch.TimeIntervals'>\n",
      "  }\n",
      "  lab: Loren Frank\n",
      "  processing: {\n",
      "    behavior <class 'pynwb.base.ProcessingModule'>\n",
      "  }\n",
      "  session_description: Reinforcement leaarning\n",
      "  session_start_time: 2019-07-18 15:29:46.885000-07:00\n",
      "  subject: subject pynwb.file.Subject at 0x4941238736\n",
      "Fields:\n",
      "  description: Long Evans Rat\n",
      "  genotype: Wild Type\n",
      "  sex: Male\n",
      "  species: Rat\n",
      "  subject_id: Beans\n",
      "  weight: Unknown\n",
      "\n",
      "  timestamps_reference_time: 2019-07-18 15:29:46.885000-07:00\n",
      "\n"
     ]
    }
   ],
   "source": [
    "import os\n",
    "import pynwb\n",
    "import ndx_fl_novela.probe\n",
    "\n",
    "nwb_file_name = '/data/nwb_builder_test_data/beans20190718s1.nwb'\n",
    "\n",
    "in_io  = pynwb.NWBHDF5IO(nwb_file_name, 'r')\n",
    "nwbf_in = in_io.read()\n",
    "\n",
    "nwbf_out = nwbf_in.copy()\n",
    "\n",
    "\n",
    "n_linked_files = 4\n",
    "# name the file, adding the number of links with preceeding zeros\n",
    "nwb_out_file_name = os.path.splitext(nwb_file_name)[0] + str(n_linked_files).zfill(5) + '.nwb'\n",
    "\n",
    "# write the linked file\n",
    "print(f'writing new NWB file {nwb_out_file_name}')\n",
    "with pynwb.NWBHDF5IO(nwb_out_file_name, mode='a', manager=in_io.manager) as io:\n",
    "    io.write(nwbf_out)\n",
    "    \n",
    "io\n",
    "\n",
    "in_io.close()\n",
    "# test append to file - this works\n",
    "new_io = pynwb.NWBHDF5IO(nwb_out_file_name, 'a')\n",
    "nwbf_new = new_io.read()\n",
    "print(f'test append to created file: {nwbf_new}')\n",
    "new_io.write(nwbf_new)\n",
    "new_io.close()"
   ]
  },
  {
   "cell_type": "code",
   "execution_count": 11,
   "metadata": {},
   "outputs": [
    {
     "name": "stderr",
     "output_type": "stream",
     "text": [
      "[autoreload of common_ephys failed: Traceback (most recent call last):\n",
      "  File \"/Users/loren/opt/anaconda3/envs/nwbdj/lib/python3.7/site-packages/IPython/extensions/autoreload.py\", line 245, in check\n",
      "    superreload(m, reload, self.old_objects)\n",
      "  File \"/Users/loren/opt/anaconda3/envs/nwbdj/lib/python3.7/site-packages/IPython/extensions/autoreload.py\", line 410, in superreload\n",
      "    update_generic(old_obj, new_obj)\n",
      "  File \"/Users/loren/opt/anaconda3/envs/nwbdj/lib/python3.7/site-packages/IPython/extensions/autoreload.py\", line 347, in update_generic\n",
      "    update(a, b)\n",
      "  File \"/Users/loren/opt/anaconda3/envs/nwbdj/lib/python3.7/site-packages/IPython/extensions/autoreload.py\", line 302, in update_class\n",
      "    if update_generic(old_obj, new_obj): continue\n",
      "  File \"/Users/loren/opt/anaconda3/envs/nwbdj/lib/python3.7/site-packages/IPython/extensions/autoreload.py\", line 347, in update_generic\n",
      "    update(a, b)\n",
      "  File \"/Users/loren/opt/anaconda3/envs/nwbdj/lib/python3.7/site-packages/IPython/extensions/autoreload.py\", line 302, in update_class\n",
      "    if update_generic(old_obj, new_obj): continue\n",
      "  File \"/Users/loren/opt/anaconda3/envs/nwbdj/lib/python3.7/site-packages/IPython/extensions/autoreload.py\", line 347, in update_generic\n",
      "    update(a, b)\n",
      "  File \"/Users/loren/opt/anaconda3/envs/nwbdj/lib/python3.7/site-packages/IPython/extensions/autoreload.py\", line 302, in update_class\n",
      "    if update_generic(old_obj, new_obj): continue\n",
      "  File \"/Users/loren/opt/anaconda3/envs/nwbdj/lib/python3.7/site-packages/IPython/extensions/autoreload.py\", line 347, in update_generic\n",
      "    update(a, b)\n",
      "  File \"/Users/loren/opt/anaconda3/envs/nwbdj/lib/python3.7/site-packages/IPython/extensions/autoreload.py\", line 302, in update_class\n",
      "    if update_generic(old_obj, new_obj): continue\n",
      "RecursionError: maximum recursion depth exceeded while calling a Python object\n",
      "]\n"
     ]
    }
   ],
   "source": [
    "electrodes = (common_ephys.ElectrodeConfig.Electrode() & {'nwb_file_name' : nwb_file_name} & {'bad_channel' : 'False'}).fetch()"
   ]
  },
  {
   "cell_type": "code",
   "execution_count": 13,
   "metadata": {},
   "outputs": [
    {
     "name": "stderr",
     "output_type": "stream",
     "text": [
      "[autoreload of common_ephys failed: Traceback (most recent call last):\n",
      "  File \"/Users/loren/opt/anaconda3/envs/nwbdj/lib/python3.7/site-packages/IPython/extensions/autoreload.py\", line 245, in check\n",
      "    superreload(m, reload, self.old_objects)\n",
      "  File \"/Users/loren/opt/anaconda3/envs/nwbdj/lib/python3.7/site-packages/IPython/extensions/autoreload.py\", line 410, in superreload\n",
      "    update_generic(old_obj, new_obj)\n",
      "  File \"/Users/loren/opt/anaconda3/envs/nwbdj/lib/python3.7/site-packages/IPython/extensions/autoreload.py\", line 347, in update_generic\n",
      "    update(a, b)\n",
      "  File \"/Users/loren/opt/anaconda3/envs/nwbdj/lib/python3.7/site-packages/IPython/extensions/autoreload.py\", line 302, in update_class\n",
      "    if update_generic(old_obj, new_obj): continue\n",
      "  File \"/Users/loren/opt/anaconda3/envs/nwbdj/lib/python3.7/site-packages/IPython/extensions/autoreload.py\", line 347, in update_generic\n",
      "    update(a, b)\n",
      "  File \"/Users/loren/opt/anaconda3/envs/nwbdj/lib/python3.7/site-packages/IPython/extensions/autoreload.py\", line 302, in update_class\n",
      "    if update_generic(old_obj, new_obj): continue\n",
      "  File \"/Users/loren/opt/anaconda3/envs/nwbdj/lib/python3.7/site-packages/IPython/extensions/autoreload.py\", line 347, in update_generic\n",
      "    update(a, b)\n",
      "  File \"/Users/loren/opt/anaconda3/envs/nwbdj/lib/python3.7/site-packages/IPython/extensions/autoreload.py\", line 302, in update_class\n",
      "    if update_generic(old_obj, new_obj): continue\n",
      "  File \"/Users/loren/opt/anaconda3/envs/nwbdj/lib/python3.7/site-packages/IPython/extensions/autoreload.py\", line 347, in update_generic\n",
      "    update(a, b)\n",
      "  File \"/Users/loren/opt/anaconda3/envs/nwbdj/lib/python3.7/site-packages/IPython/extensions/autoreload.py\", line 302, in update_class\n",
      "    if update_generic(old_obj, new_obj): continue\n",
      "RecursionError: maximum recursion depth exceeded while calling a Python object\n",
      "]\n"
     ]
    },
    {
     "data": {
      "text/plain": [
       "array([('/data/nwb_builder_test_data/beans20190718_pp.nwb', '0',   0, '128c-4s8mm6cm-20um-40um-sl', 0,   0, 2, '0', 0., 0., 0., 'None', 0., 'False', 0., 0., 0., ''),\n",
       "       ('/data/nwb_builder_test_data/beans20190718_pp.nwb', '0',   1, '128c-4s8mm6cm-20um-40um-sl', 0,   1, 2, '1', 0., 0., 0., 'None', 0., 'False', 0., 0., 0., ''),\n",
       "       ('/data/nwb_builder_test_data/beans20190718_pp.nwb', '0',   2, '128c-4s8mm6cm-20um-40um-sl', 0,   2, 2, '2', 0., 0., 0., 'None', 0., 'False', 0., 0., 0., ''),\n",
       "       ('/data/nwb_builder_test_data/beans20190718_pp.nwb', '0',   3, '128c-4s8mm6cm-20um-40um-sl', 0,   3, 2, '3', 0., 0., 0., 'None', 0., 'False', 0., 0., 0., ''),\n",
       "       ('/data/nwb_builder_test_data/beans20190718_pp.nwb', '0',   4, '128c-4s8mm6cm-20um-40um-sl', 0,   4, 2, '4', 0., 0., 0., 'None', 0., 'False', 0., 0., 0., ''),\n",
       "       ('/data/nwb_builder_test_data/beans20190718_pp.nwb', '0',   5, '128c-4s8mm6cm-20um-40um-sl', 0,   5, 2, '5', 0., 0., 0., 'None', 0., 'False', 0., 0., 0., ''),\n",
       "       ('/data/nwb_builder_test_data/beans20190718_pp.nwb', '0',   6, '128c-4s8mm6cm-20um-40um-sl', 0,   6, 2, '6', 0., 0., 0., 'None', 0., 'False', 0., 0., 0., ''),\n",
       "       ('/data/nwb_builder_test_data/beans20190718_pp.nwb', '0',   7, '128c-4s8mm6cm-20um-40um-sl', 0,   7, 2, '7', 0., 0., 0., 'None', 0., 'False', 0., 0., 0., ''),\n",
       "       ('/data/nwb_builder_test_data/beans20190718_pp.nwb', '0',   9, '128c-4s8mm6cm-20um-40um-sl', 0,   9, 2, '9', 0., 0., 0., 'None', 0., 'False', 0., 0., 0., ''),\n",
       "       ('/data/nwb_builder_test_data/beans20190718_pp.nwb', '0',  11, '128c-4s8mm6cm-20um-40um-sl', 0,  11, 2, '11', 0., 0., 0., 'None', 0., 'False', 0., 0., 0., ''),\n",
       "       ('/data/nwb_builder_test_data/beans20190718_pp.nwb', '0',  13, '128c-4s8mm6cm-20um-40um-sl', 0,  13, 2, '13', 0., 0., 0., 'None', 0., 'False', 0., 0., 0., ''),\n",
       "       ('/data/nwb_builder_test_data/beans20190718_pp.nwb', '0',  15, '128c-4s8mm6cm-20um-40um-sl', 0,  15, 2, '15', 0., 0., 0., 'None', 0., 'False', 0., 0., 0., ''),\n",
       "       ('/data/nwb_builder_test_data/beans20190718_pp.nwb', '0',  17, '128c-4s8mm6cm-20um-40um-sl', 0,  17, 2, '17', 0., 0., 0., 'None', 0., 'False', 0., 0., 0., ''),\n",
       "       ('/data/nwb_builder_test_data/beans20190718_pp.nwb', '0',  19, '128c-4s8mm6cm-20um-40um-sl', 0,  19, 2, '19', 0., 0., 0., 'None', 0., 'False', 0., 0., 0., ''),\n",
       "       ('/data/nwb_builder_test_data/beans20190718_pp.nwb', '0',  21, '128c-4s8mm6cm-20um-40um-sl', 0,  21, 2, '21', 0., 0., 0., 'None', 0., 'False', 0., 0., 0., ''),\n",
       "       ('/data/nwb_builder_test_data/beans20190718_pp.nwb', '0',  23, '128c-4s8mm6cm-20um-40um-sl', 0,  23, 2, '23', 0., 0., 0., 'None', 0., 'False', 0., 0., 0., ''),\n",
       "       ('/data/nwb_builder_test_data/beans20190718_pp.nwb', '0',  25, '128c-4s8mm6cm-20um-40um-sl', 0,  25, 2, '25', 0., 0., 0., 'None', 0., 'False', 0., 0., 0., ''),\n",
       "       ('/data/nwb_builder_test_data/beans20190718_pp.nwb', '0',  27, '128c-4s8mm6cm-20um-40um-sl', 0,  27, 2, '27', 0., 0., 0., 'None', 0., 'False', 0., 0., 0., ''),\n",
       "       ('/data/nwb_builder_test_data/beans20190718_pp.nwb', '0',  29, '128c-4s8mm6cm-20um-40um-sl', 0,  29, 2, '29', 0., 0., 0., 'None', 0., 'False', 0., 0., 0., ''),\n",
       "       ('/data/nwb_builder_test_data/beans20190718_pp.nwb', '0',  31, '128c-4s8mm6cm-20um-40um-sl', 0,  31, 2, '31', 0., 0., 0., 'None', 0., 'False', 0., 0., 0., ''),\n",
       "       ('/data/nwb_builder_test_data/beans20190718_pp.nwb', '0',  33, '128c-4s8mm6cm-20um-40um-sl', 1,  33, 2, '33', 0., 0., 0., 'None', 0., 'False', 0., 0., 0., ''),\n",
       "       ('/data/nwb_builder_test_data/beans20190718_pp.nwb', '0',  35, '128c-4s8mm6cm-20um-40um-sl', 1,  35, 2, '35', 0., 0., 0., 'None', 0., 'False', 0., 0., 0., ''),\n",
       "       ('/data/nwb_builder_test_data/beans20190718_pp.nwb', '0',  37, '128c-4s8mm6cm-20um-40um-sl', 1,  37, 2, '37', 0., 0., 0., 'None', 0., 'False', 0., 0., 0., ''),\n",
       "       ('/data/nwb_builder_test_data/beans20190718_pp.nwb', '0',  39, '128c-4s8mm6cm-20um-40um-sl', 1,  39, 2, '39', 0., 0., 0., 'None', 0., 'False', 0., 0., 0., ''),\n",
       "       ('/data/nwb_builder_test_data/beans20190718_pp.nwb', '0',  41, '128c-4s8mm6cm-20um-40um-sl', 1,  41, 2, '41', 0., 0., 0., 'None', 0., 'False', 0., 0., 0., ''),\n",
       "       ('/data/nwb_builder_test_data/beans20190718_pp.nwb', '0',  43, '128c-4s8mm6cm-20um-40um-sl', 1,  43, 2, '43', 0., 0., 0., 'None', 0., 'False', 0., 0., 0., ''),\n",
       "       ('/data/nwb_builder_test_data/beans20190718_pp.nwb', '0',  45, '128c-4s8mm6cm-20um-40um-sl', 1,  45, 2, '45', 0., 0., 0., 'None', 0., 'False', 0., 0., 0., ''),\n",
       "       ('/data/nwb_builder_test_data/beans20190718_pp.nwb', '0',  47, '128c-4s8mm6cm-20um-40um-sl', 1,  47, 2, '47', 0., 0., 0., 'None', 0., 'False', 0., 0., 0., ''),\n",
       "       ('/data/nwb_builder_test_data/beans20190718_pp.nwb', '0',  49, '128c-4s8mm6cm-20um-40um-sl', 1,  49, 2, '49', 0., 0., 0., 'None', 0., 'False', 0., 0., 0., ''),\n",
       "       ('/data/nwb_builder_test_data/beans20190718_pp.nwb', '0',  51, '128c-4s8mm6cm-20um-40um-sl', 1,  51, 2, '51', 0., 0., 0., 'None', 0., 'False', 0., 0., 0., ''),\n",
       "       ('/data/nwb_builder_test_data/beans20190718_pp.nwb', '0',  53, '128c-4s8mm6cm-20um-40um-sl', 1,  53, 2, '53', 0., 0., 0., 'None', 0., 'False', 0., 0., 0., ''),\n",
       "       ('/data/nwb_builder_test_data/beans20190718_pp.nwb', '0',  55, '128c-4s8mm6cm-20um-40um-sl', 1,  55, 2, '55', 0., 0., 0., 'None', 0., 'False', 0., 0., 0., ''),\n",
       "       ('/data/nwb_builder_test_data/beans20190718_pp.nwb', '0',  57, '128c-4s8mm6cm-20um-40um-sl', 1,  57, 2, '57', 0., 0., 0., 'None', 0., 'False', 0., 0., 0., ''),\n",
       "       ('/data/nwb_builder_test_data/beans20190718_pp.nwb', '0',  59, '128c-4s8mm6cm-20um-40um-sl', 1,  59, 2, '59', 0., 0., 0., 'None', 0., 'False', 0., 0., 0., ''),\n",
       "       ('/data/nwb_builder_test_data/beans20190718_pp.nwb', '0',  61, '128c-4s8mm6cm-20um-40um-sl', 1,  61, 2, '61', 0., 0., 0., 'None', 0., 'False', 0., 0., 0., ''),\n",
       "       ('/data/nwb_builder_test_data/beans20190718_pp.nwb', '0',  63, '128c-4s8mm6cm-20um-40um-sl', 1,  63, 2, '63', 0., 0., 0., 'None', 0., 'False', 0., 0., 0., ''),\n",
       "       ('/data/nwb_builder_test_data/beans20190718_pp.nwb', '0',  65, '128c-4s8mm6cm-20um-40um-sl', 2,  65, 2, '65', 0., 0., 0., 'None', 0., 'False', 0., 0., 0., ''),\n",
       "       ('/data/nwb_builder_test_data/beans20190718_pp.nwb', '0',  67, '128c-4s8mm6cm-20um-40um-sl', 2,  67, 2, '67', 0., 0., 0., 'None', 0., 'False', 0., 0., 0., ''),\n",
       "       ('/data/nwb_builder_test_data/beans20190718_pp.nwb', '0',  69, '128c-4s8mm6cm-20um-40um-sl', 2,  69, 2, '69', 0., 0., 0., 'None', 0., 'False', 0., 0., 0., ''),\n",
       "       ('/data/nwb_builder_test_data/beans20190718_pp.nwb', '0',  71, '128c-4s8mm6cm-20um-40um-sl', 2,  71, 2, '71', 0., 0., 0., 'None', 0., 'False', 0., 0., 0., ''),\n",
       "       ('/data/nwb_builder_test_data/beans20190718_pp.nwb', '0',  73, '128c-4s8mm6cm-20um-40um-sl', 2,  73, 2, '73', 0., 0., 0., 'None', 0., 'False', 0., 0., 0., ''),\n",
       "       ('/data/nwb_builder_test_data/beans20190718_pp.nwb', '0',  75, '128c-4s8mm6cm-20um-40um-sl', 2,  75, 2, '75', 0., 0., 0., 'None', 0., 'False', 0., 0., 0., ''),\n",
       "       ('/data/nwb_builder_test_data/beans20190718_pp.nwb', '0',  77, '128c-4s8mm6cm-20um-40um-sl', 2,  77, 2, '77', 0., 0., 0., 'None', 0., 'False', 0., 0., 0., ''),\n",
       "       ('/data/nwb_builder_test_data/beans20190718_pp.nwb', '0',  79, '128c-4s8mm6cm-20um-40um-sl', 2,  79, 2, '79', 0., 0., 0., 'None', 0., 'False', 0., 0., 0., ''),\n",
       "       ('/data/nwb_builder_test_data/beans20190718_pp.nwb', '0',  81, '128c-4s8mm6cm-20um-40um-sl', 2,  81, 2, '81', 0., 0., 0., 'None', 0., 'False', 0., 0., 0., ''),\n",
       "       ('/data/nwb_builder_test_data/beans20190718_pp.nwb', '0',  83, '128c-4s8mm6cm-20um-40um-sl', 2,  83, 2, '83', 0., 0., 0., 'None', 0., 'False', 0., 0., 0., ''),\n",
       "       ('/data/nwb_builder_test_data/beans20190718_pp.nwb', '0',  85, '128c-4s8mm6cm-20um-40um-sl', 2,  85, 2, '85', 0., 0., 0., 'None', 0., 'False', 0., 0., 0., ''),\n",
       "       ('/data/nwb_builder_test_data/beans20190718_pp.nwb', '0',  87, '128c-4s8mm6cm-20um-40um-sl', 2,  87, 2, '87', 0., 0., 0., 'None', 0., 'False', 0., 0., 0., ''),\n",
       "       ('/data/nwb_builder_test_data/beans20190718_pp.nwb', '0',  89, '128c-4s8mm6cm-20um-40um-sl', 2,  89, 2, '89', 0., 0., 0., 'None', 0., 'False', 0., 0., 0., ''),\n",
       "       ('/data/nwb_builder_test_data/beans20190718_pp.nwb', '0',  91, '128c-4s8mm6cm-20um-40um-sl', 2,  91, 2, '91', 0., 0., 0., 'None', 0., 'False', 0., 0., 0., ''),\n",
       "       ('/data/nwb_builder_test_data/beans20190718_pp.nwb', '0',  93, '128c-4s8mm6cm-20um-40um-sl', 2,  93, 2, '93', 0., 0., 0., 'None', 0., 'False', 0., 0., 0., ''),\n",
       "       ('/data/nwb_builder_test_data/beans20190718_pp.nwb', '0',  95, '128c-4s8mm6cm-20um-40um-sl', 2,  95, 2, '95', 0., 0., 0., 'None', 0., 'False', 0., 0., 0., ''),\n",
       "       ('/data/nwb_builder_test_data/beans20190718_pp.nwb', '0',  97, '128c-4s8mm6cm-20um-40um-sl', 3,  97, 2, '97', 0., 0., 0., 'None', 0., 'False', 0., 0., 0., ''),\n",
       "       ('/data/nwb_builder_test_data/beans20190718_pp.nwb', '0',  99, '128c-4s8mm6cm-20um-40um-sl', 3,  99, 2, '99', 0., 0., 0., 'None', 0., 'False', 0., 0., 0., ''),\n",
       "       ('/data/nwb_builder_test_data/beans20190718_pp.nwb', '0', 101, '128c-4s8mm6cm-20um-40um-sl', 3, 101, 2, '101', 0., 0., 0., 'None', 0., 'False', 0., 0., 0., ''),\n",
       "       ('/data/nwb_builder_test_data/beans20190718_pp.nwb', '0', 103, '128c-4s8mm6cm-20um-40um-sl', 3, 103, 2, '103', 0., 0., 0., 'None', 0., 'False', 0., 0., 0., ''),\n",
       "       ('/data/nwb_builder_test_data/beans20190718_pp.nwb', '0', 105, '128c-4s8mm6cm-20um-40um-sl', 3, 105, 2, '105', 0., 0., 0., 'None', 0., 'False', 0., 0., 0., ''),\n",
       "       ('/data/nwb_builder_test_data/beans20190718_pp.nwb', '0', 107, '128c-4s8mm6cm-20um-40um-sl', 3, 107, 2, '107', 0., 0., 0., 'None', 0., 'False', 0., 0., 0., ''),\n",
       "       ('/data/nwb_builder_test_data/beans20190718_pp.nwb', '0', 109, '128c-4s8mm6cm-20um-40um-sl', 3, 109, 2, '109', 0., 0., 0., 'None', 0., 'False', 0., 0., 0., ''),\n",
       "       ('/data/nwb_builder_test_data/beans20190718_pp.nwb', '0', 111, '128c-4s8mm6cm-20um-40um-sl', 3, 111, 2, '111', 0., 0., 0., 'None', 0., 'False', 0., 0., 0., ''),\n",
       "       ('/data/nwb_builder_test_data/beans20190718_pp.nwb', '0', 113, '128c-4s8mm6cm-20um-40um-sl', 3, 113, 2, '113', 0., 0., 0., 'None', 0., 'False', 0., 0., 0., ''),\n",
       "       ('/data/nwb_builder_test_data/beans20190718_pp.nwb', '0', 115, '128c-4s8mm6cm-20um-40um-sl', 3, 115, 2, '115', 0., 0., 0., 'None', 0., 'False', 0., 0., 0., ''),\n",
       "       ('/data/nwb_builder_test_data/beans20190718_pp.nwb', '0', 117, '128c-4s8mm6cm-20um-40um-sl', 3, 117, 2, '117', 0., 0., 0., 'None', 0., 'False', 0., 0., 0., ''),\n",
       "       ('/data/nwb_builder_test_data/beans20190718_pp.nwb', '0', 119, '128c-4s8mm6cm-20um-40um-sl', 3, 119, 2, '119', 0., 0., 0., 'None', 0., 'False', 0., 0., 0., ''),\n",
       "       ('/data/nwb_builder_test_data/beans20190718_pp.nwb', '0', 121, '128c-4s8mm6cm-20um-40um-sl', 3, 121, 2, '121', 0., 0., 0., 'None', 0., 'False', 0., 0., 0., ''),\n",
       "       ('/data/nwb_builder_test_data/beans20190718_pp.nwb', '0', 123, '128c-4s8mm6cm-20um-40um-sl', 3, 123, 2, '123', 0., 0., 0., 'None', 0., 'False', 0., 0., 0., ''),\n",
       "       ('/data/nwb_builder_test_data/beans20190718_pp.nwb', '0', 125, '128c-4s8mm6cm-20um-40um-sl', 3, 125, 2, '125', 0., 0., 0., 'None', 0., 'False', 0., 0., 0., ''),\n",
       "       ('/data/nwb_builder_test_data/beans20190718_pp.nwb', '0', 127, '128c-4s8mm6cm-20um-40um-sl', 3, 127, 2, '127', 0., 0., 0., 'None', 0., 'False', 0., 0., 0., ''),\n",
       "       ('/data/nwb_builder_test_data/beans20190718_pp.nwb', '1', 129, '128c-4s8mm6cm-20um-40um-sl', 0,   1, 2, '129', 0., 0., 0., 'None', 0., 'False', 0., 0., 0., ''),\n",
       "       ('/data/nwb_builder_test_data/beans20190718_pp.nwb', '1', 131, '128c-4s8mm6cm-20um-40um-sl', 0,   3, 2, '131', 0., 0., 0., 'None', 0., 'False', 0., 0., 0., ''),\n",
       "       ('/data/nwb_builder_test_data/beans20190718_pp.nwb', '1', 133, '128c-4s8mm6cm-20um-40um-sl', 0,   5, 2, '133', 0., 0., 0., 'None', 0., 'False', 0., 0., 0., ''),\n",
       "       ('/data/nwb_builder_test_data/beans20190718_pp.nwb', '1', 135, '128c-4s8mm6cm-20um-40um-sl', 0,   7, 2, '135', 0., 0., 0., 'None', 0., 'False', 0., 0., 0., ''),\n",
       "       ('/data/nwb_builder_test_data/beans20190718_pp.nwb', '1', 137, '128c-4s8mm6cm-20um-40um-sl', 0,   9, 2, '137', 0., 0., 0., 'None', 0., 'False', 0., 0., 0., ''),\n",
       "       ('/data/nwb_builder_test_data/beans20190718_pp.nwb', '1', 139, '128c-4s8mm6cm-20um-40um-sl', 0,  11, 2, '139', 0., 0., 0., 'None', 0., 'False', 0., 0., 0., ''),\n",
       "       ('/data/nwb_builder_test_data/beans20190718_pp.nwb', '1', 141, '128c-4s8mm6cm-20um-40um-sl', 0,  13, 2, '141', 0., 0., 0., 'None', 0., 'False', 0., 0., 0., ''),\n",
       "       ('/data/nwb_builder_test_data/beans20190718_pp.nwb', '1', 143, '128c-4s8mm6cm-20um-40um-sl', 0,  15, 2, '143', 0., 0., 0., 'None', 0., 'False', 0., 0., 0., ''),\n",
       "       ('/data/nwb_builder_test_data/beans20190718_pp.nwb', '1', 145, '128c-4s8mm6cm-20um-40um-sl', 0,  17, 2, '145', 0., 0., 0., 'None', 0., 'False', 0., 0., 0., ''),\n",
       "       ('/data/nwb_builder_test_data/beans20190718_pp.nwb', '1', 147, '128c-4s8mm6cm-20um-40um-sl', 0,  19, 2, '147', 0., 0., 0., 'None', 0., 'False', 0., 0., 0., ''),\n",
       "       ('/data/nwb_builder_test_data/beans20190718_pp.nwb', '1', 149, '128c-4s8mm6cm-20um-40um-sl', 0,  21, 2, '149', 0., 0., 0., 'None', 0., 'False', 0., 0., 0., ''),\n",
       "       ('/data/nwb_builder_test_data/beans20190718_pp.nwb', '1', 151, '128c-4s8mm6cm-20um-40um-sl', 0,  23, 2, '151', 0., 0., 0., 'None', 0., 'False', 0., 0., 0., ''),\n",
       "       ('/data/nwb_builder_test_data/beans20190718_pp.nwb', '1', 153, '128c-4s8mm6cm-20um-40um-sl', 0,  25, 2, '153', 0., 0., 0., 'None', 0., 'False', 0., 0., 0., ''),\n",
       "       ('/data/nwb_builder_test_data/beans20190718_pp.nwb', '1', 155, '128c-4s8mm6cm-20um-40um-sl', 0,  27, 2, '155', 0., 0., 0., 'None', 0., 'False', 0., 0., 0., ''),\n",
       "       ('/data/nwb_builder_test_data/beans20190718_pp.nwb', '1', 157, '128c-4s8mm6cm-20um-40um-sl', 0,  29, 2, '157', 0., 0., 0., 'None', 0., 'False', 0., 0., 0., ''),\n",
       "       ('/data/nwb_builder_test_data/beans20190718_pp.nwb', '1', 159, '128c-4s8mm6cm-20um-40um-sl', 0,  31, 2, '159', 0., 0., 0., 'None', 0., 'False', 0., 0., 0., ''),\n",
       "       ('/data/nwb_builder_test_data/beans20190718_pp.nwb', '1', 161, '128c-4s8mm6cm-20um-40um-sl', 1,  33, 2, '161', 0., 0., 0., 'None', 0., 'False', 0., 0., 0., ''),\n",
       "       ('/data/nwb_builder_test_data/beans20190718_pp.nwb', '1', 163, '128c-4s8mm6cm-20um-40um-sl', 1,  35, 2, '163', 0., 0., 0., 'None', 0., 'False', 0., 0., 0., ''),\n",
       "       ('/data/nwb_builder_test_data/beans20190718_pp.nwb', '1', 165, '128c-4s8mm6cm-20um-40um-sl', 1,  37, 2, '165', 0., 0., 0., 'None', 0., 'False', 0., 0., 0., ''),\n",
       "       ('/data/nwb_builder_test_data/beans20190718_pp.nwb', '1', 167, '128c-4s8mm6cm-20um-40um-sl', 1,  39, 2, '167', 0., 0., 0., 'None', 0., 'False', 0., 0., 0., ''),\n",
       "       ('/data/nwb_builder_test_data/beans20190718_pp.nwb', '1', 169, '128c-4s8mm6cm-20um-40um-sl', 1,  41, 2, '169', 0., 0., 0., 'None', 0., 'False', 0., 0., 0., ''),\n",
       "       ('/data/nwb_builder_test_data/beans20190718_pp.nwb', '1', 171, '128c-4s8mm6cm-20um-40um-sl', 1,  43, 2, '171', 0., 0., 0., 'None', 0., 'False', 0., 0., 0., ''),\n",
       "       ('/data/nwb_builder_test_data/beans20190718_pp.nwb', '1', 173, '128c-4s8mm6cm-20um-40um-sl', 1,  45, 2, '173', 0., 0., 0., 'None', 0., 'False', 0., 0., 0., ''),\n",
       "       ('/data/nwb_builder_test_data/beans20190718_pp.nwb', '1', 175, '128c-4s8mm6cm-20um-40um-sl', 1,  47, 2, '175', 0., 0., 0., 'None', 0., 'False', 0., 0., 0., ''),\n",
       "       ('/data/nwb_builder_test_data/beans20190718_pp.nwb', '1', 177, '128c-4s8mm6cm-20um-40um-sl', 1,  49, 2, '177', 0., 0., 0., 'None', 0., 'False', 0., 0., 0., ''),\n",
       "       ('/data/nwb_builder_test_data/beans20190718_pp.nwb', '1', 179, '128c-4s8mm6cm-20um-40um-sl', 1,  51, 2, '179', 0., 0., 0., 'None', 0., 'False', 0., 0., 0., ''),\n",
       "       ('/data/nwb_builder_test_data/beans20190718_pp.nwb', '1', 181, '128c-4s8mm6cm-20um-40um-sl', 1,  53, 2, '181', 0., 0., 0., 'None', 0., 'False', 0., 0., 0., ''),\n",
       "       ('/data/nwb_builder_test_data/beans20190718_pp.nwb', '1', 183, '128c-4s8mm6cm-20um-40um-sl', 1,  55, 2, '183', 0., 0., 0., 'None', 0., 'False', 0., 0., 0., ''),\n",
       "       ('/data/nwb_builder_test_data/beans20190718_pp.nwb', '1', 185, '128c-4s8mm6cm-20um-40um-sl', 1,  57, 2, '185', 0., 0., 0., 'None', 0., 'False', 0., 0., 0., ''),\n",
       "       ('/data/nwb_builder_test_data/beans20190718_pp.nwb', '1', 187, '128c-4s8mm6cm-20um-40um-sl', 1,  59, 2, '187', 0., 0., 0., 'None', 0., 'False', 0., 0., 0., ''),\n",
       "       ('/data/nwb_builder_test_data/beans20190718_pp.nwb', '1', 189, '128c-4s8mm6cm-20um-40um-sl', 1,  61, 2, '189', 0., 0., 0., 'None', 0., 'False', 0., 0., 0., ''),\n",
       "       ('/data/nwb_builder_test_data/beans20190718_pp.nwb', '1', 191, '128c-4s8mm6cm-20um-40um-sl', 1,  63, 2, '191', 0., 0., 0., 'None', 0., 'False', 0., 0., 0., ''),\n",
       "       ('/data/nwb_builder_test_data/beans20190718_pp.nwb', '1', 193, '128c-4s8mm6cm-20um-40um-sl', 2,  65, 2, '193', 0., 0., 0., 'None', 0., 'False', 0., 0., 0., ''),\n",
       "       ('/data/nwb_builder_test_data/beans20190718_pp.nwb', '1', 195, '128c-4s8mm6cm-20um-40um-sl', 2,  67, 2, '195', 0., 0., 0., 'None', 0., 'False', 0., 0., 0., ''),\n",
       "       ('/data/nwb_builder_test_data/beans20190718_pp.nwb', '1', 197, '128c-4s8mm6cm-20um-40um-sl', 2,  69, 2, '197', 0., 0., 0., 'None', 0., 'False', 0., 0., 0., ''),\n",
       "       ('/data/nwb_builder_test_data/beans20190718_pp.nwb', '1', 199, '128c-4s8mm6cm-20um-40um-sl', 2,  71, 2, '199', 0., 0., 0., 'None', 0., 'False', 0., 0., 0., ''),\n",
       "       ('/data/nwb_builder_test_data/beans20190718_pp.nwb', '1', 201, '128c-4s8mm6cm-20um-40um-sl', 2,  73, 2, '201', 0., 0., 0., 'None', 0., 'False', 0., 0., 0., ''),\n",
       "       ('/data/nwb_builder_test_data/beans20190718_pp.nwb', '1', 203, '128c-4s8mm6cm-20um-40um-sl', 2,  75, 2, '203', 0., 0., 0., 'None', 0., 'False', 0., 0., 0., ''),\n",
       "       ('/data/nwb_builder_test_data/beans20190718_pp.nwb', '1', 205, '128c-4s8mm6cm-20um-40um-sl', 2,  77, 2, '205', 0., 0., 0., 'None', 0., 'False', 0., 0., 0., ''),\n",
       "       ('/data/nwb_builder_test_data/beans20190718_pp.nwb', '1', 207, '128c-4s8mm6cm-20um-40um-sl', 2,  79, 2, '207', 0., 0., 0., 'None', 0., 'False', 0., 0., 0., ''),\n",
       "       ('/data/nwb_builder_test_data/beans20190718_pp.nwb', '1', 209, '128c-4s8mm6cm-20um-40um-sl', 2,  81, 2, '209', 0., 0., 0., 'None', 0., 'False', 0., 0., 0., ''),\n",
       "       ('/data/nwb_builder_test_data/beans20190718_pp.nwb', '1', 211, '128c-4s8mm6cm-20um-40um-sl', 2,  83, 2, '211', 0., 0., 0., 'None', 0., 'False', 0., 0., 0., ''),\n",
       "       ('/data/nwb_builder_test_data/beans20190718_pp.nwb', '1', 213, '128c-4s8mm6cm-20um-40um-sl', 2,  85, 2, '213', 0., 0., 0., 'None', 0., 'False', 0., 0., 0., ''),\n",
       "       ('/data/nwb_builder_test_data/beans20190718_pp.nwb', '1', 215, '128c-4s8mm6cm-20um-40um-sl', 2,  87, 2, '215', 0., 0., 0., 'None', 0., 'False', 0., 0., 0., ''),\n",
       "       ('/data/nwb_builder_test_data/beans20190718_pp.nwb', '1', 217, '128c-4s8mm6cm-20um-40um-sl', 2,  89, 2, '217', 0., 0., 0., 'None', 0., 'False', 0., 0., 0., ''),\n",
       "       ('/data/nwb_builder_test_data/beans20190718_pp.nwb', '1', 219, '128c-4s8mm6cm-20um-40um-sl', 2,  91, 2, '219', 0., 0., 0., 'None', 0., 'False', 0., 0., 0., ''),\n",
       "       ('/data/nwb_builder_test_data/beans20190718_pp.nwb', '1', 221, '128c-4s8mm6cm-20um-40um-sl', 2,  93, 2, '221', 0., 0., 0., 'None', 0., 'False', 0., 0., 0., ''),\n",
       "       ('/data/nwb_builder_test_data/beans20190718_pp.nwb', '1', 223, '128c-4s8mm6cm-20um-40um-sl', 2,  95, 2, '223', 0., 0., 0., 'None', 0., 'False', 0., 0., 0., ''),\n",
       "       ('/data/nwb_builder_test_data/beans20190718_pp.nwb', '1', 225, '128c-4s8mm6cm-20um-40um-sl', 3,  97, 2, '225', 0., 0., 0., 'None', 0., 'False', 0., 0., 0., ''),\n",
       "       ('/data/nwb_builder_test_data/beans20190718_pp.nwb', '1', 227, '128c-4s8mm6cm-20um-40um-sl', 3,  99, 2, '227', 0., 0., 0., 'None', 0., 'False', 0., 0., 0., ''),\n",
       "       ('/data/nwb_builder_test_data/beans20190718_pp.nwb', '1', 229, '128c-4s8mm6cm-20um-40um-sl', 3, 101, 2, '229', 0., 0., 0., 'None', 0., 'False', 0., 0., 0., ''),\n",
       "       ('/data/nwb_builder_test_data/beans20190718_pp.nwb', '1', 231, '128c-4s8mm6cm-20um-40um-sl', 3, 103, 2, '231', 0., 0., 0., 'None', 0., 'False', 0., 0., 0., ''),\n",
       "       ('/data/nwb_builder_test_data/beans20190718_pp.nwb', '1', 233, '128c-4s8mm6cm-20um-40um-sl', 3, 105, 2, '233', 0., 0., 0., 'None', 0., 'False', 0., 0., 0., ''),\n",
       "       ('/data/nwb_builder_test_data/beans20190718_pp.nwb', '1', 235, '128c-4s8mm6cm-20um-40um-sl', 3, 107, 2, '235', 0., 0., 0., 'None', 0., 'False', 0., 0., 0., ''),\n",
       "       ('/data/nwb_builder_test_data/beans20190718_pp.nwb', '1', 237, '128c-4s8mm6cm-20um-40um-sl', 3, 109, 2, '237', 0., 0., 0., 'None', 0., 'False', 0., 0., 0., ''),\n",
       "       ('/data/nwb_builder_test_data/beans20190718_pp.nwb', '1', 239, '128c-4s8mm6cm-20um-40um-sl', 3, 111, 2, '239', 0., 0., 0., 'None', 0., 'False', 0., 0., 0., ''),\n",
       "       ('/data/nwb_builder_test_data/beans20190718_pp.nwb', '1', 241, '128c-4s8mm6cm-20um-40um-sl', 3, 113, 2, '241', 0., 0., 0., 'None', 0., 'False', 0., 0., 0., ''),\n",
       "       ('/data/nwb_builder_test_data/beans20190718_pp.nwb', '1', 243, '128c-4s8mm6cm-20um-40um-sl', 3, 115, 2, '243', 0., 0., 0., 'None', 0., 'False', 0., 0., 0., ''),\n",
       "       ('/data/nwb_builder_test_data/beans20190718_pp.nwb', '1', 245, '128c-4s8mm6cm-20um-40um-sl', 3, 117, 2, '245', 0., 0., 0., 'None', 0., 'False', 0., 0., 0., ''),\n",
       "       ('/data/nwb_builder_test_data/beans20190718_pp.nwb', '1', 247, '128c-4s8mm6cm-20um-40um-sl', 3, 119, 2, '247', 0., 0., 0., 'None', 0., 'False', 0., 0., 0., ''),\n",
       "       ('/data/nwb_builder_test_data/beans20190718_pp.nwb', '1', 249, '128c-4s8mm6cm-20um-40um-sl', 3, 121, 2, '249', 0., 0., 0., 'None', 0., 'False', 0., 0., 0., ''),\n",
       "       ('/data/nwb_builder_test_data/beans20190718_pp.nwb', '1', 251, '128c-4s8mm6cm-20um-40um-sl', 3, 123, 2, '251', 0., 0., 0., 'None', 0., 'False', 0., 0., 0., ''),\n",
       "       ('/data/nwb_builder_test_data/beans20190718_pp.nwb', '1', 252, '128c-4s8mm6cm-20um-40um-sl', 3, 124, 2, '252', 0., 0., 0., 'None', 0., 'False', 0., 0., 0., ''),\n",
       "       ('/data/nwb_builder_test_data/beans20190718_pp.nwb', '1', 253, '128c-4s8mm6cm-20um-40um-sl', 3, 125, 2, '253', 0., 0., 0., 'None', 0., 'False', 0., 0., 0., ''),\n",
       "       ('/data/nwb_builder_test_data/beans20190718_pp.nwb', '1', 254, '128c-4s8mm6cm-20um-40um-sl', 3, 126, 2, '254', 0., 0., 0., 'None', 0., 'False', 0., 0., 0., ''),\n",
       "       ('/data/nwb_builder_test_data/beans20190718_pp.nwb', '1', 255, '128c-4s8mm6cm-20um-40um-sl', 3, 127, 2, '255', 0., 0., 0., 'None', 0., 'False', 0., 0., 0., '')],\n",
       "      dtype=[('nwb_file_name', 'O'), ('electrode_group_name', 'O'), ('electrode_id', '<i8'), ('probe_type', 'O'), ('probe_shank', '<i8'), ('probe_electrode', '<i8'), ('region_id', '<i8'), ('name', 'O'), ('x', '<f8'), ('y', '<f8'), ('z', '<f8'), ('filtering', 'O'), ('impedance', '<f8'), ('bad_channel', 'O'), ('x_warped', '<f8'), ('y_warped', '<f8'), ('z_warped', '<f8'), ('contacts', 'O')])"
      ]
     },
     "execution_count": 13,
     "metadata": {},
     "output_type": "execute_result"
    }
   ],
   "source": [
    "electrodes"
   ]
  },
  {
   "cell_type": "code",
   "execution_count": 14,
   "metadata": {},
   "outputs": [
    {
     "name": "stderr",
     "output_type": "stream",
     "text": [
      "[autoreload of common_ephys failed: Traceback (most recent call last):\n",
      "  File \"/Users/loren/opt/anaconda3/envs/nwbdj/lib/python3.7/site-packages/IPython/extensions/autoreload.py\", line 245, in check\n",
      "    superreload(m, reload, self.old_objects)\n",
      "  File \"/Users/loren/opt/anaconda3/envs/nwbdj/lib/python3.7/site-packages/IPython/extensions/autoreload.py\", line 410, in superreload\n",
      "    update_generic(old_obj, new_obj)\n",
      "  File \"/Users/loren/opt/anaconda3/envs/nwbdj/lib/python3.7/site-packages/IPython/extensions/autoreload.py\", line 347, in update_generic\n",
      "    update(a, b)\n",
      "  File \"/Users/loren/opt/anaconda3/envs/nwbdj/lib/python3.7/site-packages/IPython/extensions/autoreload.py\", line 302, in update_class\n",
      "    if update_generic(old_obj, new_obj): continue\n",
      "  File \"/Users/loren/opt/anaconda3/envs/nwbdj/lib/python3.7/site-packages/IPython/extensions/autoreload.py\", line 347, in update_generic\n",
      "    update(a, b)\n",
      "  File \"/Users/loren/opt/anaconda3/envs/nwbdj/lib/python3.7/site-packages/IPython/extensions/autoreload.py\", line 302, in update_class\n",
      "    if update_generic(old_obj, new_obj): continue\n",
      "  File \"/Users/loren/opt/anaconda3/envs/nwbdj/lib/python3.7/site-packages/IPython/extensions/autoreload.py\", line 347, in update_generic\n",
      "    update(a, b)\n",
      "  File \"/Users/loren/opt/anaconda3/envs/nwbdj/lib/python3.7/site-packages/IPython/extensions/autoreload.py\", line 302, in update_class\n",
      "    if update_generic(old_obj, new_obj): continue\n",
      "  File \"/Users/loren/opt/anaconda3/envs/nwbdj/lib/python3.7/site-packages/IPython/extensions/autoreload.py\", line 347, in update_generic\n",
      "    update(a, b)\n",
      "  File \"/Users/loren/opt/anaconda3/envs/nwbdj/lib/python3.7/site-packages/IPython/extensions/autoreload.py\", line 302, in update_class\n",
      "    if update_generic(old_obj, new_obj): continue\n",
      "RecursionError: maximum recursion depth exceeded while calling a Python object\n",
      "]\n"
     ]
    }
   ],
   "source": [
    "elect_info = (electrodes['electrode_group_name'], electrodes['probe_shank'])"
   ]
  },
  {
   "cell_type": "code",
   "execution_count": 17,
   "metadata": {},
   "outputs": [],
   "source": [
    "import numpy as np\n",
    "egroups = np.unique(electrodes['electrode_group_name'])\n"
   ]
  },
  {
   "cell_type": "code",
   "execution_count": 18,
   "metadata": {},
   "outputs": [
    {
     "data": {
      "text/plain": [
       "array(['0', '1'], dtype=object)"
      ]
     },
     "execution_count": 18,
     "metadata": {},
     "output_type": "execute_result"
    }
   ],
   "source": [
    "egroups"
   ]
  },
  {
   "cell_type": "code",
   "execution_count": 20,
   "metadata": {},
   "outputs": [],
   "source": [
    "e = egroups[0]"
   ]
  },
  {
   "cell_type": "code",
   "execution_count": 25,
   "metadata": {},
   "outputs": [],
   "source": [
    "shanks = electrodes['probe_shank'][electrodes['electrode_group_name'] == e]"
   ]
  },
  {
   "cell_type": "code",
   "execution_count": 31,
   "metadata": {},
   "outputs": [],
   "source": [
    "shank_dict = dict()\n",
    "# for each electrode group, get a list of the unique shanks\n",
    "shank_dict[e] = np.unique(electrodes['probe_shank'][electrodes['electrode_group_name'] == e])"
   ]
  },
  {
   "cell_type": "code",
   "execution_count": 32,
   "metadata": {},
   "outputs": [
    {
     "data": {
      "text/plain": [
       "array([0, 1, 2, 3])"
      ]
     },
     "execution_count": 32,
     "metadata": {},
     "output_type": "execute_result"
    }
   ],
   "source": [
    "shank_dict[e]"
   ]
  },
  {
   "cell_type": "code",
   "execution_count": 50,
   "metadata": {},
   "outputs": [
    {
     "name": "stderr",
     "output_type": "stream",
     "text": [
      "[autoreload of common_ephys failed: Traceback (most recent call last):\n",
      "  File \"/Users/loren/opt/anaconda3/envs/nwbdj/lib/python3.7/site-packages/IPython/extensions/autoreload.py\", line 245, in check\n",
      "    superreload(m, reload, self.old_objects)\n",
      "  File \"/Users/loren/opt/anaconda3/envs/nwbdj/lib/python3.7/site-packages/IPython/extensions/autoreload.py\", line 410, in superreload\n",
      "    update_generic(old_obj, new_obj)\n",
      "  File \"/Users/loren/opt/anaconda3/envs/nwbdj/lib/python3.7/site-packages/IPython/extensions/autoreload.py\", line 347, in update_generic\n",
      "    update(a, b)\n",
      "  File \"/Users/loren/opt/anaconda3/envs/nwbdj/lib/python3.7/site-packages/IPython/extensions/autoreload.py\", line 302, in update_class\n",
      "    if update_generic(old_obj, new_obj): continue\n",
      "  File \"/Users/loren/opt/anaconda3/envs/nwbdj/lib/python3.7/site-packages/IPython/extensions/autoreload.py\", line 347, in update_generic\n",
      "    update(a, b)\n",
      "  File \"/Users/loren/opt/anaconda3/envs/nwbdj/lib/python3.7/site-packages/IPython/extensions/autoreload.py\", line 302, in update_class\n",
      "    if update_generic(old_obj, new_obj): continue\n",
      "  File \"/Users/loren/opt/anaconda3/envs/nwbdj/lib/python3.7/site-packages/IPython/extensions/autoreload.py\", line 347, in update_generic\n",
      "    update(a, b)\n",
      "  File \"/Users/loren/opt/anaconda3/envs/nwbdj/lib/python3.7/site-packages/IPython/extensions/autoreload.py\", line 302, in update_class\n",
      "    if update_generic(old_obj, new_obj): continue\n",
      "  File \"/Users/loren/opt/anaconda3/envs/nwbdj/lib/python3.7/site-packages/IPython/extensions/autoreload.py\", line 347, in update_generic\n",
      "    update(a, b)\n",
      "  File \"/Users/loren/opt/anaconda3/envs/nwbdj/lib/python3.7/site-packages/IPython/extensions/autoreload.py\", line 302, in update_class\n",
      "    if update_generic(old_obj, new_obj): continue\n",
      "RecursionError: maximum recursion depth exceeded while calling a Python object\n",
      "]\n"
     ]
    }
   ],
   "source": [
    "sort_group = 0\n",
    "elect_dict = dict()\n",
    "elect_dict['nwb_file_name'] = nwb_file_name\n",
    "for e_group in egroups:\n",
    "    elect_dict['electrode_group_name'] = e_group\n",
    "    # for each electrode group, get a list of the unique shank numbers\n",
    "    shank_list = np.unique(electrodes['probe_shank'][electrodes['electrode_group_name'] == e_group])\n",
    "    # get the indices of all electrodes in for this group / shank and set their sorting group\n",
    "    for shank in shank_list:\n",
    "        shank_elect = electrodes['electrode_id'][np.logical_and(electrodes['electrode_group_name'] == e_group,\n",
    "                                                                electrodes['probe_shank'] == shank)]\n",
    "    # create a 2d array for these electrodes\n",
    "    sort_insert = list()\n",
    "    for elect in shank_elect:\n",
    "        sort_insert.append([nwb_file_name, e_group, elect, sort_group])"
   ]
  },
  {
   "cell_type": "code",
   "execution_count": 51,
   "metadata": {},
   "outputs": [
    {
     "data": {
      "text/plain": [
       "[['/data/nwb_builder_test_data/beans20190718_pp.nwb', '1', 225, 0],\n",
       " ['/data/nwb_builder_test_data/beans20190718_pp.nwb', '1', 227, 0],\n",
       " ['/data/nwb_builder_test_data/beans20190718_pp.nwb', '1', 229, 0],\n",
       " ['/data/nwb_builder_test_data/beans20190718_pp.nwb', '1', 231, 0],\n",
       " ['/data/nwb_builder_test_data/beans20190718_pp.nwb', '1', 233, 0],\n",
       " ['/data/nwb_builder_test_data/beans20190718_pp.nwb', '1', 235, 0],\n",
       " ['/data/nwb_builder_test_data/beans20190718_pp.nwb', '1', 237, 0],\n",
       " ['/data/nwb_builder_test_data/beans20190718_pp.nwb', '1', 239, 0],\n",
       " ['/data/nwb_builder_test_data/beans20190718_pp.nwb', '1', 241, 0],\n",
       " ['/data/nwb_builder_test_data/beans20190718_pp.nwb', '1', 243, 0],\n",
       " ['/data/nwb_builder_test_data/beans20190718_pp.nwb', '1', 245, 0],\n",
       " ['/data/nwb_builder_test_data/beans20190718_pp.nwb', '1', 247, 0],\n",
       " ['/data/nwb_builder_test_data/beans20190718_pp.nwb', '1', 249, 0],\n",
       " ['/data/nwb_builder_test_data/beans20190718_pp.nwb', '1', 251, 0],\n",
       " ['/data/nwb_builder_test_data/beans20190718_pp.nwb', '1', 252, 0],\n",
       " ['/data/nwb_builder_test_data/beans20190718_pp.nwb', '1', 253, 0],\n",
       " ['/data/nwb_builder_test_data/beans20190718_pp.nwb', '1', 254, 0],\n",
       " ['/data/nwb_builder_test_data/beans20190718_pp.nwb', '1', 255, 0]]"
      ]
     },
     "execution_count": 51,
     "metadata": {},
     "output_type": "execute_result"
    }
   ],
   "source": [
    "sort_insert"
   ]
  },
  {
   "cell_type": "code",
   "execution_count": 47,
   "metadata": {},
   "outputs": [
    {
     "data": {
      "text/plain": [
       "[1, '/data/nwb_builder_test_data/beans20190718_pp.nwb']"
      ]
     },
     "execution_count": 47,
     "metadata": {},
     "output_type": "execute_result"
    }
   ],
   "source": [
    "a"
   ]
  },
  {
   "cell_type": "code",
   "execution_count": null,
   "metadata": {},
   "outputs": [],
   "source": []
  }
 ],
 "metadata": {
  "kernelspec": {
   "display_name": "Python 3",
   "language": "python",
   "name": "python3"
  },
  "language_info": {
   "codemirror_mode": {
    "name": "ipython",
    "version": 3
   },
   "file_extension": ".py",
   "mimetype": "text/x-python",
   "name": "python",
   "nbconvert_exporter": "python",
   "pygments_lexer": "ipython3",
   "version": "3.7.4"
  }
 },
 "nbformat": 4,
 "nbformat_minor": 4
}
