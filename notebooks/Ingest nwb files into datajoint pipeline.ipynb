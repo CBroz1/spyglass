{
 "cells": [
  {
   "cell_type": "code",
   "execution_count": 1,
   "metadata": {},
   "outputs": [],
   "source": [
    "import datajoint as dj\n",
    "dj.config['database.host'] = 'localhost'\n",
    "dj.config[\"stores\"]= {\n",
    "        \"lfp_store\": {\n",
    "            \"protocol\": \"file\",\n",
    "            \"stage\": \"data/lfp_dj_data_temp\",\n",
    "            \"location\": \"data/lfp_dj_data_temp\"\n",
    "        }\n",
    "}"
   ]
  },
  {
   "cell_type": "code",
   "execution_count": 2,
   "metadata": {},
   "outputs": [
    {
     "name": "stdout",
     "output_type": "stream",
     "text": [
      "Please enter DataJoint username: shan\n",
      "Please enter DataJoint password: ········\n",
      "Connecting shan@localhost:3306\n"
     ]
    }
   ],
   "source": [
    "from pipeline import experiment\n",
    "from pynwb import NWBHDF5IO\n",
    "from franklab_nwb_extensions import fl_extension\n",
    "import numpy as np\n",
    "%reload_ext autoreload\n",
    "%autoreload 2"
   ]
  },
  {
   "cell_type": "code",
   "execution_count": 41,
   "metadata": {},
   "outputs": [
    {
     "name": "stderr",
     "output_type": "stream",
     "text": [
      "/Users/shanshen/anaconda3/envs/nwb_datajoint/lib/python3.7/site-packages/hdmf/spec/namespace.py:456: UserWarning: ignoring namespace 'hdmf-common' because it already exists\n",
      "  warn(\"ignoring namespace '%s' because it already exists\" % ns['name'])\n",
      "/Users/shanshen/anaconda3/envs/nwb_datajoint/lib/python3.7/site-packages/hdmf/spec/namespace.py:456: UserWarning: ignoring namespace 'core' because it already exists\n",
      "  warn(\"ignoring namespace '%s' because it already exists\" % ns['name'])\n",
      "/Users/shanshen/anaconda3/envs/nwb_datajoint/lib/python3.7/site-packages/hdmf/spec/namespace.py:456: UserWarning: ignoring namespace 'franklab' because it already exists\n",
      "  warn(\"ignoring namespace '%s' because it already exists\" % ns['name'])\n"
     ]
    }
   ],
   "source": [
    "io = NWBHDF5IO('../data/original_data/bon_04.nwb', 'r', load_namespaces=True)\n",
    "nwbfile = io.read()\n",
    "               \n",
    "nwbfile\n",
    "io.close()"
   ]
  },
  {
   "cell_type": "code",
   "execution_count": 4,
   "metadata": {},
   "outputs": [],
   "source": [
    "experiment.Lab.insert1((nwbfile.lab, nwbfile.institution), skip_duplicates=True)"
   ]
  },
  {
   "cell_type": "code",
   "execution_count": 5,
   "metadata": {},
   "outputs": [],
   "source": [
    "experiment.Experimenter.insert1((nwbfile.experimenter), skip_duplicates=True)"
   ]
  },
  {
   "cell_type": "code",
   "execution_count": 6,
   "metadata": {},
   "outputs": [],
   "source": [
    "subj = nwbfile.subject.fields"
   ]
  },
  {
   "cell_type": "code",
   "execution_count": 26,
   "metadata": {},
   "outputs": [],
   "source": [
    "subj['subject_description'] = subj.pop('description')"
   ]
  },
  {
   "cell_type": "code",
   "execution_count": 27,
   "metadata": {},
   "outputs": [
    {
     "data": {
      "text/plain": [
       "{'genotype': 'WT',\n",
       " 'sex': 'M',\n",
       " 'species': 'rat',\n",
       " 'subject_id': 'Bond',\n",
       " 'weight': 'unknown',\n",
       " 'subject_description': 'Long Evans Rat'}"
      ]
     },
     "execution_count": 27,
     "metadata": {},
     "output_type": "execute_result"
    }
   ],
   "source": [
    "subj"
   ]
  },
  {
   "cell_type": "code",
   "execution_count": 29,
   "metadata": {},
   "outputs": [
    {
     "data": {
      "text/plain": [
       "'unknown'"
      ]
     },
     "execution_count": 29,
     "metadata": {},
     "output_type": "execute_result"
    }
   ],
   "source": [
    "subj.pop('weight')"
   ]
  },
  {
   "cell_type": "code",
   "execution_count": 30,
   "metadata": {},
   "outputs": [],
   "source": [
    "experiment.Subject.insert1(subj)"
   ]
  },
  {
   "cell_type": "code",
   "execution_count": 34,
   "metadata": {},
   "outputs": [
    {
     "data": {
      "text/plain": [
       "'Tetrode recordings from rat during rest and task performance'"
      ]
     },
     "execution_count": 34,
     "metadata": {},
     "output_type": "execute_result"
    }
   ],
   "source": [
    "nwbfile.experiment_description"
   ]
  },
  {
   "cell_type": "code",
   "execution_count": 35,
   "metadata": {},
   "outputs": [],
   "source": [
    "experiment.Session.insert1(\n",
    "(nwbfile.subject.subject_id, nwbfile.session_id, nwbfile.experimenter, nwbfile.experiment_description)\n",
    ")"
   ]
  },
  {
   "cell_type": "code",
   "execution_count": 10,
   "metadata": {},
   "outputs": [
    {
     "data": {
      "text/html": [
       "\n",
       "        \n",
       "        <style type=\"text/css\">\n",
       "            .Relation{\n",
       "                border-collapse:collapse;\n",
       "            }\n",
       "            .Relation th{\n",
       "                background: #A0A0A0; color: #ffffff; padding:4px; border:#f0e0e0 1px solid;\n",
       "                font-weight: normal; font-family: monospace; font-size: 100%;\n",
       "            }\n",
       "            .Relation td{\n",
       "                padding:4px; border:#f0e0e0 1px solid; font-size:100%;\n",
       "            }\n",
       "            .Relation tr:nth-child(odd){\n",
       "                background: #ffffff;\n",
       "            }\n",
       "            .Relation tr:nth-child(even){\n",
       "                background: #f3f1ff;\n",
       "            }\n",
       "            /* Tooltip container */\n",
       "            .djtooltip {\n",
       "            }\n",
       "            /* Tooltip text */\n",
       "            .djtooltip .djtooltiptext {\n",
       "                visibility: hidden;\n",
       "                width: 120px;\n",
       "                background-color: black;\n",
       "                color: #fff;\n",
       "                text-align: center;\n",
       "                padding: 5px 0;\n",
       "                border-radius: 6px;\n",
       "                /* Position the tooltip text - see examples below! */\n",
       "                position: absolute;\n",
       "                z-index: 1;\n",
       "            }\n",
       "            #primary {\n",
       "                font-weight: bold;\n",
       "                color: black;\n",
       "            }\n",
       "\n",
       "            #nonprimary {\n",
       "                font-weight: normal;\n",
       "                color: white;\n",
       "            }\n",
       "\n",
       "            /* Show the tooltip text when you mouse over the tooltip container */\n",
       "            .djtooltip:hover .djtooltiptext {\n",
       "                visibility: visible;\n",
       "            }\n",
       "        </style>\n",
       "        \n",
       "        <b></b>\n",
       "            <div style=\"max-height:1000px;max-width:1500px;overflow:auto;\">\n",
       "            <table border=\"1\" class=\"Relation\">\n",
       "                <thead> <tr style=\"text-align: right;\"> <th> <div class=\"djtooltip\">\n",
       "                                <p id=\"primary\">subject_id</p>\n",
       "                                <span class=\"djtooltiptext\"></span>\n",
       "                            </div></th><th><div class=\"djtooltip\">\n",
       "                                <p id=\"primary\">session_id</p>\n",
       "                                <span class=\"djtooltiptext\"></span>\n",
       "                            </div></th><th><div class=\"djtooltip\">\n",
       "                                <p id=\"primary\">insertion_number</p>\n",
       "                                <span class=\"djtooltiptext\"></span>\n",
       "                            </div> </th> </tr> </thead>\n",
       "                <tbody> <tr> <td>Bond</td>\n",
       "<td>Bon0004</td>\n",
       "<td>1</td></tr><tr><td>Bond</td>\n",
       "<td>Bon0004</td>\n",
       "<td>2</td></tr><tr><td>Bond</td>\n",
       "<td>Bon0004</td>\n",
       "<td>3</td></tr><tr><td>Bond</td>\n",
       "<td>Bon0004</td>\n",
       "<td>4</td></tr><tr><td>Bond</td>\n",
       "<td>Bon0004</td>\n",
       "<td>5</td></tr><tr><td>Bond</td>\n",
       "<td>Bon0004</td>\n",
       "<td>6</td></tr><tr><td>Bond</td>\n",
       "<td>Bon0004</td>\n",
       "<td>7</td></tr><tr><td>Bond</td>\n",
       "<td>Bon0004</td>\n",
       "<td>8</td></tr><tr><td>Bond</td>\n",
       "<td>Bon0004</td>\n",
       "<td>10</td></tr><tr><td>Bond</td>\n",
       "<td>Bon0004</td>\n",
       "<td>11</td></tr><tr><td>Bond</td>\n",
       "<td>Bon0004</td>\n",
       "<td>12</td></tr><tr><td>Bond</td>\n",
       "<td>Bon0004</td>\n",
       "<td>13</td> </tr> </tbody>\n",
       "            </table>\n",
       "            <p>...</p>\n",
       "            <p>Total: 27</p></div>\n",
       "            "
      ],
      "text/plain": [
       "*subject_id    *session_id    *insertion_num\n",
       "+------------+ +------------+ +------------+\n",
       "Bond           Bon0004        1             \n",
       "Bond           Bon0004        2             \n",
       "Bond           Bon0004        3             \n",
       "Bond           Bon0004        4             \n",
       "Bond           Bon0004        5             \n",
       "Bond           Bon0004        6             \n",
       "Bond           Bon0004        7             \n",
       "Bond           Bon0004        8             \n",
       "Bond           Bon0004        10            \n",
       "Bond           Bon0004        11            \n",
       "Bond           Bon0004        12            \n",
       "Bond           Bon0004        13            \n",
       "   ...\n",
       " (Total: 27)"
      ]
     },
     "execution_count": 10,
     "metadata": {},
     "output_type": "execute_result"
    }
   ],
   "source": [
    "experiment.ProbeInsertion()"
   ]
  },
  {
   "cell_type": "code",
   "execution_count": 4,
   "metadata": {},
   "outputs": [],
   "source": [
    "probe_insertions = [\n",
    "    dict(subject_id=nwbfile.subject.subject_id, \n",
    "         session_id=nwbfile.session_id,\n",
    "         insertion_number=int(series['group_name'])) \n",
    "    for id, series in nwbfile.ec_electrodes.to_dataframe().iterrows()]\n",
    "\n",
    "experiment.ProbeInsertion.insert(probe_insertions, skip_duplicates=True)"
   ]
  },
  {
   "cell_type": "code",
   "execution_count": 5,
   "metadata": {},
   "outputs": [
    {
     "data": {
      "text/plain": [
       "{'resolution': -1.0,\n",
       " 'comments': 'no comments',\n",
       " 'description': 'no description',\n",
       " 'conversion': 1e-06,\n",
       " 'unit': 'volts',\n",
       " 'data': <HDF5 dataset \"data\": shape (27, 1416029), type \"<i2\">,\n",
       " 'timestamps': <HDF5 dataset \"timestamps\": shape (1416029,), type \"<f8\">,\n",
       " 'timestamps_unit': 'seconds',\n",
       " 'interval': 1,\n",
       " 'electrodes': <hdmf.common.table.DynamicTableRegion at 0xa2379c910>}"
      ]
     },
     "execution_count": 5,
     "metadata": {},
     "output_type": "execute_result"
    }
   ],
   "source": [
    "lfp_dict = nwbfile.acquisition['LFP']['electrical_series'].fields\n",
    "lfp_dict"
   ]
  },
  {
   "cell_type": "code",
   "execution_count": 19,
   "metadata": {},
   "outputs": [
    {
     "data": {
      "text/plain": [
       "array([[ 237,  204,  151, ..., -141, -128, -119],\n",
       "       [ 258,  240,  196, ..., -147, -132, -110],\n",
       "       [-129, -129, -142, ..., -106, -103, -100],\n",
       "       ...,\n",
       "       [-145, -134, -125, ...,   50,   60,   51],\n",
       "       [-102, -109, -106, ..., -115,  -92,  -69],\n",
       "       [ -16,   -7,  -31, ...,   25,   33,    2]], dtype=int16)"
      ]
     },
     "execution_count": 19,
     "metadata": {},
     "output_type": "execute_result"
    }
   ],
   "source": [
    "np.array(lfp_dict['data'])"
   ]
  },
  {
   "cell_type": "code",
   "execution_count": 6,
   "metadata": {},
   "outputs": [],
   "source": [
    "ignored_fields = ['electrodes', 'data']"
   ]
  },
  {
   "cell_type": "code",
   "execution_count": 7,
   "metadata": {},
   "outputs": [],
   "source": [
    "lfp_entry = {f'lfp_{key_name}': value for key_name, value in lfp_dict.items() if key_name not in ignored_fields}"
   ]
  },
  {
   "cell_type": "code",
   "execution_count": 8,
   "metadata": {},
   "outputs": [],
   "source": [
    "lfp_entry['lfp_timestamps'] = np.array(lfp_entry['lfp_timestamps'])"
   ]
  },
  {
   "cell_type": "code",
   "execution_count": 15,
   "metadata": {},
   "outputs": [
    {
     "data": {
      "text/html": [
       "\n",
       "        \n",
       "        <style type=\"text/css\">\n",
       "            .Relation{\n",
       "                border-collapse:collapse;\n",
       "            }\n",
       "            .Relation th{\n",
       "                background: #A0A0A0; color: #ffffff; padding:4px; border:#f0e0e0 1px solid;\n",
       "                font-weight: normal; font-family: monospace; font-size: 100%;\n",
       "            }\n",
       "            .Relation td{\n",
       "                padding:4px; border:#f0e0e0 1px solid; font-size:100%;\n",
       "            }\n",
       "            .Relation tr:nth-child(odd){\n",
       "                background: #ffffff;\n",
       "            }\n",
       "            .Relation tr:nth-child(even){\n",
       "                background: #f3f1ff;\n",
       "            }\n",
       "            /* Tooltip container */\n",
       "            .djtooltip {\n",
       "            }\n",
       "            /* Tooltip text */\n",
       "            .djtooltip .djtooltiptext {\n",
       "                visibility: hidden;\n",
       "                width: 120px;\n",
       "                background-color: black;\n",
       "                color: #fff;\n",
       "                text-align: center;\n",
       "                padding: 5px 0;\n",
       "                border-radius: 6px;\n",
       "                /* Position the tooltip text - see examples below! */\n",
       "                position: absolute;\n",
       "                z-index: 1;\n",
       "            }\n",
       "            #primary {\n",
       "                font-weight: bold;\n",
       "                color: black;\n",
       "            }\n",
       "\n",
       "            #nonprimary {\n",
       "                font-weight: normal;\n",
       "                color: white;\n",
       "            }\n",
       "\n",
       "            /* Show the tooltip text when you mouse over the tooltip container */\n",
       "            .djtooltip:hover .djtooltiptext {\n",
       "                visibility: visible;\n",
       "            }\n",
       "        </style>\n",
       "        \n",
       "        <b></b>\n",
       "            <div style=\"max-height:1000px;max-width:1500px;overflow:auto;\">\n",
       "            <table border=\"1\" class=\"Relation\">\n",
       "                <thead> <tr style=\"text-align: right;\"> <th> <div class=\"djtooltip\">\n",
       "                                <p id=\"primary\">subject_id</p>\n",
       "                                <span class=\"djtooltiptext\"></span>\n",
       "                            </div></th><th><div class=\"djtooltip\">\n",
       "                                <p id=\"primary\">session_id</p>\n",
       "                                <span class=\"djtooltiptext\"></span>\n",
       "                            </div></th><th><div class=\"djtooltip\">\n",
       "                                <p id=\"primary\">insertion_number</p>\n",
       "                                <span class=\"djtooltiptext\"></span>\n",
       "                            </div></th><th><div class=\"djtooltip\">\n",
       "                                <p id=\"nonprimary\">lfp_timestamps</p>\n",
       "                                <span class=\"djtooltiptext\"></span>\n",
       "                            </div></th><th><div class=\"djtooltip\">\n",
       "                                <p id=\"nonprimary\">lfp_timestamps_unit</p>\n",
       "                                <span class=\"djtooltiptext\"></span>\n",
       "                            </div></th><th><div class=\"djtooltip\">\n",
       "                                <p id=\"nonprimary\">lfp_unit</p>\n",
       "                                <span class=\"djtooltiptext\"></span>\n",
       "                            </div></th><th><div class=\"djtooltip\">\n",
       "                                <p id=\"nonprimary\">lfp_resolution</p>\n",
       "                                <span class=\"djtooltiptext\"></span>\n",
       "                            </div></th><th><div class=\"djtooltip\">\n",
       "                                <p id=\"nonprimary\">lfp_conversion</p>\n",
       "                                <span class=\"djtooltiptext\"></span>\n",
       "                            </div></th><th><div class=\"djtooltip\">\n",
       "                                <p id=\"nonprimary\">lfp_interval</p>\n",
       "                                <span class=\"djtooltiptext\"></span>\n",
       "                            </div></th><th><div class=\"djtooltip\">\n",
       "                                <p id=\"nonprimary\">lfp_description</p>\n",
       "                                <span class=\"djtooltiptext\"></span>\n",
       "                            </div></th><th><div class=\"djtooltip\">\n",
       "                                <p id=\"nonprimary\">lfp_comments</p>\n",
       "                                <span class=\"djtooltiptext\"></span>\n",
       "                            </div> </th> </tr> </thead>\n",
       "                <tbody> <tr> <td>Bond</td>\n",
       "<td>Bon0004</td>\n",
       "<td>1</td>\n",
       "<td>=BLOB=</td>\n",
       "<td>seconds</td>\n",
       "<td>volts</td>\n",
       "<td>-1.0</td>\n",
       "<td>1e-06</td>\n",
       "<td>1</td>\n",
       "<td>no description</td>\n",
       "<td>no comments</td></tr><tr><td>Bond</td>\n",
       "<td>Bon0004</td>\n",
       "<td>2</td>\n",
       "<td>=BLOB=</td>\n",
       "<td>seconds</td>\n",
       "<td>volts</td>\n",
       "<td>-1.0</td>\n",
       "<td>1e-06</td>\n",
       "<td>1</td>\n",
       "<td>no description</td>\n",
       "<td>no comments</td></tr><tr><td>Bond</td>\n",
       "<td>Bon0004</td>\n",
       "<td>3</td>\n",
       "<td>=BLOB=</td>\n",
       "<td>seconds</td>\n",
       "<td>volts</td>\n",
       "<td>-1.0</td>\n",
       "<td>1e-06</td>\n",
       "<td>1</td>\n",
       "<td>no description</td>\n",
       "<td>no comments</td></tr><tr><td>Bond</td>\n",
       "<td>Bon0004</td>\n",
       "<td>4</td>\n",
       "<td>=BLOB=</td>\n",
       "<td>seconds</td>\n",
       "<td>volts</td>\n",
       "<td>-1.0</td>\n",
       "<td>1e-06</td>\n",
       "<td>1</td>\n",
       "<td>no description</td>\n",
       "<td>no comments</td></tr><tr><td>Bond</td>\n",
       "<td>Bon0004</td>\n",
       "<td>5</td>\n",
       "<td>=BLOB=</td>\n",
       "<td>seconds</td>\n",
       "<td>volts</td>\n",
       "<td>-1.0</td>\n",
       "<td>1e-06</td>\n",
       "<td>1</td>\n",
       "<td>no description</td>\n",
       "<td>no comments</td></tr><tr><td>Bond</td>\n",
       "<td>Bon0004</td>\n",
       "<td>6</td>\n",
       "<td>=BLOB=</td>\n",
       "<td>seconds</td>\n",
       "<td>volts</td>\n",
       "<td>-1.0</td>\n",
       "<td>1e-06</td>\n",
       "<td>1</td>\n",
       "<td>no description</td>\n",
       "<td>no comments</td></tr><tr><td>Bond</td>\n",
       "<td>Bon0004</td>\n",
       "<td>7</td>\n",
       "<td>=BLOB=</td>\n",
       "<td>seconds</td>\n",
       "<td>volts</td>\n",
       "<td>-1.0</td>\n",
       "<td>1e-06</td>\n",
       "<td>1</td>\n",
       "<td>no description</td>\n",
       "<td>no comments</td></tr><tr><td>Bond</td>\n",
       "<td>Bon0004</td>\n",
       "<td>8</td>\n",
       "<td>=BLOB=</td>\n",
       "<td>seconds</td>\n",
       "<td>volts</td>\n",
       "<td>-1.0</td>\n",
       "<td>1e-06</td>\n",
       "<td>1</td>\n",
       "<td>no description</td>\n",
       "<td>no comments</td></tr><tr><td>Bond</td>\n",
       "<td>Bon0004</td>\n",
       "<td>10</td>\n",
       "<td>=BLOB=</td>\n",
       "<td>seconds</td>\n",
       "<td>volts</td>\n",
       "<td>-1.0</td>\n",
       "<td>1e-06</td>\n",
       "<td>1</td>\n",
       "<td>no description</td>\n",
       "<td>no comments</td></tr><tr><td>Bond</td>\n",
       "<td>Bon0004</td>\n",
       "<td>11</td>\n",
       "<td>=BLOB=</td>\n",
       "<td>seconds</td>\n",
       "<td>volts</td>\n",
       "<td>-1.0</td>\n",
       "<td>1e-06</td>\n",
       "<td>1</td>\n",
       "<td>no description</td>\n",
       "<td>no comments</td></tr><tr><td>Bond</td>\n",
       "<td>Bon0004</td>\n",
       "<td>12</td>\n",
       "<td>=BLOB=</td>\n",
       "<td>seconds</td>\n",
       "<td>volts</td>\n",
       "<td>-1.0</td>\n",
       "<td>1e-06</td>\n",
       "<td>1</td>\n",
       "<td>no description</td>\n",
       "<td>no comments</td></tr><tr><td>Bond</td>\n",
       "<td>Bon0004</td>\n",
       "<td>13</td>\n",
       "<td>=BLOB=</td>\n",
       "<td>seconds</td>\n",
       "<td>volts</td>\n",
       "<td>-1.0</td>\n",
       "<td>1e-06</td>\n",
       "<td>1</td>\n",
       "<td>no description</td>\n",
       "<td>no comments</td> </tr> </tbody>\n",
       "            </table>\n",
       "            <p>...</p>\n",
       "            <p>Total: 27</p></div>\n",
       "            "
      ],
      "text/plain": [
       "*subject_id    *session_id    *insertion_num lfp_timest lfp_timestamps lfp_unit     lfp_resolution lfp_conversion lfp_interval   lfp_descriptio lfp_comments  \n",
       "+------------+ +------------+ +------------+ +--------+ +------------+ +----------+ +------------+ +------------+ +------------+ +------------+ +------------+\n",
       "Bond           Bon0004        1              =BLOB=     seconds        volts        -1.0           1e-06          1              no description no comments   \n",
       "Bond           Bon0004        2              =BLOB=     seconds        volts        -1.0           1e-06          1              no description no comments   \n",
       "Bond           Bon0004        3              =BLOB=     seconds        volts        -1.0           1e-06          1              no description no comments   \n",
       "Bond           Bon0004        4              =BLOB=     seconds        volts        -1.0           1e-06          1              no description no comments   \n",
       "Bond           Bon0004        5              =BLOB=     seconds        volts        -1.0           1e-06          1              no description no comments   \n",
       "Bond           Bon0004        6              =BLOB=     seconds        volts        -1.0           1e-06          1              no description no comments   \n",
       "Bond           Bon0004        7              =BLOB=     seconds        volts        -1.0           1e-06          1              no description no comments   \n",
       "Bond           Bon0004        8              =BLOB=     seconds        volts        -1.0           1e-06          1              no description no comments   \n",
       "Bond           Bon0004        10             =BLOB=     seconds        volts        -1.0           1e-06          1              no description no comments   \n",
       "Bond           Bon0004        11             =BLOB=     seconds        volts        -1.0           1e-06          1              no description no comments   \n",
       "Bond           Bon0004        12             =BLOB=     seconds        volts        -1.0           1e-06          1              no description no comments   \n",
       "Bond           Bon0004        13             =BLOB=     seconds        volts        -1.0           1e-06          1              no description no comments   \n",
       "   ...\n",
       " (Total: 27)"
      ]
     },
     "execution_count": 15,
     "metadata": {},
     "output_type": "execute_result"
    }
   ],
   "source": [
    "experiment.LFP()"
   ]
  },
  {
   "cell_type": "code",
   "execution_count": 14,
   "metadata": {},
   "outputs": [],
   "source": [
    "for probe_insertion in probe_insertions:\n",
    "    experiment.LFP.insert1(dict(**lfp_entry, **probe_insertion), \n",
    "                           allow_direct_insert=True, skip_duplicates=True)"
   ]
  },
  {
   "cell_type": "code",
   "execution_count": 16,
   "metadata": {},
   "outputs": [],
   "source": [
    "time_series = (experiment.LFP & 'insertion_number=2').fetch1('lfp_timestamps')"
   ]
  },
  {
   "cell_type": "code",
   "execution_count": 17,
   "metadata": {},
   "outputs": [
    {
     "data": {
      "text/plain": [
       "array([2460.9967    , 2460.99736667, 2460.99803333, ..., 3405.01403353,\n",
       "       3405.01470019, 3405.01536686])"
      ]
     },
     "execution_count": 17,
     "metadata": {},
     "output_type": "execute_result"
    }
   ],
   "source": [
    "time_series"
   ]
  },
  {
   "cell_type": "code",
   "execution_count": 35,
   "metadata": {},
   "outputs": [
    {
     "data": {
      "text/plain": [
       "[{'electrode_id': 0, 'group_name': 1},\n",
       " {'electrode_id': 4, 'group_name': 2},\n",
       " {'electrode_id': 8, 'group_name': 3},\n",
       " {'electrode_id': 12, 'group_name': 4},\n",
       " {'electrode_id': 16, 'group_name': 5},\n",
       " {'electrode_id': 20, 'group_name': 6},\n",
       " {'electrode_id': 24, 'group_name': 7},\n",
       " {'electrode_id': 28, 'group_name': 8},\n",
       " {'electrode_id': 32, 'group_name': 10},\n",
       " {'electrode_id': 36, 'group_name': 11},\n",
       " {'electrode_id': 40, 'group_name': 12},\n",
       " {'electrode_id': 44, 'group_name': 13},\n",
       " {'electrode_id': 48, 'group_name': 14},\n",
       " {'electrode_id': 52, 'group_name': 15},\n",
       " {'electrode_id': 56, 'group_name': 17},\n",
       " {'electrode_id': 60, 'group_name': 18},\n",
       " {'electrode_id': 64, 'group_name': 19},\n",
       " {'electrode_id': 68, 'group_name': 20},\n",
       " {'electrode_id': 72, 'group_name': 21},\n",
       " {'electrode_id': 76, 'group_name': 22},\n",
       " {'electrode_id': 80, 'group_name': 23},\n",
       " {'electrode_id': 84, 'group_name': 24},\n",
       " {'electrode_id': 88, 'group_name': 25},\n",
       " {'electrode_id': 92, 'group_name': 27},\n",
       " {'electrode_id': 96, 'group_name': 28},\n",
       " {'electrode_id': 100, 'group_name': 29},\n",
       " {'electrode_id': 104, 'group_name': 30}]"
      ]
     },
     "execution_count": 35,
     "metadata": {},
     "output_type": "execute_result"
    }
   ],
   "source": [
    "[dict(electrode_id=int(row.index.tolist()[0]), group_name=int(row['group_name'].values[0])) \n",
    " for row in nwbfile.acquisition['LFP']['electrical_series'].fields['electrodes']]"
   ]
  },
  {
   "cell_type": "code",
   "execution_count": 37,
   "metadata": {},
   "outputs": [],
   "source": [
    "lfp_data = np.array(lfp_dict['data'])\n",
    "for idx, row in enumerate(nwbfile.acquisition['LFP']['electrical_series'].fields['electrodes']):\n",
    "    lfp = (experiment.LFP & f'insertion_number={int(row[\"group_name\"].values[0])}').fetch1('KEY')\n",
    "    lfp_channel_data = lfp_data[idx]\n",
    "    \n",
    "    lfp_channel=dict(**lfp, \n",
    "                     electrode_id=int(row.index.tolist()[0]),\n",
    "                     lfp=lfp_channel_data)\n",
    "    experiment.LFP.Channel.insert1(lfp_channel, allow_direct_insert=True)"
   ]
  },
  {
   "cell_type": "code",
   "execution_count": 38,
   "metadata": {},
   "outputs": [
    {
     "data": {
      "text/html": [
       "\n",
       "        \n",
       "        <style type=\"text/css\">\n",
       "            .Relation{\n",
       "                border-collapse:collapse;\n",
       "            }\n",
       "            .Relation th{\n",
       "                background: #A0A0A0; color: #ffffff; padding:4px; border:#f0e0e0 1px solid;\n",
       "                font-weight: normal; font-family: monospace; font-size: 100%;\n",
       "            }\n",
       "            .Relation td{\n",
       "                padding:4px; border:#f0e0e0 1px solid; font-size:100%;\n",
       "            }\n",
       "            .Relation tr:nth-child(odd){\n",
       "                background: #ffffff;\n",
       "            }\n",
       "            .Relation tr:nth-child(even){\n",
       "                background: #f3f1ff;\n",
       "            }\n",
       "            /* Tooltip container */\n",
       "            .djtooltip {\n",
       "            }\n",
       "            /* Tooltip text */\n",
       "            .djtooltip .djtooltiptext {\n",
       "                visibility: hidden;\n",
       "                width: 120px;\n",
       "                background-color: black;\n",
       "                color: #fff;\n",
       "                text-align: center;\n",
       "                padding: 5px 0;\n",
       "                border-radius: 6px;\n",
       "                /* Position the tooltip text - see examples below! */\n",
       "                position: absolute;\n",
       "                z-index: 1;\n",
       "            }\n",
       "            #primary {\n",
       "                font-weight: bold;\n",
       "                color: black;\n",
       "            }\n",
       "\n",
       "            #nonprimary {\n",
       "                font-weight: normal;\n",
       "                color: white;\n",
       "            }\n",
       "\n",
       "            /* Show the tooltip text when you mouse over the tooltip container */\n",
       "            .djtooltip:hover .djtooltiptext {\n",
       "                visibility: visible;\n",
       "            }\n",
       "        </style>\n",
       "        \n",
       "        <b></b>\n",
       "            <div style=\"max-height:1000px;max-width:1500px;overflow:auto;\">\n",
       "            <table border=\"1\" class=\"Relation\">\n",
       "                <thead> <tr style=\"text-align: right;\"> <th> <div class=\"djtooltip\">\n",
       "                                <p id=\"primary\">subject_id</p>\n",
       "                                <span class=\"djtooltiptext\"></span>\n",
       "                            </div></th><th><div class=\"djtooltip\">\n",
       "                                <p id=\"primary\">session_id</p>\n",
       "                                <span class=\"djtooltiptext\"></span>\n",
       "                            </div></th><th><div class=\"djtooltip\">\n",
       "                                <p id=\"primary\">insertion_number</p>\n",
       "                                <span class=\"djtooltiptext\"></span>\n",
       "                            </div></th><th><div class=\"djtooltip\">\n",
       "                                <p id=\"primary\">electrode_id</p>\n",
       "                                <span class=\"djtooltiptext\">should be -> ElectrodeConfig.Electrode</span>\n",
       "                            </div></th><th><div class=\"djtooltip\">\n",
       "                                <p id=\"nonprimary\">lfp</p>\n",
       "                                <span class=\"djtooltiptext\">recorded lfp at this electrode</span>\n",
       "                            </div> </th> </tr> </thead>\n",
       "                <tbody> <tr> <td>Bond</td>\n",
       "<td>Bon0004</td>\n",
       "<td>1</td>\n",
       "<td>0</td>\n",
       "<td>=BLOB=</td></tr><tr><td>Bond</td>\n",
       "<td>Bon0004</td>\n",
       "<td>2</td>\n",
       "<td>4</td>\n",
       "<td>=BLOB=</td></tr><tr><td>Bond</td>\n",
       "<td>Bon0004</td>\n",
       "<td>3</td>\n",
       "<td>8</td>\n",
       "<td>=BLOB=</td></tr><tr><td>Bond</td>\n",
       "<td>Bon0004</td>\n",
       "<td>4</td>\n",
       "<td>12</td>\n",
       "<td>=BLOB=</td></tr><tr><td>Bond</td>\n",
       "<td>Bon0004</td>\n",
       "<td>5</td>\n",
       "<td>16</td>\n",
       "<td>=BLOB=</td></tr><tr><td>Bond</td>\n",
       "<td>Bon0004</td>\n",
       "<td>6</td>\n",
       "<td>20</td>\n",
       "<td>=BLOB=</td></tr><tr><td>Bond</td>\n",
       "<td>Bon0004</td>\n",
       "<td>7</td>\n",
       "<td>24</td>\n",
       "<td>=BLOB=</td></tr><tr><td>Bond</td>\n",
       "<td>Bon0004</td>\n",
       "<td>8</td>\n",
       "<td>28</td>\n",
       "<td>=BLOB=</td></tr><tr><td>Bond</td>\n",
       "<td>Bon0004</td>\n",
       "<td>10</td>\n",
       "<td>32</td>\n",
       "<td>=BLOB=</td></tr><tr><td>Bond</td>\n",
       "<td>Bon0004</td>\n",
       "<td>11</td>\n",
       "<td>36</td>\n",
       "<td>=BLOB=</td></tr><tr><td>Bond</td>\n",
       "<td>Bon0004</td>\n",
       "<td>12</td>\n",
       "<td>40</td>\n",
       "<td>=BLOB=</td></tr><tr><td>Bond</td>\n",
       "<td>Bon0004</td>\n",
       "<td>13</td>\n",
       "<td>44</td>\n",
       "<td>=BLOB=</td> </tr> </tbody>\n",
       "            </table>\n",
       "            <p>...</p>\n",
       "            <p>Total: 27</p></div>\n",
       "            "
      ],
      "text/plain": [
       "*subject_id    *session_id    *insertion_num *electrode_id  lfp       \n",
       "+------------+ +------------+ +------------+ +------------+ +--------+\n",
       "Bond           Bon0004        1              0              =BLOB=    \n",
       "Bond           Bon0004        2              4              =BLOB=    \n",
       "Bond           Bon0004        3              8              =BLOB=    \n",
       "Bond           Bon0004        4              12             =BLOB=    \n",
       "Bond           Bon0004        5              16             =BLOB=    \n",
       "Bond           Bon0004        6              20             =BLOB=    \n",
       "Bond           Bon0004        7              24             =BLOB=    \n",
       "Bond           Bon0004        8              28             =BLOB=    \n",
       "Bond           Bon0004        10             32             =BLOB=    \n",
       "Bond           Bon0004        11             36             =BLOB=    \n",
       "Bond           Bon0004        12             40             =BLOB=    \n",
       "Bond           Bon0004        13             44             =BLOB=    \n",
       "   ...\n",
       " (Total: 27)"
      ]
     },
     "execution_count": 38,
     "metadata": {},
     "output_type": "execute_result"
    }
   ],
   "source": [
    "experiment.LFP.Channel()"
   ]
  },
  {
   "cell_type": "code",
   "execution_count": 39,
   "metadata": {},
   "outputs": [],
   "source": [
    "lfp = (experiment.LFP.Channel & 'insertion_number=2').fetch1('lfp')"
   ]
  },
  {
   "cell_type": "code",
   "execution_count": 40,
   "metadata": {},
   "outputs": [
    {
     "data": {
      "text/plain": [
       "array([ 258,  240,  196, ..., -147, -132, -110], dtype=int16)"
      ]
     },
     "execution_count": 40,
     "metadata": {},
     "output_type": "execute_result"
    }
   ],
   "source": [
    "lfp"
   ]
  },
  {
   "cell_type": "code",
   "execution_count": null,
   "metadata": {},
   "outputs": [],
   "source": []
  }
 ],
 "metadata": {
  "kernelspec": {
   "display_name": "Python [conda env:nwb_datajoint] *",
   "language": "python",
   "name": "conda-env-nwb_datajoint-py"
  },
  "language_info": {
   "codemirror_mode": {
    "name": "ipython",
    "version": 3
   },
   "file_extension": ".py",
   "mimetype": "text/x-python",
   "name": "python",
   "nbconvert_exporter": "python",
   "pygments_lexer": "ipython3",
   "version": "3.7.6"
  }
 },
 "nbformat": 4,
 "nbformat_minor": 4
}
