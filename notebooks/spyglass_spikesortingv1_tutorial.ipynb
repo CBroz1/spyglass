{
 "cells": [
  {
   "cell_type": "markdown",
   "id": "5fce5c22-caab-473b-a103-5009a2798d12",
   "metadata": {},
   "source": [
    "Connect to db"
   ]
  },
  {
   "cell_type": "code",
   "execution_count": 1,
   "id": "5778bf96-740c-4e4b-a695-ed4385fc9b58",
   "metadata": {
    "tags": []
   },
   "outputs": [],
   "source": [
    "import datajoint as dj\n",
    "import os\n",
    "from pathlib import Path\n",
    "\n",
    "# set dirs\n",
    "base_dir = Path('/hdd/dj') # change this to your desired directory\n",
    "if (base_dir).exists() is False:\n",
    "    os.mkdir(base_dir)\n",
    "raw_dir = base_dir / 'raw'\n",
    "if (raw_dir).exists() is False:\n",
    "    os.mkdir(raw_dir)\n",
    "analysis_dir = base_dir / 'analysis'\n",
    "if (analysis_dir).exists() is False:\n",
    "    os.mkdir(analysis_dir)\n",
    "tmp_dir = base_dir / 'tmp'\n",
    "if (tmp_dir).exists() is False:\n",
    "    os.mkdir(tmp_dir)\n",
    "\n",
    "# set dj config\n",
    "dj.config['database.host'] = 'localhost'\n",
    "dj.config['database.user'] = 'root'\n",
    "dj.config['database.password'] = 'tutorial'\n",
    "dj.config['database.port'] = 3306\n",
    "dj.config['stores'] = {\n",
    "  'raw': {\n",
    "    'protocol': 'file',\n",
    "    'location': str(raw_dir),\n",
    "    'stage': str(raw_dir)\n",
    "  },\n",
    "  'analysis': {\n",
    "    'protocol': 'file',\n",
    "    'location': str(analysis_dir),\n",
    "    'stage': str(analysis_dir)\n",
    "  }\n",
    "}\n",
    "dj.config[\"enable_python_native_blobs\"] = True\n",
    "\n",
    "\n",
    "# set env vars\n",
    "os.environ['SPYGLASS_BASE_DIR'] = str(base_dir)\n",
    "os.environ['SPYGLASS_TEMP_DIR'] = str(tmp_dir)\n",
    "os.environ['KACHERY_CLOUD_DIR'] = '/home/kyu/.kachery-cloud'\n",
    "os.environ['DJ_SUPPORT_FILEPATH_MANAGEMENT'] = 'TRUE'\n",
    "\n",
    "\n",
    "%load_ext autoreload\n",
    "%autoreload 2"
   ]
  },
  {
   "cell_type": "markdown",
   "id": "84e7c0b5-f660-4304-9b87-08f5bbf4dbac",
   "metadata": {},
   "source": [
    "import"
   ]
  },
  {
   "cell_type": "code",
   "execution_count": 2,
   "id": "16345184-c012-486c-b0b6-c914168f2449",
   "metadata": {},
   "outputs": [
    {
     "name": "stderr",
     "output_type": "stream",
     "text": [
      "[2023-11-15 15:43:38,458][INFO]: Connecting root@localhost:3306\n",
      "[2023-11-15 15:43:38,532][INFO]: Connected root@localhost:3306\n"
     ]
    }
   ],
   "source": [
    "import spyglass as sg\n",
    "import spyglass.common as sgc\n",
    "import spyglass.spikesorting.v1 as sgs\n",
    "import spyglass.data_import as sgi"
   ]
  },
  {
   "cell_type": "markdown",
   "id": "48d2c06a-feb6-438c-94b3-4028127e2101",
   "metadata": {},
   "source": [
    "insert LabMember and Session"
   ]
  },
  {
   "cell_type": "code",
   "execution_count": 3,
   "id": "a3a0ecdf-8dad-41d5-9ee2-fa60f80c746d",
   "metadata": {},
   "outputs": [],
   "source": [
    "nwb_file_name = \"wilbur20210326.nwb\"\n",
    "nwb_file_name2 = \"wilbur20210326_.nwb\""
   ]
  },
  {
   "cell_type": "code",
   "execution_count": 4,
   "id": "69e258e0-2c55-434a-afb5-00cf635bac84",
   "metadata": {},
   "outputs": [
    {
     "name": "stdout",
     "output_type": "stream",
     "text": [
      "Please add the Google user ID for Alison Comrie in the LabMember.LabMemberInfo table to help manage permissions.\n"
     ]
    }
   ],
   "source": [
    "sgc.LabMember.insert_from_nwbfile(nwb_file_name)"
   ]
  },
  {
   "cell_type": "code",
   "execution_count": 5,
   "id": "dfa1b73e-da6e-470f-aff6-0d45c3ddff5c",
   "metadata": {},
   "outputs": [],
   "source": [
    "sgi.insert_sessions(nwb_file_name)"
   ]
  },
  {
   "cell_type": "markdown",
   "id": "5f3dfe2d-4645-44f9-b169-479292215afe",
   "metadata": {},
   "source": [
    "insert SortGroup"
   ]
  },
  {
   "cell_type": "code",
   "execution_count": 6,
   "id": "a269f6af-eb16-4551-b511-a264368c9490",
   "metadata": {},
   "outputs": [],
   "source": [
    "sgs.SortGroup.set_group_by_shank(nwb_file_name=nwb_file_name2)"
   ]
  },
  {
   "cell_type": "markdown",
   "id": "1c55792e-f9ba-4e0d-a4d2-8c60bf0e8f34",
   "metadata": {},
   "source": [
    "insert SpikeSortingRecordingSelection. use `insert_selection` method. this automatically generates a unique recording id"
   ]
  },
  {
   "cell_type": "code",
   "execution_count": 7,
   "id": "5b307631-3cc5-4859-9e95-aeedf6a3de56",
   "metadata": {},
   "outputs": [],
   "source": [
    "key = {\"nwb_file_name\" : nwb_file_name2,\n",
    "       \"sort_group_name\" : \"0\",\n",
    "       \"interval_list_name\" : \"03_r1\",\n",
    "       \"preproc_param_name\" : \"default\",\n",
    "       \"team_name\" : \"Alison Comrie\"}"
   ]
  },
  {
   "cell_type": "code",
   "execution_count": 8,
   "id": "e6d0dcb0-acfe-4adb-8da6-a5570b97f48a",
   "metadata": {},
   "outputs": [
    {
     "name": "stdout",
     "output_type": "stream",
     "text": [
      "This row has already been inserted into SpikeSortingRecordingSelection.\n"
     ]
    },
    {
     "data": {
      "text/plain": [
       "{'recording_id': 'wilbur20210326_.nwb_R_9492dd',\n",
       " 'nwb_file_name': 'wilbur20210326_.nwb',\n",
       " 'sort_group_name': '0',\n",
       " 'interval_list_name': '03_r1',\n",
       " 'preproc_param_name': 'default',\n",
       " 'team_name': 'Alison Comrie'}"
      ]
     },
     "execution_count": 8,
     "metadata": {},
     "output_type": "execute_result"
    }
   ],
   "source": [
    "sgs.SpikeSortingRecordingSelection.insert_selection(key)"
   ]
  },
  {
   "cell_type": "code",
   "execution_count": 9,
   "id": "3e61248f-1f55-4782-9018-ff1891acfc16",
   "metadata": {},
   "outputs": [
    {
     "data": {
      "text/html": [
       "\n",
       "    \n",
       "    <style type=\"text/css\">\n",
       "        .Relation{\n",
       "            border-collapse:collapse;\n",
       "        }\n",
       "        .Relation th{\n",
       "            background: #A0A0A0; color: #ffffff; padding:4px; border:#f0e0e0 1px solid;\n",
       "            font-weight: normal; font-family: monospace; font-size: 100%;\n",
       "        }\n",
       "        .Relation td{\n",
       "            padding:4px; border:#f0e0e0 1px solid; font-size:100%;\n",
       "        }\n",
       "        .Relation tr:nth-child(odd){\n",
       "            background: #ffffff;\n",
       "        }\n",
       "        .Relation tr:nth-child(even){\n",
       "            background: #f3f1ff;\n",
       "        }\n",
       "        /* Tooltip container */\n",
       "        .djtooltip {\n",
       "        }\n",
       "        /* Tooltip text */\n",
       "        .djtooltip .djtooltiptext {\n",
       "            visibility: hidden;\n",
       "            width: 120px;\n",
       "            background-color: black;\n",
       "            color: #fff;\n",
       "            text-align: center;\n",
       "            padding: 5px 0;\n",
       "            border-radius: 6px;\n",
       "            /* Position the tooltip text - see examples below! */\n",
       "            position: absolute;\n",
       "            z-index: 1;\n",
       "        }\n",
       "        #primary {\n",
       "            font-weight: bold;\n",
       "            color: black;\n",
       "        }\n",
       "        #nonprimary {\n",
       "            font-weight: normal;\n",
       "            color: white;\n",
       "        }\n",
       "\n",
       "        /* Show the tooltip text when you mouse over the tooltip container */\n",
       "        .djtooltip:hover .djtooltiptext {\n",
       "            visibility: visible;\n",
       "        }\n",
       "    </style>\n",
       "    \n",
       "    <b>Raw voltage traces and parameters. Use `insert_selection` method to insert rows.</b>\n",
       "        <div style=\"max-height:1000px;max-width:1500px;overflow:auto;\">\n",
       "        <table border=\"1\" class=\"Relation\">\n",
       "            <thead> <tr style=\"text-align: right;\"> <th> <div class=\"djtooltip\">\n",
       "                            <p id=\"primary\">recording_id</p>\n",
       "                            <span class=\"djtooltiptext\"></span>\n",
       "                        </div></th><th><div class=\"djtooltip\">\n",
       "                            <p id=\"nonprimary\">nwb_file_name</p>\n",
       "                            <span class=\"djtooltiptext\">name of the NWB file</span>\n",
       "                        </div></th><th><div class=\"djtooltip\">\n",
       "                            <p id=\"nonprimary\">sort_group_name</p>\n",
       "                            <span class=\"djtooltiptext\"></span>\n",
       "                        </div></th><th><div class=\"djtooltip\">\n",
       "                            <p id=\"nonprimary\">interval_list_name</p>\n",
       "                            <span class=\"djtooltiptext\">descriptive name of this interval list</span>\n",
       "                        </div></th><th><div class=\"djtooltip\">\n",
       "                            <p id=\"nonprimary\">preproc_param_name</p>\n",
       "                            <span class=\"djtooltiptext\"></span>\n",
       "                        </div></th><th><div class=\"djtooltip\">\n",
       "                            <p id=\"nonprimary\">team_name</p>\n",
       "                            <span class=\"djtooltiptext\"></span>\n",
       "                        </div> </th> </tr> </thead>\n",
       "            <tbody> <tr> <td>wilbur20210326_.nwb_R_9492dd</td>\n",
       "<td>wilbur20210326_.nwb</td>\n",
       "<td>0</td>\n",
       "<td>03_r1</td>\n",
       "<td>default</td>\n",
       "<td>Alison Comrie</td> </tr> </tbody>\n",
       "        </table>\n",
       "        \n",
       "        <p>Total: 1</p></div>\n",
       "        "
      ],
      "text/plain": [
       "*recording_id  nwb_file_name  sort_group_nam interval_list_ preproc_param_ team_name     \n",
       "+------------+ +------------+ +------------+ +------------+ +------------+ +------------+\n",
       "wilbur20210326 wilbur20210326 0              03_r1          default        Alison Comrie \n",
       " (Total: 1)"
      ]
     },
     "execution_count": 9,
     "metadata": {},
     "output_type": "execute_result"
    }
   ],
   "source": [
    "sgs.SpikeSortingRecordingSelection()"
   ]
  },
  {
   "cell_type": "markdown",
   "id": "2fc85684-71a2-4e37-9ad7-a3a923749c8f",
   "metadata": {},
   "source": [
    "preprocess recording (filtering and referencing)"
   ]
  },
  {
   "cell_type": "code",
   "execution_count": 10,
   "id": "1bd48e28-d40e-4cf3-a89e-58d4c3cb08e8",
   "metadata": {},
   "outputs": [],
   "source": [
    "sgs.SpikeSortingRecording.populate()"
   ]
  },
  {
   "cell_type": "code",
   "execution_count": 11,
   "id": "9a9bf343-5b5e-457c-8bf4-f12b194a5489",
   "metadata": {},
   "outputs": [
    {
     "data": {
      "text/html": [
       "\n",
       "    \n",
       "    <style type=\"text/css\">\n",
       "        .Relation{\n",
       "            border-collapse:collapse;\n",
       "        }\n",
       "        .Relation th{\n",
       "            background: #A0A0A0; color: #ffffff; padding:4px; border:#f0e0e0 1px solid;\n",
       "            font-weight: normal; font-family: monospace; font-size: 100%;\n",
       "        }\n",
       "        .Relation td{\n",
       "            padding:4px; border:#f0e0e0 1px solid; font-size:100%;\n",
       "        }\n",
       "        .Relation tr:nth-child(odd){\n",
       "            background: #ffffff;\n",
       "        }\n",
       "        .Relation tr:nth-child(even){\n",
       "            background: #f3f1ff;\n",
       "        }\n",
       "        /* Tooltip container */\n",
       "        .djtooltip {\n",
       "        }\n",
       "        /* Tooltip text */\n",
       "        .djtooltip .djtooltiptext {\n",
       "            visibility: hidden;\n",
       "            width: 120px;\n",
       "            background-color: black;\n",
       "            color: #fff;\n",
       "            text-align: center;\n",
       "            padding: 5px 0;\n",
       "            border-radius: 6px;\n",
       "            /* Position the tooltip text - see examples below! */\n",
       "            position: absolute;\n",
       "            z-index: 1;\n",
       "        }\n",
       "        #primary {\n",
       "            font-weight: bold;\n",
       "            color: black;\n",
       "        }\n",
       "        #nonprimary {\n",
       "            font-weight: normal;\n",
       "            color: white;\n",
       "        }\n",
       "\n",
       "        /* Show the tooltip text when you mouse over the tooltip container */\n",
       "        .djtooltip:hover .djtooltiptext {\n",
       "            visibility: visible;\n",
       "        }\n",
       "    </style>\n",
       "    \n",
       "    <b>Processed recording</b>\n",
       "        <div style=\"max-height:1000px;max-width:1500px;overflow:auto;\">\n",
       "        <table border=\"1\" class=\"Relation\">\n",
       "            <thead> <tr style=\"text-align: right;\"> <th> <div class=\"djtooltip\">\n",
       "                            <p id=\"primary\">recording_id</p>\n",
       "                            <span class=\"djtooltiptext\"></span>\n",
       "                        </div></th><th><div class=\"djtooltip\">\n",
       "                            <p id=\"nonprimary\">analysis_file_name</p>\n",
       "                            <span class=\"djtooltiptext\">name of the file</span>\n",
       "                        </div></th><th><div class=\"djtooltip\">\n",
       "                            <p id=\"nonprimary\">object_id</p>\n",
       "                            <span class=\"djtooltiptext\">Object ID for the processed recording in NWB file</span>\n",
       "                        </div> </th> </tr> </thead>\n",
       "            <tbody> <tr> <td>wilbur20210326_.nwb_R_9492dd</td>\n",
       "<td>wilbur20210326_XPEBDC33L0.nwb</td>\n",
       "<td>837bc39a-82fc-492b-b366-d51cb98bc716</td> </tr> </tbody>\n",
       "        </table>\n",
       "        \n",
       "        <p>Total: 1</p></div>\n",
       "        "
      ],
      "text/plain": [
       "*recording_id  analysis_file_ object_id     \n",
       "+------------+ +------------+ +------------+\n",
       "wilbur20210326 wilbur20210326 837bc39a-82fc-\n",
       " (Total: 1)"
      ]
     },
     "execution_count": 11,
     "metadata": {},
     "output_type": "execute_result"
    }
   ],
   "source": [
    "sgs.SpikeSortingRecording()"
   ]
  },
  {
   "cell_type": "markdown",
   "id": "1955ed06-d754-470a-b5b3-94df6c3e03eb",
   "metadata": {},
   "source": [
    "insert ArtifactDetectionSelection"
   ]
  },
  {
   "cell_type": "code",
   "execution_count": 12,
   "id": "74415172-f2da-4fd3-ab43-01857d682b0d",
   "metadata": {},
   "outputs": [
    {
     "name": "stdout",
     "output_type": "stream",
     "text": [
      "This row has already been inserted into ArtifactDetectionSelection.\n"
     ]
    },
    {
     "data": {
      "text/plain": [
       "{'artifact_id': 'wilbur20210326_.nwb_A_1745f2',\n",
       " 'recording_id': 'wilbur20210326_.nwb_R_9492dd',\n",
       " 'artifact_param_name': 'default'}"
      ]
     },
     "execution_count": 12,
     "metadata": {},
     "output_type": "execute_result"
    }
   ],
   "source": [
    "sgs.ArtifactDetectionSelection.insert_selection({'recording_id':'wilbur20210326_.nwb_R_9492dd',\n",
    "                                                 'artifact_param_name':'default'})"
   ]
  },
  {
   "cell_type": "markdown",
   "id": "a1fe3cf8-07c2-4743-90f6-8a8025bec696",
   "metadata": {},
   "source": [
    "detect artifact; note the output is stored in IntervalList"
   ]
  },
  {
   "cell_type": "code",
   "execution_count": 13,
   "id": "bd89c36c-c05b-4b4a-85d9-7679fed173d1",
   "metadata": {},
   "outputs": [],
   "source": [
    "sgs.ArtifactDetection.populate()"
   ]
  },
  {
   "cell_type": "code",
   "execution_count": 14,
   "id": "ca9a9f64-0afc-4c83-b22c-0ed120cb87f6",
   "metadata": {},
   "outputs": [
    {
     "data": {
      "text/html": [
       "\n",
       "    \n",
       "    <style type=\"text/css\">\n",
       "        .Relation{\n",
       "            border-collapse:collapse;\n",
       "        }\n",
       "        .Relation th{\n",
       "            background: #A0A0A0; color: #ffffff; padding:4px; border:#f0e0e0 1px solid;\n",
       "            font-weight: normal; font-family: monospace; font-size: 100%;\n",
       "        }\n",
       "        .Relation td{\n",
       "            padding:4px; border:#f0e0e0 1px solid; font-size:100%;\n",
       "        }\n",
       "        .Relation tr:nth-child(odd){\n",
       "            background: #ffffff;\n",
       "        }\n",
       "        .Relation tr:nth-child(even){\n",
       "            background: #f3f1ff;\n",
       "        }\n",
       "        /* Tooltip container */\n",
       "        .djtooltip {\n",
       "        }\n",
       "        /* Tooltip text */\n",
       "        .djtooltip .djtooltiptext {\n",
       "            visibility: hidden;\n",
       "            width: 120px;\n",
       "            background-color: black;\n",
       "            color: #fff;\n",
       "            text-align: center;\n",
       "            padding: 5px 0;\n",
       "            border-radius: 6px;\n",
       "            /* Position the tooltip text - see examples below! */\n",
       "            position: absolute;\n",
       "            z-index: 1;\n",
       "        }\n",
       "        #primary {\n",
       "            font-weight: bold;\n",
       "            color: black;\n",
       "        }\n",
       "        #nonprimary {\n",
       "            font-weight: normal;\n",
       "            color: white;\n",
       "        }\n",
       "\n",
       "        /* Show the tooltip text when you mouse over the tooltip container */\n",
       "        .djtooltip:hover .djtooltiptext {\n",
       "            visibility: visible;\n",
       "        }\n",
       "    </style>\n",
       "    \n",
       "    <b>Detects artifacts (e.g. large transients from movement) and saves artifact-free intervals in IntervalList.</b>\n",
       "        <div style=\"max-height:1000px;max-width:1500px;overflow:auto;\">\n",
       "        <table border=\"1\" class=\"Relation\">\n",
       "            <thead> <tr style=\"text-align: right;\"> <th> <div class=\"djtooltip\">\n",
       "                            <p id=\"primary\">artifact_id</p>\n",
       "                            <span class=\"djtooltiptext\"></span>\n",
       "                        </div> </th> </tr> </thead>\n",
       "            <tbody> <tr> <td>wilbur20210326_.nwb_A_1745f2</td> </tr> </tbody>\n",
       "        </table>\n",
       "        \n",
       "        <p>Total: 1</p></div>\n",
       "        "
      ],
      "text/plain": [
       "*artifact_id  \n",
       "+------------+\n",
       "wilbur20210326\n",
       " (Total: 1)"
      ]
     },
     "execution_count": 14,
     "metadata": {},
     "output_type": "execute_result"
    }
   ],
   "source": [
    "sgs.ArtifactDetection()"
   ]
  },
  {
   "cell_type": "markdown",
   "id": "65ae0f70-2d8d-40d4-86c9-2ab206b28ca9",
   "metadata": {},
   "source": [
    "insert SpikeSortingSelection. again use `insert_selection` method"
   ]
  },
  {
   "cell_type": "code",
   "execution_count": 15,
   "id": "34246883-9dc4-43c5-a438-009215a3a35e",
   "metadata": {},
   "outputs": [],
   "source": [
    "key = {\n",
    "        \"recording_id\":\"wilbur20210326_.nwb_R_9492dd\",\n",
    "        \"sorter\":\"mountainsort4\",\n",
    "        \"sorter_param_name\": \"franklab_tetrode_hippocampus_30KHz\",\n",
    "        \"nwb_file_name\":nwb_file_name2,\n",
    "        \"interval_list_name\":\"wilbur20210326_.nwb_A_1745f2\"\n",
    "    }"
   ]
  },
  {
   "cell_type": "code",
   "execution_count": 16,
   "id": "68856fb6-b5c2-4ee4-b300-43a117e453a1",
   "metadata": {},
   "outputs": [
    {
     "name": "stdout",
     "output_type": "stream",
     "text": [
      "This row has already been inserted into SpikeSortingSelection.\n"
     ]
    },
    {
     "data": {
      "text/plain": [
       "{'sorting_id': 'wilbur20210326_.nwb_S_f78ec9',\n",
       " 'recording_id': 'wilbur20210326_.nwb_R_9492dd',\n",
       " 'sorter': 'mountainsort4',\n",
       " 'sorter_param_name': 'franklab_tetrode_hippocampus_30KHz',\n",
       " 'nwb_file_name': 'wilbur20210326_.nwb',\n",
       " 'interval_list_name': 'wilbur20210326_.nwb_A_1745f2'}"
      ]
     },
     "execution_count": 16,
     "metadata": {},
     "output_type": "execute_result"
    }
   ],
   "source": [
    "sgs.SpikeSortingSelection.insert_selection(key)"
   ]
  },
  {
   "cell_type": "code",
   "execution_count": 17,
   "id": "2caed63b-6094-4a59-b8d9-6a0f186b2d3f",
   "metadata": {},
   "outputs": [
    {
     "data": {
      "text/html": [
       "\n",
       "    \n",
       "    <style type=\"text/css\">\n",
       "        .Relation{\n",
       "            border-collapse:collapse;\n",
       "        }\n",
       "        .Relation th{\n",
       "            background: #A0A0A0; color: #ffffff; padding:4px; border:#f0e0e0 1px solid;\n",
       "            font-weight: normal; font-family: monospace; font-size: 100%;\n",
       "        }\n",
       "        .Relation td{\n",
       "            padding:4px; border:#f0e0e0 1px solid; font-size:100%;\n",
       "        }\n",
       "        .Relation tr:nth-child(odd){\n",
       "            background: #ffffff;\n",
       "        }\n",
       "        .Relation tr:nth-child(even){\n",
       "            background: #f3f1ff;\n",
       "        }\n",
       "        /* Tooltip container */\n",
       "        .djtooltip {\n",
       "        }\n",
       "        /* Tooltip text */\n",
       "        .djtooltip .djtooltiptext {\n",
       "            visibility: hidden;\n",
       "            width: 120px;\n",
       "            background-color: black;\n",
       "            color: #fff;\n",
       "            text-align: center;\n",
       "            padding: 5px 0;\n",
       "            border-radius: 6px;\n",
       "            /* Position the tooltip text - see examples below! */\n",
       "            position: absolute;\n",
       "            z-index: 1;\n",
       "        }\n",
       "        #primary {\n",
       "            font-weight: bold;\n",
       "            color: black;\n",
       "        }\n",
       "        #nonprimary {\n",
       "            font-weight: normal;\n",
       "            color: white;\n",
       "        }\n",
       "\n",
       "        /* Show the tooltip text when you mouse over the tooltip container */\n",
       "        .djtooltip:hover .djtooltiptext {\n",
       "            visibility: visible;\n",
       "        }\n",
       "    </style>\n",
       "    \n",
       "    <b>Processed recording and parameters. Use `insert_selection` method to insert rows.</b>\n",
       "        <div style=\"max-height:1000px;max-width:1500px;overflow:auto;\">\n",
       "        <table border=\"1\" class=\"Relation\">\n",
       "            <thead> <tr style=\"text-align: right;\"> <th> <div class=\"djtooltip\">\n",
       "                            <p id=\"primary\">sorting_id</p>\n",
       "                            <span class=\"djtooltiptext\"></span>\n",
       "                        </div></th><th><div class=\"djtooltip\">\n",
       "                            <p id=\"nonprimary\">recording_id</p>\n",
       "                            <span class=\"djtooltiptext\"></span>\n",
       "                        </div></th><th><div class=\"djtooltip\">\n",
       "                            <p id=\"nonprimary\">sorter</p>\n",
       "                            <span class=\"djtooltiptext\"></span>\n",
       "                        </div></th><th><div class=\"djtooltip\">\n",
       "                            <p id=\"nonprimary\">sorter_param_name</p>\n",
       "                            <span class=\"djtooltiptext\"></span>\n",
       "                        </div></th><th><div class=\"djtooltip\">\n",
       "                            <p id=\"nonprimary\">nwb_file_name</p>\n",
       "                            <span class=\"djtooltiptext\">name of the NWB file</span>\n",
       "                        </div></th><th><div class=\"djtooltip\">\n",
       "                            <p id=\"nonprimary\">interval_list_name</p>\n",
       "                            <span class=\"djtooltiptext\">descriptive name of this interval list</span>\n",
       "                        </div> </th> </tr> </thead>\n",
       "            <tbody> <tr> <td>wilbur20210326_.nwb_S_f78ec9</td>\n",
       "<td>wilbur20210326_.nwb_R_9492dd</td>\n",
       "<td>mountainsort4</td>\n",
       "<td>franklab_tetrode_hippocampus_30KHz</td>\n",
       "<td>wilbur20210326_.nwb</td>\n",
       "<td>wilbur20210326_.nwb_A_1745f2</td> </tr> </tbody>\n",
       "        </table>\n",
       "        \n",
       "        <p>Total: 1</p></div>\n",
       "        "
      ],
      "text/plain": [
       "*sorting_id    recording_id   sorter         sorter_param_n nwb_file_name  interval_list_\n",
       "+------------+ +------------+ +------------+ +------------+ +------------+ +------------+\n",
       "wilbur20210326 wilbur20210326 mountainsort4  franklab_tetro wilbur20210326 wilbur20210326\n",
       " (Total: 1)"
      ]
     },
     "execution_count": 17,
     "metadata": {},
     "output_type": "execute_result"
    }
   ],
   "source": [
    "sgs.SpikeSortingSelection()"
   ]
  },
  {
   "cell_type": "markdown",
   "id": "bb343fb7-04d6-48fc-bf67-9919769a7a52",
   "metadata": {},
   "source": [
    "run spike sorting"
   ]
  },
  {
   "cell_type": "code",
   "execution_count": 18,
   "id": "4cdc09d9-af18-420c-9707-7a439d5686a8",
   "metadata": {},
   "outputs": [],
   "source": [
    "sgs.SpikeSorting.populate()"
   ]
  },
  {
   "cell_type": "code",
   "execution_count": 19,
   "id": "54ccf059-b1ae-42e8-aede-4af30a61fd2b",
   "metadata": {},
   "outputs": [
    {
     "data": {
      "text/html": [
       "\n",
       "    \n",
       "    <style type=\"text/css\">\n",
       "        .Relation{\n",
       "            border-collapse:collapse;\n",
       "        }\n",
       "        .Relation th{\n",
       "            background: #A0A0A0; color: #ffffff; padding:4px; border:#f0e0e0 1px solid;\n",
       "            font-weight: normal; font-family: monospace; font-size: 100%;\n",
       "        }\n",
       "        .Relation td{\n",
       "            padding:4px; border:#f0e0e0 1px solid; font-size:100%;\n",
       "        }\n",
       "        .Relation tr:nth-child(odd){\n",
       "            background: #ffffff;\n",
       "        }\n",
       "        .Relation tr:nth-child(even){\n",
       "            background: #f3f1ff;\n",
       "        }\n",
       "        /* Tooltip container */\n",
       "        .djtooltip {\n",
       "        }\n",
       "        /* Tooltip text */\n",
       "        .djtooltip .djtooltiptext {\n",
       "            visibility: hidden;\n",
       "            width: 120px;\n",
       "            background-color: black;\n",
       "            color: #fff;\n",
       "            text-align: center;\n",
       "            padding: 5px 0;\n",
       "            border-radius: 6px;\n",
       "            /* Position the tooltip text - see examples below! */\n",
       "            position: absolute;\n",
       "            z-index: 1;\n",
       "        }\n",
       "        #primary {\n",
       "            font-weight: bold;\n",
       "            color: black;\n",
       "        }\n",
       "        #nonprimary {\n",
       "            font-weight: normal;\n",
       "            color: white;\n",
       "        }\n",
       "\n",
       "        /* Show the tooltip text when you mouse over the tooltip container */\n",
       "        .djtooltip:hover .djtooltiptext {\n",
       "            visibility: visible;\n",
       "        }\n",
       "    </style>\n",
       "    \n",
       "    <b></b>\n",
       "        <div style=\"max-height:1000px;max-width:1500px;overflow:auto;\">\n",
       "        <table border=\"1\" class=\"Relation\">\n",
       "            <thead> <tr style=\"text-align: right;\"> <th> <div class=\"djtooltip\">\n",
       "                            <p id=\"primary\">sorting_id</p>\n",
       "                            <span class=\"djtooltiptext\"></span>\n",
       "                        </div></th><th><div class=\"djtooltip\">\n",
       "                            <p id=\"nonprimary\">analysis_file_name</p>\n",
       "                            <span class=\"djtooltiptext\">name of the file</span>\n",
       "                        </div></th><th><div class=\"djtooltip\">\n",
       "                            <p id=\"nonprimary\">object_id</p>\n",
       "                            <span class=\"djtooltiptext\">Object ID for the sorting in NWB file</span>\n",
       "                        </div></th><th><div class=\"djtooltip\">\n",
       "                            <p id=\"nonprimary\">time_of_sort</p>\n",
       "                            <span class=\"djtooltiptext\">in Unix time, to the nearest second</span>\n",
       "                        </div> </th> </tr> </thead>\n",
       "            <tbody> <tr> <td>wilbur20210326_.nwb_S_f78ec9</td>\n",
       "<td>wilbur20210326_FRIEZ5O5ZD.nwb</td>\n",
       "<td>d160ce6c-9cd2-4d5a-962a-21a958045843</td>\n",
       "<td>1700028234</td> </tr> </tbody>\n",
       "        </table>\n",
       "        \n",
       "        <p>Total: 1</p></div>\n",
       "        "
      ],
      "text/plain": [
       "*sorting_id    analysis_file_ object_id      time_of_sort  \n",
       "+------------+ +------------+ +------------+ +------------+\n",
       "wilbur20210326 wilbur20210326 d160ce6c-9cd2- 1700028234    \n",
       " (Total: 1)"
      ]
     },
     "execution_count": 19,
     "metadata": {},
     "output_type": "execute_result"
    }
   ],
   "source": [
    "sgs.SpikeSorting()"
   ]
  },
  {
   "cell_type": "markdown",
   "id": "ea8fcaa0-9dd7-4870-9f5b-be039e3579cc",
   "metadata": {},
   "source": [
    "we have two main ways of curating spike sorting: by computing quality metrics and applying threshold; and manually applying curation labels. to do so, we first insert CurationV1. use `insert_curation` method."
   ]
  },
  {
   "cell_type": "code",
   "execution_count": 20,
   "id": "0589a3f2-4977-407f-b49d-4ae3f882ae21",
   "metadata": {},
   "outputs": [
    {
     "data": {
      "text/plain": [
       "[{'sorting_id': 'wilbur20210326_.nwb_S_f78ec9', 'curation_id': 0}]"
      ]
     },
     "execution_count": 20,
     "metadata": {},
     "output_type": "execute_result"
    }
   ],
   "source": [
    "sgs.CurationV1.insert_curation(sorting_id=\"wilbur20210326_.nwb_S_f78ec9\",\n",
    "                               description=\"testing sort\")"
   ]
  },
  {
   "cell_type": "code",
   "execution_count": 21,
   "id": "5bec5b97-4e9f-4ee9-a6b5-4f05f4726744",
   "metadata": {},
   "outputs": [
    {
     "data": {
      "text/html": [
       "\n",
       "    \n",
       "    <style type=\"text/css\">\n",
       "        .Relation{\n",
       "            border-collapse:collapse;\n",
       "        }\n",
       "        .Relation th{\n",
       "            background: #A0A0A0; color: #ffffff; padding:4px; border:#f0e0e0 1px solid;\n",
       "            font-weight: normal; font-family: monospace; font-size: 100%;\n",
       "        }\n",
       "        .Relation td{\n",
       "            padding:4px; border:#f0e0e0 1px solid; font-size:100%;\n",
       "        }\n",
       "        .Relation tr:nth-child(odd){\n",
       "            background: #ffffff;\n",
       "        }\n",
       "        .Relation tr:nth-child(even){\n",
       "            background: #f3f1ff;\n",
       "        }\n",
       "        /* Tooltip container */\n",
       "        .djtooltip {\n",
       "        }\n",
       "        /* Tooltip text */\n",
       "        .djtooltip .djtooltiptext {\n",
       "            visibility: hidden;\n",
       "            width: 120px;\n",
       "            background-color: black;\n",
       "            color: #fff;\n",
       "            text-align: center;\n",
       "            padding: 5px 0;\n",
       "            border-radius: 6px;\n",
       "            /* Position the tooltip text - see examples below! */\n",
       "            position: absolute;\n",
       "            z-index: 1;\n",
       "        }\n",
       "        #primary {\n",
       "            font-weight: bold;\n",
       "            color: black;\n",
       "        }\n",
       "        #nonprimary {\n",
       "            font-weight: normal;\n",
       "            color: white;\n",
       "        }\n",
       "\n",
       "        /* Show the tooltip text when you mouse over the tooltip container */\n",
       "        .djtooltip:hover .djtooltiptext {\n",
       "            visibility: visible;\n",
       "        }\n",
       "    </style>\n",
       "    \n",
       "    <b>Curation of a SpikeSorting. Use `insert_curation` to insert rows.</b>\n",
       "        <div style=\"max-height:1000px;max-width:1500px;overflow:auto;\">\n",
       "        <table border=\"1\" class=\"Relation\">\n",
       "            <thead> <tr style=\"text-align: right;\"> <th> <div class=\"djtooltip\">\n",
       "                            <p id=\"primary\">sorting_id</p>\n",
       "                            <span class=\"djtooltiptext\"></span>\n",
       "                        </div></th><th><div class=\"djtooltip\">\n",
       "                            <p id=\"primary\">curation_id</p>\n",
       "                            <span class=\"djtooltiptext\"></span>\n",
       "                        </div></th><th><div class=\"djtooltip\">\n",
       "                            <p id=\"nonprimary\">parent_curation_id</p>\n",
       "                            <span class=\"djtooltiptext\"></span>\n",
       "                        </div></th><th><div class=\"djtooltip\">\n",
       "                            <p id=\"nonprimary\">analysis_file_name</p>\n",
       "                            <span class=\"djtooltiptext\">name of the file</span>\n",
       "                        </div></th><th><div class=\"djtooltip\">\n",
       "                            <p id=\"nonprimary\">object_id</p>\n",
       "                            <span class=\"djtooltiptext\"></span>\n",
       "                        </div></th><th><div class=\"djtooltip\">\n",
       "                            <p id=\"nonprimary\">merges_applied</p>\n",
       "                            <span class=\"djtooltiptext\"></span>\n",
       "                        </div></th><th><div class=\"djtooltip\">\n",
       "                            <p id=\"nonprimary\">description</p>\n",
       "                            <span class=\"djtooltiptext\"></span>\n",
       "                        </div> </th> </tr> </thead>\n",
       "            <tbody> <tr> <td>wilbur20210326_.nwb_S_f78ec9</td>\n",
       "<td>0</td>\n",
       "<td>-1</td>\n",
       "<td>wilbur20210326_VUWVJ7HJBL.nwb</td>\n",
       "<td>a644b8c6-5f3b-4914-bb0b-ea349ef53826</td>\n",
       "<td>False</td>\n",
       "<td>testing sort</td></tr><tr><td>wilbur20210326_.nwb_S_f78ec9</td>\n",
       "<td>1</td>\n",
       "<td>0</td>\n",
       "<td>wilbur20210326_TCDLNG711X.nwb</td>\n",
       "<td>7b20aa0a-08d3-4dd2-b294-f557f82fa632</td>\n",
       "<td>False</td>\n",
       "<td>after metric curation</td> </tr> </tbody>\n",
       "        </table>\n",
       "        \n",
       "        <p>Total: 2</p></div>\n",
       "        "
      ],
      "text/plain": [
       "*sorting_id    *curation_id   parent_curatio analysis_file_ object_id      merges_applied description   \n",
       "+------------+ +------------+ +------------+ +------------+ +------------+ +------------+ +------------+\n",
       "wilbur20210326 0              -1             wilbur20210326 a644b8c6-5f3b- False          testing sort  \n",
       "wilbur20210326 1              0              wilbur20210326 7b20aa0a-08d3- False          after metric c\n",
       " (Total: 2)"
      ]
     },
     "execution_count": 21,
     "metadata": {},
     "output_type": "execute_result"
    }
   ],
   "source": [
    "sgs.CurationV1()"
   ]
  },
  {
   "cell_type": "markdown",
   "id": "97317b6f-a40a-4f84-8042-4361064f010a",
   "metadata": {},
   "source": [
    "we will first do an automatic curation based on quality metrics"
   ]
  },
  {
   "cell_type": "code",
   "execution_count": 22,
   "id": "7207abda-ea84-43af-97d4-e5be3464d28d",
   "metadata": {},
   "outputs": [],
   "source": [
    "key = {\n",
    "    \"sorting_id\":\"wilbur20210326_.nwb_S_f78ec9\",\n",
    "    \"curation_id\":0,\n",
    "    \"waveform_param_name\":\"default_not_whitened\",\n",
    "    \"metric_param_name\":\"franklab_default\",\n",
    "    \"metric_curation_param_name\":\"default\"\n",
    "}"
   ]
  },
  {
   "cell_type": "code",
   "execution_count": 23,
   "id": "14c2eacc-cc45-4e61-9919-04785a721079",
   "metadata": {},
   "outputs": [
    {
     "name": "stdout",
     "output_type": "stream",
     "text": [
      "This row has already been inserted into MetricCurationSelection.\n"
     ]
    },
    {
     "data": {
      "text/plain": [
       "{'metric_curation_id': 'wilbur20210326_.nwb_MC_d9e746',\n",
       " 'sorting_id': 'wilbur20210326_.nwb_S_f78ec9',\n",
       " 'curation_id': 0,\n",
       " 'waveform_param_name': 'default_not_whitened',\n",
       " 'metric_param_name': 'franklab_default',\n",
       " 'metric_curation_param_name': 'default'}"
      ]
     },
     "execution_count": 23,
     "metadata": {},
     "output_type": "execute_result"
    }
   ],
   "source": [
    "sgs.MetricCurationSelection.insert_selection(key)"
   ]
  },
  {
   "cell_type": "code",
   "execution_count": 24,
   "id": "d73244b3-f754-4701-be52-ea261eb4185c",
   "metadata": {},
   "outputs": [
    {
     "data": {
      "text/html": [
       "\n",
       "    \n",
       "    <style type=\"text/css\">\n",
       "        .Relation{\n",
       "            border-collapse:collapse;\n",
       "        }\n",
       "        .Relation th{\n",
       "            background: #A0A0A0; color: #ffffff; padding:4px; border:#f0e0e0 1px solid;\n",
       "            font-weight: normal; font-family: monospace; font-size: 100%;\n",
       "        }\n",
       "        .Relation td{\n",
       "            padding:4px; border:#f0e0e0 1px solid; font-size:100%;\n",
       "        }\n",
       "        .Relation tr:nth-child(odd){\n",
       "            background: #ffffff;\n",
       "        }\n",
       "        .Relation tr:nth-child(even){\n",
       "            background: #f3f1ff;\n",
       "        }\n",
       "        /* Tooltip container */\n",
       "        .djtooltip {\n",
       "        }\n",
       "        /* Tooltip text */\n",
       "        .djtooltip .djtooltiptext {\n",
       "            visibility: hidden;\n",
       "            width: 120px;\n",
       "            background-color: black;\n",
       "            color: #fff;\n",
       "            text-align: center;\n",
       "            padding: 5px 0;\n",
       "            border-radius: 6px;\n",
       "            /* Position the tooltip text - see examples below! */\n",
       "            position: absolute;\n",
       "            z-index: 1;\n",
       "        }\n",
       "        #primary {\n",
       "            font-weight: bold;\n",
       "            color: black;\n",
       "        }\n",
       "        #nonprimary {\n",
       "            font-weight: normal;\n",
       "            color: white;\n",
       "        }\n",
       "\n",
       "        /* Show the tooltip text when you mouse over the tooltip container */\n",
       "        .djtooltip:hover .djtooltiptext {\n",
       "            visibility: visible;\n",
       "        }\n",
       "    </style>\n",
       "    \n",
       "    <b></b>\n",
       "        <div style=\"max-height:1000px;max-width:1500px;overflow:auto;\">\n",
       "        <table border=\"1\" class=\"Relation\">\n",
       "            <thead> <tr style=\"text-align: right;\"> <th> <div class=\"djtooltip\">\n",
       "                            <p id=\"primary\">metric_curation_id</p>\n",
       "                            <span class=\"djtooltiptext\"></span>\n",
       "                        </div></th><th><div class=\"djtooltip\">\n",
       "                            <p id=\"nonprimary\">sorting_id</p>\n",
       "                            <span class=\"djtooltiptext\"></span>\n",
       "                        </div></th><th><div class=\"djtooltip\">\n",
       "                            <p id=\"nonprimary\">curation_id</p>\n",
       "                            <span class=\"djtooltiptext\"></span>\n",
       "                        </div></th><th><div class=\"djtooltip\">\n",
       "                            <p id=\"nonprimary\">waveform_param_name</p>\n",
       "                            <span class=\"djtooltiptext\">name of waveform extraction parameters</span>\n",
       "                        </div></th><th><div class=\"djtooltip\">\n",
       "                            <p id=\"nonprimary\">metric_param_name</p>\n",
       "                            <span class=\"djtooltiptext\"></span>\n",
       "                        </div></th><th><div class=\"djtooltip\">\n",
       "                            <p id=\"nonprimary\">metric_curation_param_name</p>\n",
       "                            <span class=\"djtooltiptext\"></span>\n",
       "                        </div> </th> </tr> </thead>\n",
       "            <tbody> <tr> <td>wilbur20210326_.nwb_MC_d9e746</td>\n",
       "<td>wilbur20210326_.nwb_S_f78ec9</td>\n",
       "<td>0</td>\n",
       "<td>default_not_whitened</td>\n",
       "<td>franklab_default</td>\n",
       "<td>default</td> </tr> </tbody>\n",
       "        </table>\n",
       "        \n",
       "        <p>Total: 1</p></div>\n",
       "        "
      ],
      "text/plain": [
       "*metric_curati sorting_id     curation_id    waveform_param metric_param_n metric_curatio\n",
       "+------------+ +------------+ +------------+ +------------+ +------------+ +------------+\n",
       "wilbur20210326 wilbur20210326 0              default_not_wh franklab_defau default       \n",
       " (Total: 1)"
      ]
     },
     "execution_count": 24,
     "metadata": {},
     "output_type": "execute_result"
    }
   ],
   "source": [
    "sgs.MetricCurationSelection()"
   ]
  },
  {
   "cell_type": "code",
   "execution_count": 25,
   "id": "d22f5725-4fd1-42ea-a1d4-590bd1353d46",
   "metadata": {},
   "outputs": [],
   "source": [
    "sgs.MetricCuration.populate()"
   ]
  },
  {
   "cell_type": "code",
   "execution_count": 26,
   "id": "eda6577c-3ed2-480a-b6ed-107d7c479084",
   "metadata": {},
   "outputs": [
    {
     "data": {
      "text/html": [
       "\n",
       "    \n",
       "    <style type=\"text/css\">\n",
       "        .Relation{\n",
       "            border-collapse:collapse;\n",
       "        }\n",
       "        .Relation th{\n",
       "            background: #A0A0A0; color: #ffffff; padding:4px; border:#f0e0e0 1px solid;\n",
       "            font-weight: normal; font-family: monospace; font-size: 100%;\n",
       "        }\n",
       "        .Relation td{\n",
       "            padding:4px; border:#f0e0e0 1px solid; font-size:100%;\n",
       "        }\n",
       "        .Relation tr:nth-child(odd){\n",
       "            background: #ffffff;\n",
       "        }\n",
       "        .Relation tr:nth-child(even){\n",
       "            background: #f3f1ff;\n",
       "        }\n",
       "        /* Tooltip container */\n",
       "        .djtooltip {\n",
       "        }\n",
       "        /* Tooltip text */\n",
       "        .djtooltip .djtooltiptext {\n",
       "            visibility: hidden;\n",
       "            width: 120px;\n",
       "            background-color: black;\n",
       "            color: #fff;\n",
       "            text-align: center;\n",
       "            padding: 5px 0;\n",
       "            border-radius: 6px;\n",
       "            /* Position the tooltip text - see examples below! */\n",
       "            position: absolute;\n",
       "            z-index: 1;\n",
       "        }\n",
       "        #primary {\n",
       "            font-weight: bold;\n",
       "            color: black;\n",
       "        }\n",
       "        #nonprimary {\n",
       "            font-weight: normal;\n",
       "            color: white;\n",
       "        }\n",
       "\n",
       "        /* Show the tooltip text when you mouse over the tooltip container */\n",
       "        .djtooltip:hover .djtooltiptext {\n",
       "            visibility: visible;\n",
       "        }\n",
       "    </style>\n",
       "    \n",
       "    <b></b>\n",
       "        <div style=\"max-height:1000px;max-width:1500px;overflow:auto;\">\n",
       "        <table border=\"1\" class=\"Relation\">\n",
       "            <thead> <tr style=\"text-align: right;\"> <th> <div class=\"djtooltip\">\n",
       "                            <p id=\"primary\">metric_curation_id</p>\n",
       "                            <span class=\"djtooltiptext\"></span>\n",
       "                        </div></th><th><div class=\"djtooltip\">\n",
       "                            <p id=\"nonprimary\">analysis_file_name</p>\n",
       "                            <span class=\"djtooltiptext\">name of the file</span>\n",
       "                        </div></th><th><div class=\"djtooltip\">\n",
       "                            <p id=\"nonprimary\">object_id</p>\n",
       "                            <span class=\"djtooltiptext\">Object ID for the metrics in NWB file</span>\n",
       "                        </div> </th> </tr> </thead>\n",
       "            <tbody> <tr> <td>wilbur20210326_.nwb_MC_d9e746</td>\n",
       "<td>wilbur20210326_6F8ZNYCG6E.nwb</td>\n",
       "<td>2366e71b-1a6a-4031-8fe4-b3c2b240841f</td> </tr> </tbody>\n",
       "        </table>\n",
       "        \n",
       "        <p>Total: 1</p></div>\n",
       "        "
      ],
      "text/plain": [
       "*metric_curati analysis_file_ object_id     \n",
       "+------------+ +------------+ +------------+\n",
       "wilbur20210326 wilbur20210326 2366e71b-1a6a-\n",
       " (Total: 1)"
      ]
     },
     "execution_count": 26,
     "metadata": {},
     "output_type": "execute_result"
    }
   ],
   "source": [
    "sgs.MetricCuration()"
   ]
  },
  {
   "cell_type": "markdown",
   "id": "54f354bf-0bfa-4148-9c5d-c5593f3f3915",
   "metadata": {},
   "source": [
    "to do another round of curation, fetch the relevant info and insert back into CurationV1 using `insert_curation`"
   ]
  },
  {
   "cell_type": "code",
   "execution_count": 27,
   "id": "544ba8c0-560e-471b-9eaf-5924f6051faa",
   "metadata": {},
   "outputs": [],
   "source": [
    "key = {\"metric_curation_id\":\"wilbur20210326_.nwb_MC_d9e746\"}"
   ]
  },
  {
   "cell_type": "code",
   "execution_count": 28,
   "id": "45f3bc4a-2842-4802-ad0f-4f333dda171e",
   "metadata": {},
   "outputs": [],
   "source": [
    "labels = sgs.MetricCuration.get_labels(key)"
   ]
  },
  {
   "cell_type": "code",
   "execution_count": 29,
   "id": "df84263f-db5a-44b7-8309-4d63d10fd883",
   "metadata": {},
   "outputs": [],
   "source": [
    "merge_groups = sgs.MetricCuration.get_merge_groups(key)"
   ]
  },
  {
   "cell_type": "code",
   "execution_count": 30,
   "id": "895c85a5-5b4f-44de-a003-c942ba231c22",
   "metadata": {},
   "outputs": [],
   "source": [
    "metrics = sgs.MetricCuration.get_metrics(key)"
   ]
  },
  {
   "cell_type": "code",
   "execution_count": 31,
   "id": "863f6e17-40a6-4b8d-82b5-d14a059c5c77",
   "metadata": {},
   "outputs": [
    {
     "name": "stdout",
     "output_type": "stream",
     "text": [
      "Writing new NWB file wilbur20210326_VVA1RZ3YJQ.nwb\n"
     ]
    },
    {
     "data": {
      "text/plain": [
       "{'sorting_id': 'wilbur20210326_.nwb_S_f78ec9',\n",
       " 'curation_id': 2,\n",
       " 'parent_curation_id': 0,\n",
       " 'analysis_file_name': 'wilbur20210326_VVA1RZ3YJQ.nwb',\n",
       " 'object_id': 'c4acc8c7-8099-4ebf-a029-23bfd382e6be',\n",
       " 'merges_applied': 'False',\n",
       " 'description': 'after metric curation'}"
      ]
     },
     "execution_count": 31,
     "metadata": {},
     "output_type": "execute_result"
    }
   ],
   "source": [
    "sgs.CurationV1.insert_curation(sorting_id=\"wilbur20210326_.nwb_S_f78ec9\",\n",
    "                               parent_curation_id=0,\n",
    "                               labels=labels,\n",
    "                               merge_groups= merge_groups,\n",
    "                               metrics=metrics,\n",
    "                               description=\"after metric curation\")"
   ]
  },
  {
   "cell_type": "code",
   "execution_count": 32,
   "id": "5be40283-f22f-4932-9dfa-bb636ae5f511",
   "metadata": {},
   "outputs": [],
   "source": [
    "# (sgs.CurationV1()&{'curation_id':1}).delete()"
   ]
  },
  {
   "cell_type": "code",
   "execution_count": 33,
   "id": "f7c6bfd9-5985-41e1-bf37-8c8874b59191",
   "metadata": {},
   "outputs": [
    {
     "data": {
      "text/html": [
       "\n",
       "    \n",
       "    <style type=\"text/css\">\n",
       "        .Relation{\n",
       "            border-collapse:collapse;\n",
       "        }\n",
       "        .Relation th{\n",
       "            background: #A0A0A0; color: #ffffff; padding:4px; border:#f0e0e0 1px solid;\n",
       "            font-weight: normal; font-family: monospace; font-size: 100%;\n",
       "        }\n",
       "        .Relation td{\n",
       "            padding:4px; border:#f0e0e0 1px solid; font-size:100%;\n",
       "        }\n",
       "        .Relation tr:nth-child(odd){\n",
       "            background: #ffffff;\n",
       "        }\n",
       "        .Relation tr:nth-child(even){\n",
       "            background: #f3f1ff;\n",
       "        }\n",
       "        /* Tooltip container */\n",
       "        .djtooltip {\n",
       "        }\n",
       "        /* Tooltip text */\n",
       "        .djtooltip .djtooltiptext {\n",
       "            visibility: hidden;\n",
       "            width: 120px;\n",
       "            background-color: black;\n",
       "            color: #fff;\n",
       "            text-align: center;\n",
       "            padding: 5px 0;\n",
       "            border-radius: 6px;\n",
       "            /* Position the tooltip text - see examples below! */\n",
       "            position: absolute;\n",
       "            z-index: 1;\n",
       "        }\n",
       "        #primary {\n",
       "            font-weight: bold;\n",
       "            color: black;\n",
       "        }\n",
       "        #nonprimary {\n",
       "            font-weight: normal;\n",
       "            color: white;\n",
       "        }\n",
       "\n",
       "        /* Show the tooltip text when you mouse over the tooltip container */\n",
       "        .djtooltip:hover .djtooltiptext {\n",
       "            visibility: visible;\n",
       "        }\n",
       "    </style>\n",
       "    \n",
       "    <b>Curation of a SpikeSorting. Use `insert_curation` to insert rows.</b>\n",
       "        <div style=\"max-height:1000px;max-width:1500px;overflow:auto;\">\n",
       "        <table border=\"1\" class=\"Relation\">\n",
       "            <thead> <tr style=\"text-align: right;\"> <th> <div class=\"djtooltip\">\n",
       "                            <p id=\"primary\">sorting_id</p>\n",
       "                            <span class=\"djtooltiptext\"></span>\n",
       "                        </div></th><th><div class=\"djtooltip\">\n",
       "                            <p id=\"primary\">curation_id</p>\n",
       "                            <span class=\"djtooltiptext\"></span>\n",
       "                        </div></th><th><div class=\"djtooltip\">\n",
       "                            <p id=\"nonprimary\">parent_curation_id</p>\n",
       "                            <span class=\"djtooltiptext\"></span>\n",
       "                        </div></th><th><div class=\"djtooltip\">\n",
       "                            <p id=\"nonprimary\">analysis_file_name</p>\n",
       "                            <span class=\"djtooltiptext\">name of the file</span>\n",
       "                        </div></th><th><div class=\"djtooltip\">\n",
       "                            <p id=\"nonprimary\">object_id</p>\n",
       "                            <span class=\"djtooltiptext\"></span>\n",
       "                        </div></th><th><div class=\"djtooltip\">\n",
       "                            <p id=\"nonprimary\">merges_applied</p>\n",
       "                            <span class=\"djtooltiptext\"></span>\n",
       "                        </div></th><th><div class=\"djtooltip\">\n",
       "                            <p id=\"nonprimary\">description</p>\n",
       "                            <span class=\"djtooltiptext\"></span>\n",
       "                        </div> </th> </tr> </thead>\n",
       "            <tbody> <tr> <td>wilbur20210326_.nwb_S_f78ec9</td>\n",
       "<td>0</td>\n",
       "<td>-1</td>\n",
       "<td>wilbur20210326_VUWVJ7HJBL.nwb</td>\n",
       "<td>a644b8c6-5f3b-4914-bb0b-ea349ef53826</td>\n",
       "<td>False</td>\n",
       "<td>testing sort</td></tr><tr><td>wilbur20210326_.nwb_S_f78ec9</td>\n",
       "<td>1</td>\n",
       "<td>0</td>\n",
       "<td>wilbur20210326_TCDLNG711X.nwb</td>\n",
       "<td>7b20aa0a-08d3-4dd2-b294-f557f82fa632</td>\n",
       "<td>False</td>\n",
       "<td>after metric curation</td></tr><tr><td>wilbur20210326_.nwb_S_f78ec9</td>\n",
       "<td>2</td>\n",
       "<td>0</td>\n",
       "<td>wilbur20210326_VVA1RZ3YJQ.nwb</td>\n",
       "<td>c4acc8c7-8099-4ebf-a029-23bfd382e6be</td>\n",
       "<td>False</td>\n",
       "<td>after metric curation</td> </tr> </tbody>\n",
       "        </table>\n",
       "        \n",
       "        <p>Total: 3</p></div>\n",
       "        "
      ],
      "text/plain": [
       "*sorting_id    *curation_id   parent_curatio analysis_file_ object_id      merges_applied description   \n",
       "+------------+ +------------+ +------------+ +------------+ +------------+ +------------+ +------------+\n",
       "wilbur20210326 0              -1             wilbur20210326 a644b8c6-5f3b- False          testing sort  \n",
       "wilbur20210326 1              0              wilbur20210326 7b20aa0a-08d3- False          after metric c\n",
       "wilbur20210326 2              0              wilbur20210326 c4acc8c7-8099- False          after metric c\n",
       " (Total: 3)"
      ]
     },
     "execution_count": 33,
     "metadata": {},
     "output_type": "execute_result"
    }
   ],
   "source": [
    "sgs.CurationV1()"
   ]
  },
  {
   "cell_type": "markdown",
   "id": "cf8708a4-0a55-4309-b3c4-dbf47d61ad31",
   "metadata": {},
   "source": [
    "next we will do manual curation. this is done with figurl. to incorporate info from other stages of processing (e.g. metrics) we have to store that with kachery cloud and get curation uri referring to it. it can be done with `generate_curation_uri`."
   ]
  },
  {
   "cell_type": "code",
   "execution_count": 34,
   "id": "924cdfce-e287-41d7-abf9-872797637777",
   "metadata": {},
   "outputs": [],
   "source": [
    "curation_uri = sgs.FigURLCurationSelection.generate_curation_uri({\"sorting_id\":\"wilbur20210326_.nwb_S_f78ec9\",\n",
    "                                                                  \"curation_id\":1})"
   ]
  },
  {
   "cell_type": "code",
   "execution_count": 35,
   "id": "1987fab4-9d4f-47dc-9546-90086fba7919",
   "metadata": {},
   "outputs": [],
   "source": [
    "key = {\"sorting_id\":\"wilbur20210326_.nwb_S_f78ec9\",\n",
    "       \"curation_id\":1,\n",
    "       \"curation_uri\": curation_uri,\n",
    "       \"metrics_figurl\":list(metrics.keys())}"
   ]
  },
  {
   "cell_type": "code",
   "execution_count": 36,
   "id": "ecb9106b-8f92-4725-a68c-d5233453b3a4",
   "metadata": {},
   "outputs": [],
   "source": [
    "sgs.FigURLCurationSelection.insert1(key,skip_duplicates=True)"
   ]
  },
  {
   "cell_type": "code",
   "execution_count": 37,
   "id": "cd9667da-794f-4196-9e3d-527d8932d1e9",
   "metadata": {},
   "outputs": [
    {
     "data": {
      "text/html": [
       "\n",
       "    \n",
       "    <style type=\"text/css\">\n",
       "        .Relation{\n",
       "            border-collapse:collapse;\n",
       "        }\n",
       "        .Relation th{\n",
       "            background: #A0A0A0; color: #ffffff; padding:4px; border:#f0e0e0 1px solid;\n",
       "            font-weight: normal; font-family: monospace; font-size: 100%;\n",
       "        }\n",
       "        .Relation td{\n",
       "            padding:4px; border:#f0e0e0 1px solid; font-size:100%;\n",
       "        }\n",
       "        .Relation tr:nth-child(odd){\n",
       "            background: #ffffff;\n",
       "        }\n",
       "        .Relation tr:nth-child(even){\n",
       "            background: #f3f1ff;\n",
       "        }\n",
       "        /* Tooltip container */\n",
       "        .djtooltip {\n",
       "        }\n",
       "        /* Tooltip text */\n",
       "        .djtooltip .djtooltiptext {\n",
       "            visibility: hidden;\n",
       "            width: 120px;\n",
       "            background-color: black;\n",
       "            color: #fff;\n",
       "            text-align: center;\n",
       "            padding: 5px 0;\n",
       "            border-radius: 6px;\n",
       "            /* Position the tooltip text - see examples below! */\n",
       "            position: absolute;\n",
       "            z-index: 1;\n",
       "        }\n",
       "        #primary {\n",
       "            font-weight: bold;\n",
       "            color: black;\n",
       "        }\n",
       "        #nonprimary {\n",
       "            font-weight: normal;\n",
       "            color: white;\n",
       "        }\n",
       "\n",
       "        /* Show the tooltip text when you mouse over the tooltip container */\n",
       "        .djtooltip:hover .djtooltiptext {\n",
       "            visibility: visible;\n",
       "        }\n",
       "    </style>\n",
       "    \n",
       "    <b></b>\n",
       "        <div style=\"max-height:1000px;max-width:1500px;overflow:auto;\">\n",
       "        <table border=\"1\" class=\"Relation\">\n",
       "            <thead> <tr style=\"text-align: right;\"> <th> <div class=\"djtooltip\">\n",
       "                            <p id=\"primary\">sorting_id</p>\n",
       "                            <span class=\"djtooltiptext\"></span>\n",
       "                        </div></th><th><div class=\"djtooltip\">\n",
       "                            <p id=\"primary\">curation_id</p>\n",
       "                            <span class=\"djtooltiptext\"></span>\n",
       "                        </div></th><th><div class=\"djtooltip\">\n",
       "                            <p id=\"primary\">curation_uri</p>\n",
       "                            <span class=\"djtooltiptext\">GitHub-based URI to a file to which the manual curation will be saved</span>\n",
       "                        </div></th><th><div class=\"djtooltip\">\n",
       "                            <p id=\"nonprimary\">metrics_figurl</p>\n",
       "                            <span class=\"djtooltiptext\">metrics to display in the figURL</span>\n",
       "                        </div> </th> </tr> </thead>\n",
       "            <tbody> <tr> <td>wilbur20210326_.nwb_S_f78ec9</td>\n",
       "<td>1</td>\n",
       "<td>gh://LorenFrankLab/sorting-curations/main/khl02007/test/curation.json</td>\n",
       "<td>=BLOB=</td></tr><tr><td>wilbur20210326_.nwb_S_f78ec9</td>\n",
       "<td>1</td>\n",
       "<td>sha1://2800ea072728fd141d8e5bc88525ac0c6c137d04</td>\n",
       "<td>=BLOB=</td> </tr> </tbody>\n",
       "        </table>\n",
       "        \n",
       "        <p>Total: 2</p></div>\n",
       "        "
      ],
      "text/plain": [
       "*sorting_id    *curation_id   *curation_uri  metrics_fi\n",
       "+------------+ +------------+ +------------+ +--------+\n",
       "wilbur20210326 1              gh://LorenFran =BLOB=    \n",
       "wilbur20210326 1              sha1://2800ea0 =BLOB=    \n",
       " (Total: 2)"
      ]
     },
     "execution_count": 37,
     "metadata": {},
     "output_type": "execute_result"
    }
   ],
   "source": [
    "sgs.FigURLCurationSelection()"
   ]
  },
  {
   "cell_type": "code",
   "execution_count": 38,
   "id": "c3b029c6-8dc8-4af3-ad42-8a9443e70023",
   "metadata": {},
   "outputs": [],
   "source": [
    "sgs.FigURLCuration.populate()"
   ]
  },
  {
   "cell_type": "code",
   "execution_count": 39,
   "id": "7bf6eb76-4883-4436-a320-7ade5c3af910",
   "metadata": {},
   "outputs": [
    {
     "data": {
      "text/html": [
       "\n",
       "    \n",
       "    <style type=\"text/css\">\n",
       "        .Relation{\n",
       "            border-collapse:collapse;\n",
       "        }\n",
       "        .Relation th{\n",
       "            background: #A0A0A0; color: #ffffff; padding:4px; border:#f0e0e0 1px solid;\n",
       "            font-weight: normal; font-family: monospace; font-size: 100%;\n",
       "        }\n",
       "        .Relation td{\n",
       "            padding:4px; border:#f0e0e0 1px solid; font-size:100%;\n",
       "        }\n",
       "        .Relation tr:nth-child(odd){\n",
       "            background: #ffffff;\n",
       "        }\n",
       "        .Relation tr:nth-child(even){\n",
       "            background: #f3f1ff;\n",
       "        }\n",
       "        /* Tooltip container */\n",
       "        .djtooltip {\n",
       "        }\n",
       "        /* Tooltip text */\n",
       "        .djtooltip .djtooltiptext {\n",
       "            visibility: hidden;\n",
       "            width: 120px;\n",
       "            background-color: black;\n",
       "            color: #fff;\n",
       "            text-align: center;\n",
       "            padding: 5px 0;\n",
       "            border-radius: 6px;\n",
       "            /* Position the tooltip text - see examples below! */\n",
       "            position: absolute;\n",
       "            z-index: 1;\n",
       "        }\n",
       "        #primary {\n",
       "            font-weight: bold;\n",
       "            color: black;\n",
       "        }\n",
       "        #nonprimary {\n",
       "            font-weight: normal;\n",
       "            color: white;\n",
       "        }\n",
       "\n",
       "        /* Show the tooltip text when you mouse over the tooltip container */\n",
       "        .djtooltip:hover .djtooltiptext {\n",
       "            visibility: visible;\n",
       "        }\n",
       "    </style>\n",
       "    \n",
       "    <b></b>\n",
       "        <div style=\"max-height:1000px;max-width:1500px;overflow:auto;\">\n",
       "        <table border=\"1\" class=\"Relation\">\n",
       "            <thead> <tr style=\"text-align: right;\"> <th> <div class=\"djtooltip\">\n",
       "                            <p id=\"primary\">sorting_id</p>\n",
       "                            <span class=\"djtooltiptext\"></span>\n",
       "                        </div></th><th><div class=\"djtooltip\">\n",
       "                            <p id=\"primary\">curation_id</p>\n",
       "                            <span class=\"djtooltiptext\"></span>\n",
       "                        </div></th><th><div class=\"djtooltip\">\n",
       "                            <p id=\"primary\">curation_uri</p>\n",
       "                            <span class=\"djtooltiptext\">GitHub-based URI to a file to which the manual curation will be saved</span>\n",
       "                        </div></th><th><div class=\"djtooltip\">\n",
       "                            <p id=\"nonprimary\">url</p>\n",
       "                            <span class=\"djtooltiptext\"></span>\n",
       "                        </div> </th> </tr> </thead>\n",
       "            <tbody> <tr> <td>wilbur20210326_.nwb_S_f78ec9</td>\n",
       "<td>1</td>\n",
       "<td>gh://LorenFrankLab/sorting-curations/main/khl02007/test/curation.json</td>\n",
       "<td>https://figurl.org/f?v=gs://figurl/sortingview-11&d=sha1://cdff947c7c78c23c6f75e73055454431d1e4a0d0&s={\"initialSortingCuration\":\"gh://LorenFrankLab/sorting-curations/main/khl02007/test/curation.json\",\"sortingCuration\":\"gh://LorenFrankLab/sorting-curations/main/khl02007/test/curation.json\"}&label=wilbur20210326_.nwb_R_9492dd%20wilbur20210326_.nwb_S_f78ec9</td></tr><tr><td>wilbur20210326_.nwb_S_f78ec9</td>\n",
       "<td>1</td>\n",
       "<td>sha1://2800ea072728fd141d8e5bc88525ac0c6c137d04</td>\n",
       "<td>https://figurl.org/f?v=gs://figurl/sortingview-11&d=sha1://cddad5ccdab9c0548feb03a8c10b67b3907530a3&s={\"initialSortingCuration\":\"sha1://2800ea072728fd141d8e5bc88525ac0c6c137d04\",\"sortingCuration\":\"sha1://2800ea072728fd141d8e5bc88525ac0c6c137d04\"}&label=wilbur20210326_.nwb_R_9492dd%20wilbur20210326_.nwb_S_f78ec9</td> </tr> </tbody>\n",
       "        </table>\n",
       "        \n",
       "        <p>Total: 2</p></div>\n",
       "        "
      ],
      "text/plain": [
       "*sorting_id    *curation_id   *curation_uri  url           \n",
       "+------------+ +------------+ +------------+ +------------+\n",
       "wilbur20210326 1              gh://LorenFran https://figurl\n",
       "wilbur20210326 1              sha1://2800ea0 https://figurl\n",
       " (Total: 2)"
      ]
     },
     "execution_count": 39,
     "metadata": {},
     "output_type": "execute_result"
    }
   ],
   "source": [
    "sgs.FigURLCuration()"
   ]
  },
  {
   "cell_type": "markdown",
   "id": "9ca0d48c-900b-4985-a27a-be1ff82616a4",
   "metadata": {},
   "source": [
    "or you can manually specify it if you already have a `curation.json`"
   ]
  },
  {
   "cell_type": "code",
   "execution_count": 40,
   "id": "b2e9b018-9a8b-4344-9b8e-9e2141324bfa",
   "metadata": {},
   "outputs": [],
   "source": [
    "gh_curation_uri = \"gh://LorenFrankLab/sorting-curations/main/khl02007/test/curation.json\"\n",
    "\n",
    "key = {\"sorting_id\" : \"wilbur20210326_.nwb_S_f78ec9\",\n",
    "       \"curation_id\" : 1,\n",
    "       \"curation_uri\" : gh_curation_uri\n",
    "       \"metrics_figurl\" : []}"
   ]
  },
  {
   "cell_type": "code",
   "execution_count": 41,
   "id": "449cdcdc-dcff-4aa6-a541-d674ccfbb0b5",
   "metadata": {},
   "outputs": [],
   "source": [
    "sgs.FigURLCurationSelection.insert1(key,skip_duplicates=True)"
   ]
  },
  {
   "cell_type": "code",
   "execution_count": 42,
   "id": "ad86c81e-1424-4fa2-a022-7cc0a3425fc0",
   "metadata": {},
   "outputs": [],
   "source": [
    "sgs.FigURLCuration.populate()"
   ]
  },
  {
   "cell_type": "code",
   "execution_count": 43,
   "id": "37847473-1c46-4991-93a0-e315568e675a",
   "metadata": {},
   "outputs": [
    {
     "data": {
      "text/html": [
       "\n",
       "    \n",
       "    <style type=\"text/css\">\n",
       "        .Relation{\n",
       "            border-collapse:collapse;\n",
       "        }\n",
       "        .Relation th{\n",
       "            background: #A0A0A0; color: #ffffff; padding:4px; border:#f0e0e0 1px solid;\n",
       "            font-weight: normal; font-family: monospace; font-size: 100%;\n",
       "        }\n",
       "        .Relation td{\n",
       "            padding:4px; border:#f0e0e0 1px solid; font-size:100%;\n",
       "        }\n",
       "        .Relation tr:nth-child(odd){\n",
       "            background: #ffffff;\n",
       "        }\n",
       "        .Relation tr:nth-child(even){\n",
       "            background: #f3f1ff;\n",
       "        }\n",
       "        /* Tooltip container */\n",
       "        .djtooltip {\n",
       "        }\n",
       "        /* Tooltip text */\n",
       "        .djtooltip .djtooltiptext {\n",
       "            visibility: hidden;\n",
       "            width: 120px;\n",
       "            background-color: black;\n",
       "            color: #fff;\n",
       "            text-align: center;\n",
       "            padding: 5px 0;\n",
       "            border-radius: 6px;\n",
       "            /* Position the tooltip text - see examples below! */\n",
       "            position: absolute;\n",
       "            z-index: 1;\n",
       "        }\n",
       "        #primary {\n",
       "            font-weight: bold;\n",
       "            color: black;\n",
       "        }\n",
       "        #nonprimary {\n",
       "            font-weight: normal;\n",
       "            color: white;\n",
       "        }\n",
       "\n",
       "        /* Show the tooltip text when you mouse over the tooltip container */\n",
       "        .djtooltip:hover .djtooltiptext {\n",
       "            visibility: visible;\n",
       "        }\n",
       "    </style>\n",
       "    \n",
       "    <b></b>\n",
       "        <div style=\"max-height:1000px;max-width:1500px;overflow:auto;\">\n",
       "        <table border=\"1\" class=\"Relation\">\n",
       "            <thead> <tr style=\"text-align: right;\"> <th> <div class=\"djtooltip\">\n",
       "                            <p id=\"primary\">sorting_id</p>\n",
       "                            <span class=\"djtooltiptext\"></span>\n",
       "                        </div></th><th><div class=\"djtooltip\">\n",
       "                            <p id=\"primary\">curation_id</p>\n",
       "                            <span class=\"djtooltiptext\"></span>\n",
       "                        </div></th><th><div class=\"djtooltip\">\n",
       "                            <p id=\"primary\">curation_uri</p>\n",
       "                            <span class=\"djtooltiptext\">GitHub-based URI to a file to which the manual curation will be saved</span>\n",
       "                        </div></th><th><div class=\"djtooltip\">\n",
       "                            <p id=\"nonprimary\">url</p>\n",
       "                            <span class=\"djtooltiptext\"></span>\n",
       "                        </div> </th> </tr> </thead>\n",
       "            <tbody> <tr> <td>wilbur20210326_.nwb_S_f78ec9</td>\n",
       "<td>1</td>\n",
       "<td>gh://LorenFrankLab/sorting-curations/main/khl02007/test/curation.json</td>\n",
       "<td>https://figurl.org/f?v=gs://figurl/sortingview-11&d=sha1://cdff947c7c78c23c6f75e73055454431d1e4a0d0&s={\"initialSortingCuration\":\"gh://LorenFrankLab/sorting-curations/main/khl02007/test/curation.json\",\"sortingCuration\":\"gh://LorenFrankLab/sorting-curations/main/khl02007/test/curation.json\"}&label=wilbur20210326_.nwb_R_9492dd%20wilbur20210326_.nwb_S_f78ec9</td></tr><tr><td>wilbur20210326_.nwb_S_f78ec9</td>\n",
       "<td>1</td>\n",
       "<td>sha1://2800ea072728fd141d8e5bc88525ac0c6c137d04</td>\n",
       "<td>https://figurl.org/f?v=gs://figurl/sortingview-11&d=sha1://cddad5ccdab9c0548feb03a8c10b67b3907530a3&s={\"initialSortingCuration\":\"sha1://2800ea072728fd141d8e5bc88525ac0c6c137d04\",\"sortingCuration\":\"sha1://2800ea072728fd141d8e5bc88525ac0c6c137d04\"}&label=wilbur20210326_.nwb_R_9492dd%20wilbur20210326_.nwb_S_f78ec9</td> </tr> </tbody>\n",
       "        </table>\n",
       "        \n",
       "        <p>Total: 2</p></div>\n",
       "        "
      ],
      "text/plain": [
       "*sorting_id    *curation_id   *curation_uri  url           \n",
       "+------------+ +------------+ +------------+ +------------+\n",
       "wilbur20210326 1              gh://LorenFran https://figurl\n",
       "wilbur20210326 1              sha1://2800ea0 https://figurl\n",
       " (Total: 2)"
      ]
     },
     "execution_count": 43,
     "metadata": {},
     "output_type": "execute_result"
    }
   ],
   "source": [
    "sgs.FigURLCuration()"
   ]
  },
  {
   "cell_type": "markdown",
   "id": "6d68f93e-1586-4d3b-b680-0fe2115c0ab4",
   "metadata": {},
   "source": [
    "once you apply manual curation (curation labels and merge groups) you can store them as nwb by inserting another row in CurationV1. And then you can do more rounds of curation if you want."
   ]
  },
  {
   "cell_type": "code",
   "execution_count": 44,
   "id": "15694ca0-3ec1-49a8-9ac4-66cf6d6f49ee",
   "metadata": {},
   "outputs": [
    {
     "ename": "Exception",
     "evalue": "File not found: https://raw.githubusercontent.com/LorenFrankLab/sorting-curations/main/khl02007/test/curation.json",
     "output_type": "error",
     "traceback": [
      "\u001b[0;31m---------------------------------------------------------------------------\u001b[0m",
      "\u001b[0;31mException\u001b[0m                                 Traceback (most recent call last)",
      "Cell \u001b[0;32mIn [44], line 1\u001b[0m\n\u001b[0;32m----> 1\u001b[0m labels \u001b[38;5;241m=\u001b[39m \u001b[43msgs\u001b[49m\u001b[38;5;241;43m.\u001b[39;49m\u001b[43mFigURLCuration\u001b[49m\u001b[38;5;241;43m.\u001b[39;49m\u001b[43mget_labels\u001b[49m\u001b[43m(\u001b[49m\u001b[38;5;124;43m\"\u001b[39;49m\u001b[38;5;124;43mgh://LorenFrankLab/sorting-curations/main/khl02007/test/curation.json\u001b[39;49m\u001b[38;5;124;43m\"\u001b[39;49m\u001b[43m)\u001b[49m\n",
      "File \u001b[0;32m~/repos/spyglass/src/spyglass/spikesorting/v1/figurl_curation.py:138\u001b[0m, in \u001b[0;36mFigURLCuration.get_labels\u001b[0;34m(cls, curation_json)\u001b[0m\n\u001b[1;32m    136\u001b[0m \u001b[38;5;129m@classmethod\u001b[39m\n\u001b[1;32m    137\u001b[0m \u001b[38;5;28;01mdef\u001b[39;00m \u001b[38;5;21mget_labels\u001b[39m(\u001b[38;5;28mcls\u001b[39m, curation_json):\n\u001b[0;32m--> 138\u001b[0m     curation_dict \u001b[38;5;241m=\u001b[39m \u001b[43mkcl\u001b[49m\u001b[38;5;241;43m.\u001b[39;49m\u001b[43mload_json\u001b[49m\u001b[43m(\u001b[49m\u001b[43mcuration_json\u001b[49m\u001b[43m)\u001b[49m\n\u001b[1;32m    139\u001b[0m     \u001b[38;5;28;01mif\u001b[39;00m curation_dict[\u001b[38;5;124m\"\u001b[39m\u001b[38;5;124mlabelsByUnit\u001b[39m\u001b[38;5;124m\"\u001b[39m]:\n\u001b[1;32m    140\u001b[0m         \u001b[38;5;28;01mreturn\u001b[39;00m curation_dict[\u001b[38;5;124m\"\u001b[39m\u001b[38;5;124mlabelsByUnit\u001b[39m\u001b[38;5;124m\"\u001b[39m]\n",
      "File \u001b[0;32m~/miniconda3/envs/spyglass/lib/python3.8/site-packages/kachery_cloud/core.py:43\u001b[0m, in \u001b[0;36mload_json\u001b[0;34m(uri, local_only)\u001b[0m\n\u001b[1;32m     41\u001b[0m \u001b[38;5;28;01mdef\u001b[39;00m \u001b[38;5;21mload_json\u001b[39m(uri: \u001b[38;5;28mstr\u001b[39m, \u001b[38;5;241m*\u001b[39m, local_only: \u001b[38;5;28mbool\u001b[39m\u001b[38;5;241m=\u001b[39m\u001b[38;5;28;01mFalse\u001b[39;00m) \u001b[38;5;241m-\u001b[39m\u001b[38;5;241m>\u001b[39m Union[\u001b[38;5;28mdict\u001b[39m, \u001b[38;5;28;01mNone\u001b[39;00m]:\n\u001b[1;32m     42\u001b[0m     \u001b[38;5;28;01mimport\u001b[39;00m \u001b[38;5;21;01msimplejson\u001b[39;00m\n\u001b[0;32m---> 43\u001b[0m     local_path \u001b[38;5;241m=\u001b[39m \u001b[43mload_file\u001b[49m\u001b[43m(\u001b[49m\u001b[43muri\u001b[49m\u001b[43m,\u001b[49m\u001b[43m \u001b[49m\u001b[43mlocal_only\u001b[49m\u001b[38;5;241;43m=\u001b[39;49m\u001b[43mlocal_only\u001b[49m\u001b[43m)\u001b[49m\n\u001b[1;32m     44\u001b[0m     \u001b[38;5;28;01mif\u001b[39;00m local_path \u001b[38;5;129;01mis\u001b[39;00m \u001b[38;5;28;01mNone\u001b[39;00m:\n\u001b[1;32m     45\u001b[0m         \u001b[38;5;28;01mreturn\u001b[39;00m \u001b[38;5;28;01mNone\u001b[39;00m\n",
      "File \u001b[0;32m~/miniconda3/envs/spyglass/lib/python3.8/site-packages/kachery_cloud/load_file.py:17\u001b[0m, in \u001b[0;36mload_file\u001b[0;34m(uri, verbose, local_only, dest, _get_info, do_request)\u001b[0m\n\u001b[1;32m     15\u001b[0m \u001b[38;5;28;01mdef\u001b[39;00m \u001b[38;5;21mload_file\u001b[39m(uri: \u001b[38;5;28mstr\u001b[39m, \u001b[38;5;241m*\u001b[39m, verbose: \u001b[38;5;28mbool\u001b[39m\u001b[38;5;241m=\u001b[39m\u001b[38;5;28;01mFalse\u001b[39;00m, local_only: \u001b[38;5;28mbool\u001b[39m\u001b[38;5;241m=\u001b[39m\u001b[38;5;28;01mFalse\u001b[39;00m, dest: Union[\u001b[38;5;28;01mNone\u001b[39;00m, \u001b[38;5;28mstr\u001b[39m]\u001b[38;5;241m=\u001b[39m\u001b[38;5;28;01mNone\u001b[39;00m, _get_info: \u001b[38;5;28mbool\u001b[39m\u001b[38;5;241m=\u001b[39m\u001b[38;5;28;01mFalse\u001b[39;00m, do_request: Union[\u001b[38;5;28mbool\u001b[39m, \u001b[38;5;28;01mNone\u001b[39;00m]\u001b[38;5;241m=\u001b[39m\u001b[38;5;28;01mNone\u001b[39;00m) \u001b[38;5;241m-\u001b[39m\u001b[38;5;241m>\u001b[39m Union[\u001b[38;5;28mstr\u001b[39m, \u001b[38;5;28mdict\u001b[39m, \u001b[38;5;28;01mNone\u001b[39;00m]:\n\u001b[1;32m     16\u001b[0m     \u001b[38;5;28;01mif\u001b[39;00m uri\u001b[38;5;241m.\u001b[39mstartswith(\u001b[38;5;124m'\u001b[39m\u001b[38;5;124mgh://\u001b[39m\u001b[38;5;124m'\u001b[39m):\n\u001b[0;32m---> 17\u001b[0m         \u001b[38;5;28;01mreturn\u001b[39;00m \u001b[43m_load_github_file\u001b[49m\u001b[43m(\u001b[49m\u001b[43muri\u001b[49m\u001b[43m)\u001b[49m\n\u001b[1;32m     19\u001b[0m     \u001b[38;5;28;01mif\u001b[39;00m local_only:\n\u001b[1;32m     20\u001b[0m         \u001b[38;5;28;01mreturn\u001b[39;00m load_file_local(uri, dest\u001b[38;5;241m=\u001b[39mdest)\n",
      "File \u001b[0;32m~/miniconda3/envs/spyglass/lib/python3.8/site-packages/kachery_cloud/_load_github_file.py:15\u001b[0m, in \u001b[0;36m_load_github_file\u001b[0;34m(uri)\u001b[0m\n\u001b[1;32m     13\u001b[0m \u001b[38;5;28;01mwith\u001b[39;00m requests\u001b[38;5;241m.\u001b[39mget(url, stream\u001b[38;5;241m=\u001b[39m\u001b[38;5;28;01mTrue\u001b[39;00m) \u001b[38;5;28;01mas\u001b[39;00m r:\n\u001b[1;32m     14\u001b[0m     \u001b[38;5;28;01mif\u001b[39;00m r\u001b[38;5;241m.\u001b[39mstatus_code \u001b[38;5;241m==\u001b[39m \u001b[38;5;241m404\u001b[39m:\n\u001b[0;32m---> 15\u001b[0m         \u001b[38;5;28;01mraise\u001b[39;00m \u001b[38;5;167;01mException\u001b[39;00m(\u001b[38;5;124mf\u001b[39m\u001b[38;5;124m'\u001b[39m\u001b[38;5;124mFile not found: \u001b[39m\u001b[38;5;132;01m{\u001b[39;00murl\u001b[38;5;132;01m}\u001b[39;00m\u001b[38;5;124m'\u001b[39m)\n\u001b[1;32m     16\u001b[0m     r\u001b[38;5;241m.\u001b[39mraise_for_status()\n\u001b[1;32m     17\u001b[0m     \u001b[38;5;28;01mwith\u001b[39;00m \u001b[38;5;28mopen\u001b[39m(tmp_filename, \u001b[38;5;124m'\u001b[39m\u001b[38;5;124mwb\u001b[39m\u001b[38;5;124m'\u001b[39m) \u001b[38;5;28;01mas\u001b[39;00m f:\n",
      "\u001b[0;31mException\u001b[0m: File not found: https://raw.githubusercontent.com/LorenFrankLab/sorting-curations/main/khl02007/test/curation.json"
     ]
    }
   ],
   "source": [
    "labels = sgs.FigURLCuration.get_labels(\"gh://LorenFrankLab/sorting-curations/main/khl02007/test/curation.json\")"
   ]
  },
  {
   "cell_type": "code",
   "execution_count": null,
   "id": "f467a487-100e-4217-914a-60e852805faf",
   "metadata": {},
   "outputs": [],
   "source": [
    "merge_groups = sgs.FigURLCuration.get_merge_groups(\"gh://LorenFrankLab/sorting-curations/main/khl02007/test/curation.json\")"
   ]
  },
  {
   "cell_type": "code",
   "execution_count": null,
   "id": "5873ad89-64cb-427a-a183-f15c2c42907a",
   "metadata": {},
   "outputs": [],
   "source": [
    "sgs.CurationV1.insert_curation(sorting_id=\"wilbur20210326_.nwb_S_f78ec9\",\n",
    "                               parent_curation_id=1,\n",
    "                               labels=labels,\n",
    "                               merge_groups= merge_groups,\n",
    "                               metrics=metrics,\n",
    "                               description=\"after figurl curation\")"
   ]
  },
  {
   "cell_type": "code",
   "execution_count": null,
   "id": "511ecb19-7d8d-4db6-be71-c0ed66e2b0f2",
   "metadata": {},
   "outputs": [],
   "source": []
  }
 ],
 "metadata": {
  "kernelspec": {
   "display_name": "Python 3 (ipykernel)",
   "language": "python",
   "name": "python3"
  },
  "language_info": {
   "codemirror_mode": {
    "name": "ipython",
    "version": 3
   },
   "file_extension": ".py",
   "mimetype": "text/x-python",
   "name": "python",
   "nbconvert_exporter": "python",
   "pygments_lexer": "ipython3",
   "version": "3.8.13"
  }
 },
 "nbformat": 4,
 "nbformat_minor": 5
}
