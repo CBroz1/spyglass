{
 "cells": [
  {
   "cell_type": "markdown",
   "metadata": {},
   "source": [
    "## This notebook assumes that you've imported one or more NWB files into DataJoint \n",
    "## It allows you to run spikesorters on those data using the SpikeInterface package"
   ]
  },
  {
   "cell_type": "markdown",
   "metadata": {},
   "source": [
    "#### Load all of the relevant modules"
   ]
  },
  {
   "cell_type": "code",
   "execution_count": 1,
   "metadata": {},
   "outputs": [
    {
     "name": "stdout",
     "output_type": "stream",
     "text": [
      "Connecting root@localhost:3306\n"
     ]
    }
   ],
   "source": [
    "%load_ext autoreload\n",
    "%autoreload 2\n",
    "\n",
    "from pathlib import Path\n",
    "import numpy as np\n",
    "import pynwb\n",
    "import os\n",
    "\n",
    "data_dir = Path('/Users/loren/data/nwb_builder_test_data') # CHANGE ME TO THE BASE DIRECTORY FOR DATA STORAGE ON YOUR SYSTEM\n",
    "\n",
    "os.environ['NWB_DATAJOINT_BASE_DIR'] = str(data_dir)\n",
    "os.environ['KACHERY_STORAGE_DIR'] = str(data_dir / 'kachery-storage')\n",
    "os.environ['SPIKE_SORTING_STORAGE_DIR'] = str(data_dir / 'spikesorting')\n",
    "\n",
    "# DataJoint and DataJoint schema\n",
    "\n",
    "import datajoint as dj\n",
    "\n",
    "dj.config['database.host'] = 'localhost'\n",
    "dj.config['database.user'] = 'root'\n",
    "dj.config['database.password'] = 'tutorial'\n",
    "\n",
    "import nwb_datajoint as nd\n",
    "from ndx_franklab_novela import Probe\n",
    "\n",
    "import spiketoolkit as st\n",
    "\n",
    "import warnings\n",
    "warnings.simplefilter('ignore')"
   ]
  },
  {
   "cell_type": "markdown",
   "metadata": {},
   "source": [
    "### Set the nwb file name and the name of the probe file to create from DataJoint"
   ]
  },
  {
   "cell_type": "code",
   "execution_count": 2,
   "metadata": {},
   "outputs": [
    {
     "data": {
      "text/html": [
       "\n",
       "        \n",
       "        <style type=\"text/css\">\n",
       "            .Relation{\n",
       "                border-collapse:collapse;\n",
       "            }\n",
       "            .Relation th{\n",
       "                background: #A0A0A0; color: #ffffff; padding:4px; border:#f0e0e0 1px solid;\n",
       "                font-weight: normal; font-family: monospace; font-size: 100%;\n",
       "            }\n",
       "            .Relation td{\n",
       "                padding:4px; border:#f0e0e0 1px solid; font-size:100%;\n",
       "            }\n",
       "            .Relation tr:nth-child(odd){\n",
       "                background: #ffffff;\n",
       "            }\n",
       "            .Relation tr:nth-child(even){\n",
       "                background: #f3f1ff;\n",
       "            }\n",
       "            /* Tooltip container */\n",
       "            .djtooltip {\n",
       "            }\n",
       "            /* Tooltip text */\n",
       "            .djtooltip .djtooltiptext {\n",
       "                visibility: hidden;\n",
       "                width: 120px;\n",
       "                background-color: black;\n",
       "                color: #fff;\n",
       "                text-align: center;\n",
       "                padding: 5px 0;\n",
       "                border-radius: 6px;\n",
       "                /* Position the tooltip text - see examples below! */\n",
       "                position: absolute;\n",
       "                z-index: 1;\n",
       "            }\n",
       "            #primary {\n",
       "                font-weight: bold;\n",
       "                color: black;\n",
       "            }\n",
       "\n",
       "            #nonprimary {\n",
       "                font-weight: normal;\n",
       "                color: white;\n",
       "            }\n",
       "\n",
       "            /* Show the tooltip text when you mouse over the tooltip container */\n",
       "            .djtooltip:hover .djtooltiptext {\n",
       "                visibility: visible;\n",
       "            }\n",
       "        </style>\n",
       "        \n",
       "        <b></b>\n",
       "            <div style=\"max-height:1000px;max-width:1500px;overflow:auto;\">\n",
       "            <table border=\"1\" class=\"Relation\">\n",
       "                <thead> <tr style=\"text-align: right;\"> <th> <div class=\"djtooltip\">\n",
       "                                <p id=\"primary\">nwb_file_name</p>\n",
       "                                <span class=\"djtooltiptext\">the name of the NWB file</span>\n",
       "                            </div></th><th><div class=\"djtooltip\">\n",
       "                                <p id=\"nonprimary\">subject_id</p>\n",
       "                                <span class=\"djtooltiptext\"></span>\n",
       "                            </div></th><th><div class=\"djtooltip\">\n",
       "                                <p id=\"nonprimary\">institution_name</p>\n",
       "                                <span class=\"djtooltiptext\"></span>\n",
       "                            </div></th><th><div class=\"djtooltip\">\n",
       "                                <p id=\"nonprimary\">lab_name</p>\n",
       "                                <span class=\"djtooltiptext\"></span>\n",
       "                            </div></th><th><div class=\"djtooltip\">\n",
       "                                <p id=\"nonprimary\">session_id</p>\n",
       "                                <span class=\"djtooltiptext\"></span>\n",
       "                            </div></th><th><div class=\"djtooltip\">\n",
       "                                <p id=\"nonprimary\">session_description</p>\n",
       "                                <span class=\"djtooltiptext\"></span>\n",
       "                            </div></th><th><div class=\"djtooltip\">\n",
       "                                <p id=\"nonprimary\">session_start_time</p>\n",
       "                                <span class=\"djtooltiptext\"></span>\n",
       "                            </div></th><th><div class=\"djtooltip\">\n",
       "                                <p id=\"nonprimary\">timestamps_reference_time</p>\n",
       "                                <span class=\"djtooltiptext\"></span>\n",
       "                            </div></th><th><div class=\"djtooltip\">\n",
       "                                <p id=\"nonprimary\">experiment_description</p>\n",
       "                                <span class=\"djtooltiptext\"></span>\n",
       "                            </div> </th> </tr> </thead>\n",
       "                <tbody> <tr> <td>beans20190718_.nwb</td>\n",
       "<td>Beans</td>\n",
       "<td>University of California, San Francisco</td>\n",
       "<td>Loren Frank</td>\n",
       "<td>beans_01</td>\n",
       "<td>Reinforcement leaarning</td>\n",
       "<td>2019-07-18 15:29:47</td>\n",
       "<td>1970-01-01 00:00:00</td>\n",
       "<td>Reinforcement learning</td> </tr> </tbody>\n",
       "            </table>\n",
       "            \n",
       "            <p>Total: 1</p></div>\n",
       "            "
      ],
      "text/plain": [
       "*nwb_file_name subject_id     institution_na lab_name       session_id     session_descri session_start_ timestamps_ref experiment_des\n",
       "+------------+ +------------+ +------------+ +------------+ +------------+ +------------+ +------------+ +------------+ +------------+\n",
       "beans20190718_ Beans          University of  Loren Frank    beans_01       Reinforcement  2019-07-18 15: 1970-01-01 00: Reinforcement \n",
       " (Total: 1)"
      ]
     },
     "execution_count": 2,
     "metadata": {},
     "output_type": "execute_result"
    }
   ],
   "source": [
    "nd.common.Session()"
   ]
  },
  {
   "cell_type": "code",
   "execution_count": 3,
   "metadata": {},
   "outputs": [],
   "source": [
    "#nwb_file_name = (nd.common.Session() & {'session_id': 'beans_01'}).fetch1('nwb_file_name')\n",
    "nwb_file_name = 'beans20190718_.nwb'"
   ]
  },
  {
   "cell_type": "markdown",
   "metadata": {},
   "source": [
    "### Set the sort grouping by shank"
   ]
  },
  {
   "cell_type": "code",
   "execution_count": 6,
   "metadata": {},
   "outputs": [
    {
     "name": "stdout",
     "output_type": "stream",
     "text": [
      "About to delete:\n",
      "`common_spikesorting`.`sort_group__sort_group_electrode`: 192 items\n",
      "`common_spikesorting`.`sort_group`: 8 items\n"
     ]
    },
    {
     "name": "stdin",
     "output_type": "stream",
     "text": [
      "Proceed? [yes, No]:  yes\n"
     ]
    },
    {
     "name": "stdout",
     "output_type": "stream",
     "text": [
      "Committed.\n"
     ]
    },
    {
     "data": {
      "text/html": [
       "\n",
       "        \n",
       "        <style type=\"text/css\">\n",
       "            .Relation{\n",
       "                border-collapse:collapse;\n",
       "            }\n",
       "            .Relation th{\n",
       "                background: #A0A0A0; color: #ffffff; padding:4px; border:#f0e0e0 1px solid;\n",
       "                font-weight: normal; font-family: monospace; font-size: 100%;\n",
       "            }\n",
       "            .Relation td{\n",
       "                padding:4px; border:#f0e0e0 1px solid; font-size:100%;\n",
       "            }\n",
       "            .Relation tr:nth-child(odd){\n",
       "                background: #ffffff;\n",
       "            }\n",
       "            .Relation tr:nth-child(even){\n",
       "                background: #f3f1ff;\n",
       "            }\n",
       "            /* Tooltip container */\n",
       "            .djtooltip {\n",
       "            }\n",
       "            /* Tooltip text */\n",
       "            .djtooltip .djtooltiptext {\n",
       "                visibility: hidden;\n",
       "                width: 120px;\n",
       "                background-color: black;\n",
       "                color: #fff;\n",
       "                text-align: center;\n",
       "                padding: 5px 0;\n",
       "                border-radius: 6px;\n",
       "                /* Position the tooltip text - see examples below! */\n",
       "                position: absolute;\n",
       "                z-index: 1;\n",
       "            }\n",
       "            #primary {\n",
       "                font-weight: bold;\n",
       "                color: black;\n",
       "            }\n",
       "\n",
       "            #nonprimary {\n",
       "                font-weight: normal;\n",
       "                color: white;\n",
       "            }\n",
       "\n",
       "            /* Show the tooltip text when you mouse over the tooltip container */\n",
       "            .djtooltip:hover .djtooltiptext {\n",
       "                visibility: visible;\n",
       "            }\n",
       "        </style>\n",
       "        \n",
       "        <b></b>\n",
       "            <div style=\"max-height:1000px;max-width:1500px;overflow:auto;\">\n",
       "            <table border=\"1\" class=\"Relation\">\n",
       "                <thead> <tr style=\"text-align: right;\"> <th> <div class=\"djtooltip\">\n",
       "                                <p id=\"primary\">nwb_file_name</p>\n",
       "                                <span class=\"djtooltiptext\">the name of the NWB file</span>\n",
       "                            </div></th><th><div class=\"djtooltip\">\n",
       "                                <p id=\"primary\">sort_group_id</p>\n",
       "                                <span class=\"djtooltiptext\">identifier for a group of electrodes</span>\n",
       "                            </div></th><th><div class=\"djtooltip\">\n",
       "                                <p id=\"nonprimary\">sort_reference_electrode_id</p>\n",
       "                                <span class=\"djtooltiptext\">the electrode to use for reference. -1: no reference, -2: common median</span>\n",
       "                            </div> </th> </tr> </thead>\n",
       "                <tbody> <tr> <td>beans20190718_.nwb</td>\n",
       "<td>0</td>\n",
       "<td>-1</td></tr><tr><td>beans20190718_.nwb</td>\n",
       "<td>1</td>\n",
       "<td>-1</td></tr><tr><td>beans20190718_.nwb</td>\n",
       "<td>2</td>\n",
       "<td>-1</td></tr><tr><td>beans20190718_.nwb</td>\n",
       "<td>3</td>\n",
       "<td>-1</td></tr><tr><td>beans20190718_.nwb</td>\n",
       "<td>4</td>\n",
       "<td>-1</td></tr><tr><td>beans20190718_.nwb</td>\n",
       "<td>5</td>\n",
       "<td>-1</td></tr><tr><td>beans20190718_.nwb</td>\n",
       "<td>6</td>\n",
       "<td>-1</td></tr><tr><td>beans20190718_.nwb</td>\n",
       "<td>7</td>\n",
       "<td>-1</td> </tr> </tbody>\n",
       "            </table>\n",
       "            \n",
       "            <p>Total: 8</p></div>\n",
       "            "
      ],
      "text/plain": [
       "*nwb_file_name *sort_group_id sort_reference\n",
       "+------------+ +------------+ +------------+\n",
       "beans20190718_ 0              -1            \n",
       "beans20190718_ 1              -1            \n",
       "beans20190718_ 2              -1            \n",
       "beans20190718_ 3              -1            \n",
       "beans20190718_ 4              -1            \n",
       "beans20190718_ 5              -1            \n",
       "beans20190718_ 6              -1            \n",
       "beans20190718_ 7              -1            \n",
       " (Total: 8)"
      ]
     },
     "execution_count": 6,
     "metadata": {},
     "output_type": "execute_result"
    }
   ],
   "source": [
    "nd.common.SortGroup().set_group_by_shank(nwb_file_name)\n",
    "nd.common.SortGroup()"
   ]
  },
  {
   "cell_type": "markdown",
   "metadata": {},
   "source": [
    "Optional: Display all of the electrodes with their sort groups"
   ]
  },
  {
   "cell_type": "code",
   "execution_count": null,
   "metadata": {},
   "outputs": [],
   "source": [
    "nd.common.SortGroup.SortGroupElectrode()"
   ]
  },
  {
   "cell_type": "markdown",
   "metadata": {},
   "source": [
    "### create the spike sorter and parameter lists "
   ]
  },
  {
   "cell_type": "code",
   "execution_count": null,
   "metadata": {},
   "outputs": [],
   "source": [
    "nd.common.SpikeSorter().insert_from_spikeinterface()\n",
    "nd.common.SpikeSorterParameters().insert_from_spikeinterface()"
   ]
  },
  {
   "cell_type": "code",
   "execution_count": null,
   "metadata": {},
   "outputs": [],
   "source": [
    "nd.common.SpikeSorterParameters()"
   ]
  },
  {
   "cell_type": "markdown",
   "metadata": {},
   "source": [
    "### create a 'franklab_mountainsort' parameter set"
   ]
  },
  {
   "cell_type": "code",
   "execution_count": null,
   "metadata": {},
   "outputs": [],
   "source": [
    "p = (nd.common.SpikeSorterParameters() & {'sorter_name': 'mountainsort4', 'parameter_set_name' : 'default'}).fetch1()\n",
    "param = p['parameter_dict']\n",
    "param['adjacency_radius'] = 100\n",
    "param['curation'] = False\n",
    "param['num_workers'] = 7\n",
    "param['verbose'] = True\n",
    "param['clip_size'] = 30\n",
    "param['noise_overlap_threshold'] = 0\n",
    "\n",
    "nd.common.SpikeSorterParameters().insert1({'sorter_name': 'mountainsort4', 'parameter_set_name' : 'franklab_mountainsort_20KHz', 'parameter_dict' : param}, skip_duplicates='True')"
   ]
  },
  {
   "cell_type": "markdown",
   "metadata": {},
   "source": [
    "Display the new parameter set"
   ]
  },
  {
   "cell_type": "code",
   "execution_count": 8,
   "metadata": {},
   "outputs": [
    {
     "data": {
      "text/plain": [
       "{'sorter_name': 'mountainsort4',\n",
       " 'parameter_set_name': 'franklab_mountainsort_20KHz',\n",
       " 'parameter_dict': {'detect_sign': -1,\n",
       "  'adjacency_radius': 100,\n",
       "  'freq_min': 300,\n",
       "  'freq_max': 6000,\n",
       "  'filter': True,\n",
       "  'whiten': True,\n",
       "  'curation': False,\n",
       "  'num_workers': 7,\n",
       "  'clip_size': 30,\n",
       "  'detect_threshold': 3,\n",
       "  'detect_interval': 10,\n",
       "  'noise_overlap_threshold': 0,\n",
       "  'verbose': True}}"
      ]
     },
     "execution_count": 8,
     "metadata": {},
     "output_type": "execute_result"
    }
   ],
   "source": [
    "p = (nd.common.SpikeSorterParameters() & {'sorter_name': 'mountainsort4', 'parameter_set_name' : 'franklab_mountainsort_20KHz'}).fetch1()\n",
    "p"
   ]
  },
  {
   "cell_type": "code",
   "execution_count": 22,
   "metadata": {},
   "outputs": [
    {
     "data": {
      "text/plain": [
       "{'detect_sign': -1,\n",
       " 'adjacency_radius': 100,\n",
       " 'freq_min': 300,\n",
       " 'freq_max': 6000,\n",
       " 'filter': True,\n",
       " 'whiten': True,\n",
       " 'curation': False,\n",
       " 'num_workers': 7,\n",
       " 'clip_size': 30,\n",
       " 'detect_threshold': 3,\n",
       " 'detect_interval': 10,\n",
       " 'noise_overlap_threshold': 0,\n",
       " 'verbose': True}"
      ]
     },
     "execution_count": 22,
     "metadata": {},
     "output_type": "execute_result"
    }
   ],
   "source": [
    "param = p['parameter_dict']\n",
    "param"
   ]
  },
  {
   "cell_type": "markdown",
   "metadata": {},
   "source": [
    "### Create a set of spike sorting parameters for sorting group 1"
   ]
  },
  {
   "cell_type": "code",
   "execution_count": 9,
   "metadata": {},
   "outputs": [
    {
     "data": {
      "text/html": [
       "\n",
       "        \n",
       "        <style type=\"text/css\">\n",
       "            .Relation{\n",
       "                border-collapse:collapse;\n",
       "            }\n",
       "            .Relation th{\n",
       "                background: #A0A0A0; color: #ffffff; padding:4px; border:#f0e0e0 1px solid;\n",
       "                font-weight: normal; font-family: monospace; font-size: 100%;\n",
       "            }\n",
       "            .Relation td{\n",
       "                padding:4px; border:#f0e0e0 1px solid; font-size:100%;\n",
       "            }\n",
       "            .Relation tr:nth-child(odd){\n",
       "                background: #ffffff;\n",
       "            }\n",
       "            .Relation tr:nth-child(even){\n",
       "                background: #f3f1ff;\n",
       "            }\n",
       "            /* Tooltip container */\n",
       "            .djtooltip {\n",
       "            }\n",
       "            /* Tooltip text */\n",
       "            .djtooltip .djtooltiptext {\n",
       "                visibility: hidden;\n",
       "                width: 120px;\n",
       "                background-color: black;\n",
       "                color: #fff;\n",
       "                text-align: center;\n",
       "                padding: 5px 0;\n",
       "                border-radius: 6px;\n",
       "                /* Position the tooltip text - see examples below! */\n",
       "                position: absolute;\n",
       "                z-index: 1;\n",
       "            }\n",
       "            #primary {\n",
       "                font-weight: bold;\n",
       "                color: black;\n",
       "            }\n",
       "\n",
       "            #nonprimary {\n",
       "                font-weight: normal;\n",
       "                color: white;\n",
       "            }\n",
       "\n",
       "            /* Show the tooltip text when you mouse over the tooltip container */\n",
       "            .djtooltip:hover .djtooltiptext {\n",
       "                visibility: visible;\n",
       "            }\n",
       "        </style>\n",
       "        \n",
       "        <b></b>\n",
       "            <div style=\"max-height:1000px;max-width:1500px;overflow:auto;\">\n",
       "            <table border=\"1\" class=\"Relation\">\n",
       "                <thead> <tr style=\"text-align: right;\"> <th> <div class=\"djtooltip\">\n",
       "                                <p id=\"primary\">nwb_file_name</p>\n",
       "                                <span class=\"djtooltiptext\">the name of the NWB file</span>\n",
       "                            </div></th><th><div class=\"djtooltip\">\n",
       "                                <p id=\"primary\">interval_list_name</p>\n",
       "                                <span class=\"djtooltiptext\">descriptive name of this interval list</span>\n",
       "                            </div></th><th><div class=\"djtooltip\">\n",
       "                                <p id=\"nonprimary\">valid_times</p>\n",
       "                                <span class=\"djtooltiptext\">numpy array with start and end times for each interval</span>\n",
       "                            </div> </th> </tr> </thead>\n",
       "                <tbody> <tr> <td>beans20190718_.nwb</td>\n",
       "<td>01_s1</td>\n",
       "<td>=BLOB=</td></tr><tr><td>beans20190718_.nwb</td>\n",
       "<td>02_r1</td>\n",
       "<td>=BLOB=</td></tr><tr><td>beans20190718_.nwb</td>\n",
       "<td>03_s2</td>\n",
       "<td>=BLOB=</td></tr><tr><td>beans20190718_.nwb</td>\n",
       "<td>04_r2</td>\n",
       "<td>=BLOB=</td></tr><tr><td>beans20190718_.nwb</td>\n",
       "<td>pos 0 valid times</td>\n",
       "<td>=BLOB=</td></tr><tr><td>beans20190718_.nwb</td>\n",
       "<td>pos 1 valid times</td>\n",
       "<td>=BLOB=</td></tr><tr><td>beans20190718_.nwb</td>\n",
       "<td>pos 2 valid times</td>\n",
       "<td>=BLOB=</td></tr><tr><td>beans20190718_.nwb</td>\n",
       "<td>pos 3 valid times</td>\n",
       "<td>=BLOB=</td></tr><tr><td>beans20190718_.nwb</td>\n",
       "<td>raw data valid times</td>\n",
       "<td>=BLOB=</td> </tr> </tbody>\n",
       "            </table>\n",
       "            \n",
       "            <p>Total: 9</p></div>\n",
       "            "
      ],
      "text/plain": [
       "*nwb_file_name *interval_list valid_time\n",
       "+------------+ +------------+ +--------+\n",
       "beans20190718_ 01_s1          =BLOB=    \n",
       "beans20190718_ 02_r1          =BLOB=    \n",
       "beans20190718_ 03_s2          =BLOB=    \n",
       "beans20190718_ 04_r2          =BLOB=    \n",
       "beans20190718_ pos 0 valid ti =BLOB=    \n",
       "beans20190718_ pos 1 valid ti =BLOB=    \n",
       "beans20190718_ pos 2 valid ti =BLOB=    \n",
       "beans20190718_ pos 3 valid ti =BLOB=    \n",
       "beans20190718_ raw data valid =BLOB=    \n",
       " (Total: 9)"
      ]
     },
     "execution_count": 9,
     "metadata": {},
     "output_type": "execute_result"
    }
   ],
   "source": [
    "nd.common.IntervalList()"
   ]
  },
  {
   "cell_type": "code",
   "execution_count": 7,
   "metadata": {},
   "outputs": [
    {
     "name": "stdout",
     "output_type": "stream",
     "text": [
      "[[1.56348899e+09 1.56349008e+09]]\n",
      "[1.56348899e+09 1.56348923e+09]\n"
     ]
    }
   ],
   "source": [
    "# create a 10 second test intervals for debugging\n",
    "s1 = (nd.common.IntervalList() & {'interval_list_name' : '01_s1'}).fetch1('valid_times')\n",
    "print(s1)\n",
    "\n",
    "\n",
    "a = np.asarray([s1[0][0], s1[0][0]+240])\n",
    "#t = np.vstack((t, np.asarray([[a+120,b+120]])))\n",
    "nd.common.SortInterval().insert1({'nwb_file_name' : nwb_file_name, 'sort_interval_name' : 'test', 'sort_interval' : a}, replace='True')\n",
    "\n",
    "print(a)"
   ]
  },
  {
   "cell_type": "code",
   "execution_count": 8,
   "metadata": {},
   "outputs": [],
   "source": [
    "# create the sorting waveform parameters table\n",
    "n_noise_waveforms = 1000 # the number of random noise waveforms to save\n",
    "waveform_param_dict = st.postprocessing.get_waveforms_params()\n",
    "waveform_param_dict['grouping_property'] = 'group'\n",
    "# set the window to half of the clip size before and half after\n",
    "waveform_param_dict['ms_before'] = .75\n",
    "waveform_param_dict['ms_after'] = .75\n",
    "waveform_param_dict['dtype'] = 'i2'\n",
    "waveform_param_dict['verbose'] = False\n",
    "waveform_param_dict['max_spikes_per_unit'] = 1000\n",
    "nd.common.SpikeSortingWaveformParameters.insert1({'waveform_parameters_name' : 'franklab default', 'n_noise_waveforms' : n_noise_waveforms, \n",
    "                                                   'waveform_parameter_dict' : waveform_param_dict}, replace='True')"
   ]
  },
  {
   "cell_type": "markdown",
   "metadata": {},
   "source": [
    "### create a list of metrics to be computed "
   ]
  },
  {
   "cell_type": "code",
   "execution_count": 9,
   "metadata": {},
   "outputs": [
    {
     "data": {
      "text/plain": [
       "{'num_spikes': False,\n",
       " 'firing_rate': False,\n",
       " 'presence_ratio': False,\n",
       " 'isi_violation': False,\n",
       " 'amplitude_cutoff': False,\n",
       " 'snr': False,\n",
       " 'max_drift': False,\n",
       " 'cumulative_drift': False,\n",
       " 'silhouette_score': False,\n",
       " 'isolation_distance': False,\n",
       " 'l_ratio': False,\n",
       " 'd_prime': False,\n",
       " 'nn_hit_rate': False,\n",
       " 'nn_miss_rate': False}"
      ]
     },
     "execution_count": 9,
     "metadata": {},
     "output_type": "execute_result"
    }
   ],
   "source": [
    "metric_dict = nd.common.SpikeSortingMetrics().get_metric_dict()\n",
    "metric_dict"
   ]
  },
  {
   "cell_type": "markdown",
   "metadata": {},
   "source": [
    "Select a set of metrics to compute"
   ]
  },
  {
   "cell_type": "code",
   "execution_count": 10,
   "metadata": {},
   "outputs": [],
   "source": [
    "metric_dict['num_spikes'] = True\n",
    "metric_dict['firing_rate'] = True\n",
    "metric_dict['isi_violation'] = True\n",
    "metric_dict['nn_hit_rate'] = True\n",
    "#metric_dict['noise overlap'] = True"
   ]
  },
  {
   "cell_type": "markdown",
   "metadata": {},
   "source": [
    "Set the parameters for computing the metrics. \\\n",
    "All of the parameters in the schema have default values, so we only need to specify the ones that we want to change. \\\n",
    "See spiketoolkit.validation documentation for details."
   ]
  },
  {
   "cell_type": "code",
   "execution_count": 11,
   "metadata": {},
   "outputs": [],
   "source": [
    "n_cluster_waveforms=1000"
   ]
  },
  {
   "cell_type": "code",
   "execution_count": 13,
   "metadata": {},
   "outputs": [],
   "source": [
    "nd.common.SpikeSortingMetrics().insert1({'cluster_metrics_list_name' : 'll_fl_probe_metrics', \n",
    "                             'n_cluster_waveforms' : n_cluster_waveforms,\n",
    "                             'metrics_dict' : metric_dict}, skip_duplicates='True')"
   ]
  },
  {
   "cell_type": "code",
   "execution_count": 11,
   "metadata": {},
   "outputs": [
    {
     "name": "stdout",
     "output_type": "stream",
     "text": [
      "`common_spikesorting`.`spike_sorting_parameters` (1 tuples)\n",
      "`common_spikesorting`.`__spike_sorting` (0 tuples)\n",
      "`common_spikesorting`.`__curated_spike_sorting` (0 tuples)\n",
      "`common_spikesorting`.`__curated_spike_sorting__units` (0 tuples)\n"
     ]
    },
    {
     "name": "stdin",
     "output_type": "stream",
     "text": [
      "Proceed? [yes, No]:  yes\n"
     ]
    },
    {
     "name": "stdout",
     "output_type": "stream",
     "text": [
      "Tables dropped.  Restart kernel.\n"
     ]
    }
   ],
   "source": [
    "nd.common.SpikeSortingParameters().drop()"
   ]
  },
  {
   "cell_type": "code",
   "execution_count": 26,
   "metadata": {},
   "outputs": [],
   "source": [
    "#nd.common.SpikeSortingParameters().delete()"
   ]
  },
  {
   "cell_type": "code",
   "execution_count": 16,
   "metadata": {},
   "outputs": [],
   "source": [
    "sort_group_id = 1\n",
    "key = dict()\n",
    "key['nwb_file_name'] = nwb_file_name\n",
    "key['sort_group_id'] = sort_group_id\n",
    "key['sorter_name'] = 'mountainsort4'\n",
    "key['parameter_set_name'] = 'franklab_mountainsort_20KHz'\n",
    "key['waveform_parameters_name'] = 'franklab default'\n",
    "key['interval_list_name'] = '01_s1'\n",
    "key['sort_interval_name'] = 'test'\n",
    "key['cluster_metrics_list_name'] = 'll_fl_probe_metrics'\n",
    "nd.common.SpikeSortingParameters().insert1(key, skip_duplicates='True')"
   ]
  },
  {
   "cell_type": "markdown",
   "metadata": {},
   "source": [
    "### run the sort - this can take some time"
   ]
  },
  {
   "cell_type": "code",
   "execution_count": 17,
   "metadata": {},
   "outputs": [
    {
     "name": "stdout",
     "output_type": "stream",
     "text": [
      "in spike sorting\n",
      "writing new NWB file beans20190718_000000.nwb\n",
      "Sorting {'nwb_file_name': 'beans20190718_.nwb', 'sort_group_id': 1, 'sorter_name': 'mountainsort4', 'parameter_set_name': 'franklab_mountainsort_20KHz', 'sort_interval_name': 'test', 'analysis_file_name': 'beans20190718_000000.nwb'}...\n",
      "Using 7 workers.\n",
      "Using tmpdir: /tmp/tmpt7gilkpr\n",
      "Num. workers = 7\n",
      "Preparing /tmp/tmpt7gilkpr/timeseries.hdf5...\n",
      "'end_frame' set to 4799970\n",
      "Preparing neighborhood sorters (M=24, N=4799970)...\n",
      "Preparing output...\n",
      "Done with ms4alg.\n",
      "Cleaning tmpdir::::: /tmp/tmpt7gilkpr\n",
      "mountainsort4 run time 50.28s\n",
      "Warning: dumping a CacheRecordingExtractor. The path to the tmp binary file will be lost in further sessions. To prevent this, use the 'CacheRecordingExtractor.move_to('path-to-file)' function\n",
      "Subsampling sorting\n",
      "Finding unit peak channels\n",
      "Processing chunk 1 of 1; chunk-range: 0 2543997; num-frames: 2543997\n",
      "Retrieving traces for chunk\n",
      "Collecting waveforms for chunk\n",
      "Finding unit neighborhoods\n",
      "Getting unit waveforms for 33 units\n",
      "Processing chunk 1 of 1; chunk-range: 0 4799970; num-frames: 4799970\n",
      "Retrieving traces for chunk\n",
      "Collecting waveforms for chunk\n",
      "Subsampling sorting\n",
      "Finding unit peak channels\n",
      "Processing chunk 1 of 1; chunk-range: 0 97976; num-frames: 97976\n",
      "Retrieving traces for chunk\n",
      "Collecting waveforms for chunk\n",
      "Finding unit neighborhoods\n",
      "Getting unit waveforms for 1 units\n",
      "Processing chunk 1 of 1; chunk-range: 0 4799970; num-frames: 4799970\n",
      "Retrieving traces for chunk\n",
      "Collecting waveforms for chunk\n",
      "adding metric num_spikes : [10613, 5248, 5372, 4302, 8006, 5806, 7373, 44, 6363, 11105, 7369, 5419, 8172, 110, 4553, 2980, 214, 9647, 5952, 16150, 3158, 4245, 473, 234, 8891, 6713, 9603, 5224, 934, 10730, 5084, 19730, 126]\n",
      "adding metric firing_rate : [44.161137467426634, 21.83714778376095, 22.353116976822378, 17.900802165727825, 33.31330128749813, 24.159009152537365, 30.679361777757148, 0.1830858426992153, 26.47670947943425, 46.208370072154224, 30.662717610239035, 22.548685945160177, 34.00403423949972, 0.45771460674803827, 18.945223677489256, 12.39990480099231, 0.8904629622189107, 40.14157101180295, 24.7665212669484, 67.20082635437107, 13.140570255548226, 17.66362277859475, 1.9681728090165644, 0.9736837998094632, 36.99582335088007, 27.933074137268918, 39.95848516910374, 21.73728277865229, 3.8864131154787978, 44.64797936733137, 21.154736915518424, 82.09735628307995, 0.5242912768204802]\n",
      "adding metric isi_violation : [0.5698144683822643, 0.6247522803860749, 0.42408852761707605, 0.42557852291268217, 0.36297541923118837, 0.36904774597975554, 0.4354066440639417, 0.0, 0.3711119995290418, 0.3399743337646957, 1.4333442390799067, 0.44839958469260777, 2.480384204381752, 3.338109150906414, 0.37605200800990246, 0.9733457766944134, 0.8819792280104727, 0.32984882310885105, 0.39563028906178754, 0.31390237311403857, 1.0084653931134147, 0.44380859092823605, 0.9026795973246118, 0.0, 0.3862837854092597, 0.3701712290662413, 0.3096645278805602, 0.2945321065158229, 0.0, 0.282762297354882, 0.3437933728202111, 0.26189130738960315, 0.0]\n",
      "adding metric nn_hit_rate : [0.07526881720430108, 0.0962962962962963, 0.08823529411764706, 0.10294117647058823, 0.10215053763440861, 0.014705882352941176, 0.06862745098039216, 0.18181818181818182, 0.1774193548387097, 0.9177777777777778, 0.17647058823529413, 0.3611111111111111, 0.20098039215686275, 0.022222222222222223, 0.10215053763440861, 0.037037037037037035, 0.007575757575757576, 0.13440860215053763, 0.2969187675070028, 0.11827956989247312, 0.07936507936507936, 0.11827956989247312, 0.16666666666666666, 0.08333333333333333, 0.04838709677419355, 0.037037037037037035, 0.11290322580645161, 0.043010752688172046, 0.33666666666666667, 0.06666666666666667, 0.3244444444444444, 0.07751937984496124, 0.018518518518518517]\n"
     ]
    }
   ],
   "source": [
    "nd.common.SpikeSorting().populate()"
   ]
  },
  {
   "cell_type": "markdown",
   "metadata": {},
   "source": [
    "\n",
    "### Example: Retrieve the spike trains:\n",
    "Note that these spikes are all noise; this is for demonstration purposes only."
   ]
  },
  {
   "cell_type": "code",
   "execution_count": 15,
   "metadata": {},
   "outputs": [
    {
     "name": "stdout",
     "output_type": "stream",
     "text": [
      "About to delete:\n",
      "Nothing to delete\n"
     ]
    }
   ],
   "source": [
    "nd.common.SpikeSorting.delete()"
   ]
  },
  {
   "cell_type": "code",
   "execution_count": 9,
   "metadata": {},
   "outputs": [
    {
     "name": "stdout",
     "output_type": "stream",
     "text": [
      "About to delete:\n",
      "`common_lab`.`analysis_nwbfile`: 1 items\n"
     ]
    },
    {
     "name": "stdin",
     "output_type": "stream",
     "text": [
      "Proceed? [yes, No]:  yes\n"
     ]
    },
    {
     "name": "stdout",
     "output_type": "stream",
     "text": [
      "Committed.\n"
     ]
    }
   ],
   "source": [
    "nd.common.AnalysisNwbfile().delete()\n",
    "nd.common.AnalysisNwbfile().cleanup()"
   ]
  },
  {
   "cell_type": "code",
   "execution_count": 4,
   "metadata": {},
   "outputs": [
    {
     "name": "stderr",
     "output_type": "stream",
     "text": [
      "[autoreload of nwb_datajoint.common.common_spikesorting failed: Traceback (most recent call last):\n",
      "  File \"/Users/loren/opt/anaconda3/envs/nwb_datajoint/lib/python3.8/site-packages/IPython/extensions/autoreload.py\", line 245, in check\n",
      "    superreload(m, reload, self.old_objects)\n",
      "  File \"/Users/loren/opt/anaconda3/envs/nwb_datajoint/lib/python3.8/site-packages/IPython/extensions/autoreload.py\", line 410, in superreload\n",
      "    update_generic(old_obj, new_obj)\n",
      "  File \"/Users/loren/opt/anaconda3/envs/nwb_datajoint/lib/python3.8/site-packages/IPython/extensions/autoreload.py\", line 347, in update_generic\n",
      "    update(a, b)\n",
      "  File \"/Users/loren/opt/anaconda3/envs/nwb_datajoint/lib/python3.8/site-packages/IPython/extensions/autoreload.py\", line 302, in update_class\n",
      "    if update_generic(old_obj, new_obj): continue\n",
      "  File \"/Users/loren/opt/anaconda3/envs/nwb_datajoint/lib/python3.8/site-packages/IPython/extensions/autoreload.py\", line 347, in update_generic\n",
      "    update(a, b)\n",
      "  File \"/Users/loren/opt/anaconda3/envs/nwb_datajoint/lib/python3.8/site-packages/IPython/extensions/autoreload.py\", line 302, in update_class\n",
      "    if update_generic(old_obj, new_obj): continue\n",
      "  File \"/Users/loren/opt/anaconda3/envs/nwb_datajoint/lib/python3.8/site-packages/IPython/extensions/autoreload.py\", line 347, in update_generic\n",
      "    update(a, b)\n",
      "  File \"/Users/loren/opt/anaconda3/envs/nwb_datajoint/lib/python3.8/site-packages/IPython/extensions/autoreload.py\", line 302, in update_class\n",
      "    if update_generic(old_obj, new_obj): continue\n",
      "  File \"/Users/loren/opt/anaconda3/envs/nwb_datajoint/lib/python3.8/site-packages/IPython/extensions/autoreload.py\", line 347, in update_generic\n",
      "    update(a, b)\n",
      "  File \"/Users/loren/opt/anaconda3/envs/nwb_datajoint/lib/python3.8/site-packages/IPython/extensions/autoreload.py\", line 302, in update_class\n",
      "    if update_generic(old_obj, new_obj): continue\n",
      "RecursionError: maximum recursion depth exceeded while calling a Python object\n",
      "]\n"
     ]
    },
    {
     "name": "stdout",
     "output_type": "stream",
     "text": [
      "`common_lab`.`analysis_nwbfile` (0 tuples)\n",
      "`common_lab`.`__analysis_nwbfile_kachery` (0 tuples)\n",
      "`common_spikesorting`.`__spike_sorting` (0 tuples)\n",
      "`common_spikesorting`.`__curated_spike_sorting` (0 tuples)\n",
      "`common_spikesorting`.`__curated_spike_sorting__units` (0 tuples)\n",
      "`common_ephys`.`_l_f_p` (0 tuples)\n",
      "`common_ephys`.`l_f_p_band_selection` (0 tuples)\n",
      "`common_ephys`.`l_f_p_band_selection__l_f_p_band_electrode` (0 tuples)\n",
      "`common_ephys`.`__l_f_p_band` (0 tuples)\n"
     ]
    },
    {
     "name": "stdin",
     "output_type": "stream",
     "text": [
      "Proceed? [yes, No]:  yes\n"
     ]
    },
    {
     "name": "stdout",
     "output_type": "stream",
     "text": [
      "Tables dropped.  Restart kernel.\n"
     ]
    }
   ],
   "source": [
    "nd.common.AnalysisNwbfile().drop()"
   ]
  },
  {
   "cell_type": "code",
   "execution_count": 12,
   "metadata": {},
   "outputs": [
    {
     "name": "stderr",
     "output_type": "stream",
     "text": [
      "[autoreload of nwb_datajoint.common.common_spikesorting failed: Traceback (most recent call last):\n",
      "  File \"/Users/loren/opt/anaconda3/envs/nwb_datajoint/lib/python3.8/site-packages/IPython/extensions/autoreload.py\", line 245, in check\n",
      "    superreload(m, reload, self.old_objects)\n",
      "  File \"/Users/loren/opt/anaconda3/envs/nwb_datajoint/lib/python3.8/site-packages/IPython/extensions/autoreload.py\", line 410, in superreload\n",
      "    update_generic(old_obj, new_obj)\n",
      "  File \"/Users/loren/opt/anaconda3/envs/nwb_datajoint/lib/python3.8/site-packages/IPython/extensions/autoreload.py\", line 347, in update_generic\n",
      "    update(a, b)\n",
      "  File \"/Users/loren/opt/anaconda3/envs/nwb_datajoint/lib/python3.8/site-packages/IPython/extensions/autoreload.py\", line 302, in update_class\n",
      "    if update_generic(old_obj, new_obj): continue\n",
      "  File \"/Users/loren/opt/anaconda3/envs/nwb_datajoint/lib/python3.8/site-packages/IPython/extensions/autoreload.py\", line 347, in update_generic\n",
      "    update(a, b)\n",
      "  File \"/Users/loren/opt/anaconda3/envs/nwb_datajoint/lib/python3.8/site-packages/IPython/extensions/autoreload.py\", line 302, in update_class\n",
      "    if update_generic(old_obj, new_obj): continue\n",
      "  File \"/Users/loren/opt/anaconda3/envs/nwb_datajoint/lib/python3.8/site-packages/IPython/extensions/autoreload.py\", line 347, in update_generic\n",
      "    update(a, b)\n",
      "  File \"/Users/loren/opt/anaconda3/envs/nwb_datajoint/lib/python3.8/site-packages/IPython/extensions/autoreload.py\", line 302, in update_class\n",
      "    if update_generic(old_obj, new_obj): continue\n",
      "  File \"/Users/loren/opt/anaconda3/envs/nwb_datajoint/lib/python3.8/site-packages/IPython/extensions/autoreload.py\", line 347, in update_generic\n",
      "    update(a, b)\n",
      "  File \"/Users/loren/opt/anaconda3/envs/nwb_datajoint/lib/python3.8/site-packages/IPython/extensions/autoreload.py\", line 302, in update_class\n",
      "    if update_generic(old_obj, new_obj): continue\n",
      "RecursionError: maximum recursion depth exceeded while calling a Python object\n",
      "]\n"
     ]
    },
    {
     "name": "stdout",
     "output_type": "stream",
     "text": [
      "About to delete:\n",
      "`common_spikesorting`.`__spike_sorting`: 1 items\n"
     ]
    },
    {
     "name": "stdin",
     "output_type": "stream",
     "text": [
      "Proceed? [yes, No]:  yes\n"
     ]
    },
    {
     "name": "stderr",
     "output_type": "stream",
     "text": [
      "0it [00:00, ?it/s]"
     ]
    },
    {
     "name": "stdout",
     "output_type": "stream",
     "text": [
      "Committed.\n"
     ]
    },
    {
     "name": "stderr",
     "output_type": "stream",
     "text": [
      "\n"
     ]
    }
   ],
   "source": [
    "nd.common.SpikeSorting().delete()\n",
    "nd.common.AnalysisNwbfile().cleanup(delete_files=True)"
   ]
  },
  {
   "cell_type": "code",
   "execution_count": 84,
   "metadata": {},
   "outputs": [],
   "source": [
    "sort_interval = (nd.common.SortIntervalList() & {'sort_interval_list_name' : 'test'}).fetch1('sort_intervals')[0]\n",
    "\n",
    "key = nd.common.SpikeSorting().fetch('KEY')[0]\n",
    "\n",
    "recording = nd.common.SpikeSorting().get_recording_extractor(key, sort_interval)[0]\n",
    "sorting = nd.common.SpikeSorting().get_sorting_extractor(key, sort_interval)\n"
   ]
  },
  {
   "cell_type": "code",
   "execution_count": 71,
   "metadata": {},
   "outputs": [
    {
     "data": {
      "text/plain": [
       "array([     19,      20,      21, ..., 2000004, 2000005, 2000006])"
      ]
     },
     "execution_count": 71,
     "metadata": {},
     "output_type": "execute_result"
    }
   ],
   "source": [
    "# get the timestamps and select 1000 random times\n",
    "raw_obj = (nd.common.Raw() & {'nwb_file_name' : nwb_file_name}).fetch_nwb()[0]['raw']\n",
    "ts = np.asarray(raw_obj.timestamps)\n",
    "ts_sort_ind = np.where(np.logical_and((ts > sort_interval[0]), (ts < sort_interval[1])))[0]\n"
   ]
  },
  {
   "cell_type": "code",
   "execution_count": 7,
   "metadata": {},
   "outputs": [
    {
     "data": {
      "text/html": [
       "<div>\n",
       "<style scoped>\n",
       "    .dataframe tbody tr th:only-of-type {\n",
       "        vertical-align: middle;\n",
       "    }\n",
       "\n",
       "    .dataframe tbody tr th {\n",
       "        vertical-align: top;\n",
       "    }\n",
       "\n",
       "    .dataframe thead th {\n",
       "        text-align: right;\n",
       "    }\n",
       "</style>\n",
       "<table border=\"1\" class=\"dataframe\">\n",
       "  <thead>\n",
       "    <tr style=\"text-align: right;\">\n",
       "      <th></th>\n",
       "      <th>spike_times</th>\n",
       "      <th>obs_intervals</th>\n",
       "      <th>waveform_mean</th>\n",
       "      <th>sort_interval</th>\n",
       "      <th>num_spikes</th>\n",
       "      <th>firing_rate</th>\n",
       "      <th>isi_violation</th>\n",
       "      <th>nn_hit_rate</th>\n",
       "    </tr>\n",
       "    <tr>\n",
       "      <th>id</th>\n",
       "      <th></th>\n",
       "      <th></th>\n",
       "      <th></th>\n",
       "      <th></th>\n",
       "      <th></th>\n",
       "      <th></th>\n",
       "      <th></th>\n",
       "      <th></th>\n",
       "    </tr>\n",
       "  </thead>\n",
       "  <tbody>\n",
       "    <tr>\n",
       "      <th>1</th>\n",
       "      <td>[1563488988.9327333, 1563488988.9815834, 15634...</td>\n",
       "      <td>[[1563488988.8777807, 1563488998.8777807]]</td>\n",
       "      <td>[[-14.0, -15.0, -13.5, -12.0, -9.5, -6.0, -13....</td>\n",
       "      <td>[[1563488988.8777807, 1563488998.8777807]]</td>\n",
       "      <td>401</td>\n",
       "      <td>40.045817</td>\n",
       "      <td>0.429112</td>\n",
       "      <td>0.388889</td>\n",
       "    </tr>\n",
       "    <tr>\n",
       "      <th>2</th>\n",
       "      <td>[1563488988.920283, 1563488988.9500833, 156348...</td>\n",
       "      <td>[[1563488988.8777807, 1563488998.8777807]]</td>\n",
       "      <td>[[-10.0, -2.0, -3.0, -1.0, -5.0, 2.0, 3.0, -2....</td>\n",
       "      <td>[[1563488988.8777807, 1563488998.8777807]]</td>\n",
       "      <td>211</td>\n",
       "      <td>21.071490</td>\n",
       "      <td>0.378016</td>\n",
       "      <td>0.256554</td>\n",
       "    </tr>\n",
       "    <tr>\n",
       "      <th>3</th>\n",
       "      <td>[1563488988.9864836, 1563488989.1257844, 15634...</td>\n",
       "      <td>[[1563488988.8777807, 1563488998.8777807]]</td>\n",
       "      <td>[[-12.0, -12.0, -6.0, -14.0, -18.0, -14.0, -9....</td>\n",
       "      <td>[[1563488988.8777807, 1563488998.8777807]]</td>\n",
       "      <td>195</td>\n",
       "      <td>19.473652</td>\n",
       "      <td>0.575373</td>\n",
       "      <td>0.323741</td>\n",
       "    </tr>\n",
       "    <tr>\n",
       "      <th>4</th>\n",
       "      <td>[1563488988.905783, 1563488988.911983, 1563488...</td>\n",
       "      <td>[[1563488988.8777807, 1563488998.8777807]]</td>\n",
       "      <td>[[-6.0, -3.0, 3.0, 0.0, -9.0, -10.0, -12.0, -1...</td>\n",
       "      <td>[[1563488988.8777807, 1563488998.8777807]]</td>\n",
       "      <td>207</td>\n",
       "      <td>20.672030</td>\n",
       "      <td>0.196383</td>\n",
       "      <td>0.252252</td>\n",
       "    </tr>\n",
       "    <tr>\n",
       "      <th>5</th>\n",
       "      <td>[1563488988.8783827, 1563488988.901983, 156348...</td>\n",
       "      <td>[[1563488988.8777807, 1563488998.8777807]]</td>\n",
       "      <td>[[3.5, 0.0, 6.0, 3.5, 3.0, -3.5, -5.0, 5.0, -5...</td>\n",
       "      <td>[[1563488988.8777807, 1563488998.8777807]]</td>\n",
       "      <td>270</td>\n",
       "      <td>26.963518</td>\n",
       "      <td>0.230859</td>\n",
       "      <td>0.329949</td>\n",
       "    </tr>\n",
       "    <tr>\n",
       "      <th>6</th>\n",
       "      <td>[1563488988.8863328, 1563488988.9429333, 15634...</td>\n",
       "      <td>[[1563488988.8777807, 1563488998.8777807]]</td>\n",
       "      <td>[[-10.5, -6.0, -17.5, -18.5, -2.0, -11.0, -10....</td>\n",
       "      <td>[[1563488988.8777807, 1563488998.8777807]]</td>\n",
       "      <td>214</td>\n",
       "      <td>21.371084</td>\n",
       "      <td>0.367492</td>\n",
       "      <td>0.257246</td>\n",
       "    </tr>\n",
       "    <tr>\n",
       "      <th>7</th>\n",
       "      <td>[1563488988.8768828, 1563488988.8978329, 15634...</td>\n",
       "      <td>[[1563488988.8777807, 1563488998.8777807]]</td>\n",
       "      <td>[[0.0, 2.0, 7.5, 3.5, -1.5, -4.5, -5.0, -9.0, ...</td>\n",
       "      <td>[[1563488988.8777807, 1563488998.8777807]]</td>\n",
       "      <td>274</td>\n",
       "      <td>27.362977</td>\n",
       "      <td>0.403503</td>\n",
       "      <td>0.181572</td>\n",
       "    </tr>\n",
       "    <tr>\n",
       "      <th>8</th>\n",
       "      <td>[1563488988.951233, 1563488988.9756334, 156348...</td>\n",
       "      <td>[[1563488988.8777807, 1563488998.8777807]]</td>\n",
       "      <td>[[0.0, 0.0, -4.0, 4.0, 3.5, -6.0, -1.0, -1.5, ...</td>\n",
       "      <td>[[1563488988.8777807, 1563488998.8777807]]</td>\n",
       "      <td>272</td>\n",
       "      <td>27.163247</td>\n",
       "      <td>0.318468</td>\n",
       "      <td>0.436275</td>\n",
       "    </tr>\n",
       "    <tr>\n",
       "      <th>9</th>\n",
       "      <td>[1563488988.8793328, 1563488988.897183, 156348...</td>\n",
       "      <td>[[1563488988.8777807, 1563488998.8777807]]</td>\n",
       "      <td>[[0.0, -1.5, -9.5, -5.5, -11.5, -0.5, 6.5, 3.5...</td>\n",
       "      <td>[[1563488988.8777807, 1563488998.8777807]]</td>\n",
       "      <td>414</td>\n",
       "      <td>41.344060</td>\n",
       "      <td>0.314213</td>\n",
       "      <td>0.196429</td>\n",
       "    </tr>\n",
       "    <tr>\n",
       "      <th>10</th>\n",
       "      <td>[1563488988.8909328, 1563488988.922383, 156348...</td>\n",
       "      <td>[[1563488988.8777807, 1563488998.8777807]]</td>\n",
       "      <td>[[-14.0, -9.5, -17.5, -21.0, -19.0, -10.0, -29...</td>\n",
       "      <td>[[1563488988.8777807, 1563488998.8777807]]</td>\n",
       "      <td>244</td>\n",
       "      <td>24.367031</td>\n",
       "      <td>1.385133</td>\n",
       "      <td>0.217125</td>\n",
       "    </tr>\n",
       "    <tr>\n",
       "      <th>11</th>\n",
       "      <td>[1563488988.9222832, 1563488988.9393833, 15634...</td>\n",
       "      <td>[[1563488988.8777807, 1563488998.8777807]]</td>\n",
       "      <td>[[-3.0, -5.0, -14.0, -5.0, -5.0, -7.0, 2.0, 6....</td>\n",
       "      <td>[[1563488988.8777807, 1563488998.8777807]]</td>\n",
       "      <td>232</td>\n",
       "      <td>23.168652</td>\n",
       "      <td>0.406483</td>\n",
       "      <td>0.142395</td>\n",
       "    </tr>\n",
       "    <tr>\n",
       "      <th>12</th>\n",
       "      <td>[1563488988.8885329, 1563488988.9524333, 15634...</td>\n",
       "      <td>[[1563488988.8777807, 1563488998.8777807]]</td>\n",
       "      <td>[[-12.0, -14.0, -12.0, 0.0, -15.0, -14.0, -17....</td>\n",
       "      <td>[[1563488988.8777807, 1563488998.8777807]]</td>\n",
       "      <td>249</td>\n",
       "      <td>24.866355</td>\n",
       "      <td>2.062957</td>\n",
       "      <td>0.318452</td>\n",
       "    </tr>\n",
       "    <tr>\n",
       "      <th>13</th>\n",
       "      <td>[1563488988.879433, 1563488988.9779334, 156348...</td>\n",
       "      <td>[[1563488988.8777807, 1563488998.8777807]]</td>\n",
       "      <td>[[2.5, 1.0, -5.0, -3.0, -0.5, -1.5, -6.0, -2.5...</td>\n",
       "      <td>[[1563488988.8777807, 1563488998.8777807]]</td>\n",
       "      <td>124</td>\n",
       "      <td>12.383245</td>\n",
       "      <td>0.875632</td>\n",
       "      <td>0.114583</td>\n",
       "    </tr>\n",
       "    <tr>\n",
       "      <th>14</th>\n",
       "      <td>[1563488988.906633, 1563488988.9317832, 156348...</td>\n",
       "      <td>[[1563488988.8777807, 1563488998.8777807]]</td>\n",
       "      <td>[[6.0, 1.0, 5.0, -4.0, -1.0, 2.0, -6.0, -12.0,...</td>\n",
       "      <td>[[1563488988.8777807, 1563488998.8777807]]</td>\n",
       "      <td>161</td>\n",
       "      <td>16.078246</td>\n",
       "      <td>0.194780</td>\n",
       "      <td>0.079365</td>\n",
       "    </tr>\n",
       "    <tr>\n",
       "      <th>15</th>\n",
       "      <td>[1563488988.9509332, 1563488988.9527833, 15634...</td>\n",
       "      <td>[[1563488988.8777807, 1563488998.8777807]]</td>\n",
       "      <td>[[-2.5, 0.0, 6.5, 1.0, -2.0, -1.0, 3.0, -3.0, ...</td>\n",
       "      <td>[[1563488988.8777807, 1563488998.8777807]]</td>\n",
       "      <td>366</td>\n",
       "      <td>36.550546</td>\n",
       "      <td>0.351780</td>\n",
       "      <td>0.184524</td>\n",
       "    </tr>\n",
       "    <tr>\n",
       "      <th>16</th>\n",
       "      <td>[1563488988.8768828, 1563488989.0247838, 15634...</td>\n",
       "      <td>[[1563488988.8777807, 1563488998.8777807]]</td>\n",
       "      <td>[[-4.0, -3.0, 0.0, 8.0, 11.0, 0.0, -3.0, -1.0,...</td>\n",
       "      <td>[[1563488988.8777807, 1563488998.8777807]]</td>\n",
       "      <td>263</td>\n",
       "      <td>26.264464</td>\n",
       "      <td>0.389299</td>\n",
       "      <td>0.142361</td>\n",
       "    </tr>\n",
       "    <tr>\n",
       "      <th>17</th>\n",
       "      <td>[1563488988.8847828, 1563488988.8859327, 15634...</td>\n",
       "      <td>[[1563488988.8777807, 1563488998.8777807]]</td>\n",
       "      <td>[[0.5, -0.5, -1.5, 4.5, 5.0, 1.5, 0.5, -4.5, -...</td>\n",
       "      <td>[[1563488988.8777807, 1563488998.8777807]]</td>\n",
       "      <td>639</td>\n",
       "      <td>63.813658</td>\n",
       "      <td>0.354464</td>\n",
       "      <td>0.219753</td>\n",
       "    </tr>\n",
       "    <tr>\n",
       "      <th>18</th>\n",
       "      <td>[1563488988.8793328, 1563488988.9889834, 15634...</td>\n",
       "      <td>[[1563488988.8777807, 1563488998.8777807]]</td>\n",
       "      <td>[[1.0, 15.0, 22.0, 15.0, 9.0, 18.0, 16.0, 3.0,...</td>\n",
       "      <td>[[1563488988.8777807, 1563488998.8777807]]</td>\n",
       "      <td>133</td>\n",
       "      <td>13.282029</td>\n",
       "      <td>0.951419</td>\n",
       "      <td>0.077295</td>\n",
       "    </tr>\n",
       "    <tr>\n",
       "      <th>19</th>\n",
       "      <td>[1563488988.8972828, 1563488988.906533, 156348...</td>\n",
       "      <td>[[1563488988.8777807, 1563488998.8777807]]</td>\n",
       "      <td>[[-6.0, 4.0, 2.0, -1.0, 5.0, -1.0, -1.0, -10.0...</td>\n",
       "      <td>[[1563488988.8777807, 1563488998.8777807]]</td>\n",
       "      <td>145</td>\n",
       "      <td>14.480408</td>\n",
       "      <td>0.160092</td>\n",
       "      <td>0.071038</td>\n",
       "    </tr>\n",
       "    <tr>\n",
       "      <th>20</th>\n",
       "      <td>[1563488989.0893342, 1563488989.1883848, 15634...</td>\n",
       "      <td>[[1563488988.8777807, 1563488998.8777807]]</td>\n",
       "      <td>[[22.0, 39.0, 27.0, 27.5, 31.5, 5.0, 16.0, 7.5...</td>\n",
       "      <td>[[1563488988.8777807, 1563488998.8777807]]</td>\n",
       "      <td>18</td>\n",
       "      <td>1.797568</td>\n",
       "      <td>0.000000</td>\n",
       "      <td>0.000000</td>\n",
       "    </tr>\n",
       "    <tr>\n",
       "      <th>21</th>\n",
       "      <td>[1563488988.8859327, 1563488988.9839835, 15634...</td>\n",
       "      <td>[[1563488988.8777807, 1563488998.8777807]]</td>\n",
       "      <td>[[-5.5, 2.0, -2.5, -1.5, 0.0, 0.0, -3.0, -0.5,...</td>\n",
       "      <td>[[1563488988.8777807, 1563488998.8777807]]</td>\n",
       "      <td>327</td>\n",
       "      <td>32.655816</td>\n",
       "      <td>0.330521</td>\n",
       "      <td>0.140590</td>\n",
       "    </tr>\n",
       "    <tr>\n",
       "      <th>22</th>\n",
       "      <td>[1563488988.9898334, 1563488988.9928336, 15634...</td>\n",
       "      <td>[[1563488988.8777807, 1563488998.8777807]]</td>\n",
       "      <td>[[2.5, 4.0, 0.0, -4.0, -3.0, 2.5, -1.5, -9.0, ...</td>\n",
       "      <td>[[1563488988.8777807, 1563488998.8777807]]</td>\n",
       "      <td>244</td>\n",
       "      <td>24.367031</td>\n",
       "      <td>0.395752</td>\n",
       "      <td>0.209040</td>\n",
       "    </tr>\n",
       "    <tr>\n",
       "      <th>23</th>\n",
       "      <td>[1563488988.8981328, 1563488988.901283, 156348...</td>\n",
       "      <td>[[1563488988.8777807, 1563488998.8777807]]</td>\n",
       "      <td>[[2.0, 1.5, -1.5, -2.0, -6.5, -6.0, -6.0, -8.5...</td>\n",
       "      <td>[[1563488988.8777807, 1563488998.8777807]]</td>\n",
       "      <td>412</td>\n",
       "      <td>41.144331</td>\n",
       "      <td>0.297442</td>\n",
       "      <td>0.341223</td>\n",
       "    </tr>\n",
       "    <tr>\n",
       "      <th>24</th>\n",
       "      <td>[1563488988.8780327, 1563488988.8963828, 15634...</td>\n",
       "      <td>[[1563488988.8777807, 1563488998.8777807]]</td>\n",
       "      <td>[[-13.0, -15.0, -13.0, -10.0, -9.0, -5.0, 0.0,...</td>\n",
       "      <td>[[1563488988.8777807, 1563488998.8777807]]</td>\n",
       "      <td>201</td>\n",
       "      <td>20.072841</td>\n",
       "      <td>0.208283</td>\n",
       "      <td>0.221154</td>\n",
       "    </tr>\n",
       "    <tr>\n",
       "      <th>25</th>\n",
       "      <td>[1563488988.898983, 1563488988.914283, 1563488...</td>\n",
       "      <td>[[1563488988.8777807, 1563488998.8777807]]</td>\n",
       "      <td>[[-7.0, -5.0, -2.0, -1.0, -2.0, -8.5, 1.0, -3....</td>\n",
       "      <td>[[1563488988.8777807, 1563488998.8777807]]</td>\n",
       "      <td>456</td>\n",
       "      <td>45.538385</td>\n",
       "      <td>0.250904</td>\n",
       "      <td>0.237838</td>\n",
       "    </tr>\n",
       "    <tr>\n",
       "      <th>26</th>\n",
       "      <td>[1563488988.911983, 1563488989.0368338, 156348...</td>\n",
       "      <td>[[1563488988.8777807, 1563488998.8777807]]</td>\n",
       "      <td>[[3.0, -1.0, 4.0, -2.0, -8.0, -7.0, -1.0, -8.0...</td>\n",
       "      <td>[[1563488988.8777807, 1563488998.8777807]]</td>\n",
       "      <td>199</td>\n",
       "      <td>19.873111</td>\n",
       "      <td>0.467479</td>\n",
       "      <td>0.157658</td>\n",
       "    </tr>\n",
       "    <tr>\n",
       "      <th>27</th>\n",
       "      <td>[1563488988.8775828, 1563488988.884883, 156348...</td>\n",
       "      <td>[[1563488988.8777807, 1563488998.8777807]]</td>\n",
       "      <td>[[5.0, 0.0, 5.0, 4.0, 6.0, -0.5, 1.5, -1.5, 0....</td>\n",
       "      <td>[[1563488988.8777807, 1563488998.8777807]]</td>\n",
       "      <td>827</td>\n",
       "      <td>82.588256</td>\n",
       "      <td>0.282984</td>\n",
       "      <td>0.451119</td>\n",
       "    </tr>\n",
       "  </tbody>\n",
       "</table>\n",
       "</div>"
      ],
      "text/plain": [
       "                                          spike_times  \\\n",
       "id                                                      \n",
       "1   [1563488988.9327333, 1563488988.9815834, 15634...   \n",
       "2   [1563488988.920283, 1563488988.9500833, 156348...   \n",
       "3   [1563488988.9864836, 1563488989.1257844, 15634...   \n",
       "4   [1563488988.905783, 1563488988.911983, 1563488...   \n",
       "5   [1563488988.8783827, 1563488988.901983, 156348...   \n",
       "6   [1563488988.8863328, 1563488988.9429333, 15634...   \n",
       "7   [1563488988.8768828, 1563488988.8978329, 15634...   \n",
       "8   [1563488988.951233, 1563488988.9756334, 156348...   \n",
       "9   [1563488988.8793328, 1563488988.897183, 156348...   \n",
       "10  [1563488988.8909328, 1563488988.922383, 156348...   \n",
       "11  [1563488988.9222832, 1563488988.9393833, 15634...   \n",
       "12  [1563488988.8885329, 1563488988.9524333, 15634...   \n",
       "13  [1563488988.879433, 1563488988.9779334, 156348...   \n",
       "14  [1563488988.906633, 1563488988.9317832, 156348...   \n",
       "15  [1563488988.9509332, 1563488988.9527833, 15634...   \n",
       "16  [1563488988.8768828, 1563488989.0247838, 15634...   \n",
       "17  [1563488988.8847828, 1563488988.8859327, 15634...   \n",
       "18  [1563488988.8793328, 1563488988.9889834, 15634...   \n",
       "19  [1563488988.8972828, 1563488988.906533, 156348...   \n",
       "20  [1563488989.0893342, 1563488989.1883848, 15634...   \n",
       "21  [1563488988.8859327, 1563488988.9839835, 15634...   \n",
       "22  [1563488988.9898334, 1563488988.9928336, 15634...   \n",
       "23  [1563488988.8981328, 1563488988.901283, 156348...   \n",
       "24  [1563488988.8780327, 1563488988.8963828, 15634...   \n",
       "25  [1563488988.898983, 1563488988.914283, 1563488...   \n",
       "26  [1563488988.911983, 1563488989.0368338, 156348...   \n",
       "27  [1563488988.8775828, 1563488988.884883, 156348...   \n",
       "\n",
       "                                 obs_intervals  \\\n",
       "id                                               \n",
       "1   [[1563488988.8777807, 1563488998.8777807]]   \n",
       "2   [[1563488988.8777807, 1563488998.8777807]]   \n",
       "3   [[1563488988.8777807, 1563488998.8777807]]   \n",
       "4   [[1563488988.8777807, 1563488998.8777807]]   \n",
       "5   [[1563488988.8777807, 1563488998.8777807]]   \n",
       "6   [[1563488988.8777807, 1563488998.8777807]]   \n",
       "7   [[1563488988.8777807, 1563488998.8777807]]   \n",
       "8   [[1563488988.8777807, 1563488998.8777807]]   \n",
       "9   [[1563488988.8777807, 1563488998.8777807]]   \n",
       "10  [[1563488988.8777807, 1563488998.8777807]]   \n",
       "11  [[1563488988.8777807, 1563488998.8777807]]   \n",
       "12  [[1563488988.8777807, 1563488998.8777807]]   \n",
       "13  [[1563488988.8777807, 1563488998.8777807]]   \n",
       "14  [[1563488988.8777807, 1563488998.8777807]]   \n",
       "15  [[1563488988.8777807, 1563488998.8777807]]   \n",
       "16  [[1563488988.8777807, 1563488998.8777807]]   \n",
       "17  [[1563488988.8777807, 1563488998.8777807]]   \n",
       "18  [[1563488988.8777807, 1563488998.8777807]]   \n",
       "19  [[1563488988.8777807, 1563488998.8777807]]   \n",
       "20  [[1563488988.8777807, 1563488998.8777807]]   \n",
       "21  [[1563488988.8777807, 1563488998.8777807]]   \n",
       "22  [[1563488988.8777807, 1563488998.8777807]]   \n",
       "23  [[1563488988.8777807, 1563488998.8777807]]   \n",
       "24  [[1563488988.8777807, 1563488998.8777807]]   \n",
       "25  [[1563488988.8777807, 1563488998.8777807]]   \n",
       "26  [[1563488988.8777807, 1563488998.8777807]]   \n",
       "27  [[1563488988.8777807, 1563488998.8777807]]   \n",
       "\n",
       "                                        waveform_mean  \\\n",
       "id                                                      \n",
       "1   [[-14.0, -15.0, -13.5, -12.0, -9.5, -6.0, -13....   \n",
       "2   [[-10.0, -2.0, -3.0, -1.0, -5.0, 2.0, 3.0, -2....   \n",
       "3   [[-12.0, -12.0, -6.0, -14.0, -18.0, -14.0, -9....   \n",
       "4   [[-6.0, -3.0, 3.0, 0.0, -9.0, -10.0, -12.0, -1...   \n",
       "5   [[3.5, 0.0, 6.0, 3.5, 3.0, -3.5, -5.0, 5.0, -5...   \n",
       "6   [[-10.5, -6.0, -17.5, -18.5, -2.0, -11.0, -10....   \n",
       "7   [[0.0, 2.0, 7.5, 3.5, -1.5, -4.5, -5.0, -9.0, ...   \n",
       "8   [[0.0, 0.0, -4.0, 4.0, 3.5, -6.0, -1.0, -1.5, ...   \n",
       "9   [[0.0, -1.5, -9.5, -5.5, -11.5, -0.5, 6.5, 3.5...   \n",
       "10  [[-14.0, -9.5, -17.5, -21.0, -19.0, -10.0, -29...   \n",
       "11  [[-3.0, -5.0, -14.0, -5.0, -5.0, -7.0, 2.0, 6....   \n",
       "12  [[-12.0, -14.0, -12.0, 0.0, -15.0, -14.0, -17....   \n",
       "13  [[2.5, 1.0, -5.0, -3.0, -0.5, -1.5, -6.0, -2.5...   \n",
       "14  [[6.0, 1.0, 5.0, -4.0, -1.0, 2.0, -6.0, -12.0,...   \n",
       "15  [[-2.5, 0.0, 6.5, 1.0, -2.0, -1.0, 3.0, -3.0, ...   \n",
       "16  [[-4.0, -3.0, 0.0, 8.0, 11.0, 0.0, -3.0, -1.0,...   \n",
       "17  [[0.5, -0.5, -1.5, 4.5, 5.0, 1.5, 0.5, -4.5, -...   \n",
       "18  [[1.0, 15.0, 22.0, 15.0, 9.0, 18.0, 16.0, 3.0,...   \n",
       "19  [[-6.0, 4.0, 2.0, -1.0, 5.0, -1.0, -1.0, -10.0...   \n",
       "20  [[22.0, 39.0, 27.0, 27.5, 31.5, 5.0, 16.0, 7.5...   \n",
       "21  [[-5.5, 2.0, -2.5, -1.5, 0.0, 0.0, -3.0, -0.5,...   \n",
       "22  [[2.5, 4.0, 0.0, -4.0, -3.0, 2.5, -1.5, -9.0, ...   \n",
       "23  [[2.0, 1.5, -1.5, -2.0, -6.5, -6.0, -6.0, -8.5...   \n",
       "24  [[-13.0, -15.0, -13.0, -10.0, -9.0, -5.0, 0.0,...   \n",
       "25  [[-7.0, -5.0, -2.0, -1.0, -2.0, -8.5, 1.0, -3....   \n",
       "26  [[3.0, -1.0, 4.0, -2.0, -8.0, -7.0, -1.0, -8.0...   \n",
       "27  [[5.0, 0.0, 5.0, 4.0, 6.0, -0.5, 1.5, -1.5, 0....   \n",
       "\n",
       "                                 sort_interval  num_spikes  firing_rate  \\\n",
       "id                                                                        \n",
       "1   [[1563488988.8777807, 1563488998.8777807]]         401    40.045817   \n",
       "2   [[1563488988.8777807, 1563488998.8777807]]         211    21.071490   \n",
       "3   [[1563488988.8777807, 1563488998.8777807]]         195    19.473652   \n",
       "4   [[1563488988.8777807, 1563488998.8777807]]         207    20.672030   \n",
       "5   [[1563488988.8777807, 1563488998.8777807]]         270    26.963518   \n",
       "6   [[1563488988.8777807, 1563488998.8777807]]         214    21.371084   \n",
       "7   [[1563488988.8777807, 1563488998.8777807]]         274    27.362977   \n",
       "8   [[1563488988.8777807, 1563488998.8777807]]         272    27.163247   \n",
       "9   [[1563488988.8777807, 1563488998.8777807]]         414    41.344060   \n",
       "10  [[1563488988.8777807, 1563488998.8777807]]         244    24.367031   \n",
       "11  [[1563488988.8777807, 1563488998.8777807]]         232    23.168652   \n",
       "12  [[1563488988.8777807, 1563488998.8777807]]         249    24.866355   \n",
       "13  [[1563488988.8777807, 1563488998.8777807]]         124    12.383245   \n",
       "14  [[1563488988.8777807, 1563488998.8777807]]         161    16.078246   \n",
       "15  [[1563488988.8777807, 1563488998.8777807]]         366    36.550546   \n",
       "16  [[1563488988.8777807, 1563488998.8777807]]         263    26.264464   \n",
       "17  [[1563488988.8777807, 1563488998.8777807]]         639    63.813658   \n",
       "18  [[1563488988.8777807, 1563488998.8777807]]         133    13.282029   \n",
       "19  [[1563488988.8777807, 1563488998.8777807]]         145    14.480408   \n",
       "20  [[1563488988.8777807, 1563488998.8777807]]          18     1.797568   \n",
       "21  [[1563488988.8777807, 1563488998.8777807]]         327    32.655816   \n",
       "22  [[1563488988.8777807, 1563488998.8777807]]         244    24.367031   \n",
       "23  [[1563488988.8777807, 1563488998.8777807]]         412    41.144331   \n",
       "24  [[1563488988.8777807, 1563488998.8777807]]         201    20.072841   \n",
       "25  [[1563488988.8777807, 1563488998.8777807]]         456    45.538385   \n",
       "26  [[1563488988.8777807, 1563488998.8777807]]         199    19.873111   \n",
       "27  [[1563488988.8777807, 1563488998.8777807]]         827    82.588256   \n",
       "\n",
       "    isi_violation  nn_hit_rate  \n",
       "id                              \n",
       "1        0.429112     0.388889  \n",
       "2        0.378016     0.256554  \n",
       "3        0.575373     0.323741  \n",
       "4        0.196383     0.252252  \n",
       "5        0.230859     0.329949  \n",
       "6        0.367492     0.257246  \n",
       "7        0.403503     0.181572  \n",
       "8        0.318468     0.436275  \n",
       "9        0.314213     0.196429  \n",
       "10       1.385133     0.217125  \n",
       "11       0.406483     0.142395  \n",
       "12       2.062957     0.318452  \n",
       "13       0.875632     0.114583  \n",
       "14       0.194780     0.079365  \n",
       "15       0.351780     0.184524  \n",
       "16       0.389299     0.142361  \n",
       "17       0.354464     0.219753  \n",
       "18       0.951419     0.077295  \n",
       "19       0.160092     0.071038  \n",
       "20       0.000000     0.000000  \n",
       "21       0.330521     0.140590  \n",
       "22       0.395752     0.209040  \n",
       "23       0.297442     0.341223  \n",
       "24       0.208283     0.221154  \n",
       "25       0.250904     0.237838  \n",
       "26       0.467479     0.157658  \n",
       "27       0.282984     0.451119  "
      ]
     },
     "execution_count": 7,
     "metadata": {},
     "output_type": "execute_result"
    }
   ],
   "source": [
    "sorting = (nd.common.SpikeSorting & {'nwb_file_name' : nwb_file_name, 'sort_group_id' : sort_group_id}).fetch()\n",
    "key = {'nwb_file_name' : nwb_file_name, 'sort_group_id' : sort_group_id}\n",
    "units = (nd.common.SpikeSorting & key).fetch_nwb()[0]['units'].to_dataframe()\n",
    "units\n"
   ]
  },
  {
   "cell_type": "code",
   "execution_count": 15,
   "metadata": {},
   "outputs": [
    {
     "name": "stdout",
     "output_type": "stream",
     "text": [
      "About to delete:\n",
      "`common_lab`.`__nwbfile_kachery`: 1 items\n",
      "`common_spikesorting`.`__spike_sorting`: 1 items\n",
      "`file_lock`.`analysis_nwbfile_lock`: 1 items\n",
      "`common_lab`.`analysis_nwbfile`: 1 items\n",
      "`common_ephys`.`l_f_p_selection__l_f_p_electrode`: 16 items\n",
      "`common_spikesorting`.`sort_group__sort_group_electrode`: 256 items\n",
      "`common_ephys`.`_electrode`: 256 items\n",
      "`common_ephys`.`_electrode_group`: 2 items\n",
      "`common_ephys`.`l_f_p_selection`: 1 items\n",
      "`common_behav`.`_raw_position`: 1 items\n",
      "`common_dio`.`_d_i_o_events`: 19 items\n",
      "`common_ephys`.`_raw`: 1 items\n",
      "`common_sensors`.`_sensor_data`: 1 items\n",
      "`common_spikesorting`.`spike_sorting_parameters`: 1 items\n",
      "`common_behav`.`_state_script_file`: 1 items\n",
      "`common_behav`.`_video_file`: 4 items\n",
      "`common_task`.`_task_epoch`: 4 items\n",
      "`common_interval`.`interval_list`: 9 items\n",
      "`common_interval`.`sort_interval`: 1 items\n",
      "`common_session`.`_experimenter_list__experimenter`: 1 items\n",
      "`common_session`.`_experimenter_list`: 1 items\n",
      "`common_spikesorting`.`sort_group`: 8 items\n",
      "`common_session`.`_session`: 1 items\n",
      "`file_lock`.`nwbfile_lock`: 1 items\n",
      "`common_lab`.`nwbfile`: 1 items\n"
     ]
    },
    {
     "name": "stdin",
     "output_type": "stream",
     "text": [
      "Proceed? [yes, No]:  yes\n"
     ]
    },
    {
     "name": "stdout",
     "output_type": "stream",
     "text": [
      "Committed.\n"
     ]
    }
   ],
   "source": [
    "nd.common.Nwbfile().delete()"
   ]
  },
  {
   "cell_type": "code",
   "execution_count": 18,
   "metadata": {},
   "outputs": [
    {
     "name": "stderr",
     "output_type": "stream",
     "text": [
      "[autoreload of nwb_datajoint.common.common_spikesorting failed: Traceback (most recent call last):\n",
      "  File \"/Users/loren/opt/anaconda3/envs/nwb_datajoint/lib/python3.8/site-packages/IPython/extensions/autoreload.py\", line 245, in check\n",
      "    superreload(m, reload, self.old_objects)\n",
      "  File \"/Users/loren/opt/anaconda3/envs/nwb_datajoint/lib/python3.8/site-packages/IPython/extensions/autoreload.py\", line 410, in superreload\n",
      "    update_generic(old_obj, new_obj)\n",
      "  File \"/Users/loren/opt/anaconda3/envs/nwb_datajoint/lib/python3.8/site-packages/IPython/extensions/autoreload.py\", line 347, in update_generic\n",
      "    update(a, b)\n",
      "  File \"/Users/loren/opt/anaconda3/envs/nwb_datajoint/lib/python3.8/site-packages/IPython/extensions/autoreload.py\", line 302, in update_class\n",
      "    if update_generic(old_obj, new_obj): continue\n",
      "  File \"/Users/loren/opt/anaconda3/envs/nwb_datajoint/lib/python3.8/site-packages/IPython/extensions/autoreload.py\", line 347, in update_generic\n",
      "    update(a, b)\n",
      "  File \"/Users/loren/opt/anaconda3/envs/nwb_datajoint/lib/python3.8/site-packages/IPython/extensions/autoreload.py\", line 302, in update_class\n",
      "    if update_generic(old_obj, new_obj): continue\n",
      "  File \"/Users/loren/opt/anaconda3/envs/nwb_datajoint/lib/python3.8/site-packages/IPython/extensions/autoreload.py\", line 347, in update_generic\n",
      "    update(a, b)\n",
      "  File \"/Users/loren/opt/anaconda3/envs/nwb_datajoint/lib/python3.8/site-packages/IPython/extensions/autoreload.py\", line 302, in update_class\n",
      "    if update_generic(old_obj, new_obj): continue\n",
      "  File \"/Users/loren/opt/anaconda3/envs/nwb_datajoint/lib/python3.8/site-packages/IPython/extensions/autoreload.py\", line 347, in update_generic\n",
      "    update(a, b)\n",
      "  File \"/Users/loren/opt/anaconda3/envs/nwb_datajoint/lib/python3.8/site-packages/IPython/extensions/autoreload.py\", line 302, in update_class\n",
      "    if update_generic(old_obj, new_obj): continue\n",
      "RecursionError: maximum recursion depth exceeded while calling a Python object\n",
      "]\n"
     ]
    },
    {
     "data": {
      "text/plain": [
       "['num_spikes',\n",
       " 'firing_rate',\n",
       " 'presence_ratio',\n",
       " 'isi_violation',\n",
       " 'amplitude_cutoff',\n",
       " 'snr',\n",
       " 'max_drift',\n",
       " 'cumulative_drift',\n",
       " 'silhouette_score',\n",
       " 'isolation_distance',\n",
       " 'l_ratio',\n",
       " 'd_prime',\n",
       " 'nn_hit_rate',\n",
       " 'nn_miss_rate']"
      ]
     },
     "execution_count": 18,
     "metadata": {},
     "output_type": "execute_result"
    }
   ],
   "source": [
    "st.validation.get_quality_metrics_list()"
   ]
  },
  {
   "cell_type": "code",
   "execution_count": null,
   "metadata": {},
   "outputs": [],
   "source": []
  }
 ],
 "metadata": {
  "kernelspec": {
   "display_name": "Python [conda env:nwb_datajoint] *",
   "language": "python",
   "name": "conda-env-nwb_datajoint-py"
  },
  "language_info": {
   "codemirror_mode": {
    "name": "ipython",
    "version": 3
   },
   "file_extension": ".py",
   "mimetype": "text/x-python",
   "name": "python",
   "nbconvert_exporter": "python",
   "pygments_lexer": "ipython3",
   "version": "3.8.0"
  }
 },
 "nbformat": 4,
 "nbformat_minor": 4
}
