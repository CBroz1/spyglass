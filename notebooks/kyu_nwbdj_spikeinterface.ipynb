{
 "cells": [
  {
   "cell_type": "markdown",
   "metadata": {},
   "source": [
    "## Spike sorting in Datajoint framework"
   ]
  },
  {
   "cell_type": "markdown",
   "metadata": {},
   "source": [
    "In this notebook, we will run spike sorting on a recording stored in our Datajoint schema. You must first have imported 'beans20190718-trim_.nwb' file to Datajoint."
   ]
  },
  {
   "cell_type": "code",
   "execution_count": 1,
   "metadata": {},
   "outputs": [
    {
     "name": "stdout",
     "output_type": "stream",
     "text": [
      "Connecting kyu@lmf-db.cin.ucsf.edu:3306\n"
     ]
    }
   ],
   "source": [
    "%load_ext autoreload\n",
    "%autoreload 2\n",
    "\n",
    "from pathlib import Path\n",
    "import numpy as np\n",
    "import pynwb\n",
    "import os\n",
    "\n",
    "import datajoint as dj\n",
    "import nwb_datajoint as nd\n",
    "from ndx_franklab_novela import Probe\n",
    "\n",
    "import spiketoolkit as st\n",
    "\n",
    "import warnings\n",
    "warnings.simplefilter('ignore')\n",
    "\n",
    "data_dir = Path('/stelmo/nwb') # CHANGE ME TO THE BASE DIRECTORY FOR DATA STORAGE ON YOUR SYSTEM\n",
    "\n",
    "os.environ['NWB_DATAJOINT_BASE_DIR'] = str(data_dir)\n",
    "os.environ['KACHERY_STORAGE_DIR'] = str(data_dir / 'kachery-storage')\n",
    "os.environ['SPIKE_SORTING_STORAGE_DIR'] = str(data_dir / 'spikesorting')"
   ]
  },
  {
   "cell_type": "markdown",
   "metadata": {},
   "source": [
    "### Set the NWB file name"
   ]
  },
  {
   "cell_type": "code",
   "execution_count": 2,
   "metadata": {
    "scrolled": true
   },
   "outputs": [
    {
     "data": {
      "text/html": [
       "\n",
       "        \n",
       "        <style type=\"text/css\">\n",
       "            .Relation{\n",
       "                border-collapse:collapse;\n",
       "            }\n",
       "            .Relation th{\n",
       "                background: #A0A0A0; color: #ffffff; padding:4px; border:#f0e0e0 1px solid;\n",
       "                font-weight: normal; font-family: monospace; font-size: 100%;\n",
       "            }\n",
       "            .Relation td{\n",
       "                padding:4px; border:#f0e0e0 1px solid; font-size:100%;\n",
       "            }\n",
       "            .Relation tr:nth-child(odd){\n",
       "                background: #ffffff;\n",
       "            }\n",
       "            .Relation tr:nth-child(even){\n",
       "                background: #f3f1ff;\n",
       "            }\n",
       "            /* Tooltip container */\n",
       "            .djtooltip {\n",
       "            }\n",
       "            /* Tooltip text */\n",
       "            .djtooltip .djtooltiptext {\n",
       "                visibility: hidden;\n",
       "                width: 120px;\n",
       "                background-color: black;\n",
       "                color: #fff;\n",
       "                text-align: center;\n",
       "                padding: 5px 0;\n",
       "                border-radius: 6px;\n",
       "                /* Position the tooltip text - see examples below! */\n",
       "                position: absolute;\n",
       "                z-index: 1;\n",
       "            }\n",
       "            #primary {\n",
       "                font-weight: bold;\n",
       "                color: black;\n",
       "            }\n",
       "\n",
       "            #nonprimary {\n",
       "                font-weight: normal;\n",
       "                color: white;\n",
       "            }\n",
       "\n",
       "            /* Show the tooltip text when you mouse over the tooltip container */\n",
       "            .djtooltip:hover .djtooltiptext {\n",
       "                visibility: visible;\n",
       "            }\n",
       "        </style>\n",
       "        \n",
       "        <b></b>\n",
       "            <div style=\"max-height:1000px;max-width:1500px;overflow:auto;\">\n",
       "            <table border=\"1\" class=\"Relation\">\n",
       "                <thead> <tr style=\"text-align: right;\"> <th> <div class=\"djtooltip\">\n",
       "                                <p id=\"primary\">nwb_file_name</p>\n",
       "                                <span class=\"djtooltiptext\">the name of the NWB file</span>\n",
       "                            </div></th><th><div class=\"djtooltip\">\n",
       "                                <p id=\"nonprimary\">subject_id</p>\n",
       "                                <span class=\"djtooltiptext\"></span>\n",
       "                            </div></th><th><div class=\"djtooltip\">\n",
       "                                <p id=\"nonprimary\">institution_name</p>\n",
       "                                <span class=\"djtooltiptext\"></span>\n",
       "                            </div></th><th><div class=\"djtooltip\">\n",
       "                                <p id=\"nonprimary\">lab_name</p>\n",
       "                                <span class=\"djtooltiptext\"></span>\n",
       "                            </div></th><th><div class=\"djtooltip\">\n",
       "                                <p id=\"nonprimary\">session_id</p>\n",
       "                                <span class=\"djtooltiptext\"></span>\n",
       "                            </div></th><th><div class=\"djtooltip\">\n",
       "                                <p id=\"nonprimary\">session_description</p>\n",
       "                                <span class=\"djtooltiptext\"></span>\n",
       "                            </div></th><th><div class=\"djtooltip\">\n",
       "                                <p id=\"nonprimary\">session_start_time</p>\n",
       "                                <span class=\"djtooltiptext\"></span>\n",
       "                            </div></th><th><div class=\"djtooltip\">\n",
       "                                <p id=\"nonprimary\">timestamps_reference_time</p>\n",
       "                                <span class=\"djtooltiptext\"></span>\n",
       "                            </div></th><th><div class=\"djtooltip\">\n",
       "                                <p id=\"nonprimary\">experiment_description</p>\n",
       "                                <span class=\"djtooltiptext\"></span>\n",
       "                            </div> </th> </tr> </thead>\n",
       "                <tbody> <tr> <td>beans20190718-trim_.nwb</td>\n",
       "<td>Beans</td>\n",
       "<td>University of California, San Francisco</td>\n",
       "<td>Loren Frank</td>\n",
       "<td>beans_01</td>\n",
       "<td>Reinforcement leaarning</td>\n",
       "<td>2019-07-18 15:29:47</td>\n",
       "<td>1970-01-01 00:00:00</td>\n",
       "<td>Reinforcement learning</td></tr><tr><td>beans20190718_.nwb</td>\n",
       "<td>Beans</td>\n",
       "<td>University of California, San Francisco</td>\n",
       "<td>Loren Frank</td>\n",
       "<td>beans_01</td>\n",
       "<td>Reinforcement leaarning</td>\n",
       "<td>2019-07-18 15:29:47</td>\n",
       "<td>1970-01-01 00:00:00</td>\n",
       "<td>Reinforcement learning</td></tr><tr><td>despereaux20191125_.nwb</td>\n",
       "<td>Despereaux</td>\n",
       "<td>University of California, San Francisco</td>\n",
       "<td>Loren Frank</td>\n",
       "<td>4</td>\n",
       "<td>Sungod</td>\n",
       "<td>2019-11-25 10:17:29</td>\n",
       "<td>1970-01-01 00:00:00</td>\n",
       "<td>Sungod control</td></tr><tr><td>Jaq20190826_.nwb</td>\n",
       "<td>Jaq</td>\n",
       "<td>University of California, San Francisco</td>\n",
       "<td>Loren Frank</td>\n",
       "<td>jaq_01</td>\n",
       "<td>Theta and gait</td>\n",
       "<td>2019-08-26 16:53:47</td>\n",
       "<td>1970-01-01 00:00:00</td>\n",
       "<td>Theta and gait</td> </tr> </tbody>\n",
       "            </table>\n",
       "            \n",
       "            <p>Total: 4</p></div>\n",
       "            "
      ],
      "text/plain": [
       "*nwb_file_name subject_id     institution_na lab_name       session_id     session_descri session_start_ timestamps_ref experiment_des\n",
       "+------------+ +------------+ +------------+ +------------+ +------------+ +------------+ +------------+ +------------+ +------------+\n",
       "beans20190718- Beans          University of  Loren Frank    beans_01       Reinforcement  2019-07-18 15: 1970-01-01 00: Reinforcement \n",
       "beans20190718_ Beans          University of  Loren Frank    beans_01       Reinforcement  2019-07-18 15: 1970-01-01 00: Reinforcement \n",
       "despereaux2019 Despereaux     University of  Loren Frank    4              Sungod         2019-11-25 10: 1970-01-01 00: Sungod control\n",
       "Jaq20190826_.n Jaq            University of  Loren Frank    jaq_01         Theta and gait 2019-08-26 16: 1970-01-01 00: Theta and gait\n",
       " (Total: 4)"
      ]
     },
     "execution_count": 2,
     "metadata": {},
     "output_type": "execute_result"
    }
   ],
   "source": [
    "nd.common.Session()"
   ]
  },
  {
   "cell_type": "markdown",
   "metadata": {},
   "source": [
    "We will first get the name of our nwb file. To do so, we will find the row corresponding to our session ID (beans_01) in the Sessions table and get the nwb filename from that row.\n",
    "\n",
    "- __in this case there are two nwb files that have the same session name__"
   ]
  },
  {
   "cell_type": "code",
   "execution_count": 3,
   "metadata": {},
   "outputs": [],
   "source": [
    "# nwb_file_name = (nd.common.Session() & {'session_id': 'beans_01'}).fetch1('nwb_file_name')\n",
    "nwb_file_name = 'Jaq20190826_.nwb'"
   ]
  },
  {
   "cell_type": "code",
   "execution_count": 4,
   "metadata": {},
   "outputs": [
    {
     "data": {
      "text/html": [
       "\n",
       "        \n",
       "        <style type=\"text/css\">\n",
       "            .Relation{\n",
       "                border-collapse:collapse;\n",
       "            }\n",
       "            .Relation th{\n",
       "                background: #A0A0A0; color: #ffffff; padding:4px; border:#f0e0e0 1px solid;\n",
       "                font-weight: normal; font-family: monospace; font-size: 100%;\n",
       "            }\n",
       "            .Relation td{\n",
       "                padding:4px; border:#f0e0e0 1px solid; font-size:100%;\n",
       "            }\n",
       "            .Relation tr:nth-child(odd){\n",
       "                background: #ffffff;\n",
       "            }\n",
       "            .Relation tr:nth-child(even){\n",
       "                background: #f3f1ff;\n",
       "            }\n",
       "            /* Tooltip container */\n",
       "            .djtooltip {\n",
       "            }\n",
       "            /* Tooltip text */\n",
       "            .djtooltip .djtooltiptext {\n",
       "                visibility: hidden;\n",
       "                width: 120px;\n",
       "                background-color: black;\n",
       "                color: #fff;\n",
       "                text-align: center;\n",
       "                padding: 5px 0;\n",
       "                border-radius: 6px;\n",
       "                /* Position the tooltip text - see examples below! */\n",
       "                position: absolute;\n",
       "                z-index: 1;\n",
       "            }\n",
       "            #primary {\n",
       "                font-weight: bold;\n",
       "                color: black;\n",
       "            }\n",
       "\n",
       "            #nonprimary {\n",
       "                font-weight: normal;\n",
       "                color: white;\n",
       "            }\n",
       "\n",
       "            /* Show the tooltip text when you mouse over the tooltip container */\n",
       "            .djtooltip:hover .djtooltiptext {\n",
       "                visibility: visible;\n",
       "            }\n",
       "        </style>\n",
       "        \n",
       "        <b></b>\n",
       "            <div style=\"max-height:1000px;max-width:1500px;overflow:auto;\">\n",
       "            <table border=\"1\" class=\"Relation\">\n",
       "                <thead> <tr style=\"text-align: right;\"> <th> <div class=\"djtooltip\">\n",
       "                                <p id=\"primary\">nwb_file_name</p>\n",
       "                                <span class=\"djtooltiptext\">the name of the NWB file</span>\n",
       "                            </div></th><th><div class=\"djtooltip\">\n",
       "                                <p id=\"primary\">sort_group_id</p>\n",
       "                                <span class=\"djtooltiptext\">identifier for a group of electrodes</span>\n",
       "                            </div></th><th><div class=\"djtooltip\">\n",
       "                                <p id=\"nonprimary\">sort_reference_electrode_id</p>\n",
       "                                <span class=\"djtooltiptext\">the electrode to use for reference. -1: no reference, -2: common median</span>\n",
       "                            </div> </th> </tr> </thead>\n",
       "                <tbody> <tr> <td>Jaq20190826_.nwb</td>\n",
       "<td>0</td>\n",
       "<td>-1</td></tr><tr><td>Jaq20190826_.nwb</td>\n",
       "<td>1</td>\n",
       "<td>-1</td></tr><tr><td>Jaq20190826_.nwb</td>\n",
       "<td>2</td>\n",
       "<td>-1</td></tr><tr><td>Jaq20190826_.nwb</td>\n",
       "<td>3</td>\n",
       "<td>-1</td></tr><tr><td>Jaq20190826_.nwb</td>\n",
       "<td>4</td>\n",
       "<td>-1</td></tr><tr><td>Jaq20190826_.nwb</td>\n",
       "<td>5</td>\n",
       "<td>-1</td></tr><tr><td>Jaq20190826_.nwb</td>\n",
       "<td>6</td>\n",
       "<td>-1</td></tr><tr><td>Jaq20190826_.nwb</td>\n",
       "<td>7</td>\n",
       "<td>-1</td></tr><tr><td>Jaq20190826_.nwb</td>\n",
       "<td>8</td>\n",
       "<td>-1</td></tr><tr><td>Jaq20190826_.nwb</td>\n",
       "<td>9</td>\n",
       "<td>-1</td></tr><tr><td>Jaq20190826_.nwb</td>\n",
       "<td>10</td>\n",
       "<td>-1</td></tr><tr><td>Jaq20190826_.nwb</td>\n",
       "<td>11</td>\n",
       "<td>-1</td> </tr> </tbody>\n",
       "            </table>\n",
       "            <p>...</p>\n",
       "            <p>Total: 30</p></div>\n",
       "            "
      ],
      "text/plain": [
       "*nwb_file_name *sort_group_id sort_reference\n",
       "+------------+ +------------+ +------------+\n",
       "Jaq20190826_.n 0              -1            \n",
       "Jaq20190826_.n 1              -1            \n",
       "Jaq20190826_.n 2              -1            \n",
       "Jaq20190826_.n 3              -1            \n",
       "Jaq20190826_.n 4              -1            \n",
       "Jaq20190826_.n 5              -1            \n",
       "Jaq20190826_.n 6              -1            \n",
       "Jaq20190826_.n 7              -1            \n",
       "Jaq20190826_.n 8              -1            \n",
       "Jaq20190826_.n 9              -1            \n",
       "Jaq20190826_.n 10             -1            \n",
       "Jaq20190826_.n 11             -1            \n",
       "   ...\n",
       " (Total: 30)"
      ]
     },
     "execution_count": 4,
     "metadata": {},
     "output_type": "execute_result"
    }
   ],
   "source": [
    "nd.common.SortGroup()"
   ]
  },
  {
   "cell_type": "markdown",
   "metadata": {},
   "source": [
    "### Set the sort group\n",
    "\n",
    "Sort group refers to the set of electrodes that will be sorted together (because, for example, they are physically close and would detect signal from the same neuron). In this example, each sort group corresponds to a shank of the implanted neural probe. \n",
    "\n",
    "__Later we will also set electrode group, which is a superset of sort group and in this case refers to the probe.__"
   ]
  },
  {
   "cell_type": "code",
   "execution_count": 5,
   "metadata": {},
   "outputs": [
    {
     "name": "stdout",
     "output_type": "stream",
     "text": [
      "About to delete:\n",
      "`common_spikesorting`.`sort_group__sort_group_electrode`: 120 items\n",
      "`common_spikesorting`.`spike_sorting_parameters`: 1 items\n",
      "`common_spikesorting`.`sort_group`: 30 items\n",
      "Proceed? [yes, No]: yes\n",
      "Committed.\n"
     ]
    },
    {
     "data": {
      "text/html": [
       "\n",
       "        \n",
       "        <style type=\"text/css\">\n",
       "            .Relation{\n",
       "                border-collapse:collapse;\n",
       "            }\n",
       "            .Relation th{\n",
       "                background: #A0A0A0; color: #ffffff; padding:4px; border:#f0e0e0 1px solid;\n",
       "                font-weight: normal; font-family: monospace; font-size: 100%;\n",
       "            }\n",
       "            .Relation td{\n",
       "                padding:4px; border:#f0e0e0 1px solid; font-size:100%;\n",
       "            }\n",
       "            .Relation tr:nth-child(odd){\n",
       "                background: #ffffff;\n",
       "            }\n",
       "            .Relation tr:nth-child(even){\n",
       "                background: #f3f1ff;\n",
       "            }\n",
       "            /* Tooltip container */\n",
       "            .djtooltip {\n",
       "            }\n",
       "            /* Tooltip text */\n",
       "            .djtooltip .djtooltiptext {\n",
       "                visibility: hidden;\n",
       "                width: 120px;\n",
       "                background-color: black;\n",
       "                color: #fff;\n",
       "                text-align: center;\n",
       "                padding: 5px 0;\n",
       "                border-radius: 6px;\n",
       "                /* Position the tooltip text - see examples below! */\n",
       "                position: absolute;\n",
       "                z-index: 1;\n",
       "            }\n",
       "            #primary {\n",
       "                font-weight: bold;\n",
       "                color: black;\n",
       "            }\n",
       "\n",
       "            #nonprimary {\n",
       "                font-weight: normal;\n",
       "                color: white;\n",
       "            }\n",
       "\n",
       "            /* Show the tooltip text when you mouse over the tooltip container */\n",
       "            .djtooltip:hover .djtooltiptext {\n",
       "                visibility: visible;\n",
       "            }\n",
       "        </style>\n",
       "        \n",
       "        <b></b>\n",
       "            <div style=\"max-height:1000px;max-width:1500px;overflow:auto;\">\n",
       "            <table border=\"1\" class=\"Relation\">\n",
       "                <thead> <tr style=\"text-align: right;\"> <th> <div class=\"djtooltip\">\n",
       "                                <p id=\"primary\">nwb_file_name</p>\n",
       "                                <span class=\"djtooltiptext\">the name of the NWB file</span>\n",
       "                            </div></th><th><div class=\"djtooltip\">\n",
       "                                <p id=\"primary\">sort_group_id</p>\n",
       "                                <span class=\"djtooltiptext\">identifier for a group of electrodes</span>\n",
       "                            </div></th><th><div class=\"djtooltip\">\n",
       "                                <p id=\"nonprimary\">sort_reference_electrode_id</p>\n",
       "                                <span class=\"djtooltiptext\">the electrode to use for reference. -1: no reference, -2: common median</span>\n",
       "                            </div> </th> </tr> </thead>\n",
       "                <tbody> <tr> <td>Jaq20190826_.nwb</td>\n",
       "<td>0</td>\n",
       "<td>-1</td></tr><tr><td>Jaq20190826_.nwb</td>\n",
       "<td>1</td>\n",
       "<td>-1</td></tr><tr><td>Jaq20190826_.nwb</td>\n",
       "<td>2</td>\n",
       "<td>-1</td></tr><tr><td>Jaq20190826_.nwb</td>\n",
       "<td>3</td>\n",
       "<td>-1</td></tr><tr><td>Jaq20190826_.nwb</td>\n",
       "<td>4</td>\n",
       "<td>-1</td></tr><tr><td>Jaq20190826_.nwb</td>\n",
       "<td>5</td>\n",
       "<td>-1</td></tr><tr><td>Jaq20190826_.nwb</td>\n",
       "<td>6</td>\n",
       "<td>-1</td></tr><tr><td>Jaq20190826_.nwb</td>\n",
       "<td>7</td>\n",
       "<td>-1</td></tr><tr><td>Jaq20190826_.nwb</td>\n",
       "<td>8</td>\n",
       "<td>-1</td></tr><tr><td>Jaq20190826_.nwb</td>\n",
       "<td>9</td>\n",
       "<td>-1</td></tr><tr><td>Jaq20190826_.nwb</td>\n",
       "<td>10</td>\n",
       "<td>-1</td></tr><tr><td>Jaq20190826_.nwb</td>\n",
       "<td>11</td>\n",
       "<td>-1</td> </tr> </tbody>\n",
       "            </table>\n",
       "            <p>...</p>\n",
       "            <p>Total: 30</p></div>\n",
       "            "
      ],
      "text/plain": [
       "*nwb_file_name *sort_group_id sort_reference\n",
       "+------------+ +------------+ +------------+\n",
       "Jaq20190826_.n 0              -1            \n",
       "Jaq20190826_.n 1              -1            \n",
       "Jaq20190826_.n 2              -1            \n",
       "Jaq20190826_.n 3              -1            \n",
       "Jaq20190826_.n 4              -1            \n",
       "Jaq20190826_.n 5              -1            \n",
       "Jaq20190826_.n 6              -1            \n",
       "Jaq20190826_.n 7              -1            \n",
       "Jaq20190826_.n 8              -1            \n",
       "Jaq20190826_.n 9              -1            \n",
       "Jaq20190826_.n 10             -1            \n",
       "Jaq20190826_.n 11             -1            \n",
       "   ...\n",
       " (Total: 30)"
      ]
     },
     "execution_count": 5,
     "metadata": {},
     "output_type": "execute_result"
    }
   ],
   "source": [
    "nd.common.SortGroup().set_group_by_shank(nwb_file_name)\n",
    "nd.common.SortGroup()"
   ]
  },
  {
   "cell_type": "markdown",
   "metadata": {},
   "source": [
    "Optional: Display all of the electrodes with their sort groups"
   ]
  },
  {
   "cell_type": "code",
   "execution_count": 6,
   "metadata": {},
   "outputs": [
    {
     "data": {
      "text/html": [
       "\n",
       "        \n",
       "        <style type=\"text/css\">\n",
       "            .Relation{\n",
       "                border-collapse:collapse;\n",
       "            }\n",
       "            .Relation th{\n",
       "                background: #A0A0A0; color: #ffffff; padding:4px; border:#f0e0e0 1px solid;\n",
       "                font-weight: normal; font-family: monospace; font-size: 100%;\n",
       "            }\n",
       "            .Relation td{\n",
       "                padding:4px; border:#f0e0e0 1px solid; font-size:100%;\n",
       "            }\n",
       "            .Relation tr:nth-child(odd){\n",
       "                background: #ffffff;\n",
       "            }\n",
       "            .Relation tr:nth-child(even){\n",
       "                background: #f3f1ff;\n",
       "            }\n",
       "            /* Tooltip container */\n",
       "            .djtooltip {\n",
       "            }\n",
       "            /* Tooltip text */\n",
       "            .djtooltip .djtooltiptext {\n",
       "                visibility: hidden;\n",
       "                width: 120px;\n",
       "                background-color: black;\n",
       "                color: #fff;\n",
       "                text-align: center;\n",
       "                padding: 5px 0;\n",
       "                border-radius: 6px;\n",
       "                /* Position the tooltip text - see examples below! */\n",
       "                position: absolute;\n",
       "                z-index: 1;\n",
       "            }\n",
       "            #primary {\n",
       "                font-weight: bold;\n",
       "                color: black;\n",
       "            }\n",
       "\n",
       "            #nonprimary {\n",
       "                font-weight: normal;\n",
       "                color: white;\n",
       "            }\n",
       "\n",
       "            /* Show the tooltip text when you mouse over the tooltip container */\n",
       "            .djtooltip:hover .djtooltiptext {\n",
       "                visibility: visible;\n",
       "            }\n",
       "        </style>\n",
       "        \n",
       "        <b></b>\n",
       "            <div style=\"max-height:1000px;max-width:1500px;overflow:auto;\">\n",
       "            <table border=\"1\" class=\"Relation\">\n",
       "                <thead> <tr style=\"text-align: right;\"> <th> <div class=\"djtooltip\">\n",
       "                                <p id=\"primary\">nwb_file_name</p>\n",
       "                                <span class=\"djtooltiptext\">the name of the NWB file</span>\n",
       "                            </div></th><th><div class=\"djtooltip\">\n",
       "                                <p id=\"primary\">sort_group_id</p>\n",
       "                                <span class=\"djtooltiptext\">identifier for a group of electrodes</span>\n",
       "                            </div></th><th><div class=\"djtooltip\">\n",
       "                                <p id=\"primary\">electrode_group_name</p>\n",
       "                                <span class=\"djtooltiptext\">electrode group name from NWBFile</span>\n",
       "                            </div></th><th><div class=\"djtooltip\">\n",
       "                                <p id=\"primary\">electrode_id</p>\n",
       "                                <span class=\"djtooltiptext\">the unique number for this electrode</span>\n",
       "                            </div> </th> </tr> </thead>\n",
       "                <tbody> <tr> <td>Jaq20190826_.nwb</td>\n",
       "<td>0</td>\n",
       "<td>0</td>\n",
       "<td>0</td></tr><tr><td>Jaq20190826_.nwb</td>\n",
       "<td>0</td>\n",
       "<td>0</td>\n",
       "<td>1</td></tr><tr><td>Jaq20190826_.nwb</td>\n",
       "<td>0</td>\n",
       "<td>0</td>\n",
       "<td>2</td></tr><tr><td>Jaq20190826_.nwb</td>\n",
       "<td>0</td>\n",
       "<td>0</td>\n",
       "<td>3</td></tr><tr><td>Jaq20190826_.nwb</td>\n",
       "<td>1</td>\n",
       "<td>1</td>\n",
       "<td>4</td></tr><tr><td>Jaq20190826_.nwb</td>\n",
       "<td>1</td>\n",
       "<td>1</td>\n",
       "<td>5</td></tr><tr><td>Jaq20190826_.nwb</td>\n",
       "<td>1</td>\n",
       "<td>1</td>\n",
       "<td>6</td></tr><tr><td>Jaq20190826_.nwb</td>\n",
       "<td>1</td>\n",
       "<td>1</td>\n",
       "<td>7</td></tr><tr><td>Jaq20190826_.nwb</td>\n",
       "<td>2</td>\n",
       "<td>10</td>\n",
       "<td>40</td></tr><tr><td>Jaq20190826_.nwb</td>\n",
       "<td>2</td>\n",
       "<td>10</td>\n",
       "<td>41</td></tr><tr><td>Jaq20190826_.nwb</td>\n",
       "<td>2</td>\n",
       "<td>10</td>\n",
       "<td>42</td></tr><tr><td>Jaq20190826_.nwb</td>\n",
       "<td>2</td>\n",
       "<td>10</td>\n",
       "<td>43</td> </tr> </tbody>\n",
       "            </table>\n",
       "            <p>...</p>\n",
       "            <p>Total: 120</p></div>\n",
       "            "
      ],
      "text/plain": [
       "*nwb_file_name *sort_group_id *electrode_gro *electrode_id \n",
       "+------------+ +------------+ +------------+ +------------+\n",
       "Jaq20190826_.n 0              0              0             \n",
       "Jaq20190826_.n 0              0              1             \n",
       "Jaq20190826_.n 0              0              2             \n",
       "Jaq20190826_.n 0              0              3             \n",
       "Jaq20190826_.n 1              1              4             \n",
       "Jaq20190826_.n 1              1              5             \n",
       "Jaq20190826_.n 1              1              6             \n",
       "Jaq20190826_.n 1              1              7             \n",
       "Jaq20190826_.n 2              10             40            \n",
       "Jaq20190826_.n 2              10             41            \n",
       "Jaq20190826_.n 2              10             42            \n",
       "Jaq20190826_.n 2              10             43            \n",
       "   ...\n",
       " (Total: 120)"
      ]
     },
     "execution_count": 6,
     "metadata": {},
     "output_type": "execute_result"
    }
   ],
   "source": [
    "nd.common.SortGroup.SortGroupElectrode()"
   ]
  },
  {
   "cell_type": "markdown",
   "metadata": {},
   "source": [
    "### Create the spike sorter and parameter lists \n",
    "\n",
    "The next step is to load a spike sorter from spikeinterface, which is a python wrapper of ten spike sorters that are popular. We have to also set the parameter for the sorter we want."
   ]
  },
  {
   "cell_type": "code",
   "execution_count": 7,
   "metadata": {},
   "outputs": [],
   "source": [
    "nd.common.SpikeSorter().insert_from_spikeinterface()\n",
    "nd.common.SpikeSorterParameters().insert_from_spikeinterface()"
   ]
  },
  {
   "cell_type": "code",
   "execution_count": 8,
   "metadata": {},
   "outputs": [
    {
     "data": {
      "text/html": [
       "\n",
       "        \n",
       "        <style type=\"text/css\">\n",
       "            .Relation{\n",
       "                border-collapse:collapse;\n",
       "            }\n",
       "            .Relation th{\n",
       "                background: #A0A0A0; color: #ffffff; padding:4px; border:#f0e0e0 1px solid;\n",
       "                font-weight: normal; font-family: monospace; font-size: 100%;\n",
       "            }\n",
       "            .Relation td{\n",
       "                padding:4px; border:#f0e0e0 1px solid; font-size:100%;\n",
       "            }\n",
       "            .Relation tr:nth-child(odd){\n",
       "                background: #ffffff;\n",
       "            }\n",
       "            .Relation tr:nth-child(even){\n",
       "                background: #f3f1ff;\n",
       "            }\n",
       "            /* Tooltip container */\n",
       "            .djtooltip {\n",
       "            }\n",
       "            /* Tooltip text */\n",
       "            .djtooltip .djtooltiptext {\n",
       "                visibility: hidden;\n",
       "                width: 120px;\n",
       "                background-color: black;\n",
       "                color: #fff;\n",
       "                text-align: center;\n",
       "                padding: 5px 0;\n",
       "                border-radius: 6px;\n",
       "                /* Position the tooltip text - see examples below! */\n",
       "                position: absolute;\n",
       "                z-index: 1;\n",
       "            }\n",
       "            #primary {\n",
       "                font-weight: bold;\n",
       "                color: black;\n",
       "            }\n",
       "\n",
       "            #nonprimary {\n",
       "                font-weight: normal;\n",
       "                color: white;\n",
       "            }\n",
       "\n",
       "            /* Show the tooltip text when you mouse over the tooltip container */\n",
       "            .djtooltip:hover .djtooltiptext {\n",
       "                visibility: visible;\n",
       "            }\n",
       "        </style>\n",
       "        \n",
       "        <b></b>\n",
       "            <div style=\"max-height:1000px;max-width:1500px;overflow:auto;\">\n",
       "            <table border=\"1\" class=\"Relation\">\n",
       "                <thead> <tr style=\"text-align: right;\"> <th> <div class=\"djtooltip\">\n",
       "                                <p id=\"primary\">sorter_name</p>\n",
       "                                <span class=\"djtooltiptext\">the name of the spike sorting algorithm</span>\n",
       "                            </div> </th> </tr> </thead>\n",
       "                <tbody> <tr> <td>hdsort</td></tr><tr><td>herdingspikes</td></tr><tr><td>ironclust</td></tr><tr><td>kilosort</td></tr><tr><td>kilosort2</td></tr><tr><td>klusta</td></tr><tr><td>mountainsort4</td></tr><tr><td>spykingcircus</td></tr><tr><td>tridesclous</td></tr><tr><td>waveclus</td> </tr> </tbody>\n",
       "            </table>\n",
       "            \n",
       "            <p>Total: 10</p></div>\n",
       "            "
      ],
      "text/plain": [
       "*sorter_name  \n",
       "+------------+\n",
       "hdsort        \n",
       "herdingspikes \n",
       "ironclust     \n",
       "kilosort      \n",
       "kilosort2     \n",
       "klusta        \n",
       "mountainsort4 \n",
       "spykingcircus \n",
       "tridesclous   \n",
       "waveclus      \n",
       " (Total: 10)"
      ]
     },
     "execution_count": 8,
     "metadata": {},
     "output_type": "execute_result"
    }
   ],
   "source": [
    "nd.common.SpikeSorter()"
   ]
  },
  {
   "cell_type": "code",
   "execution_count": 9,
   "metadata": {},
   "outputs": [
    {
     "data": {
      "text/html": [
       "\n",
       "        \n",
       "        <style type=\"text/css\">\n",
       "            .Relation{\n",
       "                border-collapse:collapse;\n",
       "            }\n",
       "            .Relation th{\n",
       "                background: #A0A0A0; color: #ffffff; padding:4px; border:#f0e0e0 1px solid;\n",
       "                font-weight: normal; font-family: monospace; font-size: 100%;\n",
       "            }\n",
       "            .Relation td{\n",
       "                padding:4px; border:#f0e0e0 1px solid; font-size:100%;\n",
       "            }\n",
       "            .Relation tr:nth-child(odd){\n",
       "                background: #ffffff;\n",
       "            }\n",
       "            .Relation tr:nth-child(even){\n",
       "                background: #f3f1ff;\n",
       "            }\n",
       "            /* Tooltip container */\n",
       "            .djtooltip {\n",
       "            }\n",
       "            /* Tooltip text */\n",
       "            .djtooltip .djtooltiptext {\n",
       "                visibility: hidden;\n",
       "                width: 120px;\n",
       "                background-color: black;\n",
       "                color: #fff;\n",
       "                text-align: center;\n",
       "                padding: 5px 0;\n",
       "                border-radius: 6px;\n",
       "                /* Position the tooltip text - see examples below! */\n",
       "                position: absolute;\n",
       "                z-index: 1;\n",
       "            }\n",
       "            #primary {\n",
       "                font-weight: bold;\n",
       "                color: black;\n",
       "            }\n",
       "\n",
       "            #nonprimary {\n",
       "                font-weight: normal;\n",
       "                color: white;\n",
       "            }\n",
       "\n",
       "            /* Show the tooltip text when you mouse over the tooltip container */\n",
       "            .djtooltip:hover .djtooltiptext {\n",
       "                visibility: visible;\n",
       "            }\n",
       "        </style>\n",
       "        \n",
       "        <b></b>\n",
       "            <div style=\"max-height:1000px;max-width:1500px;overflow:auto;\">\n",
       "            <table border=\"1\" class=\"Relation\">\n",
       "                <thead> <tr style=\"text-align: right;\"> <th> <div class=\"djtooltip\">\n",
       "                                <p id=\"primary\">sorter_name</p>\n",
       "                                <span class=\"djtooltiptext\">the name of the spike sorting algorithm</span>\n",
       "                            </div></th><th><div class=\"djtooltip\">\n",
       "                                <p id=\"primary\">parameter_set_name</p>\n",
       "                                <span class=\"djtooltiptext\">label for this set of parameters</span>\n",
       "                            </div></th><th><div class=\"djtooltip\">\n",
       "                                <p id=\"nonprimary\">parameter_dict</p>\n",
       "                                <span class=\"djtooltiptext\">dictionary of parameter names and values</span>\n",
       "                            </div> </th> </tr> </thead>\n",
       "                <tbody> <tr> <td>hdsort</td>\n",
       "<td>default</td>\n",
       "<td>=BLOB=</td></tr><tr><td>herdingspikes</td>\n",
       "<td>default</td>\n",
       "<td>=BLOB=</td></tr><tr><td>ironclust</td>\n",
       "<td>default</td>\n",
       "<td>=BLOB=</td></tr><tr><td>kilosort</td>\n",
       "<td>default</td>\n",
       "<td>=BLOB=</td></tr><tr><td>kilosort2</td>\n",
       "<td>default</td>\n",
       "<td>=BLOB=</td></tr><tr><td>klusta</td>\n",
       "<td>default</td>\n",
       "<td>=BLOB=</td></tr><tr><td>mountainsort4</td>\n",
       "<td>default</td>\n",
       "<td>=BLOB=</td></tr><tr><td>mountainsort4</td>\n",
       "<td>franklab_mountainsort_20KHz</td>\n",
       "<td>=BLOB=</td></tr><tr><td>mountainsort4</td>\n",
       "<td>franklab_mountainsort_30KHz</td>\n",
       "<td>=BLOB=</td></tr><tr><td>spykingcircus</td>\n",
       "<td>default</td>\n",
       "<td>=BLOB=</td></tr><tr><td>tridesclous</td>\n",
       "<td>default</td>\n",
       "<td>=BLOB=</td></tr><tr><td>waveclus</td>\n",
       "<td>default</td>\n",
       "<td>=BLOB=</td> </tr> </tbody>\n",
       "            </table>\n",
       "            \n",
       "            <p>Total: 12</p></div>\n",
       "            "
      ],
      "text/plain": [
       "*sorter_name   *parameter_set parameter_\n",
       "+------------+ +------------+ +--------+\n",
       "hdsort         default        =BLOB=    \n",
       "herdingspikes  default        =BLOB=    \n",
       "ironclust      default        =BLOB=    \n",
       "kilosort       default        =BLOB=    \n",
       "kilosort2      default        =BLOB=    \n",
       "klusta         default        =BLOB=    \n",
       "mountainsort4  default        =BLOB=    \n",
       "mountainsort4  franklab_mount =BLOB=    \n",
       "mountainsort4  franklab_mount =BLOB=    \n",
       "spykingcircus  default        =BLOB=    \n",
       "tridesclous    default        =BLOB=    \n",
       "waveclus       default        =BLOB=    \n",
       " (Total: 12)"
      ]
     },
     "execution_count": 9,
     "metadata": {},
     "output_type": "execute_result"
    }
   ],
   "source": [
    "nd.common.SpikeSorterParameters()"
   ]
  },
  {
   "cell_type": "markdown",
   "metadata": {},
   "source": [
    "### create a 'franklab_mountainsort' parameter set\n",
    "\n",
    "Here we will set the parameters for Mountainsort that would work for data generated in frank lab.\n",
    "If using virga, set num workers to be 32."
   ]
  },
  {
   "cell_type": "code",
   "execution_count": 9,
   "metadata": {},
   "outputs": [
    {
     "data": {
      "text/plain": [
       "{'sorter_name': 'mountainsort4',\n",
       " 'parameter_set_name': 'default',\n",
       " 'parameter_dict': {'detect_sign': -1,\n",
       "  'adjacency_radius': -1,\n",
       "  'freq_min': 300,\n",
       "  'freq_max': 6000,\n",
       "  'filter': True,\n",
       "  'whiten': True,\n",
       "  'curation': False,\n",
       "  'num_workers': None,\n",
       "  'clip_size': 50,\n",
       "  'detect_threshold': 3,\n",
       "  'detect_interval': 10,\n",
       "  'noise_overlap_threshold': 0.15}}"
      ]
     },
     "execution_count": 9,
     "metadata": {},
     "output_type": "execute_result"
    }
   ],
   "source": [
    "p = (nd.common.SpikeSorterParameters() & {'sorter_name': 'mountainsort4', 'parameter_set_name' : 'default'}).fetch1()\n",
    "p"
   ]
  },
  {
   "cell_type": "code",
   "execution_count": 10,
   "metadata": {},
   "outputs": [],
   "source": [
    "param = p['parameter_dict']\n",
    "param['adjacency_radius'] = 100\n",
    "param['curation'] = False\n",
    "param['num_workers'] = 4\n",
    "param['verbose'] = True\n",
    "param['clip_size'] = 50\n",
    "param['noise_overlap_threshold'] = 0\n",
    "\n",
    "nd.common.SpikeSorterParameters().insert1({'sorter_name': 'mountainsort4', 'parameter_set_name' : 'franklab_mountainsort_30KHz', 'parameter_dict' : param}, skip_duplicates='True')"
   ]
  },
  {
   "cell_type": "markdown",
   "metadata": {},
   "source": [
    "Display the new parameter set"
   ]
  },
  {
   "cell_type": "code",
   "execution_count": 11,
   "metadata": {},
   "outputs": [
    {
     "data": {
      "text/plain": [
       "{'sorter_name': 'mountainsort4',\n",
       " 'parameter_set_name': 'franklab_mountainsort_30KHz',\n",
       " 'parameter_dict': {'detect_sign': -1,\n",
       "  'adjacency_radius': 100,\n",
       "  'freq_min': 300,\n",
       "  'freq_max': 6000,\n",
       "  'filter': True,\n",
       "  'whiten': True,\n",
       "  'curation': False,\n",
       "  'num_workers': 4,\n",
       "  'clip_size': 50,\n",
       "  'detect_threshold': 3,\n",
       "  'detect_interval': 10,\n",
       "  'noise_overlap_threshold': 0,\n",
       "  'verbose': True}}"
      ]
     },
     "execution_count": 11,
     "metadata": {},
     "output_type": "execute_result"
    }
   ],
   "source": [
    "p = (nd.common.SpikeSorterParameters() & {'sorter_name': 'mountainsort4', 'parameter_set_name' : 'franklab_mountainsort_30KHz'}).fetch1()\n",
    "p"
   ]
  },
  {
   "cell_type": "code",
   "execution_count": 12,
   "metadata": {},
   "outputs": [
    {
     "data": {
      "text/plain": [
       "{'detect_sign': -1,\n",
       " 'adjacency_radius': 100,\n",
       " 'freq_min': 300,\n",
       " 'freq_max': 6000,\n",
       " 'filter': True,\n",
       " 'whiten': True,\n",
       " 'curation': False,\n",
       " 'num_workers': 4,\n",
       " 'clip_size': 50,\n",
       " 'detect_threshold': 3,\n",
       " 'detect_interval': 10,\n",
       " 'noise_overlap_threshold': 0,\n",
       " 'verbose': True}"
      ]
     },
     "execution_count": 12,
     "metadata": {},
     "output_type": "execute_result"
    }
   ],
   "source": [
    "param = p['parameter_dict']\n",
    "param"
   ]
  },
  {
   "cell_type": "markdown",
   "metadata": {},
   "source": [
    "### Create a set of spike sorting parameters for sorting group 1"
   ]
  },
  {
   "cell_type": "code",
   "execution_count": 13,
   "metadata": {},
   "outputs": [
    {
     "name": "stdout",
     "output_type": "stream",
     "text": [
      "[[1.56686539e+09 1.56686629e+09]]\n"
     ]
    }
   ],
   "source": [
    "# create a 10 second test intervals for debugging\n",
    "s1 = (nd.common.IntervalList() & {'nwb_file_name' : nwb_file_name,'interval_list_name':'02_lineartrack'}).fetch1('valid_times')\n",
    "print(s1)"
   ]
  },
  {
   "cell_type": "code",
   "execution_count": 16,
   "metadata": {
    "jupyter": {
     "outputs_hidden": true
    },
    "scrolled": true
   },
   "outputs": [
    {
     "name": "stdout",
     "output_type": "stream",
     "text": [
      "[1.56686539e+09 1.56686540e+09]\n"
     ]
    }
   ],
   "source": [
    "a = np.asarray([s1[0][0], s1[0][0]+10])\n",
    "nd.common.SortInterval().insert1({'nwb_file_name' : nwb_file_name, 'sort_interval_name' : 'test', 'sort_interval' : a},skip_duplicates=True)\n",
    "\n",
    "print(a)"
   ]
  },
  {
   "cell_type": "code",
   "execution_count": 17,
   "metadata": {},
   "outputs": [],
   "source": [
    "# create the sorting waveform parameters table\n",
    "n_noise_waveforms = 1000 # the number of random noise waveforms to save\n",
    "waveform_param_dict = st.postprocessing.get_waveforms_params()\n",
    "waveform_param_dict['grouping_property'] = 'group'\n",
    "# set the window to half of the clip size before and half after\n",
    "waveform_param_dict['ms_before'] = .75\n",
    "waveform_param_dict['ms_after'] = .75\n",
    "waveform_param_dict['dtype'] = 'i2'\n",
    "waveform_param_dict['verbose'] = False\n",
    "waveform_param_dict['max_spikes_per_unit'] = 1000\n",
    "nd.common.SpikeSortingWaveformParameters.insert1({'waveform_parameters_name' : 'franklab default', 'n_noise_waveforms' : n_noise_waveforms, \n",
    "                                                   'waveform_parameter_dict' : waveform_param_dict}, replace='True')"
   ]
  },
  {
   "cell_type": "code",
   "execution_count": 21,
   "metadata": {},
   "outputs": [],
   "source": [
    "sort_group_id = 1\n",
    "key = dict()\n",
    "key['nwb_file_name'] = nwb_file_name\n",
    "key['sort_group_id'] = sort_group_id\n",
    "key['sorter_name'] = 'mountainsort4'\n",
    "key['parameter_set_name'] = 'franklab_mountainsort_30KHz'\n",
    "key['waveform_parameters_name'] = 'franklab default'\n",
    "key['interval_list_name'] = '02_lineartrack'\n",
    "key['sort_interval_name'] = 'test'\n",
    "nd.common.SpikeSortingParameters().insert1(key, skip_duplicates='True')"
   ]
  },
  {
   "cell_type": "code",
   "execution_count": 110,
   "metadata": {},
   "outputs": [
    {
     "name": "stdout",
     "output_type": "stream",
     "text": [
      "[1.56686539e+09 1.56686540e+09]\n",
      "10.0\n"
     ]
    }
   ],
   "source": [
    "raw_data_obj = (nd.common.Raw() & {'nwb_file_name' : nwb_file_name}).fetch_nwb()[0]['raw']\n",
    "timestamps = np.asarray(raw_data_obj.timestamps)\n",
    "\n",
    "s1 = (nd.common.IntervalList() & {'nwb_file_name' : nwb_file_name,'interval_list_name':'02_lineartrack'}).fetch1('valid_times')\n",
    "a = np.asarray([s1[0][0], s1[0][0]+10])\n",
    "print(a)\n",
    "print(a[1]-a[0])"
   ]
  },
  {
   "cell_type": "code",
   "execution_count": 107,
   "metadata": {},
   "outputs": [
    {
     "data": {
      "text/plain": [
       "array([39461936, 39461936])"
      ]
     },
     "execution_count": 107,
     "metadata": {},
     "output_type": "execute_result"
    }
   ],
   "source": [
    "np.searchsorted(timestamps, np.ravel(a))"
   ]
  },
  {
   "cell_type": "code",
   "execution_count": 109,
   "metadata": {},
   "outputs": [
    {
     "data": {
      "text/plain": [
       "[<matplotlib.lines.Line2D at 0x7f47c27637c0>]"
      ]
     },
     "execution_count": 109,
     "metadata": {},
     "output_type": "execute_result"
    },
    {
     "data": {
      "image/png": "[encoded data removed]",
      "text/plain": [
       "<Figure size 432x288 with 1 Axes>"
      ]
     },
     "metadata": {
      "needs_background": "light"
     },
     "output_type": "display_data"
    }
   ],
   "source": [
    "import matplotlib.pyplot as plt\n",
    "plt.plot(timestamps[39461936-1000:39461936+1000])"
   ]
  },
  {
   "cell_type": "code",
   "execution_count": 102,
   "metadata": {
    "scrolled": true
   },
   "outputs": [
    {
     "data": {
      "text/plain": [
       "array([108889781, 221449247])"
      ]
     },
     "execution_count": 102,
     "metadata": {},
     "output_type": "execute_result"
    }
   ],
   "source": [
    "np.searchsorted(timestamps, a+5000)"
   ]
  },
  {
   "cell_type": "code",
   "execution_count": 67,
   "metadata": {
    "scrolled": true
   },
   "outputs": [
    {
     "data": {
      "text/plain": [
       "39461936"
      ]
     },
     "execution_count": 67,
     "metadata": {},
     "output_type": "execute_result"
    }
   ],
   "source": [
    "np.searchsorted(timestamps, a[1])"
   ]
  },
  {
   "cell_type": "code",
   "execution_count": null,
   "metadata": {},
   "outputs": [],
   "source": []
  },
  {
   "cell_type": "code",
   "execution_count": 90,
   "metadata": {},
   "outputs": [
    {
     "data": {
      "text/plain": [
       "array([1.56686539e+09, 1.56686540e+09])"
      ]
     },
     "execution_count": 90,
     "metadata": {},
     "output_type": "execute_result"
    }
   ],
   "source": [
    "a"
   ]
  },
  {
   "cell_type": "code",
   "execution_count": 104,
   "metadata": {},
   "outputs": [
    {
     "data": {
      "text/plain": [
       "[<matplotlib.lines.Line2D at 0x7f47c28e2be0>]"
      ]
     },
     "execution_count": 104,
     "metadata": {},
     "output_type": "execute_result"
    },
    {
     "data": {
      "image/png": "[encoded data removed]",
      "text/plain": [
       "<Figure size 432x288 with 1 Axes>"
      ]
     },
     "metadata": {
      "needs_background": "light"
     },
     "output_type": "display_data"
    }
   ],
   "source": [
    "import matplotlib.pyplot as plt\n",
    "plt.plot(timestamps[108889781:108889781+10000])"
   ]
  },
  {
   "cell_type": "code",
   "execution_count": 56,
   "metadata": {},
   "outputs": [
    {
     "data": {
      "text/plain": [
       "1566866407.2848182"
      ]
     },
     "execution_count": 56,
     "metadata": {},
     "output_type": "execute_result"
    }
   ],
   "source": [
    "timestamps[39461937]"
   ]
  },
  {
   "cell_type": "code",
   "execution_count": 61,
   "metadata": {},
   "outputs": [
    {
     "data": {
      "text/plain": [
       "1015.8482513427734"
      ]
     },
     "execution_count": 61,
     "metadata": {},
     "output_type": "execute_result"
    }
   ],
   "source": [
    "timestamps[39461936]-a[1]"
   ]
  },
  {
   "cell_type": "code",
   "execution_count": 44,
   "metadata": {},
   "outputs": [
    {
     "data": {
      "text/plain": [
       "array([39461936, 39461936])"
      ]
     },
     "execution_count": 44,
     "metadata": {},
     "output_type": "execute_result"
    }
   ],
   "source": [
    "sort_indeces"
   ]
  },
  {
   "cell_type": "code",
   "execution_count": 40,
   "metadata": {},
   "outputs": [
    {
     "data": {
      "text/plain": [
       "1566865401.436534"
      ]
     },
     "execution_count": 40,
     "metadata": {},
     "output_type": "execute_result"
    }
   ],
   "source": [
    "a[1]"
   ]
  },
  {
   "cell_type": "code",
   "execution_count": 38,
   "metadata": {},
   "outputs": [
    {
     "data": {
      "text/plain": [
       "1566871820.4977267"
      ]
     },
     "execution_count": 38,
     "metadata": {},
     "output_type": "execute_result"
    }
   ],
   "source": [
    "timestamps[-1]"
   ]
  },
  {
   "cell_type": "markdown",
   "metadata": {},
   "source": [
    "### run the sort - this can take some time"
   ]
  },
  {
   "cell_type": "code",
   "execution_count": 23,
   "metadata": {},
   "outputs": [
    {
     "name": "stdout",
     "output_type": "stream",
     "text": [
      "in spike sorting\n",
      "writing new NWB file Jaq20190826_000000.nwb\n",
      "'end_frame' set to 0\n"
     ]
    },
    {
     "ename": "AssertionError",
     "evalue": "'start_frame' must be less than 'end_frame'!",
     "output_type": "error",
     "traceback": [
      "\u001b[0;31m---------------------------------------------------------------------------\u001b[0m",
      "\u001b[0;31mAssertionError\u001b[0m                            Traceback (most recent call last)",
      "\u001b[0;32m<ipython-input-23-94a533a6265b>\u001b[0m in \u001b[0;36m<module>\u001b[0;34m\u001b[0m\n\u001b[0;32m----> 1\u001b[0;31m \u001b[0mnd\u001b[0m\u001b[0;34m.\u001b[0m\u001b[0mcommon\u001b[0m\u001b[0;34m.\u001b[0m\u001b[0mSpikeSorting\u001b[0m\u001b[0;34m(\u001b[0m\u001b[0;34m)\u001b[0m\u001b[0;34m.\u001b[0m\u001b[0mpopulate\u001b[0m\u001b[0;34m(\u001b[0m\u001b[0;34m)\u001b[0m\u001b[0;34m\u001b[0m\u001b[0;34m\u001b[0m\u001b[0m\n\u001b[0m",
      "\u001b[0;32m~/miniconda3/envs/nwb_datajoint/lib/python3.8/site-packages/datajoint/autopopulate.py\u001b[0m in \u001b[0;36mpopulate\u001b[0;34m(self, suppress_errors, return_exception_objects, reserve_jobs, order, limit, max_calls, display_progress, *restrictions)\u001b[0m\n\u001b[1;32m    157\u001b[0m                     \u001b[0mself\u001b[0m\u001b[0;34m.\u001b[0m\u001b[0m__class__\u001b[0m\u001b[0;34m.\u001b[0m\u001b[0m_allow_insert\u001b[0m \u001b[0;34m=\u001b[0m \u001b[0;32mTrue\u001b[0m\u001b[0;34m\u001b[0m\u001b[0;34m\u001b[0m\u001b[0m\n\u001b[1;32m    158\u001b[0m                     \u001b[0;32mtry\u001b[0m\u001b[0;34m:\u001b[0m\u001b[0;34m\u001b[0m\u001b[0;34m\u001b[0m\u001b[0m\n\u001b[0;32m--> 159\u001b[0;31m                         \u001b[0mmake\u001b[0m\u001b[0;34m(\u001b[0m\u001b[0mdict\u001b[0m\u001b[0;34m(\u001b[0m\u001b[0mkey\u001b[0m\u001b[0;34m)\u001b[0m\u001b[0;34m)\u001b[0m\u001b[0;34m\u001b[0m\u001b[0;34m\u001b[0m\u001b[0m\n\u001b[0m\u001b[1;32m    160\u001b[0m                     \u001b[0;32mexcept\u001b[0m \u001b[0;34m(\u001b[0m\u001b[0mKeyboardInterrupt\u001b[0m\u001b[0;34m,\u001b[0m \u001b[0mSystemExit\u001b[0m\u001b[0;34m,\u001b[0m \u001b[0mException\u001b[0m\u001b[0;34m)\u001b[0m \u001b[0;32mas\u001b[0m \u001b[0merror\u001b[0m\u001b[0;34m:\u001b[0m\u001b[0;34m\u001b[0m\u001b[0;34m\u001b[0m\u001b[0m\n\u001b[1;32m    161\u001b[0m                         \u001b[0;32mtry\u001b[0m\u001b[0;34m:\u001b[0m\u001b[0;34m\u001b[0m\u001b[0;34m\u001b[0m\u001b[0m\n",
      "\u001b[0;32m~/repos/nwb_datajoint/nwb_datajoint/common/common_spikesorting.py\u001b[0m in \u001b[0;36mmake\u001b[0;34m(self, key)\u001b[0m\n\u001b[1;32m    297\u001b[0m         recording_extractor_path = os.path.join(os.environ['SPIKE_SORTING_STORAGE_DIR'], \n\u001b[1;32m    298\u001b[0m                                                 key['analysis_file_name'], np.array2string(sort_interval))\n\u001b[0;32m--> 299\u001b[0;31m         \u001b[0mrecording_extractor_cached\u001b[0m \u001b[0;34m=\u001b[0m \u001b[0mse\u001b[0m\u001b[0;34m.\u001b[0m\u001b[0mCacheRecordingExtractor\u001b[0m\u001b[0;34m(\u001b[0m\u001b[0mrecording_extractor\u001b[0m\u001b[0;34m,\u001b[0m \u001b[0msave_path\u001b[0m\u001b[0;34m=\u001b[0m\u001b[0mrecording_extractor_path\u001b[0m\u001b[0;34m)\u001b[0m\u001b[0;34m\u001b[0m\u001b[0;34m\u001b[0m\u001b[0m\n\u001b[0m\u001b[1;32m    300\u001b[0m         \u001b[0mprint\u001b[0m\u001b[0;34m(\u001b[0m\u001b[0;34mf'Sorting {key}...'\u001b[0m\u001b[0;34m)\u001b[0m\u001b[0;34m\u001b[0m\u001b[0;34m\u001b[0m\u001b[0m\n\u001b[1;32m    301\u001b[0m         sort = si.sorters.run_mountainsort4(recording=recording_extractor_cached, \n",
      "\u001b[0;32m~/miniconda3/envs/nwb_datajoint/lib/python3.8/site-packages/spikeextractors/cacheextractors.py\u001b[0m in \u001b[0;36m__init__\u001b[0;34m(self, recording, chunk_size, chunk_mb, save_path, verbose)\u001b[0m\n\u001b[1;32m     26\u001b[0m             \u001b[0mself\u001b[0m\u001b[0;34m.\u001b[0m\u001b[0m_is_tmp\u001b[0m \u001b[0;34m=\u001b[0m \u001b[0;32mFalse\u001b[0m\u001b[0;34m\u001b[0m\u001b[0;34m\u001b[0m\u001b[0m\n\u001b[1;32m     27\u001b[0m             \u001b[0mself\u001b[0m\u001b[0;34m.\u001b[0m\u001b[0m_tmp_file\u001b[0m \u001b[0;34m=\u001b[0m \u001b[0msave_path\u001b[0m\u001b[0;34m\u001b[0m\u001b[0;34m\u001b[0m\u001b[0m\n\u001b[0;32m---> 28\u001b[0;31m         \u001b[0mself\u001b[0m\u001b[0;34m.\u001b[0m\u001b[0m_dtype\u001b[0m \u001b[0;34m=\u001b[0m \u001b[0mrecording\u001b[0m\u001b[0;34m.\u001b[0m\u001b[0mget_dtype\u001b[0m\u001b[0;34m(\u001b[0m\u001b[0;34m)\u001b[0m\u001b[0;34m\u001b[0m\u001b[0;34m\u001b[0m\u001b[0m\n\u001b[0m\u001b[1;32m     29\u001b[0m         recording.write_to_binary_dat_format(save_path=self._tmp_file, dtype=self._dtype, chunk_size=chunk_size,\n\u001b[1;32m     30\u001b[0m                                              chunk_mb=chunk_mb, verbose=verbose)\n",
      "\u001b[0;32m~/miniconda3/envs/nwb_datajoint/lib/python3.8/site-packages/spikeextractors/recordingextractor.py\u001b[0m in \u001b[0;36mget_dtype\u001b[0;34m(self)\u001b[0m\n\u001b[1;32m    102\u001b[0m \u001b[0;34m\u001b[0m\u001b[0m\n\u001b[1;32m    103\u001b[0m     \u001b[0;32mdef\u001b[0m \u001b[0mget_dtype\u001b[0m\u001b[0;34m(\u001b[0m\u001b[0mself\u001b[0m\u001b[0;34m)\u001b[0m\u001b[0;34m:\u001b[0m\u001b[0;34m\u001b[0m\u001b[0;34m\u001b[0m\u001b[0m\n\u001b[0;32m--> 104\u001b[0;31m         \u001b[0;32mreturn\u001b[0m \u001b[0mself\u001b[0m\u001b[0;34m.\u001b[0m\u001b[0mget_traces\u001b[0m\u001b[0;34m(\u001b[0m\u001b[0mchannel_ids\u001b[0m\u001b[0;34m=\u001b[0m\u001b[0;34m[\u001b[0m\u001b[0mself\u001b[0m\u001b[0;34m.\u001b[0m\u001b[0mget_channel_ids\u001b[0m\u001b[0;34m(\u001b[0m\u001b[0;34m)\u001b[0m\u001b[0;34m[\u001b[0m\u001b[0;36m0\u001b[0m\u001b[0;34m]\u001b[0m\u001b[0;34m]\u001b[0m\u001b[0;34m,\u001b[0m \u001b[0mstart_frame\u001b[0m\u001b[0;34m=\u001b[0m\u001b[0;36m0\u001b[0m\u001b[0;34m,\u001b[0m \u001b[0mend_frame\u001b[0m\u001b[0;34m=\u001b[0m\u001b[0;36m1\u001b[0m\u001b[0;34m)\u001b[0m\u001b[0;34m.\u001b[0m\u001b[0mdtype\u001b[0m\u001b[0;34m\u001b[0m\u001b[0;34m\u001b[0m\u001b[0m\n\u001b[0m\u001b[1;32m    105\u001b[0m \u001b[0;34m\u001b[0m\u001b[0m\n\u001b[1;32m    106\u001b[0m     \u001b[0;32mdef\u001b[0m \u001b[0mframe_to_time\u001b[0m\u001b[0;34m(\u001b[0m\u001b[0mself\u001b[0m\u001b[0;34m,\u001b[0m \u001b[0mframe\u001b[0m\u001b[0;34m)\u001b[0m\u001b[0;34m:\u001b[0m\u001b[0;34m\u001b[0m\u001b[0;34m\u001b[0m\u001b[0m\n",
      "\u001b[0;32m~/miniconda3/envs/nwb_datajoint/lib/python3.8/site-packages/spikeextractors/extraction_tools.py\u001b[0m in \u001b[0;36mcorrected_args\u001b[0;34m(*args, **kwargs)\u001b[0m\n\u001b[1;32m    765\u001b[0m         \u001b[0;32melse\u001b[0m\u001b[0;34m:\u001b[0m\u001b[0;34m\u001b[0m\u001b[0;34m\u001b[0m\u001b[0m\n\u001b[1;32m    766\u001b[0m             \u001b[0mend_frame\u001b[0m \u001b[0;34m=\u001b[0m \u001b[0mrecording\u001b[0m\u001b[0;34m.\u001b[0m\u001b[0mget_num_frames\u001b[0m\u001b[0;34m(\u001b[0m\u001b[0;34m)\u001b[0m\u001b[0;34m\u001b[0m\u001b[0;34m\u001b[0m\u001b[0m\n\u001b[0;32m--> 767\u001b[0;31m         \u001b[0;32massert\u001b[0m \u001b[0mend_frame\u001b[0m \u001b[0;34m-\u001b[0m \u001b[0mstart_frame\u001b[0m \u001b[0;34m>\u001b[0m \u001b[0;36m0\u001b[0m\u001b[0;34m,\u001b[0m \u001b[0;34m\"'start_frame' must be less than 'end_frame'!\"\u001b[0m\u001b[0;34m\u001b[0m\u001b[0;34m\u001b[0m\u001b[0m\n\u001b[0m\u001b[1;32m    768\u001b[0m         \u001b[0mstart_frame\u001b[0m\u001b[0;34m,\u001b[0m \u001b[0mend_frame\u001b[0m \u001b[0;34m=\u001b[0m \u001b[0mcast_start_end_frame\u001b[0m\u001b[0;34m(\u001b[0m\u001b[0mstart_frame\u001b[0m\u001b[0;34m,\u001b[0m \u001b[0mend_frame\u001b[0m\u001b[0;34m)\u001b[0m\u001b[0;34m\u001b[0m\u001b[0;34m\u001b[0m\u001b[0m\n\u001b[1;32m    769\u001b[0m         \u001b[0mkwargs\u001b[0m\u001b[0;34m[\u001b[0m\u001b[0;34m'channel_ids'\u001b[0m\u001b[0;34m]\u001b[0m \u001b[0;34m=\u001b[0m \u001b[0mchannel_ids\u001b[0m\u001b[0;34m\u001b[0m\u001b[0;34m\u001b[0m\u001b[0m\n",
      "\u001b[0;31mAssertionError\u001b[0m: 'start_frame' must be less than 'end_frame'!"
     ]
    }
   ],
   "source": [
    "nd.common.SpikeSorting().populate()"
   ]
  },
  {
   "cell_type": "markdown",
   "metadata": {},
   "source": [
    "\n",
    "### Example: Retrieve the spike trains:\n",
    "Note that these spikes are all noise; this is for demonstration purposes only."
   ]
  },
  {
   "cell_type": "code",
   "execution_count": null,
   "metadata": {},
   "outputs": [],
   "source": [
    "nd.common.SpikeSorting()"
   ]
  },
  {
   "cell_type": "code",
   "execution_count": null,
   "metadata": {},
   "outputs": [],
   "source": [
    "sort_interval = (nd.common.SortIntervalList() & {'sort_interval_list_name' : 'test'}).fetch1('sort_intervals')[0]\n",
    "\n",
    "key = nd.common.SpikeSorting().fetch('KEY')[0]\n",
    "\n",
    "recording = nd.common.SpikeSorting().get_recording_extractor(key, sort_interval)[0]\n",
    "sorting = nd.common.SpikeSorting().get_sorting_extractor(key, sort_interval)\n"
   ]
  },
  {
   "cell_type": "code",
   "execution_count": null,
   "metadata": {},
   "outputs": [],
   "source": [
    "# get the timestamps and select 1000 random times\n",
    "raw_obj = (nd.common.Raw() & {'nwb_file_name' : nwb_file_name}).fetch_nwb()[0]['raw']\n",
    "ts = np.asarray(raw_obj.timestamps)\n",
    "ts_sort_ind = np.where(np.logical_and((ts > sort_interval[0]), (ts < sort_interval[1])))[0]\n"
   ]
  },
  {
   "cell_type": "code",
   "execution_count": null,
   "metadata": {},
   "outputs": [],
   "source": [
    "n_random_snippets = 1000\n",
    "# generate a list of random times and get snippets for those times\n",
    "rng = np.random.default_rng()\n",
    "noise_indeces = np.sort(rng.choice(ts_sort_ind, n_random_snippets))\n",
    "noise_sorting=se.NumpySortingExtractor()\n",
    "noise_sorting.set_times_labels(times=noise_indeces,labels=np.zeros(noise_indeces.shape))"
   ]
  },
  {
   "cell_type": "code",
   "execution_count": null,
   "metadata": {},
   "outputs": [],
   "source": [
    "nd.common.Nwbfile().drop()"
   ]
  },
  {
   "cell_type": "code",
   "execution_count": null,
   "metadata": {},
   "outputs": [],
   "source": [
    "import spikeextractors as se\n",
    "import labbox_ephys as le\n",
    "import numpy as np\n",
    "import h5py\n",
    "\n",
    "#add a second snippets file with 1000 random spike times across all channels\n",
    "\n",
    "# Specify the output path\n",
    "output_h5_path = 'real_snippets.h5'\n",
    "\n",
    "# Prepare the snippets h5 file\n",
    "le.prepare_snippets_h5_from_extractors(\n",
    "    recording=recording,\n",
    "    sorting=sorting,\n",
    "    output_h5_path=output_h5_path,\n",
    "    start_frame=None,\n",
    "    end_frame=None,\n",
    "    snippet_len = (10,20),\n",
    "    max_events_per_unit=None,\n",
    "    max_neighborhood_size=6\n",
    ")\n",
    "\n",
    "output_h5_path = 'noise_snippets.h5'\n",
    "le.prepare_snippets_h5_from_extractors(\n",
    "    recording=recording,\n",
    "    sorting=noise_sorting,\n",
    "    output_h5_path=output_h5_path,\n",
    "    start_frame=None,\n",
    "    end_frame=None,\n",
    "    snippet_len = (10,20),\n",
    "    max_events_per_unit=None,\n",
    "    max_neighborhood_size=10000\n",
    ")\n",
    "\n",
    "\n",
    "\n",
    "# Example display some contents of the file\n",
    "with h5py.File(output_h5_path, 'r') as f:\n",
    "    unit_ids = np.array(f.get('unit_ids'))\n",
    "    sampling_frequency = np.array(f.get('sampling_frequency'))[0]\n",
    "    print(f'Unit IDs: {unit_ids}')\n",
    "    print(f'Sampling freq: {sampling_frequency}')\n",
    "    for unit_id in unit_ids:\n",
    "        unit_spike_train = np.array(f.get(f'unit_spike_trains/{unit_id}'))\n",
    "        unit_waveforms = np.array(f.get(f'unit_waveforms/{unit_id}/waveforms'))\n",
    "        unit_waveforms_channel_ids = np.array(f.get(f'unit_waveforms/{unit_id}/channel_ids'))\n",
    "        print(f'Unit {unit_id} | Tot num events: {len(unit_spike_train)} | shape of subsampled snippets: {unit_waveforms.shape}')"
   ]
  },
  {
   "cell_type": "code",
   "execution_count": null,
   "metadata": {},
   "outputs": [],
   "source": [
    "cd ."
   ]
  },
  {
   "cell_type": "code",
   "execution_count": null,
   "metadata": {},
   "outputs": [],
   "source": [
    "nd.common.SpikeSorting().delete()"
   ]
  },
  {
   "cell_type": "code",
   "execution_count": null,
   "metadata": {},
   "outputs": [],
   "source": [
    "sorting = (nd.common.SpikeSorting & {'nwb_file_name' : nwb_file_name, 'sort_group_id' : sort_group_id}).fetch()\n",
    "key = {'nwb_file_name' : nwb_file_name, 'sort_group_id' : sort_group_id}\n",
    "units = (nd.common.SpikeSorting & key).fetch_nwb()[0]['units'].to_dataframe()\n",
    "units"
   ]
  },
  {
   "cell_type": "code",
   "execution_count": null,
   "metadata": {},
   "outputs": [],
   "source": [
    "dj.conn"
   ]
  },
  {
   "cell_type": "code",
   "execution_count": null,
   "metadata": {},
   "outputs": [],
   "source": [
    "nd.common.Nwbfile().delete()"
   ]
  },
  {
   "cell_type": "code",
   "execution_count": null,
   "metadata": {},
   "outputs": [],
   "source": []
  }
 ],
 "metadata": {
  "kernelspec": {
   "display_name": "Python [conda env:nwb_datajoint] *",
   "language": "python",
   "name": "conda-env-nwb_datajoint-py"
  },
  "language_info": {
   "codemirror_mode": {
    "name": "ipython",
    "version": 3
   },
   "file_extension": ".py",
   "mimetype": "text/x-python",
   "name": "python",
   "nbconvert_exporter": "python",
   "pygments_lexer": "ipython3",
   "version": "3.8.0"
  }
 },
 "nbformat": 4,
 "nbformat_minor": 4
}
