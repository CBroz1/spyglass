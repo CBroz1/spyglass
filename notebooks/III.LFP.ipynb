{
 "cells": [
  {
   "cell_type": "markdown",
   "id": "78654dcf-b419-4eec-ac06-68f210a82dc3",
   "metadata": {},
   "source": [
    "## Make LFP"
   ]
  },
  {
   "cell_type": "code",
   "execution_count": 132,
   "id": "f407cc02-b9b8-4570-b504-e6259bd8a00c",
   "metadata": {},
   "outputs": [],
   "source": [
    "%reload_ext autoreload\n",
    "%autoreload 2"
   ]
  },
  {
   "cell_type": "code",
   "execution_count": 133,
   "id": "2e36c950-d0f0-43a3-b25d-7ec84515a016",
   "metadata": {},
   "outputs": [],
   "source": [
    "import os\n",
    "import numpy as np\n",
    "import pandas as pd\n",
    "\n",
    "import spyglass as nd\n",
    "import datajoint as dj\n",
    "import multiprocessing\n",
    "\n",
    "# ignore datajoint+jupyter async warnings\n",
    "import warnings\n",
    "warnings.simplefilter('ignore', category=DeprecationWarning)\n",
    "warnings.simplefilter('ignore', category=ResourceWarning)\n",
    "warnings.simplefilter('ignore', category=UserWarning)\n",
    "\n",
    "import matplotlib.pyplot as plt"
   ]
  },
  {
   "cell_type": "code",
   "execution_count": 134,
   "id": "e253f8ed-ca10-47e8-ae08-3d484dca88c1",
   "metadata": {},
   "outputs": [],
   "source": [
    "# We also import a bunch of tables so that we can call them easily\n",
    "from spyglass.common.nwb_helper_fn import get_nwb_copy_filename\n",
    "from spyglass.common import (Session, IntervalList,LabMember, LabTeam, Raw, Session, Nwbfile,\n",
    "                            Electrode)\n",
    "from spyglass.common import (RawPosition, HeadDir, Speed, LinPos, StateScriptFile, VideoFile,\n",
    "                                  DataAcquisitionDevice, CameraDevice, Probe,\n",
    "                                  DIOEvents,\n",
    "                                  ElectrodeGroup, Electrode, Raw, SampleCount,\n",
    "                                  LFPSelection, LFP, LFPBandSelection, LFPBand,\n",
    "                                  PositionSource,\n",
    "                                  FirFilter,\n",
    "                                  IntervalList, \n",
    "                                  Lab, LabMember, LabTeam, Institution,\n",
    "                                  BrainRegion,\n",
    "                                  SensorData,\n",
    "                                  Session, ExperimenterList,\n",
    "                                  Subject,\n",
    "                                  Task, TaskEpoch,\n",
    "                                  Nwbfile, AnalysisNwbfile, NwbfileKachery, AnalysisNwbfileKachery) #SortGroup, SpikeSorting, SpikeSorter, SpikeSorterParameters, \n",
    "                                  #SpikeSortingWaveformParameters, SpikeSortingParameters, SpikeSortingMetrics, CuratedSpikeSorting, AutomaticCurationSpikeSortingParameters,SortInterval,\n",
    "    \n",
    "from spyglass.spikesorting import (SortGroup, \n",
    "                                    SortInterval,\n",
    "                                    SpikeSortingPreprocessingParameters,\n",
    "                                    SpikeSortingRecording, \n",
    "                                    SpikeSorterParameters,\n",
    "                                    SpikeSortingRecordingSelection,\n",
    "                                    ArtifactDetectionParameters, ArtifactDetectionSelection,\n",
    "                                    ArtifactRemovedIntervalList, ArtifactDetection,\n",
    "                                      SpikeSortingSelection, SpikeSorting,)"
   ]
  },
  {
   "cell_type": "code",
   "execution_count": 122,
   "id": "aae2a39e-5960-437d-9272-0d2de71aceba",
   "metadata": {},
   "outputs": [
    {
     "data": {
      "text/html": [
       "\n",
       "    \n",
       "    <style type=\"text/css\">\n",
       "        .Relation{\n",
       "            border-collapse:collapse;\n",
       "        }\n",
       "        .Relation th{\n",
       "            background: #A0A0A0; color: #ffffff; padding:4px; border:#f0e0e0 1px solid;\n",
       "            font-weight: normal; font-family: monospace; font-size: 100%;\n",
       "        }\n",
       "        .Relation td{\n",
       "            padding:4px; border:#f0e0e0 1px solid; font-size:100%;\n",
       "        }\n",
       "        .Relation tr:nth-child(odd){\n",
       "            background: #ffffff;\n",
       "        }\n",
       "        .Relation tr:nth-child(even){\n",
       "            background: #f3f1ff;\n",
       "        }\n",
       "        /* Tooltip container */\n",
       "        .djtooltip {\n",
       "        }\n",
       "        /* Tooltip text */\n",
       "        .djtooltip .djtooltiptext {\n",
       "            visibility: hidden;\n",
       "            width: 120px;\n",
       "            background-color: black;\n",
       "            color: #fff;\n",
       "            text-align: center;\n",
       "            padding: 5px 0;\n",
       "            border-radius: 6px;\n",
       "            /* Position the tooltip text - see examples below! */\n",
       "            position: absolute;\n",
       "            z-index: 1;\n",
       "        }\n",
       "        #primary {\n",
       "            font-weight: bold;\n",
       "            color: black;\n",
       "        }\n",
       "        #nonprimary {\n",
       "            font-weight: normal;\n",
       "            color: white;\n",
       "        }\n",
       "\n",
       "        /* Show the tooltip text when you mouse over the tooltip container */\n",
       "        .djtooltip:hover .djtooltiptext {\n",
       "            visibility: visible;\n",
       "        }\n",
       "    </style>\n",
       "    \n",
       "    <b></b>\n",
       "        <div style=\"max-height:1000px;max-width:1500px;overflow:auto;\">\n",
       "        <table border=\"1\" class=\"Relation\">\n",
       "            <thead> <tr style=\"text-align: right;\"> <th> <div class=\"djtooltip\">\n",
       "                            <p id=\"primary\">filter_name</p>\n",
       "                            <span class=\"djtooltiptext\">descriptive name of this filter</span>\n",
       "                        </div></th><th><div class=\"djtooltip\">\n",
       "                            <p id=\"primary\">filter_sampling_rate</p>\n",
       "                            <span class=\"djtooltiptext\">sampling rate for this filter</span>\n",
       "                        </div></th><th><div class=\"djtooltip\">\n",
       "                            <p id=\"nonprimary\">filter_type</p>\n",
       "                            <span class=\"djtooltiptext\"></span>\n",
       "                        </div></th><th><div class=\"djtooltip\">\n",
       "                            <p id=\"nonprimary\">filter_low_stop</p>\n",
       "                            <span class=\"djtooltiptext\">lowest frequency for stop band for low frequency side of filter</span>\n",
       "                        </div></th><th><div class=\"djtooltip\">\n",
       "                            <p id=\"nonprimary\">filter_low_pass</p>\n",
       "                            <span class=\"djtooltiptext\">lowest frequency for pass band of low frequency side of filter</span>\n",
       "                        </div></th><th><div class=\"djtooltip\">\n",
       "                            <p id=\"nonprimary\">filter_high_pass</p>\n",
       "                            <span class=\"djtooltiptext\">highest frequency for pass band for high frequency side of filter</span>\n",
       "                        </div></th><th><div class=\"djtooltip\">\n",
       "                            <p id=\"nonprimary\">filter_high_stop</p>\n",
       "                            <span class=\"djtooltiptext\">highest frequency for stop band of high frequency side of filter</span>\n",
       "                        </div></th><th><div class=\"djtooltip\">\n",
       "                            <p id=\"nonprimary\">filter_comments</p>\n",
       "                            <span class=\"djtooltiptext\">comments about the filter</span>\n",
       "                        </div></th><th><div class=\"djtooltip\">\n",
       "                            <p id=\"nonprimary\">filter_band_edges</p>\n",
       "                            <span class=\"djtooltiptext\">numpy array containing the filter bands (redundant with individual parameters)</span>\n",
       "                        </div></th><th><div class=\"djtooltip\">\n",
       "                            <p id=\"nonprimary\">filter_coeff</p>\n",
       "                            <span class=\"djtooltiptext\">numpy array containing the filter coefficients</span>\n",
       "                        </div> </th> </tr> </thead>\n",
       "            <tbody> <tr> <td>Delta 0.5-4 Hz</td>\n",
       "<td>1000</td>\n",
       "<td>lowpass</td>\n",
       "<td>0.25</td>\n",
       "<td>0.5</td>\n",
       "<td>4.0</td>\n",
       "<td>5.0</td>\n",
       "<td>delta filter for 1 KHz data</td>\n",
       "<td>=BLOB=</td>\n",
       "<td>=BLOB=</td></tr><tr><td>LFP 0-400 Hz</td>\n",
       "<td>20000</td>\n",
       "<td>lowpass</td>\n",
       "<td>0.0</td>\n",
       "<td>0.0</td>\n",
       "<td>400.0</td>\n",
       "<td>425.0</td>\n",
       "<td>standard LFP filter for 20 KHz data</td>\n",
       "<td>=BLOB=</td>\n",
       "<td>=BLOB=</td></tr><tr><td>LFP 0-400 Hz</td>\n",
       "<td>30000</td>\n",
       "<td>lowpass</td>\n",
       "<td>0.0</td>\n",
       "<td>0.0</td>\n",
       "<td>400.0</td>\n",
       "<td>425.0</td>\n",
       "<td>standard LFP filter for 20 KHz data</td>\n",
       "<td>=BLOB=</td>\n",
       "<td>=BLOB=</td></tr><tr><td>Ripple 150-250 Hz</td>\n",
       "<td>1000</td>\n",
       "<td>lowpass</td>\n",
       "<td>140.0</td>\n",
       "<td>150.0</td>\n",
       "<td>250.0</td>\n",
       "<td>260.0</td>\n",
       "<td>ripple band filter for 1 kHz data</td>\n",
       "<td>=BLOB=</td>\n",
       "<td>=BLOB=</td></tr><tr><td>Theta 5-11 Hz</td>\n",
       "<td>1000</td>\n",
       "<td>lowpass</td>\n",
       "<td>4.0</td>\n",
       "<td>5.0</td>\n",
       "<td>11.0</td>\n",
       "<td>12.0</td>\n",
       "<td>theta filter for 1 KHz data</td>\n",
       "<td>=BLOB=</td>\n",
       "<td>=BLOB=</td> </tr> </tbody>\n",
       "        </table>\n",
       "        \n",
       "        <p>Total: 5</p></div>\n",
       "        "
      ],
      "text/plain": [
       "*filter_name   *filter_sampli filter_type    filter_low_sto filter_low_pas filter_high_pa filter_high_st filter_comment filter_ban filter_coe\n",
       "+------------+ +------------+ +------------+ +------------+ +------------+ +------------+ +------------+ +------------+ +--------+ +--------+\n",
       "Delta 0.5-4 Hz 1000           lowpass        0.25           0.5            4.0            5.0            delta filter f =BLOB=     =BLOB=    \n",
       "LFP 0-400 Hz   20000          lowpass        0.0            0.0            400.0          425.0          standard LFP f =BLOB=     =BLOB=    \n",
       "LFP 0-400 Hz   30000          lowpass        0.0            0.0            400.0          425.0          standard LFP f =BLOB=     =BLOB=    \n",
       "Ripple 150-250 1000           lowpass        140.0          150.0          250.0          260.0          ripple band fi =BLOB=     =BLOB=    \n",
       "Theta 5-11 Hz  1000           lowpass        4.0            5.0            11.0           12.0           theta filter f =BLOB=     =BLOB=    \n",
       " (Total: 5)"
      ]
     },
     "execution_count": 122,
     "metadata": {},
     "output_type": "execute_result"
    }
   ],
   "source": [
    "FirFilter()"
   ]
  },
  {
   "cell_type": "markdown",
   "id": "987cc5b9-1710-4f97-930c-2ee9081739e3",
   "metadata": {},
   "source": [
    "### The only cell to be edited:"
   ]
  },
  {
   "cell_type": "code",
   "execution_count": 135,
   "id": "8aff72a9-0665-4fe3-84c8-396e4a95e3fa",
   "metadata": {},
   "outputs": [],
   "source": [
    "nwb_file_name = 'molly20220419.nwb'"
   ]
  },
  {
   "cell_type": "markdown",
   "id": "f903c83a-3fac-4605-9155-fd6b76c714f7",
   "metadata": {},
   "source": [
    "### Run the rest"
   ]
  },
  {
   "cell_type": "code",
   "execution_count": 136,
   "id": "721d8e5a-5073-44d8-89f0-2688d1331798",
   "metadata": {},
   "outputs": [],
   "source": [
    "nwb_copy_file_name = get_nwb_copy_filename(nwb_file_name)"
   ]
  },
  {
   "cell_type": "markdown",
   "id": "acb095fb-7e90-476f-80d3-762b25b4a0ab",
   "metadata": {},
   "source": [
    "#### 1. Select Electrodes to do LFP"
   ]
  },
  {
   "cell_type": "code",
   "execution_count": 137,
   "id": "ea5171d0-d1d6-4e46-9582-7f0f64da03ed",
   "metadata": {},
   "outputs": [
    {
     "data": {
      "text/html": [
       "\n",
       "    \n",
       "    <style type=\"text/css\">\n",
       "        .Relation{\n",
       "            border-collapse:collapse;\n",
       "        }\n",
       "        .Relation th{\n",
       "            background: #A0A0A0; color: #ffffff; padding:4px; border:#f0e0e0 1px solid;\n",
       "            font-weight: normal; font-family: monospace; font-size: 100%;\n",
       "        }\n",
       "        .Relation td{\n",
       "            padding:4px; border:#f0e0e0 1px solid; font-size:100%;\n",
       "        }\n",
       "        .Relation tr:nth-child(odd){\n",
       "            background: #ffffff;\n",
       "        }\n",
       "        .Relation tr:nth-child(even){\n",
       "            background: #f3f1ff;\n",
       "        }\n",
       "        /* Tooltip container */\n",
       "        .djtooltip {\n",
       "        }\n",
       "        /* Tooltip text */\n",
       "        .djtooltip .djtooltiptext {\n",
       "            visibility: hidden;\n",
       "            width: 120px;\n",
       "            background-color: black;\n",
       "            color: #fff;\n",
       "            text-align: center;\n",
       "            padding: 5px 0;\n",
       "            border-radius: 6px;\n",
       "            /* Position the tooltip text - see examples below! */\n",
       "            position: absolute;\n",
       "            z-index: 1;\n",
       "        }\n",
       "        #primary {\n",
       "            font-weight: bold;\n",
       "            color: black;\n",
       "        }\n",
       "        #nonprimary {\n",
       "            font-weight: normal;\n",
       "            color: white;\n",
       "        }\n",
       "\n",
       "        /* Show the tooltip text when you mouse over the tooltip container */\n",
       "        .djtooltip:hover .djtooltiptext {\n",
       "            visibility: visible;\n",
       "        }\n",
       "    </style>\n",
       "    \n",
       "    <b></b>\n",
       "        <div style=\"max-height:1000px;max-width:1500px;overflow:auto;\">\n",
       "        <table border=\"1\" class=\"Relation\">\n",
       "            <thead> <tr style=\"text-align: right;\"> <th> <div class=\"djtooltip\">\n",
       "                            <p id=\"primary\">nwb_file_name</p>\n",
       "                            <span class=\"djtooltiptext\">name of the NWB file</span>\n",
       "                        </div></th><th><div class=\"djtooltip\">\n",
       "                            <p id=\"primary\">electrode_group_name</p>\n",
       "                            <span class=\"djtooltiptext\">electrode group name from NWBFile</span>\n",
       "                        </div></th><th><div class=\"djtooltip\">\n",
       "                            <p id=\"primary\">electrode_id</p>\n",
       "                            <span class=\"djtooltiptext\">the unique number for this electrode</span>\n",
       "                        </div></th><th><div class=\"djtooltip\">\n",
       "                            <p id=\"nonprimary\">probe_type</p>\n",
       "                            <span class=\"djtooltiptext\"></span>\n",
       "                        </div></th><th><div class=\"djtooltip\">\n",
       "                            <p id=\"nonprimary\">probe_shank</p>\n",
       "                            <span class=\"djtooltiptext\">shank number within probe</span>\n",
       "                        </div></th><th><div class=\"djtooltip\">\n",
       "                            <p id=\"nonprimary\">probe_electrode</p>\n",
       "                            <span class=\"djtooltiptext\">electrode</span>\n",
       "                        </div></th><th><div class=\"djtooltip\">\n",
       "                            <p id=\"nonprimary\">region_id</p>\n",
       "                            <span class=\"djtooltiptext\"></span>\n",
       "                        </div></th><th><div class=\"djtooltip\">\n",
       "                            <p id=\"nonprimary\">name</p>\n",
       "                            <span class=\"djtooltiptext\">unique label for each contact</span>\n",
       "                        </div></th><th><div class=\"djtooltip\">\n",
       "                            <p id=\"nonprimary\">original_reference_electrode</p>\n",
       "                            <span class=\"djtooltiptext\">the configured reference electrode for this electrode</span>\n",
       "                        </div></th><th><div class=\"djtooltip\">\n",
       "                            <p id=\"nonprimary\">x</p>\n",
       "                            <span class=\"djtooltiptext\">the x coordinate of the electrode position in the brain</span>\n",
       "                        </div></th><th><div class=\"djtooltip\">\n",
       "                            <p id=\"nonprimary\">y</p>\n",
       "                            <span class=\"djtooltiptext\">the y coordinate of the electrode position in the brain</span>\n",
       "                        </div></th><th><div class=\"djtooltip\">\n",
       "                            <p id=\"nonprimary\">z</p>\n",
       "                            <span class=\"djtooltiptext\">the z coordinate of the electrode position in the brain</span>\n",
       "                        </div></th><th><div class=\"djtooltip\">\n",
       "                            <p id=\"nonprimary\">filtering</p>\n",
       "                            <span class=\"djtooltiptext\">description of the signal filtering</span>\n",
       "                        </div></th><th><div class=\"djtooltip\">\n",
       "                            <p id=\"nonprimary\">impedance</p>\n",
       "                            <span class=\"djtooltiptext\">electrode impedance</span>\n",
       "                        </div></th><th><div class=\"djtooltip\">\n",
       "                            <p id=\"nonprimary\">bad_channel</p>\n",
       "                            <span class=\"djtooltiptext\">if electrode is \"good\" or \"bad\" as observed during recording</span>\n",
       "                        </div></th><th><div class=\"djtooltip\">\n",
       "                            <p id=\"nonprimary\">x_warped</p>\n",
       "                            <span class=\"djtooltiptext\">x coordinate of electrode position warped to common template brain</span>\n",
       "                        </div></th><th><div class=\"djtooltip\">\n",
       "                            <p id=\"nonprimary\">y_warped</p>\n",
       "                            <span class=\"djtooltiptext\">y coordinate of electrode position warped to common template brain</span>\n",
       "                        </div></th><th><div class=\"djtooltip\">\n",
       "                            <p id=\"nonprimary\">z_warped</p>\n",
       "                            <span class=\"djtooltiptext\">z coordinate of electrode position warped to common template brain</span>\n",
       "                        </div></th><th><div class=\"djtooltip\">\n",
       "                            <p id=\"nonprimary\">contacts</p>\n",
       "                            <span class=\"djtooltiptext\">label of electrode contacts used for a bipolar signal - current workaround</span>\n",
       "                        </div> </th> </tr> </thead>\n",
       "            <tbody> <tr> <td>molly20220419_.nwb</td>\n",
       "<td>0</td>\n",
       "<td>0</td>\n",
       "<td>tetrode_12.5</td>\n",
       "<td>0</td>\n",
       "<td>0</td>\n",
       "<td>19</td>\n",
       "<td>0</td>\n",
       "<td>64</td>\n",
       "<td>0.0</td>\n",
       "<td>0.0</td>\n",
       "<td>0.0</td>\n",
       "<td>None</td>\n",
       "<td>0.0</td>\n",
       "<td>False</td>\n",
       "<td>0.0</td>\n",
       "<td>0.0</td>\n",
       "<td>0.0</td>\n",
       "<td></td></tr><tr><td>molly20220419_.nwb</td>\n",
       "<td>0</td>\n",
       "<td>1</td>\n",
       "<td>tetrode_12.5</td>\n",
       "<td>0</td>\n",
       "<td>1</td>\n",
       "<td>19</td>\n",
       "<td>1</td>\n",
       "<td>64</td>\n",
       "<td>0.0</td>\n",
       "<td>0.0</td>\n",
       "<td>0.0</td>\n",
       "<td>None</td>\n",
       "<td>0.0</td>\n",
       "<td>False</td>\n",
       "<td>0.0</td>\n",
       "<td>0.0</td>\n",
       "<td>0.0</td>\n",
       "<td></td></tr><tr><td>molly20220419_.nwb</td>\n",
       "<td>0</td>\n",
       "<td>2</td>\n",
       "<td>tetrode_12.5</td>\n",
       "<td>0</td>\n",
       "<td>2</td>\n",
       "<td>19</td>\n",
       "<td>2</td>\n",
       "<td>64</td>\n",
       "<td>0.0</td>\n",
       "<td>0.0</td>\n",
       "<td>0.0</td>\n",
       "<td>None</td>\n",
       "<td>0.0</td>\n",
       "<td>False</td>\n",
       "<td>0.0</td>\n",
       "<td>0.0</td>\n",
       "<td>0.0</td>\n",
       "<td></td></tr><tr><td>molly20220419_.nwb</td>\n",
       "<td>0</td>\n",
       "<td>3</td>\n",
       "<td>tetrode_12.5</td>\n",
       "<td>0</td>\n",
       "<td>3</td>\n",
       "<td>19</td>\n",
       "<td>3</td>\n",
       "<td>64</td>\n",
       "<td>0.0</td>\n",
       "<td>0.0</td>\n",
       "<td>0.0</td>\n",
       "<td>None</td>\n",
       "<td>0.0</td>\n",
       "<td>False</td>\n",
       "<td>0.0</td>\n",
       "<td>0.0</td>\n",
       "<td>0.0</td>\n",
       "<td></td></tr><tr><td>molly20220419_.nwb</td>\n",
       "<td>1</td>\n",
       "<td>4</td>\n",
       "<td>tetrode_12.5</td>\n",
       "<td>0</td>\n",
       "<td>0</td>\n",
       "<td>19</td>\n",
       "<td>4</td>\n",
       "<td>64</td>\n",
       "<td>0.0</td>\n",
       "<td>0.0</td>\n",
       "<td>0.0</td>\n",
       "<td>None</td>\n",
       "<td>0.0</td>\n",
       "<td>False</td>\n",
       "<td>0.0</td>\n",
       "<td>0.0</td>\n",
       "<td>0.0</td>\n",
       "<td></td></tr><tr><td>molly20220419_.nwb</td>\n",
       "<td>1</td>\n",
       "<td>5</td>\n",
       "<td>tetrode_12.5</td>\n",
       "<td>0</td>\n",
       "<td>1</td>\n",
       "<td>19</td>\n",
       "<td>5</td>\n",
       "<td>64</td>\n",
       "<td>0.0</td>\n",
       "<td>0.0</td>\n",
       "<td>0.0</td>\n",
       "<td>None</td>\n",
       "<td>0.0</td>\n",
       "<td>False</td>\n",
       "<td>0.0</td>\n",
       "<td>0.0</td>\n",
       "<td>0.0</td>\n",
       "<td></td></tr><tr><td>molly20220419_.nwb</td>\n",
       "<td>1</td>\n",
       "<td>6</td>\n",
       "<td>tetrode_12.5</td>\n",
       "<td>0</td>\n",
       "<td>2</td>\n",
       "<td>19</td>\n",
       "<td>6</td>\n",
       "<td>64</td>\n",
       "<td>0.0</td>\n",
       "<td>0.0</td>\n",
       "<td>0.0</td>\n",
       "<td>None</td>\n",
       "<td>0.0</td>\n",
       "<td>False</td>\n",
       "<td>0.0</td>\n",
       "<td>0.0</td>\n",
       "<td>0.0</td>\n",
       "<td></td></tr><tr><td>molly20220419_.nwb</td>\n",
       "<td>1</td>\n",
       "<td>7</td>\n",
       "<td>tetrode_12.5</td>\n",
       "<td>0</td>\n",
       "<td>3</td>\n",
       "<td>19</td>\n",
       "<td>7</td>\n",
       "<td>64</td>\n",
       "<td>0.0</td>\n",
       "<td>0.0</td>\n",
       "<td>0.0</td>\n",
       "<td>None</td>\n",
       "<td>0.0</td>\n",
       "<td>False</td>\n",
       "<td>0.0</td>\n",
       "<td>0.0</td>\n",
       "<td>0.0</td>\n",
       "<td></td></tr><tr><td>molly20220419_.nwb</td>\n",
       "<td>10</td>\n",
       "<td>40</td>\n",
       "<td>tetrode_12.5</td>\n",
       "<td>0</td>\n",
       "<td>0</td>\n",
       "<td>19</td>\n",
       "<td>40</td>\n",
       "<td>64</td>\n",
       "<td>0.0</td>\n",
       "<td>0.0</td>\n",
       "<td>0.0</td>\n",
       "<td>None</td>\n",
       "<td>0.0</td>\n",
       "<td>False</td>\n",
       "<td>0.0</td>\n",
       "<td>0.0</td>\n",
       "<td>0.0</td>\n",
       "<td></td></tr><tr><td>molly20220419_.nwb</td>\n",
       "<td>10</td>\n",
       "<td>41</td>\n",
       "<td>tetrode_12.5</td>\n",
       "<td>0</td>\n",
       "<td>1</td>\n",
       "<td>19</td>\n",
       "<td>41</td>\n",
       "<td>64</td>\n",
       "<td>0.0</td>\n",
       "<td>0.0</td>\n",
       "<td>0.0</td>\n",
       "<td>None</td>\n",
       "<td>0.0</td>\n",
       "<td>False</td>\n",
       "<td>0.0</td>\n",
       "<td>0.0</td>\n",
       "<td>0.0</td>\n",
       "<td></td></tr><tr><td>molly20220419_.nwb</td>\n",
       "<td>10</td>\n",
       "<td>42</td>\n",
       "<td>tetrode_12.5</td>\n",
       "<td>0</td>\n",
       "<td>2</td>\n",
       "<td>19</td>\n",
       "<td>42</td>\n",
       "<td>64</td>\n",
       "<td>0.0</td>\n",
       "<td>0.0</td>\n",
       "<td>0.0</td>\n",
       "<td>None</td>\n",
       "<td>0.0</td>\n",
       "<td>False</td>\n",
       "<td>0.0</td>\n",
       "<td>0.0</td>\n",
       "<td>0.0</td>\n",
       "<td></td></tr><tr><td>molly20220419_.nwb</td>\n",
       "<td>10</td>\n",
       "<td>43</td>\n",
       "<td>tetrode_12.5</td>\n",
       "<td>0</td>\n",
       "<td>3</td>\n",
       "<td>19</td>\n",
       "<td>43</td>\n",
       "<td>64</td>\n",
       "<td>0.0</td>\n",
       "<td>0.0</td>\n",
       "<td>0.0</td>\n",
       "<td>None</td>\n",
       "<td>0.0</td>\n",
       "<td>False</td>\n",
       "<td>0.0</td>\n",
       "<td>0.0</td>\n",
       "<td>0.0</td>\n",
       "<td></td> </tr> </tbody>\n",
       "        </table>\n",
       "        <p>...</p>\n",
       "        <p>Total: 256</p></div>\n",
       "        "
      ],
      "text/plain": [
       "*nwb_file_name *electrode_gro *electrode_id  probe_type     probe_shank    probe_electrod region_id     name     original_refer x       y       z       filtering     impedance     bad_channel    x_warped     y_warped     z_warped     contacts    \n",
       "+------------+ +------------+ +------------+ +------------+ +------------+ +------------+ +-----------+ +------+ +------------+ +-----+ +-----+ +-----+ +-----------+ +-----------+ +------------+ +----------+ +----------+ +----------+ +----------+\n",
       "molly20220419_ 0              0              tetrode_12.5   0              0              19            0        64             0.0     0.0     0.0     None          0.0           False          0.0          0.0          0.0                      \n",
       "molly20220419_ 0              1              tetrode_12.5   0              1              19            1        64             0.0     0.0     0.0     None          0.0           False          0.0          0.0          0.0                      \n",
       "molly20220419_ 0              2              tetrode_12.5   0              2              19            2        64             0.0     0.0     0.0     None          0.0           False          0.0          0.0          0.0                      \n",
       "molly20220419_ 0              3              tetrode_12.5   0              3              19            3        64             0.0     0.0     0.0     None          0.0           False          0.0          0.0          0.0                      \n",
       "molly20220419_ 1              4              tetrode_12.5   0              0              19            4        64             0.0     0.0     0.0     None          0.0           False          0.0          0.0          0.0                      \n",
       "molly20220419_ 1              5              tetrode_12.5   0              1              19            5        64             0.0     0.0     0.0     None          0.0           False          0.0          0.0          0.0                      \n",
       "molly20220419_ 1              6              tetrode_12.5   0              2              19            6        64             0.0     0.0     0.0     None          0.0           False          0.0          0.0          0.0                      \n",
       "molly20220419_ 1              7              tetrode_12.5   0              3              19            7        64             0.0     0.0     0.0     None          0.0           False          0.0          0.0          0.0                      \n",
       "molly20220419_ 10             40             tetrode_12.5   0              0              19            40       64             0.0     0.0     0.0     None          0.0           False          0.0          0.0          0.0                      \n",
       "molly20220419_ 10             41             tetrode_12.5   0              1              19            41       64             0.0     0.0     0.0     None          0.0           False          0.0          0.0          0.0                      \n",
       "molly20220419_ 10             42             tetrode_12.5   0              2              19            42       64             0.0     0.0     0.0     None          0.0           False          0.0          0.0          0.0                      \n",
       "molly20220419_ 10             43             tetrode_12.5   0              3              19            43       64             0.0     0.0     0.0     None          0.0           False          0.0          0.0          0.0                      \n",
       "   ...\n",
       " (Total: 256)"
      ]
     },
     "execution_count": 137,
     "metadata": {},
     "output_type": "execute_result"
    }
   ],
   "source": [
    "Electrode() & {'nwb_file_name' : nwb_copy_file_name}"
   ]
  },
  {
   "cell_type": "code",
   "execution_count": 138,
   "id": "8defa56f-c895-463c-b2dd-f9c49c0217e2",
   "metadata": {},
   "outputs": [],
   "source": [
    "# find tetrodes\n",
    "groups_with_cell=(SpikeSortingRecordingSelection & {'nwb_file_name' : nwb_copy_file_name}).fetch('sort_group_id')\n",
    "groups_with_cell\n",
    "groups_with_cell=np.setdiff1d(groups_with_cell,[100,101])\n",
    "\n",
    "# find electrodes and the corresponding reference_electrode\n",
    "electrodes=[]\n",
    "electrodes_ref=[]\n",
    "for e in groups_with_cell:\n",
    "    key=(Electrode() & {'nwb_file_name' : nwb_copy_file_name} &{'electrode_group_name' : e})\n",
    "    electrodes_=key.fetch('electrode_id')\n",
    "    electrodes_ref_=key.fetch('original_reference_electrode')\n",
    "    \n",
    "    if len(electrodes_)>0:\n",
    "        electrodes.append(electrodes_)\n",
    "        electrodes_ref.append(electrodes_ref_)\n",
    "        \n",
    "electrodes=np.concatenate(electrodes)\n",
    "electrodes_ref=np.concatenate(electrodes_ref)\n",
    "\n",
    "electrodes=np.concatenate([electrodes,np.unique(electrodes_ref)])\n",
    "electrodes_ref=np.concatenate([electrodes_ref,np.unique(electrodes_ref)])"
   ]
  },
  {
   "cell_type": "code",
   "execution_count": 139,
   "id": "c4e240db-6f45-46a7-b2d8-e07cf55e526a",
   "metadata": {},
   "outputs": [
    {
     "data": {
      "text/plain": [
       "array([  0,   1,   2,   3,   8,   9,  10,  11,  12,  13,  14,  15,  24,\n",
       "        25,  26,  27,  28,  29,  30,  31,  36,  37,  38,  39,  40,  41,\n",
       "        42,  43,  48,  49,  50,  51,  60,  61,  62,  63,  68,  69,  70,\n",
       "        71,  72,  73,  74,  75,  80,  81,  82,  83,  96,  97,  98,  99,\n",
       "       100, 101, 102, 103, 108, 109, 110, 111, 136, 137, 138, 139, 140,\n",
       "       141, 142, 143, 148, 149, 150, 151, 156, 157, 158, 159, 160, 161,\n",
       "       162, 163, 164, 165, 166, 167, 184, 185, 186, 187, 200, 201, 202,\n",
       "       203, 208, 209, 210, 211, 212, 213, 214, 215, 220, 221, 222, 223,\n",
       "       224, 225, 226, 227, 240, 241, 242, 243, 244, 245, 246, 247,  64,\n",
       "       193])"
      ]
     },
     "execution_count": 139,
     "metadata": {},
     "output_type": "execute_result"
    }
   ],
   "source": [
    "electrodes"
   ]
  },
  {
   "cell_type": "code",
   "execution_count": 140,
   "id": "25ee288a-da40-4c6e-a935-683f445aaa26",
   "metadata": {},
   "outputs": [
    {
     "data": {
      "text/plain": [
       "array([ 64,  64,  64,  64,  64,  64,  64,  64,  64,  64,  64,  64,  64,\n",
       "        64,  64,  64,  64,  64,  64,  64,  64,  64,  64,  64,  64,  64,\n",
       "        64,  64,  64,  64,  64,  64,  64,  64,  64,  64,  64,  64,  64,\n",
       "        64,  64,  64,  64,  64,  64,  64,  64,  64,  64,  64,  64,  64,\n",
       "        64,  64,  64,  64,  64,  64,  64,  64, 193, 193, 193, 193, 193,\n",
       "       193, 193, 193, 193, 193, 193, 193, 193, 193, 193, 193, 193, 193,\n",
       "       193, 193, 193, 193, 193, 193, 193, 193, 193, 193, 193, 193, 193,\n",
       "       193, 193, 193, 193, 193, 193, 193, 193, 193, 193, 193, 193, 193,\n",
       "       193, 193, 193, 193, 193, 193, 193, 193, 193, 193, 193, 193,  64,\n",
       "       193])"
      ]
     },
     "execution_count": 140,
     "metadata": {},
     "output_type": "execute_result"
    }
   ],
   "source": [
    "electrodes_ref"
   ]
  },
  {
   "cell_type": "code",
   "execution_count": 141,
   "id": "4e0990d0-aa14-4b3a-ba42-5ef28a73afc7",
   "metadata": {},
   "outputs": [
    {
     "name": "stdout",
     "output_type": "stream",
     "text": [
      "Deleting 1 rows from `common_ephys`.`_l_f_p`\n",
      "Deleting 118 rows from `common_ephys`.`l_f_p_selection__l_f_p_electrode`\n",
      "Deleting 1 rows from `common_ephys`.`l_f_p_selection`\n"
     ]
    },
    {
     "name": "stdin",
     "output_type": "stream",
     "text": [
      "Commit deletes? [yes, No]:  No\n"
     ]
    },
    {
     "name": "stdout",
     "output_type": "stream",
     "text": [
      "Deletes cancelled\n"
     ]
    }
   ],
   "source": [
    "LFPSelection().set_lfp_electrodes(nwb_copy_file_name, electrodes.tolist())"
   ]
  },
  {
   "cell_type": "code",
   "execution_count": 116,
   "id": "46b0493b-a7c1-4e72-8054-28dc38b06ef9",
   "metadata": {},
   "outputs": [
    {
     "data": {
      "text/html": [
       "\n",
       "    \n",
       "    <style type=\"text/css\">\n",
       "        .Relation{\n",
       "            border-collapse:collapse;\n",
       "        }\n",
       "        .Relation th{\n",
       "            background: #A0A0A0; color: #ffffff; padding:4px; border:#f0e0e0 1px solid;\n",
       "            font-weight: normal; font-family: monospace; font-size: 100%;\n",
       "        }\n",
       "        .Relation td{\n",
       "            padding:4px; border:#f0e0e0 1px solid; font-size:100%;\n",
       "        }\n",
       "        .Relation tr:nth-child(odd){\n",
       "            background: #ffffff;\n",
       "        }\n",
       "        .Relation tr:nth-child(even){\n",
       "            background: #f3f1ff;\n",
       "        }\n",
       "        /* Tooltip container */\n",
       "        .djtooltip {\n",
       "        }\n",
       "        /* Tooltip text */\n",
       "        .djtooltip .djtooltiptext {\n",
       "            visibility: hidden;\n",
       "            width: 120px;\n",
       "            background-color: black;\n",
       "            color: #fff;\n",
       "            text-align: center;\n",
       "            padding: 5px 0;\n",
       "            border-radius: 6px;\n",
       "            /* Position the tooltip text - see examples below! */\n",
       "            position: absolute;\n",
       "            z-index: 1;\n",
       "        }\n",
       "        #primary {\n",
       "            font-weight: bold;\n",
       "            color: black;\n",
       "        }\n",
       "        #nonprimary {\n",
       "            font-weight: normal;\n",
       "            color: white;\n",
       "        }\n",
       "\n",
       "        /* Show the tooltip text when you mouse over the tooltip container */\n",
       "        .djtooltip:hover .djtooltiptext {\n",
       "            visibility: visible;\n",
       "        }\n",
       "    </style>\n",
       "    \n",
       "    <b></b>\n",
       "        <div style=\"max-height:1000px;max-width:1500px;overflow:auto;\">\n",
       "        <table border=\"1\" class=\"Relation\">\n",
       "            <thead> <tr style=\"text-align: right;\"> <th> <div class=\"djtooltip\">\n",
       "                            <p id=\"primary\">nwb_file_name</p>\n",
       "                            <span class=\"djtooltiptext\">name of the NWB file</span>\n",
       "                        </div></th><th><div class=\"djtooltip\">\n",
       "                            <p id=\"primary\">electrode_group_name</p>\n",
       "                            <span class=\"djtooltiptext\">electrode group name from NWBFile</span>\n",
       "                        </div></th><th><div class=\"djtooltip\">\n",
       "                            <p id=\"primary\">electrode_id</p>\n",
       "                            <span class=\"djtooltiptext\">the unique number for this electrode</span>\n",
       "                        </div> </th> </tr> </thead>\n",
       "            <tbody> <tr> <td>molly20220419_.nwb</td>\n",
       "<td>0</td>\n",
       "<td>0</td></tr><tr><td>molly20220419_.nwb</td>\n",
       "<td>0</td>\n",
       "<td>1</td></tr><tr><td>molly20220419_.nwb</td>\n",
       "<td>0</td>\n",
       "<td>2</td></tr><tr><td>molly20220419_.nwb</td>\n",
       "<td>0</td>\n",
       "<td>3</td></tr><tr><td>molly20220419_.nwb</td>\n",
       "<td>10</td>\n",
       "<td>40</td></tr><tr><td>molly20220419_.nwb</td>\n",
       "<td>10</td>\n",
       "<td>41</td></tr><tr><td>molly20220419_.nwb</td>\n",
       "<td>10</td>\n",
       "<td>42</td></tr><tr><td>molly20220419_.nwb</td>\n",
       "<td>10</td>\n",
       "<td>43</td></tr><tr><td>molly20220419_.nwb</td>\n",
       "<td>12</td>\n",
       "<td>48</td></tr><tr><td>molly20220419_.nwb</td>\n",
       "<td>12</td>\n",
       "<td>49</td></tr><tr><td>molly20220419_.nwb</td>\n",
       "<td>12</td>\n",
       "<td>50</td></tr><tr><td>molly20220419_.nwb</td>\n",
       "<td>12</td>\n",
       "<td>51</td> </tr> </tbody>\n",
       "        </table>\n",
       "        <p>...</p>\n",
       "        <p>Total: 118</p></div>\n",
       "        "
      ],
      "text/plain": [
       "*nwb_file_name *electrode_gro *electrode_id \n",
       "+------------+ +------------+ +------------+\n",
       "molly20220419_ 0              0             \n",
       "molly20220419_ 0              1             \n",
       "molly20220419_ 0              2             \n",
       "molly20220419_ 0              3             \n",
       "molly20220419_ 10             40            \n",
       "molly20220419_ 10             41            \n",
       "molly20220419_ 10             42            \n",
       "molly20220419_ 10             43            \n",
       "molly20220419_ 12             48            \n",
       "molly20220419_ 12             49            \n",
       "molly20220419_ 12             50            \n",
       "molly20220419_ 12             51            \n",
       "   ...\n",
       " (Total: 118)"
      ]
     },
     "execution_count": 116,
     "metadata": {},
     "output_type": "execute_result"
    }
   ],
   "source": [
    "LFPSelection().LFPElectrode() & {'nwb_file_name' : nwb_copy_file_name}"
   ]
  },
  {
   "cell_type": "markdown",
   "id": "ed3039cf-1341-4b36-a464-ba07a6fa1f42",
   "metadata": {},
   "source": [
    "#### 2. do standard low pass filter"
   ]
  },
  {
   "cell_type": "code",
   "execution_count": 60,
   "id": "8ebee12c-4c28-4333-8eb6-042ee084bd83",
   "metadata": {},
   "outputs": [],
   "source": [
    "#(LFP() & {'nwb_file_name':nwb_copy_file_name}).delete()"
   ]
  },
  {
   "cell_type": "code",
   "execution_count": 144,
   "id": "ca9da8fc-0b79-46c9-a152-1f553e357414",
   "metadata": {},
   "outputs": [],
   "source": [
    "LFP().populate({'nwb_file_name':nwb_copy_file_name})"
   ]
  },
  {
   "cell_type": "code",
   "execution_count": 145,
   "id": "024b2564-408a-43d1-9bd7-f0153b90aff6",
   "metadata": {},
   "outputs": [
    {
     "name": "stdout",
     "output_type": "stream",
     "text": [
      "here\n"
     ]
    }
   ],
   "source": [
    "print('here')"
   ]
  },
  {
   "cell_type": "code",
   "execution_count": 146,
   "id": "a2147807-bc0a-4f49-9430-784a5499ff4b",
   "metadata": {},
   "outputs": [
    {
     "data": {
      "text/html": [
       "\n",
       "    \n",
       "    <style type=\"text/css\">\n",
       "        .Relation{\n",
       "            border-collapse:collapse;\n",
       "        }\n",
       "        .Relation th{\n",
       "            background: #A0A0A0; color: #ffffff; padding:4px; border:#f0e0e0 1px solid;\n",
       "            font-weight: normal; font-family: monospace; font-size: 100%;\n",
       "        }\n",
       "        .Relation td{\n",
       "            padding:4px; border:#f0e0e0 1px solid; font-size:100%;\n",
       "        }\n",
       "        .Relation tr:nth-child(odd){\n",
       "            background: #ffffff;\n",
       "        }\n",
       "        .Relation tr:nth-child(even){\n",
       "            background: #f3f1ff;\n",
       "        }\n",
       "        /* Tooltip container */\n",
       "        .djtooltip {\n",
       "        }\n",
       "        /* Tooltip text */\n",
       "        .djtooltip .djtooltiptext {\n",
       "            visibility: hidden;\n",
       "            width: 120px;\n",
       "            background-color: black;\n",
       "            color: #fff;\n",
       "            text-align: center;\n",
       "            padding: 5px 0;\n",
       "            border-radius: 6px;\n",
       "            /* Position the tooltip text - see examples below! */\n",
       "            position: absolute;\n",
       "            z-index: 1;\n",
       "        }\n",
       "        #primary {\n",
       "            font-weight: bold;\n",
       "            color: black;\n",
       "        }\n",
       "        #nonprimary {\n",
       "            font-weight: normal;\n",
       "            color: white;\n",
       "        }\n",
       "\n",
       "        /* Show the tooltip text when you mouse over the tooltip container */\n",
       "        .djtooltip:hover .djtooltiptext {\n",
       "            visibility: visible;\n",
       "        }\n",
       "    </style>\n",
       "    \n",
       "    <b></b>\n",
       "        <div style=\"max-height:1000px;max-width:1500px;overflow:auto;\">\n",
       "        <table border=\"1\" class=\"Relation\">\n",
       "            <thead> <tr style=\"text-align: right;\"> <th> <div class=\"djtooltip\">\n",
       "                            <p id=\"primary\">nwb_file_name</p>\n",
       "                            <span class=\"djtooltiptext\">name of the NWB file</span>\n",
       "                        </div></th><th><div class=\"djtooltip\">\n",
       "                            <p id=\"nonprimary\">interval_list_name</p>\n",
       "                            <span class=\"djtooltiptext\">descriptive name of this interval list</span>\n",
       "                        </div></th><th><div class=\"djtooltip\">\n",
       "                            <p id=\"nonprimary\">filter_name</p>\n",
       "                            <span class=\"djtooltiptext\">descriptive name of this filter</span>\n",
       "                        </div></th><th><div class=\"djtooltip\">\n",
       "                            <p id=\"nonprimary\">filter_sampling_rate</p>\n",
       "                            <span class=\"djtooltiptext\">sampling rate for this filter</span>\n",
       "                        </div></th><th><div class=\"djtooltip\">\n",
       "                            <p id=\"nonprimary\">analysis_file_name</p>\n",
       "                            <span class=\"djtooltiptext\">name of the file</span>\n",
       "                        </div></th><th><div class=\"djtooltip\">\n",
       "                            <p id=\"nonprimary\">lfp_object_id</p>\n",
       "                            <span class=\"djtooltiptext\">the NWB object ID for loading this object from the file</span>\n",
       "                        </div></th><th><div class=\"djtooltip\">\n",
       "                            <p id=\"nonprimary\">lfp_sampling_rate</p>\n",
       "                            <span class=\"djtooltiptext\">the sampling rate, in HZ</span>\n",
       "                        </div> </th> </tr> </thead>\n",
       "            <tbody> <tr> <td>molly20220419_.nwb</td>\n",
       "<td>lfp valid times</td>\n",
       "<td>LFP 0-400 Hz</td>\n",
       "<td>30000</td>\n",
       "<td>molly20220419_I0PIENDFLE.nwb</td>\n",
       "<td>17257d81-ff4a-470a-bd5b-26387a6f822d</td>\n",
       "<td>1000.0</td> </tr> </tbody>\n",
       "        </table>\n",
       "        \n",
       "        <p>Total: 1</p></div>\n",
       "        "
      ],
      "text/plain": [
       "*nwb_file_name interval_list_ filter_name    filter_samplin analysis_file_ lfp_object_id  lfp_sampling_r\n",
       "+------------+ +------------+ +------------+ +------------+ +------------+ +------------+ +------------+\n",
       "molly20220419_ lfp valid time LFP 0-400 Hz   30000          molly20220419_ 17257d81-ff4a- 1000.0        \n",
       " (Total: 1)"
      ]
     },
     "execution_count": 146,
     "metadata": {},
     "output_type": "execute_result"
    }
   ],
   "source": [
    "LFP & {'nwb_file_name':nwb_copy_file_name}"
   ]
  },
  {
   "cell_type": "markdown",
   "id": "1473eafc-48cd-4fe6-9971-ba2870c54008",
   "metadata": {},
   "source": [
    "#### 3. do theta/ripple band filter"
   ]
  },
  {
   "cell_type": "code",
   "execution_count": 147,
   "id": "03cad9d4-c036-4826-8011-641c3ffcaf00",
   "metadata": {},
   "outputs": [
    {
     "data": {
      "text/plain": [
       "['02_Seq2Session1',\n",
       " '04_Seq2Session2',\n",
       " '06_Seq2Session3',\n",
       " '08_Seq2Session4',\n",
       " '10_Seq2Session5']"
      ]
     },
     "execution_count": 147,
     "metadata": {},
     "output_type": "execute_result"
    }
   ],
   "source": [
    "IntervalList_pd=pd.DataFrame(IntervalList &\n",
    "             {'nwb_file_name': nwb_copy_file_name})\n",
    "\n",
    "# select position timestamps, only those on the track are selected\n",
    "session_interval=[]\n",
    "for i in IntervalList_pd.index:\n",
    "    interval=IntervalList_pd['interval_list_name'][i]\n",
    "    if interval[-8:-1]=='Session':\n",
    "        session_interval.append(interval)\n",
    "session_interval"
   ]
  },
  {
   "cell_type": "code",
   "execution_count": 148,
   "id": "c9601e87-4cb9-4280-9c58-e6b1a5c1ec92",
   "metadata": {},
   "outputs": [
    {
     "name": "stdout",
     "output_type": "stream",
     "text": [
      "02_Seq2Session1\n",
      "about to set lfp\n",
      "04_Seq2Session2\n",
      "about to set lfp\n",
      "06_Seq2Session3\n",
      "about to set lfp\n",
      "08_Seq2Session4\n",
      "about to set lfp\n",
      "10_Seq2Session5\n",
      "about to set lfp\n"
     ]
    }
   ],
   "source": [
    "for intv_list_name in session_interval:\n",
    "    print(intv_list_name)\n",
    "    filter_name='Ripple 150-250 Hz'\n",
    "    interval_list_name=intv_list_name #'02_Seq2Session1'\n",
    "    lfp_band_sampling_rate= (FirFilter() & {'filter_name':'Ripple 150-250 Hz'}).fetch1('filter_sampling_rate')\n",
    "\n",
    "    '''\n",
    "    # for one electrode\n",
    "    electrodes=(LFPSelection().LFPElectrode() & {'nwb_file_name':nwb_copy_file_name,'electrode_group_name' : 3}).fetch('electrode_id')\n",
    "    ref_elect=[electrodes_ref[0]]\n",
    "    LFPBandSelection().set_lfp_band_electrodes(nwb_copy_file_name, [electrodes[0]], \n",
    "                                               filter_name,\n",
    "                                               interval_list_name, ref_elect, lfp_band_sampling_rate)\n",
    "    '''\n",
    "\n",
    "    # for all electrodes\n",
    "    elect=electrodes.tolist()\n",
    "    ref_elect=electrodes_ref.tolist()\n",
    "    \n",
    "    print('about to set lfp')\n",
    "    \n",
    "    lfp_band_sampling_rate= (FirFilter() & {'filter_name':'Ripple 150-250 Hz'}).fetch1('filter_sampling_rate')\n",
    "    LFPBandSelection().set_lfp_band_electrodes(nwb_copy_file_name, elect, \n",
    "                                               filter_name,\n",
    "                                               interval_list_name, ref_elect, lfp_band_sampling_rate)\n"
   ]
  },
  {
   "cell_type": "code",
   "execution_count": 149,
   "id": "8e685351-802a-4f50-bf98-05b85c5a4561",
   "metadata": {},
   "outputs": [
    {
     "name": "stdout",
     "output_type": "stream",
     "text": [
      "Writing new NWB file molly20220419_PUOS5DDBKV.nwb\n",
      "Interval stop time 1650389602.3813853 is larger than last timestamp 1650389602.3810854, using last timestamp instead\n",
      "Writing new NWB file molly20220419_U0S1TLV0Y4.nwb\n",
      "Interval stop time 1650393486.2819498 is larger than last timestamp 1650393486.281285, using last timestamp instead\n",
      "Writing new NWB file molly20220419_DKQ31B06GH.nwb\n",
      "Interval stop time 1650397617.8809576 is larger than last timestamp 1650397617.88027, using last timestamp instead\n",
      "Writing new NWB file molly20220419_AUBGXH72YY.nwb\n",
      "Interval stop time 1650401781.981104 is larger than last timestamp 1650401781.9805706, using last timestamp instead\n",
      "Writing new NWB file molly20220419_CYRZBOT17T.nwb\n",
      "Interval stop time 1650406791.281688 is larger than last timestamp 1650406791.2808547, using last timestamp instead\n"
     ]
    }
   ],
   "source": [
    "LFPBand().populate(LFPBandSelection() & {'nwb_file_name' : nwb_copy_file_name})"
   ]
  },
  {
   "cell_type": "code",
   "execution_count": 151,
   "id": "001beac3-8276-4e4a-b173-a8f1c794d791",
   "metadata": {},
   "outputs": [
    {
     "data": {
      "text/html": [
       "\n",
       "    \n",
       "    <style type=\"text/css\">\n",
       "        .Relation{\n",
       "            border-collapse:collapse;\n",
       "        }\n",
       "        .Relation th{\n",
       "            background: #A0A0A0; color: #ffffff; padding:4px; border:#f0e0e0 1px solid;\n",
       "            font-weight: normal; font-family: monospace; font-size: 100%;\n",
       "        }\n",
       "        .Relation td{\n",
       "            padding:4px; border:#f0e0e0 1px solid; font-size:100%;\n",
       "        }\n",
       "        .Relation tr:nth-child(odd){\n",
       "            background: #ffffff;\n",
       "        }\n",
       "        .Relation tr:nth-child(even){\n",
       "            background: #f3f1ff;\n",
       "        }\n",
       "        /* Tooltip container */\n",
       "        .djtooltip {\n",
       "        }\n",
       "        /* Tooltip text */\n",
       "        .djtooltip .djtooltiptext {\n",
       "            visibility: hidden;\n",
       "            width: 120px;\n",
       "            background-color: black;\n",
       "            color: #fff;\n",
       "            text-align: center;\n",
       "            padding: 5px 0;\n",
       "            border-radius: 6px;\n",
       "            /* Position the tooltip text - see examples below! */\n",
       "            position: absolute;\n",
       "            z-index: 1;\n",
       "        }\n",
       "        #primary {\n",
       "            font-weight: bold;\n",
       "            color: black;\n",
       "        }\n",
       "        #nonprimary {\n",
       "            font-weight: normal;\n",
       "            color: white;\n",
       "        }\n",
       "\n",
       "        /* Show the tooltip text when you mouse over the tooltip container */\n",
       "        .djtooltip:hover .djtooltiptext {\n",
       "            visibility: visible;\n",
       "        }\n",
       "    </style>\n",
       "    \n",
       "    <b></b>\n",
       "        <div style=\"max-height:1000px;max-width:1500px;overflow:auto;\">\n",
       "        <table border=\"1\" class=\"Relation\">\n",
       "            <thead> <tr style=\"text-align: right;\"> <th> <div class=\"djtooltip\">\n",
       "                            <p id=\"primary\">nwb_file_name</p>\n",
       "                            <span class=\"djtooltiptext\">name of the NWB file</span>\n",
       "                        </div></th><th><div class=\"djtooltip\">\n",
       "                            <p id=\"primary\">filter_name</p>\n",
       "                            <span class=\"djtooltiptext\">descriptive name of this filter</span>\n",
       "                        </div></th><th><div class=\"djtooltip\">\n",
       "                            <p id=\"primary\">filter_sampling_rate</p>\n",
       "                            <span class=\"djtooltiptext\">sampling rate for this filter</span>\n",
       "                        </div></th><th><div class=\"djtooltip\">\n",
       "                            <p id=\"primary\">target_interval_list_name</p>\n",
       "                            <span class=\"djtooltiptext\">descriptive name of this interval list</span>\n",
       "                        </div></th><th><div class=\"djtooltip\">\n",
       "                            <p id=\"primary\">lfp_band_sampling_rate</p>\n",
       "                            <span class=\"djtooltiptext\">the sampling rate for this band</span>\n",
       "                        </div></th><th><div class=\"djtooltip\">\n",
       "                            <p id=\"nonprimary\">analysis_file_name</p>\n",
       "                            <span class=\"djtooltiptext\">name of the file</span>\n",
       "                        </div></th><th><div class=\"djtooltip\">\n",
       "                            <p id=\"nonprimary\">interval_list_name</p>\n",
       "                            <span class=\"djtooltiptext\">descriptive name of this interval list</span>\n",
       "                        </div></th><th><div class=\"djtooltip\">\n",
       "                            <p id=\"nonprimary\">filtered_data_object_id</p>\n",
       "                            <span class=\"djtooltiptext\">the NWB object ID for loading this object from the file</span>\n",
       "                        </div> </th> </tr> </thead>\n",
       "            <tbody> <tr> <td>molly20220419_.nwb</td>\n",
       "<td>Ripple 150-250 Hz</td>\n",
       "<td>1000</td>\n",
       "<td>02_Seq2Session1</td>\n",
       "<td>1000</td>\n",
       "<td>molly20220419_PUOS5DDBKV.nwb</td>\n",
       "<td>02_Seq2Session1 lfp band 1000Hz</td>\n",
       "<td>55bd39f8-b2aa-4263-9f64-df2cb9a751e5</td></tr><tr><td>molly20220419_.nwb</td>\n",
       "<td>Ripple 150-250 Hz</td>\n",
       "<td>1000</td>\n",
       "<td>04_Seq2Session2</td>\n",
       "<td>1000</td>\n",
       "<td>molly20220419_U0S1TLV0Y4.nwb</td>\n",
       "<td>04_Seq2Session2 lfp band 1000Hz</td>\n",
       "<td>72a533fa-af9a-4900-8f37-cf2dd2c6b842</td></tr><tr><td>molly20220419_.nwb</td>\n",
       "<td>Ripple 150-250 Hz</td>\n",
       "<td>1000</td>\n",
       "<td>06_Seq2Session3</td>\n",
       "<td>1000</td>\n",
       "<td>molly20220419_DKQ31B06GH.nwb</td>\n",
       "<td>06_Seq2Session3 lfp band 1000Hz</td>\n",
       "<td>ad7af8c9-0514-4807-9afb-a911794e6c5e</td></tr><tr><td>molly20220419_.nwb</td>\n",
       "<td>Ripple 150-250 Hz</td>\n",
       "<td>1000</td>\n",
       "<td>08_Seq2Session4</td>\n",
       "<td>1000</td>\n",
       "<td>molly20220419_AUBGXH72YY.nwb</td>\n",
       "<td>08_Seq2Session4 lfp band 1000Hz</td>\n",
       "<td>bfbab9af-6b23-44e2-b460-a78efbb17c04</td></tr><tr><td>molly20220419_.nwb</td>\n",
       "<td>Ripple 150-250 Hz</td>\n",
       "<td>1000</td>\n",
       "<td>10_Seq2Session5</td>\n",
       "<td>1000</td>\n",
       "<td>molly20220419_CYRZBOT17T.nwb</td>\n",
       "<td>10_Seq2Session5 lfp band 1000Hz</td>\n",
       "<td>3acbe612-0b45-4d49-9150-f0f902e442a4</td> </tr> </tbody>\n",
       "        </table>\n",
       "        \n",
       "        <p>Total: 5</p></div>\n",
       "        "
      ],
      "text/plain": [
       "*nwb_file_name *filter_name   *filter_sampli *target_interv *lfp_band_samp analysis_file_ interval_list_ filtered_data_\n",
       "+------------+ +------------+ +------------+ +------------+ +------------+ +------------+ +------------+ +------------+\n",
       "molly20220419_ Ripple 150-250 1000           02_Seq2Session 1000           molly20220419_ 02_Seq2Session 55bd39f8-b2aa-\n",
       "molly20220419_ Ripple 150-250 1000           04_Seq2Session 1000           molly20220419_ 04_Seq2Session 72a533fa-af9a-\n",
       "molly20220419_ Ripple 150-250 1000           06_Seq2Session 1000           molly20220419_ 06_Seq2Session ad7af8c9-0514-\n",
       "molly20220419_ Ripple 150-250 1000           08_Seq2Session 1000           molly20220419_ 08_Seq2Session bfbab9af-6b23-\n",
       "molly20220419_ Ripple 150-250 1000           10_Seq2Session 1000           molly20220419_ 10_Seq2Session 3acbe612-0b45-\n",
       " (Total: 5)"
      ]
     },
     "execution_count": 151,
     "metadata": {},
     "output_type": "execute_result"
    }
   ],
   "source": [
    "(LFPBand() & {'nwb_file_name' :nwb_copy_file_name})"
   ]
  },
  {
   "cell_type": "code",
   "execution_count": 49,
   "id": "3ad88f78-6d5e-477d-b636-7c6b548d240b",
   "metadata": {},
   "outputs": [
    {
     "name": "stdout",
     "output_type": "stream",
     "text": [
      "Deleting 1 rows from `common_ephys`.`__l_f_p_band`\n"
     ]
    },
    {
     "name": "stdin",
     "output_type": "stream",
     "text": [
      "Commit deletes? [yes, No]:  yes\n"
     ]
    },
    {
     "name": "stdout",
     "output_type": "stream",
     "text": [
      "Deletes committed.\n"
     ]
    },
    {
     "data": {
      "text/plain": [
       "1"
      ]
     },
     "execution_count": 49,
     "metadata": {},
     "output_type": "execute_result"
    }
   ],
   "source": [
    "#(LFPBand() & {'nwb_file_name' :nwb_copy_file_name,'target_interval_list_name':'04_Seq2Session2'}).delete()"
   ]
  },
  {
   "cell_type": "markdown",
   "id": "a48bbf13-9621-44d7-a241-26f7930bd9d3",
   "metadata": {},
   "source": [
    "## END HERE"
   ]
  },
  {
   "cell_type": "markdown",
   "id": "744c31a4-f82b-47ac-86c6-47616fe240e8",
   "metadata": {},
   "source": [
    "#### filter only \"run sessions\" for now"
   ]
  },
  {
   "cell_type": "code",
   "execution_count": null,
   "id": "82fc34f1-1164-4a2d-8378-59bd1f1152ae",
   "metadata": {},
   "outputs": [],
   "source": []
  },
  {
   "cell_type": "code",
   "execution_count": 16,
   "id": "23e5dca5-61bd-4f8e-ad0c-0337551b96b0",
   "metadata": {},
   "outputs": [
    {
     "data": {
      "text/plain": [
       "['02_Seq2Session1',\n",
       " '04_Seq2Session2',\n",
       " '06_Seq2Session3',\n",
       " '08_Seq2Session4',\n",
       " '10_Seq2Session5',\n",
       " '12_Seq2Session6']"
      ]
     },
     "execution_count": 16,
     "metadata": {},
     "output_type": "execute_result"
    }
   ],
   "source": [
    "session_interval"
   ]
  },
  {
   "cell_type": "code",
   "execution_count": 18,
   "id": "32000633-e27d-4541-8500-3724de0ff262",
   "metadata": {},
   "outputs": [],
   "source": [
    "electrode_keys = (LFPSelection.LFPElectrode & key).fetch('KEY')"
   ]
  },
  {
   "cell_type": "code",
   "execution_count": 40,
   "id": "d481c304-618d-4622-a62f-ab3f2306532c",
   "metadata": {},
   "outputs": [
    {
     "data": {
      "text/html": [
       "\n",
       "    \n",
       "    <style type=\"text/css\">\n",
       "        .Relation{\n",
       "            border-collapse:collapse;\n",
       "        }\n",
       "        .Relation th{\n",
       "            background: #A0A0A0; color: #ffffff; padding:4px; border:#f0e0e0 1px solid;\n",
       "            font-weight: normal; font-family: monospace; font-size: 100%;\n",
       "        }\n",
       "        .Relation td{\n",
       "            padding:4px; border:#f0e0e0 1px solid; font-size:100%;\n",
       "        }\n",
       "        .Relation tr:nth-child(odd){\n",
       "            background: #ffffff;\n",
       "        }\n",
       "        .Relation tr:nth-child(even){\n",
       "            background: #f3f1ff;\n",
       "        }\n",
       "        /* Tooltip container */\n",
       "        .djtooltip {\n",
       "        }\n",
       "        /* Tooltip text */\n",
       "        .djtooltip .djtooltiptext {\n",
       "            visibility: hidden;\n",
       "            width: 120px;\n",
       "            background-color: black;\n",
       "            color: #fff;\n",
       "            text-align: center;\n",
       "            padding: 5px 0;\n",
       "            border-radius: 6px;\n",
       "            /* Position the tooltip text - see examples below! */\n",
       "            position: absolute;\n",
       "            z-index: 1;\n",
       "        }\n",
       "        #primary {\n",
       "            font-weight: bold;\n",
       "            color: black;\n",
       "        }\n",
       "        #nonprimary {\n",
       "            font-weight: normal;\n",
       "            color: white;\n",
       "        }\n",
       "\n",
       "        /* Show the tooltip text when you mouse over the tooltip container */\n",
       "        .djtooltip:hover .djtooltiptext {\n",
       "            visibility: visible;\n",
       "        }\n",
       "    </style>\n",
       "    \n",
       "    <b></b>\n",
       "        <div style=\"max-height:1000px;max-width:1500px;overflow:auto;\">\n",
       "        <table border=\"1\" class=\"Relation\">\n",
       "            <thead> <tr style=\"text-align: right;\"> <th> <div class=\"djtooltip\">\n",
       "                            <p id=\"primary\">nwb_file_name</p>\n",
       "                            <span class=\"djtooltiptext\">name of the NWB file</span>\n",
       "                        </div></th><th><div class=\"djtooltip\">\n",
       "                            <p id=\"nonprimary\">interval_list_name</p>\n",
       "                            <span class=\"djtooltiptext\">descriptive name of this interval list</span>\n",
       "                        </div></th><th><div class=\"djtooltip\">\n",
       "                            <p id=\"nonprimary\">filter_name</p>\n",
       "                            <span class=\"djtooltiptext\">descriptive name of this filter</span>\n",
       "                        </div></th><th><div class=\"djtooltip\">\n",
       "                            <p id=\"nonprimary\">filter_sampling_rate</p>\n",
       "                            <span class=\"djtooltiptext\">sampling rate for this filter</span>\n",
       "                        </div></th><th><div class=\"djtooltip\">\n",
       "                            <p id=\"nonprimary\">analysis_file_name</p>\n",
       "                            <span class=\"djtooltiptext\">name of the file</span>\n",
       "                        </div></th><th><div class=\"djtooltip\">\n",
       "                            <p id=\"nonprimary\">lfp_object_id</p>\n",
       "                            <span class=\"djtooltiptext\">the NWB object ID for loading this object from the file</span>\n",
       "                        </div></th><th><div class=\"djtooltip\">\n",
       "                            <p id=\"nonprimary\">lfp_sampling_rate</p>\n",
       "                            <span class=\"djtooltiptext\">the sampling rate, in HZ</span>\n",
       "                        </div> </th> </tr> </thead>\n",
       "            <tbody> <tr> <td>molly20220415_.nwb</td>\n",
       "<td>lfp valid times</td>\n",
       "<td>LFP 0-400 Hz</td>\n",
       "<td>30000</td>\n",
       "<td>molly20220415_YQD3FYMEG9.nwb</td>\n",
       "<td>2258037c-7d1d-4ec8-a6ae-1067b1fc4ffb</td>\n",
       "<td>1000.0</td> </tr> </tbody>\n",
       "        </table>\n",
       "        \n",
       "        <p>Total: 1</p></div>\n",
       "        "
      ],
      "text/plain": [
       "*nwb_file_name interval_list_ filter_name    filter_samplin analysis_file_ lfp_object_id  lfp_sampling_r\n",
       "+------------+ +------------+ +------------+ +------------+ +------------+ +------------+ +------------+\n",
       "molly20220415_ lfp valid time LFP 0-400 Hz   30000          molly20220415_ 2258037c-7d1d- 1000.0        \n",
       " (Total: 1)"
      ]
     },
     "execution_count": 40,
     "metadata": {},
     "output_type": "execute_result"
    }
   ],
   "source": [
    "LFP()&{'nwb_file_name':nwb_copy_file_name}"
   ]
  },
  {
   "cell_type": "code",
   "execution_count": null,
   "id": "8b69d4f5-64ce-4af7-8130-cda091943397",
   "metadata": {},
   "outputs": [
    {
     "name": "stdout",
     "output_type": "stream",
     "text": [
      "working on tetrode  3\n",
      "interval_list_name  02_Seq2Session1\n"
     ]
    },
    {
     "name": "stderr",
     "output_type": "stream",
     "text": [
      "/home/shijiegu/anaconda3/envs/spyglass/lib/python3.8/site-packages/h5py/_hl/dataset.py:541: DeprecationWarning: Passing None into shape arguments as an alias for () is deprecated.\n",
      "  arr = numpy.ndarray(selection.mshape, dtype=new_dtype)\n",
      "/home/shijiegu/anaconda3/envs/spyglass/lib/python3.8/site-packages/pynwb/base.py:167: UserWarning: Length of data does not match length of timestamps. Your data may be transposed. Time should be on the 0th dimension\n",
      "  warn(\"Length of data does not match length of timestamps. Your data may be transposed. Time should be on \"\n",
      "/home/shijiegu/anaconda3/envs/spyglass/lib/python3.8/site-packages/h5py/_hl/dataset.py:541: DeprecationWarning: Passing None into shape arguments as an alias for () is deprecated.\n",
      "  arr = numpy.ndarray(selection.mshape, dtype=new_dtype)\n"
     ]
    },
    {
     "name": "stdout",
     "output_type": "stream",
     "text": [
      "LFP: found 1 of 1 intervals > 1.0 sec long.\n"
     ]
    },
    {
     "name": "stderr",
     "output_type": "stream",
     "text": [
      "/home/shijiegu/anaconda3/envs/spyglass/lib/python3.8/site-packages/pynwb/base.py:167: UserWarning: Length of data does not match length of timestamps. Your data may be transposed. Time should be on the 0th dimension\n",
      "  warn(\"Length of data does not match length of timestamps. Your data may be transposed. Time should be on \"\n"
     ]
    },
    {
     "name": "stdout",
     "output_type": "stream",
     "text": [
      "Writing new NWB file molly20220416_WDAD096FWC.nwb\n"
     ]
    },
    {
     "name": "stderr",
     "output_type": "stream",
     "text": [
      "/home/shijiegu/anaconda3/envs/spyglass/lib/python3.8/site-packages/h5py/_hl/dataset.py:541: DeprecationWarning: Passing None into shape arguments as an alias for () is deprecated.\n",
      "  arr = numpy.ndarray(selection.mshape, dtype=new_dtype)\n"
     ]
    }
   ],
   "source": [
    "lowpass(selections[0])"
   ]
  },
  {
   "cell_type": "code",
   "execution_count": 13,
   "id": "1cb2fadc-e905-4eb2-977a-79e6f95ddd1c",
   "metadata": {},
   "outputs": [],
   "source": [
    "tetrode_interval_list_name=selections[0]\n",
    "tetrode=tetrode_interval_list_name[0]\n",
    "interval_list_name=tetrode_interval_list_name[1]\n",
    "key={'nwb_file_name':nwb_copy_file_name,'interval_list_name': interval_list_name}"
   ]
  },
  {
   "cell_type": "code",
   "execution_count": null,
   "id": "bd6da964-eaf4-4f20-a1c8-2f78fb0d0fca",
   "metadata": {},
   "outputs": [],
   "source": [
    "LFP() & {'nwb_file_name':nwb_copy_file_name}"
   ]
  },
  {
   "cell_type": "code",
   "execution_count": null,
   "id": "b853466f-82ed-4c3b-bbaa-218d4c0c5946",
   "metadata": {},
   "outputs": [],
   "source": [
    "sampling_rate, interval_list_name = (Raw() & key).fetch1('sampling_rate', 'interval_list_name')"
   ]
  },
  {
   "cell_type": "code",
   "execution_count": null,
   "id": "c8be73e2-3d5b-4b33-83d1-6cdfe6ea4bb8",
   "metadata": {},
   "outputs": [],
   "source": []
  },
  {
   "cell_type": "code",
   "execution_count": null,
   "id": "f1dbe967-aab1-4458-9a7d-9cd9400c2b1c",
   "metadata": {},
   "outputs": [],
   "source": [
    "#LFP().populate([LFPSelection & {'nwb_file_name':nwb_copy_file_name}])"
   ]
  },
  {
   "cell_type": "code",
   "execution_count": 24,
   "id": "3b575966-a79a-4341-9fa9-a306a2ce23da",
   "metadata": {},
   "outputs": [
    {
     "data": {
      "text/html": [
       "\n",
       "    \n",
       "    <style type=\"text/css\">\n",
       "        .Relation{\n",
       "            border-collapse:collapse;\n",
       "        }\n",
       "        .Relation th{\n",
       "            background: #A0A0A0; color: #ffffff; padding:4px; border:#f0e0e0 1px solid;\n",
       "            font-weight: normal; font-family: monospace; font-size: 100%;\n",
       "        }\n",
       "        .Relation td{\n",
       "            padding:4px; border:#f0e0e0 1px solid; font-size:100%;\n",
       "        }\n",
       "        .Relation tr:nth-child(odd){\n",
       "            background: #ffffff;\n",
       "        }\n",
       "        .Relation tr:nth-child(even){\n",
       "            background: #f3f1ff;\n",
       "        }\n",
       "        /* Tooltip container */\n",
       "        .djtooltip {\n",
       "        }\n",
       "        /* Tooltip text */\n",
       "        .djtooltip .djtooltiptext {\n",
       "            visibility: hidden;\n",
       "            width: 120px;\n",
       "            background-color: black;\n",
       "            color: #fff;\n",
       "            text-align: center;\n",
       "            padding: 5px 0;\n",
       "            border-radius: 6px;\n",
       "            /* Position the tooltip text - see examples below! */\n",
       "            position: absolute;\n",
       "            z-index: 1;\n",
       "        }\n",
       "        #primary {\n",
       "            font-weight: bold;\n",
       "            color: black;\n",
       "        }\n",
       "        #nonprimary {\n",
       "            font-weight: normal;\n",
       "            color: white;\n",
       "        }\n",
       "\n",
       "        /* Show the tooltip text when you mouse over the tooltip container */\n",
       "        .djtooltip:hover .djtooltiptext {\n",
       "            visibility: visible;\n",
       "        }\n",
       "    </style>\n",
       "    \n",
       "    <b></b>\n",
       "        <div style=\"max-height:1000px;max-width:1500px;overflow:auto;\">\n",
       "        <table border=\"1\" class=\"Relation\">\n",
       "            <thead> <tr style=\"text-align: right;\"> <th> <div class=\"djtooltip\">\n",
       "                            <p id=\"primary\">nwb_file_name</p>\n",
       "                            <span class=\"djtooltiptext\">name of the NWB file</span>\n",
       "                        </div></th><th><div class=\"djtooltip\">\n",
       "                            <p id=\"nonprimary\">interval_list_name</p>\n",
       "                            <span class=\"djtooltiptext\">descriptive name of this interval list</span>\n",
       "                        </div></th><th><div class=\"djtooltip\">\n",
       "                            <p id=\"nonprimary\">filter_name</p>\n",
       "                            <span class=\"djtooltiptext\">descriptive name of this filter</span>\n",
       "                        </div></th><th><div class=\"djtooltip\">\n",
       "                            <p id=\"nonprimary\">filter_sampling_rate</p>\n",
       "                            <span class=\"djtooltiptext\">sampling rate for this filter</span>\n",
       "                        </div></th><th><div class=\"djtooltip\">\n",
       "                            <p id=\"nonprimary\">analysis_file_name</p>\n",
       "                            <span class=\"djtooltiptext\">name of the file</span>\n",
       "                        </div></th><th><div class=\"djtooltip\">\n",
       "                            <p id=\"nonprimary\">lfp_object_id</p>\n",
       "                            <span class=\"djtooltiptext\">the NWB object ID for loading this object from the file</span>\n",
       "                        </div></th><th><div class=\"djtooltip\">\n",
       "                            <p id=\"nonprimary\">lfp_sampling_rate</p>\n",
       "                            <span class=\"djtooltiptext\">the sampling rate, in HZ</span>\n",
       "                        </div> </th> </tr> </thead>\n",
       "            <tbody> <tr> <td>molly20220420_.nwb</td>\n",
       "<td>lfp valid times</td>\n",
       "<td>LFP 0-400 Hz</td>\n",
       "<td>30000</td>\n",
       "<td>molly20220420_58C6M3SGI8.nwb</td>\n",
       "<td>6f54fce9-5ba8-457c-b600-b6a91046527b</td>\n",
       "<td>1000.0</td> </tr> </tbody>\n",
       "        </table>\n",
       "        \n",
       "        <p>Total: 1</p></div>\n",
       "        "
      ],
      "text/plain": [
       "*nwb_file_name interval_list_ filter_name    filter_samplin analysis_file_ lfp_object_id  lfp_sampling_r\n",
       "+------------+ +------------+ +------------+ +------------+ +------------+ +------------+ +------------+\n",
       "molly20220420_ lfp valid time LFP 0-400 Hz   30000          molly20220420_ 6f54fce9-5ba8- 1000.0        \n",
       " (Total: 1)"
      ]
     },
     "execution_count": 24,
     "metadata": {},
     "output_type": "execute_result"
    }
   ],
   "source": [
    "LFP & {'nwb_file_name':nwb_copy_file_name}"
   ]
  },
  {
   "cell_type": "markdown",
   "id": "6d16380c-ea1d-4eaf-ac6e-45c9039a98f7",
   "metadata": {},
   "source": [
    "#### 3. do theta/ripple band filter"
   ]
  },
  {
   "cell_type": "code",
   "execution_count": 54,
   "id": "4d479b8d-1b12-47c2-9634-bae04e7961a8",
   "metadata": {},
   "outputs": [],
   "source": [
    "#(IntervalList() & {'nwb_file_name':nwb_copy_file_name}).fetch('interval_list_name')"
   ]
  },
  {
   "cell_type": "code",
   "execution_count": null,
   "id": "37595335-ebb1-47b7-be17-e53b8d54e87c",
   "metadata": {},
   "outputs": [],
   "source": []
  },
  {
   "cell_type": "code",
   "execution_count": null,
   "id": "a8b7fe29-0363-43ee-ae66-d1b4c12c86d2",
   "metadata": {},
   "outputs": [],
   "source": []
  },
  {
   "cell_type": "code",
   "execution_count": 23,
   "id": "7ad0f3ca-5bdf-4176-83d4-6951f20b8027",
   "metadata": {},
   "outputs": [
    {
     "data": {
      "text/html": [
       "\n",
       "    \n",
       "    <style type=\"text/css\">\n",
       "        .Relation{\n",
       "            border-collapse:collapse;\n",
       "        }\n",
       "        .Relation th{\n",
       "            background: #A0A0A0; color: #ffffff; padding:4px; border:#f0e0e0 1px solid;\n",
       "            font-weight: normal; font-family: monospace; font-size: 100%;\n",
       "        }\n",
       "        .Relation td{\n",
       "            padding:4px; border:#f0e0e0 1px solid; font-size:100%;\n",
       "        }\n",
       "        .Relation tr:nth-child(odd){\n",
       "            background: #ffffff;\n",
       "        }\n",
       "        .Relation tr:nth-child(even){\n",
       "            background: #f3f1ff;\n",
       "        }\n",
       "        /* Tooltip container */\n",
       "        .djtooltip {\n",
       "        }\n",
       "        /* Tooltip text */\n",
       "        .djtooltip .djtooltiptext {\n",
       "            visibility: hidden;\n",
       "            width: 120px;\n",
       "            background-color: black;\n",
       "            color: #fff;\n",
       "            text-align: center;\n",
       "            padding: 5px 0;\n",
       "            border-radius: 6px;\n",
       "            /* Position the tooltip text - see examples below! */\n",
       "            position: absolute;\n",
       "            z-index: 1;\n",
       "        }\n",
       "        #primary {\n",
       "            font-weight: bold;\n",
       "            color: black;\n",
       "        }\n",
       "        #nonprimary {\n",
       "            font-weight: normal;\n",
       "            color: white;\n",
       "        }\n",
       "\n",
       "        /* Show the tooltip text when you mouse over the tooltip container */\n",
       "        .djtooltip:hover .djtooltiptext {\n",
       "            visibility: visible;\n",
       "        }\n",
       "    </style>\n",
       "    \n",
       "    <b></b>\n",
       "        <div style=\"max-height:1000px;max-width:1500px;overflow:auto;\">\n",
       "        <table border=\"1\" class=\"Relation\">\n",
       "            <thead> <tr style=\"text-align: right;\"> <th> <div class=\"djtooltip\">\n",
       "                            <p id=\"primary\">nwb_file_name</p>\n",
       "                            <span class=\"djtooltiptext\">name of the NWB file</span>\n",
       "                        </div></th><th><div class=\"djtooltip\">\n",
       "                            <p id=\"primary\">filter_name</p>\n",
       "                            <span class=\"djtooltiptext\">descriptive name of this filter</span>\n",
       "                        </div></th><th><div class=\"djtooltip\">\n",
       "                            <p id=\"primary\">filter_sampling_rate</p>\n",
       "                            <span class=\"djtooltiptext\">sampling rate for this filter</span>\n",
       "                        </div></th><th><div class=\"djtooltip\">\n",
       "                            <p id=\"primary\">target_interval_list_name</p>\n",
       "                            <span class=\"djtooltiptext\">descriptive name of this interval list</span>\n",
       "                        </div></th><th><div class=\"djtooltip\">\n",
       "                            <p id=\"primary\">lfp_band_sampling_rate</p>\n",
       "                            <span class=\"djtooltiptext\">the sampling rate for this band</span>\n",
       "                        </div></th><th><div class=\"djtooltip\">\n",
       "                            <p id=\"nonprimary\">min_interval_len</p>\n",
       "                            <span class=\"djtooltiptext\">the minimum length of a valid interval to filter</span>\n",
       "                        </div> </th> </tr> </thead>\n",
       "            <tbody> <tr> <td>molly20220416_.nwb</td>\n",
       "<td>Ripple 150-250 Hz</td>\n",
       "<td>1000</td>\n",
       "<td>02_Seq2Session1</td>\n",
       "<td>1000</td>\n",
       "<td>1.0</td></tr><tr><td>molly20220416_.nwb</td>\n",
       "<td>Ripple 150-250 Hz</td>\n",
       "<td>1000</td>\n",
       "<td>04_Seq2Session2</td>\n",
       "<td>1000</td>\n",
       "<td>1.0</td></tr><tr><td>molly20220416_.nwb</td>\n",
       "<td>Ripple 150-250 Hz</td>\n",
       "<td>1000</td>\n",
       "<td>06_Seq2Session3</td>\n",
       "<td>1000</td>\n",
       "<td>1.0</td></tr><tr><td>molly20220416_.nwb</td>\n",
       "<td>Ripple 150-250 Hz</td>\n",
       "<td>1000</td>\n",
       "<td>08_Seq2Session4</td>\n",
       "<td>1000</td>\n",
       "<td>1.0</td></tr><tr><td>molly20220416_.nwb</td>\n",
       "<td>Ripple 150-250 Hz</td>\n",
       "<td>1000</td>\n",
       "<td>10_Seq2Session5</td>\n",
       "<td>1000</td>\n",
       "<td>1.0</td> </tr> </tbody>\n",
       "        </table>\n",
       "        \n",
       "        <p>Total: 5</p></div>\n",
       "        "
      ],
      "text/plain": [
       "*nwb_file_name *filter_name   *filter_sampli *target_interv *lfp_band_samp min_interval_l\n",
       "+------------+ +------------+ +------------+ +------------+ +------------+ +------------+\n",
       "molly20220416_ Ripple 150-250 1000           02_Seq2Session 1000           1.0           \n",
       "molly20220416_ Ripple 150-250 1000           04_Seq2Session 1000           1.0           \n",
       "molly20220416_ Ripple 150-250 1000           06_Seq2Session 1000           1.0           \n",
       "molly20220416_ Ripple 150-250 1000           08_Seq2Session 1000           1.0           \n",
       "molly20220416_ Ripple 150-250 1000           10_Seq2Session 1000           1.0           \n",
       " (Total: 5)"
      ]
     },
     "execution_count": 23,
     "metadata": {},
     "output_type": "execute_result"
    }
   ],
   "source": [
    "(LFPBandSelection() & {'nwb_file_name' :nwb_copy_file_name})"
   ]
  },
  {
   "cell_type": "code",
   "execution_count": 24,
   "id": "b1f488ee-181f-4bdd-9f36-c1b210292c51",
   "metadata": {
    "scrolled": true,
    "tags": []
   },
   "outputs": [
    {
     "name": "stderr",
     "output_type": "stream",
     "text": [
      "/home/shijiegu/anaconda3/envs/spyglass/lib/python3.8/site-packages/datajoint/hash.py:39: ResourceWarning: unclosed file <_io.BufferedReader name='/stelmo/nwb/analysis/molly20220416_FAT9AKG1K4.nwb'>\n",
      "  return uuid_from_stream(Path(filepath).open(\"rb\"), init_string=init_string)\n",
      "/home/shijiegu/anaconda3/envs/spyglass/lib/python3.8/site-packages/h5py/_hl/dataset.py:541: DeprecationWarning: Passing None into shape arguments as an alias for () is deprecated.\n",
      "  arr = numpy.ndarray(selection.mshape, dtype=new_dtype)\n",
      "/home/shijiegu/anaconda3/envs/spyglass/lib/python3.8/site-packages/h5py/_hl/dataset.py:541: DeprecationWarning: Passing None into shape arguments as an alias for () is deprecated.\n",
      "  arr = numpy.ndarray(selection.mshape, dtype=new_dtype)\n",
      "/home/shijiegu/anaconda3/envs/spyglass/lib/python3.8/site-packages/pynwb/base.py:167: UserWarning: Length of data does not match length of timestamps. Your data may be transposed. Time should be on the 0th dimension\n",
      "  warn(\"Length of data does not match length of timestamps. Your data may be transposed. Time should be on \"\n"
     ]
    },
    {
     "name": "stdout",
     "output_type": "stream",
     "text": [
      "Writing new NWB file molly20220416_3VNDUKRCP7.nwb\n",
      "Interval stop time 1650138099.6804779 is larger than last timestamp 1650138099.6803775, using last timestamp instead\n"
     ]
    },
    {
     "name": "stderr",
     "output_type": "stream",
     "text": [
      "/home/shijiegu/anaconda3/envs/spyglass/lib/python3.8/site-packages/h5py/_hl/dataset.py:541: DeprecationWarning: Passing None into shape arguments as an alias for () is deprecated.\n",
      "  arr = numpy.ndarray(selection.mshape, dtype=new_dtype)\n",
      "/home/shijiegu/anaconda3/envs/spyglass/lib/python3.8/site-packages/datajoint/hash.py:39: ResourceWarning: unclosed file <_io.BufferedReader name='/stelmo/nwb/analysis/molly20220416_3VNDUKRCP7.nwb'>\n",
      "  return uuid_from_stream(Path(filepath).open(\"rb\"), init_string=init_string)\n",
      "/home/shijiegu/anaconda3/envs/spyglass/lib/python3.8/site-packages/datajoint/external.py:275: DeprecationWarning: The truth value of an empty array is ambiguous. Returning False, but in future this will result in an error. Use `array.size > 0` to check that an array is not empty.\n",
      "  if check_hash:\n",
      "/home/shijiegu/anaconda3/envs/spyglass/lib/python3.8/site-packages/datajoint/hash.py:39: ResourceWarning: unclosed file <_io.BufferedReader name='/stelmo/nwb/analysis/molly20220416_FAT9AKG1K4.nwb'>\n",
      "  return uuid_from_stream(Path(filepath).open(\"rb\"), init_string=init_string)\n",
      "/home/shijiegu/anaconda3/envs/spyglass/lib/python3.8/site-packages/h5py/_hl/dataset.py:541: DeprecationWarning: Passing None into shape arguments as an alias for () is deprecated.\n",
      "  arr = numpy.ndarray(selection.mshape, dtype=new_dtype)\n",
      "/home/shijiegu/anaconda3/envs/spyglass/lib/python3.8/site-packages/pynwb/base.py:167: UserWarning: Length of data does not match length of timestamps. Your data may be transposed. Time should be on the 0th dimension\n",
      "  warn(\"Length of data does not match length of timestamps. Your data may be transposed. Time should be on \"\n"
     ]
    },
    {
     "name": "stdout",
     "output_type": "stream",
     "text": [
      "Writing new NWB file molly20220416_E25011CFZC.nwb\n",
      "Interval stop time 1650142890.4811482 is larger than last timestamp 1650142890.4810774, using last timestamp instead\n"
     ]
    },
    {
     "name": "stderr",
     "output_type": "stream",
     "text": [
      "/home/shijiegu/anaconda3/envs/spyglass/lib/python3.8/site-packages/h5py/_hl/dataset.py:541: DeprecationWarning: Passing None into shape arguments as an alias for () is deprecated.\n",
      "  arr = numpy.ndarray(selection.mshape, dtype=new_dtype)\n",
      "/home/shijiegu/anaconda3/envs/spyglass/lib/python3.8/site-packages/datajoint/hash.py:39: ResourceWarning: unclosed file <_io.BufferedReader name='/stelmo/nwb/analysis/molly20220416_E25011CFZC.nwb'>\n",
      "  return uuid_from_stream(Path(filepath).open(\"rb\"), init_string=init_string)\n",
      "/home/shijiegu/anaconda3/envs/spyglass/lib/python3.8/site-packages/datajoint/external.py:275: DeprecationWarning: The truth value of an empty array is ambiguous. Returning False, but in future this will result in an error. Use `array.size > 0` to check that an array is not empty.\n",
      "  if check_hash:\n",
      "/home/shijiegu/anaconda3/envs/spyglass/lib/python3.8/site-packages/datajoint/hash.py:39: ResourceWarning: unclosed file <_io.BufferedReader name='/stelmo/nwb/analysis/molly20220416_FAT9AKG1K4.nwb'>\n",
      "  return uuid_from_stream(Path(filepath).open(\"rb\"), init_string=init_string)\n",
      "/home/shijiegu/anaconda3/envs/spyglass/lib/python3.8/site-packages/h5py/_hl/dataset.py:541: DeprecationWarning: Passing None into shape arguments as an alias for () is deprecated.\n",
      "  arr = numpy.ndarray(selection.mshape, dtype=new_dtype)\n",
      "/home/shijiegu/anaconda3/envs/spyglass/lib/python3.8/site-packages/pynwb/base.py:167: UserWarning: Length of data does not match length of timestamps. Your data may be transposed. Time should be on the 0th dimension\n",
      "  warn(\"Length of data does not match length of timestamps. Your data may be transposed. Time should be on \"\n"
     ]
    },
    {
     "name": "stdout",
     "output_type": "stream",
     "text": [
      "Writing new NWB file molly20220416_S11FBDR1Q2.nwb\n",
      "Interval stop time 1650146871.9814355 is larger than last timestamp 1650146871.9813447, using last timestamp instead\n"
     ]
    },
    {
     "name": "stderr",
     "output_type": "stream",
     "text": [
      "/home/shijiegu/anaconda3/envs/spyglass/lib/python3.8/site-packages/h5py/_hl/dataset.py:541: DeprecationWarning: Passing None into shape arguments as an alias for () is deprecated.\n",
      "  arr = numpy.ndarray(selection.mshape, dtype=new_dtype)\n",
      "/home/shijiegu/anaconda3/envs/spyglass/lib/python3.8/site-packages/datajoint/hash.py:39: ResourceWarning: unclosed file <_io.BufferedReader name='/stelmo/nwb/analysis/molly20220416_S11FBDR1Q2.nwb'>\n",
      "  return uuid_from_stream(Path(filepath).open(\"rb\"), init_string=init_string)\n",
      "/home/shijiegu/anaconda3/envs/spyglass/lib/python3.8/site-packages/datajoint/external.py:275: DeprecationWarning: The truth value of an empty array is ambiguous. Returning False, but in future this will result in an error. Use `array.size > 0` to check that an array is not empty.\n",
      "  if check_hash:\n",
      "/home/shijiegu/anaconda3/envs/spyglass/lib/python3.8/site-packages/datajoint/hash.py:39: ResourceWarning: unclosed file <_io.BufferedReader name='/stelmo/nwb/analysis/molly20220416_FAT9AKG1K4.nwb'>\n",
      "  return uuid_from_stream(Path(filepath).open(\"rb\"), init_string=init_string)\n",
      "/home/shijiegu/anaconda3/envs/spyglass/lib/python3.8/site-packages/h5py/_hl/dataset.py:541: DeprecationWarning: Passing None into shape arguments as an alias for () is deprecated.\n",
      "  arr = numpy.ndarray(selection.mshape, dtype=new_dtype)\n",
      "/home/shijiegu/anaconda3/envs/spyglass/lib/python3.8/site-packages/pynwb/base.py:167: UserWarning: Length of data does not match length of timestamps. Your data may be transposed. Time should be on the 0th dimension\n",
      "  warn(\"Length of data does not match length of timestamps. Your data may be transposed. Time should be on \"\n"
     ]
    },
    {
     "name": "stdout",
     "output_type": "stream",
     "text": [
      "Writing new NWB file molly20220416_OQ5SXSRYAP.nwb\n",
      "Interval stop time 1650151262.0815215 is larger than last timestamp 1650151262.0810175, using last timestamp instead\n"
     ]
    },
    {
     "name": "stderr",
     "output_type": "stream",
     "text": [
      "/home/shijiegu/anaconda3/envs/spyglass/lib/python3.8/site-packages/h5py/_hl/dataset.py:541: DeprecationWarning: Passing None into shape arguments as an alias for () is deprecated.\n",
      "  arr = numpy.ndarray(selection.mshape, dtype=new_dtype)\n",
      "/home/shijiegu/anaconda3/envs/spyglass/lib/python3.8/site-packages/datajoint/hash.py:39: ResourceWarning: unclosed file <_io.BufferedReader name='/stelmo/nwb/analysis/molly20220416_OQ5SXSRYAP.nwb'>\n",
      "  return uuid_from_stream(Path(filepath).open(\"rb\"), init_string=init_string)\n",
      "/home/shijiegu/anaconda3/envs/spyglass/lib/python3.8/site-packages/datajoint/external.py:275: DeprecationWarning: The truth value of an empty array is ambiguous. Returning False, but in future this will result in an error. Use `array.size > 0` to check that an array is not empty.\n",
      "  if check_hash:\n",
      "/home/shijiegu/anaconda3/envs/spyglass/lib/python3.8/site-packages/datajoint/hash.py:39: ResourceWarning: unclosed file <_io.BufferedReader name='/stelmo/nwb/analysis/molly20220416_FAT9AKG1K4.nwb'>\n",
      "  return uuid_from_stream(Path(filepath).open(\"rb\"), init_string=init_string)\n",
      "/home/shijiegu/anaconda3/envs/spyglass/lib/python3.8/site-packages/h5py/_hl/dataset.py:541: DeprecationWarning: Passing None into shape arguments as an alias for () is deprecated.\n",
      "  arr = numpy.ndarray(selection.mshape, dtype=new_dtype)\n",
      "/home/shijiegu/anaconda3/envs/spyglass/lib/python3.8/site-packages/pynwb/base.py:167: UserWarning: Length of data does not match length of timestamps. Your data may be transposed. Time should be on the 0th dimension\n",
      "  warn(\"Length of data does not match length of timestamps. Your data may be transposed. Time should be on \"\n"
     ]
    },
    {
     "name": "stdout",
     "output_type": "stream",
     "text": [
      "Writing new NWB file molly20220416_AAIRJ4C4OY.nwb\n",
      "Interval stop time 1650154867.2815697 is larger than last timestamp 1650154867.2809181, using last timestamp instead\n"
     ]
    },
    {
     "name": "stderr",
     "output_type": "stream",
     "text": [
      "/home/shijiegu/anaconda3/envs/spyglass/lib/python3.8/site-packages/h5py/_hl/dataset.py:541: DeprecationWarning: Passing None into shape arguments as an alias for () is deprecated.\n",
      "  arr = numpy.ndarray(selection.mshape, dtype=new_dtype)\n",
      "/home/shijiegu/anaconda3/envs/spyglass/lib/python3.8/site-packages/datajoint/hash.py:39: ResourceWarning: unclosed file <_io.BufferedReader name='/stelmo/nwb/analysis/molly20220416_AAIRJ4C4OY.nwb'>\n",
      "  return uuid_from_stream(Path(filepath).open(\"rb\"), init_string=init_string)\n",
      "/home/shijiegu/anaconda3/envs/spyglass/lib/python3.8/site-packages/datajoint/external.py:275: DeprecationWarning: The truth value of an empty array is ambiguous. Returning False, but in future this will result in an error. Use `array.size > 0` to check that an array is not empty.\n",
      "  if check_hash:\n"
     ]
    }
   ],
   "source": [
    "LFPBand().populate(LFPBandSelection() & {'nwb_file_name' : nwb_copy_file_name})"
   ]
  },
  {
   "cell_type": "code",
   "execution_count": 23,
   "id": "2833f6db-2d5a-4fde-9d2f-cf687856aa73",
   "metadata": {},
   "outputs": [
    {
     "data": {
      "text/html": [
       "\n",
       "    \n",
       "    <style type=\"text/css\">\n",
       "        .Relation{\n",
       "            border-collapse:collapse;\n",
       "        }\n",
       "        .Relation th{\n",
       "            background: #A0A0A0; color: #ffffff; padding:4px; border:#f0e0e0 1px solid;\n",
       "            font-weight: normal; font-family: monospace; font-size: 100%;\n",
       "        }\n",
       "        .Relation td{\n",
       "            padding:4px; border:#f0e0e0 1px solid; font-size:100%;\n",
       "        }\n",
       "        .Relation tr:nth-child(odd){\n",
       "            background: #ffffff;\n",
       "        }\n",
       "        .Relation tr:nth-child(even){\n",
       "            background: #f3f1ff;\n",
       "        }\n",
       "        /* Tooltip container */\n",
       "        .djtooltip {\n",
       "        }\n",
       "        /* Tooltip text */\n",
       "        .djtooltip .djtooltiptext {\n",
       "            visibility: hidden;\n",
       "            width: 120px;\n",
       "            background-color: black;\n",
       "            color: #fff;\n",
       "            text-align: center;\n",
       "            padding: 5px 0;\n",
       "            border-radius: 6px;\n",
       "            /* Position the tooltip text - see examples below! */\n",
       "            position: absolute;\n",
       "            z-index: 1;\n",
       "        }\n",
       "        #primary {\n",
       "            font-weight: bold;\n",
       "            color: black;\n",
       "        }\n",
       "        #nonprimary {\n",
       "            font-weight: normal;\n",
       "            color: white;\n",
       "        }\n",
       "\n",
       "        /* Show the tooltip text when you mouse over the tooltip container */\n",
       "        .djtooltip:hover .djtooltiptext {\n",
       "            visibility: visible;\n",
       "        }\n",
       "    </style>\n",
       "    \n",
       "    <b></b>\n",
       "        <div style=\"max-height:1000px;max-width:1500px;overflow:auto;\">\n",
       "        <table border=\"1\" class=\"Relation\">\n",
       "            <thead> <tr style=\"text-align: right;\"> <th> <div class=\"djtooltip\">\n",
       "                            <p id=\"primary\">nwb_file_name</p>\n",
       "                            <span class=\"djtooltiptext\">name of the NWB file</span>\n",
       "                        </div></th><th><div class=\"djtooltip\">\n",
       "                            <p id=\"primary\">filter_name</p>\n",
       "                            <span class=\"djtooltiptext\">descriptive name of this filter</span>\n",
       "                        </div></th><th><div class=\"djtooltip\">\n",
       "                            <p id=\"primary\">filter_sampling_rate</p>\n",
       "                            <span class=\"djtooltiptext\">sampling rate for this filter</span>\n",
       "                        </div></th><th><div class=\"djtooltip\">\n",
       "                            <p id=\"primary\">target_interval_list_name</p>\n",
       "                            <span class=\"djtooltiptext\">descriptive name of this interval list</span>\n",
       "                        </div></th><th><div class=\"djtooltip\">\n",
       "                            <p id=\"primary\">lfp_band_sampling_rate</p>\n",
       "                            <span class=\"djtooltiptext\">the sampling rate for this band</span>\n",
       "                        </div></th><th><div class=\"djtooltip\">\n",
       "                            <p id=\"nonprimary\">analysis_file_name</p>\n",
       "                            <span class=\"djtooltiptext\">name of the file</span>\n",
       "                        </div></th><th><div class=\"djtooltip\">\n",
       "                            <p id=\"nonprimary\">interval_list_name</p>\n",
       "                            <span class=\"djtooltiptext\">descriptive name of this interval list</span>\n",
       "                        </div></th><th><div class=\"djtooltip\">\n",
       "                            <p id=\"nonprimary\">filtered_data_object_id</p>\n",
       "                            <span class=\"djtooltiptext\">the NWB object ID for loading this object from the file</span>\n",
       "                        </div> </th> </tr> </thead>\n",
       "            <tbody> <tr>  </tr> </tbody>\n",
       "        </table>\n",
       "        \n",
       "        <p>Total: 0</p></div>\n",
       "        "
      ],
      "text/plain": [
       "*nwb_file_name *filter_name   *filter_sampli *target_interv *lfp_band_samp analysis_file_ interval_list_ filtered_data_\n",
       "+------------+ +------------+ +------------+ +------------+ +------------+ +------------+ +------------+ +------------+\n",
       "\n",
       " (Total: 0)"
      ]
     },
     "execution_count": 23,
     "metadata": {},
     "output_type": "execute_result"
    }
   ],
   "source": [
    "LFPBand() & {'nwb_file_name' : nwb_copy_file_name}"
   ]
  },
  {
   "cell_type": "code",
   "execution_count": 7,
   "id": "dbd8e2ba-a3c6-47b7-9027-0f0d79bc8e57",
   "metadata": {},
   "outputs": [
    {
     "name": "stderr",
     "output_type": "stream",
     "text": [
      "/home/shijiegu/anaconda3/envs/spyglass/lib/python3.8/site-packages/datajoint/hash.py:39: ResourceWarning: unclosed file <_io.BufferedReader name='/stelmo/nwb/raw/molly20220416_.nwb'>\n",
      "  return uuid_from_stream(Path(filepath).open(\"rb\"), init_string=init_string)\n",
      "/home/shijiegu/anaconda3/envs/spyglass/lib/python3.8/site-packages/h5py/_hl/dataset.py:541: DeprecationWarning: Passing None into shape arguments as an alias for () is deprecated.\n",
      "  arr = numpy.ndarray(selection.mshape, dtype=new_dtype)\n",
      "/home/shijiegu/anaconda3/envs/spyglass/lib/python3.8/site-packages/pynwb/base.py:167: UserWarning: Length of data does not match length of timestamps. Your data may be transposed. Time should be on the 0th dimension\n",
      "  warn(\"Length of data does not match length of timestamps. Your data may be transposed. Time should be on \"\n"
     ]
    },
    {
     "ename": "KeyError",
     "evalue": "'07774c35-a02f-46d8-9cb4-2d90749e073e'",
     "output_type": "error",
     "traceback": [
      "\u001b[0;31m---------------------------------------------------------------------------\u001b[0m",
      "\u001b[0;31mKeyError\u001b[0m                                  Traceback (most recent call last)",
      "Input \u001b[0;32mIn [7]\u001b[0m, in \u001b[0;36m<cell line: 1>\u001b[0;34m()\u001b[0m\n\u001b[0;32m----> 1\u001b[0m raw_eseries \u001b[38;5;241m=\u001b[39m \u001b[43m(\u001b[49m\u001b[43mRaw\u001b[49m\u001b[43m(\u001b[49m\u001b[43m)\u001b[49m\u001b[43m \u001b[49m\u001b[38;5;241;43m&\u001b[39;49m\u001b[43m \u001b[49m\u001b[43m{\u001b[49m\u001b[38;5;124;43m'\u001b[39;49m\u001b[38;5;124;43mnwb_file_name\u001b[39;49m\u001b[38;5;124;43m'\u001b[39;49m\u001b[43m \u001b[49m\u001b[43m:\u001b[49m\u001b[43m \u001b[49m\u001b[43mnwb_copy_file_name\u001b[49m\u001b[43m,\u001b[49m\n\u001b[1;32m      2\u001b[0m \u001b[43m                       \u001b[49m\u001b[38;5;124;43m'\u001b[39;49m\u001b[38;5;124;43melectrode_group_name\u001b[39;49m\u001b[38;5;124;43m'\u001b[39;49m\u001b[43m \u001b[49m\u001b[43m:\u001b[49m\u001b[43m \u001b[49m\u001b[38;5;241;43m7\u001b[39;49m\u001b[43m}\u001b[49m\u001b[43m)\u001b[49m\u001b[38;5;241;43m.\u001b[39;49m\u001b[43mfetch_nwb\u001b[49m\u001b[43m(\u001b[49m\u001b[43m)\u001b[49m[\u001b[38;5;241m0\u001b[39m][\u001b[38;5;124m'\u001b[39m\u001b[38;5;124mraw\u001b[39m\u001b[38;5;124m'\u001b[39m]\n",
      "File \u001b[0;32m~/Documents/spyglass/src/spyglass/common/common_ephys.py:182\u001b[0m, in \u001b[0;36mRaw.fetch_nwb\u001b[0;34m(self, *attrs, **kwargs)\u001b[0m\n\u001b[1;32m    181\u001b[0m \u001b[38;5;28;01mdef\u001b[39;00m \u001b[38;5;21mfetch_nwb\u001b[39m(\u001b[38;5;28mself\u001b[39m, \u001b[38;5;241m*\u001b[39mattrs, \u001b[38;5;241m*\u001b[39m\u001b[38;5;241m*\u001b[39mkwargs):\n\u001b[0;32m--> 182\u001b[0m     \u001b[38;5;28;01mreturn\u001b[39;00m \u001b[43mfetch_nwb\u001b[49m\u001b[43m(\u001b[49m\u001b[38;5;28;43mself\u001b[39;49m\u001b[43m,\u001b[49m\u001b[43m \u001b[49m\u001b[43m(\u001b[49m\u001b[43mNwbfile\u001b[49m\u001b[43m,\u001b[49m\u001b[43m \u001b[49m\u001b[38;5;124;43m'\u001b[39;49m\u001b[38;5;124;43mnwb_file_abs_path\u001b[39;49m\u001b[38;5;124;43m'\u001b[39;49m\u001b[43m)\u001b[49m\u001b[43m,\u001b[49m\u001b[43m \u001b[49m\u001b[38;5;241;43m*\u001b[39;49m\u001b[43mattrs\u001b[49m\u001b[43m,\u001b[49m\u001b[43m \u001b[49m\u001b[38;5;241;43m*\u001b[39;49m\u001b[38;5;241;43m*\u001b[39;49m\u001b[43mkwargs\u001b[49m\u001b[43m)\u001b[49m\n",
      "File \u001b[0;32m~/Documents/spyglass/src/spyglass/common/dj_helper_fn.py:85\u001b[0m, in \u001b[0;36mfetch_nwb\u001b[0;34m(query_expression, nwb_master, *attrs, **kwargs)\u001b[0m\n\u001b[1;32m     82\u001b[0m     nwbf \u001b[38;5;241m=\u001b[39m get_nwb_file(rec_dict\u001b[38;5;241m.\u001b[39mpop(\u001b[38;5;124m'\u001b[39m\u001b[38;5;124mnwb2load_filepath\u001b[39m\u001b[38;5;124m'\u001b[39m))\n\u001b[1;32m     83\u001b[0m     \u001b[38;5;66;03m# for each attr that contains substring 'object_id', store key-value: attr name to NWB object\u001b[39;00m\n\u001b[1;32m     84\u001b[0m     \u001b[38;5;66;03m# remove '_object_id' from attr name\u001b[39;00m\n\u001b[0;32m---> 85\u001b[0m     nwb_objs \u001b[38;5;241m=\u001b[39m {\n\u001b[1;32m     86\u001b[0m         id_attr\u001b[38;5;241m.\u001b[39mreplace(\u001b[38;5;124m\"\u001b[39m\u001b[38;5;124m_object_id\u001b[39m\u001b[38;5;124m\"\u001b[39m, \u001b[38;5;124m\"\u001b[39m\u001b[38;5;124m\"\u001b[39m): _get_nwb_object(nwbf\u001b[38;5;241m.\u001b[39mobjects, rec_dict[id_attr])\n\u001b[1;32m     87\u001b[0m         \u001b[38;5;28;01mfor\u001b[39;00m id_attr \u001b[38;5;129;01min\u001b[39;00m attrs\n\u001b[1;32m     88\u001b[0m         \u001b[38;5;28;01mif\u001b[39;00m \u001b[38;5;124m'\u001b[39m\u001b[38;5;124mobject_id\u001b[39m\u001b[38;5;124m'\u001b[39m \u001b[38;5;129;01min\u001b[39;00m id_attr \u001b[38;5;129;01mand\u001b[39;00m rec_dict[id_attr] \u001b[38;5;241m!=\u001b[39m \u001b[38;5;124m'\u001b[39m\u001b[38;5;124m'\u001b[39m}\n\u001b[1;32m     89\u001b[0m     ret\u001b[38;5;241m.\u001b[39mappend({\u001b[38;5;241m*\u001b[39m\u001b[38;5;241m*\u001b[39mrec_dict, \u001b[38;5;241m*\u001b[39m\u001b[38;5;241m*\u001b[39mnwb_objs})\n\u001b[1;32m     90\u001b[0m \u001b[38;5;28;01mreturn\u001b[39;00m ret\n",
      "File \u001b[0;32m~/Documents/spyglass/src/spyglass/common/dj_helper_fn.py:86\u001b[0m, in \u001b[0;36m<dictcomp>\u001b[0;34m(.0)\u001b[0m\n\u001b[1;32m     82\u001b[0m     nwbf \u001b[38;5;241m=\u001b[39m get_nwb_file(rec_dict\u001b[38;5;241m.\u001b[39mpop(\u001b[38;5;124m'\u001b[39m\u001b[38;5;124mnwb2load_filepath\u001b[39m\u001b[38;5;124m'\u001b[39m))\n\u001b[1;32m     83\u001b[0m     \u001b[38;5;66;03m# for each attr that contains substring 'object_id', store key-value: attr name to NWB object\u001b[39;00m\n\u001b[1;32m     84\u001b[0m     \u001b[38;5;66;03m# remove '_object_id' from attr name\u001b[39;00m\n\u001b[1;32m     85\u001b[0m     nwb_objs \u001b[38;5;241m=\u001b[39m {\n\u001b[0;32m---> 86\u001b[0m         id_attr\u001b[38;5;241m.\u001b[39mreplace(\u001b[38;5;124m\"\u001b[39m\u001b[38;5;124m_object_id\u001b[39m\u001b[38;5;124m\"\u001b[39m, \u001b[38;5;124m\"\u001b[39m\u001b[38;5;124m\"\u001b[39m): \u001b[43m_get_nwb_object\u001b[49m\u001b[43m(\u001b[49m\u001b[43mnwbf\u001b[49m\u001b[38;5;241;43m.\u001b[39;49m\u001b[43mobjects\u001b[49m\u001b[43m,\u001b[49m\u001b[43m \u001b[49m\u001b[43mrec_dict\u001b[49m\u001b[43m[\u001b[49m\u001b[43mid_attr\u001b[49m\u001b[43m]\u001b[49m\u001b[43m)\u001b[49m\n\u001b[1;32m     87\u001b[0m         \u001b[38;5;28;01mfor\u001b[39;00m id_attr \u001b[38;5;129;01min\u001b[39;00m attrs\n\u001b[1;32m     88\u001b[0m         \u001b[38;5;28;01mif\u001b[39;00m \u001b[38;5;124m'\u001b[39m\u001b[38;5;124mobject_id\u001b[39m\u001b[38;5;124m'\u001b[39m \u001b[38;5;129;01min\u001b[39;00m id_attr \u001b[38;5;129;01mand\u001b[39;00m rec_dict[id_attr] \u001b[38;5;241m!=\u001b[39m \u001b[38;5;124m'\u001b[39m\u001b[38;5;124m'\u001b[39m}\n\u001b[1;32m     89\u001b[0m     ret\u001b[38;5;241m.\u001b[39mappend({\u001b[38;5;241m*\u001b[39m\u001b[38;5;241m*\u001b[39mrec_dict, \u001b[38;5;241m*\u001b[39m\u001b[38;5;241m*\u001b[39mnwb_objs})\n\u001b[1;32m     90\u001b[0m \u001b[38;5;28;01mreturn\u001b[39;00m ret\n",
      "File \u001b[0;32m~/Documents/spyglass/src/spyglass/common/dj_helper_fn.py:96\u001b[0m, in \u001b[0;36m_get_nwb_object\u001b[0;34m(objects, object_id)\u001b[0m\n\u001b[1;32m     94\u001b[0m \u001b[38;5;124;03m\"\"\"Retreive NWB object and try to convert to dataframe if possible\"\"\"\u001b[39;00m\n\u001b[1;32m     95\u001b[0m \u001b[38;5;28;01mtry\u001b[39;00m:\n\u001b[0;32m---> 96\u001b[0m     \u001b[38;5;28;01mreturn\u001b[39;00m \u001b[43mobjects\u001b[49m\u001b[43m[\u001b[49m\u001b[43mobject_id\u001b[49m\u001b[43m]\u001b[49m\u001b[38;5;241m.\u001b[39mto_dataframe()\n\u001b[1;32m     97\u001b[0m \u001b[38;5;28;01mexcept\u001b[39;00m \u001b[38;5;167;01mAttributeError\u001b[39;00m:\n\u001b[1;32m     98\u001b[0m     \u001b[38;5;28;01mreturn\u001b[39;00m objects[object_id]\n",
      "File \u001b[0;32m~/anaconda3/envs/spyglass/lib/python3.8/site-packages/hdmf/utils.py:932\u001b[0m, in \u001b[0;36mLabelledDict.__getitem__\u001b[0;34m(self, args)\u001b[0m\n\u001b[1;32m    930\u001b[0m         \u001b[38;5;28;01mreturn\u001b[39;00m \u001b[38;5;28msuper\u001b[39m()\u001b[38;5;241m.\u001b[39m\u001b[38;5;21m__getitem__\u001b[39m(val)\n\u001b[1;32m    931\u001b[0m \u001b[38;5;28;01melse\u001b[39;00m:\n\u001b[0;32m--> 932\u001b[0m     \u001b[38;5;28;01mreturn\u001b[39;00m \u001b[38;5;28;43msuper\u001b[39;49m\u001b[43m(\u001b[49m\u001b[43m)\u001b[49m\u001b[38;5;241;43m.\u001b[39;49m\u001b[38;5;21;43m__getitem__\u001b[39;49m\u001b[43m(\u001b[49m\u001b[43mkey\u001b[49m\u001b[43m)\u001b[49m\n",
      "\u001b[0;31mKeyError\u001b[0m: '07774c35-a02f-46d8-9cb4-2d90749e073e'"
     ]
    }
   ],
   "source": [
    "raw_eseries = (Raw() & {'nwb_file_name' : nwb_copy_file_name,\n",
    "                       'electrode_group_name' : 7}).fetch_nwb()[0]['raw']"
   ]
  },
  {
   "cell_type": "code",
   "execution_count": 8,
   "id": "d7091436-b817-491c-8e26-4ee7c116d183",
   "metadata": {},
   "outputs": [
    {
     "name": "stderr",
     "output_type": "stream",
     "text": [
      "/home/shijiegu/anaconda3/envs/spyglass/lib/python3.8/site-packages/datajoint/hash.py:39: ResourceWarning: unclosed file <_io.BufferedReader name='/stelmo/nwb/analysis/molly20220416_3OMWOSRN8F.nwb'>\n",
      "  return uuid_from_stream(Path(filepath).open(\"rb\"), init_string=init_string)\n",
      "/home/shijiegu/anaconda3/envs/spyglass/lib/python3.8/site-packages/datajoint/hash.py:39: ResourceWarning: unclosed file <_io.BufferedReader name='/stelmo/nwb/analysis/molly20220416_BBGZPELQXU.nwb'>\n",
      "  return uuid_from_stream(Path(filepath).open(\"rb\"), init_string=init_string)\n",
      "/home/shijiegu/anaconda3/envs/spyglass/lib/python3.8/site-packages/datajoint/hash.py:39: ResourceWarning: unclosed file <_io.BufferedReader name='/stelmo/nwb/analysis/molly20220416_SX6OBZOOLP.nwb'>\n",
      "  return uuid_from_stream(Path(filepath).open(\"rb\"), init_string=init_string)\n",
      "/home/shijiegu/anaconda3/envs/spyglass/lib/python3.8/site-packages/datajoint/hash.py:39: ResourceWarning: unclosed file <_io.BufferedReader name='/stelmo/nwb/analysis/molly20220416_0R7W8WND36.nwb'>\n",
      "  return uuid_from_stream(Path(filepath).open(\"rb\"), init_string=init_string)\n",
      "/home/shijiegu/anaconda3/envs/spyglass/lib/python3.8/site-packages/datajoint/hash.py:39: ResourceWarning: unclosed file <_io.BufferedReader name='/stelmo/nwb/analysis/molly20220416_N65W2P2656.nwb'>\n",
      "  return uuid_from_stream(Path(filepath).open(\"rb\"), init_string=init_string)\n",
      "/home/shijiegu/anaconda3/envs/spyglass/lib/python3.8/site-packages/h5py/_hl/dataset.py:541: DeprecationWarning: Passing None into shape arguments as an alias for () is deprecated.\n",
      "  arr = numpy.ndarray(selection.mshape, dtype=new_dtype)\n"
     ]
    }
   ],
   "source": [
    "ripple_eseries_all=(LFPBand() & {'nwb_file_name' : nwb_copy_file_name}).fetch_nwb()"
   ]
  },
  {
   "cell_type": "code",
   "execution_count": 9,
   "id": "4068b83f-8c30-427e-92d9-14174d79b51a",
   "metadata": {},
   "outputs": [],
   "source": [
    "run1times = (IntervalList & {'nwb_file_name': nwb_copy_file_name, 'interval_list_name' : '02_Seq2Session1'}).fetch1('valid_times')\n",
    "plottimes = [run1times[0][0] + 101, run1times[0][0] + 102]\n"
   ]
  },
  {
   "cell_type": "code",
   "execution_count": 14,
   "id": "68523f19-8304-4428-8c71-b4d3f9e6b526",
   "metadata": {},
   "outputs": [],
   "source": [
    "ripple_eseries=ripple_eseries_all[0]"
   ]
  },
  {
   "cell_type": "code",
   "execution_count": 19,
   "id": "e9ce6ff4-833e-454a-9ac0-7faa66fa42a4",
   "metadata": {},
   "outputs": [
    {
     "data": {
      "text/plain": [
       "{'nwb_file_name': 'molly20220416_.nwb',\n",
       " 'filter_name': 'Ripple 150-250 Hz',\n",
       " 'filter_sampling_rate': 1000,\n",
       " 'target_interval_list_name': '02_Seq2Session1',\n",
       " 'lfp_band_sampling_rate': 1000,\n",
       " 'analysis_file_name': 'molly20220416_3OMWOSRN8F.nwb',\n",
       " 'interval_list_name': '02_Seq2Session1 lfp band 1000Hz',\n",
       " 'filtered_data_object_id': '237aa057-9db5-41d0-8225-062310a9a962',\n",
       " 'filtered_data': filtered data pynwb.ecephys.ElectricalSeries at 0x139743322074608\n",
       " Fields:\n",
       "   comments: no comments\n",
       "   conversion: 1.0\n",
       "   data: <HDF5 dataset \"data\": shape (2221581, 1), type \"<i2\">\n",
       "   description: no description\n",
       "   electrodes: electrodes <class 'hdmf.common.table.DynamicTableRegion'>\n",
       "   interval: 1\n",
       "   resolution: -1.0\n",
       "   timestamps: <HDF5 dataset \"timestamps\": shape (2221581,), type \"<f8\">\n",
       "   timestamps_unit: seconds\n",
       "   unit: volts}"
      ]
     },
     "execution_count": 19,
     "metadata": {},
     "output_type": "execute_result"
    }
   ],
   "source": [
    "ripple_eseries"
   ]
  },
  {
   "cell_type": "code",
   "execution_count": 46,
   "id": "be7d383e-8795-468a-9682-532a7ee2711d",
   "metadata": {},
   "outputs": [
    {
     "data": {
      "image/png": "[encoded data removed]",
      "text/plain": [
       "<Figure size 432x288 with 1 Axes>"
      ]
     },
     "metadata": {
      "needs_background": "light"
     },
     "output_type": "display_data"
    }
   ],
   "source": [
    "orig_elect_indeces=13\n",
    "orig_time_ind = np.argwhere(np.logical_and(raw_eseries.timestamps > plottimes[0], raw_eseries.timestamps < plottimes[1]))\n",
    "lfp_time_ind = np.argwhere(np.logical_and(ripple_eseries.timestamps > plottimes[0], ripple_eseries.timestamps < plottimes[1]))\n",
    "\n",
    "plt.plot(raw_eseries.timestamps[orig_time_ind], raw_eseries.data[orig_time_ind,orig_elect_indeces], 'k-')\n",
    "plt.plot(ripple_eseries.timestamps[lfp_time_ind], ripple_eseries.data[lfp_time_ind,0], 'b-')\n",
    "plt.xlabel('Time (sec)')\n",
    "plt.ylabel('Amplitude (AD units)')\n",
    "\n",
    "plt.show()"
   ]
  },
  {
   "cell_type": "code",
   "execution_count": null,
   "id": "db357490-3ad0-44f9-b0e9-107d366d6cc4",
   "metadata": {},
   "outputs": [],
   "source": []
  }
 ],
 "metadata": {
  "kernelspec": {
   "display_name": "Python [conda env:spyglass]",
   "language": "python",
   "name": "conda-env-spyglass-py"
  },
  "language_info": {
   "codemirror_mode": {
    "name": "ipython",
    "version": 3
   },
   "file_extension": ".py",
   "mimetype": "text/x-python",
   "name": "python",
   "nbconvert_exporter": "python",
   "pygments_lexer": "ipython3",
   "version": "3.8.13"
  }
 },
 "nbformat": 4,
 "nbformat_minor": 5
}
