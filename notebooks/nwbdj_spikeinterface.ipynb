{
 "cells": [
  {
   "cell_type": "markdown",
   "metadata": {},
   "source": [
    "## This notebook assumes that you've imported one or more NWB files into DataJoint \n",
    "## It allows you to run spikesorters on those data using the SpikeInterface package"
   ]
  },
  {
   "cell_type": "markdown",
   "metadata": {},
   "source": [
    "#### Load all of the relevant modules"
   ]
  },
  {
   "cell_type": "code",
   "execution_count": 1,
   "metadata": {},
   "outputs": [
    {
     "name": "stdout",
     "output_type": "stream",
     "text": [
      "Connecting root@localhost:3306\n"
     ]
    }
   ],
   "source": [
    "%load_ext autoreload\n",
    "%autoreload 2\n",
    "\n",
    "import os\n",
    "data_dir = '/Users/loren/data/nwb_builder_test_data'\n",
    "os.environ['NWB_DATAJOINT_BASE_DIR'] = data_dir\n",
    "\n",
    "os.environ['KACHERY_STORAGE_DIR'] = os.path.join(data_dir, 'kachery-storage')\n",
    "os.environ['SORTING_TEMP_DIR'] = os.path.join(data_dir, 'sort_tmp')\n",
    "\n",
    "import numpy as np\n",
    "import pynwb\n",
    "import os\n",
    "\n",
    "#DataJoint and DataJoint schema\n",
    "import nwb_datajoint as nd\n",
    "import datajoint as dj\n",
    "from ndx_franklab_novela import Probe\n"
   ]
  },
  {
   "cell_type": "code",
   "execution_count": 2,
   "metadata": {},
   "outputs": [
    {
     "name": "stderr",
     "output_type": "stream",
     "text": [
      "/Users/loren/opt/anaconda3/envs/nwbdj1/lib/python3.8/site-packages/ipykernel/ipkernel.py:287: DeprecationWarning: `should_run_async` will not call `transform_cell` automatically in the future. Please pass the result to `transformed_cell` argument and any exception that happen during thetransform in `preprocessing_exc_tuple` in IPython 7.17 and above.\n",
      "  and should_run_async(code)\n"
     ]
    }
   ],
   "source": [
    "import warnings\n",
    "warnings.simplefilter('ignore')"
   ]
  },
  {
   "cell_type": "markdown",
   "metadata": {},
   "source": [
    "### Set the nwb file name and the name of the probe file to create from DataJoint"
   ]
  },
  {
   "cell_type": "code",
   "execution_count": 3,
   "metadata": {},
   "outputs": [],
   "source": [
    "nwb_file_name = (nd.common.Session() & {'session_id': 'beans_01'}).fetch1('nwb_file_name')"
   ]
  },
  {
   "cell_type": "markdown",
   "metadata": {},
   "source": [
    "### Set the sort grouping by shank"
   ]
  },
  {
   "cell_type": "code",
   "execution_count": 4,
   "metadata": {},
   "outputs": [
    {
     "name": "stdout",
     "output_type": "stream",
     "text": [
      "About to delete:\n",
      "`common_spikesorting`.`spike_sorting_parameters`: 1 items\n",
      "`common_spikesorting`.`sort_group__sort_group_electrode`: 192 items\n",
      "`common_spikesorting`.`sort_group`: 8 items\n"
     ]
    },
    {
     "name": "stdin",
     "output_type": "stream",
     "text": [
      "Proceed? [yes, No]:  yes\n"
     ]
    },
    {
     "name": "stdout",
     "output_type": "stream",
     "text": [
      "Committed.\n"
     ]
    },
    {
     "data": {
      "text/html": [
       "\n",
       "        \n",
       "        <style type=\"text/css\">\n",
       "            .Relation{\n",
       "                border-collapse:collapse;\n",
       "            }\n",
       "            .Relation th{\n",
       "                background: #A0A0A0; color: #ffffff; padding:4px; border:#f0e0e0 1px solid;\n",
       "                font-weight: normal; font-family: monospace; font-size: 100%;\n",
       "            }\n",
       "            .Relation td{\n",
       "                padding:4px; border:#f0e0e0 1px solid; font-size:100%;\n",
       "            }\n",
       "            .Relation tr:nth-child(odd){\n",
       "                background: #ffffff;\n",
       "            }\n",
       "            .Relation tr:nth-child(even){\n",
       "                background: #f3f1ff;\n",
       "            }\n",
       "            /* Tooltip container */\n",
       "            .djtooltip {\n",
       "            }\n",
       "            /* Tooltip text */\n",
       "            .djtooltip .djtooltiptext {\n",
       "                visibility: hidden;\n",
       "                width: 120px;\n",
       "                background-color: black;\n",
       "                color: #fff;\n",
       "                text-align: center;\n",
       "                padding: 5px 0;\n",
       "                border-radius: 6px;\n",
       "                /* Position the tooltip text - see examples below! */\n",
       "                position: absolute;\n",
       "                z-index: 1;\n",
       "            }\n",
       "            #primary {\n",
       "                font-weight: bold;\n",
       "                color: black;\n",
       "            }\n",
       "\n",
       "            #nonprimary {\n",
       "                font-weight: normal;\n",
       "                color: white;\n",
       "            }\n",
       "\n",
       "            /* Show the tooltip text when you mouse over the tooltip container */\n",
       "            .djtooltip:hover .djtooltiptext {\n",
       "                visibility: visible;\n",
       "            }\n",
       "        </style>\n",
       "        \n",
       "        <b></b>\n",
       "            <div style=\"max-height:1000px;max-width:1500px;overflow:auto;\">\n",
       "            <table border=\"1\" class=\"Relation\">\n",
       "                <thead> <tr style=\"text-align: right;\"> <th> <div class=\"djtooltip\">\n",
       "                                <p id=\"primary\">nwb_file_name</p>\n",
       "                                <span class=\"djtooltiptext\">the name of the NWB file</span>\n",
       "                            </div></th><th><div class=\"djtooltip\">\n",
       "                                <p id=\"primary\">sort_group_id</p>\n",
       "                                <span class=\"djtooltiptext\">identifier for a group of electrodes</span>\n",
       "                            </div></th><th><div class=\"djtooltip\">\n",
       "                                <p id=\"nonprimary\">sort_reference_electrode_id</p>\n",
       "                                <span class=\"djtooltiptext\">the electrode to use for reference. -1: no reference, -2: common median</span>\n",
       "                            </div> </th> </tr> </thead>\n",
       "                <tbody> <tr> <td>beans20190718.nwb</td>\n",
       "<td>0</td>\n",
       "<td>-1</td></tr><tr><td>beans20190718.nwb</td>\n",
       "<td>1</td>\n",
       "<td>-1</td></tr><tr><td>beans20190718.nwb</td>\n",
       "<td>2</td>\n",
       "<td>-1</td></tr><tr><td>beans20190718.nwb</td>\n",
       "<td>3</td>\n",
       "<td>-1</td></tr><tr><td>beans20190718.nwb</td>\n",
       "<td>4</td>\n",
       "<td>-1</td></tr><tr><td>beans20190718.nwb</td>\n",
       "<td>5</td>\n",
       "<td>-1</td></tr><tr><td>beans20190718.nwb</td>\n",
       "<td>6</td>\n",
       "<td>-1</td></tr><tr><td>beans20190718.nwb</td>\n",
       "<td>7</td>\n",
       "<td>-1</td> </tr> </tbody>\n",
       "            </table>\n",
       "            \n",
       "            <p>Total: 8</p></div>\n",
       "            "
      ],
      "text/plain": [
       "*nwb_file_name *sort_group_id sort_reference\n",
       "+------------+ +------------+ +------------+\n",
       "beans20190718. 0              -1            \n",
       "beans20190718. 1              -1            \n",
       "beans20190718. 2              -1            \n",
       "beans20190718. 3              -1            \n",
       "beans20190718. 4              -1            \n",
       "beans20190718. 5              -1            \n",
       "beans20190718. 6              -1            \n",
       "beans20190718. 7              -1            \n",
       " (Total: 8)"
      ]
     },
     "execution_count": 4,
     "metadata": {},
     "output_type": "execute_result"
    }
   ],
   "source": [
    "nd.common.SortGroup().set_group_by_shank(nwb_file_name)\n",
    "nd.common.SortGroup()"
   ]
  },
  {
   "cell_type": "markdown",
   "metadata": {},
   "source": [
    "Optional: Display all of the electrodes with their sort groups"
   ]
  },
  {
   "cell_type": "code",
   "execution_count": 5,
   "metadata": {
    "collapsed": true,
    "jupyter": {
     "outputs_hidden": true
    }
   },
   "outputs": [
    {
     "name": "stderr",
     "output_type": "stream",
     "text": [
      "/Users/loren/opt/anaconda3/envs/nwbdj/lib/python3.8/site-packages/ipykernel/ipkernel.py:287: DeprecationWarning: `should_run_async` will not call `transform_cell` automatically in the future. Please pass the result to `transformed_cell` argument and any exception that happen during thetransform in `preprocessing_exc_tuple` in IPython 7.17 and above.\n",
      "  and should_run_async(code)\n"
     ]
    },
    {
     "data": {
      "text/plain": [
       "array([('beans20190718.nwb', 0, '0',   0),\n",
       "       ('beans20190718.nwb', 0, '0',   1),\n",
       "       ('beans20190718.nwb', 0, '0',   3),\n",
       "       ('beans20190718.nwb', 0, '0',   4),\n",
       "       ('beans20190718.nwb', 0, '0',   5),\n",
       "       ('beans20190718.nwb', 0, '0',   7),\n",
       "       ('beans20190718.nwb', 0, '0',   8),\n",
       "       ('beans20190718.nwb', 0, '0',   9),\n",
       "       ('beans20190718.nwb', 0, '0',  11),\n",
       "       ('beans20190718.nwb', 0, '0',  12),\n",
       "       ('beans20190718.nwb', 0, '0',  13),\n",
       "       ('beans20190718.nwb', 0, '0',  15),\n",
       "       ('beans20190718.nwb', 0, '0',  16),\n",
       "       ('beans20190718.nwb', 0, '0',  17),\n",
       "       ('beans20190718.nwb', 0, '0',  19),\n",
       "       ('beans20190718.nwb', 0, '0',  20),\n",
       "       ('beans20190718.nwb', 0, '0',  21),\n",
       "       ('beans20190718.nwb', 0, '0',  23),\n",
       "       ('beans20190718.nwb', 0, '0',  24),\n",
       "       ('beans20190718.nwb', 0, '0',  25),\n",
       "       ('beans20190718.nwb', 0, '0',  27),\n",
       "       ('beans20190718.nwb', 0, '0',  28),\n",
       "       ('beans20190718.nwb', 0, '0',  29),\n",
       "       ('beans20190718.nwb', 0, '0',  31),\n",
       "       ('beans20190718.nwb', 1, '0',  32),\n",
       "       ('beans20190718.nwb', 1, '0',  33),\n",
       "       ('beans20190718.nwb', 1, '0',  35),\n",
       "       ('beans20190718.nwb', 1, '0',  36),\n",
       "       ('beans20190718.nwb', 1, '0',  37),\n",
       "       ('beans20190718.nwb', 1, '0',  39),\n",
       "       ('beans20190718.nwb', 1, '0',  40),\n",
       "       ('beans20190718.nwb', 1, '0',  41),\n",
       "       ('beans20190718.nwb', 1, '0',  43),\n",
       "       ('beans20190718.nwb', 1, '0',  44),\n",
       "       ('beans20190718.nwb', 1, '0',  45),\n",
       "       ('beans20190718.nwb', 1, '0',  47),\n",
       "       ('beans20190718.nwb', 1, '0',  48),\n",
       "       ('beans20190718.nwb', 1, '0',  49),\n",
       "       ('beans20190718.nwb', 1, '0',  51),\n",
       "       ('beans20190718.nwb', 1, '0',  52),\n",
       "       ('beans20190718.nwb', 1, '0',  53),\n",
       "       ('beans20190718.nwb', 1, '0',  55),\n",
       "       ('beans20190718.nwb', 1, '0',  56),\n",
       "       ('beans20190718.nwb', 1, '0',  57),\n",
       "       ('beans20190718.nwb', 1, '0',  59),\n",
       "       ('beans20190718.nwb', 1, '0',  60),\n",
       "       ('beans20190718.nwb', 1, '0',  61),\n",
       "       ('beans20190718.nwb', 1, '0',  63),\n",
       "       ('beans20190718.nwb', 2, '0',  64),\n",
       "       ('beans20190718.nwb', 2, '0',  65),\n",
       "       ('beans20190718.nwb', 2, '0',  67),\n",
       "       ('beans20190718.nwb', 2, '0',  68),\n",
       "       ('beans20190718.nwb', 2, '0',  69),\n",
       "       ('beans20190718.nwb', 2, '0',  71),\n",
       "       ('beans20190718.nwb', 2, '0',  72),\n",
       "       ('beans20190718.nwb', 2, '0',  73),\n",
       "       ('beans20190718.nwb', 2, '0',  75),\n",
       "       ('beans20190718.nwb', 2, '0',  76),\n",
       "       ('beans20190718.nwb', 2, '0',  77),\n",
       "       ('beans20190718.nwb', 2, '0',  79),\n",
       "       ('beans20190718.nwb', 2, '0',  80),\n",
       "       ('beans20190718.nwb', 2, '0',  81),\n",
       "       ('beans20190718.nwb', 2, '0',  83),\n",
       "       ('beans20190718.nwb', 2, '0',  84),\n",
       "       ('beans20190718.nwb', 2, '0',  85),\n",
       "       ('beans20190718.nwb', 2, '0',  87),\n",
       "       ('beans20190718.nwb', 2, '0',  88),\n",
       "       ('beans20190718.nwb', 2, '0',  89),\n",
       "       ('beans20190718.nwb', 2, '0',  91),\n",
       "       ('beans20190718.nwb', 2, '0',  92),\n",
       "       ('beans20190718.nwb', 2, '0',  93),\n",
       "       ('beans20190718.nwb', 2, '0',  95),\n",
       "       ('beans20190718.nwb', 3, '0',  96),\n",
       "       ('beans20190718.nwb', 3, '0',  97),\n",
       "       ('beans20190718.nwb', 3, '0',  99),\n",
       "       ('beans20190718.nwb', 3, '0', 100),\n",
       "       ('beans20190718.nwb', 3, '0', 101),\n",
       "       ('beans20190718.nwb', 3, '0', 103),\n",
       "       ('beans20190718.nwb', 3, '0', 104),\n",
       "       ('beans20190718.nwb', 3, '0', 105),\n",
       "       ('beans20190718.nwb', 3, '0', 107),\n",
       "       ('beans20190718.nwb', 3, '0', 108),\n",
       "       ('beans20190718.nwb', 3, '0', 109),\n",
       "       ('beans20190718.nwb', 3, '0', 111),\n",
       "       ('beans20190718.nwb', 3, '0', 112),\n",
       "       ('beans20190718.nwb', 3, '0', 113),\n",
       "       ('beans20190718.nwb', 3, '0', 115),\n",
       "       ('beans20190718.nwb', 3, '0', 116),\n",
       "       ('beans20190718.nwb', 3, '0', 117),\n",
       "       ('beans20190718.nwb', 3, '0', 119),\n",
       "       ('beans20190718.nwb', 3, '0', 120),\n",
       "       ('beans20190718.nwb', 3, '0', 121),\n",
       "       ('beans20190718.nwb', 3, '0', 123),\n",
       "       ('beans20190718.nwb', 3, '0', 124),\n",
       "       ('beans20190718.nwb', 3, '0', 125),\n",
       "       ('beans20190718.nwb', 3, '0', 127),\n",
       "       ('beans20190718.nwb', 4, '1', 128),\n",
       "       ('beans20190718.nwb', 4, '1', 129),\n",
       "       ('beans20190718.nwb', 4, '1', 131),\n",
       "       ('beans20190718.nwb', 4, '1', 132),\n",
       "       ('beans20190718.nwb', 4, '1', 133),\n",
       "       ('beans20190718.nwb', 4, '1', 135),\n",
       "       ('beans20190718.nwb', 4, '1', 136),\n",
       "       ('beans20190718.nwb', 4, '1', 137),\n",
       "       ('beans20190718.nwb', 4, '1', 139),\n",
       "       ('beans20190718.nwb', 4, '1', 140),\n",
       "       ('beans20190718.nwb', 4, '1', 141),\n",
       "       ('beans20190718.nwb', 4, '1', 143),\n",
       "       ('beans20190718.nwb', 4, '1', 144),\n",
       "       ('beans20190718.nwb', 4, '1', 145),\n",
       "       ('beans20190718.nwb', 4, '1', 147),\n",
       "       ('beans20190718.nwb', 4, '1', 148),\n",
       "       ('beans20190718.nwb', 4, '1', 149),\n",
       "       ('beans20190718.nwb', 4, '1', 151),\n",
       "       ('beans20190718.nwb', 4, '1', 152),\n",
       "       ('beans20190718.nwb', 4, '1', 153),\n",
       "       ('beans20190718.nwb', 4, '1', 155),\n",
       "       ('beans20190718.nwb', 4, '1', 156),\n",
       "       ('beans20190718.nwb', 4, '1', 157),\n",
       "       ('beans20190718.nwb', 4, '1', 159),\n",
       "       ('beans20190718.nwb', 5, '1', 160),\n",
       "       ('beans20190718.nwb', 5, '1', 161),\n",
       "       ('beans20190718.nwb', 5, '1', 163),\n",
       "       ('beans20190718.nwb', 5, '1', 164),\n",
       "       ('beans20190718.nwb', 5, '1', 165),\n",
       "       ('beans20190718.nwb', 5, '1', 167),\n",
       "       ('beans20190718.nwb', 5, '1', 168),\n",
       "       ('beans20190718.nwb', 5, '1', 169),\n",
       "       ('beans20190718.nwb', 5, '1', 171),\n",
       "       ('beans20190718.nwb', 5, '1', 172),\n",
       "       ('beans20190718.nwb', 5, '1', 173),\n",
       "       ('beans20190718.nwb', 5, '1', 175),\n",
       "       ('beans20190718.nwb', 5, '1', 176),\n",
       "       ('beans20190718.nwb', 5, '1', 177),\n",
       "       ('beans20190718.nwb', 5, '1', 179),\n",
       "       ('beans20190718.nwb', 5, '1', 180),\n",
       "       ('beans20190718.nwb', 5, '1', 181),\n",
       "       ('beans20190718.nwb', 5, '1', 183),\n",
       "       ('beans20190718.nwb', 5, '1', 184),\n",
       "       ('beans20190718.nwb', 5, '1', 185),\n",
       "       ('beans20190718.nwb', 5, '1', 187),\n",
       "       ('beans20190718.nwb', 5, '1', 188),\n",
       "       ('beans20190718.nwb', 5, '1', 189),\n",
       "       ('beans20190718.nwb', 5, '1', 191),\n",
       "       ('beans20190718.nwb', 6, '1', 192),\n",
       "       ('beans20190718.nwb', 6, '1', 193),\n",
       "       ('beans20190718.nwb', 6, '1', 195),\n",
       "       ('beans20190718.nwb', 6, '1', 196),\n",
       "       ('beans20190718.nwb', 6, '1', 197),\n",
       "       ('beans20190718.nwb', 6, '1', 199),\n",
       "       ('beans20190718.nwb', 6, '1', 200),\n",
       "       ('beans20190718.nwb', 6, '1', 201),\n",
       "       ('beans20190718.nwb', 6, '1', 203),\n",
       "       ('beans20190718.nwb', 6, '1', 204),\n",
       "       ('beans20190718.nwb', 6, '1', 205),\n",
       "       ('beans20190718.nwb', 6, '1', 207),\n",
       "       ('beans20190718.nwb', 6, '1', 208),\n",
       "       ('beans20190718.nwb', 6, '1', 209),\n",
       "       ('beans20190718.nwb', 6, '1', 211),\n",
       "       ('beans20190718.nwb', 6, '1', 212),\n",
       "       ('beans20190718.nwb', 6, '1', 213),\n",
       "       ('beans20190718.nwb', 6, '1', 215),\n",
       "       ('beans20190718.nwb', 6, '1', 216),\n",
       "       ('beans20190718.nwb', 6, '1', 217),\n",
       "       ('beans20190718.nwb', 6, '1', 219),\n",
       "       ('beans20190718.nwb', 6, '1', 220),\n",
       "       ('beans20190718.nwb', 6, '1', 221),\n",
       "       ('beans20190718.nwb', 6, '1', 223),\n",
       "       ('beans20190718.nwb', 7, '1', 224),\n",
       "       ('beans20190718.nwb', 7, '1', 225),\n",
       "       ('beans20190718.nwb', 7, '1', 227),\n",
       "       ('beans20190718.nwb', 7, '1', 228),\n",
       "       ('beans20190718.nwb', 7, '1', 229),\n",
       "       ('beans20190718.nwb', 7, '1', 231),\n",
       "       ('beans20190718.nwb', 7, '1', 232),\n",
       "       ('beans20190718.nwb', 7, '1', 233),\n",
       "       ('beans20190718.nwb', 7, '1', 235),\n",
       "       ('beans20190718.nwb', 7, '1', 236),\n",
       "       ('beans20190718.nwb', 7, '1', 237),\n",
       "       ('beans20190718.nwb', 7, '1', 239),\n",
       "       ('beans20190718.nwb', 7, '1', 240),\n",
       "       ('beans20190718.nwb', 7, '1', 241),\n",
       "       ('beans20190718.nwb', 7, '1', 243),\n",
       "       ('beans20190718.nwb', 7, '1', 244),\n",
       "       ('beans20190718.nwb', 7, '1', 245),\n",
       "       ('beans20190718.nwb', 7, '1', 247),\n",
       "       ('beans20190718.nwb', 7, '1', 248),\n",
       "       ('beans20190718.nwb', 7, '1', 249),\n",
       "       ('beans20190718.nwb', 7, '1', 251),\n",
       "       ('beans20190718.nwb', 7, '1', 252),\n",
       "       ('beans20190718.nwb', 7, '1', 253),\n",
       "       ('beans20190718.nwb', 7, '1', 255)],\n",
       "      dtype=[('nwb_file_name', 'O'), ('sort_group_id', '<i8'), ('electrode_group_name', 'O'), ('electrode_id', '<i8')])"
      ]
     },
     "execution_count": 5,
     "metadata": {},
     "output_type": "execute_result"
    }
   ],
   "source": [
    "nd.common.SortGroup.SortGroupElectrode().fetch()"
   ]
  },
  {
   "cell_type": "markdown",
   "metadata": {},
   "source": [
    "### create the spike sorter and parameter lists "
   ]
  },
  {
   "cell_type": "code",
   "execution_count": 6,
   "metadata": {},
   "outputs": [
    {
     "name": "stdout",
     "output_type": "stream",
     "text": [
      "About to delete:\n",
      "`common_spikesorting`.`spike_sorter_parameters`: 11 items\n",
      "`common_spikesorting`.`spike_sorter`: 10 items\n"
     ]
    },
    {
     "name": "stdin",
     "output_type": "stream",
     "text": [
      "Proceed? [yes, No]:  yes\n"
     ]
    },
    {
     "name": "stdout",
     "output_type": "stream",
     "text": [
      "Committed.\n"
     ]
    }
   ],
   "source": [
    "nd.common.SpikeSorter().delete()\n",
    "nd.common.SpikeSorter().insert_from_spikeinterface()\n",
    "nd.common.SpikeSorterParameters().insert_from_spikeinterface()"
   ]
  },
  {
   "cell_type": "markdown",
   "metadata": {},
   "source": [
    "### create a 'franklab_mountainsort' parameter set"
   ]
  },
  {
   "cell_type": "code",
   "execution_count": 7,
   "metadata": {},
   "outputs": [],
   "source": [
    "p = (nd.common.SpikeSorterParameters() & {'sorter_name': 'mountainsort4', 'parameter_set_name' : 'default'}).fetch1()\n",
    "param = p['parameter_dict']\n",
    "param['adjacency_radius'] = 100\n",
    "param['curation'] = False\n",
    "param['num_workers'] = 7\n",
    "param['verbose'] = True\n",
    "param['clip_size'] = 30\n",
    "param['noise_overlap_threshold'] = 0\n",
    "\n",
    "nd.common.SpikeSorterParameters().insert1({'sorter_name': 'mountainsort4', 'parameter_set_name' : 'franklab_mountainsort_20KHz', 'parameter_dict' : param}, skip_duplicates='True')"
   ]
  },
  {
   "cell_type": "markdown",
   "metadata": {},
   "source": [
    "Display the new parameter set"
   ]
  },
  {
   "cell_type": "code",
   "execution_count": 8,
   "metadata": {},
   "outputs": [
    {
     "data": {
      "text/plain": [
       "{'sorter_name': 'mountainsort4',\n",
       " 'parameter_set_name': 'franklab_mountainsort_20KHz',\n",
       " 'parameter_dict': {'detect_sign': -1,\n",
       "  'adjacency_radius': 100,\n",
       "  'freq_min': 300,\n",
       "  'freq_max': 6000,\n",
       "  'filter': True,\n",
       "  'whiten': True,\n",
       "  'curation': False,\n",
       "  'num_workers': 7,\n",
       "  'clip_size': 30,\n",
       "  'detect_threshold': 3,\n",
       "  'detect_interval': 10,\n",
       "  'noise_overlap_threshold': 0,\n",
       "  'verbose': True}}"
      ]
     },
     "execution_count": 8,
     "metadata": {},
     "output_type": "execute_result"
    }
   ],
   "source": [
    "p = (nd.common.SpikeSorterParameters() & {'sorter_name': 'mountainsort4', 'parameter_set_name' : 'franklab_mountainsort_20KHz'}).fetch1()\n",
    "p"
   ]
  },
  {
   "cell_type": "code",
   "execution_count": 9,
   "metadata": {},
   "outputs": [
    {
     "data": {
      "text/plain": [
       "{'detect_sign': -1,\n",
       " 'adjacency_radius': 100,\n",
       " 'freq_min': 300,\n",
       " 'freq_max': 6000,\n",
       " 'filter': True,\n",
       " 'whiten': True,\n",
       " 'curation': False,\n",
       " 'num_workers': 7,\n",
       " 'clip_size': 30,\n",
       " 'detect_threshold': 3,\n",
       " 'detect_interval': 10,\n",
       " 'noise_overlap_threshold': 0,\n",
       " 'verbose': True}"
      ]
     },
     "execution_count": 9,
     "metadata": {},
     "output_type": "execute_result"
    }
   ],
   "source": [
    "param = p['parameter_dict']\n",
    "param"
   ]
  },
  {
   "cell_type": "markdown",
   "metadata": {},
   "source": [
    "### Create a set of spike sorting parameters for sorting group 4"
   ]
  },
  {
   "cell_type": "code",
   "execution_count": 10,
   "metadata": {},
   "outputs": [
    {
     "name": "stdout",
     "output_type": "stream",
     "text": [
      "[[1.56348899e+09 1.56348900e+09]\n",
      " [1.56348911e+09 1.56348912e+09]]\n"
     ]
    }
   ],
   "source": [
    "# create two 10 second test intervals for debugging\n",
    "s1 = (nd.common.IntervalList() & {'interval_list_name' : '01_s1'}).fetch1('valid_times')\n",
    "a = s1[0][0]\n",
    "b = a + 10\n",
    "t = np.asarray([[a,b]])\n",
    "t = np.vstack((t, np.asarray([[a+120,b+120]])))\n",
    "nd.common.SortIntervalList().insert1({'nwb_file_name' : nwb_file_name, 'sort_interval_list_name' : 'test', 'sort_intervals' : t}, replace='True')\n",
    "\n",
    "print(t)"
   ]
  },
  {
   "cell_type": "code",
   "execution_count": 11,
   "metadata": {},
   "outputs": [
    {
     "name": "stdout",
     "output_type": "stream",
     "text": [
      "About to delete:\n",
      "Nothing to delete\n"
     ]
    }
   ],
   "source": [
    "\n",
    "nd.common.SpikeSortingParameters().delete()"
   ]
  },
  {
   "cell_type": "code",
   "execution_count": 6,
   "metadata": {},
   "outputs": [],
   "source": [
    "sort_group_id = 1\n",
    "key = dict()\n",
    "key['nwb_file_name'] = nwb_file_name\n",
    "key['sort_group_id'] = sort_group_id\n",
    "key['sorter_name'] = 'mountainsort4'\n",
    "key['parameter_set_name'] = 'franklab_mountainsort_20KHz'\n",
    "key['interval_list_name'] = '01_s1'\n",
    "key['sort_interval_list_name'] = 'test'\n",
    "nd.common.SpikeSortingParameters().insert1(key, skip_duplicates='True')"
   ]
  },
  {
   "cell_type": "code",
   "execution_count": 13,
   "metadata": {},
   "outputs": [
    {
     "data": {
      "text/plain": [
       "{'nwb_file_name': 'beans20190718.nwb',\n",
       " 'sort_interval_list_name': 'test',\n",
       " 'sort_intervals': array([[1.56348899e+09, 1.56348900e+09],\n",
       "        [1.56348911e+09, 1.56348912e+09]])}"
      ]
     },
     "execution_count": 13,
     "metadata": {},
     "output_type": "execute_result"
    }
   ],
   "source": [
    "(nd.common.SortIntervalList()).fetch1()"
   ]
  },
  {
   "cell_type": "markdown",
   "metadata": {},
   "source": [
    "### run the sort"
   ]
  },
  {
   "cell_type": "code",
   "execution_count": 4,
   "metadata": {},
   "outputs": [
    {
     "name": "stdout",
     "output_type": "stream",
     "text": [
      "writing new NWB file beans20190718_00000006.nwb\n",
      "Sorting {'nwb_file_name': 'beans20190718.nwb', 'sort_group_id': 1, 'sorter_name': 'mountainsort4', 'parameter_set_name': 'franklab_mountainsort_20KHz', 'sort_interval_list_name': 'test', 'analysis_file_name': 'beans20190718_00000006.nwb'}...\n",
      "Warning: dumping a CacheRecordingExtractor. The path to the tmp binary file will be lost in further sessions. To prevent this, use the 'CacheRecordingExtractor.move_to('path-to-file)' function\n",
      "Using 7 workers.\n",
      "Using tmpdir: /tmp/tmpjv6dyvsj\n",
      "Num. workers = 7\n",
      "Preparing /tmp/tmpjv6dyvsj/timeseries.hdf5...\n",
      "'end_frame' set to 199999\n",
      "Preparing neighborhood sorters (M=24, N=199999)...\n",
      "Preparing output...\n",
      "Done with ms4alg.\n",
      "Cleaning tmpdir::::: /tmp/tmpjv6dyvsj\n",
      "mountainsort4 run time 15.91s\n",
      "{'sorter_name': 'mountainsort4', 'parameter_set_name': 'franklab_mountainsort_20KHz', 'parameter_dict': {'detect_sign': -1, 'adjacency_radius': 100, 'freq_min': 300, 'freq_max': 6000, 'filter': True, 'whiten': True, 'curation': False, 'num_workers': 7, 'clip_size': 30, 'detect_threshold': 3, 'detect_interval': 10, 'noise_overlap_threshold': 0, 'verbose': True}}\n",
      "Warning: dumping a CacheRecordingExtractor. The path to the tmp binary file will be lost in further sessions. To prevent this, use the 'CacheRecordingExtractor.move_to('path-to-file)' function\n",
      "Warning: dumping a CacheRecordingExtractor. The path to the tmp binary file will be lost in further sessions. To prevent this, use the 'CacheRecordingExtractor.move_to('path-to-file)' function\n",
      "Warning: dumping a CacheRecordingExtractor. The path to the tmp binary file will be lost in further sessions. To prevent this, use the 'CacheRecordingExtractor.move_to('path-to-file)' function\n",
      "Warning: dumping a CacheRecordingExtractor. The path to the tmp binary file will be lost in further sessions. To prevent this, use the 'CacheRecordingExtractor.move_to('path-to-file)' function\n",
      "Warning: dumping a CacheRecordingExtractor. The path to the tmp binary file will be lost in further sessions. To prevent this, use the 'CacheRecordingExtractor.move_to('path-to-file)' function\n",
      "Warning: dumping a CacheRecordingExtractor. The path to the tmp binary file will be lost in further sessions. To prevent this, use the 'CacheRecordingExtractor.move_to('path-to-file)' function\n",
      "Warning: dumping a CacheRecordingExtractor. The path to the tmp binary file will be lost in further sessions. To prevent this, use the 'CacheRecordingExtractor.move_to('path-to-file)' function\n",
      "Warning: dumping a CacheRecordingExtractor. The path to the tmp binary file will be lost in further sessions. To prevent this, use the 'CacheRecordingExtractor.move_to('path-to-file)' function\n",
      "Warning: dumping a CacheRecordingExtractor. The path to the tmp binary file will be lost in further sessions. To prevent this, use the 'CacheRecordingExtractor.move_to('path-to-file)' function\n",
      "Warning: dumping a CacheRecordingExtractor. The path to the tmp binary file will be lost in further sessions. To prevent this, use the 'CacheRecordingExtractor.move_to('path-to-file)' function\n",
      "Warning: dumping a CacheRecordingExtractor. The path to the tmp binary file will be lost in further sessions. To prevent this, use the 'CacheRecordingExtractor.move_to('path-to-file)' function\n",
      "Warning: dumping a CacheRecordingExtractor. The path to the tmp binary file will be lost in further sessions. To prevent this, use the 'CacheRecordingExtractor.move_to('path-to-file)' function\n",
      "Warning: dumping a CacheRecordingExtractor. The path to the tmp binary file will be lost in further sessions. To prevent this, use the 'CacheRecordingExtractor.move_to('path-to-file)' function\n",
      "Warning: dumping a CacheRecordingExtractor. The path to the tmp binary file will be lost in further sessions. To prevent this, use the 'CacheRecordingExtractor.move_to('path-to-file)' function\n",
      "Warning: dumping a CacheRecordingExtractor. The path to the tmp binary file will be lost in further sessions. To prevent this, use the 'CacheRecordingExtractor.move_to('path-to-file)' function\n",
      "Warning: dumping a CacheRecordingExtractor. The path to the tmp binary file will be lost in further sessions. To prevent this, use the 'CacheRecordingExtractor.move_to('path-to-file)' function\n",
      "Warning: dumping a CacheRecordingExtractor. The path to the tmp binary file will be lost in further sessions. To prevent this, use the 'CacheRecordingExtractor.move_to('path-to-file)' function\n",
      "Warning: dumping a CacheRecordingExtractor. The path to the tmp binary file will be lost in further sessions. To prevent this, use the 'CacheRecordingExtractor.move_to('path-to-file)' function\n",
      "Warning: dumping a CacheRecordingExtractor. The path to the tmp binary file will be lost in further sessions. To prevent this, use the 'CacheRecordingExtractor.move_to('path-to-file)' function\n",
      "Warning: dumping a CacheRecordingExtractor. The path to the tmp binary file will be lost in further sessions. To prevent this, use the 'CacheRecordingExtractor.move_to('path-to-file)' function\n",
      "Warning: dumping a CacheRecordingExtractor. The path to the tmp binary file will be lost in further sessions. To prevent this, use the 'CacheRecordingExtractor.move_to('path-to-file)' function\n",
      "Warning: dumping a CacheRecordingExtractor. The path to the tmp binary file will be lost in further sessions. To prevent this, use the 'CacheRecordingExtractor.move_to('path-to-file)' function\n",
      "Warning: dumping a CacheRecordingExtractor. The path to the tmp binary file will be lost in further sessions. To prevent this, use the 'CacheRecordingExtractor.move_to('path-to-file)' function\n",
      "Warning: dumping a CacheRecordingExtractor. The path to the tmp binary file will be lost in further sessions. To prevent this, use the 'CacheRecordingExtractor.move_to('path-to-file)' function\n",
      "Warning: dumping a CacheRecordingExtractor. The path to the tmp binary file will be lost in further sessions. To prevent this, use the 'CacheRecordingExtractor.move_to('path-to-file)' function\n",
      "Warning: dumping a CacheRecordingExtractor. The path to the tmp binary file will be lost in further sessions. To prevent this, use the 'CacheRecordingExtractor.move_to('path-to-file)' function\n",
      "Warning: dumping a CacheRecordingExtractor. The path to the tmp binary file will be lost in further sessions. To prevent this, use the 'CacheRecordingExtractor.move_to('path-to-file)' function\n",
      "Warning: dumping a CacheRecordingExtractor. The path to the tmp binary file will be lost in further sessions. To prevent this, use the 'CacheRecordingExtractor.move_to('path-to-file)' function\n",
      "Warning: dumping a CacheRecordingExtractor. The path to the tmp binary file will be lost in further sessions. To prevent this, use the 'CacheRecordingExtractor.move_to('path-to-file)' function\n",
      "27\n",
      "Sorting {'nwb_file_name': 'beans20190718.nwb', 'sort_group_id': 1, 'sorter_name': 'mountainsort4', 'parameter_set_name': 'franklab_mountainsort_20KHz', 'sort_interval_list_name': 'test', 'analysis_file_name': 'beans20190718_00000006.nwb'}...\n",
      "Warning: dumping a CacheRecordingExtractor. The path to the tmp binary file will be lost in further sessions. To prevent this, use the 'CacheRecordingExtractor.move_to('path-to-file)' function\n",
      "Using 7 workers.\n",
      "Using tmpdir: /tmp/tmp4pu_b2hr\n",
      "Num. workers = 7\n",
      "Preparing /tmp/tmp4pu_b2hr/timeseries.hdf5...\n",
      "'end_frame' set to 199999\n",
      "Preparing neighborhood sorters (M=24, N=199999)...\n",
      "Preparing output...\n",
      "Done with ms4alg.\n",
      "Cleaning tmpdir::::: /tmp/tmp4pu_b2hr\n",
      "mountainsort4 run time 18.17s\n",
      "{'sorter_name': 'mountainsort4', 'parameter_set_name': 'franklab_mountainsort_20KHz', 'parameter_dict': {'detect_sign': -1, 'adjacency_radius': 100, 'freq_min': 300, 'freq_max': 6000, 'filter': True, 'whiten': True, 'curation': False, 'num_workers': 7, 'clip_size': 30, 'detect_threshold': 3, 'detect_interval': 10, 'noise_overlap_threshold': 0, 'verbose': True}}\n",
      "Warning: dumping a CacheRecordingExtractor. The path to the tmp binary file will be lost in further sessions. To prevent this, use the 'CacheRecordingExtractor.move_to('path-to-file)' function\n",
      "Warning: dumping a CacheRecordingExtractor. The path to the tmp binary file will be lost in further sessions. To prevent this, use the 'CacheRecordingExtractor.move_to('path-to-file)' function\n",
      "Warning: dumping a CacheRecordingExtractor. The path to the tmp binary file will be lost in further sessions. To prevent this, use the 'CacheRecordingExtractor.move_to('path-to-file)' function\n",
      "Warning: dumping a CacheRecordingExtractor. The path to the tmp binary file will be lost in further sessions. To prevent this, use the 'CacheRecordingExtractor.move_to('path-to-file)' function\n",
      "Warning: dumping a CacheRecordingExtractor. The path to the tmp binary file will be lost in further sessions. To prevent this, use the 'CacheRecordingExtractor.move_to('path-to-file)' function\n",
      "Warning: dumping a CacheRecordingExtractor. The path to the tmp binary file will be lost in further sessions. To prevent this, use the 'CacheRecordingExtractor.move_to('path-to-file)' function\n",
      "Warning: dumping a CacheRecordingExtractor. The path to the tmp binary file will be lost in further sessions. To prevent this, use the 'CacheRecordingExtractor.move_to('path-to-file)' function\n",
      "Warning: dumping a CacheRecordingExtractor. The path to the tmp binary file will be lost in further sessions. To prevent this, use the 'CacheRecordingExtractor.move_to('path-to-file)' function\n",
      "Warning: dumping a CacheRecordingExtractor. The path to the tmp binary file will be lost in further sessions. To prevent this, use the 'CacheRecordingExtractor.move_to('path-to-file)' function\n",
      "Warning: dumping a CacheRecordingExtractor. The path to the tmp binary file will be lost in further sessions. To prevent this, use the 'CacheRecordingExtractor.move_to('path-to-file)' function\n",
      "Warning: dumping a CacheRecordingExtractor. The path to the tmp binary file will be lost in further sessions. To prevent this, use the 'CacheRecordingExtractor.move_to('path-to-file)' function\n",
      "Warning: dumping a CacheRecordingExtractor. The path to the tmp binary file will be lost in further sessions. To prevent this, use the 'CacheRecordingExtractor.move_to('path-to-file)' function\n",
      "Warning: dumping a CacheRecordingExtractor. The path to the tmp binary file will be lost in further sessions. To prevent this, use the 'CacheRecordingExtractor.move_to('path-to-file)' function\n",
      "Warning: dumping a CacheRecordingExtractor. The path to the tmp binary file will be lost in further sessions. To prevent this, use the 'CacheRecordingExtractor.move_to('path-to-file)' function\n",
      "Warning: dumping a CacheRecordingExtractor. The path to the tmp binary file will be lost in further sessions. To prevent this, use the 'CacheRecordingExtractor.move_to('path-to-file)' function\n",
      "Warning: dumping a CacheRecordingExtractor. The path to the tmp binary file will be lost in further sessions. To prevent this, use the 'CacheRecordingExtractor.move_to('path-to-file)' function\n",
      "Warning: dumping a CacheRecordingExtractor. The path to the tmp binary file will be lost in further sessions. To prevent this, use the 'CacheRecordingExtractor.move_to('path-to-file)' function\n",
      "Warning: dumping a CacheRecordingExtractor. The path to the tmp binary file will be lost in further sessions. To prevent this, use the 'CacheRecordingExtractor.move_to('path-to-file)' function\n",
      "Warning: dumping a CacheRecordingExtractor. The path to the tmp binary file will be lost in further sessions. To prevent this, use the 'CacheRecordingExtractor.move_to('path-to-file)' function\n",
      "Warning: dumping a CacheRecordingExtractor. The path to the tmp binary file will be lost in further sessions. To prevent this, use the 'CacheRecordingExtractor.move_to('path-to-file)' function\n",
      "Warning: dumping a CacheRecordingExtractor. The path to the tmp binary file will be lost in further sessions. To prevent this, use the 'CacheRecordingExtractor.move_to('path-to-file)' function\n",
      "Warning: dumping a CacheRecordingExtractor. The path to the tmp binary file will be lost in further sessions. To prevent this, use the 'CacheRecordingExtractor.move_to('path-to-file)' function\n",
      "Warning: dumping a CacheRecordingExtractor. The path to the tmp binary file will be lost in further sessions. To prevent this, use the 'CacheRecordingExtractor.move_to('path-to-file)' function\n",
      "Warning: dumping a CacheRecordingExtractor. The path to the tmp binary file will be lost in further sessions. To prevent this, use the 'CacheRecordingExtractor.move_to('path-to-file)' function\n",
      "Warning: dumping a CacheRecordingExtractor. The path to the tmp binary file will be lost in further sessions. To prevent this, use the 'CacheRecordingExtractor.move_to('path-to-file)' function\n",
      "Warning: dumping a CacheRecordingExtractor. The path to the tmp binary file will be lost in further sessions. To prevent this, use the 'CacheRecordingExtractor.move_to('path-to-file)' function\n",
      "Warning: dumping a CacheRecordingExtractor. The path to the tmp binary file will be lost in further sessions. To prevent this, use the 'CacheRecordingExtractor.move_to('path-to-file)' function\n",
      "Warning: dumping a CacheRecordingExtractor. The path to the tmp binary file will be lost in further sessions. To prevent this, use the 'CacheRecordingExtractor.move_to('path-to-file)' function\n",
      "Warning: dumping a CacheRecordingExtractor. The path to the tmp binary file will be lost in further sessions. To prevent this, use the 'CacheRecordingExtractor.move_to('path-to-file)' function\n",
      "Warning: dumping a CacheRecordingExtractor. The path to the tmp binary file will be lost in further sessions. To prevent this, use the 'CacheRecordingExtractor.move_to('path-to-file)' function\n",
      "28\n"
     ]
    }
   ],
   "source": [
    "nd.common.SpikeSorting().populate()"
   ]
  },
  {
   "cell_type": "markdown",
   "metadata": {},
   "source": [
    "\n",
    "### Example: Retrieve the spike trains:"
   ]
  },
  {
   "cell_type": "code",
   "execution_count": 7,
   "metadata": {},
   "outputs": [],
   "source": [
    "sorting = (nd.common.SpikeSorting & {'nwb_file_name' : nwb_file_name, 'sort_group_id' : sort_group_id}).fetch()\n",
    "key = {'nwb_file_name' : nwb_file_name, 'sort_group_id' : sort_group_id}\n",
    "units = (nd.common.SpikeSorting & key).fetch_nwb()[0]['units'].to_dataframe()\n"
   ]
  },
  {
   "cell_type": "code",
   "execution_count": 15,
   "metadata": {},
   "outputs": [
    {
     "data": {
      "text/plain": [
       "array([[ -83.,  -73.,  -96., -100., -100., -101., -101., -116., -106.,\n",
       "        -150.,  -90., -108., -108.,  -64.,  -39.,  -71.,  -23.,   15.,\n",
       "           7.,   20.,   61.,   49.,   60.,   89.,   55.,   73.,   63.,\n",
       "          91.],\n",
       "       [ -64., -102.,  -83.,  -97.,  -91., -113., -124., -116., -123.,\n",
       "        -108., -110., -116.,  -71.,  -64.,  -82.,  -12.,   13.,    3.,\n",
       "          38.,   60.,   54.,   58.,   77.,   72.,   70.,   53.,   72.,\n",
       "          64.],\n",
       "       [ -41.,  -30.,  -40.,  -58.,  -62.,  -75., -120., -160., -151.,\n",
       "        -164., -181., -208., -188., -314., -471., -349., -180., -174.,\n",
       "        -161.,  -57.,  -53.,  -63.,  -28.,   -5.,    5.,   14.,   36.,\n",
       "           6.],\n",
       "       [ -48.,  -70., -107., -108.,  -67., -100., -108., -101., -100.,\n",
       "         -91.,  -97.,  -84.,  -56.,  -65.,  -67.,  -19.,   10.,   21.,\n",
       "           1.,   25.,   11.,   41.,   54.,   78.,   68.,   60.,   93.,\n",
       "          53.],\n",
       "       [ -74.,  -74.,  -68.,  -69.,  -77.,  -86.,  -99.,  -72.,  -73.,\n",
       "         -77.,  -52.,  -55.,  -42.,  -39.,  -64.,  -15.,    8.,   -5.,\n",
       "          18.,   41.,   41.,   33.,   56.,   49.,   56.,   67.,   85.,\n",
       "          69.],\n",
       "       [ -72.,  -93., -103.,  -95.,  -99., -102.,  -91., -105.,  -96.,\n",
       "         -99., -113., -102.,  -77.,  -73.,  -71.,  -42.,  -26.,  -18.,\n",
       "         -16.,   -3.,   20.,   40.,   44.,   52.,   53.,   59.,   43.,\n",
       "          71.],\n",
       "       [ -44.,  -46.,  -58.,  -68.,  -72.,  -58.,  -60.,  -43.,  -51.,\n",
       "         -61.,  -58.,  -52.,  -39.,  -32.,   -7.,  -93.,  -66.,  -54.,\n",
       "         -42.,  -39.,   -8.,  -27.,  -24.,  -20.,  -14.,  -16.,  -21.,\n",
       "           1.],\n",
       "       [-103., -105.,  -86.,  -76.,  -79.,  -88.,  -83.,  -85.,  -92.,\n",
       "        -100., -104.,  -95.,  -79.,  -79.,  -64.,  -36.,  -15.,  -37.,\n",
       "         -46.,  -20.,  -19.,    7.,   32.,   17.,   57.,   44.,   43.,\n",
       "          15.],\n",
       "       [-100.,  -50.,  -91.,  -82.,  -85., -100., -110., -113., -123.,\n",
       "        -117., -105.,  -88.,  -92.,  -70.,  -60.,  -20.,    8.,  -13.,\n",
       "           4.,    5.,   16.,   36.,   29.,   46.,   52.,   47.,   37.,\n",
       "          77.],\n",
       "       [ -74.,  -90., -119.,  -98.,  -99., -114., -111., -119., -122.,\n",
       "        -119., -118.,  -98.,  -76.,  -80.,  -38.,  -23.,   -9.,  -38.,\n",
       "          -3.,  -10.,    1.,    5.,   18.,   21.,   22.,   30.,   37.,\n",
       "          39.],\n",
       "       [ -16.,    2.,  -35.,  -26.,   -3.,  -38.,  -33.,  -24.,  -26.,\n",
       "         -33.,  -32.,  -15.,   61.,  -12.,  -73.,  -36.,   16.,    4.,\n",
       "         -22.,   22.,   10.,   -5.,    2.,    7.,    7.,    7.,   26.,\n",
       "           3.],\n",
       "       [ -73.,  -93.,  -99.,  -88.,  -96.,  -97., -115., -121., -136.,\n",
       "        -127., -133., -113., -107.,  -91.,  -54.,  -44.,   -8.,  -11.,\n",
       "          -2.,   14.,   13.,   18.,   24.,   19.,   22.,   39.,   55.,\n",
       "          43.],\n",
       "       [ -60.,  -87.,  -72.,  -94.,  -89.,  -93., -108., -110., -103.,\n",
       "        -125.,  -98.,  -83., -104.,  -74.,  -60.,  -61.,  -22.,    9.,\n",
       "          -3.,    2.,   35.,   24.,   26.,   42.,   39.,   46.,   62.,\n",
       "          57.],\n",
       "       [ -68.,  -66., -112., -114., -110., -101., -104., -107., -131.,\n",
       "        -131., -121.,  -93., -107.,  -72.,  -56.,  -65.,  -55.,   -8.,\n",
       "         -10.,   32.,    6.,    8.,   15.,   44.,   49.,   42.,   40.,\n",
       "          47.],\n",
       "       [ -19.,  -24.,  -19.,   -1.,  -29.,  -11.,  -32.,  -20.,  -20.,\n",
       "         -21.,    3.,    2.,  -10.,   17.,   -7.,  -47.,  -55.,   12.,\n",
       "          -4.,   -1.,    7.,   -2.,   11.,   11.,    3.,    6.,    6.,\n",
       "          29.],\n",
       "       [ -68.,  -73.,  -88., -101., -107.,  -74.,  -63.,  -93.,  -83.,\n",
       "        -112.,  -90.,  -74.,  -47.,  -56.,  -37.,  -34.,  -53.,  -22.,\n",
       "         -19.,  -13.,  -17.,   16.,   35.,   46.,   49.,   55.,   55.,\n",
       "          71.],\n",
       "       [ -56.,  -71.,  -74.,  -95.,  -85.,  -90.,  -93., -112.,  -85.,\n",
       "        -106., -101.,  -92.,  -99.,  -82.,  -63.,  -47.,  -22.,    1.,\n",
       "          -5.,    3.,   39.,   28.,   24.,   50.,   48.,   39.,   53.,\n",
       "          52.],\n",
       "       [ -97.,  -93.,  -91.,  -88.,  -75.,  -86.,  -89.,  -77.,  -95.,\n",
       "        -108.,  -99.,  -94.,  -87.,  -77.,  -49.,  -62.,  -35.,  -24.,\n",
       "          -5.,   -2.,  -13.,    2.,   28.,   29.,   38.,   54.,   51.,\n",
       "          68.],\n",
       "       [ -10.,  -10.,  -31.,  -13.,  -34.,  -30.,  -15.,  -31.,  -24.,\n",
       "         -44.,  -26.,  -21.,  -28.,    4.,  -16.,  -50.,  -29.,   31.,\n",
       "          12.,   16.,   33.,   13.,   29.,   24.,   54.,   41.,   37.,\n",
       "          49.],\n",
       "       [-107., -111., -142., -149., -124., -104.,  -99., -116., -113.,\n",
       "        -126., -110.,  -89.,  -63.,  -41.,  -63.,  -43.,  -45.,  -72.,\n",
       "         -50.,  -28.,  -12.,   -7.,    8.,   52.,   23.,   34.,   50.,\n",
       "          36.],\n",
       "       [ -94., -114., -134., -118.,  -90., -108.,  -97.,  -99.,  -97.,\n",
       "        -102., -108.,  -83.,  -73.,  -79.,  -57.,  -34.,  -16.,  -14.,\n",
       "          16.,    8.,  -12.,   24.,   26.,   32.,   27.,   25.,   18.,\n",
       "          19.],\n",
       "       [-113., -124., -124., -109.,  -86.,  -85., -102.,  -90., -113.,\n",
       "        -107., -111.,  -87.,  -56.,  -72.,  -61.,  -52.,  -15.,  -25.,\n",
       "         -27.,   -2.,    3.,   17.,   35.,   46.,   37.,   54.,   57.,\n",
       "          13.],\n",
       "       [ -30.,  -21.,  -42.,  -40.,  -32.,  -43.,  -48.,  -51.,  -49.,\n",
       "         -43.,  -48.,  -51.,    4.,  -55., -125.,  -62.,   -2.,    4.,\n",
       "         -12.,   -2.,   -1.,    5.,  -16.,    0.,    6.,   16.,   21.,\n",
       "          22.],\n",
       "       [ -98.,  -70., -119.,  -99.,  -79., -115., -106., -110., -101.,\n",
       "        -131., -111.,  -97.,  -76.,  -94.,  -78.,  -39.,    4.,   -5.,\n",
       "         -25.,  -12.,  -13.,   34.,   11.,   25.,   52.,   34.,   32.,\n",
       "          40.]])"
      ]
     },
     "execution_count": 15,
     "metadata": {},
     "output_type": "execute_result"
    }
   ],
   "source": [
    "units.iloc[2].waveform_mean"
   ]
  },
  {
   "cell_type": "code",
   "execution_count": 15,
   "metadata": {},
   "outputs": [],
   "source": [
    "unit_timestamps = []\n",
    "unit_labels=[]\n",
    "for index, unit in units.iterrows():\n",
    "    if np.ndarray.all(np.ravel(unit['sort_interval']) == sort_interval):\n",
    "        unit_timestamps.extend(unit['spike_times'])\n",
    "        unit_labels.extend([index]*len(unit['spike_times']))"
   ]
  },
  {
   "cell_type": "code",
   "execution_count": 10,
   "metadata": {},
   "outputs": [
    {
     "name": "stderr",
     "output_type": "stream",
     "text": [
      "/Users/loren/opt/anaconda3/envs/nwbdj/lib/python3.8/site-packages/ipykernel/ipkernel.py:287: DeprecationWarning: `should_run_async` will not call `transform_cell` automatically in the future. Please pass the result to `transformed_cell` argument and any exception that happen during thetransform in `preprocessing_exc_tuple` in IPython 7.17 and above.\n",
      "  and should_run_async(code)\n"
     ]
    }
   ],
   "source": [
    "s = nd.common.get_sorting_extractor(key, sort_interval)"
   ]
  },
  {
   "cell_type": "code",
   "execution_count": 12,
   "metadata": {},
   "outputs": [
    {
     "name": "stderr",
     "output_type": "stream",
     "text": [
      "/Users/loren/opt/anaconda3/envs/nwbdj/lib/python3.8/site-packages/ipykernel/ipkernel.py:287: DeprecationWarning: `should_run_async` will not call `transform_cell` automatically in the future. Please pass the result to `transformed_cell` argument and any exception that happen during thetransform in `preprocessing_exc_tuple` in IPython 7.17 and above.\n",
      "  and should_run_async(code)\n"
     ]
    },
    {
     "data": {
      "text/plain": [
       "[1,\n",
       " 2,\n",
       " 3,\n",
       " 4,\n",
       " 5,\n",
       " 6,\n",
       " 7,\n",
       " 8,\n",
       " 9,\n",
       " 10,\n",
       " 11,\n",
       " 12,\n",
       " 13,\n",
       " 14,\n",
       " 15,\n",
       " 16,\n",
       " 17,\n",
       " 18,\n",
       " 19,\n",
       " 20,\n",
       " 21,\n",
       " 22,\n",
       " 23,\n",
       " 24,\n",
       " 25,\n",
       " 26,\n",
       " 27]"
      ]
     },
     "execution_count": 12,
     "metadata": {},
     "output_type": "execute_result"
    }
   ],
   "source": []
  },
  {
   "cell_type": "code",
   "execution_count": null,
   "metadata": {},
   "outputs": [],
   "source": []
  },
  {
   "cell_type": "code",
   "execution_count": 11,
   "metadata": {},
   "outputs": [
    {
     "name": "stdout",
     "output_type": "stream",
     "text": [
      "pynwb                     1.3.3                    pypi_0    pypi\n"
     ]
    }
   ],
   "source": [
    "!conda list | grep pynwb"
   ]
  }
 ],
 "metadata": {
  "kernelspec": {
   "display_name": "Python [conda env:nwbdj1] *",
   "language": "python",
   "name": "conda-env-nwbdj1-py"
  },
  "language_info": {
   "codemirror_mode": {
    "name": "ipython",
    "version": 3
   },
   "file_extension": ".py",
   "mimetype": "text/x-python",
   "name": "python",
   "nbconvert_exporter": "python",
   "pygments_lexer": "ipython3",
   "version": "3.8.0"
  }
 },
 "nbformat": 4,
 "nbformat_minor": 4
}
