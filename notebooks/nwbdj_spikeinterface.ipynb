{
 "cells": [
  {
   "cell_type": "markdown",
   "metadata": {},
   "source": [
    "# This notebook assumes that you've imported one or more NWB files into DataJoint \n",
    "# It allows you to run spikesorters on those data using the SpikeInterface package"
   ]
  },
  {
   "cell_type": "markdown",
   "metadata": {},
   "source": [
    "#### Load all of the relevant modules"
   ]
  },
  {
   "cell_type": "code",
   "execution_count": 1,
   "metadata": {},
   "outputs": [
    {
     "name": "stdout",
     "output_type": "stream",
     "text": [
      "env: DJ_SUPPORT_FILEPATH_MANAGEMENT=TRUE\n",
      "Connecting root@localhost:3306\n"
     ]
    },
    {
     "name": "stderr",
     "output_type": "stream",
     "text": [
      "16:52:45 [I] klustakwik KlustaKwik2 version 0.2.6\n"
     ]
    }
   ],
   "source": [
    "%env DJ_SUPPORT_FILEPATH_MANAGEMENT=TRUE\n",
    "%load_ext autoreload\n",
    "%autoreload 2\n",
    "\n",
    "import os\n",
    "data_dir = '/Users/loren/data/nwb_builder_test_data'\n",
    "os.environ['NWB_DATAJOINT_BASE_DIR'] = data_dir\n",
    "os.environ['KACHERY_STORAGE_DIR'] = os.path.join(data_dir, 'kachery-storage')\n",
    "\n",
    "import pynwb\n",
    "import os\n",
    "\n",
    "#DataJoint and DataJoint schema\n",
    "import nwb_datajoint as nd\n",
    "import datajoint as dj\n",
    "\n",
    "import spikeinterface as si\n",
    "import spikeextractors as se"
   ]
  },
  {
   "cell_type": "markdown",
   "metadata": {},
   "source": [
    "### Set the nwb file name and the name of the probe file to create from DataJoint"
   ]
  },
  {
   "cell_type": "code",
   "execution_count": 2,
   "metadata": {},
   "outputs": [],
   "source": [
    "nwb_file_name = (nd.common.Session() & {'session_id': 'beans_01'}).fetch1('nwb_file_name')\n",
    "probe_file_name = '/Users/loren/data/nwb_builder_test_data/test.prb'"
   ]
  },
  {
   "cell_type": "code",
   "execution_count": 3,
   "metadata": {},
   "outputs": [
    {
     "name": "stdout",
     "output_type": "stream",
     "text": [
      "About to delete:\n",
      "`common_ephys`.`sort_group__sort_group_electrode`: 256 items\n",
      "`common_ephys`.`sort_group`: 8 items\n"
     ]
    },
    {
     "name": "stdin",
     "output_type": "stream",
     "text": [
      "Proceed? [yes, No]:  yes\n"
     ]
    },
    {
     "name": "stdout",
     "output_type": "stream",
     "text": [
      "Committed.\n"
     ]
    }
   ],
   "source": [
    "nd.common.SortGroup().set_group_by_shank(nwb_file_name)\n"
   ]
  },
  {
   "cell_type": "code",
   "execution_count": 11,
   "metadata": {},
   "outputs": [
    {
     "data": {
      "text/html": [
       "\n",
       "        \n",
       "        <style type=\"text/css\">\n",
       "            .Relation{\n",
       "                border-collapse:collapse;\n",
       "            }\n",
       "            .Relation th{\n",
       "                background: #A0A0A0; color: #ffffff; padding:4px; border:#f0e0e0 1px solid;\n",
       "                font-weight: normal; font-family: monospace; font-size: 100%;\n",
       "            }\n",
       "            .Relation td{\n",
       "                padding:4px; border:#f0e0e0 1px solid; font-size:100%;\n",
       "            }\n",
       "            .Relation tr:nth-child(odd){\n",
       "                background: #ffffff;\n",
       "            }\n",
       "            .Relation tr:nth-child(even){\n",
       "                background: #f3f1ff;\n",
       "            }\n",
       "            /* Tooltip container */\n",
       "            .djtooltip {\n",
       "            }\n",
       "            /* Tooltip text */\n",
       "            .djtooltip .djtooltiptext {\n",
       "                visibility: hidden;\n",
       "                width: 120px;\n",
       "                background-color: black;\n",
       "                color: #fff;\n",
       "                text-align: center;\n",
       "                padding: 5px 0;\n",
       "                border-radius: 6px;\n",
       "                /* Position the tooltip text - see examples below! */\n",
       "                position: absolute;\n",
       "                z-index: 1;\n",
       "            }\n",
       "            #primary {\n",
       "                font-weight: bold;\n",
       "                color: black;\n",
       "            }\n",
       "\n",
       "            #nonprimary {\n",
       "                font-weight: normal;\n",
       "                color: white;\n",
       "            }\n",
       "\n",
       "            /* Show the tooltip text when you mouse over the tooltip container */\n",
       "            .djtooltip:hover .djtooltiptext {\n",
       "                visibility: visible;\n",
       "            }\n",
       "        </style>\n",
       "        \n",
       "        <b></b>\n",
       "            <div style=\"max-height:1000px;max-width:1500px;overflow:auto;\">\n",
       "            <table border=\"1\" class=\"Relation\">\n",
       "                <thead> <tr style=\"text-align: right;\"> <th> <div class=\"djtooltip\">\n",
       "                                <p id=\"primary\">nwb_file_name</p>\n",
       "                                <span class=\"djtooltiptext\">the name of the NWB file</span>\n",
       "                            </div></th><th><div class=\"djtooltip\">\n",
       "                                <p id=\"primary\">sort_group_id</p>\n",
       "                                <span class=\"djtooltiptext\">identifier for a group of electrodes</span>\n",
       "                            </div></th><th><div class=\"djtooltip\">\n",
       "                                <p id=\"primary\">electrode_group_name</p>\n",
       "                                <span class=\"djtooltiptext\">electrode group name from NWBFile</span>\n",
       "                            </div></th><th><div class=\"djtooltip\">\n",
       "                                <p id=\"primary\">electrode_id</p>\n",
       "                                <span class=\"djtooltiptext\">the unique number for this electrode</span>\n",
       "                            </div></th><th><div class=\"djtooltip\">\n",
       "                                <p id=\"nonprimary\">sort_reference_electrode</p>\n",
       "                                <span class=\"djtooltiptext\">the electrode to use for reference. -1: no reference, -2: common median</span>\n",
       "                            </div> </th> </tr> </thead>\n",
       "                <tbody> <tr> <td>beans20190718.nwb</td>\n",
       "<td>0</td>\n",
       "<td>0</td>\n",
       "<td>0</td>\n",
       "<td>-1</td></tr><tr><td>beans20190718.nwb</td>\n",
       "<td>0</td>\n",
       "<td>0</td>\n",
       "<td>1</td>\n",
       "<td>-1</td></tr><tr><td>beans20190718.nwb</td>\n",
       "<td>0</td>\n",
       "<td>0</td>\n",
       "<td>2</td>\n",
       "<td>-1</td></tr><tr><td>beans20190718.nwb</td>\n",
       "<td>0</td>\n",
       "<td>0</td>\n",
       "<td>3</td>\n",
       "<td>-1</td></tr><tr><td>beans20190718.nwb</td>\n",
       "<td>0</td>\n",
       "<td>0</td>\n",
       "<td>4</td>\n",
       "<td>-1</td></tr><tr><td>beans20190718.nwb</td>\n",
       "<td>0</td>\n",
       "<td>0</td>\n",
       "<td>5</td>\n",
       "<td>-1</td></tr><tr><td>beans20190718.nwb</td>\n",
       "<td>0</td>\n",
       "<td>0</td>\n",
       "<td>6</td>\n",
       "<td>-1</td></tr><tr><td>beans20190718.nwb</td>\n",
       "<td>0</td>\n",
       "<td>0</td>\n",
       "<td>7</td>\n",
       "<td>-1</td></tr><tr><td>beans20190718.nwb</td>\n",
       "<td>0</td>\n",
       "<td>0</td>\n",
       "<td>8</td>\n",
       "<td>-1</td></tr><tr><td>beans20190718.nwb</td>\n",
       "<td>0</td>\n",
       "<td>0</td>\n",
       "<td>9</td>\n",
       "<td>-1</td></tr><tr><td>beans20190718.nwb</td>\n",
       "<td>0</td>\n",
       "<td>0</td>\n",
       "<td>10</td>\n",
       "<td>-1</td></tr><tr><td>beans20190718.nwb</td>\n",
       "<td>0</td>\n",
       "<td>0</td>\n",
       "<td>11</td>\n",
       "<td>-1</td> </tr> </tbody>\n",
       "            </table>\n",
       "            <p>...</p>\n",
       "            <p>Total: 256</p></div>\n",
       "            "
      ],
      "text/plain": [
       "*nwb_file_name *sort_group_id *electrode_gro *electrode_id  sort_reference\n",
       "+------------+ +------------+ +------------+ +------------+ +------------+\n",
       "beans20190718. 0              0              0              -1            \n",
       "beans20190718. 0              0              1              -1            \n",
       "beans20190718. 0              0              2              -1            \n",
       "beans20190718. 0              0              3              -1            \n",
       "beans20190718. 0              0              4              -1            \n",
       "beans20190718. 0              0              5              -1            \n",
       "beans20190718. 0              0              6              -1            \n",
       "beans20190718. 0              0              7              -1            \n",
       "beans20190718. 0              0              8              -1            \n",
       "beans20190718. 0              0              9              -1            \n",
       "beans20190718. 0              0              10             -1            \n",
       "beans20190718. 0              0              11             -1            \n",
       "   ...\n",
       " (Total: 256)"
      ]
     },
     "execution_count": 11,
     "metadata": {},
     "output_type": "execute_result"
    }
   ],
   "source": [
    "nd.common.SortGroup.SortGroupElectrode()"
   ]
  },
  {
   "cell_type": "code",
   "execution_count": 3,
   "metadata": {},
   "outputs": [],
   "source": [
    "nd.common.SortGroup().write_prb(nwb_file_name, probe_file_name)"
   ]
  },
  {
   "cell_type": "code",
   "execution_count": 4,
   "metadata": {},
   "outputs": [],
   "source": [
    "recording = se.NwbRecordingExtractor(nd.common.Nwbfile.get_abs_path(nwb_file_name), electrical_series_name='e-series')\n",
    "\n"
   ]
  },
  {
   "cell_type": "code",
   "execution_count": 5,
   "metadata": {},
   "outputs": [],
   "source": [
    "recording = recording.load_probe_file(probe_file_name)\n",
    "\n",
    "\n",
    "#p = si.widgets.plot_electrode_geometry(recording)"
   ]
  },
  {
   "cell_type": "code",
   "execution_count": 6,
   "metadata": {},
   "outputs": [
    {
     "name": "stdout",
     "output_type": "stream",
     "text": [
      "About to delete:\n",
      "Nothing to delete\n"
     ]
    },
    {
     "name": "stderr",
     "output_type": "stream",
     "text": [
      "/Users/loren/opt/anaconda3/envs/nwbdj/lib/python3.7/site-packages/datajoint/blob.py:180: DeprecationWarning: Using or importing the ABCs from 'collections' instead of from 'collections.abc' is deprecated since Python 3.3,and in 3.9 it will stop working\n",
      "  if isinstance(obj, collections.ByteString):\n",
      "/Users/loren/opt/anaconda3/envs/nwbdj/lib/python3.7/site-packages/datajoint/blob.py:182: DeprecationWarning: Using or importing the ABCs from 'collections' instead of from 'collections.abc' is deprecated since Python 3.3,and in 3.9 it will stop working\n",
      "  if isinstance(obj, collections.MutableSequence):\n",
      "/Users/loren/opt/anaconda3/envs/nwbdj/lib/python3.7/site-packages/datajoint/blob.py:184: DeprecationWarning: Using or importing the ABCs from 'collections' instead of from 'collections.abc' is deprecated since Python 3.3,and in 3.9 it will stop working\n",
      "  if isinstance(obj, collections.Sequence):\n",
      "/Users/loren/opt/anaconda3/envs/nwbdj/lib/python3.7/site-packages/datajoint/blob.py:186: DeprecationWarning: Using or importing the ABCs from 'collections' instead of from 'collections.abc' is deprecated since Python 3.3,and in 3.9 it will stop working\n",
      "  if isinstance(obj, collections.Set):\n"
     ]
    }
   ],
   "source": [
    "nd.common.SpikeSorter().insert_from_spikeinterface()\n",
    "nd.common.SpikeSorterParameters().insert_from_spikeinterface()\n",
    "\n"
   ]
  },
  {
   "cell_type": "code",
   "execution_count": 7,
   "metadata": {},
   "outputs": [
    {
     "name": "stdout",
     "output_type": "stream",
     "text": [
      "{'sorter_name': 'mountainsort4', 'parameter_set_name': 'default', 'parameter_dict': {'detect_sign': -1, 'adjacency_radius': -1, 'freq_min': 300, 'freq_max': 6000, 'filter': True, 'whiten': True, 'curation': False, 'num_workers': None, 'clip_size': 50, 'detect_threshold': 3, 'detect_interval': 10, 'noise_overlap_threshold': 0.15}}\n"
     ]
    }
   ],
   "source": [
    "p = (nd.common.SpikeSorterParameters() & {'sorter_name': 'mountainsort4'}).fetch1()\n",
    "print(p)\n",
    "param = p['parameter_dict']\n",
    "param['adjacency_radius'] = 100\n",
    "param['curation'] = True\n",
    "param['num_workers'] = 1"
   ]
  },
  {
   "cell_type": "code",
   "execution_count": 8,
   "metadata": {},
   "outputs": [
    {
     "ename": "AttributeError",
     "evalue": "module 'nwb_datajoint.common' has no attribute 'ElectrodeSortingInfo'",
     "output_type": "error",
     "traceback": [
      "\u001b[0;31m---------------------------------------------------------------------------\u001b[0m",
      "\u001b[0;31mAttributeError\u001b[0m                            Traceback (most recent call last)",
      "\u001b[0;32m<ipython-input-8-99a087cc46ec>\u001b[0m in \u001b[0;36m<module>\u001b[0;34m\u001b[0m\n\u001b[0;32m----> 1\u001b[0;31m \u001b[0mfirst_shank_electrodes\u001b[0m \u001b[0;34m=\u001b[0m \u001b[0;34m(\u001b[0m\u001b[0mnd\u001b[0m\u001b[0;34m.\u001b[0m\u001b[0mcommon\u001b[0m\u001b[0;34m.\u001b[0m\u001b[0mElectrodeSortingInfo\u001b[0m\u001b[0;34m(\u001b[0m\u001b[0;34m)\u001b[0m \u001b[0;34m&\u001b[0m \u001b[0;34m{\u001b[0m\u001b[0;34m'nwb_file_name'\u001b[0m \u001b[0;34m:\u001b[0m \u001b[0mnwb_file_name\u001b[0m\u001b[0;34m}\u001b[0m \u001b[0;34m&\u001b[0m \u001b[0;34m{\u001b[0m\u001b[0;34m'sort_group'\u001b[0m \u001b[0;34m:\u001b[0m \u001b[0;36m0\u001b[0m\u001b[0;34m}\u001b[0m\u001b[0;34m)\u001b[0m\u001b[0;34m.\u001b[0m\u001b[0mfetch\u001b[0m\u001b[0;34m(\u001b[0m\u001b[0;34m'electrode_id'\u001b[0m\u001b[0;34m)\u001b[0m\u001b[0;34m\u001b[0m\u001b[0;34m\u001b[0m\u001b[0m\n\u001b[0m\u001b[1;32m      2\u001b[0m \u001b[0mfirst_shank_electrodes\u001b[0m\u001b[0;34m\u001b[0m\u001b[0;34m\u001b[0m\u001b[0m\n",
      "\u001b[0;31mAttributeError\u001b[0m: module 'nwb_datajoint.common' has no attribute 'ElectrodeSortingInfo'"
     ]
    }
   ],
   "source": [
    "first_shank_electrodes = (nd.common.SortGroup() & {'nwb_file_name' : nwb_file_name} & {'sort_group_id' : 0}).fetch('electrode_id')\n",
    "first_shank_electrodes"
   ]
  },
  {
   "cell_type": "code",
   "execution_count": 70,
   "metadata": {},
   "outputs": [],
   "source": [
    "first_shank_recording = se.SubRecordingExtractor(recording, channel_ids=first_shank_electrodes)"
   ]
  },
  {
   "cell_type": "code",
   "execution_count": null,
   "metadata": {},
   "outputs": [
    {
     "name": "stdout",
     "output_type": "stream",
     "text": [
      "'end_time' set to 138007758\n",
      "'end_time' set to 138007758\n"
     ]
    }
   ],
   "source": [
    "first_shank_sort = si.sorters.run_mountainsort4(recording=first_shank_recording, **param, grouping_property='group', output_folder='/Users/loren/data/nwb_builder_test_data/tmp')"
   ]
  },
  {
   "cell_type": "code",
   "execution_count": null,
   "metadata": {},
   "outputs": [],
   "source": []
  }
 ],
 "metadata": {
  "kernelspec": {
   "display_name": "Python 3",
   "language": "python",
   "name": "python3"
  },
  "language_info": {
   "codemirror_mode": {
    "name": "ipython",
    "version": 3
   },
   "file_extension": ".py",
   "mimetype": "text/x-python",
   "name": "python",
   "nbconvert_exporter": "python",
   "pygments_lexer": "ipython3",
   "version": "3.7.7"
  }
 },
 "nbformat": 4,
 "nbformat_minor": 4
}
